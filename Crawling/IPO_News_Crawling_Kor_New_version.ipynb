{
 "cells": [
  {
   "cell_type": "code",
   "execution_count": 22,
   "id": "efb791f6",
   "metadata": {},
   "outputs": [],
   "source": [
    "import re\n",
    "import time\n",
    "from glob import glob\n",
    "from tqdm import tqdm\n",
    "\n",
    "import pandas as pd\n",
    "import datetime\n",
    "from pandas import DataFrame\n",
    "from datetime import timedelta\n",
    "\n",
    "\n",
    "import requests\n",
    "import selenium\n",
    "from bs4 import BeautifulSoup\n",
    "from selenium import webdriver\n",
    "\n",
    "import warnings\n",
    "warnings.filterwarnings('ignore')"
   ]
  },
  {
   "cell_type": "code",
   "execution_count": 3,
   "id": "6fc85560",
   "metadata": {
    "scrolled": true
   },
   "outputs": [],
   "source": [
    "df_ipo = pd.read_csv('../data/IPO_basic_information.csv',encoding='cp949',index_col=0)"
   ]
  },
  {
   "cell_type": "code",
   "execution_count": 4,
   "id": "99601041",
   "metadata": {},
   "outputs": [
    {
     "data": {
      "text/html": [
       "<div>\n",
       "<style scoped>\n",
       "    .dataframe tbody tr th:only-of-type {\n",
       "        vertical-align: middle;\n",
       "    }\n",
       "\n",
       "    .dataframe tbody tr th {\n",
       "        vertical-align: top;\n",
       "    }\n",
       "\n",
       "    .dataframe thead th {\n",
       "        text-align: right;\n",
       "    }\n",
       "</style>\n",
       "<table border=\"1\" class=\"dataframe\">\n",
       "  <thead>\n",
       "    <tr style=\"text-align: right;\">\n",
       "      <th></th>\n",
       "      <th>기업명</th>\n",
       "      <th>시장구분</th>\n",
       "      <th>업종</th>\n",
       "      <th>매출액</th>\n",
       "      <th>순이익</th>\n",
       "      <th>자본금</th>\n",
       "      <th>종목코드</th>\n",
       "      <th>기업구분</th>\n",
       "      <th>확정공모가</th>\n",
       "      <th>주간사</th>\n",
       "      <th>수요예측일</th>\n",
       "      <th>공모청약일</th>\n",
       "      <th>상장일</th>\n",
       "      <th>기관경쟁률</th>\n",
       "      <th>의무보유확약</th>\n",
       "    </tr>\n",
       "  </thead>\n",
       "  <tbody>\n",
       "    <tr>\n",
       "      <th>0</th>\n",
       "      <td>바이오노트</td>\n",
       "      <td>거래소</td>\n",
       "      <td>의료용품 및 기타 의약 관련제품 제조업</td>\n",
       "      <td>622355</td>\n",
       "      <td>671556</td>\n",
       "      <td>1266407</td>\n",
       "      <td>377740</td>\n",
       "      <td>중소일반</td>\n",
       "      <td>9000</td>\n",
       "      <td>NH투자증권</td>\n",
       "      <td>2022.12.08 ~ 2022.12.09</td>\n",
       "      <td>2022.12.13 ~ 2022.12.14</td>\n",
       "      <td>2022.12.22</td>\n",
       "      <td>3.29</td>\n",
       "      <td>2.77</td>\n",
       "    </tr>\n",
       "    <tr>\n",
       "      <th>1</th>\n",
       "      <td>에스에이엠지엔터테인먼트</td>\n",
       "      <td>코스닥</td>\n",
       "      <td>영화, 비디오물, 방송프로그램 제작 및 배급업</td>\n",
       "      <td>38374</td>\n",
       "      <td>-11087</td>\n",
       "      <td>4295</td>\n",
       "      <td>419530</td>\n",
       "      <td>중소일반</td>\n",
       "      <td>17000</td>\n",
       "      <td>NH투자증권</td>\n",
       "      <td>2022.11.17 ~ 2022.11.18</td>\n",
       "      <td>2022.11.24 ~ 2022.11.25</td>\n",
       "      <td>2022.12.06</td>\n",
       "      <td>44.73</td>\n",
       "      <td>0.05</td>\n",
       "    </tr>\n",
       "    <tr>\n",
       "      <th>2</th>\n",
       "      <td>펨트론</td>\n",
       "      <td>코스닥</td>\n",
       "      <td>기타 전기장비 제조업</td>\n",
       "      <td>57871</td>\n",
       "      <td>4499</td>\n",
       "      <td>5322</td>\n",
       "      <td>168360</td>\n",
       "      <td>중소일반</td>\n",
       "      <td>8000</td>\n",
       "      <td>하나증권</td>\n",
       "      <td>2022.11.08 ~ 2022.11.09</td>\n",
       "      <td>2022.11.15 ~ 2022.11.16</td>\n",
       "      <td>2022.11.24</td>\n",
       "      <td>129.06</td>\n",
       "      <td>11.41</td>\n",
       "    </tr>\n",
       "    <tr>\n",
       "      <th>3</th>\n",
       "      <td>인벤티지랩</td>\n",
       "      <td>코스닥</td>\n",
       "      <td>의약품 제조업</td>\n",
       "      <td>1862</td>\n",
       "      <td>-9271</td>\n",
       "      <td>4102</td>\n",
       "      <td>389470</td>\n",
       "      <td>중소일반</td>\n",
       "      <td>12000</td>\n",
       "      <td>한국투자증권</td>\n",
       "      <td>2022.11.08 ~ 2022.11.09</td>\n",
       "      <td>2022.11.11 ~ 2022.11.14</td>\n",
       "      <td>2022.11.22</td>\n",
       "      <td>14.37</td>\n",
       "      <td>0.00</td>\n",
       "    </tr>\n",
       "    <tr>\n",
       "      <th>4</th>\n",
       "      <td>엔젯</td>\n",
       "      <td>코스닥</td>\n",
       "      <td>평판디스플레이 제조용 기계 제조업</td>\n",
       "      <td>10055</td>\n",
       "      <td>-29867</td>\n",
       "      <td>5258</td>\n",
       "      <td>419080</td>\n",
       "      <td>중소일반</td>\n",
       "      <td>10000</td>\n",
       "      <td>미래에셋증권</td>\n",
       "      <td>2022.11.03 ~ 2022.11.04</td>\n",
       "      <td>2022.11.09 ~ 2022.11.10</td>\n",
       "      <td>2022.11.18</td>\n",
       "      <td>42.15</td>\n",
       "      <td>6.00</td>\n",
       "    </tr>\n",
       "  </tbody>\n",
       "</table>\n",
       "</div>"
      ],
      "text/plain": [
       "            기업명 시장구분                         업종     매출액     순이익      자본금  \\\n",
       "0         바이오노트  거래소      의료용품 및 기타 의약 관련제품 제조업  622355  671556  1266407   \n",
       "1  에스에이엠지엔터테인먼트  코스닥  영화, 비디오물, 방송프로그램 제작 및 배급업   38374  -11087     4295   \n",
       "2           펨트론  코스닥                기타 전기장비 제조업   57871    4499     5322   \n",
       "3         인벤티지랩  코스닥                    의약품 제조업    1862   -9271     4102   \n",
       "4            엔젯  코스닥         평판디스플레이 제조용 기계 제조업   10055  -29867     5258   \n",
       "\n",
       "     종목코드  기업구분  확정공모가     주간사                    수요예측일  \\\n",
       "0  377740  중소일반   9000  NH투자증권  2022.12.08 ~ 2022.12.09   \n",
       "1  419530  중소일반  17000  NH투자증권  2022.11.17 ~ 2022.11.18   \n",
       "2  168360  중소일반   8000    하나증권  2022.11.08 ~ 2022.11.09   \n",
       "3  389470  중소일반  12000  한국투자증권  2022.11.08 ~ 2022.11.09   \n",
       "4  419080  중소일반  10000  미래에셋증권  2022.11.03 ~ 2022.11.04   \n",
       "\n",
       "                     공모청약일         상장일   기관경쟁률  의무보유확약  \n",
       "0  2022.12.13 ~ 2022.12.14  2022.12.22    3.29    2.77  \n",
       "1  2022.11.24 ~ 2022.11.25  2022.12.06   44.73    0.05  \n",
       "2  2022.11.15 ~ 2022.11.16  2022.11.24  129.06   11.41  \n",
       "3  2022.11.11 ~ 2022.11.14  2022.11.22   14.37    0.00  \n",
       "4  2022.11.09 ~ 2022.11.10  2022.11.18   42.15    6.00  "
      ]
     },
     "execution_count": 4,
     "metadata": {},
     "output_type": "execute_result"
    }
   ],
   "source": [
    "df_ipo.head()"
   ]
  },
  {
   "cell_type": "code",
   "execution_count": 21,
   "id": "d5b04465",
   "metadata": {
    "scrolled": true
   },
   "outputs": [
    {
     "name": "stderr",
     "output_type": "stream",
     "text": [
      "/var/folders/jx/rdhgw4n94cvb3tl_p0k9_4br0000gn/T/ipykernel_1649/567256607.py:3: SettingWithCopyWarning: \n",
      "A value is trying to be set on a copy of a slice from a DataFrame\n",
      "\n",
      "See the caveats in the documentation: https://pandas.pydata.org/pandas-docs/stable/user_guide/indexing.html#returning-a-view-versus-a-copy\n",
      "  df_ipo['기업명'][ind] = df_ipo['기업명'][ind][l:-1]\n"
     ]
    }
   ],
   "source": [
    "for ind in df_ipo.query('기업명.str.contains(\"구.\")').index.to_list():\n",
    "    l = df_ipo['기업명'][ind].find('(구.')+3\n",
    "    df_ipo['기업명'][ind] = df_ipo['기업명'][ind][l:-1]"
   ]
  },
  {
   "cell_type": "code",
   "execution_count": 23,
   "id": "d14dc706",
   "metadata": {
    "colab": {
     "base_uri": "https://localhost:8080/"
    },
    "id": "d14dc706",
    "outputId": "7fa4eb02-db24-42e7-951b-0670d8f46efe",
    "scrolled": true
   },
   "outputs": [
    {
     "name": "stderr",
     "output_type": "stream",
     "text": [
      "20it [05:48, 17.41s/it]\n",
      "\n",
      "KeyboardInterrupt\n",
      "\n"
     ]
    }
   ],
   "source": [
    "IPO_news = []\n",
    "relative_news = []\n",
    "for ind,IPO_name in tqdm(enumerate(df_ipo['기업명'])):\n",
    "    behind_date_1 = df_ipo['상장일'][ind]\n",
    "    behind_date_2 = behind_date_1.replace('.','')\n",
    "    behind_year = int(behind_date_1[:4])\n",
    "    behind_month = int(behind_date_1[5:7])\n",
    "    behind_day = int(behind_date_1[8:10])\n",
    "    behind_date = (datetime.datetime(behind_year,behind_month,behind_day) - timedelta(days=1)).strftime(\"%Y.%m.%d\")\n",
    "    behind_date_0 = behind_date.replace('.','')\n",
    "    front_date_1 = (datetime.datetime(behind_year,behind_month,behind_day)- timedelta(days=30)).strftime(\"%Y.%m.%d\")\n",
    "    front_date_2 = front_date_1.replace('.','')  \n",
    "    page_num = 1\n",
    "#-------------------------------------------------------------------------------\n",
    "    while True:\n",
    "        url = f'https://search.naver.com/search.naver?where=news&query={IPO_name}&sm=tab_opt&sort=0&photo=0&field=0&pd=3&ds={front_date_1}&de={behind_date}&from{front_date_2}to{behind_date_0}&is_sug_officeid=&nso=so:r,p:all,a:all&start={page_num}'\n",
    "        response = requests.get(url,headers={'User-Agent':'Mozilla/5.0'})\n",
    "        html = response.text\n",
    "        p_soup = BeautifulSoup(html, 'html.parser')\n",
    "        page_article = len(p_soup.select('#main_pack > section > div > div.group_news > ul > li > div > div > div > div.info_group'))\n",
    "        if len(p_soup.select('#main_pack > section > div > div.group_news > ul > li > a')) != 0:\n",
    "            for value in range(len(p_soup.select('#main_pack > section > div > div.group_news > ul > li > a'))):\n",
    "                relative_news.append([IPO_name,p_soup.select('#main_pack > section > div > div.group_news > ul > li > a')[value].attrs['href']])\n",
    "        for article in range(page_article):\n",
    "            try:\n",
    "                n_url = p_soup.select('#main_pack > section > div > div.group_news > ul > li > div > div > div > div.info_group')[article].findAll()[-1].attrs['href']\n",
    "                response = requests.get(n_url,headers={'User-Agent':'Mozilla/5.0'})\n",
    "                html = response.text\n",
    "                soup = BeautifulSoup(html, 'html.parser')\n",
    "                healine = soup.select_one('#ct > div.media_end_head.go_trans > div.media_end_head_title > h2').get_text()\n",
    "                body_text = soup.select_one('#dic_area').get_text().replace('\\n','')\n",
    "                media_coverage = soup.select_one('#ct > div.media_end_head.go_trans > div.media_end_head_top > a').attrs['href']\n",
    "                IPO_news.append([IPO_name,media_coverage,healine,body_text])        \n",
    "            except:\n",
    "                continue\n",
    "        if type(p_soup.select_one(\"a.btn_next\")) == 'NoneType':\n",
    "            break\n",
    "        elif p_soup.select_one(\"a.btn_next\").get('aria-disabled') == 'false':\n",
    "            page_num += 10\n",
    "        else:\n",
    "            break"
   ]
  },
  {
   "cell_type": "code",
   "execution_count": 12,
   "id": "054577af",
   "metadata": {},
   "outputs": [
    {
     "data": {
      "text/plain": [
       "'https://search.naver.com/search.naver?where=news&query=하이브(구.빅히트)&sm=tab_opt&sort=0&photo=0&field=0&pd=3&ds=2020.09.15&de=2020.10.14&from20200915to20201014&is_sug_officeid=&nso=so:r,p:all,a:all&start=1'"
      ]
     },
     "execution_count": 12,
     "metadata": {},
     "output_type": "execute_result"
    }
   ],
   "source": [
    "url"
   ]
  },
  {
   "cell_type": "code",
   "execution_count": null,
   "id": "0c41275d",
   "metadata": {},
   "outputs": [],
   "source": []
  }
 ],
 "metadata": {
  "colab": {
   "collapsed_sections": [],
   "name": "Kor_IPO_News_Crawling .ipynb",
   "provenance": []
  },
  "kernelspec": {
   "display_name": "Python 3 (ipykernel)",
   "language": "python",
   "name": "python3"
  },
  "language_info": {
   "codemirror_mode": {
    "name": "ipython",
    "version": 3
   },
   "file_extension": ".py",
   "mimetype": "text/x-python",
   "name": "python",
   "nbconvert_exporter": "python",
   "pygments_lexer": "ipython3",
   "version": "3.9.13"
  }
 },
 "nbformat": 4,
 "nbformat_minor": 5
}
