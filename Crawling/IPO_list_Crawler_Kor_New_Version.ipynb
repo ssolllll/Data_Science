{
 "cells": [
  {
   "cell_type": "markdown",
   "metadata": {},
   "source": [
    "# IPO Information Crawler"
   ]
  },
  {
   "cell_type": "code",
   "execution_count": 1,
   "metadata": {},
   "outputs": [],
   "source": [
    "import selenium\n",
    "from selenium import webdriver\n",
    "import time\n",
    "import pandas as pd\n",
    "from pandas import DataFrame\n",
    "from glob import glob\n",
    "from tqdm import tqdm\n",
    "import requests\n",
    "from bs4 import BeautifulSoup\n",
    "\n",
    "import warnings\n",
    "warnings.filterwarnings('ignore')"
   ]
  },
  {
   "cell_type": "markdown",
   "metadata": {},
   "source": [
    "## BS4 Crawlering"
   ]
  },
  {
   "cell_type": "code",
   "execution_count": 2,
   "metadata": {},
   "outputs": [],
   "source": [
    "def ipo_information(url):\n",
    "    c_information = pd.read_html(url)\n",
    "    if len(c_information)  != 17:\n",
    "        ipo_name = c_information[16][1][0]\n",
    "        market = c_information[16][1][1]\n",
    "        category = c_information[16][1][2]\n",
    "        sales = c_information[16][1][7]\n",
    "        net_profit = c_information[16][1][8]\n",
    "        capital = c_information[16][3][8]\n",
    "        code = int(c_information[16][3][1])\n",
    "        b_class = c_information[16][3][3]\n",
    "        offical_price = c_information[17][1][3]\n",
    "        bank = c_information[17][1][4]\n",
    "        if c_information[18][0][0] == '인수회사':\n",
    "            predict_demand = c_information[19][2][0]\n",
    "            part_offering = c_information[19][2][1]\n",
    "            ipo_date = c_information[19][2][5]\n",
    "            c_r_o_i = c_information[19][1][8]\n",
    "            lock_up = c_information[19][1][8]\n",
    "        else:\n",
    "            predict_demand = c_information[18][2][0]\n",
    "            part_offering = c_information[18][2][1]\n",
    "            ipo_date = c_information[18][2][5]\n",
    "            c_r_o_i = c_information[18][1][8]\n",
    "            lock_up = c_information[18][1][8]\n",
    "        lst = [ipo_name,market,category,sales,net_profit,capital,code,b_class,offical_price,bank,predict_demand,part_offering,ipo_date,c_r_o_i,lock_up]\n",
    "        return lst\n",
    "    else:\n",
    "        pass\n",
    "\n",
    "def bs_stock(url):\n",
    "    return pd.read_html(url)[14][1:21][[\"기업명\",\"공모가(원)\",\"첫날종가(원)\"]]"
   ]
  },
  {
   "cell_type": "code",
   "execution_count": 3,
   "metadata": {
    "scrolled": true
   },
   "outputs": [
    {
     "name": "stderr",
     "output_type": "stream",
     "text": [
      "100%|█████████████████████████████████████████████| 48/48 [03:35<00:00,  4.48s/it]\n",
      "100%|█████████████████████████████████████████████| 48/48 [00:11<00:00,  4.15it/s]\n"
     ]
    }
   ],
   "source": [
    "# IPO 기본정보 추합 & stock data\n",
    "\n",
    "IPO_basic_information = pd.DataFrame()\n",
    "firstday_return = pd.DataFrame()\n",
    "\n",
    "# Crawling\n",
    "for page_num in tqdm(range(1,49)):\n",
    "    basic_url = f'http://www.38.co.kr/html/fund/index.htm?o=k&page={page_num}'\n",
    "    response = requests.get(basic_url)\n",
    "    html = response.text\n",
    "    soup = BeautifulSoup(html, 'html.parser')\n",
    "    p_soup = soup.select_one('tbody').select('td')\n",
    "    for idx in range(6,182,7):\n",
    "        a = str(p_soup[idx])\n",
    "        p_url = 'http://www.38.co.kr/html/fund/?o=v&no={}&l=&page={}'.format(a[a.find('no')+3:a.find('no')+7],page_num)\n",
    "        p_df = pd.DataFrame(ipo_information(p_url)).T\n",
    "        IPO_basic_information = IPO_basic_information.append(p_df)\n",
    "for page_num in tqdm(range(1,49)):\n",
    "    stock_url = f'http://www.38.co.kr/html/fund/index.htm?o=nw&page={page_num}'\n",
    "    firstday_return = firstday_return.append(bs_stock(stock_url))"
   ]
  },
  {
   "cell_type": "markdown",
   "metadata": {},
   "source": [
    "## DataFrame 전처리"
   ]
  },
  {
   "cell_type": "code",
   "execution_count": 4,
   "metadata": {},
   "outputs": [],
   "source": [
    "IPO_basic_information = IPO_basic_information.rename(columns= {0:'기업명',1:'시장구분',2:'업종',3:'매출액',\n",
    "                                                               4:'순이익',5:'자본금',6:'종목코드',\n",
    "                                                               7:'기업구분',8:'확정공모가',9:'주간사',\n",
    "                                                               10:'수요예측일',11:'공모청약일',12:'상장일',\n",
    "                                                               13:'기관경쟁률',14:'의무보유확약'})"
   ]
  },
  {
   "cell_type": "code",
   "execution_count": 5,
   "metadata": {},
   "outputs": [],
   "source": [
    "firstday_return = firstday_return.rename(columns={'공모가(원)':'공모가', '첫날종가(원)':'첫날종가'})"
   ]
  },
  {
   "cell_type": "code",
   "execution_count": 6,
   "metadata": {},
   "outputs": [],
   "source": [
    "# 상장 안한 기업 제거\n",
    "\n",
    "firstday_return = firstday_return.iloc[5:]\n",
    "IPO_basic_information = IPO_basic_information.iloc[3:]"
   ]
  },
  {
   "cell_type": "code",
   "execution_count": 7,
   "metadata": {},
   "outputs": [],
   "source": [
    "def Series_preprocessing(series):\n",
    "    series = series.apply(lambda x: x[:x.find('(')])\n",
    "    series = series.apply(lambda x: x.replace(',','') if (x.strip() not in '-')  else '0')\n",
    "    series = series.apply(lambda x: int(x.replace('.','')))\n",
    "    return series"
   ]
  },
  {
   "cell_type": "code",
   "execution_count": 8,
   "metadata": {},
   "outputs": [],
   "source": [
    "def reset_index(df):\n",
    "    df = df.reset_index()\n",
    "    del df['index']\n",
    "    return df\n",
    "def astype_str(series):\n",
    "    series = series.apply(lambda x: str(x))\n",
    "    return series\n",
    "def astype_int(series):\n",
    "    series = series.apply(lambda x: int(x))\n",
    "    return series"
   ]
  },
  {
   "cell_type": "code",
   "execution_count": 9,
   "metadata": {},
   "outputs": [],
   "source": [
    "def company_filtering(df):\n",
    "    df = df[df['기업명'].str.contains('스팩') == False]\n",
    "    df['기업명'] = df['기업명'].apply(lambda x: x.replace('(유가)',''))\n",
    "    df = df.reset_index()\n",
    "    del df['index']\n",
    "    return df\n",
    "\n",
    "def org_pre_processing(series):\n",
    "    series = series.apply(lambda x: x[x.find('률')+1:x.find('의')].strip()[:-2])\n",
    "    return series\n",
    "\n",
    "def org_pre_processing(series):\n",
    "    series = series.apply(lambda x: x[x.find('률')+1:x.find('의')].strip()[:-2])\n",
    "    return series\n",
    "\n",
    "def lockup_pre_processing(series):\n",
    "    series = series.apply(lambda x: x[x.find('약')+1:].strip()[:-1])\n",
    "    return series\n",
    "\n",
    "def offering_price_pre_processing(series):\n",
    "    series = series.apply(lambda x: int(x[:-1].replace(',','')))\n",
    "    return series"
   ]
  },
  {
   "cell_type": "code",
   "execution_count": 10,
   "metadata": {},
   "outputs": [],
   "source": [
    "firstday_return = reset_index(firstday_return)\n",
    "IPO_basic_information = reset_index(IPO_basic_information)"
   ]
  },
  {
   "cell_type": "code",
   "execution_count": 11,
   "metadata": {
    "scrolled": true
   },
   "outputs": [],
   "source": [
    "IPO_basic_information['매출액'] = Series_preprocessing(IPO_basic_information['매출액'])\n",
    "IPO_basic_information['순이익'] = Series_preprocessing(IPO_basic_information['순이익'])\n",
    "IPO_basic_information['자본금'] = Series_preprocessing(IPO_basic_information['자본금'])"
   ]
  },
  {
   "cell_type": "code",
   "execution_count": 12,
   "metadata": {},
   "outputs": [],
   "source": [
    "IPO_basic_information = company_filtering(IPO_basic_information)"
   ]
  },
  {
   "cell_type": "code",
   "execution_count": 13,
   "metadata": {},
   "outputs": [],
   "source": [
    "firstday_return = company_filtering(firstday_return)"
   ]
  },
  {
   "cell_type": "code",
   "execution_count": 14,
   "metadata": {},
   "outputs": [
    {
     "data": {
      "text/html": [
       "<div>\n",
       "<style scoped>\n",
       "    .dataframe tbody tr th:only-of-type {\n",
       "        vertical-align: middle;\n",
       "    }\n",
       "\n",
       "    .dataframe tbody tr th {\n",
       "        vertical-align: top;\n",
       "    }\n",
       "\n",
       "    .dataframe thead th {\n",
       "        text-align: right;\n",
       "    }\n",
       "</style>\n",
       "<table border=\"1\" class=\"dataframe\">\n",
       "  <thead>\n",
       "    <tr style=\"text-align: right;\">\n",
       "      <th></th>\n",
       "      <th>기업명</th>\n",
       "      <th>시장구분</th>\n",
       "      <th>업종</th>\n",
       "      <th>매출액</th>\n",
       "      <th>순이익</th>\n",
       "      <th>자본금</th>\n",
       "      <th>종목코드</th>\n",
       "      <th>기업구분</th>\n",
       "      <th>확정공모가</th>\n",
       "      <th>주간사</th>\n",
       "      <th>수요예측일</th>\n",
       "      <th>공모청약일</th>\n",
       "      <th>상장일</th>\n",
       "      <th>기관경쟁률</th>\n",
       "      <th>의무보유확약</th>\n",
       "    </tr>\n",
       "  </thead>\n",
       "  <tbody>\n",
       "    <tr>\n",
       "      <th>0</th>\n",
       "      <td>바이오노트</td>\n",
       "      <td>거래소</td>\n",
       "      <td>의료용품 및 기타 의약 관련제품 제조업</td>\n",
       "      <td>622355</td>\n",
       "      <td>671556</td>\n",
       "      <td>1266407</td>\n",
       "      <td>377740</td>\n",
       "      <td>중소일반</td>\n",
       "      <td>9,000 원</td>\n",
       "      <td>NH투자증권</td>\n",
       "      <td>2022.12.08 ~ 2022.12.09</td>\n",
       "      <td>2022.12.13 ~ 2022.12.14</td>\n",
       "      <td>2022.12.22</td>\n",
       "      <td>기관경쟁률 3.29:1 의무보유확약 2.77%</td>\n",
       "      <td>기관경쟁률 3.29:1 의무보유확약 2.77%</td>\n",
       "    </tr>\n",
       "    <tr>\n",
       "      <th>1</th>\n",
       "      <td>에스에이엠지엔터테인먼트</td>\n",
       "      <td>코스닥</td>\n",
       "      <td>영화, 비디오물, 방송프로그램 제작 및 배급업</td>\n",
       "      <td>38374</td>\n",
       "      <td>-11087</td>\n",
       "      <td>4295</td>\n",
       "      <td>419530</td>\n",
       "      <td>중소일반</td>\n",
       "      <td>17,000 원</td>\n",
       "      <td>NH투자증권</td>\n",
       "      <td>2022.11.17 ~ 2022.11.18</td>\n",
       "      <td>2022.11.24 ~ 2022.11.25</td>\n",
       "      <td>2022.12.06</td>\n",
       "      <td>기관경쟁률 44.73:1 의무보유확약 0.05%</td>\n",
       "      <td>기관경쟁률 44.73:1 의무보유확약 0.05%</td>\n",
       "    </tr>\n",
       "    <tr>\n",
       "      <th>2</th>\n",
       "      <td>펨트론</td>\n",
       "      <td>코스닥</td>\n",
       "      <td>기타 전기장비 제조업</td>\n",
       "      <td>57871</td>\n",
       "      <td>4499</td>\n",
       "      <td>5322</td>\n",
       "      <td>168360</td>\n",
       "      <td>중소일반</td>\n",
       "      <td>8,000 원</td>\n",
       "      <td>하나증권</td>\n",
       "      <td>2022.11.08 ~ 2022.11.09</td>\n",
       "      <td>2022.11.15 ~ 2022.11.16</td>\n",
       "      <td>2022.11.24</td>\n",
       "      <td>기관경쟁률 129.06:1 의무보유확약 11.41%</td>\n",
       "      <td>기관경쟁률 129.06:1 의무보유확약 11.41%</td>\n",
       "    </tr>\n",
       "    <tr>\n",
       "      <th>3</th>\n",
       "      <td>인벤티지랩</td>\n",
       "      <td>코스닥</td>\n",
       "      <td>의약품 제조업</td>\n",
       "      <td>1862</td>\n",
       "      <td>-9271</td>\n",
       "      <td>4102</td>\n",
       "      <td>389470</td>\n",
       "      <td>중소일반</td>\n",
       "      <td>12,000 원</td>\n",
       "      <td>한국투자증권</td>\n",
       "      <td>2022.11.08 ~ 2022.11.09</td>\n",
       "      <td>2022.11.11 ~ 2022.11.14</td>\n",
       "      <td>2022.11.22</td>\n",
       "      <td>기관경쟁률 14.37:1 의무보유확약 0.00%</td>\n",
       "      <td>기관경쟁률 14.37:1 의무보유확약 0.00%</td>\n",
       "    </tr>\n",
       "    <tr>\n",
       "      <th>4</th>\n",
       "      <td>엔젯</td>\n",
       "      <td>코스닥</td>\n",
       "      <td>평판디스플레이 제조용 기계 제조업</td>\n",
       "      <td>10055</td>\n",
       "      <td>-29867</td>\n",
       "      <td>5258</td>\n",
       "      <td>419080</td>\n",
       "      <td>중소일반</td>\n",
       "      <td>10,000 원</td>\n",
       "      <td>미래에셋증권</td>\n",
       "      <td>2022.11.03 ~ 2022.11.04</td>\n",
       "      <td>2022.11.09 ~ 2022.11.10</td>\n",
       "      <td>2022.11.18</td>\n",
       "      <td>기관경쟁률 42.15:1 의무보유확약 6.00%</td>\n",
       "      <td>기관경쟁률 42.15:1 의무보유확약 6.00%</td>\n",
       "    </tr>\n",
       "  </tbody>\n",
       "</table>\n",
       "</div>"
      ],
      "text/plain": [
       "            기업명 시장구분                         업종     매출액     순이익      자본금  \\\n",
       "0         바이오노트  거래소      의료용품 및 기타 의약 관련제품 제조업  622355  671556  1266407   \n",
       "1  에스에이엠지엔터테인먼트  코스닥  영화, 비디오물, 방송프로그램 제작 및 배급업   38374  -11087     4295   \n",
       "2           펨트론  코스닥                기타 전기장비 제조업   57871    4499     5322   \n",
       "3         인벤티지랩  코스닥                    의약품 제조업    1862   -9271     4102   \n",
       "4            엔젯  코스닥         평판디스플레이 제조용 기계 제조업   10055  -29867     5258   \n",
       "\n",
       "     종목코드  기업구분     확정공모가     주간사                    수요예측일  \\\n",
       "0  377740  중소일반   9,000 원  NH투자증권  2022.12.08 ~ 2022.12.09   \n",
       "1  419530  중소일반  17,000 원  NH투자증권  2022.11.17 ~ 2022.11.18   \n",
       "2  168360  중소일반   8,000 원    하나증권  2022.11.08 ~ 2022.11.09   \n",
       "3  389470  중소일반  12,000 원  한국투자증권  2022.11.08 ~ 2022.11.09   \n",
       "4  419080  중소일반  10,000 원  미래에셋증권  2022.11.03 ~ 2022.11.04   \n",
       "\n",
       "                     공모청약일         상장일                         기관경쟁률  \\\n",
       "0  2022.12.13 ~ 2022.12.14  2022.12.22     기관경쟁률 3.29:1 의무보유확약 2.77%   \n",
       "1  2022.11.24 ~ 2022.11.25  2022.12.06    기관경쟁률 44.73:1 의무보유확약 0.05%   \n",
       "2  2022.11.15 ~ 2022.11.16  2022.11.24  기관경쟁률 129.06:1 의무보유확약 11.41%   \n",
       "3  2022.11.11 ~ 2022.11.14  2022.11.22    기관경쟁률 14.37:1 의무보유확약 0.00%   \n",
       "4  2022.11.09 ~ 2022.11.10  2022.11.18    기관경쟁률 42.15:1 의무보유확약 6.00%   \n",
       "\n",
       "                         의무보유확약  \n",
       "0     기관경쟁률 3.29:1 의무보유확약 2.77%  \n",
       "1    기관경쟁률 44.73:1 의무보유확약 0.05%  \n",
       "2  기관경쟁률 129.06:1 의무보유확약 11.41%  \n",
       "3    기관경쟁률 14.37:1 의무보유확약 0.00%  \n",
       "4    기관경쟁률 42.15:1 의무보유확약 6.00%  "
      ]
     },
     "execution_count": 14,
     "metadata": {},
     "output_type": "execute_result"
    }
   ],
   "source": [
    "IPO_basic_information.head()"
   ]
  },
  {
   "cell_type": "code",
   "execution_count": null,
   "metadata": {},
   "outputs": [],
   "source": [
    "for ind in IPO_basic_information.query('기업명.str.contains(\"구.\")').index.to_list():\n",
    "    l = IPO_basic_information['기업명'][ind].find('(구.')+3\n",
    "    IPO_basic_information['기업명'][ind] = IPO_basic_information['기업명'][ind][l:-1]"
   ]
  },
  {
   "cell_type": "code",
   "execution_count": 15,
   "metadata": {},
   "outputs": [],
   "source": [
    "IPO_basic_information['기관경쟁률'] = org_pre_processing(IPO_basic_information['기관경쟁률'])\n",
    "IPO_basic_information['의무보유확약'] = lockup_pre_processing(IPO_basic_information['의무보유확약'])"
   ]
  },
  {
   "cell_type": "code",
   "execution_count": 16,
   "metadata": {},
   "outputs": [],
   "source": [
    "IPO_basic_information['확정공모가'] = offering_price_pre_processing(IPO_basic_information['확정공모가'])"
   ]
  },
  {
   "cell_type": "code",
   "execution_count": 17,
   "metadata": {},
   "outputs": [
    {
     "data": {
      "text/html": [
       "<div>\n",
       "<style scoped>\n",
       "    .dataframe tbody tr th:only-of-type {\n",
       "        vertical-align: middle;\n",
       "    }\n",
       "\n",
       "    .dataframe tbody tr th {\n",
       "        vertical-align: top;\n",
       "    }\n",
       "\n",
       "    .dataframe thead th {\n",
       "        text-align: right;\n",
       "    }\n",
       "</style>\n",
       "<table border=\"1\" class=\"dataframe\">\n",
       "  <thead>\n",
       "    <tr style=\"text-align: right;\">\n",
       "      <th></th>\n",
       "      <th>기업명</th>\n",
       "      <th>시장구분</th>\n",
       "      <th>업종</th>\n",
       "      <th>매출액</th>\n",
       "      <th>순이익</th>\n",
       "      <th>자본금</th>\n",
       "      <th>종목코드</th>\n",
       "      <th>기업구분</th>\n",
       "      <th>확정공모가</th>\n",
       "      <th>주간사</th>\n",
       "      <th>수요예측일</th>\n",
       "      <th>공모청약일</th>\n",
       "      <th>상장일</th>\n",
       "      <th>기관경쟁률</th>\n",
       "      <th>의무보유확약</th>\n",
       "    </tr>\n",
       "  </thead>\n",
       "  <tbody>\n",
       "    <tr>\n",
       "      <th>0</th>\n",
       "      <td>바이오노트</td>\n",
       "      <td>거래소</td>\n",
       "      <td>의료용품 및 기타 의약 관련제품 제조업</td>\n",
       "      <td>622355</td>\n",
       "      <td>671556</td>\n",
       "      <td>1266407</td>\n",
       "      <td>377740</td>\n",
       "      <td>중소일반</td>\n",
       "      <td>9000</td>\n",
       "      <td>NH투자증권</td>\n",
       "      <td>2022.12.08 ~ 2022.12.09</td>\n",
       "      <td>2022.12.13 ~ 2022.12.14</td>\n",
       "      <td>2022.12.22</td>\n",
       "      <td>3.29</td>\n",
       "      <td>2.77</td>\n",
       "    </tr>\n",
       "    <tr>\n",
       "      <th>1</th>\n",
       "      <td>에스에이엠지엔터테인먼트</td>\n",
       "      <td>코스닥</td>\n",
       "      <td>영화, 비디오물, 방송프로그램 제작 및 배급업</td>\n",
       "      <td>38374</td>\n",
       "      <td>-11087</td>\n",
       "      <td>4295</td>\n",
       "      <td>419530</td>\n",
       "      <td>중소일반</td>\n",
       "      <td>17000</td>\n",
       "      <td>NH투자증권</td>\n",
       "      <td>2022.11.17 ~ 2022.11.18</td>\n",
       "      <td>2022.11.24 ~ 2022.11.25</td>\n",
       "      <td>2022.12.06</td>\n",
       "      <td>44.73</td>\n",
       "      <td>0.05</td>\n",
       "    </tr>\n",
       "    <tr>\n",
       "      <th>2</th>\n",
       "      <td>펨트론</td>\n",
       "      <td>코스닥</td>\n",
       "      <td>기타 전기장비 제조업</td>\n",
       "      <td>57871</td>\n",
       "      <td>4499</td>\n",
       "      <td>5322</td>\n",
       "      <td>168360</td>\n",
       "      <td>중소일반</td>\n",
       "      <td>8000</td>\n",
       "      <td>하나증권</td>\n",
       "      <td>2022.11.08 ~ 2022.11.09</td>\n",
       "      <td>2022.11.15 ~ 2022.11.16</td>\n",
       "      <td>2022.11.24</td>\n",
       "      <td>129.06</td>\n",
       "      <td>11.41</td>\n",
       "    </tr>\n",
       "    <tr>\n",
       "      <th>3</th>\n",
       "      <td>인벤티지랩</td>\n",
       "      <td>코스닥</td>\n",
       "      <td>의약품 제조업</td>\n",
       "      <td>1862</td>\n",
       "      <td>-9271</td>\n",
       "      <td>4102</td>\n",
       "      <td>389470</td>\n",
       "      <td>중소일반</td>\n",
       "      <td>12000</td>\n",
       "      <td>한국투자증권</td>\n",
       "      <td>2022.11.08 ~ 2022.11.09</td>\n",
       "      <td>2022.11.11 ~ 2022.11.14</td>\n",
       "      <td>2022.11.22</td>\n",
       "      <td>14.37</td>\n",
       "      <td>0.00</td>\n",
       "    </tr>\n",
       "    <tr>\n",
       "      <th>4</th>\n",
       "      <td>엔젯</td>\n",
       "      <td>코스닥</td>\n",
       "      <td>평판디스플레이 제조용 기계 제조업</td>\n",
       "      <td>10055</td>\n",
       "      <td>-29867</td>\n",
       "      <td>5258</td>\n",
       "      <td>419080</td>\n",
       "      <td>중소일반</td>\n",
       "      <td>10000</td>\n",
       "      <td>미래에셋증권</td>\n",
       "      <td>2022.11.03 ~ 2022.11.04</td>\n",
       "      <td>2022.11.09 ~ 2022.11.10</td>\n",
       "      <td>2022.11.18</td>\n",
       "      <td>42.15</td>\n",
       "      <td>6.00</td>\n",
       "    </tr>\n",
       "  </tbody>\n",
       "</table>\n",
       "</div>"
      ],
      "text/plain": [
       "            기업명 시장구분                         업종     매출액     순이익      자본금  \\\n",
       "0         바이오노트  거래소      의료용품 및 기타 의약 관련제품 제조업  622355  671556  1266407   \n",
       "1  에스에이엠지엔터테인먼트  코스닥  영화, 비디오물, 방송프로그램 제작 및 배급업   38374  -11087     4295   \n",
       "2           펨트론  코스닥                기타 전기장비 제조업   57871    4499     5322   \n",
       "3         인벤티지랩  코스닥                    의약품 제조업    1862   -9271     4102   \n",
       "4            엔젯  코스닥         평판디스플레이 제조용 기계 제조업   10055  -29867     5258   \n",
       "\n",
       "     종목코드  기업구분  확정공모가     주간사                    수요예측일  \\\n",
       "0  377740  중소일반   9000  NH투자증권  2022.12.08 ~ 2022.12.09   \n",
       "1  419530  중소일반  17000  NH투자증권  2022.11.17 ~ 2022.11.18   \n",
       "2  168360  중소일반   8000    하나증권  2022.11.08 ~ 2022.11.09   \n",
       "3  389470  중소일반  12000  한국투자증권  2022.11.08 ~ 2022.11.09   \n",
       "4  419080  중소일반  10000  미래에셋증권  2022.11.03 ~ 2022.11.04   \n",
       "\n",
       "                     공모청약일         상장일   기관경쟁률 의무보유확약  \n",
       "0  2022.12.13 ~ 2022.12.14  2022.12.22    3.29   2.77  \n",
       "1  2022.11.24 ~ 2022.11.25  2022.12.06   44.73   0.05  \n",
       "2  2022.11.15 ~ 2022.11.16  2022.11.24  129.06  11.41  \n",
       "3  2022.11.11 ~ 2022.11.14  2022.11.22   14.37   0.00  \n",
       "4  2022.11.09 ~ 2022.11.10  2022.11.18   42.15   6.00  "
      ]
     },
     "execution_count": 17,
     "metadata": {},
     "output_type": "execute_result"
    }
   ],
   "source": [
    "IPO_basic_information.head()"
   ]
  },
  {
   "cell_type": "code",
   "execution_count": 18,
   "metadata": {},
   "outputs": [],
   "source": [
    "IPO_basic_information.to_csv('../data/IPO_basic_information.csv',encoding='cp949')"
   ]
  },
  {
   "cell_type": "code",
   "execution_count": 19,
   "metadata": {},
   "outputs": [],
   "source": [
    "firstday_return.to_csv('../data/firstday_return.csv',encoding='cp949')"
   ]
  }
 ],
 "metadata": {
  "kernelspec": {
   "display_name": "Python 3 (ipykernel)",
   "language": "python",
   "name": "python3"
  },
  "language_info": {
   "codemirror_mode": {
    "name": "ipython",
    "version": 3
   },
   "file_extension": ".py",
   "mimetype": "text/x-python",
   "name": "python",
   "nbconvert_exporter": "python",
   "pygments_lexer": "ipython3",
   "version": "3.9.13"
  }
 },
 "nbformat": 4,
 "nbformat_minor": 2
}
