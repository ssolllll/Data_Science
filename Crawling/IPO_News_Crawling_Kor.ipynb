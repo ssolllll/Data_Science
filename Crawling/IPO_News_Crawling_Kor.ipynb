{
 "cells": [
  {
   "cell_type": "code",
   "execution_count": 9,
   "id": "e6dacb7a",
   "metadata": {
    "id": "e6dacb7a"
   },
   "outputs": [],
   "source": [
    "import time\n",
    "import pandas as pd\n",
    "from pandas import DataFrame\n",
    "from glob import glob\n",
    "import requests\n",
    "from bs4 import BeautifulSoup\n",
    "import pandas as pd\n",
    "import datetime\n",
    "from datetime import timedelta\n",
    "import re\n",
    "from tqdm import tqdm\n",
    "import selenium\n",
    "from selenium import webdriver\n",
    "import time\n",
    "import pandas as pd\n",
    "from pandas import DataFrame\n",
    "from glob import glob\n",
    "import requests\n",
    "from bs4 import BeautifulSoup\n",
    "import pandas as pd\n",
    "import datetime\n",
    "from datetime import timedelta\n",
    "import re\n",
    "from tqdm import tqdm"
   ]
  },
  {
   "cell_type": "code",
   "execution_count": 4,
   "id": "6fc85560",
   "metadata": {},
   "outputs": [],
   "source": [
    "final_df_2 = pd.read_csv('../Data_Analysis/final_df_0531_1.csv',encoding='utf-8-sig')\n",
    "final_df_2_1 = final_df_2.query('시장구분 == \"거래소\"')[['기업명','시장구분']]"
   ]
  },
  {
   "cell_type": "code",
   "execution_count": 7,
   "id": "99601041",
   "metadata": {
    "collapsed": true
   },
   "outputs": [
    {
     "ename": "SyntaxError",
     "evalue": "invalid syntax (Temp/ipykernel_23140/3235981280.py, line 1)",
     "output_type": "error",
     "traceback": [
      "\u001b[1;36m  File \u001b[1;32m\"C:\\Users\\82109\\AppData\\Local\\Temp/ipykernel_23140/3235981280.py\"\u001b[1;36m, line \u001b[1;32m1\u001b[0m\n\u001b[1;33m    final_df_2_1 = final_df_2_1.reset_index()final_df_2_1\u001b[0m\n\u001b[1;37m                                             ^\u001b[0m\n\u001b[1;31mSyntaxError\u001b[0m\u001b[1;31m:\u001b[0m invalid syntax\n"
     ]
    }
   ],
   "source": [
    "final_df_2_1 = final_df_2_1.reset_index()"
   ]
  },
  {
   "cell_type": "code",
   "execution_count": 8,
   "id": "8c06b42c",
   "metadata": {},
   "outputs": [
    {
     "data": {
      "text/html": [
       "<div>\n",
       "<style scoped>\n",
       "    .dataframe tbody tr th:only-of-type {\n",
       "        vertical-align: middle;\n",
       "    }\n",
       "\n",
       "    .dataframe tbody tr th {\n",
       "        vertical-align: top;\n",
       "    }\n",
       "\n",
       "    .dataframe thead th {\n",
       "        text-align: right;\n",
       "    }\n",
       "</style>\n",
       "<table border=\"1\" class=\"dataframe\">\n",
       "  <thead>\n",
       "    <tr style=\"text-align: right;\">\n",
       "      <th></th>\n",
       "      <th>index</th>\n",
       "      <th>기업명</th>\n",
       "      <th>시장구분</th>\n",
       "    </tr>\n",
       "  </thead>\n",
       "  <tbody>\n",
       "    <tr>\n",
       "      <th>0</th>\n",
       "      <td>2</td>\n",
       "      <td>SK바이오사이언스</td>\n",
       "      <td>거래소</td>\n",
       "    </tr>\n",
       "    <tr>\n",
       "      <th>1</th>\n",
       "      <td>53</td>\n",
       "      <td>하나제약</td>\n",
       "      <td>거래소</td>\n",
       "    </tr>\n",
       "    <tr>\n",
       "      <th>2</th>\n",
       "      <td>64</td>\n",
       "      <td>애경산업</td>\n",
       "      <td>거래소</td>\n",
       "    </tr>\n",
       "    <tr>\n",
       "      <th>3</th>\n",
       "      <td>85</td>\n",
       "      <td>덴티움</td>\n",
       "      <td>거래소</td>\n",
       "    </tr>\n",
       "    <tr>\n",
       "      <th>4</th>\n",
       "      <td>95</td>\n",
       "      <td>제이에스코퍼레이션</td>\n",
       "      <td>거래소</td>\n",
       "    </tr>\n",
       "    <tr>\n",
       "      <th>...</th>\n",
       "      <td>...</td>\n",
       "      <td>...</td>\n",
       "      <td>...</td>\n",
       "    </tr>\n",
       "    <tr>\n",
       "      <th>97</th>\n",
       "      <td>632</td>\n",
       "      <td>한국종합기술</td>\n",
       "      <td>거래소</td>\n",
       "    </tr>\n",
       "    <tr>\n",
       "      <th>98</th>\n",
       "      <td>636</td>\n",
       "      <td>현대위아</td>\n",
       "      <td>거래소</td>\n",
       "    </tr>\n",
       "    <tr>\n",
       "      <th>99</th>\n",
       "      <td>647</td>\n",
       "      <td>두산엔진</td>\n",
       "      <td>거래소</td>\n",
       "    </tr>\n",
       "    <tr>\n",
       "      <th>100</th>\n",
       "      <td>656</td>\n",
       "      <td>휠라코리아</td>\n",
       "      <td>거래소</td>\n",
       "    </tr>\n",
       "    <tr>\n",
       "      <th>101</th>\n",
       "      <td>657</td>\n",
       "      <td>한국인포데이타</td>\n",
       "      <td>거래소</td>\n",
       "    </tr>\n",
       "  </tbody>\n",
       "</table>\n",
       "<p>102 rows × 3 columns</p>\n",
       "</div>"
      ],
      "text/plain": [
       "     index        기업명 시장구분\n",
       "0        2  SK바이오사이언스  거래소\n",
       "1       53       하나제약  거래소\n",
       "2       64       애경산업  거래소\n",
       "3       85        덴티움  거래소\n",
       "4       95  제이에스코퍼레이션  거래소\n",
       "..     ...        ...  ...\n",
       "97     632     한국종합기술  거래소\n",
       "98     636       현대위아  거래소\n",
       "99     647       두산엔진  거래소\n",
       "100    656      휠라코리아  거래소\n",
       "101    657    한국인포데이타  거래소\n",
       "\n",
       "[102 rows x 3 columns]"
      ]
     },
     "execution_count": 8,
     "metadata": {},
     "output_type": "execute_result"
    }
   ],
   "source": [
    "final_df_2_1"
   ]
  },
  {
   "cell_type": "code",
   "execution_count": 14,
   "id": "324f1718",
   "metadata": {},
   "outputs": [],
   "source": [
    "final_df_2_1['시장구분_renew'] = ''"
   ]
  },
  {
   "cell_type": "code",
   "execution_count": 17,
   "id": "6f5672d6",
   "metadata": {
    "scrolled": true
   },
   "outputs": [
    {
     "name": "stderr",
     "output_type": "stream",
     "text": [
      "C:\\Users\\82109\\AppData\\Local\\Temp/ipykernel_23140/2476230201.py:1: DeprecationWarning: executable_path has been deprecated, please pass in a Service object\n",
      "  driver = webdriver.Chrome(r\"C:\\Users\\82109\\Desktop\\IPO_언론\\chromedriver.exe\")\n",
      "0it [00:00, ?it/s]C:\\Users\\82109\\AppData\\Local\\Temp/ipykernel_23140/2476230201.py:8: DeprecationWarning: find_element_by_xpath is deprecated. Please use find_element(by=By.XPATH, value=xpath) instead\n",
      "  driver.find_element_by_xpath('/html/body/div[2]/div[1]/div[3]/div/div[2]/form/div[1]/div[2]/span[2]/div/input').send_keys(f'{IPO_name}')\n",
      "C:\\Users\\82109\\AppData\\Local\\Temp/ipykernel_23140/2476230201.py:9: DeprecationWarning: find_element_by_xpath is deprecated. Please use find_element(by=By.XPATH, value=xpath) instead\n",
      "  driver.find_element_by_xpath('/html/body/div[2]/div[1]/div[3]/div/div[2]/form/div[2]/div[1]/ul/li[1]/label/img').click()\n",
      "C:\\Users\\82109\\AppData\\Local\\Temp/ipykernel_23140/2476230201.py:10: DeprecationWarning: find_element_by_xpath is deprecated. Please use find_element(by=By.XPATH, value=xpath) instead\n",
      "  driver.find_element_by_xpath('/html/body/div[2]/div[1]/div[3]/div/div[2]/form/div[1]/div[3]/a').click()\n",
      "C:\\Users\\82109\\AppData\\Local\\Temp/ipykernel_23140/2476230201.py:12: DeprecationWarning: find_element_by_xpath is deprecated. Please use find_element(by=By.XPATH, value=xpath) instead\n",
      "  final_df_2_1['시장구분_renew'][ind]= driver.find_element_by_xpath('/html/body/div[4]/div[2]/div[1]/div[2]/div[2]/form[3]/div/div[1]/table/tbody/tr[1]/td[2]/span/span').text\n",
      "C:\\Users\\82109\\AppData\\Local\\Temp/ipykernel_23140/2476230201.py:12: SettingWithCopyWarning: \n",
      "A value is trying to be set on a copy of a slice from a DataFrame\n",
      "\n",
      "See the caveats in the documentation: https://pandas.pydata.org/pandas-docs/stable/user_guide/indexing.html#returning-a-view-versus-a-copy\n",
      "  final_df_2_1['시장구분_renew'][ind]= driver.find_element_by_xpath('/html/body/div[4]/div[2]/div[1]/div[2]/div[2]/form[3]/div/div[1]/table/tbody/tr[1]/td[2]/span/span').text\n",
      "5it [00:20,  3.90s/it]C:\\Users\\82109\\AppData\\Local\\Temp/ipykernel_23140/2476230201.py:14: SettingWithCopyWarning: \n",
      "A value is trying to be set on a copy of a slice from a DataFrame\n",
      "\n",
      "See the caveats in the documentation: https://pandas.pydata.org/pandas-docs/stable/user_guide/indexing.html#returning-a-view-versus-a-copy\n",
      "  final_df_2_1['시장구분_renew'][ind]=  'Nan'\n",
      "102it [06:24,  3.77s/it]\n"
     ]
    }
   ],
   "source": [
    "driver = webdriver.Chrome(r\"C:\\Users\\82109\\Desktop\\IPO_언론\\chromedriver.exe\")\n",
    "IPO_news = []\n",
    "for ind,IPO_name in tqdm(enumerate(final_df_2_1['기업명'])):\n",
    "    \n",
    "    url = 'https://dart.fss.or.kr/main.do'\n",
    "    driver.get(url)\n",
    "    time.sleep(3)\n",
    "    driver.find_element_by_xpath('/html/body/div[2]/div[1]/div[3]/div/div[2]/form/div[1]/div[2]/span[2]/div/input').send_keys(f'{IPO_name}')\n",
    "    driver.find_element_by_xpath('/html/body/div[2]/div[1]/div[3]/div/div[2]/form/div[2]/div[1]/ul/li[1]/label/img').click()\n",
    "    driver.find_element_by_xpath('/html/body/div[2]/div[1]/div[3]/div/div[2]/form/div[1]/div[3]/a').click()\n",
    "    try:\n",
    "        final_df_2_1['시장구분_renew'][ind]= driver.find_element_by_xpath('/html/body/div[4]/div[2]/div[1]/div[2]/div[2]/form[3]/div/div[1]/table/tbody/tr[1]/td[2]/span/span').text\n",
    "    except:\n",
    "        final_df_2_1['시장구분_renew'][ind]=  'Nan'"
   ]
  },
  {
   "cell_type": "code",
   "execution_count": 19,
   "id": "33b31d19",
   "metadata": {},
   "outputs": [
    {
     "data": {
      "text/plain": [
       "유      83\n",
       "Nan    17\n",
       "기       2\n",
       "Name: 시장구분_renew, dtype: int64"
      ]
     },
     "execution_count": 19,
     "metadata": {},
     "output_type": "execute_result"
    }
   ],
   "source": [
    "final_df_2_1['시장구분_renew'].value_counts()"
   ]
  },
  {
   "cell_type": "code",
   "execution_count": 67,
   "id": "1d31be15",
   "metadata": {},
   "outputs": [
    {
     "data": {
      "text/plain": [
       "'휴비스'"
      ]
     },
     "execution_count": 67,
     "metadata": {},
     "output_type": "execute_result"
    }
   ],
   "source": [
    "final_df_2_1['기업명'][93]"
   ]
  },
  {
   "cell_type": "code",
   "execution_count": 68,
   "id": "86421688",
   "metadata": {},
   "outputs": [
    {
     "name": "stderr",
     "output_type": "stream",
     "text": [
      "C:\\Users\\82109\\AppData\\Local\\Temp/ipykernel_23140/1521645520.py:1: SettingWithCopyWarning: \n",
      "A value is trying to be set on a copy of a slice from a DataFrame\n",
      "\n",
      "See the caveats in the documentation: https://pandas.pydata.org/pandas-docs/stable/user_guide/indexing.html#returning-a-view-versus-a-copy\n",
      "  final_df_2_1['시장구분_renew'][93] = '유'\n"
     ]
    }
   ],
   "source": [
    "final_df_2_1['시장구분_renew'][93] = '유'"
   ]
  },
  {
   "cell_type": "code",
   "execution_count": 69,
   "id": "913291e2",
   "metadata": {},
   "outputs": [
    {
     "data": {
      "text/html": [
       "<div>\n",
       "<style scoped>\n",
       "    .dataframe tbody tr th:only-of-type {\n",
       "        vertical-align: middle;\n",
       "    }\n",
       "\n",
       "    .dataframe tbody tr th {\n",
       "        vertical-align: top;\n",
       "    }\n",
       "\n",
       "    .dataframe thead th {\n",
       "        text-align: right;\n",
       "    }\n",
       "</style>\n",
       "<table border=\"1\" class=\"dataframe\">\n",
       "  <thead>\n",
       "    <tr style=\"text-align: right;\">\n",
       "      <th></th>\n",
       "      <th>index</th>\n",
       "      <th>기업명</th>\n",
       "      <th>시장구분</th>\n",
       "      <th>시장구분_renew</th>\n",
       "    </tr>\n",
       "  </thead>\n",
       "  <tbody>\n",
       "    <tr>\n",
       "      <th>100</th>\n",
       "      <td>656</td>\n",
       "      <td>휠라코리아</td>\n",
       "      <td>거래소</td>\n",
       "      <td>Nan</td>\n",
       "    </tr>\n",
       "  </tbody>\n",
       "</table>\n",
       "</div>"
      ],
      "text/plain": [
       "     index    기업명 시장구분 시장구분_renew\n",
       "100    656  휠라코리아  거래소        Nan"
      ]
     },
     "execution_count": 69,
     "metadata": {},
     "output_type": "execute_result"
    }
   ],
   "source": [
    "final_df_2_1.query('시장구분_renew == \"Nan\"')"
   ]
  },
  {
   "cell_type": "code",
   "execution_count": 11,
   "id": "2fcbd0cf",
   "metadata": {
    "scrolled": true
   },
   "outputs": [
    {
     "name": "stderr",
     "output_type": "stream",
     "text": [
      "C:\\Users\\82109\\AppData\\Local\\Temp/ipykernel_23140/3612915560.py:1: DeprecationWarning: executable_path has been deprecated, please pass in a Service object\n",
      "  driver = webdriver.Chrome(r\"C:\\Users\\82109\\Desktop\\IPO_언론\\chromedriver.exe\")\n"
     ]
    }
   ],
   "source": [
    "driver = webdriver.Chrome(r\"C:\\Users\\82109\\Desktop\\IPO_언론\\chromedriver.exe\")"
   ]
  },
  {
   "cell_type": "code",
   "execution_count": 13,
   "id": "0b1c1770",
   "metadata": {},
   "outputs": [
    {
     "name": "stderr",
     "output_type": "stream",
     "text": [
      "C:\\Users\\82109\\AppData\\Local\\Temp/ipykernel_23140/3532767535.py:4: DeprecationWarning: find_element_by_xpath is deprecated. Please use find_element(by=By.XPATH, value=xpath) instead\n",
      "  driver.find_element_by_xpath('/html/body/div[2]/div[1]/div[3]/div/div[2]/form/div[1]/div[2]/span[2]/div/input').send_keys('SK바이오사이언스')\n",
      "C:\\Users\\82109\\AppData\\Local\\Temp/ipykernel_23140/3532767535.py:5: DeprecationWarning: find_element_by_xpath is deprecated. Please use find_element(by=By.XPATH, value=xpath) instead\n",
      "  driver.find_element_by_xpath('/html/body/div[2]/div[1]/div[3]/div/div[2]/form/div[2]/div[1]/ul/li[1]/label/img').click()\n",
      "C:\\Users\\82109\\AppData\\Local\\Temp/ipykernel_23140/3532767535.py:6: DeprecationWarning: find_element_by_xpath is deprecated. Please use find_element(by=By.XPATH, value=xpath) instead\n",
      "  driver.find_element_by_xpath('/html/body/div[2]/div[1]/div[3]/div/div[2]/form/div[1]/div[3]/a').click()\n",
      "C:\\Users\\82109\\AppData\\Local\\Temp/ipykernel_23140/3532767535.py:7: DeprecationWarning: find_element_by_xpath is deprecated. Please use find_element(by=By.XPATH, value=xpath) instead\n",
      "  driver.find_element_by_xpath('/html/body/div[4]/div[2]/div[1]/div[2]/div[2]/form[3]/div/div[1]/table/tbody/tr[1]/td[2]/span/span').text\n"
     ]
    },
    {
     "data": {
      "text/plain": [
       "'유'"
      ]
     },
     "execution_count": 13,
     "metadata": {},
     "output_type": "execute_result"
    }
   ],
   "source": [
    "url = 'https://dart.fss.or.kr/main.do'\n",
    "driver.get(url)\n",
    "time.sleep(3)\n",
    "driver.find_element_by_xpath('/html/body/div[2]/div[1]/div[3]/div/div[2]/form/div[1]/div[2]/span[2]/div/input').send_keys('SK바이오사이언스')\n",
    "driver.find_element_by_xpath('/html/body/div[2]/div[1]/div[3]/div/div[2]/form/div[2]/div[1]/ul/li[1]/label/img').click()\n",
    "driver.find_element_by_xpath('/html/body/div[2]/div[1]/div[3]/div/div[2]/form/div[1]/div[3]/a').click()\n",
    "driver.find_element_by_xpath('/html/body/div[4]/div[2]/div[1]/div[2]/div[2]/form[3]/div/div[1]/table/tbody/tr[1]/td[2]/span/span').text"
   ]
  },
  {
   "cell_type": "code",
   "execution_count": 2,
   "id": "5jgpvJhq5zet",
   "metadata": {
    "id": "5jgpvJhq5zet"
   },
   "outputs": [],
   "source": [
    "url = '../csv_data/fffinal_df_kr.csv'\n",
    "\n",
    "df_kr_company = pd.read_csv(url)"
   ]
  },
  {
   "cell_type": "code",
   "execution_count": 3,
   "id": "0ccc4875",
   "metadata": {
    "scrolled": true
   },
   "outputs": [
    {
     "data": {
      "text/html": [
       "<div>\n",
       "<style scoped>\n",
       "    .dataframe tbody tr th:only-of-type {\n",
       "        vertical-align: middle;\n",
       "    }\n",
       "\n",
       "    .dataframe tbody tr th {\n",
       "        vertical-align: top;\n",
       "    }\n",
       "\n",
       "    .dataframe thead th {\n",
       "        text-align: right;\n",
       "    }\n",
       "</style>\n",
       "<table border=\"1\" class=\"dataframe\">\n",
       "  <thead>\n",
       "    <tr style=\"text-align: right;\">\n",
       "      <th></th>\n",
       "      <th>기업명</th>\n",
       "      <th>시장구분</th>\n",
       "      <th>업종</th>\n",
       "      <th>매출액</th>\n",
       "      <th>순이익</th>\n",
       "      <th>자본금</th>\n",
       "      <th>종목코드</th>\n",
       "      <th>기업구분</th>\n",
       "      <th>확정공모가</th>\n",
       "      <th>주간사</th>\n",
       "      <th>수요예측일</th>\n",
       "      <th>공모청약일</th>\n",
       "      <th>상장일</th>\n",
       "      <th>기관경쟁률</th>\n",
       "      <th>의무보유확약</th>\n",
       "    </tr>\n",
       "  </thead>\n",
       "  <tbody>\n",
       "    <tr>\n",
       "      <th>0</th>\n",
       "      <td>포바이포</td>\n",
       "      <td>코스닥</td>\n",
       "      <td>영화, 비디오물, 방송프로그램 제작 및 배급업</td>\n",
       "      <td>13,993 (백만원)</td>\n",
       "      <td>1,354 (백만원)</td>\n",
       "      <td>5,112 (백만원)</td>\n",
       "      <td>389140</td>\n",
       "      <td>중소일반</td>\n",
       "      <td>17,000 원</td>\n",
       "      <td>미래에셋증권</td>\n",
       "      <td>2022.04.14 ~ 2022.04.15</td>\n",
       "      <td>2022.04.19 ~ 2022.04.20</td>\n",
       "      <td>2022.04.28</td>\n",
       "      <td>기관경쟁률 1846.32 :1 의무보유확약 55.52%</td>\n",
       "      <td>기관경쟁률 1846.32 :1 의무보유확약 55.52%</td>\n",
       "    </tr>\n",
       "    <tr>\n",
       "      <th>1</th>\n",
       "      <td>지투파워</td>\n",
       "      <td>코스닥</td>\n",
       "      <td>전동기, 발전기 및 전기 변환 공급 제어 장치</td>\n",
       "      <td>29,135 (백만원)</td>\n",
       "      <td>2,162 (백만원)</td>\n",
       "      <td>1,843 (백만원)</td>\n",
       "      <td>388050</td>\n",
       "      <td>중소일반</td>\n",
       "      <td>16,400 원</td>\n",
       "      <td>한국투자증권,KB증권</td>\n",
       "      <td>2022.03.17 ~ 2022.03.18</td>\n",
       "      <td>2022.03.22 ~ 2022.03.23</td>\n",
       "      <td>2022.04.01</td>\n",
       "      <td>기관경쟁률 1729.63:1 의무보유확약 11.16%</td>\n",
       "      <td>기관경쟁률 1729.63:1 의무보유확약 11.16%</td>\n",
       "    </tr>\n",
       "    <tr>\n",
       "      <th>2</th>\n",
       "      <td>세아메카닉스</td>\n",
       "      <td>코스닥</td>\n",
       "      <td>기타 금속 가공제품 제조업</td>\n",
       "      <td>82,695 (백만원)</td>\n",
       "      <td>4,254 (백만원)</td>\n",
       "      <td>2,648 (백만원)</td>\n",
       "      <td>396300</td>\n",
       "      <td>중소일반</td>\n",
       "      <td>4,400 원</td>\n",
       "      <td>신한금융투자</td>\n",
       "      <td>2022.03.10 ~ 2022.03.11</td>\n",
       "      <td>2022.03.15 ~ 2022.03.16</td>\n",
       "      <td>2022.03.24</td>\n",
       "      <td>기관경쟁률 1812.83:1 의무보유확약 6.73%</td>\n",
       "      <td>기관경쟁률 1812.83:1 의무보유확약 6.73%</td>\n",
       "    </tr>\n",
       "    <tr>\n",
       "      <th>3</th>\n",
       "      <td>공구우먼</td>\n",
       "      <td>코스닥</td>\n",
       "      <td>섬유, 의복, 신발 및 가죽제품 소매업</td>\n",
       "      <td>32,683 (백만원)</td>\n",
       "      <td>4,346 (백만원)</td>\n",
       "      <td>367 (백만원)</td>\n",
       "      <td>366030</td>\n",
       "      <td>중소일반</td>\n",
       "      <td>20,000 원</td>\n",
       "      <td>미래에셋증권</td>\n",
       "      <td>2022.03.07 ~ 2022.03.08</td>\n",
       "      <td>2022.03.14 ~ 2022.03.15</td>\n",
       "      <td>2022.03.23</td>\n",
       "      <td>기관경쟁률 56.9:1 의무보유확약 2.65%</td>\n",
       "      <td>기관경쟁률 56.9:1 의무보유확약 2.65%</td>\n",
       "    </tr>\n",
       "    <tr>\n",
       "      <th>4</th>\n",
       "      <td>유일로보틱스</td>\n",
       "      <td>코스닥</td>\n",
       "      <td>특수 목적용 기계 제조업</td>\n",
       "      <td>27,952 (백만원)</td>\n",
       "      <td>2,505 (백만원)</td>\n",
       "      <td>4,290 (백만원)</td>\n",
       "      <td>388720</td>\n",
       "      <td>중소일반</td>\n",
       "      <td>10,000 원</td>\n",
       "      <td>한국투자증권</td>\n",
       "      <td>2022.02.24 ~ 2022.02.25</td>\n",
       "      <td>2022.03.07 ~ 2022.03.08</td>\n",
       "      <td>2022.03.18</td>\n",
       "      <td>기관경쟁률 1756.45:1 의무보유확약 15.92%</td>\n",
       "      <td>기관경쟁률 1756.45:1 의무보유확약 15.92%</td>\n",
       "    </tr>\n",
       "    <tr>\n",
       "      <th>...</th>\n",
       "      <td>...</td>\n",
       "      <td>...</td>\n",
       "      <td>...</td>\n",
       "      <td>...</td>\n",
       "      <td>...</td>\n",
       "      <td>...</td>\n",
       "      <td>...</td>\n",
       "      <td>...</td>\n",
       "      <td>...</td>\n",
       "      <td>...</td>\n",
       "      <td>...</td>\n",
       "      <td>...</td>\n",
       "      <td>...</td>\n",
       "      <td>...</td>\n",
       "      <td>...</td>\n",
       "    </tr>\n",
       "    <tr>\n",
       "      <th>693</th>\n",
       "      <td>코렌</td>\n",
       "      <td>코스닥</td>\n",
       "      <td>안경, 사진기 및 기타 광학기기 제조업</td>\n",
       "      <td>65,341 (백만원)</td>\n",
       "      <td>4,712 (백만원)</td>\n",
       "      <td>2,242 (백만원)</td>\n",
       "      <td>78650</td>\n",
       "      <td>중소벤쳐</td>\n",
       "      <td>5,800 원</td>\n",
       "      <td>대우증권</td>\n",
       "      <td>2010.10.04 ~ 2010.10.05</td>\n",
       "      <td>2010.10.11 ~ 2010.10.12</td>\n",
       "      <td>2010.10.22</td>\n",
       "      <td>기관경쟁률 의무보유확약 0.00%</td>\n",
       "      <td>0</td>\n",
       "    </tr>\n",
       "    <tr>\n",
       "      <th>694</th>\n",
       "      <td>아이씨코리아</td>\n",
       "      <td>코스닥</td>\n",
       "      <td>전자카드 제조업</td>\n",
       "      <td>31,498 (백만원)</td>\n",
       "      <td>2,424 (백만원)</td>\n",
       "      <td>4,937 (백만원)</td>\n",
       "      <td>68940</td>\n",
       "      <td>중소벤쳐</td>\n",
       "      <td>2,800 원</td>\n",
       "      <td>한화증권</td>\n",
       "      <td>2010.09.30 ~ 2010.10.01</td>\n",
       "      <td>2010.10.07 ~ 2010.10.08</td>\n",
       "      <td>2010.10.19</td>\n",
       "      <td>기관경쟁률 의무보유확약 0.00%</td>\n",
       "      <td>0</td>\n",
       "    </tr>\n",
       "    <tr>\n",
       "      <th>695</th>\n",
       "      <td>휠라코리아</td>\n",
       "      <td>거래소</td>\n",
       "      <td>셔츠 및 외의 도매업</td>\n",
       "      <td>357,373 (백만원)</td>\n",
       "      <td>17,214 (백만원)</td>\n",
       "      <td>143,315 (백만원)</td>\n",
       "      <td>81660</td>\n",
       "      <td>중소일반</td>\n",
       "      <td>35,000 원</td>\n",
       "      <td>삼성증권</td>\n",
       "      <td>2010.09.06 ~ 2010.09.07</td>\n",
       "      <td>2010.09.14 ~ 2010.09.15</td>\n",
       "      <td>2010.09.28</td>\n",
       "      <td>기관경쟁률 의무보유확약 0.00%</td>\n",
       "      <td>0</td>\n",
       "    </tr>\n",
       "    <tr>\n",
       "      <th>696</th>\n",
       "      <td>포메탈</td>\n",
       "      <td>코스닥</td>\n",
       "      <td>구조용 금속제품, 탱크 및 증기발생기 제조업</td>\n",
       "      <td>41,155 (백만원)</td>\n",
       "      <td>2,469 (백만원)</td>\n",
       "      <td>2,093 (백만원)</td>\n",
       "      <td>119500</td>\n",
       "      <td>중소일반</td>\n",
       "      <td>6,000 원</td>\n",
       "      <td>IBK투자증권</td>\n",
       "      <td>2010.09.02 ~ 2010.09.03</td>\n",
       "      <td>2010.09.09 ~ 2010.09.10</td>\n",
       "      <td>2010.09.17</td>\n",
       "      <td>기관경쟁률 의무보유확약 0.00%</td>\n",
       "      <td>0</td>\n",
       "    </tr>\n",
       "    <tr>\n",
       "      <th>697</th>\n",
       "      <td>한국인포데이타</td>\n",
       "      <td>거래소</td>\n",
       "      <td>데이터베이스 및 온라인 정보제공업</td>\n",
       "      <td>245,155 (백만원)</td>\n",
       "      <td>12,314 (백만원)</td>\n",
       "      <td>20,266 (백만원)</td>\n",
       "      <td>58850</td>\n",
       "      <td>중소일반</td>\n",
       "      <td>2,600 원</td>\n",
       "      <td>한국투자증권</td>\n",
       "      <td>2010.09.01 ~ 2010.09.02</td>\n",
       "      <td>2010.09.07 ~ 2010.09.08</td>\n",
       "      <td>2010.09.16</td>\n",
       "      <td>기관경쟁률 의무보유확약 0.00%</td>\n",
       "      <td>0</td>\n",
       "    </tr>\n",
       "  </tbody>\n",
       "</table>\n",
       "<p>698 rows × 15 columns</p>\n",
       "</div>"
      ],
      "text/plain": [
       "         기업명 시장구분                         업종            매출액           순이익  \\\n",
       "0       포바이포  코스닥  영화, 비디오물, 방송프로그램 제작 및 배급업   13,993 (백만원)   1,354 (백만원)   \n",
       "1       지투파워  코스닥  전동기, 발전기 및 전기 변환 공급 제어 장치   29,135 (백만원)   2,162 (백만원)   \n",
       "2     세아메카닉스  코스닥             기타 금속 가공제품 제조업   82,695 (백만원)   4,254 (백만원)   \n",
       "3       공구우먼  코스닥      섬유, 의복, 신발 및 가죽제품 소매업   32,683 (백만원)   4,346 (백만원)   \n",
       "4     유일로보틱스  코스닥              특수 목적용 기계 제조업   27,952 (백만원)   2,505 (백만원)   \n",
       "..       ...  ...                        ...            ...           ...   \n",
       "693       코렌  코스닥      안경, 사진기 및 기타 광학기기 제조업   65,341 (백만원)   4,712 (백만원)   \n",
       "694   아이씨코리아  코스닥                   전자카드 제조업   31,498 (백만원)   2,424 (백만원)   \n",
       "695    휠라코리아  거래소                셔츠 및 외의 도매업  357,373 (백만원)  17,214 (백만원)   \n",
       "696      포메탈  코스닥   구조용 금속제품, 탱크 및 증기발생기 제조업   41,155 (백만원)   2,469 (백만원)   \n",
       "697  한국인포데이타  거래소         데이터베이스 및 온라인 정보제공업  245,155 (백만원)  12,314 (백만원)   \n",
       "\n",
       "               자본금    종목코드  기업구분     확정공모가          주간사  \\\n",
       "0      5,112 (백만원)  389140  중소일반  17,000 원       미래에셋증권   \n",
       "1      1,843 (백만원)  388050  중소일반  16,400 원  한국투자증권,KB증권   \n",
       "2      2,648 (백만원)  396300  중소일반   4,400 원       신한금융투자   \n",
       "3        367 (백만원)  366030  중소일반  20,000 원       미래에셋증권   \n",
       "4      4,290 (백만원)  388720  중소일반  10,000 원       한국투자증권   \n",
       "..             ...     ...   ...       ...          ...   \n",
       "693    2,242 (백만원)   78650  중소벤쳐   5,800 원         대우증권   \n",
       "694    4,937 (백만원)   68940  중소벤쳐   2,800 원         한화증권   \n",
       "695  143,315 (백만원)   81660  중소일반  35,000 원         삼성증권   \n",
       "696    2,093 (백만원)  119500  중소일반   6,000 원      IBK투자증권   \n",
       "697   20,266 (백만원)   58850  중소일반   2,600 원       한국투자증권   \n",
       "\n",
       "                       수요예측일                    공모청약일         상장일  \\\n",
       "0    2022.04.14 ~ 2022.04.15  2022.04.19 ~ 2022.04.20  2022.04.28   \n",
       "1    2022.03.17 ~ 2022.03.18  2022.03.22 ~ 2022.03.23  2022.04.01   \n",
       "2    2022.03.10 ~ 2022.03.11  2022.03.15 ~ 2022.03.16  2022.03.24   \n",
       "3    2022.03.07 ~ 2022.03.08  2022.03.14 ~ 2022.03.15  2022.03.23   \n",
       "4    2022.02.24 ~ 2022.02.25  2022.03.07 ~ 2022.03.08  2022.03.18   \n",
       "..                       ...                      ...         ...   \n",
       "693  2010.10.04 ~ 2010.10.05  2010.10.11 ~ 2010.10.12  2010.10.22   \n",
       "694  2010.09.30 ~ 2010.10.01  2010.10.07 ~ 2010.10.08  2010.10.19   \n",
       "695  2010.09.06 ~ 2010.09.07  2010.09.14 ~ 2010.09.15  2010.09.28   \n",
       "696  2010.09.02 ~ 2010.09.03  2010.09.09 ~ 2010.09.10  2010.09.17   \n",
       "697  2010.09.01 ~ 2010.09.02  2010.09.07 ~ 2010.09.08  2010.09.16   \n",
       "\n",
       "                              기관경쟁률                          의무보유확약  \n",
       "0    기관경쟁률 1846.32 :1 의무보유확약 55.52%  기관경쟁률 1846.32 :1 의무보유확약 55.52%  \n",
       "1     기관경쟁률 1729.63:1 의무보유확약 11.16%   기관경쟁률 1729.63:1 의무보유확약 11.16%  \n",
       "2      기관경쟁률 1812.83:1 의무보유확약 6.73%    기관경쟁률 1812.83:1 의무보유확약 6.73%  \n",
       "3         기관경쟁률 56.9:1 의무보유확약 2.65%       기관경쟁률 56.9:1 의무보유확약 2.65%  \n",
       "4     기관경쟁률 1756.45:1 의무보유확약 15.92%   기관경쟁률 1756.45:1 의무보유확약 15.92%  \n",
       "..                              ...                             ...  \n",
       "693              기관경쟁률 의무보유확약 0.00%                               0  \n",
       "694              기관경쟁률 의무보유확약 0.00%                               0  \n",
       "695              기관경쟁률 의무보유확약 0.00%                               0  \n",
       "696              기관경쟁률 의무보유확약 0.00%                               0  \n",
       "697              기관경쟁률 의무보유확약 0.00%                               0  \n",
       "\n",
       "[698 rows x 15 columns]"
      ]
     },
     "execution_count": 3,
     "metadata": {},
     "output_type": "execute_result"
    }
   ],
   "source": [
    "df_kr_company"
   ]
  },
  {
   "cell_type": "code",
   "execution_count": 39,
   "id": "3ceffca7",
   "metadata": {
    "id": "3ceffca7"
   },
   "outputs": [],
   "source": [
    "# del df_kr_company['Unnamed: 0']"
   ]
  },
  {
   "cell_type": "code",
   "execution_count": 4,
   "id": "122d0357",
   "metadata": {
    "id": "122d0357",
    "scrolled": true
   },
   "outputs": [],
   "source": [
    "lst_kr_company = df_kr_company.loc[:,'기업명'].to_list()"
   ]
  },
  {
   "cell_type": "code",
   "execution_count": null,
   "id": "51dc196b",
   "metadata": {},
   "outputs": [],
   "source": [
    "씨에스에쏠라"
   ]
  },
  {
   "cell_type": "code",
   "execution_count": 5,
   "id": "87ae76a7",
   "metadata": {
    "id": "87ae76a7",
    "scrolled": true
   },
   "outputs": [
    {
     "data": {
      "text/plain": [
       "['포바이포',\n",
       " '지투파워',\n",
       " '세아메카닉스',\n",
       " '공구우먼',\n",
       " '유일로보틱스',\n",
       " '모아데이타',\n",
       " '노을',\n",
       " '비씨엔씨',\n",
       " '풍원정밀',\n",
       " '브이씨',\n",
       " '스톤브릿지벤처스',\n",
       " '퓨런티어',\n",
       " '바이오에프디엔씨',\n",
       " '인카금융서비스',\n",
       " '나래나노텍',\n",
       " '아셈스',\n",
       " '스코넥',\n",
       " '이지트로닉스',\n",
       " 'LG에너지솔루션',\n",
       " '애드바이오텍',\n",
       " '케이옥션',\n",
       " '오토앤',\n",
       " '래몽래인',\n",
       " '케이티비네트워크',\n",
       " '툴젠',\n",
       " '알비더블유',\n",
       " '마인즈랩',\n",
       " '바이옵트로',\n",
       " '트윔',\n",
       " '지오엘리먼트',\n",
       " '비트나인',\n",
       " '디어유',\n",
       " '아이티아이즈',\n",
       " '지니너스',\n",
       " '카카오페이',\n",
       " '피코그램',\n",
       " '엔켐',\n",
       " '리파인',\n",
       " '지앤비에스엔지니어링',\n",
       " '아이패밀리에스씨',\n",
       " '차백신연구소',\n",
       " '지아이텍',\n",
       " '케이카',\n",
       " '씨유테크',\n",
       " '원준',\n",
       " '아스플로',\n",
       " '에스앤디',\n",
       " '실리콘투',\n",
       " '프롬바이오',\n",
       " '바이오플러스',\n",
       " '현대중공업',\n",
       " '와이엠텍',\n",
       " '에이비온',\n",
       " '일진하이솔루스',\n",
       " '브레인즈컴퍼니',\n",
       " '아주스틸',\n",
       " '롯데렌탈',\n",
       " '딥노이드',\n",
       " '한컴라이프케어',\n",
       " '플래티어',\n",
       " '엠로',\n",
       " '크래프톤',\n",
       " '원티드랩',\n",
       " '에이치케이이노엔',\n",
       " '카카오뱅크',\n",
       " '에브리봇',\n",
       " '맥스트',\n",
       " '에스디바이오센서',\n",
       " '오비고',\n",
       " '아모센스',\n",
       " '이노뎁',\n",
       " '라온테크',\n",
       " '엘비루셈',\n",
       " '에이디엠코리아',\n",
       " '제주맥주',\n",
       " '진시스템',\n",
       " '삼영에스앤씨',\n",
       " '샘씨엔에스',\n",
       " '씨앤씨인터내셔널',\n",
       " '에이치피오',\n",
       " 'SK아이이테크놀로지',\n",
       " '쿠콘',\n",
       " '해성티피씨',\n",
       " '이삭엔지니어링',\n",
       " '엔시스',\n",
       " '자이언트스텝',\n",
       " '제노코',\n",
       " '라이프시맨틱스',\n",
       " 'SK바이오사이언스',\n",
       " '바이오다인',\n",
       " '프레스티지바이오로직스',\n",
       " '싸이버원',\n",
       " '나노씨엠에스',\n",
       " '뷰노',\n",
       " '씨이랩',\n",
       " '유일에너테크',\n",
       " '오로스테크놀로지',\n",
       " '피엔에이치테크',\n",
       " '아이퀘스트',\n",
       " '와이더플래닛',\n",
       " '레인보우로보틱스',\n",
       " '솔루엠',\n",
       " '핑거',\n",
       " '씨앤투스성진',\n",
       " '모비릭스',\n",
       " '선진뷰티사이언스',\n",
       " '엔비티',\n",
       " '석경에이티',\n",
       " '지놈앤컴퍼니',\n",
       " '프리시젼바이오',\n",
       " '알체라',\n",
       " '에프앤가이드',\n",
       " '티엘비',\n",
       " '인바이오',\n",
       " '엔젠바이오',\n",
       " '퀀타매트릭스',\n",
       " '명신산업',\n",
       " '엔에프씨',\n",
       " '앱코',\n",
       " '포인트모바일',\n",
       " '클리노믹스',\n",
       " '제일전기공업',\n",
       " '하나기술',\n",
       " '티앤엘',\n",
       " '에이플러스에셋어드바이저',\n",
       " '네패스아크',\n",
       " '고바이오랩',\n",
       " '교촌에프앤비',\n",
       " '소룩스',\n",
       " '위드텍',\n",
       " '센코',\n",
       " '바이브컴퍼니',\n",
       " '미코바이오메드',\n",
       " '피플바이오',\n",
       " '빅히트',\n",
       " '넥스틴',\n",
       " '원방테크',\n",
       " '비나텍',\n",
       " '비비씨',\n",
       " '핌스',\n",
       " '압타머사이언스',\n",
       " '카카오게임즈',\n",
       " '피엔케이피부임상연구센타',\n",
       " '아이디피',\n",
       " '셀레믹스',\n",
       " '브랜드엑스코퍼레이션',\n",
       " '영림원소프트랩',\n",
       " '한국파마',\n",
       " '이루다',\n",
       " '이엔드디',\n",
       " '와이팜',\n",
       " '엠투아이',\n",
       " '더네이쳐홀딩스',\n",
       " '제놀루션',\n",
       " '솔트룩스',\n",
       " '티에스아이',\n",
       " '에이프로',\n",
       " '소마젠',\n",
       " '위더스제약',\n",
       " '신도기연',\n",
       " 'SK바이오팜',\n",
       " '마크로밀엠브레인',\n",
       " '젠큐릭스',\n",
       " '엘이티',\n",
       " '에스씨엠생명과학',\n",
       " '드림씨아이에스',\n",
       " '엔피디',\n",
       " '플레이디',\n",
       " '서울바이오시스',\n",
       " '제이앤티씨',\n",
       " '켄코아에어로스페이스',\n",
       " '레몬',\n",
       " '서남',\n",
       " '위세아이텍',\n",
       " '천랩',\n",
       " '피피아이',\n",
       " '메탈라이프',\n",
       " '신테카바이오',\n",
       " '제이엘케이인스펙션',\n",
       " '태웅로직스',\n",
       " '리메드',\n",
       " '코리아센터',\n",
       " '노터스',\n",
       " '센트랄모텍',\n",
       " '티움바이오',\n",
       " '코리아에셋투자증권',\n",
       " '씨에스베어링',\n",
       " '우양',\n",
       " '에스제이그룹',\n",
       " '현대에너지솔루션',\n",
       " '제테마',\n",
       " '한화시스템',\n",
       " '라파스',\n",
       " '아이티엠반도체',\n",
       " '자이에스앤디',\n",
       " '티라유텍',\n",
       " '미디어젠',\n",
       " '캐리소프트',\n",
       " '지누스',\n",
       " '케이엔제이',\n",
       " '엔바이오니아',\n",
       " '팜스빌',\n",
       " '라온피플',\n",
       " '롯데리츠',\n",
       " '아톤',\n",
       " '녹십자웰빙',\n",
       " '올리패스',\n",
       " '라닉스',\n",
       " '한독크린텍',\n",
       " '네오크레마',\n",
       " '덕산테코피아',\n",
       " '한국바이오젠',\n",
       " '세경하이테크',\n",
       " '윌링스',\n",
       " '대모엔지니어링',\n",
       " '에이스토리',\n",
       " '플리토',\n",
       " '세틀뱅크',\n",
       " '아이스크림에듀',\n",
       " '펌텍코리아',\n",
       " '에이에프더블류',\n",
       " '압타바이오',\n",
       " '까스텔바쟉',\n",
       " '마이크로디지탈',\n",
       " '수젠텍',\n",
       " '컴퍼니케이파트너스',\n",
       " '아모그린텍',\n",
       " '현대오토에버',\n",
       " '지노믹트리',\n",
       " '이지케어텍',\n",
       " '미래에셋벤처투자',\n",
       " '드림텍',\n",
       " '에코프로비엠',\n",
       " '천보',\n",
       " '이노테라피',\n",
       " '노랑풍선',\n",
       " '웹케시',\n",
       " '에어부산',\n",
       " '비피도',\n",
       " '유틸렉스',\n",
       " '디케이티',\n",
       " '위지윅스튜디오',\n",
       " '에이비엘바이오',\n",
       " '머큐리',\n",
       " '전진바이오팜',\n",
       " '이노메트리',\n",
       " '뉴트리',\n",
       " '대유에이피',\n",
       " '윙입푸드',\n",
       " '베스파',\n",
       " '에코캡',\n",
       " '엠아이텍',\n",
       " '네오펙트',\n",
       " '티로보틱스',\n",
       " '남화산업',\n",
       " '티앤알바이오팹',\n",
       " '아시아나IDT',\n",
       " '아주IB투자',\n",
       " '싸이토젠',\n",
       " '디알젬',\n",
       " '파멥신',\n",
       " '디자인',\n",
       " '디케이앤디',\n",
       " '노바렉스',\n",
       " '셀리버리',\n",
       " '대보마그네틱',\n",
       " '엘앤씨바이오',\n",
       " '노바텍',\n",
       " '로보티즈',\n",
       " '옵티팜',\n",
       " '에스퓨얼셀',\n",
       " '푸드나무',\n",
       " '크리스에프앤씨',\n",
       " '나우아이비캐피탈',\n",
       " '하나제약',\n",
       " '지티지웰니스',\n",
       " '우진아이엔에스',\n",
       " '명성티엔에스',\n",
       " '디지캡',\n",
       " '액트로',\n",
       " '에이피티씨',\n",
       " '오파스넷',\n",
       " '바이오솔루션',\n",
       " '대유',\n",
       " '에스에스알',\n",
       " '디아이티',\n",
       " '휴네시온',\n",
       " '티웨이항공',\n",
       " '한국유니온제약',\n",
       " '롯데정보통신',\n",
       " '엠코르셋',\n",
       " '올릭스',\n",
       " '아이큐어',\n",
       " '에스브이인베스트먼트',\n",
       " '이원다이애그노믹스',\n",
       " '이리츠코크렙기업',\n",
       " '파워넷',\n",
       " '현대사료',\n",
       " '세종메디칼',\n",
       " '제노레이',\n",
       " '케어랩스',\n",
       " '애경산업',\n",
       " '린드먼아시아인베스트먼트',\n",
       " '에코마이스터',\n",
       " '엔지켐생명과학',\n",
       " '오스테오닉',\n",
       " '동구바이오제약',\n",
       " '알리코제약',\n",
       " '아시아종묘',\n",
       " '카페24',\n",
       " '링크제니시스',\n",
       " '배럴',\n",
       " '에스지이',\n",
       " '씨앤지하이테크',\n",
       " '시스웍',\n",
       " '디바이스이엔지',\n",
       " '진에어',\n",
       " '동양피스톤',\n",
       " '메카로',\n",
       " '씨티케이코스메틱스',\n",
       " '대원',\n",
       " '에스트래픽',\n",
       " '체리부로',\n",
       " '비즈니스온커뮤니케이션',\n",
       " '삼양패키징',\n",
       " '이더블유케이',\n",
       " '알에스오토메이션',\n",
       " '모트렉스',\n",
       " '지니언스',\n",
       " '데이타솔루션',\n",
       " '디앤씨미디어',\n",
       " '셀트리온헬스케어',\n",
       " '이즈미디어',\n",
       " '힘스',\n",
       " '아우딘퓨쳐스',\n",
       " '브이원텍',\n",
       " '제일홀딩스',\n",
       " '보라티알',\n",
       " '필옵틱스',\n",
       " '삼양옵틱스',\n",
       " 'ING생명보험',\n",
       " '넷마블게임즈',\n",
       " '와이엠티',\n",
       " '하나머티리얼즈',\n",
       " '이엘피',\n",
       " '서진시스템',\n",
       " '코미코',\n",
       " '아스타',\n",
       " '덴티움',\n",
       " '에스디생명공학',\n",
       " '신신제약',\n",
       " '에프엔에스테크',\n",
       " '모바일어플라이언스',\n",
       " '피씨엘',\n",
       " '호전실업',\n",
       " '서플러스글로벌',\n",
       " '유바이오로직스',\n",
       " '퓨전데이타',\n",
       " '디에스씨인베스트먼트',\n",
       " '티에스인베스트먼트',\n",
       " '마이크로프랜드',\n",
       " '코썬바이오',\n",
       " '애니젠',\n",
       " '신라젠',\n",
       " '유니온커뮤니티',\n",
       " '퓨쳐켐',\n",
       " '핸즈코퍼레이션',\n",
       " '엘앤케이바이오',\n",
       " '뉴파워프라즈마',\n",
       " '오션브릿지',\n",
       " '에이치엔티일렉트로닉스',\n",
       " '핸디소프트',\n",
       " '두산밥캣',\n",
       " '삼성바이오로직스',\n",
       " '클리오',\n",
       " '오가닉티코스메틱',\n",
       " '로고스바이오시스템스',\n",
       " '인크로스',\n",
       " '건강사랑',\n",
       " '코스메카코리아',\n",
       " '제이더블유생명과학',\n",
       " '인텔리안테크놀로지스',\n",
       " '에이치시티',\n",
       " '앤디포스',\n",
       " '플러스기술',\n",
       " '미투온',\n",
       " '엘에스전선아시아',\n",
       " '유니테크노',\n",
       " '자이글',\n",
       " '에코마케팅',\n",
       " '엔지스테크널러지',\n",
       " '팍스넷',\n",
       " '두올',\n",
       " '우리손에프앤지',\n",
       " '옵토팩',\n",
       " '장원테크',\n",
       " '한국자산신탁',\n",
       " '바이오리더스',\n",
       " '피앤씨테크',\n",
       " '녹십자랩셀',\n",
       " '해성디에스',\n",
       " '에스티팜',\n",
       " '알엔투테크놀로지',\n",
       " '용평리조트',\n",
       " '해태제과식품',\n",
       " '레이언스',\n",
       " '씨엠에스에듀',\n",
       " '동양파일',\n",
       " '대림씨엔에스',\n",
       " '팬젠',\n",
       " '에이피위성통신',\n",
       " '큐리언트',\n",
       " '안트로젠',\n",
       " '제이에스코퍼레이션',\n",
       " '아이엠텍',\n",
       " '유니트론텍',\n",
       " '한솔씨앤피',\n",
       " '코리아오토글라스',\n",
       " '에스와이패널',\n",
       " '잇츠스킨',\n",
       " '육일씨엔에쓰',\n",
       " '휴젤',\n",
       " '코디엠',\n",
       " '이에스브이',\n",
       " '한국맥널티',\n",
       " '아진산업',\n",
       " '덱스터',\n",
       " '메가엠디',\n",
       " '씨트리',\n",
       " '강스템바이오텍',\n",
       " '파크시스템스',\n",
       " '보광산업',\n",
       " '예스티',\n",
       " '뉴트리바이오텍',\n",
       " '멕아이씨에스',\n",
       " '엔에스',\n",
       " '세진중공업',\n",
       " '미래테크놀로지',\n",
       " '하이즈항공',\n",
       " '엠지메드',\n",
       " '리드',\n",
       " '케이디켐',\n",
       " '매직마이크로',\n",
       " '네오오토',\n",
       " '케어젠',\n",
       " '아이진',\n",
       " '나무가',\n",
       " '금호에이치티',\n",
       " '유앤아이',\n",
       " '제주항공',\n",
       " '더블유게임즈',\n",
       " '연우',\n",
       " '에이티젠',\n",
       " '엑시콘',\n",
       " '에치디프로',\n",
       " '엘아이지넥스원',\n",
       " '동일제강',\n",
       " '타이거일렉',\n",
       " '아이콘트롤스',\n",
       " '제너셈',\n",
       " '인포마크',\n",
       " '웹스',\n",
       " '에이제이네트웍스',\n",
       " '파인텍',\n",
       " '흥국에프엔비',\n",
       " '칩스앤미디어',\n",
       " '아시아경제신문사',\n",
       " '로지시스',\n",
       " '아이쓰리시스템',\n",
       " '파마리서치프로덕트',\n",
       " '펩트론',\n",
       " '이노션',\n",
       " '토니모리',\n",
       " '미래에셋생명보험',\n",
       " '동운아나텍',\n",
       " '민앤지',\n",
       " '경보제약',\n",
       " '유테크',\n",
       " '에스엔텍',\n",
       " '코아스템',\n",
       " '세미콘라이트',\n",
       " '에스케이디앤디',\n",
       " '베셀',\n",
       " '싸이맥스',\n",
       " '픽셀플러스',\n",
       " '제노포커스',\n",
       " '유지인트',\n",
       " '농수산홈쇼핑',\n",
       " '세화아이엠씨',\n",
       " '포시에스',\n",
       " '국일신동',\n",
       " '영백씨엠',\n",
       " '서전기전',\n",
       " '하이셈',\n",
       " '휴메딕스',\n",
       " '오킨스전자',\n",
       " '넥스트엔터테인먼트월드',\n",
       " '아스트',\n",
       " '아이티센',\n",
       " '삼성에버랜드',\n",
       " '하이로닉',\n",
       " '디지털이엠씨',\n",
       " '녹십자엠에스',\n",
       " '랩지노믹스',\n",
       " '에이디테크놀로지',\n",
       " '비씨월드제약',\n",
       " '알테오젠',\n",
       " '에스케이씨코오롱피아이',\n",
       " '대창스틸',\n",
       " '에프엔씨엔터테인먼트',\n",
       " '씨에스윈드',\n",
       " '텔콘',\n",
       " '파티게임즈',\n",
       " '디에이테크놀로지',\n",
       " '삼성SDS',\n",
       " '테고사이언스',\n",
       " '슈피겐코리아',\n",
       " '테라셈',\n",
       " '영우디에스피',\n",
       " '데브시스터즈',\n",
       " '메디아나',\n",
       " '감마누',\n",
       " '신화콘텍',\n",
       " '쿠쿠전자',\n",
       " '덕신하우징',\n",
       " '파버나인',\n",
       " '창해에탄올',\n",
       " '윈하이텍',\n",
       " '아진엑스텍',\n",
       " '화인베스틸',\n",
       " '트루윈',\n",
       " '캐스텍코리아',\n",
       " '보광훼미리마트',\n",
       " '오이솔루션',\n",
       " '인터파크INT',\n",
       " '한국정보인증',\n",
       " '이지웰페어',\n",
       " '솔루에타',\n",
       " '인트로메딕',\n",
       " '맥시스',\n",
       " '알티캐스트',\n",
       " '엔브이에이치코리아',\n",
       " '현대공업',\n",
       " '디엠티',\n",
       " '신송홀딩스',\n",
       " '라이온켐텍',\n",
       " '램테크놀러지',\n",
       " '미동전자통신',\n",
       " '에이씨티',\n",
       " '해성옵틱스',\n",
       " '현대로템',\n",
       " '내츄럴엔도텍',\n",
       " '테스나',\n",
       " '파수닷컴',\n",
       " '엘티씨',\n",
       " '지엔씨에너지',\n",
       " '아미코젠',\n",
       " '파이오링크',\n",
       " '금호N.T',\n",
       " 'KG이티에스',\n",
       " '나스미디어',\n",
       " '엑세스바이오',\n",
       " '디에스알',\n",
       " '레고켐바이오사이언스',\n",
       " '삼목강업',\n",
       " '세호로보트',\n",
       " '윈팩',\n",
       " '코렌텍',\n",
       " '제로투세븐',\n",
       " '지디',\n",
       " '아이원스',\n",
       " '우리이앤엘',\n",
       " '아이센스',\n",
       " '포티스',\n",
       " '씨에스엘쏠라',\n",
       " 'AXES홀딩스',\n",
       " '우리로광통신',\n",
       " '디젠스',\n",
       " '맥스로텍',\n",
       " 'GMB코리아',\n",
       " '와이엠씨',\n",
       " 'CJ헬로비전',\n",
       " '아바텍',\n",
       " '코이즈',\n",
       " '모다정보통신',\n",
       " '나노스',\n",
       " '아주오토렌탈',\n",
       " '우양에이치씨',\n",
       " '엠씨넥스',\n",
       " '네이블커뮤니케이션즈',\n",
       " '디지탈옵틱',\n",
       " '피엔티',\n",
       " '사조씨푸드',\n",
       " '비아트론',\n",
       " '코오롱패션머티리얼',\n",
       " '빛샘전자',\n",
       " '휴비스',\n",
       " '사람인에이치알',\n",
       " '뉴로스',\n",
       " '남화토건',\n",
       " '동아팜텍',\n",
       " '원익머트리얼즈',\n",
       " '디엔에이링크',\n",
       " '나이스디앤비',\n",
       " 'GS리테일',\n",
       " '시큐브',\n",
       " '서암기계공업',\n",
       " '씨유메디칼시스템',\n",
       " '인터지스',\n",
       " '사파이어테크놀로지',\n",
       " '티브이로직',\n",
       " '넥스트리밍',\n",
       " '에스에프씨',\n",
       " '이엠넷',\n",
       " '신진에스엠',\n",
       " '와이지엔터테인먼트',\n",
       " '쎄미시스코',\n",
       " '아이테스트',\n",
       " '테크윙',\n",
       " '신흥기계',\n",
       " '씨큐브',\n",
       " '씨엔플러스',\n",
       " '테라세미콘',\n",
       " '케이맥',\n",
       " '로보스타',\n",
       " '넥솔론',\n",
       " '대한과학',\n",
       " '피앤이솔루션',\n",
       " '화진',\n",
       " '제이씨케미칼',\n",
       " '아이씨디',\n",
       " '제닉',\n",
       " '경봉',\n",
       " '상아프론테크',\n",
       " '삼원강재',\n",
       " '나이벡',\n",
       " '옵티시스',\n",
       " '신세계인터내셔날',\n",
       " '대양전기공업',\n",
       " '한국항공우주산업',\n",
       " '하이마트',\n",
       " '탑금속',\n",
       " '쓰리피시스템',\n",
       " '엠케이트렌드',\n",
       " '리켐',\n",
       " '완리인터내셔널홀딩스',\n",
       " '코오롱플라스틱',\n",
       " '넥스트아이',\n",
       " '엘티에스',\n",
       " 'KT스카이라이프',\n",
       " '세아특수강',\n",
       " '케이엠에이치',\n",
       " '골프존',\n",
       " '한국종합기술',\n",
       " '이퓨쳐',\n",
       " '티케이케미칼',\n",
       " '일진머티리얼즈',\n",
       " '부스타',\n",
       " '현대위아',\n",
       " '나노신소재',\n",
       " '케이아이엔엑스',\n",
       " '티피씨',\n",
       " '제이엔케이히터',\n",
       " '엘비세미콘',\n",
       " '딜리',\n",
       " '블루콤',\n",
       " '인트론바이오테크놀로지',\n",
       " '씨그널정보통신',\n",
       " '다나와',\n",
       " '중국고섬공고',\n",
       " '티에스이',\n",
       " '인텍플러스',\n",
       " '두산엔진',\n",
       " '대구도시가스',\n",
       " '액트',\n",
       " '현대HCN',\n",
       " '한전산업개발',\n",
       " '대정화금',\n",
       " '한국인포서비스',\n",
       " '세우테크',\n",
       " '코라오홀딩스',\n",
       " '대구방송',\n",
       " '케이티롤',\n",
       " '시그네틱스',\n",
       " '한국전자인증',\n",
       " '코프라',\n",
       " '디케이락',\n",
       " '삼본정밀전자',\n",
       " '케이엔엔',\n",
       " '아나패스',\n",
       " '아이텍반도체',\n",
       " '인화정공',\n",
       " '누리플랜',\n",
       " '코렌',\n",
       " '아이씨코리아',\n",
       " '휠라코리아',\n",
       " '포메탈',\n",
       " '한국인포데이타']"
      ]
     },
     "execution_count": 5,
     "metadata": {},
     "output_type": "execute_result"
    }
   ],
   "source": [
    "lst_kr_company"
   ]
  },
  {
   "cell_type": "code",
   "execution_count": 7,
   "id": "37730903",
   "metadata": {
    "colab": {
     "base_uri": "https://localhost:8080/"
    },
    "id": "37730903",
    "outputId": "4c9a73f8-6a75-4f31-e880-ffb156a52b18"
   },
   "outputs": [
    {
     "data": {
      "text/plain": [
       "0      2022.04.28\n",
       "1      2022.04.01\n",
       "2      2022.03.24\n",
       "3      2022.03.23\n",
       "4      2022.03.18\n",
       "          ...    \n",
       "693    2010.10.22\n",
       "694    2010.10.19\n",
       "695    2010.09.28\n",
       "696    2010.09.17\n",
       "697    2010.09.16\n",
       "Name: 상장일, Length: 698, dtype: object"
      ]
     },
     "execution_count": 7,
     "metadata": {},
     "output_type": "execute_result"
    }
   ],
   "source": [
    "df_kr_company['상장일']"
   ]
  },
  {
   "cell_type": "code",
   "execution_count": null,
   "id": "303f22c1",
   "metadata": {},
   "outputs": [],
   "source": [
    "relative_news = []"
   ]
  },
  {
   "cell_type": "code",
   "execution_count": 17,
   "id": "d14dc706",
   "metadata": {
    "colab": {
     "base_uri": "https://localhost:8080/"
    },
    "id": "d14dc706",
    "outputId": "7fa4eb02-db24-42e7-951b-0670d8f46efe",
    "scrolled": false
   },
   "outputs": [
    {
     "name": "stderr",
     "output_type": "stream",
     "text": [
      "336it [3:50:24, 41.14s/it] \n"
     ]
    }
   ],
   "source": [
    "IPO_news = []\n",
    "for ind,IPO_name in tqdm(enumerate(lst_kr_company[362:])):\n",
    "    behind_date_1 = df_kr_company['상장일'][ind+362]\n",
    "    behind_date_2 = behind_date_1.replace('.','')\n",
    "    behind_year = int(behind_date_1[:4])\n",
    "    behind_month = int(behind_date_1[5:7])\n",
    "    behind_day = int(behind_date_1[8:10])\n",
    "    behind_date = (datetime.datetime(behind_year,behind_month,behind_day) - timedelta(days=1)).strftime(\"%Y.%m.%d\")\n",
    "    behind_date_0 = behind_date.replace('.','')\n",
    "    front_date_1 = (datetime.datetime(behind_year,behind_month,behind_day)- timedelta(days=30)).strftime(\"%Y.%m.%d\")\n",
    "    front_date_2 = front_date_1.replace('.','')  \n",
    "    page_num = 1\n",
    "#-------------------------------------------------------------------------------\n",
    "    while True:\n",
    "        url = f'https://search.naver.com/search.naver?where=news&query={IPO_name}&sm=tab_opt&sort=0&photo=0&field=0&pd=3&ds={front_date_1}&de={behind_date}&from{front_date_2}to{behind_date_0}&is_sug_officeid=&nso=so:r,p:all,a:all&start={page_num}'\n",
    "        response = requests.get(url,headers={'User-Agent':'Mozilla/5.0'})\n",
    "        html = response.text\n",
    "        p_soup = BeautifulSoup(html, 'html.parser')\n",
    "        page_article = len(p_soup.select('#main_pack > section > div > div.group_news > ul > li > div > div > div > div.info_group'))\n",
    "        if len(p_soup.select('#main_pack > section > div > div.group_news > ul > li > a')) != 0:\n",
    "            for value in range(len(p_soup.select('#main_pack > section > div > div.group_news > ul > li > a'))):\n",
    "                relative_news.append([IPO_name,p_soup.select('#main_pack > section > div > div.group_news > ul > li > a')[value].attrs['href']])\n",
    "        for article in range(page_article):\n",
    "            try:\n",
    "                n_url = p_soup.select('#main_pack > section > div > div.group_news > ul > li > div > div > div > div.info_group')[article].findAll()[-1].attrs['href']\n",
    "                response = requests.get(n_url,headers={'User-Agent':'Mozilla/5.0'})\n",
    "                html = response.text\n",
    "                soup = BeautifulSoup(html, 'html.parser')\n",
    "                healine = soup.select_one('#ct > div.media_end_head.go_trans > div.media_end_head_title > h2').get_text()\n",
    "                body_text = soup.select_one('#dic_area').get_text().replace('\\n','')\n",
    "                media_coverage = soup.select_one('#ct > div.media_end_head.go_trans > div.media_end_head_top > a').attrs['href']\n",
    "                IPO_news.append([IPO_name,media_coverage,healine,body_text])        \n",
    "            except:\n",
    "                continue\n",
    "        if p_soup.select_one(\"a.btn_next\").get('aria-disabled') == 'false':\n",
    "            page_num += 10\n",
    "        else:\n",
    "            break"
   ]
  },
  {
   "cell_type": "markdown",
   "id": "2d097632",
   "metadata": {},
   "source": [
    "- lst_kr_company[361] nontype"
   ]
  },
  {
   "cell_type": "code",
   "execution_count": 14,
   "id": "fc771e66",
   "metadata": {
    "collapsed": true
   },
   "outputs": [
    {
     "ename": "KeyError",
     "evalue": "361",
     "output_type": "error",
     "traceback": [
      "\u001b[1;31m---------------------------------------------------------------------------\u001b[0m",
      "\u001b[1;31mKeyError\u001b[0m                                  Traceback (most recent call last)",
      "\u001b[1;32m~\\anaconda3\\lib\\site-packages\\pandas\\core\\indexes\\base.py\u001b[0m in \u001b[0;36mget_loc\u001b[1;34m(self, key, method, tolerance)\u001b[0m\n\u001b[0;32m   3360\u001b[0m             \u001b[1;32mtry\u001b[0m\u001b[1;33m:\u001b[0m\u001b[1;33m\u001b[0m\u001b[1;33m\u001b[0m\u001b[0m\n\u001b[1;32m-> 3361\u001b[1;33m                 \u001b[1;32mreturn\u001b[0m \u001b[0mself\u001b[0m\u001b[1;33m.\u001b[0m\u001b[0m_engine\u001b[0m\u001b[1;33m.\u001b[0m\u001b[0mget_loc\u001b[0m\u001b[1;33m(\u001b[0m\u001b[0mcasted_key\u001b[0m\u001b[1;33m)\u001b[0m\u001b[1;33m\u001b[0m\u001b[1;33m\u001b[0m\u001b[0m\n\u001b[0m\u001b[0;32m   3362\u001b[0m             \u001b[1;32mexcept\u001b[0m \u001b[0mKeyError\u001b[0m \u001b[1;32mas\u001b[0m \u001b[0merr\u001b[0m\u001b[1;33m:\u001b[0m\u001b[1;33m\u001b[0m\u001b[1;33m\u001b[0m\u001b[0m\n",
      "\u001b[1;32m~\\anaconda3\\lib\\site-packages\\pandas\\_libs\\index.pyx\u001b[0m in \u001b[0;36mpandas._libs.index.IndexEngine.get_loc\u001b[1;34m()\u001b[0m\n",
      "\u001b[1;32m~\\anaconda3\\lib\\site-packages\\pandas\\_libs\\index.pyx\u001b[0m in \u001b[0;36mpandas._libs.index.IndexEngine.get_loc\u001b[1;34m()\u001b[0m\n",
      "\u001b[1;32mpandas\\_libs\\hashtable_class_helper.pxi\u001b[0m in \u001b[0;36mpandas._libs.hashtable.PyObjectHashTable.get_item\u001b[1;34m()\u001b[0m\n",
      "\u001b[1;32mpandas\\_libs\\hashtable_class_helper.pxi\u001b[0m in \u001b[0;36mpandas._libs.hashtable.PyObjectHashTable.get_item\u001b[1;34m()\u001b[0m\n",
      "\u001b[1;31mKeyError\u001b[0m: 361",
      "\nThe above exception was the direct cause of the following exception:\n",
      "\u001b[1;31mKeyError\u001b[0m                                  Traceback (most recent call last)",
      "\u001b[1;32m~\\AppData\\Local\\Temp/ipykernel_16672/629989115.py\u001b[0m in \u001b[0;36m<module>\u001b[1;34m\u001b[0m\n\u001b[1;32m----> 1\u001b[1;33m \u001b[0mdf_kr_company\u001b[0m\u001b[1;33m[\u001b[0m\u001b[1;36m361\u001b[0m\u001b[1;33m]\u001b[0m\u001b[1;33m\u001b[0m\u001b[1;33m\u001b[0m\u001b[0m\n\u001b[0m",
      "\u001b[1;32m~\\anaconda3\\lib\\site-packages\\pandas\\core\\frame.py\u001b[0m in \u001b[0;36m__getitem__\u001b[1;34m(self, key)\u001b[0m\n\u001b[0;32m   3456\u001b[0m             \u001b[1;32mif\u001b[0m \u001b[0mself\u001b[0m\u001b[1;33m.\u001b[0m\u001b[0mcolumns\u001b[0m\u001b[1;33m.\u001b[0m\u001b[0mnlevels\u001b[0m \u001b[1;33m>\u001b[0m \u001b[1;36m1\u001b[0m\u001b[1;33m:\u001b[0m\u001b[1;33m\u001b[0m\u001b[1;33m\u001b[0m\u001b[0m\n\u001b[0;32m   3457\u001b[0m                 \u001b[1;32mreturn\u001b[0m \u001b[0mself\u001b[0m\u001b[1;33m.\u001b[0m\u001b[0m_getitem_multilevel\u001b[0m\u001b[1;33m(\u001b[0m\u001b[0mkey\u001b[0m\u001b[1;33m)\u001b[0m\u001b[1;33m\u001b[0m\u001b[1;33m\u001b[0m\u001b[0m\n\u001b[1;32m-> 3458\u001b[1;33m             \u001b[0mindexer\u001b[0m \u001b[1;33m=\u001b[0m \u001b[0mself\u001b[0m\u001b[1;33m.\u001b[0m\u001b[0mcolumns\u001b[0m\u001b[1;33m.\u001b[0m\u001b[0mget_loc\u001b[0m\u001b[1;33m(\u001b[0m\u001b[0mkey\u001b[0m\u001b[1;33m)\u001b[0m\u001b[1;33m\u001b[0m\u001b[1;33m\u001b[0m\u001b[0m\n\u001b[0m\u001b[0;32m   3459\u001b[0m             \u001b[1;32mif\u001b[0m \u001b[0mis_integer\u001b[0m\u001b[1;33m(\u001b[0m\u001b[0mindexer\u001b[0m\u001b[1;33m)\u001b[0m\u001b[1;33m:\u001b[0m\u001b[1;33m\u001b[0m\u001b[1;33m\u001b[0m\u001b[0m\n\u001b[0;32m   3460\u001b[0m                 \u001b[0mindexer\u001b[0m \u001b[1;33m=\u001b[0m \u001b[1;33m[\u001b[0m\u001b[0mindexer\u001b[0m\u001b[1;33m]\u001b[0m\u001b[1;33m\u001b[0m\u001b[1;33m\u001b[0m\u001b[0m\n",
      "\u001b[1;32m~\\anaconda3\\lib\\site-packages\\pandas\\core\\indexes\\base.py\u001b[0m in \u001b[0;36mget_loc\u001b[1;34m(self, key, method, tolerance)\u001b[0m\n\u001b[0;32m   3361\u001b[0m                 \u001b[1;32mreturn\u001b[0m \u001b[0mself\u001b[0m\u001b[1;33m.\u001b[0m\u001b[0m_engine\u001b[0m\u001b[1;33m.\u001b[0m\u001b[0mget_loc\u001b[0m\u001b[1;33m(\u001b[0m\u001b[0mcasted_key\u001b[0m\u001b[1;33m)\u001b[0m\u001b[1;33m\u001b[0m\u001b[1;33m\u001b[0m\u001b[0m\n\u001b[0;32m   3362\u001b[0m             \u001b[1;32mexcept\u001b[0m \u001b[0mKeyError\u001b[0m \u001b[1;32mas\u001b[0m \u001b[0merr\u001b[0m\u001b[1;33m:\u001b[0m\u001b[1;33m\u001b[0m\u001b[1;33m\u001b[0m\u001b[0m\n\u001b[1;32m-> 3363\u001b[1;33m                 \u001b[1;32mraise\u001b[0m \u001b[0mKeyError\u001b[0m\u001b[1;33m(\u001b[0m\u001b[0mkey\u001b[0m\u001b[1;33m)\u001b[0m \u001b[1;32mfrom\u001b[0m \u001b[0merr\u001b[0m\u001b[1;33m\u001b[0m\u001b[1;33m\u001b[0m\u001b[0m\n\u001b[0m\u001b[0;32m   3364\u001b[0m \u001b[1;33m\u001b[0m\u001b[0m\n\u001b[0;32m   3365\u001b[0m         \u001b[1;32mif\u001b[0m \u001b[0mis_scalar\u001b[0m\u001b[1;33m(\u001b[0m\u001b[0mkey\u001b[0m\u001b[1;33m)\u001b[0m \u001b[1;32mand\u001b[0m \u001b[0misna\u001b[0m\u001b[1;33m(\u001b[0m\u001b[0mkey\u001b[0m\u001b[1;33m)\u001b[0m \u001b[1;32mand\u001b[0m \u001b[1;32mnot\u001b[0m \u001b[0mself\u001b[0m\u001b[1;33m.\u001b[0m\u001b[0mhasnans\u001b[0m\u001b[1;33m:\u001b[0m\u001b[1;33m\u001b[0m\u001b[1;33m\u001b[0m\u001b[0m\n",
      "\u001b[1;31mKeyError\u001b[0m: 361"
     ]
    }
   ],
   "source": [
    "df_kr_company[361]"
   ]
  },
  {
   "cell_type": "code",
   "execution_count": 12,
   "id": "d82caf64",
   "metadata": {
    "scrolled": false
   },
   "outputs": [
    {
     "data": {
      "text/plain": [
       "'코썬바이오'"
      ]
     },
     "execution_count": 12,
     "metadata": {},
     "output_type": "execute_result"
    }
   ],
   "source": [
    "lst_kr_company[361]"
   ]
  },
  {
   "cell_type": "code",
   "execution_count": 8,
   "id": "123bd9d4",
   "metadata": {
    "collapsed": true
   },
   "outputs": [
    {
     "data": {
      "text/plain": [
       "['마이크로프랜드',\n",
       " 'http://www.mt.co.kr/',\n",
       " '[장외주식] 금일까지 공모청약 진행된 뉴파워프라즈마, 보합마감',\n",
       " \"\\t\\t\\t[머니투데이 피스탁  ] 22일 코스피시장(1983.47pt)은 외국인과 기관의 매수에 힘입어 1980대까지 지수가 회복되었고 코스닥시장(610.74pt)도 외국인과 개인의 매수에 강보합으로 마감됐다.기업공개(IPO)관련주는 종목별 등락이 엇갈렸다.금일까지 공모청약을 진행된 뉴파워프라즈마는 2만원으로 보합마감됐으며 521대1의 최종경쟁률을 기록하였다.애니젠(2만8250원,+0.89%)은 7거래일 연속 올랐으나 신라젠(2만5750원,-0.58%)은 소폭 하락하며 상반된 모습을 보였다. 에코마이스터(1만800원,-0.92%)는 소폭 하락했으나 마이크로프랜드(7200원)는 보합으로 마감됐다.승인기업인 덴티움(6만8000원)과 호전실업(4만1500원)은 보합으로 마감되었다.에프엔에스테크(1만1850원,+0.42%)는 상승하며 최고가인 1만2000원 경신을 앞두고 있으나 바이오솔루션은 1.42% 하락한 1만7400원으로 약세를 보였다.장외주요종목은 일부 종목이 호재를 동반한 상승세를 기록했을 뿐 약세를 면치 못하였다.아리바이오는 3.23% 상승한 1만6000원이었으나 바이오제닉스는 6.06% 하락한 4650원으로 상반된 모습을 보였다.바이오기업인 노바셀테크놀로지는 4.35% 상승한 6000원이었으나 노바렉스는 2.0% 하락한 2만4500원으로 4거래일 연속 하락을 이어가는 모습이었다.올리패스는 4.84% 하락한 2만9500원으로 재차 3만원대를 하회하였으며 아이큐어도 1.69% 내린 2만9000원으로 약세를 보였다.셀트리온헬스케어는 예비심사를 청구한다는 소식과 바이오시밀러인 램시마가 미국에서 판매를 시작했다는 소식에 8.14% 오른 4만6500원으로 눈에 띄는 상승세를 보이며 4거래일 연속 올랐다.바디프랜드는 2.63% 하락한 9만2500원으로 2거래일 연속 하락했으며 네이처리퍼블릭도 1.82% 내린 2만7000원으로 52주 최저가를 기록하며 약세를 보였다.IT종목인 필옵틱스(3만4500원,-1.43%)와 선익시스템(3만6500원,-1.35%)도 소폭 조정을 받는 모습이었다.VR관련기업인 에프엑스기어도 3.27% 하락한 5만1750원으로 약세를 보이며 하락추세를 이어갔다.한국피엠지제약은 6.36% 오른 5850원으로 3거래일 연속 상승하였으나 파멥신은 3.12% 내린 1만5500원으로 4거래일 연속 상승 이후 조정을 받는 모습이었다.이외 메가젠임플란트(1만5050원,+0.33%)는 소폭 상승이긴 하나 1만5000원대를 지지하며 반등하는 모습이었다.장외 건설주 포스코건설(2만9000원,+0.69%)은 전일의 하락분을 만회하였으나 SK건설(1먼4750원)은 보합으로 마감됐다.이밖에 다이노나(9750원), 동구바이오제약(1만3000원), 라파스(1만500원), 엘지씨엔에스(2만3000원), 옐로모바일(5만원), 이스타항공(1만1500원), 코엔스(1만500원), 현대엔지니어링(67만5000원), 홈앤쇼핑(2만4250원) 등 주요장외종목은 주가변동없이 장을 마감하였다.[이코노미스트들의 깊이있는 투자정보 'TOM칼럼'][부자들에게 배우는 성공 노하우 '줄리아 투자노트'  ][내 삶을 바꾸는 정치뉴스 'the 300']피스탁   <저작권자 ⓒ '돈이 보이는 리얼타임 뉴스' 머니투데이, 무단전재 및 재배포 금지>\\t\\t\"]"
      ]
     },
     "execution_count": 8,
     "metadata": {},
     "output_type": "execute_result"
    }
   ],
   "source": [
    "IPO_news[-1]"
   ]
  },
  {
   "cell_type": "code",
   "execution_count": 18,
   "id": "kFGMVuT6Psii",
   "metadata": {
    "colab": {
     "base_uri": "https://localhost:8080/"
    },
    "id": "kFGMVuT6Psii",
    "outputId": "0246e9c9-f5f4-4197-e219-3b58037b849b"
   },
   "outputs": [],
   "source": [
    "df_IPO_list_revise = pd.DataFrame(IPO_news)\n",
    "df_IPO_list_revise.to_csv('revise_df_ipo_news_crawling_0527_1.csv',encoding='utf-8-sig')"
   ]
  },
  {
   "cell_type": "code",
   "execution_count": null,
   "id": "d0248725",
   "metadata": {},
   "outputs": [],
   "source": []
  },
  {
   "cell_type": "code",
   "execution_count": 21,
   "id": "35245933",
   "metadata": {
    "id": "35245933"
   },
   "outputs": [],
   "source": [
    "df_IPO_list_revise = pd.DataFrame(IPO_news)"
   ]
  },
  {
   "cell_type": "code",
   "execution_count": 24,
   "id": "73191264",
   "metadata": {
    "id": "73191264"
   },
   "outputs": [],
   "source": [
    "df_IPO_list_revise.to_csv('revise_df_ipo_news_crawling.csv',encoding='utf-8-sig')"
   ]
  },
  {
   "cell_type": "code",
   "execution_count": 25,
   "id": "7f33ea67",
   "metadata": {},
   "outputs": [
    {
     "data": {
      "text/html": [
       "<div>\n",
       "<style scoped>\n",
       "    .dataframe tbody tr th:only-of-type {\n",
       "        vertical-align: middle;\n",
       "    }\n",
       "\n",
       "    .dataframe tbody tr th {\n",
       "        vertical-align: top;\n",
       "    }\n",
       "\n",
       "    .dataframe thead th {\n",
       "        text-align: right;\n",
       "    }\n",
       "</style>\n",
       "<table border=\"1\" class=\"dataframe\">\n",
       "  <thead>\n",
       "    <tr style=\"text-align: right;\">\n",
       "      <th></th>\n",
       "      <th>0</th>\n",
       "      <th>1</th>\n",
       "      <th>2</th>\n",
       "      <th>3</th>\n",
       "    </tr>\n",
       "  </thead>\n",
       "  <tbody>\n",
       "    <tr>\n",
       "      <th>0</th>\n",
       "      <td>씨에스엘쏠라</td>\n",
       "      <td>http://www.edaily.co.kr/</td>\n",
       "      <td>[포토]씨에스엘쏠라 코스닥상장</td>\n",
       "      <td>[이데일리 신종오 기자](주)씨에스엘쏠라 코스닥시장 신규상장기념식  한국거래소 코스...</td>\n",
       "    </tr>\n",
       "    <tr>\n",
       "      <th>1</th>\n",
       "      <td>씨에스엘쏠라</td>\n",
       "      <td>http://www.mk.co.kr/</td>\n",
       "      <td>[장외주식시황] 씨에스엘쏠라 공모가 대비 12.5%(1250원) 상승으로 장외마감</td>\n",
       "      <td>코스피 지수가 외국인과 기관의 매수세로 이틀 연속 상승마감 했다. 코스피는 1,98...</td>\n",
       "    </tr>\n",
       "    <tr>\n",
       "      <th>2</th>\n",
       "      <td>씨에스엘쏠라</td>\n",
       "      <td>http://biz.chosun.com/</td>\n",
       "      <td>[새로 상장합니다] 씨에스엘쏠라</td>\n",
       "      <td>유기발광다이오드(OLED) 관련 소재를 만드는 씨에스엘쏠라가 27일 한국거래소 코스...</td>\n",
       "    </tr>\n",
       "    <tr>\n",
       "      <th>3</th>\n",
       "      <td>씨에스엘쏠라</td>\n",
       "      <td>https://www.yna.co.kr/</td>\n",
       "      <td>화학물질 제조社 씨에스엘쏠라 27일 코스닥 상장</td>\n",
       "      <td>\\t\\t\\t    (서울=연합뉴스) 박초롱 기자 = 한국거래소는 기초 화학물질 제조...</td>\n",
       "    </tr>\n",
       "    <tr>\n",
       "      <th>4</th>\n",
       "      <td>씨에스엘쏠라</td>\n",
       "      <td>http://www.mt.co.kr/</td>\n",
       "      <td>[장외주식]27일 첫거래 '씨에스엘쏠라' 상승전환</td>\n",
       "      <td>\\t\\t\\t[머니투데이 피스탁 ]24일 코스피지수는 성탄절 휴일을 앞두고 관망세가 ...</td>\n",
       "    </tr>\n",
       "    <tr>\n",
       "      <th>...</th>\n",
       "      <td>...</td>\n",
       "      <td>...</td>\n",
       "      <td>...</td>\n",
       "      <td>...</td>\n",
       "    </tr>\n",
       "    <tr>\n",
       "      <th>18503</th>\n",
       "      <td>한국인포데이타</td>\n",
       "      <td>http://www.mt.co.kr/</td>\n",
       "      <td>[장외주식]케이맥 12개월來 최고가 기록</td>\n",
       "      <td>[머니투데이 프리스닥(주) ]장외시장이 내림세를 나타냈습니다.주요 업종별 동향을 살...</td>\n",
       "    </tr>\n",
       "    <tr>\n",
       "      <th>18504</th>\n",
       "      <td>한국인포데이타</td>\n",
       "      <td>http://www.mt.co.kr/</td>\n",
       "      <td>[장외주식]세메스, 케이맥 한 주간 동반 급등</td>\n",
       "      <td>[머니투데이 프리스닥(주) ][8월 셋째주 장외주식 주간시황]지난주 장외시장이 혼조...</td>\n",
       "    </tr>\n",
       "    <tr>\n",
       "      <th>18505</th>\n",
       "      <td>한국인포데이타</td>\n",
       "      <td>http://www.mt.co.kr/</td>\n",
       "      <td>[장외주식]케이맥 급등 지속, KDB생명은 약세</td>\n",
       "      <td>[머니투데이 프리스닥(주) ]장외시장이 주요 종목들의 전반적인 거래 부진 속에 혼조...</td>\n",
       "    </tr>\n",
       "    <tr>\n",
       "      <th>18506</th>\n",
       "      <td>한국인포데이타</td>\n",
       "      <td>http://www.mt.co.kr/</td>\n",
       "      <td>[장외주식]세메스 사흘 연속 급등세</td>\n",
       "      <td>[머니투데이 프리스닥(주) ]장외시장이 오름세를 이어갔습니다.주요 업종별 동향을 살...</td>\n",
       "    </tr>\n",
       "    <tr>\n",
       "      <th>18507</th>\n",
       "      <td>한국인포데이타</td>\n",
       "      <td>http://www.mt.co.kr/</td>\n",
       "      <td>[장외주식]세메스·케이맥 급등 지속</td>\n",
       "      <td>[머니투데이 프리스닥(주) ]장외시장이 전반적인 거래 부진 속에 혼조세를 나타냈습니...</td>\n",
       "    </tr>\n",
       "  </tbody>\n",
       "</table>\n",
       "<p>18508 rows × 4 columns</p>\n",
       "</div>"
      ],
      "text/plain": [
       "             0                         1  \\\n",
       "0       씨에스엘쏠라  http://www.edaily.co.kr/   \n",
       "1       씨에스엘쏠라      http://www.mk.co.kr/   \n",
       "2       씨에스엘쏠라    http://biz.chosun.com/   \n",
       "3       씨에스엘쏠라    https://www.yna.co.kr/   \n",
       "4       씨에스엘쏠라      http://www.mt.co.kr/   \n",
       "...        ...                       ...   \n",
       "18503  한국인포데이타      http://www.mt.co.kr/   \n",
       "18504  한국인포데이타      http://www.mt.co.kr/   \n",
       "18505  한국인포데이타      http://www.mt.co.kr/   \n",
       "18506  한국인포데이타      http://www.mt.co.kr/   \n",
       "18507  한국인포데이타      http://www.mt.co.kr/   \n",
       "\n",
       "                                                   2  \\\n",
       "0                                   [포토]씨에스엘쏠라 코스닥상장   \n",
       "1      [장외주식시황] 씨에스엘쏠라 공모가 대비 12.5%(1250원) 상승으로 장외마감   \n",
       "2                                  [새로 상장합니다] 씨에스엘쏠라   \n",
       "3                         화학물질 제조社 씨에스엘쏠라 27일 코스닥 상장   \n",
       "4                        [장외주식]27일 첫거래 '씨에스엘쏠라' 상승전환   \n",
       "...                                              ...   \n",
       "18503                         [장외주식]케이맥 12개월來 최고가 기록   \n",
       "18504                      [장외주식]세메스, 케이맥 한 주간 동반 급등   \n",
       "18505                     [장외주식]케이맥 급등 지속, KDB생명은 약세   \n",
       "18506                            [장외주식]세메스 사흘 연속 급등세   \n",
       "18507                            [장외주식]세메스·케이맥 급등 지속   \n",
       "\n",
       "                                                       3  \n",
       "0      [이데일리 신종오 기자](주)씨에스엘쏠라 코스닥시장 신규상장기념식  한국거래소 코스...  \n",
       "1      코스피 지수가 외국인과 기관의 매수세로 이틀 연속 상승마감 했다. 코스피는 1,98...  \n",
       "2      유기발광다이오드(OLED) 관련 소재를 만드는 씨에스엘쏠라가 27일 한국거래소 코스...  \n",
       "3      \\t\\t\\t    (서울=연합뉴스) 박초롱 기자 = 한국거래소는 기초 화학물질 제조...  \n",
       "4      \\t\\t\\t[머니투데이 피스탁 ]24일 코스피지수는 성탄절 휴일을 앞두고 관망세가 ...  \n",
       "...                                                  ...  \n",
       "18503  [머니투데이 프리스닥(주) ]장외시장이 내림세를 나타냈습니다.주요 업종별 동향을 살...  \n",
       "18504  [머니투데이 프리스닥(주) ][8월 셋째주 장외주식 주간시황]지난주 장외시장이 혼조...  \n",
       "18505  [머니투데이 프리스닥(주) ]장외시장이 주요 종목들의 전반적인 거래 부진 속에 혼조...  \n",
       "18506  [머니투데이 프리스닥(주) ]장외시장이 오름세를 이어갔습니다.주요 업종별 동향을 살...  \n",
       "18507  [머니투데이 프리스닥(주) ]장외시장이 전반적인 거래 부진 속에 혼조세를 나타냈습니...  \n",
       "\n",
       "[18508 rows x 4 columns]"
      ]
     },
     "execution_count": 25,
     "metadata": {},
     "output_type": "execute_result"
    }
   ],
   "source": [
    "df_IPO_list_revise"
   ]
  },
  {
   "cell_type": "code",
   "execution_count": 55,
   "id": "83d20cfa",
   "metadata": {},
   "outputs": [
    {
     "data": {
      "text/plain": [
       "['notebook_df_IPO_list_1.csv',\n",
       " 'notebook_df_IPO_list_2.csv',\n",
       " 'notebook_df_IPO_list_3.csv',\n",
       " 'notebook_df_IPO_list_4.csv']"
      ]
     },
     "execution_count": 55,
     "metadata": {},
     "output_type": "execute_result"
    }
   ],
   "source": [
    "lst_csv = glob('*.csv')[4:8]; lst_csv"
   ]
  },
  {
   "cell_type": "code",
   "execution_count": 57,
   "id": "134dcab8",
   "metadata": {},
   "outputs": [
    {
     "data": {
      "text/plain": [
       "('notebook_df_IPO_list_1.csv',\n",
       " 'notebook_df_IPO_list_3.csv',\n",
       " 'notebook_df_IPO_list_4.csv')"
      ]
     },
     "execution_count": 57,
     "metadata": {},
     "output_type": "execute_result"
    }
   ],
   "source": [
    "lst_csv[0],lst_csv[2],lst_csv[3]"
   ]
  },
  {
   "cell_type": "code",
   "execution_count": 61,
   "id": "645a34ff",
   "metadata": {},
   "outputs": [],
   "source": [
    "df_kr_news = pd.read_csv(f'{lst_csv[0]}')\n",
    "df_kr_news1 = pd.read_csv(f'{lst_csv[2]}')\n",
    "df_kr_news2 = pd.read_csv(f'{lst_csv[3]}')"
   ]
  },
  {
   "cell_type": "code",
   "execution_count": 62,
   "id": "2c766a03",
   "metadata": {},
   "outputs": [],
   "source": [
    "del df_kr_news['Unnamed: 0']\n",
    "del df_kr_news1['Unnamed: 0']\n",
    "del df_kr_news2['Unnamed: 0']"
   ]
  },
  {
   "cell_type": "code",
   "execution_count": 63,
   "id": "eb4e9ad5",
   "metadata": {},
   "outputs": [
    {
     "data": {
      "text/plain": [
       "(9045, 52272, 28355)"
      ]
     },
     "execution_count": 63,
     "metadata": {},
     "output_type": "execute_result"
    }
   ],
   "source": [
    "len(df_kr_news),len(df_kr_news1),len(df_kr_news2)"
   ]
  },
  {
   "cell_type": "code",
   "execution_count": 64,
   "id": "43a696e5",
   "metadata": {},
   "outputs": [],
   "source": [
    "df_ipo_news = pd.concat([df_kr_news,df_kr_news1,df_kr_news2])"
   ]
  },
  {
   "cell_type": "code",
   "execution_count": 65,
   "id": "a93ed353",
   "metadata": {},
   "outputs": [
    {
     "data": {
      "text/html": [
       "<div>\n",
       "<style scoped>\n",
       "    .dataframe tbody tr th:only-of-type {\n",
       "        vertical-align: middle;\n",
       "    }\n",
       "\n",
       "    .dataframe tbody tr th {\n",
       "        vertical-align: top;\n",
       "    }\n",
       "\n",
       "    .dataframe thead th {\n",
       "        text-align: right;\n",
       "    }\n",
       "</style>\n",
       "<table border=\"1\" class=\"dataframe\">\n",
       "  <thead>\n",
       "    <tr style=\"text-align: right;\">\n",
       "      <th></th>\n",
       "      <th>0</th>\n",
       "      <th>1</th>\n",
       "      <th>2</th>\n",
       "      <th>3</th>\n",
       "    </tr>\n",
       "  </thead>\n",
       "  <tbody>\n",
       "    <tr>\n",
       "      <th>0</th>\n",
       "      <td>포바이포</td>\n",
       "      <td>http://www.mkeconomy.com/</td>\n",
       "      <td>'신규 상장' 포바이포, 상장 첫날 '따상' 해냈다</td>\n",
       "      <td>4월 28일 코스닥시장에서 메타버스 기업 포바이포가 상장 첫날 '따상'에 성공했다...</td>\n",
       "    </tr>\n",
       "    <tr>\n",
       "      <th>1</th>\n",
       "      <td>포바이포</td>\n",
       "      <td>http://www.newsis.com</td>\n",
       "      <td>포바이포, 28일 코스닥 신규 상장</td>\n",
       "      <td>[서울=뉴시스] 이정필 기자 = 한국거래소는 포바이포의 코스닥시장 신규 상장을 승인...</td>\n",
       "    </tr>\n",
       "    <tr>\n",
       "      <th>2</th>\n",
       "      <td>포바이포</td>\n",
       "      <td>http://www.newsis.com</td>\n",
       "      <td>[핫스탁]포바이포·골드앤에스·덕신하우징</td>\n",
       "      <td>기사내용 요약포바이포, 코스닥 입성 첫날 따상 직행골드앤에스, 거래 재개 후 3연상...</td>\n",
       "    </tr>\n",
       "    <tr>\n",
       "      <th>3</th>\n",
       "      <td>포바이포</td>\n",
       "      <td>https://www.asiae.co.kr/</td>\n",
       "      <td>웨이버스, 포바이포 따상에 '자극'…'나도 이익나는 메타버스 새내기'</td>\n",
       "      <td>[특징주]공간정보산업 플랫폼 업체, 유안타스팩과 합병 상장 후 뒷걸음질민간형 공간정...</td>\n",
       "    </tr>\n",
       "    <tr>\n",
       "      <th>4</th>\n",
       "      <td>포바이포</td>\n",
       "      <td>http://news1.kr/</td>\n",
       "      <td>거래소 \"포바이포·신영해피투모로우제7호 28일 상장\"</td>\n",
       "      <td>서울 여의도 한국거래소 전경. 2015.7.2/뉴스1 © News1 박세연 기자(서...</td>\n",
       "    </tr>\n",
       "    <tr>\n",
       "      <th>...</th>\n",
       "      <td>...</td>\n",
       "      <td>...</td>\n",
       "      <td>...</td>\n",
       "      <td>...</td>\n",
       "    </tr>\n",
       "    <tr>\n",
       "      <th>28350</th>\n",
       "      <td>포티스</td>\n",
       "      <td>http://www.mk.co.kr/</td>\n",
       "      <td>[장외주식시황] 지디 7거래일 상승 랠리 이어가며 신고가 경신</td>\n",
       "      <td>코스피 지수가 기관의 매도공세에 개인도 매도 우위로 하락마감 했다. 코스피는 2,0...</td>\n",
       "    </tr>\n",
       "    <tr>\n",
       "      <th>28351</th>\n",
       "      <td>포티스</td>\n",
       "      <td>http://www.mk.co.kr/</td>\n",
       "      <td>[장외주식시황] 알티캐스트 11거래일 동안 상승세 이어가며 연중 최고가 경신</td>\n",
       "      <td>코스피 지수가 기관의 매도공세로 5거래일 연속 하락 마감했다. 코스피는 1,991....</td>\n",
       "    </tr>\n",
       "    <tr>\n",
       "      <th>28352</th>\n",
       "      <td>포티스</td>\n",
       "      <td>http://www.mk.co.kr/</td>\n",
       "      <td>[장외주식시황] 한국증권금융, KT파워텔 강세 이어지며 연중 최고가 경신</td>\n",
       "      <td>코스피 지수가 외국인의 매도세로 사흘 연속 하락 마감했다. 코스피는 2,011.25...</td>\n",
       "    </tr>\n",
       "    <tr>\n",
       "      <th>28353</th>\n",
       "      <td>포티스</td>\n",
       "      <td>http://www.mk.co.kr/</td>\n",
       "      <td>[장외주식  주간시황] 범현대. 삼성 관련주의 약진으로 2주 연속 상승세 기록</td>\n",
       "      <td>1월 첫째 주 장외주식시장은 전주 대비 18.37p(3.5%) 올라 542.72p로...</td>\n",
       "    </tr>\n",
       "    <tr>\n",
       "      <th>28354</th>\n",
       "      <td>포티스</td>\n",
       "      <td>http://www.naeil.com/</td>\n",
       "      <td>1월 공모주청약 7개사 … IPO시장 ‘해빙기’ 오나?</td>\n",
       "      <td>[내일신문]상장 미뤘던 대형 기업들도 증시입성 기대IPO(기업공개) 시장이 ...</td>\n",
       "    </tr>\n",
       "  </tbody>\n",
       "</table>\n",
       "<p>89672 rows × 4 columns</p>\n",
       "</div>"
      ],
      "text/plain": [
       "          0                          1  \\\n",
       "0      포바이포  http://www.mkeconomy.com/   \n",
       "1      포바이포      http://www.newsis.com   \n",
       "2      포바이포      http://www.newsis.com   \n",
       "3      포바이포  https://www.asiae.co.kr/    \n",
       "4      포바이포           http://news1.kr/   \n",
       "...     ...                        ...   \n",
       "28350   포티스       http://www.mk.co.kr/   \n",
       "28351   포티스       http://www.mk.co.kr/   \n",
       "28352   포티스       http://www.mk.co.kr/   \n",
       "28353   포티스       http://www.mk.co.kr/   \n",
       "28354   포티스      http://www.naeil.com/   \n",
       "\n",
       "                                                 2  \\\n",
       "0                     '신규 상장' 포바이포, 상장 첫날 '따상' 해냈다   \n",
       "1                              포바이포, 28일 코스닥 신규 상장   \n",
       "2                            [핫스탁]포바이포·골드앤에스·덕신하우징   \n",
       "3           웨이버스, 포바이포 따상에 '자극'…'나도 이익나는 메타버스 새내기'   \n",
       "4                    거래소 \"포바이포·신영해피투모로우제7호 28일 상장\"   \n",
       "...                                            ...   \n",
       "28350           [장외주식시황] 지디 7거래일 상승 랠리 이어가며 신고가 경신   \n",
       "28351   [장외주식시황] 알티캐스트 11거래일 동안 상승세 이어가며 연중 최고가 경신   \n",
       "28352     [장외주식시황] 한국증권금융, KT파워텔 강세 이어지며 연중 최고가 경신   \n",
       "28353  [장외주식  주간시황] 범현대. 삼성 관련주의 약진으로 2주 연속 상승세 기록   \n",
       "28354               1월 공모주청약 7개사 … IPO시장 ‘해빙기’ 오나?   \n",
       "\n",
       "                                                       3  \n",
       "0       4월 28일 코스닥시장에서 메타버스 기업 포바이포가 상장 첫날 '따상'에 성공했다...  \n",
       "1      [서울=뉴시스] 이정필 기자 = 한국거래소는 포바이포의 코스닥시장 신규 상장을 승인...  \n",
       "2      기사내용 요약포바이포, 코스닥 입성 첫날 따상 직행골드앤에스, 거래 재개 후 3연상...  \n",
       "3      [특징주]공간정보산업 플랫폼 업체, 유안타스팩과 합병 상장 후 뒷걸음질민간형 공간정...  \n",
       "4      서울 여의도 한국거래소 전경. 2015.7.2/뉴스1 © News1 박세연 기자(서...  \n",
       "...                                                  ...  \n",
       "28350  코스피 지수가 기관의 매도공세에 개인도 매도 우위로 하락마감 했다. 코스피는 2,0...  \n",
       "28351  코스피 지수가 기관의 매도공세로 5거래일 연속 하락 마감했다. 코스피는 1,991....  \n",
       "28352  코스피 지수가 외국인의 매도세로 사흘 연속 하락 마감했다. 코스피는 2,011.25...  \n",
       "28353  1월 첫째 주 장외주식시장은 전주 대비 18.37p(3.5%) 올라 542.72p로...  \n",
       "28354      [내일신문]상장 미뤘던 대형 기업들도 증시입성 기대IPO(기업공개) 시장이 ...  \n",
       "\n",
       "[89672 rows x 4 columns]"
      ]
     },
     "execution_count": 65,
     "metadata": {},
     "output_type": "execute_result"
    }
   ],
   "source": [
    "df_ipo_news"
   ]
  },
  {
   "cell_type": "code",
   "execution_count": 66,
   "id": "735772d5",
   "metadata": {},
   "outputs": [],
   "source": [
    "df_ipo_news.to_csv('final_df_ipo_news_data.csv')"
   ]
  },
  {
   "cell_type": "code",
   "execution_count": null,
   "id": "d128c7bd",
   "metadata": {},
   "outputs": [],
   "source": []
  },
  {
   "cell_type": "code",
   "execution_count": null,
   "id": "09c4fc6e",
   "metadata": {},
   "outputs": [],
   "source": []
  },
  {
   "cell_type": "code",
   "execution_count": null,
   "id": "91d3a2bc",
   "metadata": {
    "id": "91d3a2bc"
   },
   "outputs": [],
   "source": [
    "url = 'https://search.naver.com/search.naver?where=news&query=상상인스팩3호&sm=tab_opt&sort=0&photo=0&field=0&pd=3&ds=2022.03.31&de=2022.04.29&from20220331to20220429&is_sug_officeid=&nso=so:r,p:all,a:all&start=21'\n",
    "response = requests.get(url,headers={'User-Agent':'Mozilla/5.0'})\n",
    "html = response.text\n",
    "soup = BeautifulSoup(html, 'html.parser')"
   ]
  },
  {
   "cell_type": "code",
   "execution_count": null,
   "id": "f0877278",
   "metadata": {
    "id": "f0877278",
    "outputId": "314a90c2-bf93-4e89-e01d-f7e5ebb3273a",
    "scrolled": true
   },
   "outputs": [
    {
     "data": {
      "text/plain": [
       "'true'"
      ]
     },
     "execution_count": 1000,
     "metadata": {},
     "output_type": "execute_result"
    }
   ],
   "source": [
    "soup.select_one(\"a.btn_next\").get('aria-disabled')"
   ]
  },
  {
   "cell_type": "code",
   "execution_count": null,
   "id": "fac7959e",
   "metadata": {
    "id": "fac7959e"
   },
   "outputs": [],
   "source": [
    "a = 0\n",
    "while True:\n",
    "    a += 1\n",
    "    if a >5:\n",
    "        break"
   ]
  },
  {
   "cell_type": "code",
   "execution_count": null,
   "id": "d9cd7718",
   "metadata": {
    "id": "d9cd7718",
    "outputId": "f5d3c631-2cad-4ce2-8c6a-03813200bead"
   },
   "outputs": [
    {
     "data": {
      "text/plain": [
       "24"
      ]
     },
     "execution_count": 923,
     "metadata": {},
     "output_type": "execute_result"
    }
   ],
   "source": [
    "len(IPO_news)"
   ]
  },
  {
   "cell_type": "code",
   "execution_count": null,
   "id": "64f73005",
   "metadata": {
    "id": "64f73005"
   },
   "outputs": [],
   "source": [
    "#sp_nws1 > a"
   ]
  },
  {
   "cell_type": "code",
   "execution_count": null,
   "id": "0c77eb4d",
   "metadata": {
    "id": "0c77eb4d",
    "outputId": "c0167fc0-4c55-4814-87a5-21e75990dc4f",
    "scrolled": true
   },
   "outputs": [
    {
     "data": {
      "text/plain": [
       "'?where=news&sm=tab_tnw&query=%ED%8F%AC%EB%B0%94%EC%9D%B4%ED%8F%AC&sort=0&photo=0&field=0&pd=3&ds=2022.03.29&de=2022.04.28&mynews=0&office_type=0&office_section_code=0&news_office_checked=&related=1&docid=0240000074741&nso=so:r,p:from20220329to20220428,a:all'"
      ]
     },
     "execution_count": 904,
     "metadata": {},
     "output_type": "execute_result"
    }
   ],
   "source": [
    "p_soup.select('#main_pack > section > div > div.group_news > ul > li > a')[0].attrs['href']"
   ]
  },
  {
   "cell_type": "code",
   "execution_count": null,
   "id": "8de2b0de",
   "metadata": {
    "id": "8de2b0de",
    "outputId": "a6974970-b52d-4e6c-df11-8adca5d4ed9b"
   },
   "outputs": [
    {
     "data": {
      "text/plain": [
       "False"
      ]
     },
     "execution_count": 897,
     "metadata": {},
     "output_type": "execute_result"
    }
   ],
   "source": [
    "p_soup.find('div',class_='sc_page').has_attr('aria-disabled')"
   ]
  },
  {
   "cell_type": "code",
   "execution_count": null,
   "id": "38347ad3",
   "metadata": {
    "id": "38347ad3",
    "outputId": "bec168a7-06ee-417e-94a3-e005a7762bb3"
   },
   "outputs": [
    {
     "data": {
      "text/plain": [
       "<span class=\"info\">2022.04.27.</span>"
      ]
     },
     "execution_count": 896,
     "metadata": {},
     "output_type": "execute_result"
    }
   ],
   "source": [
    "p_soup.select('#main_pack > section > div > div.group_news > ul > li > div > div > div > div.info_group')[2].findAll()[-1]"
   ]
  },
  {
   "cell_type": "code",
   "execution_count": null,
   "id": "7cd3397c",
   "metadata": {
    "id": "7cd3397c",
    "outputId": "29d4236f-2786-4d49-fe56-71d6e72e29f1"
   },
   "outputs": [
    {
     "data": {
      "text/plain": [
       "10"
      ]
     },
     "execution_count": 872,
     "metadata": {},
     "output_type": "execute_result"
    }
   ],
   "source": [
    "#main_pack > div.api_sc_page_wrap > div > a.btn_next"
   ]
  },
  {
   "cell_type": "code",
   "execution_count": null,
   "id": "88f5d921",
   "metadata": {
    "id": "88f5d921",
    "outputId": "ee78b344-747e-4c03-8395-b4941bd0e80b",
    "scrolled": true
   },
   "outputs": [
    {
     "name": "stdout",
     "output_type": "stream",
     "text": [
      "1\n"
     ]
    }
   ],
   "source": [
    "try:\n",
    "    soup.select('#main_pack > section > div > div.group_news > ul > li > div > div > div > div.info_group')[7].findAll()[-1].attrs['href']\n",
    "except:\n",
    "    print(1)"
   ]
  },
  {
   "cell_type": "code",
   "execution_count": null,
   "id": "ea637b67",
   "metadata": {
    "id": "ea637b67",
    "outputId": "ae4890f5-2a8f-4487-a44f-410f649a7504"
   },
   "outputs": [
    {
     "data": {
      "text/plain": [
       "'https://news.naver.com/main/read.naver?mode=LSD&mid=sec&sid1=101&oid=215&aid=0001028412'"
      ]
     },
     "execution_count": 853,
     "metadata": {},
     "output_type": "execute_result"
    }
   ],
   "source": [
    "soup.select('#main_pack > section > div > div.group_news > ul > li > div > div > div > div.info_group')[1].findAll()[-1].attrs['href']"
   ]
  },
  {
   "cell_type": "code",
   "execution_count": null,
   "id": "b9a6125a",
   "metadata": {
    "id": "b9a6125a"
   },
   "outputs": [],
   "source": [
    "#sp_rns1 > div > div > div.news_info > div.info_group > a:nth-child(3"
   ]
  },
  {
   "cell_type": "code",
   "execution_count": null,
   "id": "0696439d",
   "metadata": {
    "id": "0696439d",
    "outputId": "43ee5a12-6c13-4de2-ce4a-c813b622c93d"
   },
   "outputs": [
    {
     "ename": "KeyError",
     "evalue": "'href'",
     "output_type": "error",
     "traceback": [
      "\u001b[1;31m---------------------------------------------------------------------------\u001b[0m",
      "\u001b[1;31mKeyError\u001b[0m                                  Traceback (most recent call last)",
      "\u001b[1;32m~\\AppData\\Local\\Temp/ipykernel_14212/17128050.py\u001b[0m in \u001b[0;36m<module>\u001b[1;34m\u001b[0m\n\u001b[1;32m----> 1\u001b[1;33m \u001b[0msoup\u001b[0m\u001b[1;33m.\u001b[0m\u001b[0mselect\u001b[0m\u001b[1;33m(\u001b[0m\u001b[1;34m'#main_pack > section > div > div.group_news > ul > li > div > div > div > div.info_group'\u001b[0m\u001b[1;33m)\u001b[0m\u001b[1;33m[\u001b[0m\u001b[1;36m7\u001b[0m\u001b[1;33m]\u001b[0m\u001b[1;33m.\u001b[0m\u001b[0mfindAll\u001b[0m\u001b[1;33m(\u001b[0m\u001b[1;33m)\u001b[0m\u001b[1;33m[\u001b[0m\u001b[1;33m-\u001b[0m\u001b[1;36m1\u001b[0m\u001b[1;33m]\u001b[0m\u001b[1;33m.\u001b[0m\u001b[0mattrs\u001b[0m\u001b[1;33m[\u001b[0m\u001b[1;34m'href'\u001b[0m\u001b[1;33m]\u001b[0m\u001b[1;33m\u001b[0m\u001b[1;33m\u001b[0m\u001b[0m\n\u001b[0m",
      "\u001b[1;31mKeyError\u001b[0m: 'href'"
     ]
    }
   ],
   "source": [
    "soup.select('#main_pack > section > div > div.group_news > ul > li > div > div > div > div.info_group')[7].findAll()[-1].attrs['href']"
   ]
  },
  {
   "cell_type": "code",
   "execution_count": null,
   "id": "45760dd0",
   "metadata": {
    "id": "45760dd0"
   },
   "outputs": [],
   "source": []
  },
  {
   "cell_type": "code",
   "execution_count": null,
   "id": "b07ddb5f",
   "metadata": {
    "id": "b07ddb5f"
   },
   "outputs": [],
   "source": []
  },
  {
   "cell_type": "code",
   "execution_count": null,
   "id": "f9b85ad7",
   "metadata": {
    "id": "f9b85ad7"
   },
   "outputs": [],
   "source": []
  },
  {
   "cell_type": "code",
   "execution_count": null,
   "id": "e94fe8cd",
   "metadata": {
    "id": "e94fe8cd"
   },
   "outputs": [],
   "source": [
    "while True:\n",
    "    for tar in range(10):\n",
    "        tar_url = soup.select('#main_pack > section > div > div.group_news > ul > li > div > div > div > div.info_group > a')[tar].attrs['href']\n",
    "\n",
    "        # 만약 관련 뉴스가 있으면 들어가기\n",
    "        try:\n",
    "            n = 1\n",
    "            t_url = 'https://search.naver.com/search.naver'+soup.select('#main_pack > section > div > div.group_news > ul > li')[tar].find('a', class_= 'news_more').attrs['href']+f'&start={n}'\n",
    "            response = requests.get(t_url,headers={'User-Agent':'Mozilla/5.0'})\n",
    "            html = response.text\n",
    "            soup = BeautifulSoup(html, 'html.parser')\n",
    "            while soup.find('div',class_='sc_page').has_attr('aria-disabled') != False:\n",
    "                for t in range(10):\n",
    "                    t_url = soup.select('#main_pack > section > div > div.group_news > ul > li > div > div > div > div.info_group > a')[t].attrs['href']\n",
    "                    if 'news.naver.com' in t_url:\n",
    "                        response = requests.get(t_url,headers={'User-Agent':'Mozilla/5.0'})\n",
    "                        html = response.text\n",
    "                        soup = BeautifulSoup(html, 'html.parser')\n",
    "                        healine = soup.select_one('#ct > div.media_end_head.go_trans > div.media_end_head_title > h2').get_text()\n",
    "                        body_text = soup.select_one('#dic_area').get_text().replace('\\n','')\n",
    "                        media_coverage = soup.select_one('#ct > div.media_end_head.go_trans > div.media_end_head_top > a').attrs['href']\n",
    "                        IPO_news.append([media_coverage,healine,body_text])                \n",
    "                    else:\n",
    "                        continue\n",
    "                n += 10\n",
    "                response = requests.get(t_url,headers={'User-Agent':'Mozilla/5.0'})\n",
    "                html = response.text\n",
    "                soup = BeautifulSoup(html, 'html.parser')\n",
    "                loop = soup.select('#main_pack > section.sc_new.sp_nnews._prs_rns > div > div.group_news > ul.list_news > li')\n",
    "                for i in range(loop):\n",
    "                    r_url = soup.select('#main_pack > section > div > div.group_news > ul > li > div > div > div > div.info_group > a')[t].attrs['href']\n",
    "                    if 'news.naver.com' in r_url:\n",
    "                        response = requests.get(r_url,headers={'User-Agent':'Mozilla/5.0'})\n",
    "                        html = response.text\n",
    "                        soup = BeautifulSoup(html, 'html.parser')\n",
    "                        healine = soup.select_one('#ct > div.media_end_head.go_trans > div.media_end_head_title > h2').get_text()\n",
    "                        body_text = soup.select_one('#dic_area').get_text().replace('\\n','')\n",
    "                        media_coverage = soup.select_one('#ct > div.media_end_head.go_trans > div.media_end_head_top > a').attrs['href']\n",
    "                        IPO_news.append([media_coverage,healine,body_text])                \n",
    "    # 관련 뉴스가 없을 때 \n",
    "        except:\n",
    "            if 'news.naver.com' in tar_url:\n",
    "                response = requests.get(url,headers={'User-Agent':'Mozilla/5.0'})\n",
    "                html = response.text\n",
    "                soup = BeautifulSoup(html, 'html.parser')\n",
    "                healine = soup.select_one('#ct > div.media_end_head.go_trans > div.media_end_head_title > h2').get_text()\n",
    "                body_text = soup.select_one('#dic_area').get_text().replace('\\n','')\n",
    "                media_coverage = soup.select_one('#ct > div.media_end_head.go_trans > div.media_end_head_top > a').attrs['href']\n",
    "                IPO_news.append([media_coverage,healine,body_text])\n",
    "            else:\n",
    "                continue"
   ]
  },
  {
   "cell_type": "code",
   "execution_count": null,
   "id": "582ee93f",
   "metadata": {
    "id": "582ee93f",
    "outputId": "6ad1ebfb-8028-4cdc-fecf-d360a4dafcf9"
   },
   "outputs": [
    {
     "ename": "TypeError",
     "evalue": "'ResultSet' object cannot be interpreted as an integer",
     "output_type": "error",
     "traceback": [
      "\u001b[1;31m---------------------------------------------------------------------------\u001b[0m",
      "\u001b[1;31mAttributeError\u001b[0m                            Traceback (most recent call last)",
      "\u001b[1;32m~\\AppData\\Local\\Temp/ipykernel_14212/1189952925.py\u001b[0m in \u001b[0;36m<module>\u001b[1;34m\u001b[0m\n\u001b[0;32m     10\u001b[0m                 \u001b[0mn\u001b[0m \u001b[1;33m=\u001b[0m \u001b[1;36m1\u001b[0m\u001b[1;33m\u001b[0m\u001b[1;33m\u001b[0m\u001b[0m\n\u001b[1;32m---> 11\u001b[1;33m                 \u001b[0mt_url\u001b[0m \u001b[1;33m=\u001b[0m \u001b[1;34m'https://search.naver.com/search.naver'\u001b[0m\u001b[1;33m+\u001b[0m\u001b[0msoup\u001b[0m\u001b[1;33m.\u001b[0m\u001b[0mselect\u001b[0m\u001b[1;33m(\u001b[0m\u001b[1;34m'#main_pack > section > div > div.group_news > ul > li'\u001b[0m\u001b[1;33m)\u001b[0m\u001b[1;33m[\u001b[0m\u001b[0mtar\u001b[0m\u001b[1;33m]\u001b[0m\u001b[1;33m.\u001b[0m\u001b[0mfind\u001b[0m\u001b[1;33m(\u001b[0m\u001b[1;34m'a'\u001b[0m\u001b[1;33m,\u001b[0m \u001b[0mclass_\u001b[0m\u001b[1;33m=\u001b[0m \u001b[1;34m'news_more'\u001b[0m\u001b[1;33m)\u001b[0m\u001b[1;33m.\u001b[0m\u001b[0mattrs\u001b[0m\u001b[1;33m[\u001b[0m\u001b[1;34m'href'\u001b[0m\u001b[1;33m]\u001b[0m\u001b[1;33m+\u001b[0m\u001b[1;34mf'&start={n}'\u001b[0m\u001b[1;33m\u001b[0m\u001b[1;33m\u001b[0m\u001b[0m\n\u001b[0m\u001b[0;32m     12\u001b[0m                 \u001b[0mresponse\u001b[0m \u001b[1;33m=\u001b[0m \u001b[0mrequests\u001b[0m\u001b[1;33m.\u001b[0m\u001b[0mget\u001b[0m\u001b[1;33m(\u001b[0m\u001b[0mt_url\u001b[0m\u001b[1;33m,\u001b[0m\u001b[0mheaders\u001b[0m\u001b[1;33m=\u001b[0m\u001b[1;33m{\u001b[0m\u001b[1;34m'User-Agent'\u001b[0m\u001b[1;33m:\u001b[0m\u001b[1;34m'Mozilla/5.0'\u001b[0m\u001b[1;33m}\u001b[0m\u001b[1;33m)\u001b[0m\u001b[1;33m\u001b[0m\u001b[1;33m\u001b[0m\u001b[0m\n",
      "\u001b[1;31mAttributeError\u001b[0m: 'NoneType' object has no attribute 'attrs'",
      "\nDuring handling of the above exception, another exception occurred:\n",
      "\u001b[1;31mAttributeError\u001b[0m                            Traceback (most recent call last)",
      "\u001b[1;32m~\\AppData\\Local\\Temp/ipykernel_14212/1189952925.py\u001b[0m in \u001b[0;36m<module>\u001b[1;34m\u001b[0m\n\u001b[0;32m     48\u001b[0m                     \u001b[0msoup\u001b[0m \u001b[1;33m=\u001b[0m \u001b[0mBeautifulSoup\u001b[0m\u001b[1;33m(\u001b[0m\u001b[0mhtml\u001b[0m\u001b[1;33m,\u001b[0m \u001b[1;34m'html.parser'\u001b[0m\u001b[1;33m)\u001b[0m\u001b[1;33m\u001b[0m\u001b[1;33m\u001b[0m\u001b[0m\n\u001b[1;32m---> 49\u001b[1;33m                     \u001b[0mhealine\u001b[0m \u001b[1;33m=\u001b[0m \u001b[0msoup\u001b[0m\u001b[1;33m.\u001b[0m\u001b[0mselect_one\u001b[0m\u001b[1;33m(\u001b[0m\u001b[1;34m'#ct > div.media_end_head.go_trans > div.media_end_head_title > h2'\u001b[0m\u001b[1;33m)\u001b[0m\u001b[1;33m.\u001b[0m\u001b[0mget_text\u001b[0m\u001b[1;33m(\u001b[0m\u001b[1;33m)\u001b[0m\u001b[1;33m\u001b[0m\u001b[1;33m\u001b[0m\u001b[0m\n\u001b[0m\u001b[0;32m     50\u001b[0m                     \u001b[0mbody_text\u001b[0m \u001b[1;33m=\u001b[0m \u001b[0msoup\u001b[0m\u001b[1;33m.\u001b[0m\u001b[0mselect_one\u001b[0m\u001b[1;33m(\u001b[0m\u001b[1;34m'#dic_area'\u001b[0m\u001b[1;33m)\u001b[0m\u001b[1;33m.\u001b[0m\u001b[0mget_text\u001b[0m\u001b[1;33m(\u001b[0m\u001b[1;33m)\u001b[0m\u001b[1;33m.\u001b[0m\u001b[0mreplace\u001b[0m\u001b[1;33m(\u001b[0m\u001b[1;34m'\\n'\u001b[0m\u001b[1;33m,\u001b[0m\u001b[1;34m''\u001b[0m\u001b[1;33m)\u001b[0m\u001b[1;33m\u001b[0m\u001b[1;33m\u001b[0m\u001b[0m\n",
      "\u001b[1;31mAttributeError\u001b[0m: 'NoneType' object has no attribute 'get_text'",
      "\nDuring handling of the above exception, another exception occurred:\n",
      "\u001b[1;31mTypeError\u001b[0m                                 Traceback (most recent call last)",
      "\u001b[1;32m~\\AppData\\Local\\Temp/ipykernel_14212/1189952925.py\u001b[0m in \u001b[0;36m<module>\u001b[1;34m\u001b[0m\n\u001b[0;32m     56\u001b[0m \u001b[1;32mexcept\u001b[0m\u001b[1;33m:\u001b[0m\u001b[1;33m\u001b[0m\u001b[1;33m\u001b[0m\u001b[0m\n\u001b[0;32m     57\u001b[0m     \u001b[0mloop\u001b[0m \u001b[1;33m=\u001b[0m \u001b[0msoup\u001b[0m\u001b[1;33m.\u001b[0m\u001b[0mselect\u001b[0m\u001b[1;33m(\u001b[0m\u001b[1;34m'#main_pack > section.sc_new.sp_nnews._prs_rns > div > div.group_news > ul.list_news > li'\u001b[0m\u001b[1;33m)\u001b[0m\u001b[1;33m\u001b[0m\u001b[1;33m\u001b[0m\u001b[0m\n\u001b[1;32m---> 58\u001b[1;33m     \u001b[1;32mfor\u001b[0m \u001b[0mi\u001b[0m \u001b[1;32min\u001b[0m \u001b[0mrange\u001b[0m\u001b[1;33m(\u001b[0m\u001b[0mloop\u001b[0m\u001b[1;33m)\u001b[0m\u001b[1;33m:\u001b[0m\u001b[1;33m\u001b[0m\u001b[1;33m\u001b[0m\u001b[0m\n\u001b[0m\u001b[0;32m     59\u001b[0m         \u001b[0mr_url\u001b[0m \u001b[1;33m=\u001b[0m \u001b[0msoup\u001b[0m\u001b[1;33m.\u001b[0m\u001b[0mselect\u001b[0m\u001b[1;33m(\u001b[0m\u001b[1;34m'#main_pack > section > div > div.group_news > ul > li > div > div > div > div.info_group > a'\u001b[0m\u001b[1;33m)\u001b[0m\u001b[1;33m[\u001b[0m\u001b[0mt\u001b[0m\u001b[1;33m]\u001b[0m\u001b[1;33m.\u001b[0m\u001b[0mattrs\u001b[0m\u001b[1;33m[\u001b[0m\u001b[1;34m'href'\u001b[0m\u001b[1;33m]\u001b[0m\u001b[1;33m\u001b[0m\u001b[1;33m\u001b[0m\u001b[0m\n\u001b[0;32m     60\u001b[0m         \u001b[1;32mif\u001b[0m \u001b[1;34m'news.naver.com'\u001b[0m \u001b[1;32min\u001b[0m \u001b[0mr_url\u001b[0m\u001b[1;33m:\u001b[0m\u001b[1;33m\u001b[0m\u001b[1;33m\u001b[0m\u001b[0m\n",
      "\u001b[1;31mTypeError\u001b[0m: 'ResultSet' object cannot be interpreted as an integer"
     ]
    }
   ],
   "source": [
    "except:\n",
    "    loop = soup.select('#main_pack > section.sc_new.sp_nnews._prs_rns > div > div.group_news > ul.list_news > li')\n",
    "    for i in range(loop):\n",
    "        r_url = soup.select('#main_pack > section > div > div.group_news > ul > li > div > div > div > div.info_group > a')[t].attrs['href']\n",
    "        if 'news.naver.com' in r_url:\n",
    "            response = requests.get(r_url,headers={'User-Agent':'Mozilla/5.0'})\n",
    "            html = response.text\n",
    "            soup = BeautifulSoup(html, 'html.parser')\n",
    "            healine = soup.select_one('#ct > div.media_end_head.go_trans > div.media_end_head_title > h2').get_text()\n",
    "            body_text = soup.select_one('#dic_area').get_text().replace('\\n','')\n",
    "            media_coverage = soup.select_one('#ct > div.media_end_head.go_trans > div.media_end_head_top > a').attrs['href']\n",
    "            IPO_news.append([media_coverage,healine,body_text])\n",
    "        else:\n",
    "            continue"
   ]
  },
  {
   "cell_type": "code",
   "execution_count": null,
   "id": "f55100fc",
   "metadata": {
    "id": "f55100fc",
    "outputId": "3e392fc3-dce2-484f-f21f-7f4df2127cd0"
   },
   "outputs": [
    {
     "data": {
      "text/plain": [
       "[]"
      ]
     },
     "execution_count": 788,
     "metadata": {},
     "output_type": "execute_result"
    }
   ],
   "source": [
    "IPO_news"
   ]
  },
  {
   "cell_type": "code",
   "execution_count": null,
   "id": "643a27d1",
   "metadata": {
    "id": "643a27d1"
   },
   "outputs": [],
   "source": []
  },
  {
   "cell_type": "code",
   "execution_count": null,
   "id": "d1f21fa3",
   "metadata": {},
   "outputs": [],
   "source": [
    "https://search.naver.com/search.naver?where=news&query=''&sm=tab_opt&sort=0&photo=0&field=0&pd=3&ds=2020.03.01&de=2020.03.31&docid=&related=0&mynews=0&office_type=0&office_section_code=0&news_office_checked=&nso=so%3Ar%2Cp%3Afrom20200301to20200331&is_sug_officeid=0"
   ]
  },
  {
   "cell_type": "code",
   "execution_count": null,
   "id": "cfebe72e",
   "metadata": {
    "id": "cfebe72e",
    "outputId": "0d4ead89-10a9-445c-a5d2-71cf98a9699d"
   },
   "outputs": [
    {
     "ename": "TypeError",
     "evalue": "'ResultSet' object cannot be interpreted as an integer",
     "output_type": "error",
     "traceback": [
      "\u001b[1;31m---------------------------------------------------------------------------\u001b[0m",
      "\u001b[1;31mAttributeError\u001b[0m                            Traceback (most recent call last)",
      "\u001b[1;32m~\\AppData\\Local\\Temp/ipykernel_14212/780235473.py\u001b[0m in \u001b[0;36m<module>\u001b[1;34m\u001b[0m\n\u001b[0;32m     22\u001b[0m     \u001b[1;32mtry\u001b[0m\u001b[1;33m:\u001b[0m\u001b[1;33m\u001b[0m\u001b[1;33m\u001b[0m\u001b[0m\n\u001b[1;32m---> 23\u001b[1;33m         \u001b[1;32mwhile\u001b[0m \u001b[0msoup\u001b[0m\u001b[1;33m.\u001b[0m\u001b[0mfind\u001b[0m\u001b[1;33m(\u001b[0m\u001b[1;34m'div'\u001b[0m\u001b[1;33m,\u001b[0m\u001b[0mclass_\u001b[0m\u001b[1;33m=\u001b[0m\u001b[1;34m'sc_page'\u001b[0m\u001b[1;33m)\u001b[0m\u001b[1;33m.\u001b[0m\u001b[0mhas_attr\u001b[0m\u001b[1;33m(\u001b[0m\u001b[1;34m'aria-disabled'\u001b[0m\u001b[1;33m)\u001b[0m \u001b[1;33m!=\u001b[0m \u001b[1;32mFalse\u001b[0m\u001b[1;33m:\u001b[0m\u001b[1;33m\u001b[0m\u001b[1;33m\u001b[0m\u001b[0m\n\u001b[0m\u001b[0;32m     24\u001b[0m             \u001b[0msoup_copy\u001b[0m \u001b[1;33m=\u001b[0m \u001b[0msoup\u001b[0m\u001b[1;33m\u001b[0m\u001b[1;33m\u001b[0m\u001b[0m\n",
      "\u001b[1;31mAttributeError\u001b[0m: 'NoneType' object has no attribute 'has_attr'",
      "\nDuring handling of the above exception, another exception occurred:\n",
      "\u001b[1;31mTypeError\u001b[0m                                 Traceback (most recent call last)",
      "\u001b[1;32m~\\AppData\\Local\\Temp/ipykernel_14212/780235473.py\u001b[0m in \u001b[0;36m<module>\u001b[1;34m\u001b[0m\n\u001b[0;32m     77\u001b[0m     \u001b[1;32mexcept\u001b[0m\u001b[1;33m:\u001b[0m\u001b[1;33m\u001b[0m\u001b[1;33m\u001b[0m\u001b[0m\n\u001b[0;32m     78\u001b[0m         \u001b[0mloop\u001b[0m \u001b[1;33m=\u001b[0m \u001b[0msoup\u001b[0m\u001b[1;33m.\u001b[0m\u001b[0mselect\u001b[0m\u001b[1;33m(\u001b[0m\u001b[1;34m'#main_pack > section.sc_new.sp_nnews._prs_rns > div > div.group_news > ul.list_news > li'\u001b[0m\u001b[1;33m)\u001b[0m\u001b[1;33m\u001b[0m\u001b[1;33m\u001b[0m\u001b[0m\n\u001b[1;32m---> 79\u001b[1;33m         \u001b[1;32mfor\u001b[0m \u001b[0mi\u001b[0m \u001b[1;32min\u001b[0m \u001b[0mrange\u001b[0m\u001b[1;33m(\u001b[0m\u001b[0mloop\u001b[0m\u001b[1;33m)\u001b[0m\u001b[1;33m:\u001b[0m\u001b[1;33m\u001b[0m\u001b[1;33m\u001b[0m\u001b[0m\n\u001b[0m\u001b[0;32m     80\u001b[0m             \u001b[0mr_url\u001b[0m \u001b[1;33m=\u001b[0m \u001b[0msoup\u001b[0m\u001b[1;33m.\u001b[0m\u001b[0mselect\u001b[0m\u001b[1;33m(\u001b[0m\u001b[1;34m'#main_pack > section > div > div.group_news > ul > li > div > div > div > div.info_group > a'\u001b[0m\u001b[1;33m)\u001b[0m\u001b[1;33m[\u001b[0m\u001b[0mt\u001b[0m\u001b[1;33m]\u001b[0m\u001b[1;33m.\u001b[0m\u001b[0mattrs\u001b[0m\u001b[1;33m[\u001b[0m\u001b[1;34m'href'\u001b[0m\u001b[1;33m]\u001b[0m\u001b[1;33m\u001b[0m\u001b[1;33m\u001b[0m\u001b[0m\n\u001b[0;32m     81\u001b[0m             \u001b[1;32mif\u001b[0m \u001b[1;34m'news.naver.com'\u001b[0m \u001b[1;32min\u001b[0m \u001b[0mr_url\u001b[0m\u001b[1;33m:\u001b[0m\u001b[1;33m\u001b[0m\u001b[1;33m\u001b[0m\u001b[0m\n",
      "\u001b[1;31mTypeError\u001b[0m: 'ResultSet' object cannot be interpreted as an integer"
     ]
    }
   ],
   "source": [
    "IPO_news = []\n",
    "\n",
    "#\n",
    "for ind,company in enumerate(lst_kr_company[10:]):\n",
    "    behind_date_1 = df_kr_company['6'][ind+10]\n",
    "    behind_date_2 = behind_date.replace('.','')\n",
    "    behind_year = int(behind_date_1[:4])\n",
    "    behind_month = int(behind_date_1[5:7])\n",
    "    behind_day = int(behind_date_1[8:10])\n",
    "    front_date_1 = (datetime.datetime(behind_year,behind_month,behind_day)- timedelta(days=30)).strftime(\"%Y.%m.%d\")\n",
    "    front_date_2 = front_date_1.replace('.','')  \n",
    "    # Page Parsing\n",
    "    \n",
    "    page_num = 1\n",
    "    url = f'https://search.naver.com/search.naver?where=news&query={company}&sm=tab_opt&sort=0&photo=0&field=0&pd=3&ds={front_date_1}&de={behind_date_1}&from{front_date_2}to{behind_date_2}&is_sug_officeid=&nso=so:r,p:all,a:all&start={page_num}'\n",
    "    response = requests.get(url,headers={'User-Agent':'Mozilla/5.0'})\n",
    "    html = response.text\n",
    "    soup = BeautifulSoup(html, 'html.parser')\n",
    "\n",
    "#-----------------------------------------------------\n",
    "\n",
    "    try:\n",
    "        while soup.find('div',class_='sc_page').has_attr('aria-disabled') != False:\n",
    "            soup_copy = soup\n",
    "            # False인 이유는 다음 페이지 존재하기 때문! 고로, 한 페이지에 10개에 해당되는 뉴스 기사 존재\n",
    "            for tar in range(10):\n",
    "                tar_url = soup.select('#main_pack > section > div > div.group_news > ul > li > div > div > div > div.info_group > a')[tar].attrs['href']\n",
    "\n",
    "                # 만약 관련 뉴스가 있으면 들어가기\n",
    "                try:\n",
    "                    n = 1\n",
    "                    t_url = 'https://search.naver.com/search.naver'+soup.select('#main_pack > section > div > div.group_news > ul > li')[tar].find('a', class_= 'news_more').attrs['href']+f'&start={n}'\n",
    "                    response = requests.get(t_url,headers={'User-Agent':'Mozilla/5.0'})\n",
    "                    html = response.text\n",
    "                    soup = BeautifulSoup(html, 'html.parser')\n",
    "                    while soup.find('div',class_='sc_page').has_attr('aria-disabled') != False:\n",
    "                        for t in range(10):\n",
    "                            t_url = soup.select('#main_pack > section > div > div.group_news > ul > li > div > div > div > div.info_group > a')[t].attrs['href']\n",
    "                            if 'news.naver.com' in t_url:\n",
    "                                response = requests.get(t_url,headers={'User-Agent':'Mozilla/5.0'})\n",
    "                                html = response.text\n",
    "                                soup = BeautifulSoup(html, 'html.parser')\n",
    "                                healine = soup.select_one('#ct > div.media_end_head.go_trans > div.media_end_head_title > h2').get_text()\n",
    "                                body_text = soup.select_one('#dic_area').get_text().replace('\\n','')\n",
    "                                media_coverage = soup.select_one('#ct > div.media_end_head.go_trans > div.media_end_head_top > a').attrs['href']\n",
    "                                IPO_news.append([media_coverage,healine,body_text])                \n",
    "                            else:\n",
    "                                continue\n",
    "                        n += 10\n",
    "                        response = requests.get(t_url,headers={'User-Agent':'Mozilla/5.0'})\n",
    "                        html = response.text\n",
    "                        soup = BeautifulSoup(html, 'html.parser')\n",
    "                        loop = soup.select('#main_pack > section.sc_new.sp_nnews._prs_rns > div > div.group_news > ul.list_news > li')\n",
    "                        for i in range(loop):\n",
    "                            r_url = soup.select('#main_pack > section > div > div.group_news > ul > li > div > div > div > div.info_group > a')[t].attrs['href']\n",
    "                            if 'news.naver.com' in r_url:\n",
    "                                response = requests.get(r_url,headers={'User-Agent':'Mozilla/5.0'})\n",
    "                                html = response.text\n",
    "                                soup = BeautifulSoup(html, 'html.parser')\n",
    "                                healine = soup.select_one('#ct > div.media_end_head.go_trans > div.media_end_head_title > h2').get_text()\n",
    "                                body_text = soup.select_one('#dic_area').get_text().replace('\\n','')\n",
    "                                media_coverage = soup.select_one('#ct > div.media_end_head.go_trans > div.media_end_head_top > a').attrs['href']\n",
    "                                IPO_news.append([media_coverage,healine,body_text])                \n",
    "            # 관련 뉴스가 없을 때 \n",
    "                except:\n",
    "                    if 'news.naver.com' in tar_url:\n",
    "                        response = requests.get(url,headers={'User-Agent':'Mozilla/5.0'})\n",
    "                        html = response.text\n",
    "                        soup = BeautifulSoup(html, 'html.parser')\n",
    "                        healine = soup.select_one('#ct > div.media_end_head.go_trans > div.media_end_head_title > h2').get_text()\n",
    "                        body_text = soup.select_one('#dic_area').get_text().replace('\\n','')\n",
    "                        media_coverage = soup.select_one('#ct > div.media_end_head.go_trans > div.media_end_head_top > a').attrs['href']\n",
    "                        IPO_news.append([media_coverage,healine,body_text])\n",
    "                    else:\n",
    "                        continue\n",
    "            soup = soup_copy\n",
    "    except:\n",
    "        loop = soup.select('#main_pack > section.sc_new.sp_nnews._prs_rns > div > div.group_news > ul.list_news > li')\n",
    "        for i in range(loop):\n",
    "            r_url = soup.select('#main_pack > section > div > div.group_news > ul > li > div > div > div > div.info_group > a')[t].attrs['href']\n",
    "            if 'news.naver.com' in r_url:\n",
    "                response = requests.get(r_url,headers={'User-Agent':'Mozilla/5.0'})\n",
    "                html = response.text\n",
    "                soup = BeautifulSoup(html, 'html.parser')\n",
    "                healine = soup.select_one('#ct > div.media_end_head.go_trans > div.media_end_head_title > h2').get_text()\n",
    "                body_text = soup.select_one('#dic_area').get_text().replace('\\n','')\n",
    "                media_coverage = soup.select_one('#ct > div.media_end_head.go_trans > div.media_end_head_top > a').attrs['href']\n",
    "                IPO_news.append([media_coverage,healine,body_text])\n",
    "            else:\n",
    "                continue"
   ]
  },
  {
   "cell_type": "code",
   "execution_count": null,
   "id": "80522682",
   "metadata": {
    "id": "80522682",
    "outputId": "b9785d30-ad48-4d3b-fbd1-15a3c0991fb0"
   },
   "outputs": [
    {
     "data": {
      "text/plain": [
       "<div id=\"nxtt_div\" style=\"display:none;position:absolute;border-width:0;z-index:11000\"></div>"
      ]
     },
     "execution_count": 775,
     "metadata": {},
     "output_type": "execute_result"
    }
   ],
   "source": [
    "soup.find('div')"
   ]
  },
  {
   "cell_type": "code",
   "execution_count": null,
   "id": "b10f749e",
   "metadata": {
    "id": "b10f749e",
    "outputId": "74ac99cc-e1c0-4c45-c2e9-5030fd23c584"
   },
   "outputs": [
    {
     "ename": "AttributeError",
     "evalue": "'NoneType' object has no attribute 'has_attr'",
     "output_type": "error",
     "traceback": [
      "\u001b[1;31m---------------------------------------------------------------------------\u001b[0m",
      "\u001b[1;31mAttributeError\u001b[0m                            Traceback (most recent call last)",
      "\u001b[1;32m~\\AppData\\Local\\Temp/ipykernel_14212/4143370896.py\u001b[0m in \u001b[0;36m<module>\u001b[1;34m\u001b[0m\n\u001b[1;32m----> 1\u001b[1;33m \u001b[0msoup\u001b[0m\u001b[1;33m.\u001b[0m\u001b[0mfind\u001b[0m\u001b[1;33m(\u001b[0m\u001b[1;34m'div'\u001b[0m\u001b[1;33m,\u001b[0m\u001b[0mclass_\u001b[0m\u001b[1;33m=\u001b[0m\u001b[1;34m'sc_page'\u001b[0m\u001b[1;33m)\u001b[0m\u001b[1;33m.\u001b[0m\u001b[0mhas_attr\u001b[0m\u001b[1;33m(\u001b[0m\u001b[1;34m'aria-disabled'\u001b[0m\u001b[1;33m)\u001b[0m\u001b[1;33m\u001b[0m\u001b[1;33m\u001b[0m\u001b[0m\n\u001b[0m",
      "\u001b[1;31mAttributeError\u001b[0m: 'NoneType' object has no attribute 'has_attr'"
     ]
    }
   ],
   "source": [
    "soup.find('div',class_='sc_page').has_attr('aria-disabled')"
   ]
  },
  {
   "cell_type": "code",
   "execution_count": null,
   "id": "95741455",
   "metadata": {
    "id": "95741455"
   },
   "outputs": [],
   "source": [
    "url = 'https://search.naver.com/search.naver?where=news&sm=tab_pge&query=%ED%8F%AC%EB%B0%94%EC%9D%B4%ED%8F%AC&sort=0&photo=0&field=0&pd=3&ds=2022.03.07&de=2022.03.28&related=1&docid=3660000801354&mynews=0&office_type=0&office_section_code=0&news_office_checked=&nso=so:r,p:from20220307to20220328,a:all'\n",
    "response = requests.get(url,headers={'User-Agent':'Mozilla/5.0'})\n",
    "html = response.text\n",
    "soup = BeautifulSoup(html, 'html.parser')"
   ]
  },
  {
   "cell_type": "code",
   "execution_count": null,
   "id": "59882955",
   "metadata": {
    "id": "59882955",
    "outputId": "9f4289ca-4250-416e-cea5-95bad0c77efb"
   },
   "outputs": [
    {
     "data": {
      "text/plain": [
       "10"
      ]
     },
     "execution_count": 770,
     "metadata": {},
     "output_type": "execute_result"
    }
   ],
   "source": [
    "len(soup.select('#main_pack > section.sc_new.sp_nnews._prs_rns > div > div.group_news > ul.list_news > li'))"
   ]
  },
  {
   "cell_type": "code",
   "execution_count": null,
   "id": "fb94cf9a",
   "metadata": {
    "id": "fb94cf9a",
    "outputId": "97ee03e3-6234-43e7-b895-9d566ed30d70"
   },
   "outputs": [
    {
     "data": {
      "text/plain": [
       "{'class': ['bx'], 'id': 'sp_rns11'}"
      ]
     },
     "execution_count": 753,
     "metadata": {},
     "output_type": "execute_result"
    }
   ],
   "source": [
    "url = 'https://search.naver.com/search.naver?where=news&sm=tab_pge&query=%ED%8F%AC%EB%B0%94%EC%9D%B4%ED%8F%AC&sort=0&photo=0&field=0&pd=3&ds=2022.03.07&de=2022.03.28&related=1&docid=3660000801354&mynews=0&office_type=0&office_section_code=0&news_office_checked=&nso=so:r,p:from20220307to20220328,a:all&start=11'\n",
    "response = requests.get(url,headers={'User-Agent':'Mozilla/5.0'})\n",
    "html = response.text\n",
    "soup = BeautifulSoup(html, 'html.parser')\n",
    "soup.select('#main_pack > section.sc_new.sp_nnews._prs_rns > div > div.group_news > ul.list_news > li')[0].attrs"
   ]
  },
  {
   "cell_type": "code",
   "execution_count": null,
   "id": "c5730674",
   "metadata": {
    "id": "c5730674",
    "outputId": "a23bacb4-8eec-4c00-f660-f77ac8ca8ea2",
    "scrolled": true
   },
   "outputs": [
    {
     "data": {
      "text/plain": [
       "'http://biz.chosun.com/'"
      ]
     },
     "execution_count": 741,
     "metadata": {},
     "output_type": "execute_result"
    }
   ],
   "source": [
    "url = 'https://n.news.naver.com/mnews/article/366/0000801354?sid=101'\n",
    "response = requests.get(url,headers={'User-Agent':'Mozilla/5.0'})\n",
    "html = response.text\n",
    "soup = BeautifulSoup(html, 'html.parser')\n",
    "media_coverage = soup.select_one('#ct > div.media_end_head.go_trans > div.media_end_head_top > a').attrs['href']"
   ]
  },
  {
   "cell_type": "code",
   "execution_count": null,
   "id": "d94aa3e2",
   "metadata": {
    "id": "d94aa3e2",
    "outputId": "053deb91-0f37-46d7-935f-5a4af51b348d"
   },
   "outputs": [
    {
     "data": {
      "text/plain": [
       "10"
      ]
     },
     "execution_count": 706,
     "metadata": {},
     "output_type": "execute_result"
    }
   ],
   "source": [
    "soup.select('#main_pack > section > div > div.group_news > ul > li')"
   ]
  },
  {
   "cell_type": "code",
   "execution_count": null,
   "id": "a4ca690b",
   "metadata": {
    "id": "a4ca690b"
   },
   "outputs": [],
   "source": [
    "https://search.naver.com/search.naver?where=news&sm=tab_tnw&query=%ED%8F%AC%EB%B0%94%EC%9D%B4%ED%8F%AC&sort=0&photo=0&field=0&pd=3&ds=2022.03.07&de=2022.03.28&mynews=0&office_type=0&office_section_code=0&news_office_checked=&related=1&docid=3660000801354&nso=so:r,p:from20220307to20220328,a:all\n",
    "https://search.naver.com/search.naver?where=news&sm=tab_pge&query=%ED%8F%AC%EB%B0%94%EC%9D%B4%ED%8F%AC&sort=0&photo=0&field=0&pd=3&ds=2022.03.07&de=2022.03.28&related=1&docid=3660000801354&mynews=0&office_type=0&office_section_code=0&news_office_checked=&nso=so:r,p:from20220307to20220328,a:all                "
   ]
  },
  {
   "cell_type": "code",
   "execution_count": null,
   "id": "448b93c3",
   "metadata": {
    "id": "448b93c3",
    "outputId": "ded88867-e693-4777-a7e8-0a468ca5c09a",
    "scrolled": true
   },
   "outputs": [
    {
     "name": "stderr",
     "output_type": "stream",
     "text": [
      "C:\\Users\\82109\\AppData\\Local\\Temp/ipykernel_14212/1541903630.py:2: DeprecationWarning: find_element_by_xpath is deprecated. Please use find_element(by=By.XPATH, value=xpath) instead\n",
      "  driver.find_element_by_xpath('/html/body/div[3]/div[2]/div/div[1]/section[1]/div/div[2]/ul/li[2]/a').click()\n"
     ]
    }
   ],
   "source": [
    "driver.get(url)\n",
    "driver.find_element_by_xpath('/html/body/div[3]/div[2]/div/div[1]/section[1]/div/div[2]/ul/li[2]/a').click()"
   ]
  },
  {
   "cell_type": "code",
   "execution_count": null,
   "id": "f43cb846",
   "metadata": {
    "id": "f43cb846"
   },
   "outputs": [],
   "source": [
    "url = 'https://search.naver.com/search.naver?where=news&sm=tab_pge&query=%ED%8F%AC%EB%B0%94%EC%9D%B4%ED%8F%AC&sort=0&photo=0&field=0&pd=3&ds=2022.03.07&de=2022.03.28&cluster_rank=28&mynews=0&office_type=0&office_section_code=0&news_office_checked=&nso=so:r,p:from20220307to20220328,a:all&start=1'\n",
    "response = requests.get(url,headers={'User-Agent':'Mozilla/5.0'})\n",
    "html = response.text\n",
    "soup = BeautifulSoup(html, 'html.parser')"
   ]
  },
  {
   "cell_type": "code",
   "execution_count": null,
   "id": "59267188",
   "metadata": {
    "id": "59267188"
   },
   "outputs": [],
   "source": [
    "# soup.find('div',class_= \"info\")\n",
    "tar_url = soup.select('#main_pack > section > div > div.group_news > ul > li > div > div > div > div.info_group > a')[2].attrs['href']"
   ]
  },
  {
   "cell_type": "code",
   "execution_count": null,
   "id": "36901496",
   "metadata": {
    "id": "36901496",
    "outputId": "90cc4272-ee91-41e7-b109-6ee7363aa1dd",
    "scrolled": true
   },
   "outputs": [
    {
     "name": "stderr",
     "output_type": "stream",
     "text": [
      "C:\\Users\\82109\\AppData\\Local\\Temp/ipykernel_14212/3782209912.py:8: DeprecationWarning: find_element_by_xpath is deprecated. Please use find_element(by=By.XPATH, value=xpath) instead\n",
      "  driver.find_element_by_xpath('//*[@id=\"nx_query\"]').send_keys(f'{company}')\n",
      "C:\\Users\\82109\\AppData\\Local\\Temp/ipykernel_14212/3782209912.py:9: DeprecationWarning: find_element_by_xpath is deprecated. Please use find_element(by=By.XPATH, value=xpath) instead\n",
      "  driver.find_element_by_xpath('//*[@id=\"nx_search_form\"]/fieldset/button/i').click()\n",
      "C:\\Users\\82109\\AppData\\Local\\Temp/ipykernel_14212/3782209912.py:13: DeprecationWarning: find_element_by_xpath is deprecated. Please use find_element(by=By.XPATH, value=xpath) instead\n",
      "  driver.find_element_by_xpath('//*[@id=\"snb\"]/div[1]/div/div[2]/a').click()\n",
      "C:\\Users\\82109\\AppData\\Local\\Temp/ipykernel_14212/3782209912.py:16: DeprecationWarning: find_element_by_xpath is deprecated. Please use find_element(by=By.XPATH, value=xpath) instead\n",
      "  driver.find_element_by_xpath('//*[@id=\"snb\"]/div[2]/ul/li[2]/div/div[1]/a[9]').click()\n",
      "C:\\Users\\82109\\AppData\\Local\\Temp/ipykernel_14212/3782209912.py:32: DeprecationWarning: find_element_by_xpath is deprecated. Please use find_element(by=By.XPATH, value=xpath) instead\n",
      "  driver.find_element_by_xpath(f'//*[@id=\"snb\"]/div[2]/ul/li[2]/div/div[3]/div[2]/div[1]/div/div/div/ul/li[{front_year}]/a').click()\n",
      "C:\\Users\\82109\\AppData\\Local\\Temp/ipykernel_14212/3782209912.py:33: DeprecationWarning: find_element_by_xpath is deprecated. Please use find_element(by=By.XPATH, value=xpath) instead\n",
      "  driver.find_element_by_xpath(f'//*[@id=\"snb\"]/div[2]/ul/li[2]/div/div[3]/div[2]/div[2]/div/div/div/ul/li[{front_month}]/a').click()\n",
      "C:\\Users\\82109\\AppData\\Local\\Temp/ipykernel_14212/3782209912.py:34: DeprecationWarning: find_element_by_xpath is deprecated. Please use find_element(by=By.XPATH, value=xpath) instead\n",
      "  driver.find_element_by_xpath(f'//*[@id=\"snb\"]/div[2]/ul/li[2]/div/div[3]/div[2]/div[3]/div/div/div/ul/li[{front_day}]/a').click()\n",
      "C:\\Users\\82109\\AppData\\Local\\Temp/ipykernel_14212/3782209912.py:37: DeprecationWarning: find_element_by_xpath is deprecated. Please use find_element(by=By.XPATH, value=xpath) instead\n",
      "  driver.find_element_by_xpath('//*[@id=\"snb\"]/div[2]/ul/li[2]/div/div[3]/div[1]/span[3]/a').click()\n",
      "C:\\Users\\82109\\AppData\\Local\\Temp/ipykernel_14212/3782209912.py:40: DeprecationWarning: find_element_by_xpath is deprecated. Please use find_element(by=By.XPATH, value=xpath) instead\n",
      "  driver.find_element_by_xpath(f'//*[@id=\"snb\"]/div[2]/ul/li[2]/div/div[3]/div[2]/div[1]/div/div/div/ul/li[{behind_year}]/a').click()\n",
      "C:\\Users\\82109\\AppData\\Local\\Temp/ipykernel_14212/3782209912.py:41: DeprecationWarning: find_element_by_xpath is deprecated. Please use find_element(by=By.XPATH, value=xpath) instead\n",
      "  driver.find_element_by_xpath(f'//*[@id=\"snb\"]/div[2]/ul/li[2]/div/div[3]/div[2]/div[2]/div/div/div/ul/li[{behind_month}]/a').click()\n",
      "C:\\Users\\82109\\AppData\\Local\\Temp/ipykernel_14212/3782209912.py:42: DeprecationWarning: find_element_by_xpath is deprecated. Please use find_element(by=By.XPATH, value=xpath) instead\n",
      "  driver.find_element_by_xpath(f'//*[@id=\"snb\"]/div[2]/ul/li[2]/div/div[3]/div[2]/div[3]/div/div/div/ul/li[{behind_day}]/a').click()\n",
      "C:\\Users\\82109\\AppData\\Local\\Temp/ipykernel_14212/3782209912.py:45: DeprecationWarning: find_element_by_xpath is deprecated. Please use find_element(by=By.XPATH, value=xpath) instead\n",
      "  driver.find_element_by_xpath('//*[@id=\"snb\"]/div[2]/ul/li[2]/div/div[3]/div[3]/button').click()\n"
     ]
    },
    {
     "name": "stdout",
     "output_type": "stream",
     "text": [
      "10\n",
      "1\n"
     ]
    },
    {
     "name": "stderr",
     "output_type": "stream",
     "text": [
      "C:\\Users\\82109\\AppData\\Local\\Temp/ipykernel_14212/3782209912.py:86: DeprecationWarning: find_element_by_xpath is deprecated. Please use find_element(by=By.XPATH, value=xpath) instead\n",
      "  elif driver.find_element_by_xpath(f'/html/body/div[3]/div[2]/div/div[1]/section/div/div[2]/ul/li[{article}]').text.count('네이버뉴스') != 0:\n",
      "C:\\Users\\82109\\AppData\\Local\\Temp/ipykernel_14212/3782209912.py:87: DeprecationWarning: find_element_by_xpath is deprecated. Please use find_element(by=By.XPATH, value=xpath) instead\n",
      "  driver.find_element_by_xpath(f'/html/body/div[3]/div[2]/div/div[1]/section[1]/div/div[2]/ul/li[{article}]/div/div/div[1]/div[2]/a[2]').click()\n",
      "C:\\Users\\82109\\AppData\\Local\\Temp/ipykernel_14212/3782209912.py:89: DeprecationWarning: find_element_by_xpath is deprecated. Please use find_element(by=By.XPATH, value=xpath) instead\n",
      "  link_url = driver.find_element_by_xpath(f'/html/body/div[3]/div[2]/div/div[1]/section/div/div[2]/ul/li[{article}]/div[1]/div/div[1]/div[2]/a[2]').get_attribute('href')\n",
      "C:\\Users\\82109\\AppData\\Local\\Temp/ipykernel_14212/3782209912.py:95: DeprecationWarning: find_element_by_xpath is deprecated. Please use find_element(by=By.XPATH, value=xpath) instead\n",
      "  news_media = driver.find_element_by_xpath('/html/body/div[3]/div[2]/div/div[1]/section[1]/div/div[2]/ul/li[1]/div[1]/div/div[1]/div[2]').text\n",
      "C:\\Users\\82109\\AppData\\Local\\Temp/ipykernel_14212/3782209912.py:99: DeprecationWarning: find_element_by_xpath is deprecated. Please use find_element(by=By.XPATH, value=xpath) instead\n",
      "  healine = driver.find_element_by_xpath(f'/html/body/div[3]/div[2]/div/div[1]/section[1]/div/div[2]/ul/li[{article}]/div/div/a')\n",
      "C:\\Users\\82109\\AppData\\Local\\Temp/ipykernel_14212/3782209912.py:100: DeprecationWarning: find_element_by_xpath is deprecated. Please use find_element(by=By.XPATH, value=xpath) instead\n",
      "  news_media = driver.find_element_by_xpath('/html/body/div[3]/div[2]/div/div[1]/section[1]/div/div[2]/ul/li[1]/div[1]/div/div[1]/div[2]').text\n"
     ]
    },
    {
     "name": "stdout",
     "output_type": "stream",
     "text": [
      "2\n",
      "3\n",
      "4\n",
      "5\n",
      "6\n",
      "7\n",
      "8\n",
      "9\n"
     ]
    },
    {
     "name": "stderr",
     "output_type": "stream",
     "text": [
      "C:\\Users\\82109\\AppData\\Local\\Temp/ipykernel_14212/3782209912.py:104: DeprecationWarning: find_element_by_xpath is deprecated. Please use find_element(by=By.XPATH, value=xpath) instead\n",
      "  driver.find_element_by_xpath('//*[@id=\"main_pack\"]/div[3]/div/a[2]/i').click()\n"
     ]
    },
    {
     "name": "stdout",
     "output_type": "stream",
     "text": [
      "10\n",
      "1\n",
      "2\n",
      "3\n",
      "4\n",
      "5\n",
      "6\n",
      "7\n",
      "8\n",
      "9\n",
      "10\n",
      "1\n",
      "2\n",
      "3\n",
      "4\n",
      "5\n",
      "6\n",
      "7\n",
      "8\n",
      "9\n",
      "10\n",
      "1\n",
      "2\n",
      "3\n",
      "4\n",
      "5\n",
      "6\n",
      "7\n",
      "8\n",
      "9\n",
      "10\n",
      "1\n",
      "2\n",
      "3\n",
      "4\n",
      "5\n",
      "6\n",
      "7\n",
      "8\n",
      "9\n",
      "10\n",
      "1\n",
      "2\n"
     ]
    },
    {
     "ename": "NoSuchElementException",
     "evalue": "Message: no such element: Unable to locate element: {\"method\":\"xpath\",\"selector\":\"/html/body/div[3]/div[2]/div/div[1]/section[1]/div/div[2]/ul/li[2]/div/div/div[1]/div[2]/a[2]\"}\n  (Session info: chrome=100.0.4896.127)\nStacktrace:\nBacktrace:\n\tOrdinal0 [0x00DE7413+2389011]\n\tOrdinal0 [0x00D79F61+1941345]\n\tOrdinal0 [0x00C6C658+837208]\n\tOrdinal0 [0x00C991DD+1020381]\n\tOrdinal0 [0x00C9949B+1021083]\n\tOrdinal0 [0x00CC6032+1204274]\n\tOrdinal0 [0x00CB4194+1130900]\n\tOrdinal0 [0x00CC4302+1196802]\n\tOrdinal0 [0x00CB3F66+1130342]\n\tOrdinal0 [0x00C8E546+976198]\n\tOrdinal0 [0x00C8F456+980054]\n\tGetHandleVerifier [0x00F99632+1727522]\n\tGetHandleVerifier [0x0104BA4D+2457661]\n\tGetHandleVerifier [0x00E7EB81+569713]\n\tGetHandleVerifier [0x00E7DD76+566118]\n\tOrdinal0 [0x00D80B2B+1968939]\n\tOrdinal0 [0x00D85988+1989000]\n\tOrdinal0 [0x00D85A75+1989237]\n\tOrdinal0 [0x00D8ECB1+2026673]\n\tBaseThreadInitThunk [0x741D8674+36]\n\tRtlGetAppContainerNamedObjectPath [0x777E5E17+311]\n\tRtlGetAppContainerNamedObjectPath [0x777E5DE7+263]\n",
     "output_type": "error",
     "traceback": [
      "\u001b[1;31m---------------------------------------------------------------------------\u001b[0m",
      "\u001b[1;31mNoSuchElementException\u001b[0m                    Traceback (most recent call last)",
      "\u001b[1;32m~\\AppData\\Local\\Temp/ipykernel_14212/3782209912.py\u001b[0m in \u001b[0;36m<module>\u001b[1;34m\u001b[0m\n\u001b[0;32m     85\u001b[0m                     \u001b[0mIPO_news\u001b[0m\u001b[1;33m.\u001b[0m\u001b[0mappend\u001b[0m\u001b[1;33m(\u001b[0m\u001b[1;33m[\u001b[0m\u001b[0mnews_media\u001b[0m\u001b[1;33m,\u001b[0m\u001b[0mhealine\u001b[0m\u001b[1;33m,\u001b[0m\u001b[1;34m'None'\u001b[0m\u001b[1;33m]\u001b[0m\u001b[1;33m)\u001b[0m\u001b[1;33m\u001b[0m\u001b[1;33m\u001b[0m\u001b[0m\n\u001b[0;32m     86\u001b[0m         \u001b[1;32melif\u001b[0m \u001b[0mdriver\u001b[0m\u001b[1;33m.\u001b[0m\u001b[0mfind_element_by_xpath\u001b[0m\u001b[1;33m(\u001b[0m\u001b[1;34mf'/html/body/div[3]/div[2]/div/div[1]/section/div/div[2]/ul/li[{article}]'\u001b[0m\u001b[1;33m)\u001b[0m\u001b[1;33m.\u001b[0m\u001b[0mtext\u001b[0m\u001b[1;33m.\u001b[0m\u001b[0mcount\u001b[0m\u001b[1;33m(\u001b[0m\u001b[1;34m'네이버뉴스'\u001b[0m\u001b[1;33m)\u001b[0m \u001b[1;33m!=\u001b[0m \u001b[1;36m0\u001b[0m\u001b[1;33m:\u001b[0m\u001b[1;33m\u001b[0m\u001b[1;33m\u001b[0m\u001b[0m\n\u001b[1;32m---> 87\u001b[1;33m             \u001b[0mdriver\u001b[0m\u001b[1;33m.\u001b[0m\u001b[0mfind_element_by_xpath\u001b[0m\u001b[1;33m(\u001b[0m\u001b[1;34mf'/html/body/div[3]/div[2]/div/div[1]/section[1]/div/div[2]/ul/li[{article}]/div/div/div[1]/div[2]/a[2]'\u001b[0m\u001b[1;33m)\u001b[0m\u001b[1;33m.\u001b[0m\u001b[0mclick\u001b[0m\u001b[1;33m(\u001b[0m\u001b[1;33m)\u001b[0m\u001b[1;33m\u001b[0m\u001b[1;33m\u001b[0m\u001b[0m\n\u001b[0m\u001b[0;32m     88\u001b[0m             \u001b[0mtime\u001b[0m\u001b[1;33m.\u001b[0m\u001b[0msleep\u001b[0m\u001b[1;33m(\u001b[0m\u001b[1;36m3\u001b[0m\u001b[1;33m)\u001b[0m\u001b[1;33m\u001b[0m\u001b[1;33m\u001b[0m\u001b[0m\n\u001b[0;32m     89\u001b[0m             \u001b[0mlink_url\u001b[0m \u001b[1;33m=\u001b[0m \u001b[0mdriver\u001b[0m\u001b[1;33m.\u001b[0m\u001b[0mfind_element_by_xpath\u001b[0m\u001b[1;33m(\u001b[0m\u001b[1;34mf'/html/body/div[3]/div[2]/div/div[1]/section/div/div[2]/ul/li[{article}]/div[1]/div/div[1]/div[2]/a[2]'\u001b[0m\u001b[1;33m)\u001b[0m\u001b[1;33m.\u001b[0m\u001b[0mget_attribute\u001b[0m\u001b[1;33m(\u001b[0m\u001b[1;34m'href'\u001b[0m\u001b[1;33m)\u001b[0m\u001b[1;33m\u001b[0m\u001b[1;33m\u001b[0m\u001b[0m\n",
      "\u001b[1;32m~\\anaconda3\\lib\\site-packages\\selenium\\webdriver\\remote\\webdriver.py\u001b[0m in \u001b[0;36mfind_element_by_xpath\u001b[1;34m(self, xpath)\u001b[0m\n\u001b[0;32m    519\u001b[0m             \u001b[0mstacklevel\u001b[0m\u001b[1;33m=\u001b[0m\u001b[1;36m2\u001b[0m\u001b[1;33m,\u001b[0m\u001b[1;33m\u001b[0m\u001b[1;33m\u001b[0m\u001b[0m\n\u001b[0;32m    520\u001b[0m         )\n\u001b[1;32m--> 521\u001b[1;33m         \u001b[1;32mreturn\u001b[0m \u001b[0mself\u001b[0m\u001b[1;33m.\u001b[0m\u001b[0mfind_element\u001b[0m\u001b[1;33m(\u001b[0m\u001b[0mby\u001b[0m\u001b[1;33m=\u001b[0m\u001b[0mBy\u001b[0m\u001b[1;33m.\u001b[0m\u001b[0mXPATH\u001b[0m\u001b[1;33m,\u001b[0m \u001b[0mvalue\u001b[0m\u001b[1;33m=\u001b[0m\u001b[0mxpath\u001b[0m\u001b[1;33m)\u001b[0m\u001b[1;33m\u001b[0m\u001b[1;33m\u001b[0m\u001b[0m\n\u001b[0m\u001b[0;32m    522\u001b[0m \u001b[1;33m\u001b[0m\u001b[0m\n\u001b[0;32m    523\u001b[0m     \u001b[1;32mdef\u001b[0m \u001b[0mfind_elements_by_xpath\u001b[0m\u001b[1;33m(\u001b[0m\u001b[0mself\u001b[0m\u001b[1;33m,\u001b[0m \u001b[0mxpath\u001b[0m\u001b[1;33m)\u001b[0m \u001b[1;33m->\u001b[0m \u001b[0mList\u001b[0m\u001b[1;33m[\u001b[0m\u001b[0mWebElement\u001b[0m\u001b[1;33m]\u001b[0m\u001b[1;33m:\u001b[0m\u001b[1;33m\u001b[0m\u001b[1;33m\u001b[0m\u001b[0m\n",
      "\u001b[1;32m~\\anaconda3\\lib\\site-packages\\selenium\\webdriver\\remote\\webdriver.py\u001b[0m in \u001b[0;36mfind_element\u001b[1;34m(self, by, value)\u001b[0m\n\u001b[0;32m   1246\u001b[0m             \u001b[0mvalue\u001b[0m \u001b[1;33m=\u001b[0m \u001b[1;34m'[name=\"%s\"]'\u001b[0m \u001b[1;33m%\u001b[0m \u001b[0mvalue\u001b[0m\u001b[1;33m\u001b[0m\u001b[1;33m\u001b[0m\u001b[0m\n\u001b[0;32m   1247\u001b[0m \u001b[1;33m\u001b[0m\u001b[0m\n\u001b[1;32m-> 1248\u001b[1;33m         return self.execute(Command.FIND_ELEMENT, {\n\u001b[0m\u001b[0;32m   1249\u001b[0m             \u001b[1;34m'using'\u001b[0m\u001b[1;33m:\u001b[0m \u001b[0mby\u001b[0m\u001b[1;33m,\u001b[0m\u001b[1;33m\u001b[0m\u001b[1;33m\u001b[0m\u001b[0m\n\u001b[0;32m   1250\u001b[0m             'value': value})['value']\n",
      "\u001b[1;32m~\\anaconda3\\lib\\site-packages\\selenium\\webdriver\\remote\\webdriver.py\u001b[0m in \u001b[0;36mexecute\u001b[1;34m(self, driver_command, params)\u001b[0m\n\u001b[0;32m    423\u001b[0m         \u001b[0mresponse\u001b[0m \u001b[1;33m=\u001b[0m \u001b[0mself\u001b[0m\u001b[1;33m.\u001b[0m\u001b[0mcommand_executor\u001b[0m\u001b[1;33m.\u001b[0m\u001b[0mexecute\u001b[0m\u001b[1;33m(\u001b[0m\u001b[0mdriver_command\u001b[0m\u001b[1;33m,\u001b[0m \u001b[0mparams\u001b[0m\u001b[1;33m)\u001b[0m\u001b[1;33m\u001b[0m\u001b[1;33m\u001b[0m\u001b[0m\n\u001b[0;32m    424\u001b[0m         \u001b[1;32mif\u001b[0m \u001b[0mresponse\u001b[0m\u001b[1;33m:\u001b[0m\u001b[1;33m\u001b[0m\u001b[1;33m\u001b[0m\u001b[0m\n\u001b[1;32m--> 425\u001b[1;33m             \u001b[0mself\u001b[0m\u001b[1;33m.\u001b[0m\u001b[0merror_handler\u001b[0m\u001b[1;33m.\u001b[0m\u001b[0mcheck_response\u001b[0m\u001b[1;33m(\u001b[0m\u001b[0mresponse\u001b[0m\u001b[1;33m)\u001b[0m\u001b[1;33m\u001b[0m\u001b[1;33m\u001b[0m\u001b[0m\n\u001b[0m\u001b[0;32m    426\u001b[0m             response['value'] = self._unwrap_value(\n\u001b[0;32m    427\u001b[0m                 response.get('value', None))\n",
      "\u001b[1;32m~\\anaconda3\\lib\\site-packages\\selenium\\webdriver\\remote\\errorhandler.py\u001b[0m in \u001b[0;36mcheck_response\u001b[1;34m(self, response)\u001b[0m\n\u001b[0;32m    245\u001b[0m                 \u001b[0malert_text\u001b[0m \u001b[1;33m=\u001b[0m \u001b[0mvalue\u001b[0m\u001b[1;33m[\u001b[0m\u001b[1;34m'alert'\u001b[0m\u001b[1;33m]\u001b[0m\u001b[1;33m.\u001b[0m\u001b[0mget\u001b[0m\u001b[1;33m(\u001b[0m\u001b[1;34m'text'\u001b[0m\u001b[1;33m)\u001b[0m\u001b[1;33m\u001b[0m\u001b[1;33m\u001b[0m\u001b[0m\n\u001b[0;32m    246\u001b[0m             \u001b[1;32mraise\u001b[0m \u001b[0mexception_class\u001b[0m\u001b[1;33m(\u001b[0m\u001b[0mmessage\u001b[0m\u001b[1;33m,\u001b[0m \u001b[0mscreen\u001b[0m\u001b[1;33m,\u001b[0m \u001b[0mstacktrace\u001b[0m\u001b[1;33m,\u001b[0m \u001b[0malert_text\u001b[0m\u001b[1;33m)\u001b[0m  \u001b[1;31m# type: ignore[call-arg]  # mypy is not smart enough here\u001b[0m\u001b[1;33m\u001b[0m\u001b[1;33m\u001b[0m\u001b[0m\n\u001b[1;32m--> 247\u001b[1;33m         \u001b[1;32mraise\u001b[0m \u001b[0mexception_class\u001b[0m\u001b[1;33m(\u001b[0m\u001b[0mmessage\u001b[0m\u001b[1;33m,\u001b[0m \u001b[0mscreen\u001b[0m\u001b[1;33m,\u001b[0m \u001b[0mstacktrace\u001b[0m\u001b[1;33m)\u001b[0m\u001b[1;33m\u001b[0m\u001b[1;33m\u001b[0m\u001b[0m\n\u001b[0m\u001b[0;32m    248\u001b[0m \u001b[1;33m\u001b[0m\u001b[0m\n\u001b[0;32m    249\u001b[0m     \u001b[1;32mdef\u001b[0m \u001b[0m_value_or_default\u001b[0m\u001b[1;33m(\u001b[0m\u001b[0mself\u001b[0m\u001b[1;33m,\u001b[0m \u001b[0mobj\u001b[0m\u001b[1;33m:\u001b[0m \u001b[0mMapping\u001b[0m\u001b[1;33m[\u001b[0m\u001b[0m_KT\u001b[0m\u001b[1;33m,\u001b[0m \u001b[0m_VT\u001b[0m\u001b[1;33m]\u001b[0m\u001b[1;33m,\u001b[0m \u001b[0mkey\u001b[0m\u001b[1;33m:\u001b[0m \u001b[0m_KT\u001b[0m\u001b[1;33m,\u001b[0m \u001b[0mdefault\u001b[0m\u001b[1;33m:\u001b[0m \u001b[0m_VT\u001b[0m\u001b[1;33m)\u001b[0m \u001b[1;33m->\u001b[0m \u001b[0m_VT\u001b[0m\u001b[1;33m:\u001b[0m\u001b[1;33m\u001b[0m\u001b[1;33m\u001b[0m\u001b[0m\n",
      "\u001b[1;31mNoSuchElementException\u001b[0m: Message: no such element: Unable to locate element: {\"method\":\"xpath\",\"selector\":\"/html/body/div[3]/div[2]/div/div[1]/section[1]/div/div[2]/ul/li[2]/div/div/div[1]/div[2]/a[2]\"}\n  (Session info: chrome=100.0.4896.127)\nStacktrace:\nBacktrace:\n\tOrdinal0 [0x00DE7413+2389011]\n\tOrdinal0 [0x00D79F61+1941345]\n\tOrdinal0 [0x00C6C658+837208]\n\tOrdinal0 [0x00C991DD+1020381]\n\tOrdinal0 [0x00C9949B+1021083]\n\tOrdinal0 [0x00CC6032+1204274]\n\tOrdinal0 [0x00CB4194+1130900]\n\tOrdinal0 [0x00CC4302+1196802]\n\tOrdinal0 [0x00CB3F66+1130342]\n\tOrdinal0 [0x00C8E546+976198]\n\tOrdinal0 [0x00C8F456+980054]\n\tGetHandleVerifier [0x00F99632+1727522]\n\tGetHandleVerifier [0x0104BA4D+2457661]\n\tGetHandleVerifier [0x00E7EB81+569713]\n\tGetHandleVerifier [0x00E7DD76+566118]\n\tOrdinal0 [0x00D80B2B+1968939]\n\tOrdinal0 [0x00D85988+1989000]\n\tOrdinal0 [0x00D85A75+1989237]\n\tOrdinal0 [0x00D8ECB1+2026673]\n\tBaseThreadInitThunk [0x741D8674+36]\n\tRtlGetAppContainerNamedObjectPath [0x777E5E17+311]\n\tRtlGetAppContainerNamedObjectPath [0x777E5DE7+263]\n"
     ]
    }
   ],
   "source": [
    "IPO_news = []\n",
    "URL = 'https://search.naver.com/search.naver?where=news&sm=tab_jum&query='\n",
    "driver.get(URL)\n",
    "for ind,company in enumerate(lst_kr_company[10:]):\n",
    "    URL = 'https://search.naver.com/search.naver?where=news&sm=tab_jum&query='\n",
    "    driver.get(URL)\n",
    "    # IPO 기업명 및 검색\n",
    "    driver.find_element_by_xpath('//*[@id=\"nx_query\"]').send_keys(f'{company}')\n",
    "    driver.find_element_by_xpath('//*[@id=\"nx_search_form\"]/fieldset/button/i').click()\n",
    "    time.sleep(4)\n",
    "    \n",
    "    # 옵션 클릭\n",
    "    driver.find_element_by_xpath('//*[@id=\"snb\"]/div[1]/div/div[2]/a').click()\n",
    "\n",
    "    # 직접 입력 클릭\n",
    "    driver.find_element_by_xpath('//*[@id=\"snb\"]/div[2]/ul/li[2]/div/div[1]/a[9]').click()\n",
    "\n",
    "    # IPO 상장날\n",
    "    behind_date = df_kr_company['6'][ind+10]\n",
    "    behind_year = int(behind_date[:4])\n",
    "    behind_month = int(behind_date[5:7])\n",
    "    behind_day = int(behind_date[8:10])\n",
    "\n",
    "    # 앞 날짜 설정\n",
    "    # 1989 빼는 이유 : For Crawling \n",
    "    front_date = (datetime.datetime(behind_year,behind_month,behind_day)- timedelta(days=30)).strftime(\"%Y.%m.%d\")\n",
    "    front_year = int(front_date[:4])-1989; front_year\n",
    "    front_month = int(front_date[5:7]); front_month\n",
    "    front_day = int(front_date[8:10]); front_day\n",
    "\n",
    "    # 기간 설정 년도 - 1989 (앞 날짜)\n",
    "    driver.find_element_by_xpath(f'//*[@id=\"snb\"]/div[2]/ul/li[2]/div/div[3]/div[2]/div[1]/div/div/div/ul/li[{front_year}]/a').click()\n",
    "    driver.find_element_by_xpath(f'//*[@id=\"snb\"]/div[2]/ul/li[2]/div/div[3]/div[2]/div[2]/div/div/div/ul/li[{front_month}]/a').click()\n",
    "    driver.find_element_by_xpath(f'//*[@id=\"snb\"]/div[2]/ul/li[2]/div/div[3]/div[2]/div[3]/div/div/div/ul/li[{front_day}]/a').click()\n",
    "\n",
    "    # 뒷 날짜 클릭\n",
    "    driver.find_element_by_xpath('//*[@id=\"snb\"]/div[2]/ul/li[2]/div/div[3]/div[1]/span[3]/a').click()\n",
    "    behind_year = behind_year - 1989\n",
    "    # 기간 설정 년도 - 1989 (뒷 날짜)\n",
    "    driver.find_element_by_xpath(f'//*[@id=\"snb\"]/div[2]/ul/li[2]/div/div[3]/div[2]/div[1]/div/div/div/ul/li[{behind_year}]/a').click()\n",
    "    driver.find_element_by_xpath(f'//*[@id=\"snb\"]/div[2]/ul/li[2]/div/div[3]/div[2]/div[2]/div/div/div/ul/li[{behind_month}]/a').click()\n",
    "    driver.find_element_by_xpath(f'//*[@id=\"snb\"]/div[2]/ul/li[2]/div/div[3]/div[2]/div[3]/div/div/div/ul/li[{behind_day}]/a').click()\n",
    "    \n",
    "    # 적용 클릭\n",
    "    driver.find_element_by_xpath('//*[@id=\"snb\"]/div[2]/ul/li[2]/div/div[3]/div[3]/button').click()\n",
    "    time.sleep(3)\n",
    "#IPO 네이버 검색-------------------------------------------------------------------------------------------------------------------------------------------------\n",
    "    # html parsing\n",
    "    cur_url = driver.current_url\n",
    "    response = requests.get(cur_url,headers={'User-Agent':'Mozilla/5.0'})\n",
    "    html = response.text\n",
    "    soup = BeautifulSoup(html, 'html.parser')\n",
    "    \n",
    "    # 뉴스 기사 개수 확인\n",
    "    articles = soup.select(\"#main_pack > section.sc_new.sp_nnews._prs_nws > div > div.group_news > ul > li\")\n",
    "    # 한 Page에서 뉴스 기사 갯수 확인\n",
    "    for article in range(1,len(articles)):\n",
    "        # 한 Page에 존재하는 한 기사에 대해 확인\n",
    "        if articles[article].text.count('관련뉴스') != 0:\n",
    "            driver.find_element_by_xpath(f'/html/body/div[3]/div[2]/div/div[1]/section[1]/div/div[2]/ul/li[{article}]/a').click()\n",
    "            cur_url = driver.current_url\n",
    "            response = requests.get(cur_url,headers={'User-Agent':'Mozilla/5.0'})\n",
    "            html = response.text\n",
    "            soup = BeautifulSoup(html, 'html.parser')\n",
    "            sub_articles = soup.select(\"#main_pack > section > div > div.group_news > ul > li\")\n",
    "            for sub_article in range(1,len(sub_articles)+1):\n",
    "                if driver.find_element_by_xpath(f'/html/body/div[3]/div[2]/div/div[1]/section[1]/div/div[2]/ul/li[{sub_article}]/div/div/div[1]/div[2]/a[2]').text == '네이버뉴스':\n",
    "                    driver.find_element_by_xpath(f'/html/body/div[3]/div[2]/div/div[1]/section[1]/div/div[2]/ul/li[{sub_article}]/div/div/div[1]/div[2]/a[2]').click()\n",
    "                    time.sleep(3)\n",
    "                    link_url = driver.find_element_by_xpath(f'/html/body/div[3]/div[2]/div/div[1]/section/div/div[2]/ul/li[{sub_article}]/div[1]/div/div[1]/div[2]/a[2]').get_attribute('href')\n",
    "                    response = requests.get(link_url,headers={'User-Agent':'Mozilla/5.0'})\n",
    "                    html = response.text\n",
    "                    soup = BeautifulSoup(html, 'html.parser')\n",
    "                    healine = soup.select_one('#ct > div.media_end_head.go_trans > div.media_end_head_title > h2').get_text()\n",
    "                    body_text = soup.select_one('#dic_area').get_text().replace('\\n','')\n",
    "                    news_media = driver.find_element_by_xpath('/html/body/div[3]/div[2]/div/div[1]/section[1]/div/div[2]/ul/li[1]/div[1]/div/div[1]/div[2]').text\n",
    "                    news_media = elminate_number_in_str(news_media).split()[0]\n",
    "                    IPO_news.append([news_media,healine,body_text])\n",
    "                else:\n",
    "                    healine = driver.find_element_by_xpath(f'/html/body/div[3]/div[2]/div/div[1]/section[1]/div/div[2]/ul/li[{ind}]/div/div/a')\n",
    "                    news_media = driver.find_element_by_xpath('/html/body/div[3]/div[2]/div/div[1]/section[1]/div/div[2]/ul/li[1]/div[1]/div/div[1]/div[2]').text\n",
    "                    news_media = elminate_number_in_str(news_media).split()[0]\n",
    "                    IPO_news.append([news_media,healine,'None'])                    \n",
    "        elif driver.find_element_by_xpath(f'/html/body/div[3]/div[2]/div/div[1]/section/div/div[2]/ul/li[{article}]').text.count('네이버뉴스') != 0:\n",
    "            driver.find_element_by_xpath(f'/html/body/div[3]/div[2]/div/div[1]/section[1]/div/div[2]/ul/li[{article}]/div/div/div[1]/div[2]/a[2]').click()\n",
    "            time.sleep(3)\n",
    "            link_url = driver.find_element_by_xpath(f'/html/body/div[3]/div[2]/div/div[1]/section/div/div[2]/ul/li[{article}]/div[1]/div/div[1]/div[2]/a[2]').get_attribute('href')\n",
    "            response = requests.get(link_url,headers={'User-Agent':'Mozilla/5.0'})\n",
    "            html = response.text\n",
    "            soup = BeautifulSoup(html, 'html.parser')\n",
    "            healine = soup.select_one('#ct > div.media_end_head.go_trans > div.media_end_head_title > h2').get_text()\n",
    "            body_text = soup.select_one('#dic_area').get_text().replace('\\n','')\n",
    "            news_media = driver.find_element_by_xpath('/html/body/div[3]/div[2]/div/div[1]/section[1]/div/div[2]/ul/li[1]/div[1]/div/div[1]/div[2]').text\n",
    "            news_media = elminate_number_in_str(news_media).split()[0]\n",
    "            IPO_news.append([news_media,healine,body_text])\n",
    "        else:\n",
    "            healine = driver.find_element_by_xpath(f'/html/body/div[3]/div[2]/div/div[1]/section[1]/div/div[2]/ul/li[{article}]/div/div/a')\n",
    "            news_media = driver.find_element_by_xpath('/html/body/div[3]/div[2]/div/div[1]/section[1]/div/div[2]/ul/li[1]/div[1]/div/div[1]/div[2]').text\n",
    "            news_media = elminate_number_in_str(news_media).split()[0]\n",
    "            IPO_news.append([news_media,healine,'None'])\n",
    "    try:\n",
    "        driver.find_element_by_xpath('//*[@id=\"main_pack\"]/div[3]/div/a[2]/i').click()\n",
    "    except:\n",
    "        continue\n",
    "            \n",
    "#     # 매체 이름\n",
    "#     media_name = soup.select(\"#main_pack > section.sc_new.sp_nnews._prs_nws > div > div.group_news > ul > li > div > div > div > div.info_group > a\")[0].text\n",
    "\n",
    "#     # 뉴스 날짜\n",
    "#     media_date = soup.select(\"#main_pack > section.sc_new.sp_nnews._prs_nws > div > div.group_news > ul > li > div > div > div > div.info_group > span\")[0].text"
   ]
  },
  {
   "cell_type": "code",
   "execution_count": null,
   "id": "654f45b1",
   "metadata": {
    "id": "654f45b1",
    "outputId": "7528b6c3-9d7d-4fcc-e0c0-ce6ef0b2b1ac"
   },
   "outputs": [
    {
     "data": {
      "text/plain": [
       "[['한국경제2022.04.24.네이버뉴스',\n",
       "  '상상인증권, ‘4수’ 끝에 제3호스팩 코스닥 상장',\n",
       "  '상상인이안1호-비투엔 합병 성공이 흥행 뒷받침이 기사는 04월 22일 08:21 “마켓인사이트”에 게재된 기사입니다.상상인증권이 4번째 도전 끝에 스팩(기업인수목적회사) 상장에 성공했다. 지난해 11월 상상인이안제1호스팩과 비투엔의 합병 성공이 분위기 전환을 뒷받침했다.21일 금융투자업계에 따르면 상상인제3호스팩은 기관투자가 수요예측과 일반 청약에서 모두 흥행에 성공했다. 지난 19~20일 이틀간 일반 투자자 대상 공모주 청약에선 337 대 1의 경쟁률을 나타냈다. 앞서 진행한 기관 대상 수요예측 경쟁률은 896 대 1, 의무보유확약비율은 19.24%였다. 이달 29일 코스닥 시장에서 주권 거래를 시작한다.상상인증권의 스팩 상장은 2019년 8월 상상인이안2호스팩 이후 2년 8개월 만이다. 2호 스팩은 그해 3월 사명을 기존 골든브릿지증권에서 상상인증권으로 바꾼 뒤 처음 설립한 스팩이었다. 대주주 변경 전 상장했던 골든브릿지이안5호스팩도 당시 상상인이안1호스팩으로 변경했다.상상인증권의 3호 스팩 상장은 2020년부터 3차례에 걸쳐 도전과 실패를 반복해야 했다. 국내 증시가 달아오르면서 스팩과 같은 원금보장 매력을 지닌 상품에 대한 관심이 시들해진 탓이다. 기관 수요예측이나 일반 청약에서 번번이 투자자 모집에 실패했다.골든브릿지투자증권 시절 부진했던 스팩의 투자 성과도 발목을 잡았다. 한 증권사 관계자는 “골든브릿지투자증권의 경우 스팩이 상장 단계에서 투자자 모집에 실패하거나 상장 이후 합병기업을 찾더라도 거래소 심사 단계를 넘지 못한 흑역사가 있다”고 말했다.그러다 지난해 11월 상상인이안제1호스팩과 비투엔의 합병 성공이 이번 3호 스팩의 흥행을 크게 뒷받침했다. 또 다른 증권사 관계자는 “사명 변경 이후 처음 쌓은 스팩합병 레코드로 비투엔 주가도 상장 직후 연일 강세를 보이며 투자자를 만족시켰다”고 평가했다. 스팩 투자자의 경우 합병 대상을 찾을 수 있는 하우스 역량을 가장 중요하게 생각한다. 증시 불확실성 확대도 반대급부로 스팩 투자심리를 되살렸다. 올해 들어 코스닥 상장 스팩 8개가 모두 공모 과정에서 흥행에 성공했다.상상인증권은 최근 주식발행시장(ECM)에서도 보폭을 넓히고 있다. 지난해엔 코넥스 상장사인 에스제이켐과 나라소프트 지정자문인을 맡기도 했다. 비상장 기업 발굴부터 스팩을 통한 이전상장까지 이어지는 수익모델을 구축해 부동산 프로젝트파이낸싱(PF) 사업의 수익 의존도를 줄이고 안정적인 성장세를 이어간다는 계획이다.'],\n",
       " ['한국경제2022.04.24.네이버뉴스',\n",
       "  <selenium.webdriver.remote.webelement.WebElement (session=\"c43134db6610a39898f7d6260c8d0244\", element=\"3680460d-f97b-4802-94cd-9c5ee5e08af2\")>,\n",
       "  'None'],\n",
       " ['한국경제2022.04.24.네이버뉴스',\n",
       "  \"공모주 시장 비수기에도 스팩 상장은 '문전성시'\",\n",
       "  '일반 상장 대신 스팩 선택 기업 급증자금 조달 확실·수익 보장 장점 부각전 세계적인 긴축과 금리 인상 기조에 따른 주식시장 부진으로 공모주 시장 역시 한껏 움츠러든 가운데\\xa0기업인수목적회사(SPAC·스팩)를 통한\\xa0상장을 택하는 기업들이 늘고 있다. 기업공개(IPO) 과정에서의 흥행 실패\\xa0리스크를 줄이면서\\xa0직상장처럼 대규모 자금 조달이 가능하다는 장점에서다.투자자 입장에서는 향후 스팩이 해산되더라도 공모가와 투자기간별 이자가 보장된다는 이점이 있다.\\xa0단\\xa0유통물량이 적기 때문에 상대적으로 변동성이 크다는 점은 감안해야 한다./그래픽=유상연 기자 prtsy201@올\\xa0들어 스팩 상장\\xa011곳…경쟁률\\xa0\\'세 자릿수\\' 기본21일 한국거래소에 따르면 연초 이후 상장을 했거나 상장이 임박한 스팩은 11곳에 달한다. 올 초\\xa0디비금융스팩10호가 2022년 첫 스팩 상장의 신호탄을 쏜 뒤 2월에\\xa0△한국제10호스팩 △IBKS제17호스팩 △하나금융21호스팩이 나란히 증시에 입성했고\\xa0지난달에는 △에스케이증권7호스팩 △유진스팩8호가 데뷔했다.이달 들어서는 키움제6호스팩과 미래에셋비전스팩1호가 상장해 거래되고 있다. 오는 27일에는 신한제9호스팩, 28일 신영스팩7호 29일 상상인제3호스팩이 각각 증시에 발을 들인다.\\xa0상장예비심사를 청구해 현재 상장 절차를 밟고 있는 스팩도 5곳이나 된다. △삼성스팩6호 △IBKS제18호스팩 △케이비제21호스팩 △교보12호스팩 △신한제10호스팩 등이다.\\xa0이는 연초 LG에너지솔루션 이후 \\'가물에 콩 나듯\\' 하는 일반 상장과는 대조적인 흐름이다. 최근 대내외 불확실성 확대로\\xa0증시가 침체되자 상장에 나서는 기업이\\xa0눈에 띄게 줄었다. 실제 지난달 스팩을 제외한 상장 기업은 6곳에 그쳤고 이달 들어서는 1곳이 전부다. 일부 기업은 아예 상장 계획을 철회하고 있다.\\xa0스팩의 인기도 심상치 않다. 비례 기준으로 IBKS제17호스팩의 청약 경쟁률은 1736대 1에 달했고 키움제6호스팩 또한 1052대 1을 기록했다. 한국제10호스팩(801대 1)과 유진스팩8호(700.69대 1), 하나금융21호스팩역시 세 자릿수 이상의 경쟁률을 보였다.\\xa0기업도\\xa0투자자도 하락장서 \\'윈윈\\'…변동성은\\xa0주의스팩은 비상장기업을 인수·합병할 목적으로 세운 일종의 페이퍼컴퍼니다. 증권사가 설립하고 투자금을 받아 코스닥에 상장시킨다. 증시 입성 3년 이내에\\xa0비상장기업과 흡수합병한 뒤 간판을 바꿔 달면 된다.\\xa0기업 입장에서 스팩의 가장 큰 장점은 상장 과정이 간단하다는\\xa0것이다. 스팩과 비상장기업이 주주총회에서 합병 안건만 통과시키면 모든 상장 절차가 완료된다. 수요예측 부진으로 공모가를 희망가격 아래에서 확정하고\\xa0필요한 자금 확보에 실패해 상장을 철회하는 사례가 원천 차단되는 것이다.\\xa0상장 이후 마땅한 합병 상대를 찾지 못해 해산하더라도 단일가인 공모가 2000원이 보장되고 일정 수준의 이자도 나온다는 점은 투자 매력을 높이는 요소다. 스팩은 금융투자업규정에 따라 공모자금의 90% 이상을 은행에 맡겨둬야 한다.앞서 우량한 비상장기업과 합병해 주가가 뛴 스팩도 눈여겨볼 만하다. 지난해 제이시스메디칼과 합병상장한 유안타제3호스팩은 지난 11일 1만원을 찍은데 이어 최근 9000원대를 횡보하고 있다. 엔피로 합병된 삼성스팩2호도 1만1000원 안팎을 오가는 중이다. 모두 스팩 공모가 대비 5배가 넘는 성과를 나타내고 있다.다만 유통물량이 일반 기업 주식보다 적어 주가 변동성이 크다는 점에선 유의할 필요가 있다. 지난해에는 일부 스팩이 연일 상한가를 기록한 뒤 돌연 급락해 거래소가 주의를\\xa0당부하기도 했다.\\xa0한 금융투자업계 관계자는 \"아무리 펀더멘털이 괜찮은 기업이라도 요즘 같은 장에선 자금 확보가 어려울 수 있다\"며 \"스팩은 이런 불확실성을 낮춰줄 수 있어\\xa0당분간 택하는 기업이 늘어날 것\"이라고 전망했다.또 다른 업계 관계자는 \"스팩 상장주식 수가 일반 주식에 비해 적어 주가조작에 이용될 수 있다는 점은\\xa0유의해야 한다\"고 조언했다.\\xa0'],\n",
       " ['한국경제2022.04.24.네이버뉴스',\n",
       "  '4월 둘째주 공모주 시장은? 스팩·포바이포 주목',\n",
       "  '11일~12일 미래에셋비전스팩1호 일반 청약14일~15일 포바이포 기관투자자 수요 예측   4월 둘째주 미래에셋비전스팩 1호는 일반 청약, 포바이포는 기관투자자 수요 예측을 진행한다. [게티이미지뱅크]    러시아와 우크라이나 사태와 금리 인상 등 변수로 증시가 부진하면서 기업공개(IPO) 시장도 움츠러들고 있다. 10일 증권업계에 따르면 오는 4월 둘째주 일반 청약에 들어가는 기업은 미래에셋비전스팩1호 한 곳이다. 영상콘텐트 기업 포바이포는 기관투자자 수요 예측을 진행할 예정이다.      미래에셋비전스팩1호는 오는 11일에서 12일 일반 청약에 들어간다. IPO 시장에서 투자 심리가 악화되면서 기업인수목적회사(SPAC·스팩) 상장을 택하는 기업들이 늘어나고 있다.      스팩은 비상장 기업을 인수·합병할 목적으로 설립되는 서류상 회사다. 증권사는 스팩을 세우고 일반 투자자에게 투자금을 받아 코스닥시장에 상장한다. 상장 이후 기업을 인수·합병하면 기존 스팩 주주들은 합병 법인의 주식을 갖게 되는 것이다.      스팩 증시 상장 최대 기간은 3년이다. 해당 기간 내에 합병 대상을 찾지 못해 해산되더라도 원금 보장과 소정의 이자도 지급된다는 장점이 있다. 변동성이 큰 국내 증시에서 안정성을 위해 기업들이 스팩 합병으로 눈길을 돌리는 셈이다.      미래에셋비전스팩1호 주당 공모희망가는 2000원이다. 상장 예정 주식 수는 총 617만6000주로 이중 585만주를 공모할 예정이다. 주관사는 미래에셋증권이다.      이밖에 신한스팩9호(12~13일), 신영스팩7호(13~14일), 상상인스팩3호(14~15일)도 기관 수요 예측을 진행한다.      기관 수요 예측을 앞둔 일반 기업도 있다. 영상콘텐트 제작·유통 기업인 포바이포는 오는 14일~15일 이틀 간 기관투자자 수요 예측에 들어간다.        영상콘텐트 기업인 포바이포는 오는 14일~15일 이틀 간 기관투자자 수요 예측에 들어간다. [사진 포바이포]    2017년에 설립된 포바이포는 자체 개발한 영상콘텐트 화질 개선 솔루션인 픽셀(PIXELL)을 기반으로 콘텐트를 제작하고 유통한다. LG디스플레이, 삼성전자, 제일기획, SKT 등이 공식 협력사다. 2021년 매출액은 223억원, 영업이익은 40억원이다. 각각 지난해보다 59.2%, 121.4% 늘어난 수치다.      포바이포는 콘텐트 제작 역량을 바탕으로 엔터테인먼트, 홈쇼핑, 스포츠레저 등 다양한 산업으로 영역을 넓히고 있다. 공모 자금은 해외법인(미국) 설립, 콘텐트 유통 플랫폼 확장, 전문인력 충원 등에 사용될 예정이다.      총 공모 주식 수는 177만4967주로 희망 공모가 범위는 1만1000~1만4000원이다. 공모가 기준 예상 시가총액은 1125억원에서 1431억원이다. 총 공모금액은 195억~248억원이다.      최종경 흥국증권 연구원은 “고화질(8K) 콘텐트 수요 확대는 이미 진행됐다”면서 “포바이포는 업계 최고 수준에 도달한 고화질 서비스 제작·유통 및 변환기술을 보유한 기업으로 신규 상장에 주목해야 한다”고 말했다.   '],\n",
       " ['한국경제2022.04.24.네이버뉴스',\n",
       "  '공모주 시장 냉기 돌자…스팩 줄줄이 기지개',\n",
       "  '키움제6호스팩, 이날 상장…올들어 7번째 스팩공모주 시장 침체에 자금조달 기업들 스팩行합병 못 해도 공모가는 확보…우량기업 합병시 수익\"불확실성 커지면 스팩 각광…변동성은 주의\"[이데일리 김인경 기자] 기업인수목적회사(SPAC·스팩)의 코스닥 상장이 줄을 잇고 있다. 공모주 시장의 투자심리가 악화하며 스팩 상장을 택하는 기업들이 많아진 탓이다. 7일 한국거래소에 따르면 올해 7번째 스팩인 키움제6호스팩는 이날 코스닥에 상장해 시초가보다 35원(1.61%) 높은 2215원에 거래를 마쳤다.키움제6호스팩에 이어 4개 기업도 상장을 대기 중이다. 미래에셋비전스팩1호, 신한스팩9호, 신영스팩7호, 상상인스팩3호는 이달 일반 청약을 통해 5월 초까지 상장을 준비하고 있다. 스팩은 비상장사를 인수·합병할 목적으로 설립된 페이퍼 회사다. 증권사가 설립하고 투자금을 공모해 코스닥시장에 상장한다. 상장 후 3년 안에 비상장 기업을 흡수 합병하면, 기업은 증시에 이름을 올리게 되고 기존 스팩 주주들은 합병된 기업의 주식을 보유하게 된다. 지난해만 해도 스팩은 ‘보릿고개’를 넘었다. 한화에스비아이스팩을 비롯한 무려 9개 기업이 합병 상장시킬 기업을 찾지 못했고 끝내 해산했다. 코스피나 코스닥에 상장을 원하는 기업은 IPO 붐 속에 직접 상장에 나섰고, 넘치는 유동성 속에 흥행을 이어갔다. 하지만 올들어 공모주 시장이 침체하고 증시 분위기가 좋지 않자 기업들은 저마다 상장 시기를 가늠하고 있는 상황이다. 지금 당장 자금 조달을 위해 상장에 나서야 하는 기업들은 ‘스팩’을 적극적으로 이용하고 있다. 공모주 투자자들에게도 스팩은 비교적 안정적인 투자처이기도 하다. 스팩은 상장 후 3년간 합병 기업을 찾지 못하면 상장폐지된다. 하지만 스팩이 해산한다고 해도 공모가(2000원)와 연 평균 1.5% 수준의 이자는 받을 수 있기 때문이다. 흥행도 이어지고 있다. 특히 IBKS스팩17호는 1736대1의 경쟁률을 기록했고 키움제6호스팩 역시 1052대1의 경쟁률을 기록했다. 한국스팩10호의 경쟁률은 802대1, 유진스팩8호는 700.69대1의 경쟁률을 기록했다. 우량기업과 합병할 경우 주가 상승 효과도 기대할 수 있다. 지난해 엔피(291230)로 합병한 삼성스팩2호는 이날 1만2800원으로 거래를 마쳤다. 기존 스팩 공모주 투자자라면 투자금(2000원)의 5배에 이르는 차익을 남긴 셈이다. 한 중형 증권사 IPO 담당은 “시장 불확실성이 커질 때 비교적 안정적인 스팩이 각광 받는 분위기가 있다”면서도 “유통물량이 일반 기업 주식보다 적은 만큼, 주가 변동성이 클 수 있어 주의해야 한다”고 말했다.'],\n",
       " ['한국경제2022.04.24.네이버뉴스',\n",
       "  '미래에셋, 대우 떼고 첫 스팩…흥행몰이 성공할까',\n",
       "  '미래에셋비전스팩1호 11~12일 일반청약 기존 스팩과 달리 증거금률 50%로 낮아 첫날 경쟁률 39 대1...흥행 여부 주목이 기사는 04월 11일 16:21 “마켓인사이트”에 게재된 기사입니다.미래에셋증권이 \\'대우\\' 이름을 뗀 첫번째 스팩(기업인수목적회사)을 선보인다.  11일 투자은행(IB) 업계에 따르면 미래에셋증권은 이날부터 이틀 간 미래에셋비전스팩1호의 일반청약을 받는다. 공모 주식수는 585만주, 공모 규모는 117억원이다. 이중 개인투자자에게 146만2500주가 배정됐다. 다른 증권사들은 스팩을 공모할 때 신청수량에 해당하는 금액을 모두 납입하도록 하지만 미래에셋은 절반만 내도록 했다. 일반 공모주처럼 청약 증거금률을 50%로 설정한 것이다. 이에 따라 청약자들은 투자금 대비 2배의 수량을 신청할 수 있게 됐다. 미래에셋증권 관계자는 \"스팩은 공모 규모가 작고 실권주가 나올 확률이 적어 청약 증거금률 50%를 적용하고 있다\"며 \"앞으로 나올 스팩도 이를 유지할 가능성이 크다\"고 말했다. IB업계는 미래에셋이 스팩 흥행을 위해 증거금률 차별화 전략을 고수하는 것으로 해석하고 있다. 미래에셋은 2009년 스팩 제도가 도입된 이후 국내 최초로 스팩(대우증권스팩1호)을 상장시킨 증권사다. 그러나 만드는 스팩마다 줄줄이 상장폐지돼 오명을 얻었다. 스팩은 최초 모집일부터 3년 이내 합병 기업을 찾지 못하면 상장이 폐지된다. 미래에셋은 지금까지 총 14개 스팩을 상장시켰는데 이중 절반에 가까운 6개가 상장이 폐지됐다. 폐지 건수로는 국내 증권사 중 가장 많다.  미래에셋은 새롭게 선보인 비전스팩으로 재기를 노린다는 계획이다. 지난해 기업공개(IPO) 주관 실적과 건수 모두 국내 증권사 중 1위에 올랐지만 스팩 합병 상장 분야에서는 좀처럼 실적을 내지 못했다는 점에서다.  스팩 합병을 통한 상장은 2015년 이후 매년 10~20건 이상 이뤄지면서 IPO 시장의 한 축으로 떠올랐다. 올해 들어 2개 기업의 상장이 완료됐고 9개 기업의 상장 작업이 진행 중이다. 2010년 이후 증권시장에 상장된 스팩 226개 중 현재까지 122개의 스팩이 합병을 완료했거나 상장 절차를 밟고 있다. 누적 평균 합병 성공율은 54%다. 합병 기준 시가총액 대비 주가 상승률은 누적 평균 173%로 투자 수익률도 높다. 2017년 1월 스팩으로 합병 상장한 휴마시스(하이제2호스팩)는 합병 기준가 대비 현재 주가가 5500% 이상 올랐다. 같은 해 12월 상장한 클래시스(KTB스팩2호)와 2019년 12월 상장한 한국비앤씨(NH스팩11호) 등도 합병 기준가 대비 주가가 900% 이상 상승했다. 증권가는 올해도 스팩 상장이 이어질 것으로 전망하고 있다. 미래에셋비전스팩에 이어 이달에만 신한스팩9호, 신영스팩7호, 상상인스팩3호 등 3개 스팩이 공모를 진행한다. '],\n",
       " ['한국경제2022.04.24.네이버뉴스',\n",
       "  '[증시캘린더]이번주(4월4주) 포바이포 공모, 미래에셋스팩1호 상장 등',\n",
       "  '\\t\\t\\t[이데일리 김응태 기자] 이번주(4월4주) 기업공개 시장에서는 포바이포를 비롯해 신한스팩9호, 신영스팩7호, 상상인스팩3호 등이 일반 청약에 나선다. 미래에셋비전스팩1호는 상장에 돌입한다.◇4월18일(월)~19일(화)△신한스팩9호 공모-전자통신, 소프트웨어, 바이오제약, 의료기기, 2차전지, 게임, 모바일, 신재생에너지, 자동차부품 등에 해당하는 산업의 기업을 중점으로 합병 추진.-공모가 2000원, 공모금액 80억원.△신영스팩7호 공모-제조업, 전기·가스·증기·수도사업, 하수-폐기물 처리·원료재생·환경복원업, 건설업, 운수업, 출판·영상·방송통신·정보서비스업, 사업시설관리·사업지원 서비스업 등에 해당하는 산업의 기업을 중점으로 합병 추진.-공모가 2000원, 공모금액 84억원.◇4월19일(화)~20일(수)△포바이포 공모 -인공지능(AI)을 활용한 화질 개선 솔루션 개발. 픽셀을 이용한 실감형 콘텐츠 제작을 통해 LG디스플레이, 삼성전자 등 고객사에 납품.-공모가 희망범위 1만1000원~1만4000원. 공모금액 최대 248억원.-지난해 매출 222억7600만원, 영업이익 40억1400만원.△상상인스팩3호 공모-바이오제약, 정보기술(IT), 신재생에너지, 탄소저감에너지, 게임, 모바일, 전자, 통신, 신소재, 나노융합 등에 해당하는 산업의 기업을 중점으로 합병 추진.-공모가 2000원, 공모금액 90억원.◇4월21일(목)△미래에셋비전스팩1호 상장 -신재생에너지, 바이오제약·의료기기, IT융합시스템, LED 응용, 그린수송시스템, 탄소저감에너지, 고도 물처리, 방송통신융합산업, 로봇 응용, 신소재·나노융합, 고부가 식품산업, 엔터테인먼트, 자동차 부품 제조, IT 및 반도체, 기타 미래 성장동력을 갖췄다고 판단되는 산업 등을 영위하는 기업을 중심으로 합병.-희망공모가 2000원, 공모금액 117억원.'],\n",
       " ['한국경제2022.04.24.네이버뉴스',\n",
       "  <selenium.webdriver.remote.webelement.WebElement (session=\"c43134db6610a39898f7d6260c8d0244\", element=\"0fae2e5e-4f37-49d9-b52a-9813d63f680e\")>,\n",
       "  'None'],\n",
       " ['한국경제2022.04.24.네이버뉴스',\n",
       "  <selenium.webdriver.remote.webelement.WebElement (session=\"c43134db6610a39898f7d6260c8d0244\", element=\"37772ba3-4587-49f6-acb8-8735689d8256\")>,\n",
       "  'None'],\n",
       " ['매경이코노미언론사',\n",
       "  \"'신규 상장' 포바이포, 상장 첫날 '따상' 해냈다\",\n",
       "  ' 4월 28일 코스닥시장에서 메타버스 기업 포바이포가 상장 첫날 \\'따상\\'에 성공했다. 따상은 시초가가 공모가의 2배로 형성된 뒤 상한가를 기록할 때 쓰는 표현이다.포바이포는 28일 코스닥 시장에서 공모가 1만 7000원의 2배인 3만 4000원에 시초가를 형성된 뒤 가격제한폭 4만 4200원까지 올라 상한가를 달성한 채 장을 마감했다. 포바이포의 따상은 예견된 결과였다는 평가가 나온다. 포바이포는 4월 19~20일 양일간 전체 공모 물량인 25%인 44만 3742주에 대해 개인투자자 대상 일반 청약에서 3763대 1의 경쟁률을 기록하며 흥행했다. 이는 2022년 들어 가장 높은 수치이자 역대 공모주 청약 4위 기록이다. 당시 증거금만 14조 1947억원이 모였다.그보다 앞서 기관투자자 대상 수요예측도 1846대 1의 경쟁률을 기록했다. 수요예측에 참여한 전체 기관 중 98.8%인 1869개 기관이 공모밴드(공모희망하한가와 공모희망상한가 사이의 폭) 상단 초과 가격을 제시했고 1.2%인 24개 기관이 상단 가격을 제출했다. 공모밴드 희망 가격은 1만 1000원에서 1만 4000원이었는데 수요예측 흥행 덕분에 공모가는 밴드최상단보다 높은 1만 7000원으로 확정됐다.상장 후 유통 가능 물량이 적은 것도 포바이포의 인기에 힘을 더했다. 포바이포는 상장 후 유통 가능 물량을 최소화해 대규모 매각 대기 물량을 통제하기로 했다. 상장 후 대량 매도를 제어해 투자자가 적극적으로 투자하도록 유도하기 위한 조치다. 증권신고서에 따르면 포바이포의 상장 후 유통 가능 물량은 20.66%에 불과하다. 나승두 SK증권 애널리스트는 \"포바이포는 상장 직후 유통 가능 물량이 20.7%에 불과해 품절주로써의 매력까지 더해짐에 따라 침체된 IPO 시장의 군계일학이 될 가능성이 크다\"고 말했다.포바이포는 초고화질·CG기술을 강점으로 최근 메타버스 사업까지 확장하고 있다. 국내에서 8K 이상 콘텐츠를 가장 많이 제작해 LG전자, 삼성디스플레이 등 디스플레이사와의 공식 협력관계를 맺고 있다. 전자제품 매장에서 삼성과 LG과 만든 TV가 송출하는 초고화질 영상을 포바이포가 제작하는 형식이다. 메타버스 관련 사업으로는 롯데홈쇼핑과 협업해 제작한 가상모델 \\'루시\\'가 있다.'],\n",
       " ['매경이코노미언론사',\n",
       "  '[핫스탁]포바이포·골드앤에스·덕신하우징',\n",
       "  \"기사내용 요약포바이포, 코스닥 입성 첫날 따상 직행골드앤에스, 거래 재개 후 3연상 기록덕신하우징, 가덕도 신공항 건설 수혜 기대[서울=뉴시스] 홍찬선 기자 = 사진은 가덕도 신공항 조감도. (사진=국토교통부 제공) 2022.04.26.photo@newsis.com *재판매 및 DB 금지[서울=뉴시스] 이정필 기자 = ◇포바이포= 포바이포가 코스닥시장 상장 첫날 '따상'(공모가의 2배 시초가 형성 후 상한가)을 기록했다.포바이포는 28일 오전 9시19분 현재 시초가보다 1만200원(30.00%) 오른 4만4200원에 거래 중이다.시초가는 공모가(1만7000원)의 2배인 3만4000원에 형성됐다.포바이포는 광고 영화 및 비디오물 제작업체다. 주요 제품은 초고화질 콘텐츠 제작 및 유통 플랫폼 운영이다.포바이포는 지난해 매출 222억7600만원, 영업이익 40억1400만원, 당기순이익 37억6400만원을 올렸다.◇골드앤에스= 상장폐지 위기에서 벗어난 골드앤에스가 거래 재개 후 3일 연속 상한가를 기록했다.골드앤에스는 전날보다 1980원(30.00%) 오른 8580원에 거래 중이다.앞서 골드앤에스는 거래 재개 첫 날인 26일과 다음 날에도 상한가를 기록한 바 있다.한국거래소 코스닥시장본부는 25일 코스닥시장위원회 심의 결과 골드앤에스에 대해 상장유지를 결정했다. 회사가 상장적격성 실질심사 대상에 올라 주식 거래가 정지된 지 19개월 만이다.지난 2019년 골드앤에스(옛 더블유에프엠)는 횡령·배임 혐의 발생 사실을 공시하면서 상장적격성 실질심사 사유가 발생했다. 불성실공시법인으로 지정돼 실질심사 사유가 추가된 바 있다. 2019사업연도 재무제표 감사의견은 '거절'을 받기도 했다.골드앤에스는 2017년 에이원앤에서 더블유에프엠으로 사명을 변경했다. 지난해 다시 현재 상호로 바꿨다.◇덕신하우징= 덕신하우징은 전날보다 560원(20.33%) 오른 3315원에 거래 중이다.가덕도 신공항 건설 사업의 국가 정책적 추진이 확정되면서 수혜 기대감이 영향을 미치고 있는 것으로 풀이된다.덕신하우징은 공항건설에 필요한 자재 테크플레이트 점유율이 높다. 조달청 우수제품으로 등록돼 있다.업계에서는 신공항 건설 시 자제 구입과 관련한 수혜를 볼 것으로 전망된다.앞서 덕신하우징은 삼성물산과 152억원 규모의 삼성전자 평택 P4 신축공사 1공구 데크플레이트 납품 계약을 체결했다고 지난 22일 공시한 바 있다.이는 지난해 매출액 대비 9.97%에 해당하는 규모다. 계약기간은 내년 4월14일까지다.\"],\n",
       " ['매경이코노미언론사',\n",
       "  <selenium.webdriver.remote.webelement.WebElement (session=\"c43134db6610a39898f7d6260c8d0244\", element=\"0c9e4b23-5b9c-40cf-8e57-40e3cf6d2ca2\")>,\n",
       "  'None'],\n",
       " ['매경이코노미언론사',\n",
       "  '포바이포, 28일 코스닥 신규 상장',\n",
       "  '[서울=뉴시스] 이정필 기자 = 한국거래소는 포바이포의 코스닥시장 신규 상장을 승인했다고 27일 밝혔다. 매매거래는 28일부터 개시된다. 상장 당일에는 변동성완화장치(VI)가 미적용된다.거래소에 따르면 포바이포는 광고 영화 및 비디오물 제작업체다. 주요 제품은 초고화질 콘텐츠 제작 및 유통 플랫폼 운영이다.회사는 지난해 매출 222억7600만원, 영업이익 40억1400만원, 당기순이익 37억6400만원을 시현했다.자본금은 51억4000만원이다. 주요 주주로 윤준호 대표(27.9%) 외 2명이 지분 29.2%를 보유하고 있다.공모금액은 301억7400만원, 공모가격은 1만7000원이다. 상장주관사는 미래에셋증권이 맡았다．'],\n",
       " ['매경이코노미언론사',\n",
       "  \"웨이버스, 포바이포 따상에 '자극'…'나도 이익나는 메타버스 새내기'\",\n",
       "  '[특징주]공간정보산업 플랫폼 업체, 유안타스팩과 합병 상장 후 뒷걸음질민간형 공간정보플랫폼 출시로 관련 시장 선점증강현실·메타버스 등 신사업 발전에 공간정보 필수 웨이버스가 강세다. 포바이포가 상장 첫날 \\'따상\\'을 기록하면서 메타버스 관련주에 대한 관심이 커진 영향으로 풀이된다. 포바이포는 공모가 1만7000원으로 코스닥 시장에 입성한 뒤로 시초가 3만4000원으로 거래를 시작했다. 이어 개장 2분 만에 가격제한폭까지 올라 시가총액은 4500억원을 돌파했다. 지난해 매출액 223억원, 영업이익 40억원을 기록했다.28일 오후 2시14분 웨이버스는 전날보다 10.89% 오른 2545원에 거래되고 있다. 시가총액은 1200억원을 회복했다. 이달 초 3800원선에 머물던 주가는 지난 22일 2000원 아래로 떨어졌다. 최근 다시 반등하는 모습을 보이고 있다.웨이버스는 공간정보산업 플랫폼 선도업체다. 유안타제5호스팩과 합병상장을 통해 코스닥 시장에 상장했다. 국내 주요 공간정보 플랫폼 구축 및 공간정보 사업 관련 레퍼런스를 다수 보유하고 있다. 국가 공간정보시스템의 시초라 할 수 있는 국토교통부의 한국토지정보시스템(KLIS) 구축사업을 수행했다. 지적도면과 토지대장을 통합해 전국 17개 광역시·도 및 229개 시·군·구에 구축한 대한민국 대표 토지행정지원 시스템이다.국토교통부의 공간정보 통합 및 융·복합 활용체계 \\'국가공간정보플랫폼(K-Geo 플랫폼), 한국국토정보공사(LX)의 공간정보 기반 인프라·데이터 관리체계 \\'LX국토정보플랫폼\\', 충청북도·LX의 공간정보 기반 스마트 지방행정 플랫폼 ‘스마트 충북 공간정보플랫폼’ 등을 구축했다.웨이버스가 2020년 출시한 ‘지온파스(GeOnPaas)’는 클라우드 서비스형 플랫폼(PaaS, Platform as a Service) 기반의 공간정보 소프트웨어 개발 플랫폼이다. 개별 사용자의 니즈에 맞는 공간정보 개발?관리?활용 솔루션을 제공한다. 주요 기능으로는 ▲공간정보 표준 기능을 쉽고 빠르게 구현하는 위프레임워크(WeFramework) ▲정보수집 가공 연계를 쉽고 빠르게 처리하는 아이엠프레임워크(ImFramework) ▲3차원 공간정보 표출과 분석을 지원하는 유니온맵(UnionMap) ▲네트워크?IT시스템?데이터 융합을 통해 관리를 지원하는 위시큐웨이브(WeSecuwave) 등이 있다.회사는 공간정보산업의 성장과 공간정보플랫폼 사업 비중 확대에 따라 우량한 실적을 보이고 있다. 지난 2020년 기준으로 회사는 매출액 412억1000만원, 영업이익 67억1500만원을 달성했다. 전체 매출 중 공간정보플랫폼 매출 비중은 2019년 7.77%에서 작년 3분기 28.18%로 4배 넘게 늘었다.웨이버스는 공공 공간정보플랫폼 구축 경험을 바탕으로, 기업과 정부간 거래(B2G) 사업을 넘어 신규 민간형 공간정보플랫폼을 출시해 민간 시장에서도 입지를 강화해나갈 계획이다. 민간형 공간정보 유통플랫폼과 구독 서비스를 구축해 공간정보를 필요로 하는 메타버스, 디지털트윈, 증강 현실(AR)·가상 현실(VR)·확장 현실(XR) 등 기업들과 B2B(기업 간 거래) 시장을 만들고, 이와 별도로 기업과 개인 간 거래(B2C) 시장을 적극 공략한다는 전략이다. 2020년부터 공간정보 플랫폼 시장이 본격적으로 성장했다. 메타버스, 증강현실 등 가상세계에서 현실의 공간정보를 접목해야 실질적으로 경제적인 성과가 나올 수 있다. 카카오택시, 직방, 배달의민족 등 성장세 높은 기업들은 모두 공간정보를 기본적으로 구축하고 있다김학성 웨이버스 대표는 “기존에 웨이버스가 수행해왔던 공간정보 SI·SM 서비스를 바탕으로 지속적인 성장 동력을 확보하고, 국가 공간정보산업 진흥계획과 연계한 공간정보플랫폼 사업을 확대할 것”이라면서 “종래에는 민간 및 해외 공간정보 시장 진출을 활성화해 타 산업과의 융·복합 발전을 이뤄내겠다”고 말했다.그는 \"페이스북, MS, 구글 등 모두 공간정보와 가상세계에 집중적으로 투자하고 있다\"면서 \"웨이버스는 국내 공간정보 데이터 시장에서는 수십년간 관리한 노하우와 토지정보가 있어 뒤쳐지지 않는다\"고 강조했다.'],\n",
       " ['매경이코노미언론사',\n",
       "  '코스피 상승, 실외 노마스크 소식에 화장품株 강세 [마감시황]',\n",
       "  '아모레퍼시픽 9%, LG화학·한국전력 8% 상승삼성전자 이틀째 신저가, 외국인 25거래일 순매도코스피 상승률 1위 고려제강, 코스닥 1위 포바이포     28일 코스피지수는 전 거래일보다 28.43포인트(1.08%) 오른 2667.49에 거래를 마쳤다. [중앙포토]    28일 코스피지수는 전 거래일보다 28.43포인트(1.08%) 오른 2667.49에 거래를 마쳤다. 기관 투자자가 1940억원을 사들이며 지수 상승을 견인했고 개인과 외국인은 각각 1660억원, 387억원 순매도에 나섰다.      시가총액 상위 종목 대부분은 상승세로 마감했다. SK하이닉스(0.92%), 삼성바이오로직스(3.09%), 삼성SDI(1.36%), 현대차(0.80%), 카카오(1.02%), 기아(0.48%) 등 시총 상위 종목 대부분이 빨간불을 켰다.      분기 최대 매출을 발표한 기업의 희비는 엇갈렸다. LG화학은 올해 1분기 확정 매출이 11조6000억원으로 창사 이래 최대 매출을 달성했다고 전날 발표했다. 호실적 여파에 이날 주가는 전일보다 8.42%(3만9000원) 급등한 50만2000원을 기록했다. 반면 삼성전자는 이날 1분기 확정 매출이 77조7000억원으로 3개 분기 연속 분기 최대 매출을 달성했지만, 주가는 전날보다 0.31%(200원) 내린 6만4800원에 마감했다.           이날 코스피 시장에선 고려제강(29.98%), 동일제강(29.91%)이 상한가를 기록, DSR제강(21.04%), 한일철강(8.38%), 대한제강(5.71%), 한국주철관(5.45%), 세아제강(4.89%) 등 철강주가 일제히 상승랠리를 보였다. 포괄적·점진적 환태평양동반자협정(CPTPP) 가입 소식에 철강 수출이 늘어날 수 있다는 기대감 때문이다.       마스크 해제 발표가 임박했다는 소식이 알려지면서 아모레퍼시픽(9.20%), LG생활건강(1.68%) 등 화장품 관련주도 상승 마감했다. 전기요금 인상 기대감에 한국전력(8.55%)도 8%대 강세로 장을 마쳤다.      코스닥 지수는 전 거래일보다 3.96포인트(0.44%) 내린 892.22에 거래를 마쳤다. 코스닥에선 개인이 3066억원을 순매수했고 외국인과 기관은 각각 2513억원, 371억원을 순매도했다. 이날까지 외국인은 7거래일 연속, 기관은 2거래일 연속 순매도 행진을 기록 중이다.      시가총액 상위 종목의 주가 향방은 제각각이었다. 2차전지 대장주 에코프로비엠은 전날보다 0.38%(1700원) 오른 45만1500원에 마감했지만, 엘앤에프는 1.81%(4000원) 내린 21만7200원으로 장을 마쳤다. ‘검은사막’ 흥행 부진 소식에 펄어비스는 9.7%(7200원) 급락한 6만7000원으로 마감했다.            이날 코스닥에 입성한 메타버스 새내기주 포바이포는 ‘따상(시초가가 공모가의 2배로 형성된 뒤 상한가)’으로 마감했다. 굴삭기 제조사인 대모는 우크라이나 재건 테마주로 묶이며 상한가로 거래를 마쳤다. 이로써 국내 증시에서 4개 종목이 상한가로 마감했다.   '],\n",
       " ['매경이코노미언론사',\n",
       "  '2000대 1 넘는 청약경쟁률 인기 새내기株 봇물… 2차 전지·AI·콘텐츠 관련 기업 주목',\n",
       "  '지난해 이후 신규 상장기업 10곳 중 7곳은 마이너스        연초 이후 한때 잠잠했던 코스닥 기업공개(IPO) 시장 청약 경쟁률이 ‘2000 대 1′을 넘어서는 등 뜨겁게 달아오르고 있다. 사업의 성장 가능성이 크고 확실한 파트너사들을 갖고 있어 시장의 기대를 한 몸에 받았던 종목일수록 상장 이후 시초가도 공모가 대비 거의 2배로 형성되고 상장 초반 주가 상승률이 높은 경우가 많았다.그러나 지난해 이후 신규 상장기업들의 10곳 중 7곳의 장기 수익률은 모두 ‘마이너스’를 기록하고 있어 공모주 청약 이후 주식 매도 시점에 대한 투자자들의 관심도 커지고 있다.코스닥 시장에서 연초 이후 청약 경쟁률이 2000대 1을 넘는 기업들의 주가 상승률이 양호한 흐름을 보이고 있다.         28일 상장한 포바이포는 청약경쟁률이 3763대 1을 기록하며 올 들어 최고의 경쟁률을 기록했다. 이날 시초가도 공모가(1만7000원)의 2배인 3만4000원에 결정되고 나서 장 초반 바로 가격제한폭까지 오른 4만4200원에 거래를 시작해 장을 마쳤다.한국거래소 정보데이터시스템에 따르면 올 들어 포바이포를 포함해 오토앤(353590), 아셈스(136410), 퓨런티어, 풍월정밀, 비씨엔씨, 유일로보틱스, 세아메카닉스, 지투파워 등 9개 종목의 경쟁률이 2000대~2600대 1을 훌쩍 넘었다.올해 코스닥시장에 상장한 31개 기업 중 1000대 1의 청약경쟁률을 기록한 기업은 13개에 이른다. 나머지 18개(58%)의 기업들이 수백대 1 안팎의 경쟁률을 기록했다.이들 종목들은 대부분 상장 첫날 공모가 대비 2배에 달하는 시초가격을 형성하고 나서 상장 첫날 종가도 거의 비슷한 수준에 거래를 마감했다. 특히 경쟁률이 2000대 1을 넘은 신규 기업들의 100%가 상장 첫날에는 모두 공모가 보다 높은 가격에 거래를 마쳤고 이 같은 흐름은 상장 후 일주일, 대개 한달 이후까지도 변함이 없었다.DB투자증권의 유경하 연구원은 “대부분 2차 전지와 AI, 콘텐츠 관련 기업으로 확실하게 성장 가능성이 크다는 측면에서 인기를 끌었다”면서 “이들 기업은 장기적으로 보고 투자하는 이들이 많다”고 분석했다.        이와 함께 지난해보다 금융당국에서 투자자 보호를 강화하고 있는 것도 최근 인기 새내기주들의 주가에 반영되고 있다. 공모가 밴드가 보수적으로 잡히고 구주 매출 규모가 줄어 들며 보호예수기간도 길어지는 등 유통가능주식수가 줄어 ‘오버행’ 리스크가 줄었기 때문이다.이 같은 현상은 지난해에도 큰 틀에서 비슷했다. 지난해 청약경쟁률이 2000대 1을 넘은 신규 상장기업은 총 17개에 달했는데 이중 3000~6000대 1을 넘은 곳은 알비더블유(361570), 엔비티(236810), 맥스트(377030) 등 3곳이었다. 이들 기업들 역시 대부분 상장 첫날 높은 시초가를 형성하고 나서 상장 첫날을 포함해 초반에 높은 주가를 유지했다.그러나 새내기주들이 상장 이후 주가가 상승세를 유지하기는 쉽지 않다. 예컨대 지난해 기업공개(IPO) 시장은 사상 최대 규모를 기록하며 상장기업의 숫자 뿐만 아니라 공모 시장으로 자금 쏠림 현상도 두드러졌다. 그러나 상장 이후 주가는 부진한 흐름을 이어갔다.지난해 9~10월에 상장한 지아이텍(382480)과 와이엠텍(273640)의 경우 모두 청약경쟁률이 3000대 1에 육박했지만, 이후 실제 주가 흐름은 기대 이하였다.지아이텍은 공모가가 1만4000원이었지만 상장 첫날 7280원에 거래를 마쳤고, 그 이후 주가가 회복하지 못해 현재도 반토막이 난 수준이다. 와이엠텍은 공모가(2만8000원)와 비슷한 수준의 시초가를 형성하고 나서 현재까지 2만원 안팎에 거래되고 있다.유경하 연구원은 “지난해에는 공모가 밴드 자체가 높게 잡힌 경우가 많았고 시장 분위기가 안 좋아지면서 공모 이후 수익이 날 수 있는 여력이 적었다”면서 “하반기로 갈수록 신규 상장기업들의 주가가 안 좋아졌다”고 분석했다. 흥국증권의 최종경 연구원은 “증시가 하락 조정을 받을 때 투자자들의 심리가 보수적, 방어적으로 바뀌기 때문”이라고 언급했다.한편 올해 IPO 시장은 지난해만큼 활황을 보이진 않을 것으로 전망된다. 실제로 지난해부터 상장한 LG에너지솔루션(373220), 카카오뱅크(323410), 카카오페이(377300), 크래프톤(259960) 등의 올해 영업이익 전망치 역시 최근 하향 조정이 이뤄지고 있기 때문이다.대신증권은 “신규 상장 기업들에 대해 투자자들이 느끼는 불확실성은 더욱 커지고 있다”고 분석했다.'],\n",
       " ['매경이코노미언론사',\n",
       "  <selenium.webdriver.remote.webelement.WebElement (session=\"c43134db6610a39898f7d6260c8d0244\", element=\"a778f098-63bd-485b-a3dc-c5073692e9e8\")>,\n",
       "  'None'],\n",
       " ['매경이코노미언론사',\n",
       "  '청약에 14조 몰린 새내기 메타버스주, 내일 따상 찍을까',\n",
       "  '포바이포와 롯데홈쇼핑이 협업해 제작한 가상모델 `루시` [사진 제공 = 포바이포] \\'잔인한 달\\' 4월의 유일한 IPO 공모 기업인 포바이포가 28일 코스닥 시장에 데뷔한다. IPO 시장에서 인기가 높은 메타버스 관련 종목인데다 기관 수요예측, 일반 개인 청약에서 나타난 높은 인기가 상장 당일 주가까지 이어질 것이란 기대감이 나오고 있다.27일 증권가에 따르면 한국거래소는 전날 포바이포의 코스닥 신규 상장을 승인했다. 이에 따라 포바이포는 28일부터 코스닥 시장에서 거래를 시작한다. 포바이포는 광고 영화와 비디오물 제작업체다. 지난해 매출액은 223억원, 영업이익은 40억원을 기록했다. 공모가는 1만7000원, 공모금액은 301억원이었다.포바이포의 시초가는 공모가의 90~200%인 1만5300원에서 3만4000원 사이에서 결정된다. 개장 이후에는 시초가에서 ±30%의 가격 제한폭이 적용된다. 시초가가 공모가의 200%로 결정되고 여기서 주가가 상한가를 기록하는 \\'따상\\'을 찍으면 주가는 4만4200원까지 오르게 된다. 증권가에서는 포바이포의 따상 가능성을 높게 보고 있다. IPO 시장에서 메타버스는 전기차와 함께 가장 인기가 좋은 테마이기 때문이다. 최근 3년 동안 국내 증시에 신규 상장한 종목 가운데 공모가 대비로 가장 주가가 많이 오른 종목도 메타버스 관련 기업인 자이언트스텝(497%)이다. 게다가 포바이포는 흑자를 내는 메타버스 기업이라는 점이 주목을 받는다. 자이언트스텝, 맥스트, 스코넥 등 근래에 상장한 메타버스 기업들은 모두 적자 상태로 상장했고 지난해에도 적자를 냈다. 또 JYP엔터테인먼트, 롯데홈쇼핑 등이 지분 투자를 한 점도 투자 유인을 끌어올리는 요소로 꼽힌다. 포바이포의 투자 메리트는 지난 15일 마감한 기관 수요예측에서도 드러났다. 경쟁률은 1846대 1을 기록했다. 특히 의무보유 확약을 한 기관 투자자가 전체의 54.7%를 차지했다. 통상 코스닥 IPO 기업의 경우 수요예측 경쟁률이 높아도 의무보유 확약비율은 20~30%선을 기록하는 경우가 많다. \\'포바이포는 장기로 들고가도 괜찮겠다\\'고 생각한 기관 투자자들이 그만큼 많았다는 의미다. 지난 19~20일 진행한 개인 투자자 대상 공모 청약은 3763대 1의 경쟁률을 기록했다. 올해 들어 가장 높은 수치이자 역대 4위에 해당하는 기록이다. 증거금으로는 14조2000억원이 몰렸다. 불안한 부분도 있다. 최근 금리인상 환경에서 성장주인 메타버스 관련 기업들의 주가 흐름이 좋지 않다는 점이다. 자이언트스텝의 경우 공모가 5300원(수정주가)으로 상장해 지난해 11월 주가가 8만6000원선까지 16배나 급등했다.하지만 올해 들어 57.57%나 하락했다. 맥스트도 공모가 7300원(수정주가)에서 지난해 11월 4만8000원선까지 올랐다가 현재 2만1800원에 거래되고 있다. 공모가 1만3000원으로 지난 2월 상장한 스코넥도 현 주가는 1만6000원에 머물고 있다. 나승두 SK증권 연구원은 \"탄탄한 초고화질 콘텐츠 레퍼런스를 바탕으로 기술력 검증이 끝났고, 엔터테인먼트·마케팅 업체 등과의 전략적 제휴를 통해 안정적으로 추가 성장 토대를 마련했다\"라며 \"상장 직후 유통 가능 물량이 20.7%에 불과해 품절주로써의 매력까지 더해짐에 따라 침체된 IPO 시장의 군계일학이 될 가능성이 크다는 판단\"이라고 말했다.'],\n",
       " ['파이낸셜뉴스언론사',\n",
       "  \"꽁꽁 언 IPO시장… '공모가 보장' 스팩株로 눈 돌려볼까\",\n",
       "  '올 데뷔한 스팩 평균 수익률 13%약세장 속 스팩 상장 장점 부각인지도 낮은 기업엔 상장 기회로상폐되도 이자지급 돼 \\'안정적\\'  글로벌 증시 약세로 공모주 시장까지 움츠러들면서 기업인수목적회사(SPAC·스팩)가 대안으로 떠오르고 있다. 약세장에서 상장을 노리는 기업과 안정성을 원하는 투자자 모두에게 매력적이라는 분석이다.   24일 한국거래소에 따르면 올해 상장된 8개 스팩의 공모가 대비 평균 수익률은 지난 22일 종가 기준 13.22%로 집계됐다.   이달 7일 상장한 키움제6호스팩은 지난 22일 2420원에 거래를 마치며 공모가(2000원) 대비 21.00%의 상승률을 보였다. 지난 12일 2900원대까지 올랐다가 상승폭을 반납하고 2400~2500원대에서 움직이고 있다. 지난 21일 상장한 미래에셋비전스팩1호의 경우에도 2330원까지 오르며 스팩에 대한 열기를 반영하고 있다.   올해 상장한 스팩 8곳은 상장 이후 내내 공모가(2000원)를 웃도는 좋은 성적을 보였다. 지난 2015년 이후 매년 10~20건 정도의 스팩이 상장된 것과 비교하면 양적으로도 적지 않은 수치다.   DB금융스팩10호가 올해 스팩 상장의 신호탄을 쏜 뒤 2월에 △한국제10호스팩 △IBKS제17호스팩 △하나금융21호스팩이 나란히 증시에 입성했고 지난달에는 △에스케이증권7호스팩 △유진스팩8호가 데뷔했다.   오는 27일에는 신한제9호스팩, 28일 신영스팩7호, 29일 상상인제3호스팩이 각각 증시에 이름을 올린다. 상장예비심사를 청구해 현재 상장 절차를 밟고 있는 스팩도 △삼성스팩6호 △IBKS제18호스팩 △케이비제21호스팩 △교보12호스팩 △신한제10호스팩 등 5곳이나 된다. 일반 기업들이 상장 계획을 철회·연기하고 있는 것과 대조적이다.   스팩은 비상장기업을 인수·합병할 목적으로 세운 일종의 서류상 회사(페이퍼컴퍼니)이다. 증권사가 설립하고 투자금을 받아 코스닥에 상장시킨다. 증시 입성 3년 이내에 비상장 기업과 흡수 합병한 뒤 간판을 바꿔 달면 된다.   안정성을 찾는 투자자들에게 스팩은 효자주로 떠올랐다. 스팩이 상장하고 기업을 인수·합병하면 기존 스팩 주주들은 합병 법인의 주식을 갖게 된다. 지난 2010년 이후 증권시장에 상장된 스팩 226개 중 현재까지 122개의 스팩이 합병을 완료했거나 상장 절차를 밟고 있다. 누적 평균 합병 성공율은 54%다.   합병 기준 시가총액 대비 주가 상승률은 누적 평균 173%로 투자 수익률도 높다. 지난 2017년 1월 스팩으로 합병 상장한 휴마시스(하이제2호스팩)는 합병 기준가 대비 현재 주가가 5500% 이상 올랐다. 같은 해 12월 상장한 클래시스(KTB스팩2호)와 2019년 12월 상장한 한국비앤씨(NH스팩11호) 등도 합병 기준가 대비 주가가 900% 이상 상승했다.   3년 이내에 합병 대상을 찾지 못해 해산하더라도 단일가인 공모가 2000원이 보장되고, 연평균 1.5% 수준의 이자도 지급된다는 장점이 있다. 스팩은 금융투자업 규정에 따라 공모 자금의 90% 이상을 은행에 맡겨둬야 한다.   이런 장점 때문에 청약 때부터 인기가 높은 편이다. 비례 기준으로 IBKS제17호스팩의 청약 경쟁률은 1736대 1에 달했고 키움제6호스팩 또한 1052대 1을 기록했다. 한국제10호스팩(801대 1)과 유진스팩8호(700.69대 1), 하나금융21호스팩역시 세 자릿수 이상의 경쟁률을 보였다.   최종경 흥국증권 연구원은 \"스팩은 신규 상장 시장의 한 축을 담당하게 됐다\"며 \"시장 인지도가 낮은 기업은 가치 평가에 유리할 수 있는 등 스팩 합병 상장의 장점이 부각되고 있다\"고 말했다.   다만 유통물량이 일반 기업 주식보다 적어 주가 변동성이 크다는 점에선 유의할 필요가 있다. 지난해에는 일부 스팩이 연일 상한가를 기록한 뒤 돌연 급락하기도 했다.   금융투자업계 관계자는 \"지난해 스팩주들이 특별한 이유도 없이 무더기로 급등락하는 현상이 나타났다\"라며 \"스팩주는 유통 물량이 적기 때문에 주가 조작에 취약할 수 있다. 공모가보다 지나치게 높은 가격에 스팩주를 사는 일은 지양해야 한다\"고 지적했다.  '],\n",
       " ['파이낸셜뉴스언론사',\n",
       "  <selenium.webdriver.remote.webelement.WebElement (session=\"c43134db6610a39898f7d6260c8d0244\", element=\"964a313d-7cb5-4007-a7f2-0b2864399cc8\")>,\n",
       "  'None'],\n",
       " ['파이낸셜뉴스언론사',\n",
       "  \"공모주 시장 비수기에도 스팩 상장은 '문전성시'\",\n",
       "  '일반 상장 대신 스팩 선택 기업 급증자금 조달 확실·수익 보장 장점 부각전 세계적인 긴축과 금리 인상 기조에 따른 주식시장 부진으로 공모주 시장 역시 한껏 움츠러든 가운데\\xa0기업인수목적회사(SPAC·스팩)를 통한\\xa0상장을 택하는 기업들이 늘고 있다. 기업공개(IPO) 과정에서의 흥행 실패\\xa0리스크를 줄이면서\\xa0직상장처럼 대규모 자금 조달이 가능하다는 장점에서다.투자자 입장에서는 향후 스팩이 해산되더라도 공모가와 투자기간별 이자가 보장된다는 이점이 있다.\\xa0단\\xa0유통물량이 적기 때문에 상대적으로 변동성이 크다는 점은 감안해야 한다./그래픽=유상연 기자 prtsy201@올\\xa0들어 스팩 상장\\xa011곳…경쟁률\\xa0\\'세 자릿수\\' 기본21일 한국거래소에 따르면 연초 이후 상장을 했거나 상장이 임박한 스팩은 11곳에 달한다. 올 초\\xa0디비금융스팩10호가 2022년 첫 스팩 상장의 신호탄을 쏜 뒤 2월에\\xa0△한국제10호스팩 △IBKS제17호스팩 △하나금융21호스팩이 나란히 증시에 입성했고\\xa0지난달에는 △에스케이증권7호스팩 △유진스팩8호가 데뷔했다.이달 들어서는 키움제6호스팩과 미래에셋비전스팩1호가 상장해 거래되고 있다. 오는 27일에는 신한제9호스팩, 28일 신영스팩7호 29일 상상인제3호스팩이 각각 증시에 발을 들인다.\\xa0상장예비심사를 청구해 현재 상장 절차를 밟고 있는 스팩도 5곳이나 된다. △삼성스팩6호 △IBKS제18호스팩 △케이비제21호스팩 △교보12호스팩 △신한제10호스팩 등이다.\\xa0이는 연초 LG에너지솔루션 이후 \\'가물에 콩 나듯\\' 하는 일반 상장과는 대조적인 흐름이다. 최근 대내외 불확실성 확대로\\xa0증시가 침체되자 상장에 나서는 기업이\\xa0눈에 띄게 줄었다. 실제 지난달 스팩을 제외한 상장 기업은 6곳에 그쳤고 이달 들어서는 1곳이 전부다. 일부 기업은 아예 상장 계획을 철회하고 있다.\\xa0스팩의 인기도 심상치 않다. 비례 기준으로 IBKS제17호스팩의 청약 경쟁률은 1736대 1에 달했고 키움제6호스팩 또한 1052대 1을 기록했다. 한국제10호스팩(801대 1)과 유진스팩8호(700.69대 1), 하나금융21호스팩역시 세 자릿수 이상의 경쟁률을 보였다.\\xa0기업도\\xa0투자자도 하락장서 \\'윈윈\\'…변동성은\\xa0주의스팩은 비상장기업을 인수·합병할 목적으로 세운 일종의 페이퍼컴퍼니다. 증권사가 설립하고 투자금을 받아 코스닥에 상장시킨다. 증시 입성 3년 이내에\\xa0비상장기업과 흡수합병한 뒤 간판을 바꿔 달면 된다.\\xa0기업 입장에서 스팩의 가장 큰 장점은 상장 과정이 간단하다는\\xa0것이다. 스팩과 비상장기업이 주주총회에서 합병 안건만 통과시키면 모든 상장 절차가 완료된다. 수요예측 부진으로 공모가를 희망가격 아래에서 확정하고\\xa0필요한 자금 확보에 실패해 상장을 철회하는 사례가 원천 차단되는 것이다.\\xa0상장 이후 마땅한 합병 상대를 찾지 못해 해산하더라도 단일가인 공모가 2000원이 보장되고 일정 수준의 이자도 나온다는 점은 투자 매력을 높이는 요소다. 스팩은 금융투자업규정에 따라 공모자금의 90% 이상을 은행에 맡겨둬야 한다.앞서 우량한 비상장기업과 합병해 주가가 뛴 스팩도 눈여겨볼 만하다. 지난해 제이시스메디칼과 합병상장한 유안타제3호스팩은 지난 11일 1만원을 찍은데 이어 최근 9000원대를 횡보하고 있다. 엔피로 합병된 삼성스팩2호도 1만1000원 안팎을 오가는 중이다. 모두 스팩 공모가 대비 5배가 넘는 성과를 나타내고 있다.다만 유통물량이 일반 기업 주식보다 적어 주가 변동성이 크다는 점에선 유의할 필요가 있다. 지난해에는 일부 스팩이 연일 상한가를 기록한 뒤 돌연 급락해 거래소가 주의를\\xa0당부하기도 했다.\\xa0한 금융투자업계 관계자는 \"아무리 펀더멘털이 괜찮은 기업이라도 요즘 같은 장에선 자금 확보가 어려울 수 있다\"며 \"스팩은 이런 불확실성을 낮춰줄 수 있어\\xa0당분간 택하는 기업이 늘어날 것\"이라고 전망했다.또 다른 업계 관계자는 \"스팩 상장주식 수가 일반 주식에 비해 적어 주가조작에 이용될 수 있다는 점은\\xa0유의해야 한다\"고 조언했다.\\xa0'],\n",
       " ['파이낸셜뉴스언론사',\n",
       "  '키움제6호 수익률 57%… 약세장 뚫은 `스팩주` 눈길',\n",
       "  '\\t\\t\\t국내외 증시 변동성이 커지면서 얼어붙은 기업공개(IPO)시장의 대안으로 기업인수목적회사(SPAC·스팩)가 주목받고 있다. 약세장 속에서도 올 들어 상장한 스팩 모두 공모가 대비 양호한 수익률을 기록한 가운데 이달 말까지 3개 스팩이 상장을 앞두고 있다. 25일 한국거래소에 따르면 올해 상장을 진행한 스팩은 총 8곳에 달한다. 연초 디비금융스팩10호, 한국제10호스팩, IBKS제17호스팩, 하나금융21호스팩, 에스케이증권7호스팩 등이 국내증시에 입성했다. 또한 오는 27일에는 신한제9호스팩, 28일 신영스팩7호, 29일 상상인제3호스팩이 상장을 앞두고 있다.스팩은 비상장기업의 인수·합병을 목적으로 하는 서류상 회사를 의미한다. 주관사가 공모를 통해 시장에서 자금을 모은 후 증시에 상장시키고, 이후 3년 내에 우량기업을 흡수합병해야한다. 만일 합병 대상을 찾지 못해 해산하더라도 단일가인 공모가 2000원이 보장되며, 연 평균 1.5% 수준의 이자도 지급되는 장점이 있어 투자자에게 상대적으로 안정적인 투자처로 주목받는다. 또한 기업에게도 침체된 공모주 시장 분위기 속에서도 흥행실패의 리스크를 차단할 수 있어 자금 조달이 필요한 기업들이 스팩을 적극적으로 활용하고 있다. 이러한 장점 속에서 지난 2016년부터 2021년까지 매년 10~20개 전후의 합병상장이 이뤄지고 있다. 흥국증권에 따르면 2010년 이후 증권시장에 상장된 스팩 226개 중 현재까지 122개의 스팩이 합병을 완료하거나 상장 절차를 진행하고 있어 누적 평균 54%의 합병 성공률을 기록하고 있다.올해 상장한 스팩 8곳 모두 공모가를 웃돌면서 양호한 수익률을 기록하고 있다. 8개 스팩의 공모가 대비 평균 수익률은 18.25%을 기록했다. 이달에 상장한 키움제6호스팩은 이날 상한가를 기록하면서 상장 이후 이날까지 57.25%까지 오르면서 높은 수익률을 기록했다. 이외에도 가장 낮은 수익률을 기록한 DB금융스팩10호의 경우도 8.5%, 유진스팩8호 8.75% 등 증시 약세 분위기 속에서도 양호한 수익률을 기록하고 있다. 스팩주들의 흥행도 이어지고 있다. 지난달에 공모청약을 진행한 키움제6호스팩은 청약 경쟁률이 1052대1의 경쟁률을 기록했다. 여기에 상장을 앞둔 신한제9호스팩, 신영스팩7호, 상상인제3호스팩 등도 일반 투자자 대상 공모청약에서 각각 244.61대1, 141.45대1, 168.51대1 경쟁률을 보이며 흥행 기대감을 높였다.한 증권업계 관계자는 \"증시 불확실성이 커질수록 안정성이 높은 스팩이 각광 받고 있다\"며 \"유통물량이 일반 기업 주식보다 적어 변동성이 클 수 있어 투자 시 주의가 필요하다\"고 전했다. 올해 상장 스팩 공모가 대비 등락률.    '],\n",
       " ['파이낸셜뉴스언론사',\n",
       "  '\"나만 몰랐나\"…약세장 피난처된 \\'리츠·스팩\\'',\n",
       "  '<앵커>금리 인상에 약세장이 계속되자 갈 곳을 잃은 자금이 리츠와 스팩으로 몰리고 있습니다.특히 리츠의 경우 인플레이션 헤지 수단으로 각광받으며 양적, 질적 성장을 동시에 이루고 있단 평가가 나옵니다.박해린 기자입니다.<기자>지난달 증시에 입성한 코람코더원리츠.2거래일 연속 연중 신고가를 경신했습니다.최근 국내 주식을 순매도하고 있는 외국인도 3거래일 연속 코람코더원리츠에 자금을 넣고 있습니다.높은 배당률이 인기를 끌며 상장한 지 한 달도 채 되지 않았지만 벌써 공모가 대비 약 28% 올랐습니다.같은 기간 코스피는 1.4%가량 하락했고, 같은 달 상장한(스팩 제외) 6개 기업 중 5곳의 현 주가가 상장 당일 종가를 밑돌고 있는 것과 비교됩니다.대표적인 고배당 종목으로 꼽히는 리츠가 배당뿐 아니라 인플레이션 헤지 수단으로 부각되며 주가 상승률에서도 선방하고 있는 겁니다.[박병기 / 하나금융투자 기업금융본부장: 리츠가 대부분 5%에서 6% 정도 배당이 나오기 때문에 배당을 보고 투자하는 수요가 많이 늘었고 상장이 계속되고 있거든요. 익숙해져가는 과정인 것 같아요. 저희도 리츠랩이 나오고 연금도 리츠를 편입하고 있기 때문에 수요는 계속 늘어날 것으로 보입니다.]스팩주도 증시 피난처로 각광받고 있습니다.공모주 시장의 투자심리가 악화되자 투자자들에게도 안정성으로 인정받고 스팩 상장을 택하는 기업들도 늘고 있기 때문입니다.스팩은 합병 기업을 찾지 못해 해산하더라도 공모가에 연평균 1.5%의 이자를 받을 수 있어 약세장에서 더욱 각광받고 있습니다.실제로 올 들어 상장 스팩 8곳의 주가 상승률은 시장 수익률을 크게 웃도는 상황.스팩의 합병 성공률은 60% 수준에 그쳐 주가가 이상 과열되는 것에는 유의해야 하지만 공모주로 장기 투자하는 투자자에겐 제격이란 평가가 나옵니다.금리 상승기, 마땅한 투자처를 찾지 못한 리츠와 스팩으로 눈을 돌리는 가운데 이달 27일 신한스팩9호와 28일 신영스팩7호가 증시에 상장할 예정입니다.한국경제TV 박해린입니다.\\t\\t'],\n",
       " ['파이낸셜뉴스언론사',\n",
       "  '4월 둘째주 공모주 시장은? 스팩·포바이포 주목',\n",
       "  '11일~12일 미래에셋비전스팩1호 일반 청약14일~15일 포바이포 기관투자자 수요 예측   4월 둘째주 미래에셋비전스팩 1호는 일반 청약, 포바이포는 기관투자자 수요 예측을 진행한다. [게티이미지뱅크]    러시아와 우크라이나 사태와 금리 인상 등 변수로 증시가 부진하면서 기업공개(IPO) 시장도 움츠러들고 있다. 10일 증권업계에 따르면 오는 4월 둘째주 일반 청약에 들어가는 기업은 미래에셋비전스팩1호 한 곳이다. 영상콘텐트 기업 포바이포는 기관투자자 수요 예측을 진행할 예정이다.      미래에셋비전스팩1호는 오는 11일에서 12일 일반 청약에 들어간다. IPO 시장에서 투자 심리가 악화되면서 기업인수목적회사(SPAC·스팩) 상장을 택하는 기업들이 늘어나고 있다.      스팩은 비상장 기업을 인수·합병할 목적으로 설립되는 서류상 회사다. 증권사는 스팩을 세우고 일반 투자자에게 투자금을 받아 코스닥시장에 상장한다. 상장 이후 기업을 인수·합병하면 기존 스팩 주주들은 합병 법인의 주식을 갖게 되는 것이다.      스팩 증시 상장 최대 기간은 3년이다. 해당 기간 내에 합병 대상을 찾지 못해 해산되더라도 원금 보장과 소정의 이자도 지급된다는 장점이 있다. 변동성이 큰 국내 증시에서 안정성을 위해 기업들이 스팩 합병으로 눈길을 돌리는 셈이다.      미래에셋비전스팩1호 주당 공모희망가는 2000원이다. 상장 예정 주식 수는 총 617만6000주로 이중 585만주를 공모할 예정이다. 주관사는 미래에셋증권이다.      이밖에 신한스팩9호(12~13일), 신영스팩7호(13~14일), 상상인스팩3호(14~15일)도 기관 수요 예측을 진행한다.      기관 수요 예측을 앞둔 일반 기업도 있다. 영상콘텐트 제작·유통 기업인 포바이포는 오는 14일~15일 이틀 간 기관투자자 수요 예측에 들어간다.        영상콘텐트 기업인 포바이포는 오는 14일~15일 이틀 간 기관투자자 수요 예측에 들어간다. [사진 포바이포]    2017년에 설립된 포바이포는 자체 개발한 영상콘텐트 화질 개선 솔루션인 픽셀(PIXELL)을 기반으로 콘텐트를 제작하고 유통한다. LG디스플레이, 삼성전자, 제일기획, SKT 등이 공식 협력사다. 2021년 매출액은 223억원, 영업이익은 40억원이다. 각각 지난해보다 59.2%, 121.4% 늘어난 수치다.      포바이포는 콘텐트 제작 역량을 바탕으로 엔터테인먼트, 홈쇼핑, 스포츠레저 등 다양한 산업으로 영역을 넓히고 있다. 공모 자금은 해외법인(미국) 설립, 콘텐트 유통 플랫폼 확장, 전문인력 충원 등에 사용될 예정이다.      총 공모 주식 수는 177만4967주로 희망 공모가 범위는 1만1000~1만4000원이다. 공모가 기준 예상 시가총액은 1125억원에서 1431억원이다. 총 공모금액은 195억~248억원이다.      최종경 흥국증권 연구원은 “고화질(8K) 콘텐트 수요 확대는 이미 진행됐다”면서 “포바이포는 업계 최고 수준에 도달한 고화질 서비스 제작·유통 및 변환기술을 보유한 기업으로 신규 상장에 주목해야 한다”고 말했다.   '],\n",
       " ['파이낸셜뉴스언론사',\n",
       "  '[증시캘린더]이번주(4월4주) 포바이포 공모, 미래에셋스팩1호 상장 등',\n",
       "  '\\t\\t\\t[이데일리 김응태 기자] 이번주(4월4주) 기업공개 시장에서는 포바이포를 비롯해 신한스팩9호, 신영스팩7호, 상상인스팩3호 등이 일반 청약에 나선다. 미래에셋비전스팩1호는 상장에 돌입한다.◇4월18일(월)~19일(화)△신한스팩9호 공모-전자통신, 소프트웨어, 바이오제약, 의료기기, 2차전지, 게임, 모바일, 신재생에너지, 자동차부품 등에 해당하는 산업의 기업을 중점으로 합병 추진.-공모가 2000원, 공모금액 80억원.△신영스팩7호 공모-제조업, 전기·가스·증기·수도사업, 하수-폐기물 처리·원료재생·환경복원업, 건설업, 운수업, 출판·영상·방송통신·정보서비스업, 사업시설관리·사업지원 서비스업 등에 해당하는 산업의 기업을 중점으로 합병 추진.-공모가 2000원, 공모금액 84억원.◇4월19일(화)~20일(수)△포바이포 공모 -인공지능(AI)을 활용한 화질 개선 솔루션 개발. 픽셀을 이용한 실감형 콘텐츠 제작을 통해 LG디스플레이, 삼성전자 등 고객사에 납품.-공모가 희망범위 1만1000원~1만4000원. 공모금액 최대 248억원.-지난해 매출 222억7600만원, 영업이익 40억1400만원.△상상인스팩3호 공모-바이오제약, 정보기술(IT), 신재생에너지, 탄소저감에너지, 게임, 모바일, 전자, 통신, 신소재, 나노융합 등에 해당하는 산업의 기업을 중점으로 합병 추진.-공모가 2000원, 공모금액 90억원.◇4월21일(목)△미래에셋비전스팩1호 상장 -신재생에너지, 바이오제약·의료기기, IT융합시스템, LED 응용, 그린수송시스템, 탄소저감에너지, 고도 물처리, 방송통신융합산업, 로봇 응용, 신소재·나노융합, 고부가 식품산업, 엔터테인먼트, 자동차 부품 제조, IT 및 반도체, 기타 미래 성장동력을 갖췄다고 판단되는 산업 등을 영위하는 기업을 중심으로 합병.-희망공모가 2000원, 공모금액 117억원.'],\n",
       " ['파이낸셜뉴스언론사',\n",
       "  '[공시줍줍]공모주달력 4월 18~22일',\n",
       "  '4월 셋째주 공모주 일정을 알아볼게요.먼저 이번주에 기관투자자 의무보유확약 해제 물량이 나오는 곳인데요. 의무보유확약은 공모청약 당시 기관투자자들이 받은 공모주를 상장이후 일정기간 팔지않겠다고 약속하는 것이죠. 따라서 공모주주는\\xa0물론 상장이후 주식시장에서 해당 종목을 매입한 투자자 시선에서 물량부담 가능성을 따져보기 위해 살펴보는 것이에요.\\xa0유일로보틱스는 기관투자자들이 상장후 1개월간 팔지않겠다고 약속한 11만2141주가 18일부터 나올수 있어요. 현재 주가(2만4250원, 이하 15일 종가)가 공모가(1만원)의 두 배 이상에서 움직이고 있기 때문에 차익 매물 가능성이 높아요.\\xa0오토앤은 상장후 3개월 확약물량 38만7113주가 20일부터 풀리는데, 역시 현재 주가 수준(2만150원)이 공모가(5300원)보다 크게 높아 단기적으로 매물 부담이 있어요.#[지아이텍]은 6개월 확약물량 19만5350주가 21일부터 풀리는데, 이 회사는 최근 액면분할(500원→100원)을 완료했어요. 따라서 현재 주가(3890원)와 액면분할 전 가격인 공모가(1만4000원)를 단순 비교해선 안된다는 점. 액면분할로 1주당 가격이 5분의 1 수준으로 낮아진 점을 따져보면,\\xa0기관투자자들은 이미\\xa0수익구간에 접어들어있어 차익실현에 나설\\xa0가능성이 있어요.차백신연구소도 6개월 확약물량(18만1753주)이\\xa022일부터 풀리지만 공모가(1만1000원)보다 낮은 주가 수준(7580원)이 변수네요.지난주 공모청약을 실시한 미래에셋비전스팩1호는 21일 코스닥시장에 상장해요.이번주에는 스팩 3곳과 일반기업 1곳의 청약이 예정되어 있는데요.신한스팩9호, 신영스팩7호(정식명칭: 신영해피투모로우제7호기업인수목적)가 18~19일 청약후 21일 청약증거금 환불.\\xa0포바이포, 상상인스팩7호는 각각 18일 공모가 확정, 19~20일 청약, 22일 청약증거금 환불 예정이에요.\\xa0특히 포바이포는 스팩, 리츠를 제외한 일반기업으로선 거의 한달만에 공모청약에 나서는 만큼 투자자들의 관심을 받을 것으로 보이는데요.영상콘텐츠 전문제작회사인 포바이포는 18일 기관투자자 수요예측 결과와 확정공모가를 발표하는 만큼 관심있는 투자자들은 18일 증권신고서 및 투자설명서 정정사항을 체크해주세요.이번주에는 수요예측 일정은 없어요.\\xa0공모주 수요예측 및 청약 일정은 증권신고서 중요내용 정정으로 인한 효력 발생 연기 시 미뤄질 수 있어요. 일정이 바뀌면 본문을 수정한 이후, 바로 아래 공시줍줍 안내 그래픽 밑에 별도로 적어놓습니다.\\xa0* 공시줍줍의 모든 내용은 독자들의 이해를 돕기위한 분석일 뿐 투자 권유 또는 주식가치 상승 및 하락을 보장하는 의미를 담고 있지 않습니다.* 독자 피드백 적극! 환영해요. 궁금한 내용 또는 잘못 알려드린 내용 보내주세요. 열심히 취재하고 점검하겠습니다.'],\n",
       " ['파이낸셜뉴스언론사',\n",
       "  '공모주 시장 냉기 돌자…스팩 줄줄이 기지개',\n",
       "  '키움제6호스팩, 이날 상장…올들어 7번째 스팩공모주 시장 침체에 자금조달 기업들 스팩行합병 못 해도 공모가는 확보…우량기업 합병시 수익\"불확실성 커지면 스팩 각광…변동성은 주의\"[이데일리 김인경 기자] 기업인수목적회사(SPAC·스팩)의 코스닥 상장이 줄을 잇고 있다. 공모주 시장의 투자심리가 악화하며 스팩 상장을 택하는 기업들이 많아진 탓이다. 7일 한국거래소에 따르면 올해 7번째 스팩인 키움제6호스팩는 이날 코스닥에 상장해 시초가보다 35원(1.61%) 높은 2215원에 거래를 마쳤다.키움제6호스팩에 이어 4개 기업도 상장을 대기 중이다. 미래에셋비전스팩1호, 신한스팩9호, 신영스팩7호, 상상인스팩3호는 이달 일반 청약을 통해 5월 초까지 상장을 준비하고 있다. 스팩은 비상장사를 인수·합병할 목적으로 설립된 페이퍼 회사다. 증권사가 설립하고 투자금을 공모해 코스닥시장에 상장한다. 상장 후 3년 안에 비상장 기업을 흡수 합병하면, 기업은 증시에 이름을 올리게 되고 기존 스팩 주주들은 합병된 기업의 주식을 보유하게 된다. 지난해만 해도 스팩은 ‘보릿고개’를 넘었다. 한화에스비아이스팩을 비롯한 무려 9개 기업이 합병 상장시킬 기업을 찾지 못했고 끝내 해산했다. 코스피나 코스닥에 상장을 원하는 기업은 IPO 붐 속에 직접 상장에 나섰고, 넘치는 유동성 속에 흥행을 이어갔다. 하지만 올들어 공모주 시장이 침체하고 증시 분위기가 좋지 않자 기업들은 저마다 상장 시기를 가늠하고 있는 상황이다. 지금 당장 자금 조달을 위해 상장에 나서야 하는 기업들은 ‘스팩’을 적극적으로 이용하고 있다. 공모주 투자자들에게도 스팩은 비교적 안정적인 투자처이기도 하다. 스팩은 상장 후 3년간 합병 기업을 찾지 못하면 상장폐지된다. 하지만 스팩이 해산한다고 해도 공모가(2000원)와 연 평균 1.5% 수준의 이자는 받을 수 있기 때문이다. 흥행도 이어지고 있다. 특히 IBKS스팩17호는 1736대1의 경쟁률을 기록했고 키움제6호스팩 역시 1052대1의 경쟁률을 기록했다. 한국스팩10호의 경쟁률은 802대1, 유진스팩8호는 700.69대1의 경쟁률을 기록했다. 우량기업과 합병할 경우 주가 상승 효과도 기대할 수 있다. 지난해 엔피(291230)로 합병한 삼성스팩2호는 이날 1만2800원으로 거래를 마쳤다. 기존 스팩 공모주 투자자라면 투자금(2000원)의 5배에 이르는 차익을 남긴 셈이다. 한 중형 증권사 IPO 담당은 “시장 불확실성이 커질 때 비교적 안정적인 스팩이 각광 받는 분위기가 있다”면서도 “유통물량이 일반 기업 주식보다 적은 만큼, 주가 변동성이 클 수 있어 주의해야 한다”고 말했다.'],\n",
       " ['파이낸셜뉴스언론사',\n",
       "  \"꽁꽁 언 IPO시장… '공모가 보장' 스팩株로 눈 돌려볼까\",\n",
       "  '올 데뷔한 스팩 평균 수익률 13%약세장 속 스팩 상장 장점 부각인지도 낮은 기업엔 상장 기회로상폐되도 이자지급 돼 \\'안정적\\'  글로벌 증시 약세로 공모주 시장까지 움츠러들면서 기업인수목적회사(SPAC·스팩)가 대안으로 떠오르고 있다. 약세장에서 상장을 노리는 기업과 안정성을 원하는 투자자 모두에게 매력적이라는 분석이다.   24일 한국거래소에 따르면 올해 상장된 8개 스팩의 공모가 대비 평균 수익률은 지난 22일 종가 기준 13.22%로 집계됐다.   이달 7일 상장한 키움제6호스팩은 지난 22일 2420원에 거래를 마치며 공모가(2000원) 대비 21.00%의 상승률을 보였다. 지난 12일 2900원대까지 올랐다가 상승폭을 반납하고 2400~2500원대에서 움직이고 있다. 지난 21일 상장한 미래에셋비전스팩1호의 경우에도 2330원까지 오르며 스팩에 대한 열기를 반영하고 있다.   올해 상장한 스팩 8곳은 상장 이후 내내 공모가(2000원)를 웃도는 좋은 성적을 보였다. 지난 2015년 이후 매년 10~20건 정도의 스팩이 상장된 것과 비교하면 양적으로도 적지 않은 수치다.   DB금융스팩10호가 올해 스팩 상장의 신호탄을 쏜 뒤 2월에 △한국제10호스팩 △IBKS제17호스팩 △하나금융21호스팩이 나란히 증시에 입성했고 지난달에는 △에스케이증권7호스팩 △유진스팩8호가 데뷔했다.   오는 27일에는 신한제9호스팩, 28일 신영스팩7호, 29일 상상인제3호스팩이 각각 증시에 이름을 올린다. 상장예비심사를 청구해 현재 상장 절차를 밟고 있는 스팩도 △삼성스팩6호 △IBKS제18호스팩 △케이비제21호스팩 △교보12호스팩 △신한제10호스팩 등 5곳이나 된다. 일반 기업들이 상장 계획을 철회·연기하고 있는 것과 대조적이다.   스팩은 비상장기업을 인수·합병할 목적으로 세운 일종의 서류상 회사(페이퍼컴퍼니)이다. 증권사가 설립하고 투자금을 받아 코스닥에 상장시킨다. 증시 입성 3년 이내에 비상장 기업과 흡수 합병한 뒤 간판을 바꿔 달면 된다.   안정성을 찾는 투자자들에게 스팩은 효자주로 떠올랐다. 스팩이 상장하고 기업을 인수·합병하면 기존 스팩 주주들은 합병 법인의 주식을 갖게 된다. 지난 2010년 이후 증권시장에 상장된 스팩 226개 중 현재까지 122개의 스팩이 합병을 완료했거나 상장 절차를 밟고 있다. 누적 평균 합병 성공율은 54%다.   합병 기준 시가총액 대비 주가 상승률은 누적 평균 173%로 투자 수익률도 높다. 지난 2017년 1월 스팩으로 합병 상장한 휴마시스(하이제2호스팩)는 합병 기준가 대비 현재 주가가 5500% 이상 올랐다. 같은 해 12월 상장한 클래시스(KTB스팩2호)와 2019년 12월 상장한 한국비앤씨(NH스팩11호) 등도 합병 기준가 대비 주가가 900% 이상 상승했다.   3년 이내에 합병 대상을 찾지 못해 해산하더라도 단일가인 공모가 2000원이 보장되고, 연평균 1.5% 수준의 이자도 지급된다는 장점이 있다. 스팩은 금융투자업 규정에 따라 공모 자금의 90% 이상을 은행에 맡겨둬야 한다.   이런 장점 때문에 청약 때부터 인기가 높은 편이다. 비례 기준으로 IBKS제17호스팩의 청약 경쟁률은 1736대 1에 달했고 키움제6호스팩 또한 1052대 1을 기록했다. 한국제10호스팩(801대 1)과 유진스팩8호(700.69대 1), 하나금융21호스팩역시 세 자릿수 이상의 경쟁률을 보였다.   최종경 흥국증권 연구원은 \"스팩은 신규 상장 시장의 한 축을 담당하게 됐다\"며 \"시장 인지도가 낮은 기업은 가치 평가에 유리할 수 있는 등 스팩 합병 상장의 장점이 부각되고 있다\"고 말했다.   다만 유통물량이 일반 기업 주식보다 적어 주가 변동성이 크다는 점에선 유의할 필요가 있다. 지난해에는 일부 스팩이 연일 상한가를 기록한 뒤 돌연 급락하기도 했다.   금융투자업계 관계자는 \"지난해 스팩주들이 특별한 이유도 없이 무더기로 급등락하는 현상이 나타났다\"라며 \"스팩주는 유통 물량이 적기 때문에 주가 조작에 취약할 수 있다. 공모가보다 지나치게 높은 가격에 스팩주를 사는 일은 지양해야 한다\"고 지적했다.  '],\n",
       " ['파이낸셜뉴스언론사',\n",
       "  '거래소 \"신한제9호기업인수목적, 27일 코스닥 상장\"',\n",
       "  '서울 여의도 한국거래소 전경. 2015.7.2/뉴스1 © News1 박세연 기자(서울=뉴스1) 정지형 기자 = 한국거래소는 25일 신한제9호기업인수목적(SPAC·스팩) 주식회사의 코스닥시장 신규 상장을 승인했다고 밝혔다.매매는 오는 27일부터 시작한다.거래소는 \"상장 당일에는 변동성완화장치(VI)가 미적용된다\"고 밝혔다.지난해 10월8일 설립된 신한제9호기업인수목적은 엠앤앰인베스트먼트가 지분율 6.62%로 최대주주다.자본금은 4억5350만원이며 공모주식 수는 400만주다. 상장예정주식 수는 453만5000주이며 공모가액 2000원에 총 공모금액은 80억원이다.\\t\\t'],\n",
       " ['파이낸셜뉴스언론사',\n",
       "  <selenium.webdriver.remote.webelement.WebElement (session=\"c43134db6610a39898f7d6260c8d0244\", element=\"47877db3-ac82-4ce4-bd2f-e0c7cfb653ec\")>,\n",
       "  'None'],\n",
       " ['파이낸셜뉴스언론사',\n",
       "  'IPO 침체기 접어들자…스팩 상장 쏟아지는 까닭',\n",
       "  \"이달 5개 기업 예심 청구 '최다'수요예측 통한 공모가 산정 안해공모액 줄거나 상장 무산 위험↓이달 기업인수목적회사(스팩)를 통한 상장 신청 건수가 역대 최다를 기록한 것으로 나타났다. 기업공개(IPO) 시장이 침체기에 접어들자 수요예측 절차가 필요 없는 스팩을 통한 상장을 선호하는 기업이 많아지고 있다는 분석이다.25일 한국거래소에 따르면 이달 들어 5개 기업이 스팩 합병 상장을 위한 예비심사 청구서를 제출했다. 생체신호 진단기기업체 비스토스(SK제5호스팩), 소프트웨어 개발사 모코엠시스(신한제6호스팩), 온라인 게임개발사 밸로프(교보제9호스팩), 섬유향수제조사 트랜드아이(하나금융14호스팩), 삼익 가구 온라인사업 자회사 스튜디오삼익(IBKS제13호스팩) 등이다.증권가는 올초부터 현대엔지니어링, 보로노이 등 ‘대어’들이 수요예측에 실패해 상장을 철회하자 기업들이 스팩 상장으로 선회하고 있다고 보고 있다. 스팩은 일반 상장처럼 기관투자가를 대상으로 수요예측을 실시해 공모가를 산정하지 않는다. 주주 총회를 거쳐 합병 승인을 받고 합병 비율과 합병 가액을 결정한다. 이 때문에 수요예측 저조로 공모 금액이 줄어들거나 상장이 무산될 위험이 적다.투자은행(IB)업계 관계자는 “최근 희망 가격보다 낮게 공모가가 결정되는 회사가 많아지면서 스팩에 대한 문의가 늘었다”며 “증권사들도 일반 상장 주관보다 업무 부담이 적은 데 비해 수수료는 높아 적극적으로 영업하고 있다”고 전했다.거래소가 스팩 합병 규제를 완화한 것도 인기 요인이다. 지난 6일 상장 예비심사를 신청한 비스토스는 국내 최초로 ‘스팩 소멸 합병 방식’으로 상장을 추진한다. 상장 시 회사가 존속 법인으로 남고 스팩이 사라지는 방식이다.과거에는 스팩이 존속 법인으로 남고 회사가 소멸되는 방식만 가능했다. 이 경우 기업은 신규 사업자로 등록돼 업력이 짧아지고 기존 거래처와 새로 계약을 맺어야 한다는 단점이 있다. 또 변경된 법인 명의로 부동산 취득과 토지 임대차 계약, 근로 계약 등을 체결해야 해 세금 폭탄을 맞는 경우도 생겼다. 이런 문제점을 해결하기 위해 거래소는 올초 합병 대상 기업이 존속 법인으로 남을 수 있도록 하는 개정안을 마련했다. 이 방식이 정착되면 번거로운 절차가 사라져 스팩 합병 상장이 활성화될 것이란 전망이다.\"],\n",
       " ['파이낸셜뉴스언론사',\n",
       "  \"공모주 시장 비수기에도 스팩 상장은 '문전성시'\",\n",
       "  '일반 상장 대신 스팩 선택 기업 급증자금 조달 확실·수익 보장 장점 부각전 세계적인 긴축과 금리 인상 기조에 따른 주식시장 부진으로 공모주 시장 역시 한껏 움츠러든 가운데\\xa0기업인수목적회사(SPAC·스팩)를 통한\\xa0상장을 택하는 기업들이 늘고 있다. 기업공개(IPO) 과정에서의 흥행 실패\\xa0리스크를 줄이면서\\xa0직상장처럼 대규모 자금 조달이 가능하다는 장점에서다.투자자 입장에서는 향후 스팩이 해산되더라도 공모가와 투자기간별 이자가 보장된다는 이점이 있다.\\xa0단\\xa0유통물량이 적기 때문에 상대적으로 변동성이 크다는 점은 감안해야 한다./그래픽=유상연 기자 prtsy201@올\\xa0들어 스팩 상장\\xa011곳…경쟁률\\xa0\\'세 자릿수\\' 기본21일 한국거래소에 따르면 연초 이후 상장을 했거나 상장이 임박한 스팩은 11곳에 달한다. 올 초\\xa0디비금융스팩10호가 2022년 첫 스팩 상장의 신호탄을 쏜 뒤 2월에\\xa0△한국제10호스팩 △IBKS제17호스팩 △하나금융21호스팩이 나란히 증시에 입성했고\\xa0지난달에는 △에스케이증권7호스팩 △유진스팩8호가 데뷔했다.이달 들어서는 키움제6호스팩과 미래에셋비전스팩1호가 상장해 거래되고 있다. 오는 27일에는 신한제9호스팩, 28일 신영스팩7호 29일 상상인제3호스팩이 각각 증시에 발을 들인다.\\xa0상장예비심사를 청구해 현재 상장 절차를 밟고 있는 스팩도 5곳이나 된다. △삼성스팩6호 △IBKS제18호스팩 △케이비제21호스팩 △교보12호스팩 △신한제10호스팩 등이다.\\xa0이는 연초 LG에너지솔루션 이후 \\'가물에 콩 나듯\\' 하는 일반 상장과는 대조적인 흐름이다. 최근 대내외 불확실성 확대로\\xa0증시가 침체되자 상장에 나서는 기업이\\xa0눈에 띄게 줄었다. 실제 지난달 스팩을 제외한 상장 기업은 6곳에 그쳤고 이달 들어서는 1곳이 전부다. 일부 기업은 아예 상장 계획을 철회하고 있다.\\xa0스팩의 인기도 심상치 않다. 비례 기준으로 IBKS제17호스팩의 청약 경쟁률은 1736대 1에 달했고 키움제6호스팩 또한 1052대 1을 기록했다. 한국제10호스팩(801대 1)과 유진스팩8호(700.69대 1), 하나금융21호스팩역시 세 자릿수 이상의 경쟁률을 보였다.\\xa0기업도\\xa0투자자도 하락장서 \\'윈윈\\'…변동성은\\xa0주의스팩은 비상장기업을 인수·합병할 목적으로 세운 일종의 페이퍼컴퍼니다. 증권사가 설립하고 투자금을 받아 코스닥에 상장시킨다. 증시 입성 3년 이내에\\xa0비상장기업과 흡수합병한 뒤 간판을 바꿔 달면 된다.\\xa0기업 입장에서 스팩의 가장 큰 장점은 상장 과정이 간단하다는\\xa0것이다. 스팩과 비상장기업이 주주총회에서 합병 안건만 통과시키면 모든 상장 절차가 완료된다. 수요예측 부진으로 공모가를 희망가격 아래에서 확정하고\\xa0필요한 자금 확보에 실패해 상장을 철회하는 사례가 원천 차단되는 것이다.\\xa0상장 이후 마땅한 합병 상대를 찾지 못해 해산하더라도 단일가인 공모가 2000원이 보장되고 일정 수준의 이자도 나온다는 점은 투자 매력을 높이는 요소다. 스팩은 금융투자업규정에 따라 공모자금의 90% 이상을 은행에 맡겨둬야 한다.앞서 우량한 비상장기업과 합병해 주가가 뛴 스팩도 눈여겨볼 만하다. 지난해 제이시스메디칼과 합병상장한 유안타제3호스팩은 지난 11일 1만원을 찍은데 이어 최근 9000원대를 횡보하고 있다. 엔피로 합병된 삼성스팩2호도 1만1000원 안팎을 오가는 중이다. 모두 스팩 공모가 대비 5배가 넘는 성과를 나타내고 있다.다만 유통물량이 일반 기업 주식보다 적어 주가 변동성이 크다는 점에선 유의할 필요가 있다. 지난해에는 일부 스팩이 연일 상한가를 기록한 뒤 돌연 급락해 거래소가 주의를\\xa0당부하기도 했다.\\xa0한 금융투자업계 관계자는 \"아무리 펀더멘털이 괜찮은 기업이라도 요즘 같은 장에선 자금 확보가 어려울 수 있다\"며 \"스팩은 이런 불확실성을 낮춰줄 수 있어\\xa0당분간 택하는 기업이 늘어날 것\"이라고 전망했다.또 다른 업계 관계자는 \"스팩 상장주식 수가 일반 주식에 비해 적어 주가조작에 이용될 수 있다는 점은\\xa0유의해야 한다\"고 조언했다.\\xa0'],\n",
       " ['파이낸셜뉴스언론사',\n",
       "  '\"나만 몰랐나\"…약세장 피난처된 \\'리츠·스팩\\'',\n",
       "  '<앵커>금리 인상에 약세장이 계속되자 갈 곳을 잃은 자금이 리츠와 스팩으로 몰리고 있습니다.특히 리츠의 경우 인플레이션 헤지 수단으로 각광받으며 양적, 질적 성장을 동시에 이루고 있단 평가가 나옵니다.박해린 기자입니다.<기자>지난달 증시에 입성한 코람코더원리츠.2거래일 연속 연중 신고가를 경신했습니다.최근 국내 주식을 순매도하고 있는 외국인도 3거래일 연속 코람코더원리츠에 자금을 넣고 있습니다.높은 배당률이 인기를 끌며 상장한 지 한 달도 채 되지 않았지만 벌써 공모가 대비 약 28% 올랐습니다.같은 기간 코스피는 1.4%가량 하락했고, 같은 달 상장한(스팩 제외) 6개 기업 중 5곳의 현 주가가 상장 당일 종가를 밑돌고 있는 것과 비교됩니다.대표적인 고배당 종목으로 꼽히는 리츠가 배당뿐 아니라 인플레이션 헤지 수단으로 부각되며 주가 상승률에서도 선방하고 있는 겁니다.[박병기 / 하나금융투자 기업금융본부장: 리츠가 대부분 5%에서 6% 정도 배당이 나오기 때문에 배당을 보고 투자하는 수요가 많이 늘었고 상장이 계속되고 있거든요. 익숙해져가는 과정인 것 같아요. 저희도 리츠랩이 나오고 연금도 리츠를 편입하고 있기 때문에 수요는 계속 늘어날 것으로 보입니다.]스팩주도 증시 피난처로 각광받고 있습니다.공모주 시장의 투자심리가 악화되자 투자자들에게도 안정성으로 인정받고 스팩 상장을 택하는 기업들도 늘고 있기 때문입니다.스팩은 합병 기업을 찾지 못해 해산하더라도 공모가에 연평균 1.5%의 이자를 받을 수 있어 약세장에서 더욱 각광받고 있습니다.실제로 올 들어 상장 스팩 8곳의 주가 상승률은 시장 수익률을 크게 웃도는 상황.스팩의 합병 성공률은 60% 수준에 그쳐 주가가 이상 과열되는 것에는 유의해야 하지만 공모주로 장기 투자하는 투자자에겐 제격이란 평가가 나옵니다.금리 상승기, 마땅한 투자처를 찾지 못한 리츠와 스팩으로 눈을 돌리는 가운데 이달 27일 신한스팩9호와 28일 신영스팩7호가 증시에 상장할 예정입니다.한국경제TV 박해린입니다.\\t\\t'],\n",
       " ['파이낸셜뉴스언론사',\n",
       "  '4월 둘째주 공모주 시장은? 스팩·포바이포 주목',\n",
       "  '11일~12일 미래에셋비전스팩1호 일반 청약14일~15일 포바이포 기관투자자 수요 예측   4월 둘째주 미래에셋비전스팩 1호는 일반 청약, 포바이포는 기관투자자 수요 예측을 진행한다. [게티이미지뱅크]    러시아와 우크라이나 사태와 금리 인상 등 변수로 증시가 부진하면서 기업공개(IPO) 시장도 움츠러들고 있다. 10일 증권업계에 따르면 오는 4월 둘째주 일반 청약에 들어가는 기업은 미래에셋비전스팩1호 한 곳이다. 영상콘텐트 기업 포바이포는 기관투자자 수요 예측을 진행할 예정이다.      미래에셋비전스팩1호는 오는 11일에서 12일 일반 청약에 들어간다. IPO 시장에서 투자 심리가 악화되면서 기업인수목적회사(SPAC·스팩) 상장을 택하는 기업들이 늘어나고 있다.      스팩은 비상장 기업을 인수·합병할 목적으로 설립되는 서류상 회사다. 증권사는 스팩을 세우고 일반 투자자에게 투자금을 받아 코스닥시장에 상장한다. 상장 이후 기업을 인수·합병하면 기존 스팩 주주들은 합병 법인의 주식을 갖게 되는 것이다.      스팩 증시 상장 최대 기간은 3년이다. 해당 기간 내에 합병 대상을 찾지 못해 해산되더라도 원금 보장과 소정의 이자도 지급된다는 장점이 있다. 변동성이 큰 국내 증시에서 안정성을 위해 기업들이 스팩 합병으로 눈길을 돌리는 셈이다.      미래에셋비전스팩1호 주당 공모희망가는 2000원이다. 상장 예정 주식 수는 총 617만6000주로 이중 585만주를 공모할 예정이다. 주관사는 미래에셋증권이다.      이밖에 신한스팩9호(12~13일), 신영스팩7호(13~14일), 상상인스팩3호(14~15일)도 기관 수요 예측을 진행한다.      기관 수요 예측을 앞둔 일반 기업도 있다. 영상콘텐트 제작·유통 기업인 포바이포는 오는 14일~15일 이틀 간 기관투자자 수요 예측에 들어간다.        영상콘텐트 기업인 포바이포는 오는 14일~15일 이틀 간 기관투자자 수요 예측에 들어간다. [사진 포바이포]    2017년에 설립된 포바이포는 자체 개발한 영상콘텐트 화질 개선 솔루션인 픽셀(PIXELL)을 기반으로 콘텐트를 제작하고 유통한다. LG디스플레이, 삼성전자, 제일기획, SKT 등이 공식 협력사다. 2021년 매출액은 223억원, 영업이익은 40억원이다. 각각 지난해보다 59.2%, 121.4% 늘어난 수치다.      포바이포는 콘텐트 제작 역량을 바탕으로 엔터테인먼트, 홈쇼핑, 스포츠레저 등 다양한 산업으로 영역을 넓히고 있다. 공모 자금은 해외법인(미국) 설립, 콘텐트 유통 플랫폼 확장, 전문인력 충원 등에 사용될 예정이다.      총 공모 주식 수는 177만4967주로 희망 공모가 범위는 1만1000~1만4000원이다. 공모가 기준 예상 시가총액은 1125억원에서 1431억원이다. 총 공모금액은 195억~248억원이다.      최종경 흥국증권 연구원은 “고화질(8K) 콘텐트 수요 확대는 이미 진행됐다”면서 “포바이포는 업계 최고 수준에 도달한 고화질 서비스 제작·유통 및 변환기술을 보유한 기업으로 신규 상장에 주목해야 한다”고 말했다.   '],\n",
       " ['파이낸셜뉴스언론사',\n",
       "  '공모주 시장 냉기 돌자…스팩 줄줄이 기지개',\n",
       "  '키움제6호스팩, 이날 상장…올들어 7번째 스팩공모주 시장 침체에 자금조달 기업들 스팩行합병 못 해도 공모가는 확보…우량기업 합병시 수익\"불확실성 커지면 스팩 각광…변동성은 주의\"[이데일리 김인경 기자] 기업인수목적회사(SPAC·스팩)의 코스닥 상장이 줄을 잇고 있다. 공모주 시장의 투자심리가 악화하며 스팩 상장을 택하는 기업들이 많아진 탓이다. 7일 한국거래소에 따르면 올해 7번째 스팩인 키움제6호스팩는 이날 코스닥에 상장해 시초가보다 35원(1.61%) 높은 2215원에 거래를 마쳤다.키움제6호스팩에 이어 4개 기업도 상장을 대기 중이다. 미래에셋비전스팩1호, 신한스팩9호, 신영스팩7호, 상상인스팩3호는 이달 일반 청약을 통해 5월 초까지 상장을 준비하고 있다. 스팩은 비상장사를 인수·합병할 목적으로 설립된 페이퍼 회사다. 증권사가 설립하고 투자금을 공모해 코스닥시장에 상장한다. 상장 후 3년 안에 비상장 기업을 흡수 합병하면, 기업은 증시에 이름을 올리게 되고 기존 스팩 주주들은 합병된 기업의 주식을 보유하게 된다. 지난해만 해도 스팩은 ‘보릿고개’를 넘었다. 한화에스비아이스팩을 비롯한 무려 9개 기업이 합병 상장시킬 기업을 찾지 못했고 끝내 해산했다. 코스피나 코스닥에 상장을 원하는 기업은 IPO 붐 속에 직접 상장에 나섰고, 넘치는 유동성 속에 흥행을 이어갔다. 하지만 올들어 공모주 시장이 침체하고 증시 분위기가 좋지 않자 기업들은 저마다 상장 시기를 가늠하고 있는 상황이다. 지금 당장 자금 조달을 위해 상장에 나서야 하는 기업들은 ‘스팩’을 적극적으로 이용하고 있다. 공모주 투자자들에게도 스팩은 비교적 안정적인 투자처이기도 하다. 스팩은 상장 후 3년간 합병 기업을 찾지 못하면 상장폐지된다. 하지만 스팩이 해산한다고 해도 공모가(2000원)와 연 평균 1.5% 수준의 이자는 받을 수 있기 때문이다. 흥행도 이어지고 있다. 특히 IBKS스팩17호는 1736대1의 경쟁률을 기록했고 키움제6호스팩 역시 1052대1의 경쟁률을 기록했다. 한국스팩10호의 경쟁률은 802대1, 유진스팩8호는 700.69대1의 경쟁률을 기록했다. 우량기업과 합병할 경우 주가 상승 효과도 기대할 수 있다. 지난해 엔피(291230)로 합병한 삼성스팩2호는 이날 1만2800원으로 거래를 마쳤다. 기존 스팩 공모주 투자자라면 투자금(2000원)의 5배에 이르는 차익을 남긴 셈이다. 한 중형 증권사 IPO 담당은 “시장 불확실성이 커질 때 비교적 안정적인 스팩이 각광 받는 분위기가 있다”면서도 “유통물량이 일반 기업 주식보다 적은 만큼, 주가 변동성이 클 수 있어 주의해야 한다”고 말했다.'],\n",
       " ['파이낸셜뉴스언론사',\n",
       "  '미래에셋, 대우 떼고 첫 스팩…흥행몰이 성공할까',\n",
       "  '미래에셋비전스팩1호 11~12일 일반청약 기존 스팩과 달리 증거금률 50%로 낮아 첫날 경쟁률 39 대1...흥행 여부 주목이 기사는 04월 11일 16:21 “마켓인사이트”에 게재된 기사입니다.미래에셋증권이 \\'대우\\' 이름을 뗀 첫번째 스팩(기업인수목적회사)을 선보인다.  11일 투자은행(IB) 업계에 따르면 미래에셋증권은 이날부터 이틀 간 미래에셋비전스팩1호의 일반청약을 받는다. 공모 주식수는 585만주, 공모 규모는 117억원이다. 이중 개인투자자에게 146만2500주가 배정됐다. 다른 증권사들은 스팩을 공모할 때 신청수량에 해당하는 금액을 모두 납입하도록 하지만 미래에셋은 절반만 내도록 했다. 일반 공모주처럼 청약 증거금률을 50%로 설정한 것이다. 이에 따라 청약자들은 투자금 대비 2배의 수량을 신청할 수 있게 됐다. 미래에셋증권 관계자는 \"스팩은 공모 규모가 작고 실권주가 나올 확률이 적어 청약 증거금률 50%를 적용하고 있다\"며 \"앞으로 나올 스팩도 이를 유지할 가능성이 크다\"고 말했다. IB업계는 미래에셋이 스팩 흥행을 위해 증거금률 차별화 전략을 고수하는 것으로 해석하고 있다. 미래에셋은 2009년 스팩 제도가 도입된 이후 국내 최초로 스팩(대우증권스팩1호)을 상장시킨 증권사다. 그러나 만드는 스팩마다 줄줄이 상장폐지돼 오명을 얻었다. 스팩은 최초 모집일부터 3년 이내 합병 기업을 찾지 못하면 상장이 폐지된다. 미래에셋은 지금까지 총 14개 스팩을 상장시켰는데 이중 절반에 가까운 6개가 상장이 폐지됐다. 폐지 건수로는 국내 증권사 중 가장 많다.  미래에셋은 새롭게 선보인 비전스팩으로 재기를 노린다는 계획이다. 지난해 기업공개(IPO) 주관 실적과 건수 모두 국내 증권사 중 1위에 올랐지만 스팩 합병 상장 분야에서는 좀처럼 실적을 내지 못했다는 점에서다.  스팩 합병을 통한 상장은 2015년 이후 매년 10~20건 이상 이뤄지면서 IPO 시장의 한 축으로 떠올랐다. 올해 들어 2개 기업의 상장이 완료됐고 9개 기업의 상장 작업이 진행 중이다. 2010년 이후 증권시장에 상장된 스팩 226개 중 현재까지 122개의 스팩이 합병을 완료했거나 상장 절차를 밟고 있다. 누적 평균 합병 성공율은 54%다. 합병 기준 시가총액 대비 주가 상승률은 누적 평균 173%로 투자 수익률도 높다. 2017년 1월 스팩으로 합병 상장한 휴마시스(하이제2호스팩)는 합병 기준가 대비 현재 주가가 5500% 이상 올랐다. 같은 해 12월 상장한 클래시스(KTB스팩2호)와 2019년 12월 상장한 한국비앤씨(NH스팩11호) 등도 합병 기준가 대비 주가가 900% 이상 상승했다. 증권가는 올해도 스팩 상장이 이어질 것으로 전망하고 있다. 미래에셋비전스팩에 이어 이달에만 신한스팩9호, 신영스팩7호, 상상인스팩3호 등 3개 스팩이 공모를 진행한다. '],\n",
       " ['데일리안2022.04.19.네이버뉴스',\n",
       "  '한국거래소, 미래에셋비전스팩1호 신규 상장 승인',\n",
       "  '21일부터 코스닥시장서 거래서울 여의도 한국거래소 사옥 전경.ⓒ한국거래소[데일리안 = 이홍석 기자] 한국거래소(이사장 손병두)는 19일 미래에셋비전기업인수목적(미래에셋비전스팩) 1호 주식회사의 코스닥시장 신규 상장을 승인했다고 밝혔다.매매거래는 21일부터 개되며 상장 당일에는 변동성완화장치(VI)가 미적용된다.스팩(SPAC)은 기업의 인수와 합병만을 목적으로 설립한 명목상 회사로 3년 내 합병하지 않으면 상장 폐지된다.이번 스팩은 미래에셋증권이 ‘대우’ 이름을 떼고 선보인 첫 번째 스팩으로 공모가는 단일가인 2000원이었으며 총 공모금액은 117억원이다.상장 예정 주식 수는 보통주 617만6000주로 총 공모주식수는 585만주(94.7%)였다.\\t\\t'],\n",
       " ['데일리안2022.04.19.네이버뉴스',\n",
       "  <selenium.webdriver.remote.webelement.WebElement (session=\"c43134db6610a39898f7d6260c8d0244\", element=\"b26b31cd-4ffb-4a01-9ca9-c2a88193e065\")>,\n",
       "  'None'],\n",
       " ['데일리안2022.04.19.네이버뉴스',\n",
       "  <selenium.webdriver.remote.webelement.WebElement (session=\"c43134db6610a39898f7d6260c8d0244\", element=\"427a2f0e-0972-4496-b34b-837e850546e0\")>,\n",
       "  'None'],\n",
       " ['데일리안2022.04.19.네이버뉴스',\n",
       "  <selenium.webdriver.remote.webelement.WebElement (session=\"c43134db6610a39898f7d6260c8d0244\", element=\"f44e74ed-0754-49a0-873e-dd23238ddd83\")>,\n",
       "  'None'],\n",
       " ['데일리안2022.04.19.네이버뉴스',\n",
       "  '미래에셋, 대우 떼고 첫 스팩…흥행몰이 성공할까',\n",
       "  '미래에셋비전스팩1호 11~12일 일반청약 기존 스팩과 달리 증거금률 50%로 낮아 첫날 경쟁률 39 대1...흥행 여부 주목이 기사는 04월 11일 16:21 “마켓인사이트”에 게재된 기사입니다.미래에셋증권이 \\'대우\\' 이름을 뗀 첫번째 스팩(기업인수목적회사)을 선보인다.  11일 투자은행(IB) 업계에 따르면 미래에셋증권은 이날부터 이틀 간 미래에셋비전스팩1호의 일반청약을 받는다. 공모 주식수는 585만주, 공모 규모는 117억원이다. 이중 개인투자자에게 146만2500주가 배정됐다. 다른 증권사들은 스팩을 공모할 때 신청수량에 해당하는 금액을 모두 납입하도록 하지만 미래에셋은 절반만 내도록 했다. 일반 공모주처럼 청약 증거금률을 50%로 설정한 것이다. 이에 따라 청약자들은 투자금 대비 2배의 수량을 신청할 수 있게 됐다. 미래에셋증권 관계자는 \"스팩은 공모 규모가 작고 실권주가 나올 확률이 적어 청약 증거금률 50%를 적용하고 있다\"며 \"앞으로 나올 스팩도 이를 유지할 가능성이 크다\"고 말했다. IB업계는 미래에셋이 스팩 흥행을 위해 증거금률 차별화 전략을 고수하는 것으로 해석하고 있다. 미래에셋은 2009년 스팩 제도가 도입된 이후 국내 최초로 스팩(대우증권스팩1호)을 상장시킨 증권사다. 그러나 만드는 스팩마다 줄줄이 상장폐지돼 오명을 얻었다. 스팩은 최초 모집일부터 3년 이내 합병 기업을 찾지 못하면 상장이 폐지된다. 미래에셋은 지금까지 총 14개 스팩을 상장시켰는데 이중 절반에 가까운 6개가 상장이 폐지됐다. 폐지 건수로는 국내 증권사 중 가장 많다.  미래에셋은 새롭게 선보인 비전스팩으로 재기를 노린다는 계획이다. 지난해 기업공개(IPO) 주관 실적과 건수 모두 국내 증권사 중 1위에 올랐지만 스팩 합병 상장 분야에서는 좀처럼 실적을 내지 못했다는 점에서다.  스팩 합병을 통한 상장은 2015년 이후 매년 10~20건 이상 이뤄지면서 IPO 시장의 한 축으로 떠올랐다. 올해 들어 2개 기업의 상장이 완료됐고 9개 기업의 상장 작업이 진행 중이다. 2010년 이후 증권시장에 상장된 스팩 226개 중 현재까지 122개의 스팩이 합병을 완료했거나 상장 절차를 밟고 있다. 누적 평균 합병 성공율은 54%다. 합병 기준 시가총액 대비 주가 상승률은 누적 평균 173%로 투자 수익률도 높다. 2017년 1월 스팩으로 합병 상장한 휴마시스(하이제2호스팩)는 합병 기준가 대비 현재 주가가 5500% 이상 올랐다. 같은 해 12월 상장한 클래시스(KTB스팩2호)와 2019년 12월 상장한 한국비앤씨(NH스팩11호) 등도 합병 기준가 대비 주가가 900% 이상 상승했다. 증권가는 올해도 스팩 상장이 이어질 것으로 전망하고 있다. 미래에셋비전스팩에 이어 이달에만 신한스팩9호, 신영스팩7호, 상상인스팩3호 등 3개 스팩이 공모를 진행한다. '],\n",
       " ['데일리안2022.04.19.네이버뉴스',\n",
       "  '[증시캘린더]이번주(4월4주) 포바이포 공모, 미래에셋스팩1호 상장 등',\n",
       "  '\\t\\t\\t[이데일리 김응태 기자] 이번주(4월4주) 기업공개 시장에서는 포바이포를 비롯해 신한스팩9호, 신영스팩7호, 상상인스팩3호 등이 일반 청약에 나선다. 미래에셋비전스팩1호는 상장에 돌입한다.◇4월18일(월)~19일(화)△신한스팩9호 공모-전자통신, 소프트웨어, 바이오제약, 의료기기, 2차전지, 게임, 모바일, 신재생에너지, 자동차부품 등에 해당하는 산업의 기업을 중점으로 합병 추진.-공모가 2000원, 공모금액 80억원.△신영스팩7호 공모-제조업, 전기·가스·증기·수도사업, 하수-폐기물 처리·원료재생·환경복원업, 건설업, 운수업, 출판·영상·방송통신·정보서비스업, 사업시설관리·사업지원 서비스업 등에 해당하는 산업의 기업을 중점으로 합병 추진.-공모가 2000원, 공모금액 84억원.◇4월19일(화)~20일(수)△포바이포 공모 -인공지능(AI)을 활용한 화질 개선 솔루션 개발. 픽셀을 이용한 실감형 콘텐츠 제작을 통해 LG디스플레이, 삼성전자 등 고객사에 납품.-공모가 희망범위 1만1000원~1만4000원. 공모금액 최대 248억원.-지난해 매출 222억7600만원, 영업이익 40억1400만원.△상상인스팩3호 공모-바이오제약, 정보기술(IT), 신재생에너지, 탄소저감에너지, 게임, 모바일, 전자, 통신, 신소재, 나노융합 등에 해당하는 산업의 기업을 중점으로 합병 추진.-공모가 2000원, 공모금액 90억원.◇4월21일(목)△미래에셋비전스팩1호 상장 -신재생에너지, 바이오제약·의료기기, IT융합시스템, LED 응용, 그린수송시스템, 탄소저감에너지, 고도 물처리, 방송통신융합산업, 로봇 응용, 신소재·나노융합, 고부가 식품산업, 엔터테인먼트, 자동차 부품 제조, IT 및 반도체, 기타 미래 성장동력을 갖췄다고 판단되는 산업 등을 영위하는 기업을 중심으로 합병.-희망공모가 2000원, 공모금액 117억원.'],\n",
       " ['데일리안2022.04.19.네이버뉴스',\n",
       "  '4월 둘째주 공모주 시장은? 스팩·포바이포 주목',\n",
       "  '11일~12일 미래에셋비전스팩1호 일반 청약14일~15일 포바이포 기관투자자 수요 예측   4월 둘째주 미래에셋비전스팩 1호는 일반 청약, 포바이포는 기관투자자 수요 예측을 진행한다. [게티이미지뱅크]    러시아와 우크라이나 사태와 금리 인상 등 변수로 증시가 부진하면서 기업공개(IPO) 시장도 움츠러들고 있다. 10일 증권업계에 따르면 오는 4월 둘째주 일반 청약에 들어가는 기업은 미래에셋비전스팩1호 한 곳이다. 영상콘텐트 기업 포바이포는 기관투자자 수요 예측을 진행할 예정이다.      미래에셋비전스팩1호는 오는 11일에서 12일 일반 청약에 들어간다. IPO 시장에서 투자 심리가 악화되면서 기업인수목적회사(SPAC·스팩) 상장을 택하는 기업들이 늘어나고 있다.      스팩은 비상장 기업을 인수·합병할 목적으로 설립되는 서류상 회사다. 증권사는 스팩을 세우고 일반 투자자에게 투자금을 받아 코스닥시장에 상장한다. 상장 이후 기업을 인수·합병하면 기존 스팩 주주들은 합병 법인의 주식을 갖게 되는 것이다.      스팩 증시 상장 최대 기간은 3년이다. 해당 기간 내에 합병 대상을 찾지 못해 해산되더라도 원금 보장과 소정의 이자도 지급된다는 장점이 있다. 변동성이 큰 국내 증시에서 안정성을 위해 기업들이 스팩 합병으로 눈길을 돌리는 셈이다.      미래에셋비전스팩1호 주당 공모희망가는 2000원이다. 상장 예정 주식 수는 총 617만6000주로 이중 585만주를 공모할 예정이다. 주관사는 미래에셋증권이다.      이밖에 신한스팩9호(12~13일), 신영스팩7호(13~14일), 상상인스팩3호(14~15일)도 기관 수요 예측을 진행한다.      기관 수요 예측을 앞둔 일반 기업도 있다. 영상콘텐트 제작·유통 기업인 포바이포는 오는 14일~15일 이틀 간 기관투자자 수요 예측에 들어간다.        영상콘텐트 기업인 포바이포는 오는 14일~15일 이틀 간 기관투자자 수요 예측에 들어간다. [사진 포바이포]    2017년에 설립된 포바이포는 자체 개발한 영상콘텐트 화질 개선 솔루션인 픽셀(PIXELL)을 기반으로 콘텐트를 제작하고 유통한다. LG디스플레이, 삼성전자, 제일기획, SKT 등이 공식 협력사다. 2021년 매출액은 223억원, 영업이익은 40억원이다. 각각 지난해보다 59.2%, 121.4% 늘어난 수치다.      포바이포는 콘텐트 제작 역량을 바탕으로 엔터테인먼트, 홈쇼핑, 스포츠레저 등 다양한 산업으로 영역을 넓히고 있다. 공모 자금은 해외법인(미국) 설립, 콘텐트 유통 플랫폼 확장, 전문인력 충원 등에 사용될 예정이다.      총 공모 주식 수는 177만4967주로 희망 공모가 범위는 1만1000~1만4000원이다. 공모가 기준 예상 시가총액은 1125억원에서 1431억원이다. 총 공모금액은 195억~248억원이다.      최종경 흥국증권 연구원은 “고화질(8K) 콘텐트 수요 확대는 이미 진행됐다”면서 “포바이포는 업계 최고 수준에 도달한 고화질 서비스 제작·유통 및 변환기술을 보유한 기업으로 신규 상장에 주목해야 한다”고 말했다.   '],\n",
       " ['데일리안2022.04.19.네이버뉴스',\n",
       "  '공모주 시장 냉기 돌자…스팩 줄줄이 기지개',\n",
       "  '키움제6호스팩, 이날 상장…올들어 7번째 스팩공모주 시장 침체에 자금조달 기업들 스팩行합병 못 해도 공모가는 확보…우량기업 합병시 수익\"불확실성 커지면 스팩 각광…변동성은 주의\"[이데일리 김인경 기자] 기업인수목적회사(SPAC·스팩)의 코스닥 상장이 줄을 잇고 있다. 공모주 시장의 투자심리가 악화하며 스팩 상장을 택하는 기업들이 많아진 탓이다. 7일 한국거래소에 따르면 올해 7번째 스팩인 키움제6호스팩는 이날 코스닥에 상장해 시초가보다 35원(1.61%) 높은 2215원에 거래를 마쳤다.키움제6호스팩에 이어 4개 기업도 상장을 대기 중이다. 미래에셋비전스팩1호, 신한스팩9호, 신영스팩7호, 상상인스팩3호는 이달 일반 청약을 통해 5월 초까지 상장을 준비하고 있다. 스팩은 비상장사를 인수·합병할 목적으로 설립된 페이퍼 회사다. 증권사가 설립하고 투자금을 공모해 코스닥시장에 상장한다. 상장 후 3년 안에 비상장 기업을 흡수 합병하면, 기업은 증시에 이름을 올리게 되고 기존 스팩 주주들은 합병된 기업의 주식을 보유하게 된다. 지난해만 해도 스팩은 ‘보릿고개’를 넘었다. 한화에스비아이스팩을 비롯한 무려 9개 기업이 합병 상장시킬 기업을 찾지 못했고 끝내 해산했다. 코스피나 코스닥에 상장을 원하는 기업은 IPO 붐 속에 직접 상장에 나섰고, 넘치는 유동성 속에 흥행을 이어갔다. 하지만 올들어 공모주 시장이 침체하고 증시 분위기가 좋지 않자 기업들은 저마다 상장 시기를 가늠하고 있는 상황이다. 지금 당장 자금 조달을 위해 상장에 나서야 하는 기업들은 ‘스팩’을 적극적으로 이용하고 있다. 공모주 투자자들에게도 스팩은 비교적 안정적인 투자처이기도 하다. 스팩은 상장 후 3년간 합병 기업을 찾지 못하면 상장폐지된다. 하지만 스팩이 해산한다고 해도 공모가(2000원)와 연 평균 1.5% 수준의 이자는 받을 수 있기 때문이다. 흥행도 이어지고 있다. 특히 IBKS스팩17호는 1736대1의 경쟁률을 기록했고 키움제6호스팩 역시 1052대1의 경쟁률을 기록했다. 한국스팩10호의 경쟁률은 802대1, 유진스팩8호는 700.69대1의 경쟁률을 기록했다. 우량기업과 합병할 경우 주가 상승 효과도 기대할 수 있다. 지난해 엔피(291230)로 합병한 삼성스팩2호는 이날 1만2800원으로 거래를 마쳤다. 기존 스팩 공모주 투자자라면 투자금(2000원)의 5배에 이르는 차익을 남긴 셈이다. 한 중형 증권사 IPO 담당은 “시장 불확실성이 커질 때 비교적 안정적인 스팩이 각광 받는 분위기가 있다”면서도 “유통물량이 일반 기업 주식보다 적은 만큼, 주가 변동성이 클 수 있어 주의해야 한다”고 말했다.'],\n",
       " ['데일리안2022.04.19.네이버뉴스',\n",
       "  <selenium.webdriver.remote.webelement.WebElement (session=\"c43134db6610a39898f7d6260c8d0244\", element=\"cd1ef259-dd8b-40f7-837c-7eb0563536bd\")>,\n",
       "  'None'],\n",
       " ['내외경제tv2022.04.07.',\n",
       "  <selenium.webdriver.remote.webelement.WebElement (session=\"c43134db6610a39898f7d6260c8d0244\", element=\"b7f4b42f-4c33-4458-9d75-96291ef3f769\")>,\n",
       "  'None']]"
      ]
     },
     "execution_count": 550,
     "metadata": {},
     "output_type": "execute_result"
    }
   ],
   "source": [
    "IPO_news"
   ]
  },
  {
   "cell_type": "code",
   "execution_count": null,
   "id": "560786e6",
   "metadata": {
    "id": "560786e6",
    "outputId": "2d25ab51-e23e-44f0-8331-244c9018a3af"
   },
   "outputs": [
    {
     "data": {
      "text/plain": [
       "[]"
      ]
     },
     "execution_count": 538,
     "metadata": {},
     "output_type": "execute_result"
    }
   ],
   "source": [
    "//*[@id=\"sp_nws1\"]/div/div/a\n",
    "\n",
    "/html/body/div[3]/div[2]/div/div[1]/section/div/div[2]/ul/li[1]/div/div/a"
   ]
  },
  {
   "cell_type": "code",
   "execution_count": null,
   "id": "6f0de1f4",
   "metadata": {
    "id": "6f0de1f4",
    "outputId": "a18ca0aa-b83c-48e0-ae72-344a107b15d6",
    "scrolled": false
   },
   "outputs": [
    {
     "data": {
      "text/plain": [
       "<div class=\"info\">뉴스 기사와 댓글로 인한 문제 발생시 <span class=\"txt\">24시간 센터로 접수해주세요.</span><i class=\"spnew api_ico_help\"></i></div>"
      ]
     },
     "execution_count": 526,
     "metadata": {},
     "output_type": "execute_result"
    }
   ],
   "source": [
    "soup.find('div',class_= \"info\")"
   ]
  },
  {
   "cell_type": "code",
   "execution_count": null,
   "id": "e1dbede1",
   "metadata": {
    "id": "e1dbede1",
    "outputId": "b5bdc68c-5c08-4ff0-e626-10800f5fffbe",
    "scrolled": true
   },
   "outputs": [
    {
     "name": "stderr",
     "output_type": "stream",
     "text": [
      "C:\\Users\\82109\\AppData\\Local\\Temp/ipykernel_14212/1496779936.py:1: DeprecationWarning: find_element_by_xpath is deprecated. Please use find_element(by=By.XPATH, value=xpath) instead\n",
      "  driver.find_element_by_xpath('/html/body/div[3]/div[2]/div/div[1]/section/div/div[2]/ul/li[7]/div[1]/div/div[1]/div[2]/a[2]').text\n"
     ]
    },
    {
     "data": {
      "text/plain": [
       "'네이버뉴스'"
      ]
     },
     "execution_count": 528,
     "metadata": {},
     "output_type": "execute_result"
    }
   ],
   "source": [
    "driver.find_element_by_xpath('/html/body/div[3]/div[2]/div/div[1]/section/div/div[2]/ul/li[7]/div[1]/div/div[1]/div[2]/a[2]')\n",
    "\n",
    "# /html/body/div[3]/div[2]/div/div[1]/section/div/div[2]/ul/li[7]/div/div/div[1]/div[2]/a[2]"
   ]
  },
  {
   "cell_type": "code",
   "execution_count": null,
   "id": "7a6eb478",
   "metadata": {
    "id": "7a6eb478",
    "outputId": "0ebc1efc-eec6-44de-a9d2-d402de2bc63b",
    "scrolled": true
   },
   "outputs": [
    {
     "name": "stderr",
     "output_type": "stream",
     "text": [
      "C:\\Users\\82109\\AppData\\Local\\Temp/ipykernel_14212/760961310.py:1: DeprecationWarning: find_element_by_xpath is deprecated. Please use find_element(by=By.XPATH, value=xpath) instead\n",
      "  driver.find_element_by_xpath('/html/body/div[3]/div[2]/div/div[1]/section/div/div[2]/ul/li[1]').text.count('네이버뉴스')\n"
     ]
    },
    {
     "data": {
      "text/plain": [
       "2"
      ]
     },
     "execution_count": 439,
     "metadata": {},
     "output_type": "execute_result"
    }
   ],
   "source": [
    "driver.find_element_by_xpath('/html/body/div[3]/div[2]/div/div[1]/section/div/div[2]/ul/li[1]').text.count('네이버뉴스')"
   ]
  },
  {
   "cell_type": "code",
   "execution_count": null,
   "id": "b27da48e",
   "metadata": {
    "id": "b27da48e",
    "outputId": "7bc66523-1f92-45dc-98f2-78783ac149da"
   },
   "outputs": [
    {
     "data": {
      "text/plain": [
       "'https://search.naver.com/search.naver?where=news&query=%EC%83%81%EC%83%81%EC%9D%B8%EC%8A%A4%ED%8C%A93%ED%98%B8&sm=tab_opt&sort=0&photo=0&field=0&pd=3&ds=2022.03.30&de=2022.04.29&docid=&related=0&mynews=0&office_type=0&office_section_code=0&news_office_checked=&nso=so%3Ar%2Cp%3Afrom20220330to20220429&is_sug_officeid=0'"
      ]
     },
     "execution_count": 474,
     "metadata": {},
     "output_type": "execute_result"
    }
   ],
   "source": [
    "driver.current_url"
   ]
  },
  {
   "cell_type": "code",
   "execution_count": null,
   "id": "0ea4132a",
   "metadata": {
    "id": "0ea4132a",
    "outputId": "90555670-03b4-427f-c658-8074fdaf41e4"
   },
   "outputs": [
    {
     "name": "stderr",
     "output_type": "stream",
     "text": [
      "C:\\Users\\82109\\AppData\\Local\\Temp/ipykernel_14212/2315900332.py:1: DeprecationWarning: find_element_by_xpath is deprecated. Please use find_element(by=By.XPATH, value=xpath) instead\n",
      "  driver.find_element_by_xpath('/html/body/div[3]/div[2]/div/div[1]/section[1]/div/div[2]/ul/li[1]/div/div/div[1]/div[2]/a[2]').click()\n",
      "C:\\Users\\82109\\AppData\\Local\\Temp/ipykernel_14212/2315900332.py:3: DeprecationWarning: find_element_by_xpath is deprecated. Please use find_element(by=By.XPATH, value=xpath) instead\n",
      "  link_url = driver.find_element_by_xpath('//*[@id=\"sp_rns3\"]/div/div/div[1]/div[2]/a[2]').get_attribute('href')\n"
     ]
    }
   ],
   "source": [
    "driver.find_element_by_xpath('/html/body/div[3]/div[2]/div/div[1]/section[1]/div/div[2]/ul/li[1]/div/div/div[1]/div[2]/a[2]').click()\n",
    "time.sleep(3)\n",
    "link_url = driver.find_element_by_xpath('//*[@id=\"sp_rns3\"]/div/div/div[1]/div[2]/a[2]').get_attribute('href')\n",
    "response = requests.get(link_url,headers={'User-Agent':'Mozilla/5.0'})\n",
    "html = response.text\n",
    "soup = BeautifulSoup(html, 'html.parser')\n",
    "healine = soup.select_one('#ct > div.media_end_head.go_trans > div.media_end_head_title > h2').get_text()\n",
    "body_text = soup.select_one('#dic_area').get_text().replace('\\n','')\n",
    "news_media = soup.select_one('#ct > div.media_end_head.go_trans > div.media_end_head_top > a > img.media_end_head_top_logo_img.light_type').get_text()"
   ]
  },
  {
   "cell_type": "code",
   "execution_count": null,
   "id": "ca1c3800",
   "metadata": {
    "id": "ca1c3800",
    "outputId": "0cbe7f24-4632-4fab-ff3c-48d755be975c"
   },
   "outputs": [
    {
     "data": {
      "text/plain": [
       "'https://news.naver.com/main/read.naver?mode=LSD&mid=sec&sid1=101&oid=018&aid=0005195925'"
      ]
     },
     "execution_count": 368,
     "metadata": {},
     "output_type": "execute_result"
    }
   ],
   "source": [
    "link_url"
   ]
  },
  {
   "cell_type": "code",
   "execution_count": null,
   "id": "6b7283f0",
   "metadata": {
    "id": "6b7283f0",
    "outputId": "3dd6ae3c-edcf-4ecc-cb14-cbd8d9dd7bf5"
   },
   "outputs": [
    {
     "data": {
      "text/plain": [
       "<a class=\"media_end_head_top_logo\" href=\"http://www.edaily.co.kr/\">\n",
       "<img alt=\"이데일리\" class=\"media_end_head_top_logo_img light_type\" height=\"32\" src=\"https://mimgnews.pstatic.net/image/upload/office_logo/018/2020/09/15/logo_018_6_20200915185838.png\" title=\"이데일리\" width=\"\"/>\n",
       "<img alt=\"이데일리\" class=\"media_end_head_top_logo_img dark_type\" height=\"32\" src=\"https://mimgnews.pstatic.net/image/upload/office_logo/018/2020/09/15/dark_logo_018_6_20200915145317.png\" title=\"이데일리\" width=\"\"/>\n",
       "</a>"
      ]
     },
     "execution_count": 401,
     "metadata": {},
     "output_type": "execute_result"
    }
   ],
   "source": []
  },
  {
   "cell_type": "code",
   "execution_count": null,
   "id": "f2c8cd01",
   "metadata": {
    "id": "f2c8cd01"
   },
   "outputs": [],
   "source": [
    "cur_url = driver.current_url\n",
    "response = requests.get(cur_url,headers={'User-Agent':'Mozilla/5.0'})\n",
    "html = response.text\n",
    "soup = BeautifulSoup(html, 'html.parser')\n",
    "aaaa = soup.select(\"#main_pack > section.sc_new.sp_nnews._prs_nws > div > div.group_news > ul > li\")"
   ]
  },
  {
   "cell_type": "code",
   "execution_count": null,
   "id": "a5d9ba7d",
   "metadata": {
    "id": "a5d9ba7d",
    "outputId": "95edcf91-e784-416b-ddac-94a999a72d90"
   },
   "outputs": [
    {
     "name": "stderr",
     "output_type": "stream",
     "text": [
      "C:\\Users\\82109\\AppData\\Local\\Temp/ipykernel_14212/4188518779.py:2: DeprecationWarning: find_element_by_xpath is deprecated. Please use find_element(by=By.XPATH, value=xpath) instead\n",
      "  news_media = driver.find_element_by_xpath('/html/body/div[3]/div[2]/div/div[1]/section[1]/div/div[2]/ul/li[1]/div[1]/div/div[1]/div[2]').text\n"
     ]
    }
   ],
   "source": [
    "aaaa\n",
    "news_media = driver.find_element_by_xpath('/html/body/div[3]/div[2]/div/div[1]/section[1]/div/div[2]/ul/li[1]/div[1]/div/div[1]/div[2]').text\n",
    "news_media = elminate_number_in_str(news_media).split()[0]"
   ]
  },
  {
   "cell_type": "code",
   "execution_count": null,
   "id": "e1c7fec8",
   "metadata": {
    "id": "e1c7fec8",
    "outputId": "5f094474-f23d-40b6-c24c-a259d99c7159"
   },
   "outputs": [
    {
     "data": {
      "text/plain": [
       "'매경이코노미언론사'"
      ]
     },
     "execution_count": 411,
     "metadata": {},
     "output_type": "execute_result"
    }
   ],
   "source": [
    "news_media"
   ]
  },
  {
   "cell_type": "code",
   "execution_count": null,
   "id": "6b8a778a",
   "metadata": {
    "id": "6b8a778a",
    "outputId": "2f0035ef-eca2-4359-b3a5-3f28dd57fa57"
   },
   "outputs": [
    {
     "data": {
      "text/plain": [
       "'https://search.naver.com/search.naver?where=news&sm=tab_pge&query=%ED%8F%AC%EB%B0%94%EC%9D%B4%ED%8F%AC&sort=0&photo=0&field=0&pd=3&ds=2022.03.29&de=2022.04.28&cluster_rank=109&mynews=0&office_type=0&office_section_code=0&news_office_checked=&nso=so:r,p:from20220329to20220428,a:all&start=1'"
      ]
     },
     "execution_count": 365,
     "metadata": {},
     "output_type": "execute_result"
    }
   ],
   "source": [
    "driver.current_url"
   ]
  },
  {
   "cell_type": "code",
   "execution_count": null,
   "id": "7d1f2d95",
   "metadata": {
    "id": "7d1f2d95",
    "outputId": "d5b284ad-7be3-455f-c030-30c9f1555785"
   },
   "outputs": [
    {
     "ename": "AttributeError",
     "evalue": "'WebDriver' object has no attribute 'switch_to_window'",
     "output_type": "error",
     "traceback": [
      "\u001b[1;31m---------------------------------------------------------------------------\u001b[0m",
      "\u001b[1;31mAttributeError\u001b[0m                            Traceback (most recent call last)",
      "\u001b[1;32m~\\AppData\\Local\\Temp/ipykernel_14212/2428077184.py\u001b[0m in \u001b[0;36m<module>\u001b[1;34m\u001b[0m\n\u001b[0;32m      1\u001b[0m \u001b[1;32mwhile\u001b[0m \u001b[0mlen\u001b[0m\u001b[1;33m(\u001b[0m\u001b[0mtabs\u001b[0m\u001b[1;33m)\u001b[0m \u001b[1;33m!=\u001b[0m \u001b[1;36m1\u001b[0m\u001b[1;33m:\u001b[0m\u001b[1;33m\u001b[0m\u001b[1;33m\u001b[0m\u001b[0m\n\u001b[1;32m----> 2\u001b[1;33m     \u001b[0mdriver\u001b[0m\u001b[1;33m.\u001b[0m\u001b[0mswitch_to_window\u001b[0m\u001b[1;33m(\u001b[0m\u001b[0mtabs\u001b[0m\u001b[1;33m[\u001b[0m\u001b[1;36m1\u001b[0m\u001b[1;33m]\u001b[0m\u001b[1;33m)\u001b[0m\u001b[1;33m\u001b[0m\u001b[1;33m\u001b[0m\u001b[0m\n\u001b[0m\u001b[0;32m      3\u001b[0m     \u001b[0mdriver\u001b[0m\u001b[1;33m.\u001b[0m\u001b[0mclose\u001b[0m\u001b[1;33m(\u001b[0m\u001b[1;33m)\u001b[0m\u001b[1;33m\u001b[0m\u001b[1;33m\u001b[0m\u001b[0m\n",
      "\u001b[1;31mAttributeError\u001b[0m: 'WebDriver' object has no attribute 'switch_to_window'"
     ]
    }
   ],
   "source": [
    "while len(tabs) != 1:\n",
    "    driver.switch_to_window(tabs[1])\n",
    "    driver.close()"
   ]
  },
  {
   "cell_type": "code",
   "execution_count": null,
   "id": "a4f33343",
   "metadata": {
    "id": "a4f33343",
    "outputId": "1884c479-8d2c-4edf-8bb0-e09bab92637f",
    "scrolled": true
   },
   "outputs": [
    {
     "data": {
      "text/plain": [
       "'     문서 저장하기  Keep에 저장 Keep 바로가기  비즈니스포스트7일 전 코스피 코스닥 동반상승 출발, 영화금속 포바이포 골드앤에스 급등   시가총액 상위종목에서는 LG에너지솔루션(0.12%), SK하이닉스(0.92%), 삼성바이오로직스(1.73%), 네이버(0.... 실시간 급등주는 포바이포(30.00%), 골드앤에스(30.00%), 덕신하우징(23.77%), 삼보산업(21.82%) 등이다....  '"
      ]
     },
     "execution_count": 357,
     "metadata": {},
     "output_type": "execute_result"
    }
   ],
   "source": [
    "aaaa[1].text"
   ]
  },
  {
   "cell_type": "code",
   "execution_count": null,
   "id": "728a04c3",
   "metadata": {
    "id": "728a04c3"
   },
   "outputs": [],
   "source": [
    "cur_url = driver.current_url\n",
    "response = requests.get(cur_url,headers={'User-Agent':'Mozilla/5.0'})\n",
    "html = response.text\n",
    "soup = BeautifulSoup(html, 'html.parser')\n",
    "a = soup.select('#sp_rns1 > div > div > div.news_info > div.info_group')"
   ]
  },
  {
   "cell_type": "code",
   "execution_count": null,
   "id": "9562a753",
   "metadata": {
    "id": "9562a753",
    "outputId": "d7d7c043-7160-46ca-c710-693550921e9c"
   },
   "outputs": [
    {
     "data": {
      "text/plain": [
       "[<div class=\"info_group\"> <a class=\"info press\" href=\"https://www.yna.co.kr/\" onclick=\"return goOtherCR(this, 'a=rns*e.prof&amp;r=1&amp;i=880000D8_000000000000000013127094&amp;g=001.0013127094&amp;u='+urlencode(this.href));\" target=\"_blank\"><span class=\"thumb_box\"><img alt=\"\" class=\"thumb\" height=\"20\" onerror=\"this.src='data:image/gif;base64,R0lGODlhAQABAIAAAAAAAP///yH5BAEAAAAALAAAAAABAAEAAAIBRAA7';this.className='thumb bg_default_press'\" src=\"https://search.pstatic.net/common/?src=https%3A%2F%2Fmimgnews.pstatic.net%2Fimage%2Fupload%2Foffice_logo%2F001%2F2017%2F06%2F29%2Flogo_001_18_20170629160329.png&amp;type=f54_54&amp;expire=24&amp;refresh=true\" width=\"20\"/></span>연합뉴스</a><span class=\"info\">2022.04.20.</span><a class=\"info\" href=\"https://news.naver.com/main/read.naver?mode=LSD&amp;mid=sec&amp;sid1=101&amp;oid=001&amp;aid=0013127094\" onclick=\"return goOtherCR(this, 'a=rns*e.nav&amp;r=1&amp;i=880000D8_000000000000000013127094&amp;u='+urlencode(this.href));\" target=\"_blank\">네이버뉴스</a> </div>]"
      ]
     },
     "execution_count": 292,
     "metadata": {},
     "output_type": "execute_result"
    }
   ],
   "source": [
    "a#sp_rns2 > div > div > div.news_info > div.info_group"
   ]
  },
  {
   "cell_type": "code",
   "execution_count": null,
   "id": "b3c390f5",
   "metadata": {
    "id": "b3c390f5",
    "outputId": "68b1a8f8-b0b9-4f88-b0ac-a73aa24977de",
    "scrolled": true
   },
   "outputs": [
    {
     "name": "stderr",
     "output_type": "stream",
     "text": [
      "C:\\Users\\82109\\AppData\\Local\\Temp/ipykernel_14212/3180205169.py:1: DeprecationWarning: find_element_by_xpath is deprecated. Please use find_element(by=By.XPATH, value=xpath) instead\n",
      "  driver.find_element_by_xpath('//*[@id=\"dic_area\"]')\n"
     ]
    },
    {
     "ename": "NoSuchElementException",
     "evalue": "Message: no such element: Unable to locate element: {\"method\":\"xpath\",\"selector\":\"//*[@id=\"dic_area\"]\"}\n  (Session info: chrome=100.0.4896.127)\nStacktrace:\nBacktrace:\n\tOrdinal0 [0x00DE7413+2389011]\n\tOrdinal0 [0x00D79F61+1941345]\n\tOrdinal0 [0x00C6C658+837208]\n\tOrdinal0 [0x00C991DD+1020381]\n\tOrdinal0 [0x00C9949B+1021083]\n\tOrdinal0 [0x00CC6032+1204274]\n\tOrdinal0 [0x00CB4194+1130900]\n\tOrdinal0 [0x00CC4302+1196802]\n\tOrdinal0 [0x00CB3F66+1130342]\n\tOrdinal0 [0x00C8E546+976198]\n\tOrdinal0 [0x00C8F456+980054]\n\tGetHandleVerifier [0x00F99632+1727522]\n\tGetHandleVerifier [0x0104BA4D+2457661]\n\tGetHandleVerifier [0x00E7EB81+569713]\n\tGetHandleVerifier [0x00E7DD76+566118]\n\tOrdinal0 [0x00D80B2B+1968939]\n\tOrdinal0 [0x00D85988+1989000]\n\tOrdinal0 [0x00D85A75+1989237]\n\tOrdinal0 [0x00D8ECB1+2026673]\n\tBaseThreadInitThunk [0x741D8674+36]\n\tRtlGetAppContainerNamedObjectPath [0x777E5E17+311]\n\tRtlGetAppContainerNamedObjectPath [0x777E5DE7+263]\n",
     "output_type": "error",
     "traceback": [
      "\u001b[1;31m---------------------------------------------------------------------------\u001b[0m",
      "\u001b[1;31mNoSuchElementException\u001b[0m                    Traceback (most recent call last)",
      "\u001b[1;32m~\\AppData\\Local\\Temp/ipykernel_14212/3180205169.py\u001b[0m in \u001b[0;36m<module>\u001b[1;34m\u001b[0m\n\u001b[1;32m----> 1\u001b[1;33m \u001b[0mdriver\u001b[0m\u001b[1;33m.\u001b[0m\u001b[0mfind_element_by_xpath\u001b[0m\u001b[1;33m(\u001b[0m\u001b[1;34m'//*[@id=\"dic_area\"]'\u001b[0m\u001b[1;33m)\u001b[0m\u001b[1;33m\u001b[0m\u001b[1;33m\u001b[0m\u001b[0m\n\u001b[0m\u001b[0;32m      2\u001b[0m \u001b[1;33m\u001b[0m\u001b[0m\n\u001b[0;32m      3\u001b[0m \u001b[1;31m# /html/body/div[3]/div[2]/div/div[1]/section[1]/div/div[2]/ul/li[2]/div/div/div[1]/div[2]/a[2]\u001b[0m\u001b[1;33m\u001b[0m\u001b[1;33m\u001b[0m\u001b[0m\n",
      "\u001b[1;32m~\\anaconda3\\lib\\site-packages\\selenium\\webdriver\\remote\\webdriver.py\u001b[0m in \u001b[0;36mfind_element_by_xpath\u001b[1;34m(self, xpath)\u001b[0m\n\u001b[0;32m    519\u001b[0m             \u001b[0mstacklevel\u001b[0m\u001b[1;33m=\u001b[0m\u001b[1;36m2\u001b[0m\u001b[1;33m,\u001b[0m\u001b[1;33m\u001b[0m\u001b[1;33m\u001b[0m\u001b[0m\n\u001b[0;32m    520\u001b[0m         )\n\u001b[1;32m--> 521\u001b[1;33m         \u001b[1;32mreturn\u001b[0m \u001b[0mself\u001b[0m\u001b[1;33m.\u001b[0m\u001b[0mfind_element\u001b[0m\u001b[1;33m(\u001b[0m\u001b[0mby\u001b[0m\u001b[1;33m=\u001b[0m\u001b[0mBy\u001b[0m\u001b[1;33m.\u001b[0m\u001b[0mXPATH\u001b[0m\u001b[1;33m,\u001b[0m \u001b[0mvalue\u001b[0m\u001b[1;33m=\u001b[0m\u001b[0mxpath\u001b[0m\u001b[1;33m)\u001b[0m\u001b[1;33m\u001b[0m\u001b[1;33m\u001b[0m\u001b[0m\n\u001b[0m\u001b[0;32m    522\u001b[0m \u001b[1;33m\u001b[0m\u001b[0m\n\u001b[0;32m    523\u001b[0m     \u001b[1;32mdef\u001b[0m \u001b[0mfind_elements_by_xpath\u001b[0m\u001b[1;33m(\u001b[0m\u001b[0mself\u001b[0m\u001b[1;33m,\u001b[0m \u001b[0mxpath\u001b[0m\u001b[1;33m)\u001b[0m \u001b[1;33m->\u001b[0m \u001b[0mList\u001b[0m\u001b[1;33m[\u001b[0m\u001b[0mWebElement\u001b[0m\u001b[1;33m]\u001b[0m\u001b[1;33m:\u001b[0m\u001b[1;33m\u001b[0m\u001b[1;33m\u001b[0m\u001b[0m\n",
      "\u001b[1;32m~\\anaconda3\\lib\\site-packages\\selenium\\webdriver\\remote\\webdriver.py\u001b[0m in \u001b[0;36mfind_element\u001b[1;34m(self, by, value)\u001b[0m\n\u001b[0;32m   1246\u001b[0m             \u001b[0mvalue\u001b[0m \u001b[1;33m=\u001b[0m \u001b[1;34m'[name=\"%s\"]'\u001b[0m \u001b[1;33m%\u001b[0m \u001b[0mvalue\u001b[0m\u001b[1;33m\u001b[0m\u001b[1;33m\u001b[0m\u001b[0m\n\u001b[0;32m   1247\u001b[0m \u001b[1;33m\u001b[0m\u001b[0m\n\u001b[1;32m-> 1248\u001b[1;33m         return self.execute(Command.FIND_ELEMENT, {\n\u001b[0m\u001b[0;32m   1249\u001b[0m             \u001b[1;34m'using'\u001b[0m\u001b[1;33m:\u001b[0m \u001b[0mby\u001b[0m\u001b[1;33m,\u001b[0m\u001b[1;33m\u001b[0m\u001b[1;33m\u001b[0m\u001b[0m\n\u001b[0;32m   1250\u001b[0m             'value': value})['value']\n",
      "\u001b[1;32m~\\anaconda3\\lib\\site-packages\\selenium\\webdriver\\remote\\webdriver.py\u001b[0m in \u001b[0;36mexecute\u001b[1;34m(self, driver_command, params)\u001b[0m\n\u001b[0;32m    423\u001b[0m         \u001b[0mresponse\u001b[0m \u001b[1;33m=\u001b[0m \u001b[0mself\u001b[0m\u001b[1;33m.\u001b[0m\u001b[0mcommand_executor\u001b[0m\u001b[1;33m.\u001b[0m\u001b[0mexecute\u001b[0m\u001b[1;33m(\u001b[0m\u001b[0mdriver_command\u001b[0m\u001b[1;33m,\u001b[0m \u001b[0mparams\u001b[0m\u001b[1;33m)\u001b[0m\u001b[1;33m\u001b[0m\u001b[1;33m\u001b[0m\u001b[0m\n\u001b[0;32m    424\u001b[0m         \u001b[1;32mif\u001b[0m \u001b[0mresponse\u001b[0m\u001b[1;33m:\u001b[0m\u001b[1;33m\u001b[0m\u001b[1;33m\u001b[0m\u001b[0m\n\u001b[1;32m--> 425\u001b[1;33m             \u001b[0mself\u001b[0m\u001b[1;33m.\u001b[0m\u001b[0merror_handler\u001b[0m\u001b[1;33m.\u001b[0m\u001b[0mcheck_response\u001b[0m\u001b[1;33m(\u001b[0m\u001b[0mresponse\u001b[0m\u001b[1;33m)\u001b[0m\u001b[1;33m\u001b[0m\u001b[1;33m\u001b[0m\u001b[0m\n\u001b[0m\u001b[0;32m    426\u001b[0m             response['value'] = self._unwrap_value(\n\u001b[0;32m    427\u001b[0m                 response.get('value', None))\n",
      "\u001b[1;32m~\\anaconda3\\lib\\site-packages\\selenium\\webdriver\\remote\\errorhandler.py\u001b[0m in \u001b[0;36mcheck_response\u001b[1;34m(self, response)\u001b[0m\n\u001b[0;32m    245\u001b[0m                 \u001b[0malert_text\u001b[0m \u001b[1;33m=\u001b[0m \u001b[0mvalue\u001b[0m\u001b[1;33m[\u001b[0m\u001b[1;34m'alert'\u001b[0m\u001b[1;33m]\u001b[0m\u001b[1;33m.\u001b[0m\u001b[0mget\u001b[0m\u001b[1;33m(\u001b[0m\u001b[1;34m'text'\u001b[0m\u001b[1;33m)\u001b[0m\u001b[1;33m\u001b[0m\u001b[1;33m\u001b[0m\u001b[0m\n\u001b[0;32m    246\u001b[0m             \u001b[1;32mraise\u001b[0m \u001b[0mexception_class\u001b[0m\u001b[1;33m(\u001b[0m\u001b[0mmessage\u001b[0m\u001b[1;33m,\u001b[0m \u001b[0mscreen\u001b[0m\u001b[1;33m,\u001b[0m \u001b[0mstacktrace\u001b[0m\u001b[1;33m,\u001b[0m \u001b[0malert_text\u001b[0m\u001b[1;33m)\u001b[0m  \u001b[1;31m# type: ignore[call-arg]  # mypy is not smart enough here\u001b[0m\u001b[1;33m\u001b[0m\u001b[1;33m\u001b[0m\u001b[0m\n\u001b[1;32m--> 247\u001b[1;33m         \u001b[1;32mraise\u001b[0m \u001b[0mexception_class\u001b[0m\u001b[1;33m(\u001b[0m\u001b[0mmessage\u001b[0m\u001b[1;33m,\u001b[0m \u001b[0mscreen\u001b[0m\u001b[1;33m,\u001b[0m \u001b[0mstacktrace\u001b[0m\u001b[1;33m)\u001b[0m\u001b[1;33m\u001b[0m\u001b[1;33m\u001b[0m\u001b[0m\n\u001b[0m\u001b[0;32m    248\u001b[0m \u001b[1;33m\u001b[0m\u001b[0m\n\u001b[0;32m    249\u001b[0m     \u001b[1;32mdef\u001b[0m \u001b[0m_value_or_default\u001b[0m\u001b[1;33m(\u001b[0m\u001b[0mself\u001b[0m\u001b[1;33m,\u001b[0m \u001b[0mobj\u001b[0m\u001b[1;33m:\u001b[0m \u001b[0mMapping\u001b[0m\u001b[1;33m[\u001b[0m\u001b[0m_KT\u001b[0m\u001b[1;33m,\u001b[0m \u001b[0m_VT\u001b[0m\u001b[1;33m]\u001b[0m\u001b[1;33m,\u001b[0m \u001b[0mkey\u001b[0m\u001b[1;33m:\u001b[0m \u001b[0m_KT\u001b[0m\u001b[1;33m,\u001b[0m \u001b[0mdefault\u001b[0m\u001b[1;33m:\u001b[0m \u001b[0m_VT\u001b[0m\u001b[1;33m)\u001b[0m \u001b[1;33m->\u001b[0m \u001b[0m_VT\u001b[0m\u001b[1;33m:\u001b[0m\u001b[1;33m\u001b[0m\u001b[1;33m\u001b[0m\u001b[0m\n",
      "\u001b[1;31mNoSuchElementException\u001b[0m: Message: no such element: Unable to locate element: {\"method\":\"xpath\",\"selector\":\"//*[@id=\"dic_area\"]\"}\n  (Session info: chrome=100.0.4896.127)\nStacktrace:\nBacktrace:\n\tOrdinal0 [0x00DE7413+2389011]\n\tOrdinal0 [0x00D79F61+1941345]\n\tOrdinal0 [0x00C6C658+837208]\n\tOrdinal0 [0x00C991DD+1020381]\n\tOrdinal0 [0x00C9949B+1021083]\n\tOrdinal0 [0x00CC6032+1204274]\n\tOrdinal0 [0x00CB4194+1130900]\n\tOrdinal0 [0x00CC4302+1196802]\n\tOrdinal0 [0x00CB3F66+1130342]\n\tOrdinal0 [0x00C8E546+976198]\n\tOrdinal0 [0x00C8F456+980054]\n\tGetHandleVerifier [0x00F99632+1727522]\n\tGetHandleVerifier [0x0104BA4D+2457661]\n\tGetHandleVerifier [0x00E7EB81+569713]\n\tGetHandleVerifier [0x00E7DD76+566118]\n\tOrdinal0 [0x00D80B2B+1968939]\n\tOrdinal0 [0x00D85988+1989000]\n\tOrdinal0 [0x00D85A75+1989237]\n\tOrdinal0 [0x00D8ECB1+2026673]\n\tBaseThreadInitThunk [0x741D8674+36]\n\tRtlGetAppContainerNamedObjectPath [0x777E5E17+311]\n\tRtlGetAppContainerNamedObjectPath [0x777E5DE7+263]\n"
     ]
    }
   ],
   "source": [
    "driver.find_element_by_xpath('//*[@id=\"dic_area\"]')\n",
    "\n",
    "# /html/body/div[3]/div[2]/div/div[1]/section[1]/div/div[2]/ul/li[2]/div/div/div[1]/div[2]/a[2]"
   ]
  },
  {
   "cell_type": "code",
   "execution_count": null,
   "id": "c382d6ce",
   "metadata": {
    "id": "c382d6ce",
    "outputId": "02ec8c61-9b79-41d6-d15e-aad395f8de39",
    "scrolled": true
   },
   "outputs": [
    {
     "data": {
      "text/plain": [
       "1"
      ]
     },
     "execution_count": 236,
     "metadata": {},
     "output_type": "execute_result"
    }
   ],
   "source": [
    "soup.select(\"#main_pack > section.sc_new.sp_nnews._prs_nws > div > div.group_news > ul > li\")[4]"
   ]
  },
  {
   "cell_type": "code",
   "execution_count": null,
   "id": "6d31b791",
   "metadata": {
    "id": "6d31b791",
    "outputId": "e11d45ed-6455-4443-9f6d-c2646ae30507"
   },
   "outputs": [
    {
     "data": {
      "text/plain": [
       "'2022.04.26.'"
      ]
     },
     "execution_count": 221,
     "metadata": {},
     "output_type": "execute_result"
    }
   ],
   "source": [
    "# 매체 이름\n",
    "media_name = soup.select(\"#main_pack > section.sc_new.sp_nnews._prs_nws > div > div.group_news > ul > li > div > div > div > div.info_group > a\")[0].text\n",
    "\n",
    "# 뉴스 날짜\n",
    "media_date = soup.select(\"#main_pack > section.sc_new.sp_nnews._prs_nws > div > div.group_news > ul > li > div > div > div > div.info_group > span\")[0].text"
   ]
  },
  {
   "cell_type": "code",
   "execution_count": null,
   "id": "acde2754",
   "metadata": {
    "id": "acde2754",
    "outputId": "f24593e6-e991-4b52-94ef-0b53bd65dbf3",
    "scrolled": true
   },
   "outputs": [
    {
     "data": {
      "text/plain": [
       "[<li class=\"bx\" id=\"sp_rns1\"> <div class=\"news_wrap api_ani_send\"> <div class=\"news_area\"> <div class=\"news_info\"> <div class=\"api_save_group _keep_wrap\"> <a aria-pressed=\"false\" class=\"btn_save _keep_trigger\" data-url=\"https://www.yna.co.kr/view/AKR20220420154600002?input=1195m\" href=\"#\" onclick=\"tCR('a=rns*e.kep&amp;r=1&amp;i=880000D8_000000000000000013127094&amp;u=javascript'); return false;\" role=\"button\"><i class=\"spnew ico_save\">문서 저장하기</i></a> <div class=\"api_ly_save _keep_save_layer\"> <a class=\"spnew_af item item_save _keep_save\" data-cr-off=\"a=rns*e.kepoff&amp;r=1&amp;i=880000D8_000000000000000013127094&amp;u=javascript\" data-cr-on=\"a=rns*e.kepon&amp;r=1&amp;i=880000D8_000000000000000013127094&amp;u=javascript\" href=\"#\" role=\"button\">Keep에 저장</a> <a class=\"spnew_af item item_quick\" href=\"https://keep.naver.com/\" onclick=\"return goOtherCR(this,'a=rns*e.kephome&amp;r=1&amp;i=880000D8_000000000000000013127094&amp;u='+urlencode(this.href));\" target=\"_blank\">Keep 바로가기</a> </div></div><div class=\"info_group\"> <a class=\"info press\" href=\"https://www.yna.co.kr/\" onclick=\"return goOtherCR(this, 'a=rns*e.prof&amp;r=1&amp;i=880000D8_000000000000000013127094&amp;g=001.0013127094&amp;u='+urlencode(this.href));\" target=\"_blank\"><span class=\"thumb_box\"><img alt=\"\" class=\"thumb\" height=\"20\" onerror=\"this.src='data:image/gif;base64,R0lGODlhAQABAIAAAAAAAP///yH5BAEAAAAALAAAAAABAAEAAAIBRAA7';this.className='thumb bg_default_press'\" src=\"https://search.pstatic.net/common/?src=https%3A%2F%2Fmimgnews.pstatic.net%2Fimage%2Fupload%2Foffice_logo%2F001%2F2017%2F06%2F29%2Flogo_001_18_20170629160329.png&amp;type=f54_54&amp;expire=24&amp;refresh=true\" width=\"20\"/></span>연합뉴스</a><span class=\"info\">2022.04.20.</span><a class=\"info\" href=\"https://news.naver.com/main/read.naver?mode=LSD&amp;mid=sec&amp;sid1=101&amp;oid=001&amp;aid=0013127094\" onclick=\"return goOtherCR(this, 'a=rns*e.nav&amp;r=1&amp;i=880000D8_000000000000000013127094&amp;u='+urlencode(this.href));\" target=\"_blank\">네이버뉴스</a> </div></div><a class=\"news_tit\" href=\"https://www.yna.co.kr/view/AKR20220420154600002?input=1195m\" onclick=\"return goOtherCR(this, 'a=rns*e.tit&amp;r=1&amp;i=880000D8_000000000000000013127094&amp;g=001.0013127094&amp;u='+urlencode(this.href));\" target=\"_blank\" title=\"포바이포, 청약 경쟁률 3천763대 1…증거금 14조원 몰려\"><mark>포바이포</mark>, 청약 경쟁률 3천763대 1…증거금 14조원 몰려</a> <div class=\"news_dsc\"> <div class=\"dsc_wrap\"> <a class=\"api_txt_lines dsc_txt_wrap\" href=\"https://www.yna.co.kr/view/AKR20220420154600002?input=1195m\" onclick=\"return goOtherCR(this, 'a=rns*e.body&amp;r=1&amp;i=880000D8_000000000000000013127094&amp;g=001.0013127094&amp;u='+urlencode(this.href));\" target=\"_blank\">실감형 콘텐츠 제작 전문기업 <mark>포바이포</mark>는 19∼20일 일반 투자자를 대상으로 공모주 청약을 진행한 결과... <mark>포바이포</mark>는 앞서 기관투자자 수요예측에서도 1천846대 1의 경쟁률을 기록하며 공모 희망가 상단 초과인...</a> </div></div></div><a class=\"dsc_thumb\" href=\"https://www.yna.co.kr/view/AKR20220420154600002?input=1195m\" onclick=\"return goOtherCR(this, 'a=rns*e.img&amp;r=1&amp;i=880000D8_000000000000000013127094&amp;g=001.0013127094&amp;u='+urlencode(this.href));\" target=\"_blank\"><img alt=\"포바이포, 청약 경쟁률\" class=\"thumb api_get\" height=\"90\" onerror=\"this.parentNode.style.display='none';\" src=\"https://search.pstatic.net/common/?src=https%3A%2F%2Fimgnews.pstatic.net%2Fimage%2Forigin%2F001%2F2022%2F04%2F20%2F13127094.jpg&amp;type=ff264_180&amp;expire=2&amp;refresh=true\" width=\"132\"/></a> </div></li>,\n",
       " <li class=\"bx\" id=\"sp_rns2\"> <div class=\"news_wrap api_ani_send\"> <div class=\"news_area\"> <div class=\"news_info\"> <div class=\"api_save_group _keep_wrap\"> <a aria-pressed=\"false\" class=\"btn_save _keep_trigger\" data-url=\"https://www.hankyung.com/economy/article/2022042006061\" href=\"#\" onclick=\"tCR('a=rns*j.kep&amp;r=2&amp;i=88000107_000000000000000004688406&amp;u=javascript'); return false;\" role=\"button\"><i class=\"spnew ico_save\">문서 저장하기</i></a> <div class=\"api_ly_save _keep_save_layer\"> <a class=\"spnew_af item item_save _keep_save\" data-cr-off=\"a=rns*j.kepoff&amp;r=2&amp;i=88000107_000000000000000004688406&amp;u=javascript\" data-cr-on=\"a=rns*j.kepon&amp;r=2&amp;i=88000107_000000000000000004688406&amp;u=javascript\" href=\"#\" role=\"button\">Keep에 저장</a> <a class=\"spnew_af item item_quick\" href=\"https://keep.naver.com/\" onclick=\"return goOtherCR(this,'a=rns*j.kephome&amp;r=2&amp;i=88000107_000000000000000004688406&amp;u='+urlencode(this.href));\" target=\"_blank\">Keep 바로가기</a> </div></div><div class=\"info_group\"> <a class=\"info press\" href=\"http://www.hankyung.com/\" onclick=\"return goOtherCR(this, 'a=rns*j.prof&amp;r=2&amp;i=88000107_000000000000000004688406&amp;g=015.0004688406&amp;u='+urlencode(this.href));\" target=\"_blank\"><span class=\"thumb_box\"><img alt=\"\" class=\"thumb\" height=\"20\" onerror=\"this.src='data:image/gif;base64,R0lGODlhAQABAIAAAAAAAP///yH5BAEAAAAALAAAAAABAAEAAAIBRAA7';this.className='thumb bg_default_press'\" src=\"https://search.pstatic.net/common/?src=https%3A%2F%2Fmimgnews.pstatic.net%2Fimage%2Fupload%2Foffice_logo%2F015%2F2018%2F08%2F01%2Flogo_015_18_20180801163901.png&amp;type=f54_54&amp;expire=24&amp;refresh=true\" width=\"20\"/></span>한국경제<i class=\"spnew ico_pick\">언론사 선정</i></a><span class=\"info\"><i class=\"spnew ico_paper\"></i>A17면 1단</span><span class=\"info\">2022.04.20.</span><a class=\"info\" href=\"https://news.naver.com/main/read.naver?mode=LSD&amp;mid=sec&amp;sid1=101&amp;oid=015&amp;aid=0004688406\" onclick=\"return goOtherCR(this, 'a=rns*j.nav&amp;r=2&amp;i=88000107_000000000000000004688406&amp;u='+urlencode(this.href));\" target=\"_blank\">네이버뉴스</a> </div></div><a class=\"news_tit\" href=\"https://www.hankyung.com/economy/article/2022042006061\" onclick=\"return goOtherCR(this, 'a=rns*j.tit&amp;r=2&amp;i=88000107_000000000000000004688406&amp;g=015.0004688406&amp;u='+urlencode(this.href));\" target=\"_blank\" title=\"IPO 시장 다시 불붙나…포바이포에 14조 몰렸다\">IPO 시장 다시 불붙나…<mark>포바이포</mark>에 14조 몰렸다</a> <div class=\"news_dsc\"> <div class=\"dsc_wrap\"> <a class=\"api_txt_lines dsc_txt_wrap\" href=\"https://www.hankyung.com/economy/article/2022042006061\" onclick=\"return goOtherCR(this, 'a=rns*j.body&amp;r=2&amp;i=88000107_000000000000000004688406&amp;g=015.0004688406&amp;u='+urlencode(this.href));\" target=\"_blank\">콘텐츠 제작업체 <mark>포바이포</mark>의 일반청약에 14조여원의 증거금이 몰렸다. 한동안 움츠러들었던 공모주 투자 열기가 다시 불붙고 있다는 분석이 나온다. <mark>포바이포</mark>는 19~20일 코스닥시장 상장을 위해 개인 투자자를...</a> </div></div></div><a class=\"dsc_thumb\" href=\"https://www.hankyung.com/economy/article/2022042006061\" onclick=\"return goOtherCR(this, 'a=rns*j.img&amp;r=2&amp;i=88000107_000000000000000004688406&amp;g=015.0004688406&amp;u='+urlencode(this.href));\" target=\"_blank\"><img alt=\"IPO 시장 다시 불붙나\" class=\"thumb api_get\" height=\"90\" onerror=\"this.parentNode.style.display='none';\" src=\"https://search.pstatic.net/common/?src=https%3A%2F%2Fimgnews.pstatic.net%2Fimage%2Forigin%2F015%2F2022%2F04%2F20%2F4688406.jpg&amp;type=ff264_180&amp;expire=2&amp;refresh=true\" width=\"132\"/></a> </div></li>,\n",
       " <li class=\"bx\" id=\"sp_rns3\"> <div class=\"news_wrap api_ani_send\"> <div class=\"news_area\"> <div class=\"news_info\"> <div class=\"api_save_group _keep_wrap\"> <a aria-pressed=\"false\" class=\"btn_save _keep_trigger\" data-url=\"http://www.edaily.co.kr/news/newspath.asp?newsid=03716246632298088\" href=\"#\" onclick=\"tCR('a=rns*e.kep&amp;r=3&amp;i=880000E7_000000000000000005195925&amp;u=javascript'); return false;\" role=\"button\"><i class=\"spnew ico_save\">문서 저장하기</i></a> <div class=\"api_ly_save _keep_save_layer\"> <a class=\"spnew_af item item_save _keep_save\" data-cr-off=\"a=rns*e.kepoff&amp;r=3&amp;i=880000E7_000000000000000005195925&amp;u=javascript\" data-cr-on=\"a=rns*e.kepon&amp;r=3&amp;i=880000E7_000000000000000005195925&amp;u=javascript\" href=\"#\" role=\"button\">Keep에 저장</a> <a class=\"spnew_af item item_quick\" href=\"https://keep.naver.com/\" onclick=\"return goOtherCR(this,'a=rns*e.kephome&amp;r=3&amp;i=880000E7_000000000000000005195925&amp;u='+urlencode(this.href));\" target=\"_blank\">Keep 바로가기</a> </div></div><div class=\"info_group\"> <a class=\"info press\" href=\"http://www.edaily.co.kr/\" onclick=\"return goOtherCR(this, 'a=rns*e.prof&amp;r=3&amp;i=880000E7_000000000000000005195925&amp;g=018.0005195925&amp;u='+urlencode(this.href));\" target=\"_blank\"><span class=\"thumb_box\"><img alt=\"\" class=\"thumb\" height=\"20\" onerror=\"this.src='data:image/gif;base64,R0lGODlhAQABAIAAAAAAAP///yH5BAEAAAAALAAAAAABAAEAAAIBRAA7';this.className='thumb bg_default_press'\" src=\"https://search.pstatic.net/common/?src=https%3A%2F%2Fmimgnews.pstatic.net%2Fimage%2Fupload%2Foffice_logo%2F018%2F2017%2F01%2F05%2Flogo_018_18_20170105111205.png&amp;type=f54_54&amp;expire=24&amp;refresh=true\" width=\"20\"/></span>이데일리</a><span class=\"info\">2022.04.20.</span><a class=\"info\" href=\"https://news.naver.com/main/read.naver?mode=LSD&amp;mid=sec&amp;sid1=101&amp;oid=018&amp;aid=0005195925\" onclick=\"return goOtherCR(this, 'a=rns*e.nav&amp;r=3&amp;i=880000E7_000000000000000005195925&amp;u='+urlencode(this.href));\" target=\"_blank\">네이버뉴스</a> </div></div><a class=\"news_tit\" href=\"http://www.edaily.co.kr/news/newspath.asp?newsid=03716246632298088\" onclick=\"return goOtherCR(this, 'a=rns*e.tit&amp;r=3&amp;i=880000E7_000000000000000005195925&amp;g=018.0005195925&amp;u='+urlencode(this.href));\" target=\"_blank\" title=\"포바이포, 일반 청약 경쟁률 3763대1...흥행 성공\"><mark>포바이포</mark>, 일반 청약 경쟁률 3763대1...흥행 성공</a> <div class=\"news_dsc\"> <div class=\"dsc_wrap\"> <a class=\"api_txt_lines dsc_txt_wrap\" href=\"http://www.edaily.co.kr/news/newspath.asp?newsid=03716246632298088\" onclick=\"return goOtherCR(this, 'a=rns*e.body&amp;r=3&amp;i=880000E7_000000000000000005195925&amp;g=018.0005195925&amp;u='+urlencode(this.href));\" target=\"_blank\">코스닥 상장을 앞둔 <mark>포바이포</mark>가 일반 청약에서도 흥행에 성공하며 3763대1을 기록했다. 20일 <mark>포바이포</mark>는 419~20일 양일간 일반 투자자를 대상으로 전체 공모 물량 중 25%(44만3742주)에 대해 공모주 청약을 진행한 결과...</a> </div></div></div><a class=\"dsc_thumb\" href=\"http://www.edaily.co.kr/news/newspath.asp?newsid=03716246632298088\" onclick=\"return goOtherCR(this, 'a=rns*e.img&amp;r=3&amp;i=880000E7_000000000000000005195925&amp;g=018.0005195925&amp;u='+urlencode(this.href));\" target=\"_blank\"><img alt=\"포바이포, 일반 청약 \" class=\"thumb api_get\" height=\"90\" onerror=\"this.parentNode.style.display='none';\" src=\"https://search.pstatic.net/common/?src=https%3A%2F%2Fimgnews.pstatic.net%2Fimage%2Forigin%2F018%2F2022%2F04%2F20%2F5195925.jpg&amp;type=ff264_180&amp;expire=2&amp;refresh=true\" width=\"132\"/></a> </div></li>,\n",
       " <li class=\"bx\" id=\"sp_rns4\"> <div class=\"news_wrap api_ani_send\"> <div class=\"news_area\"> <div class=\"news_info\"> <div class=\"api_save_group _keep_wrap\"> <a aria-pressed=\"false\" class=\"btn_save _keep_trigger\" data-url=\"https://www.ajunews.com/view/20220420180726471\" href=\"#\" onclick=\"tCR('a=rns*f.kep&amp;r=4&amp;i=8800058B_000000000000000002128543&amp;u=javascript'); return false;\" role=\"button\"><i class=\"spnew ico_save\">문서 저장하기</i></a> <div class=\"api_ly_save _keep_save_layer\"> <a class=\"spnew_af item item_save _keep_save\" data-cr-off=\"a=rns*f.kepoff&amp;r=4&amp;i=8800058B_000000000000000002128543&amp;u=javascript\" data-cr-on=\"a=rns*f.kepon&amp;r=4&amp;i=8800058B_000000000000000002128543&amp;u=javascript\" href=\"#\" role=\"button\">Keep에 저장</a> <a class=\"spnew_af item item_quick\" href=\"https://keep.naver.com/\" onclick=\"return goOtherCR(this,'a=rns*f.kephome&amp;r=4&amp;i=8800058B_000000000000000002128543&amp;u='+urlencode(this.href));\" target=\"_blank\">Keep 바로가기</a> </div></div><div class=\"info_group\"> <a class=\"info press\" href=\"http://www.ajunews.com\" onclick=\"return goOtherCR(this, 'a=rns*f.prof&amp;r=4&amp;i=8800058B_000000000000000002128543&amp;g=5090.0002128543&amp;u='+urlencode(this.href));\" target=\"_blank\"><span class=\"thumb_box\"><img alt=\"\" class=\"thumb\" height=\"20\" onerror=\"this.src='data:image/gif;base64,R0lGODlhAQABAIAAAAAAAP///yH5BAEAAAAALAAAAAABAAEAAAIBRAA7';this.className='thumb bg_default_press'\" src=\"https://search.pstatic.net/common/?src=https%3A%2F%2Fimage.ajunews.com%2Fimages%2Fsite%2Fimg%2Fajunews%2Faju_favicon.ico&amp;type=f54_54&amp;expire=24&amp;refresh=true\" width=\"20\"/></span>아주경제</a><span class=\"info\">2022.04.20.</span> </div></div><a class=\"news_tit\" href=\"https://www.ajunews.com/view/20220420180726471\" onclick=\"return goOtherCR(this, 'a=rns*f.tit&amp;r=4&amp;i=8800058B_000000000000000002128543&amp;g=5090.0002128543&amp;u='+urlencode(this.href));\" target=\"_blank\" title=\"포바이포, 청약 경쟁률 3763대 1··· 올해 들어 최고 기록\"><mark>포바이포</mark>, 청약 경쟁률 3763대 1··· 올해 들어 최고 기록</a> <div class=\"news_dsc\"> <div class=\"dsc_wrap\"> <a class=\"api_txt_lines dsc_txt_wrap\" href=\"https://www.ajunews.com/view/20220420180726471\" onclick=\"return goOtherCR(this, 'a=rns*f.body&amp;r=4&amp;i=8800058B_000000000000000002128543&amp;g=5090.0002128543&amp;u='+urlencode(this.href));\" target=\"_blank\">초고화질 실감형 콘텐츠 제작 기업 <mark>포바이포</mark>가 올해 기업공개(IPO) 청약 경쟁률을 새로 썼다. <mark>포바이포</mark>는 지난 19일부터 이틀간 진행된 일반 투자자 대상 공모주 청약에서 3763대 1의 경쟁률을 기록했다고 20일...</a> </div></div></div><a class=\"dsc_thumb\" href=\"https://www.ajunews.com/view/20220420180726471\" onclick=\"return goOtherCR(this, 'a=rns*f.img&amp;r=4&amp;i=8800058B_000000000000000002128543&amp;g=5090.0002128543&amp;u='+urlencode(this.href));\" target=\"_blank\"><img alt=\"포바이포, 청약 경쟁률\" class=\"thumb api_get\" height=\"90\" onerror=\"this.parentNode.style.display='none';\" src=\"https://search.pstatic.net/common/?src=https%3A%2F%2Fimgnews.pstatic.net%2Fimage%2Forigin%2F5090%2F2022%2F04%2F20%2F2128543.jpg&amp;type=ofullfill264_180_gray&amp;expire=2&amp;refresh=true\" width=\"132\"/></a> </div></li>,\n",
       " <li class=\"bx\" id=\"sp_rns5\"> <div class=\"news_wrap api_ani_send\"> <div class=\"news_area\"> <div class=\"news_info\"> <div class=\"api_save_group _keep_wrap\"> <a aria-pressed=\"false\" class=\"btn_save _keep_trigger\" data-url=\"http://www.newsprime.co.kr/news/article.html?no=565676\" href=\"#\" onclick=\"tCR('a=rns*f.kep&amp;r=5&amp;i=88155e88_000000000000000000255994&amp;u=javascript'); return false;\" role=\"button\"><i class=\"spnew ico_save\">문서 저장하기</i></a> <div class=\"api_ly_save _keep_save_layer\"> <a class=\"spnew_af item item_save _keep_save\" data-cr-off=\"a=rns*f.kepoff&amp;r=5&amp;i=88155e88_000000000000000000255994&amp;u=javascript\" data-cr-on=\"a=rns*f.kepon&amp;r=5&amp;i=88155e88_000000000000000000255994&amp;u=javascript\" href=\"#\" role=\"button\">Keep에 저장</a> <a class=\"spnew_af item item_quick\" href=\"https://keep.naver.com/\" onclick=\"return goOtherCR(this,'a=rns*f.kephome&amp;r=5&amp;i=88155e88_000000000000000000255994&amp;u='+urlencode(this.href));\" target=\"_blank\">Keep 바로가기</a> </div></div><div class=\"info_group\"> <a class=\"info press\" href=\"http://www.newsprime.co.kr\" onclick=\"return goOtherCR(this, 'a=rns*f.prof&amp;r=5&amp;i=88155e88_000000000000000000255994&amp;g=5325.0000255994&amp;u='+urlencode(this.href));\" target=\"_blank\"><span class=\"thumb_box\"><img alt=\"\" class=\"thumb\" height=\"20\" onerror=\"this.src='data:image/gif;base64,R0lGODlhAQABAIAAAAAAAP///yH5BAEAAAAALAAAAAABAAEAAAIBRAA7';this.className='thumb bg_default_press'\" src=\"https://search.pstatic.net/common/?src=http%3A%2F%2Fwww.newsprime.co.kr%2Ffavicon.ico&amp;type=f54_54&amp;expire=24&amp;refresh=true\" width=\"20\"/></span>프라임경제</a><span class=\"info\">2022.04.20.</span> </div></div><a class=\"news_tit\" href=\"http://www.newsprime.co.kr/news/article.html?no=565676\" onclick=\"return goOtherCR(this, 'a=rns*f.tit&amp;r=5&amp;i=88155e88_000000000000000000255994&amp;g=5325.0000255994&amp;u='+urlencode(this.href));\" target=\"_blank\" title=\"포바이포, 일반 청약 경쟁률 3763대 1 기록\"><mark>포바이포</mark>, 일반 청약 경쟁률 3763대 1 기록</a> <div class=\"news_dsc\"> <div class=\"dsc_wrap\"> <a class=\"api_txt_lines dsc_txt_wrap\" href=\"http://www.newsprime.co.kr/news/article.html?no=565676\" onclick=\"return goOtherCR(this, 'a=rns*f.body&amp;r=5&amp;i=88155e88_000000000000000000255994&amp;g=5325.0000255994&amp;u='+urlencode(this.href));\" target=\"_blank\">초고화질 실감형 콘텐츠 제작 전문기업 <mark>포바이포</mark>가 일반 청약 경쟁률 3763대1을 기록했다. <mark>포바이포</mark>는 이달 19일과 20일 이틀간 일반 투자자를 대상으로 전체 공모 물량 중 25%인 44만3742주에 대해 공모주 청약을...</a> </div></div></div><a class=\"dsc_thumb\" href=\"http://www.newsprime.co.kr/news/article.html?no=565676\" onclick=\"return goOtherCR(this, 'a=rns*f.img&amp;r=5&amp;i=88155e88_000000000000000000255994&amp;g=5325.0000255994&amp;u='+urlencode(this.href));\" target=\"_blank\"><img alt=\"포바이포, 일반 청약 \" class=\"thumb api_get\" height=\"90\" onerror=\"this.parentNode.style.display='none';\" src=\"https://search.pstatic.net/common/?src=https%3A%2F%2Fimgnews.pstatic.net%2Fimage%2Forigin%2F5325%2F2022%2F04%2F20%2F255994.jpg&amp;type=ofullfill264_180_gray&amp;expire=2&amp;refresh=true\" width=\"132\"/></a> </div></li>,\n",
       " <li class=\"bx\" id=\"sp_rns6\"> <div class=\"news_wrap api_ani_send\"> <div class=\"news_area\"> <div class=\"news_info\"> <div class=\"api_save_group _keep_wrap\"> <a aria-pressed=\"false\" class=\"btn_save _keep_trigger\" data-url=\"https://www.dailian.co.kr/news/view/1105366/?sc=Naver\" href=\"#\" onclick=\"tCR('a=rns*e.kep&amp;r=6&amp;i=8812A0A8_000000000000000002596224&amp;u=javascript'); return false;\" role=\"button\"><i class=\"spnew ico_save\">문서 저장하기</i></a> <div class=\"api_ly_save _keep_save_layer\"> <a class=\"spnew_af item item_save _keep_save\" data-cr-off=\"a=rns*e.kepoff&amp;r=6&amp;i=8812A0A8_000000000000000002596224&amp;u=javascript\" data-cr-on=\"a=rns*e.kepon&amp;r=6&amp;i=8812A0A8_000000000000000002596224&amp;u=javascript\" href=\"#\" role=\"button\">Keep에 저장</a> <a class=\"spnew_af item item_quick\" href=\"https://keep.naver.com/\" onclick=\"return goOtherCR(this,'a=rns*e.kephome&amp;r=6&amp;i=8812A0A8_000000000000000002596224&amp;u='+urlencode(this.href));\" target=\"_blank\">Keep 바로가기</a> </div></div><div class=\"info_group\"> <a class=\"info press\" href=\"http://www.dailian.co.kr/\" onclick=\"return goOtherCR(this, 'a=rns*e.prof&amp;r=6&amp;i=8812A0A8_000000000000000002596224&amp;g=119.0002596224&amp;u='+urlencode(this.href));\" target=\"_blank\"><span class=\"thumb_box\"><img alt=\"\" class=\"thumb\" height=\"20\" onerror=\"this.src='data:image/gif;base64,R0lGODlhAQABAIAAAAAAAP///yH5BAEAAAAALAAAAAABAAEAAAIBRAA7';this.className='thumb bg_default_press'\" src=\"https://search.pstatic.net/common/?src=https%3A%2F%2Fmimgnews.pstatic.net%2Fimage%2Fupload%2Foffice_logo%2F119%2F2017%2F01%2F05%2Flogo_119_18_20170105111205.png&amp;type=f54_54&amp;expire=24&amp;refresh=true\" width=\"20\"/></span>데일리안</a><span class=\"info\">2022.04.20.</span><a class=\"info\" href=\"https://news.naver.com/main/read.naver?mode=LSD&amp;mid=sec&amp;sid1=101&amp;oid=119&amp;aid=0002596224\" onclick=\"return goOtherCR(this, 'a=rns*e.nav&amp;r=6&amp;i=8812A0A8_000000000000000002596224&amp;u='+urlencode(this.href));\" target=\"_blank\">네이버뉴스</a> </div></div><a class=\"news_tit\" href=\"https://www.dailian.co.kr/news/view/1105366/?sc=Naver\" onclick=\"return goOtherCR(this, 'a=rns*e.tit&amp;r=6&amp;i=8812A0A8_000000000000000002596224&amp;g=119.0002596224&amp;u='+urlencode(this.href));\" target=\"_blank\" title=\"포바이포, 청약 증거금 14조1947억…'올해 최고' 경쟁률 3763대 1\"><mark>포바이포</mark>, 청약 증거금 14조1947억…'올해 최고' 경쟁률 3763대 1</a> <div class=\"news_dsc\"> <div class=\"dsc_wrap\"> <a class=\"api_txt_lines dsc_txt_wrap\" href=\"https://www.dailian.co.kr/news/view/1105366/?sc=Naver\" onclick=\"return goOtherCR(this, 'a=rns*e.body&amp;r=6&amp;i=8812A0A8_000000000000000002596224&amp;g=119.0002596224&amp;u='+urlencode(this.href));\" target=\"_blank\">초고화질 실감형 콘텐츠 제작 기업 <mark>포바이포</mark>가 일반 청약 결과 경쟁률 3763대 1을 기록하며 올해 진행한 기업공개(IPO) 중 최고 경쟁률로 마쳤다. <mark>포바이포</mark>는 오는 22일 증거금 환불을 거쳐 28일 코스닥에 입성한다....</a> </div></div></div><a class=\"dsc_thumb\" href=\"https://www.dailian.co.kr/news/view/1105366/?sc=Naver\" onclick=\"return goOtherCR(this, 'a=rns*e.img&amp;r=6&amp;i=8812A0A8_000000000000000002596224&amp;g=119.0002596224&amp;u='+urlencode(this.href));\" target=\"_blank\"><img alt=\"포바이포, 청약 증거금\" class=\"thumb api_get\" height=\"90\" onerror=\"this.parentNode.style.display='none';\" src=\"https://search.pstatic.net/common/?src=https%3A%2F%2Fimgnews.pstatic.net%2Fimage%2Forigin%2F119%2F2022%2F04%2F20%2F2596224.jpg&amp;type=ff264_180&amp;expire=2&amp;refresh=true\" width=\"132\"/></a> </div></li>,\n",
       " <li class=\"bx\" id=\"sp_rns7\"> <div class=\"news_wrap api_ani_send\"> <div class=\"news_area\"> <div class=\"news_info\"> <div class=\"api_save_group _keep_wrap\"> <a aria-pressed=\"false\" class=\"btn_save _keep_trigger\" data-url=\"http://www.datanet.co.kr/news/articleView.html?idxno=171801\" href=\"#\" onclick=\"tCR('a=rns*f.kep&amp;r=7&amp;i=880005C7_000000000000000000122459&amp;u=javascript'); return false;\" role=\"button\"><i class=\"spnew ico_save\">문서 저장하기</i></a> <div class=\"api_ly_save _keep_save_layer\"> <a class=\"spnew_af item item_save _keep_save\" data-cr-off=\"a=rns*f.kepoff&amp;r=7&amp;i=880005C7_000000000000000000122459&amp;u=javascript\" data-cr-on=\"a=rns*f.kepon&amp;r=7&amp;i=880005C7_000000000000000000122459&amp;u=javascript\" href=\"#\" role=\"button\">Keep에 저장</a> <a class=\"spnew_af item item_quick\" href=\"https://keep.naver.com/\" onclick=\"return goOtherCR(this,'a=rns*f.kephome&amp;r=7&amp;i=880005C7_000000000000000000122459&amp;u='+urlencode(this.href));\" target=\"_blank\">Keep 바로가기</a> </div></div><div class=\"info_group\"> <a class=\"info press\" href=\"http://www.datanet.co.kr\" onclick=\"return goOtherCR(this, 'a=rns*f.prof&amp;r=7&amp;i=880005C7_000000000000000000122459&amp;g=5096.0000122459&amp;u='+urlencode(this.href));\" target=\"_blank\"><span class=\"thumb_box\"><img alt=\"\" class=\"thumb\" height=\"20\" onerror=\"this.src='data:image/gif;base64,R0lGODlhAQABAIAAAAAAAP///yH5BAEAAAAALAAAAAABAAEAAAIBRAA7';this.className='thumb bg_default_press'\" src=\"https://search.pstatic.net/common/?src=http%3A%2F%2Fwww.datanet.co.kr%2Fimage%2Flogo%2Ffavicon.ico&amp;type=f54_54&amp;expire=24&amp;refresh=true\" width=\"20\"/></span>데이터넷</a><span class=\"info\">2022.04.20.</span> </div></div><a class=\"news_tit\" href=\"http://www.datanet.co.kr/news/articleView.html?idxno=171801\" onclick=\"return goOtherCR(this, 'a=rns*f.tit&amp;r=7&amp;i=880005C7_000000000000000000122459&amp;g=5096.0000122459&amp;u='+urlencode(this.href));\" target=\"_blank\" title=\"포바이포, 일반 청약 흥행…증거금 14조1947억 몰려\"><mark>포바이포</mark>, 일반 청약 흥행…증거금 14조1947억 몰려</a> <div class=\"news_dsc\"> <div class=\"dsc_wrap\"> <a class=\"api_txt_lines dsc_txt_wrap\" href=\"http://www.datanet.co.kr/news/articleView.html?idxno=171801\" onclick=\"return goOtherCR(this, 'a=rns*f.body&amp;r=7&amp;i=880005C7_000000000000000000122459&amp;g=5096.0000122459&amp;u='+urlencode(this.href));\" target=\"_blank\"> 초고화질 실감형 콘텐츠 제작 전문기업 <mark>포바이포</mark>(대표 윤준호)의 일반 청약 경쟁률이 3,763대1을 기록했다. <mark>포바이포</mark>는 오는 28일 코스닥 시장에 입성할 예정이다. <mark>포바이포</mark>는 4월 19일과 20일 양일간 일반...</a> </div></div></div><a class=\"dsc_thumb\" href=\"http://www.datanet.co.kr/news/articleView.html?idxno=171801\" onclick=\"return goOtherCR(this, 'a=rns*f.img&amp;r=7&amp;i=880005C7_000000000000000000122459&amp;g=5096.0000122459&amp;u='+urlencode(this.href));\" target=\"_blank\"><img alt=\"포바이포, 일반 청약\" class=\"thumb api_get\" height=\"90\" onerror=\"this.parentNode.style.display='none';\" src=\"https://search.pstatic.net/common/?src=https%3A%2F%2Fimgnews.pstatic.net%2Fimage%2Forigin%2F5096%2F2022%2F04%2F20%2F122459.jpg&amp;type=ofullfill264_180_gray&amp;expire=2&amp;refresh=true\" width=\"132\"/></a> </div></li>,\n",
       " <li class=\"bx\" id=\"sp_rns8\"> <div class=\"news_wrap api_ani_send\"> <div class=\"news_area\"> <div class=\"news_info\"> <div class=\"api_save_group _keep_wrap\"> <a aria-pressed=\"false\" class=\"btn_save _keep_trigger\" data-url=\"http://www.newstomato.com/ReadNews.aspx?no=1118514&amp;inflow=N\" href=\"#\" onclick=\"tCR('a=rns*f.kep&amp;r=8&amp;i=88098046_000000000000000000839713&amp;u=javascript'); return false;\" role=\"button\"><i class=\"spnew ico_save\">문서 저장하기</i></a> <div class=\"api_ly_save _keep_save_layer\"> <a class=\"spnew_af item item_save _keep_save\" data-cr-off=\"a=rns*f.kepoff&amp;r=8&amp;i=88098046_000000000000000000839713&amp;u=javascript\" data-cr-on=\"a=rns*f.kepon&amp;r=8&amp;i=88098046_000000000000000000839713&amp;u=javascript\" href=\"#\" role=\"button\">Keep에 저장</a> <a class=\"spnew_af item item_quick\" href=\"https://keep.naver.com/\" onclick=\"return goOtherCR(this,'a=rns*f.kephome&amp;r=8&amp;i=88098046_000000000000000000839713&amp;u='+urlencode(this.href));\" target=\"_blank\">Keep 바로가기</a> </div></div><div class=\"info_group\"> <a class=\"info press\" href=\"http://news.etomato.com/\" onclick=\"return goOtherCR(this, 'a=rns*f.prof&amp;r=8&amp;i=88098046_000000000000000000839713&amp;g=5119.0000839713&amp;u='+urlencode(this.href));\" target=\"_blank\"><span class=\"thumb_box\"><img alt=\"\" class=\"thumb\" height=\"20\" onerror=\"this.src='data:image/gif;base64,R0lGODlhAQABAIAAAAAAAP///yH5BAEAAAAALAAAAAABAAEAAAIBRAA7';this.className='thumb bg_default_press'\" src=\"https://search.pstatic.net/common/?src=http%3A%2F%2Fwww.newstomato.com%2Ffavicon.ico&amp;type=f54_54&amp;expire=24&amp;refresh=true\" width=\"20\"/></span>뉴스토마토</a><span class=\"info\">2022.04.20.</span> </div></div><a class=\"news_tit\" href=\"http://www.newstomato.com/ReadNews.aspx?no=1118514&amp;inflow=N\" onclick=\"return goOtherCR(this, 'a=rns*f.tit&amp;r=8&amp;i=88098046_000000000000000000839713&amp;g=5119.0000839713&amp;u='+urlencode(this.href));\" target=\"_blank\" title=\"포바이포, 청약 경쟁률 3763대1...올해 IPO 중 역대 최대\"><mark>포바이포</mark>, 청약 경쟁률 3763대1...올해 IPO 중 역대 최대</a> <div class=\"news_dsc\"> <div class=\"dsc_wrap\"> <a class=\"api_txt_lines dsc_txt_wrap\" href=\"http://www.newstomato.com/ReadNews.aspx?no=1118514&amp;inflow=N\" onclick=\"return goOtherCR(this, 'a=rns*f.body&amp;r=8&amp;i=88098046_000000000000000000839713&amp;g=5119.0000839713&amp;u='+urlencode(this.href));\" target=\"_blank\">뉴스토마토 = 박준형 기자 | 초고화질 실감형 콘텐츠 제작 전문기업 #<mark>포바이포</mark>가 일반 청약 경쟁률 3763대1을 기록하며, 올해 역대 최대 경쟁률을 기록했다. <mark>포바이포</mark>는 지난 19일부터 20일까지 일반 투자자를...</a> </div></div></div><a class=\"dsc_thumb\" href=\"http://www.newstomato.com/ReadNews.aspx?no=1118514&amp;inflow=N\" onclick=\"return goOtherCR(this, 'a=rns*f.img&amp;r=8&amp;i=88098046_000000000000000000839713&amp;g=5119.0000839713&amp;u='+urlencode(this.href));\" target=\"_blank\"><img alt=\"포바이포, 청약 경쟁률\" class=\"thumb api_get\" height=\"90\" onerror=\"this.parentNode.style.display='none';\" src=\"https://search.pstatic.net/common/?src=https%3A%2F%2Fimgnews.pstatic.net%2Fimage%2Forigin%2F5119%2F2022%2F04%2F20%2F839713.jpg&amp;type=ff264_180&amp;expire=2&amp;refresh=true\" width=\"132\"/></a> </div></li>,\n",
       " <li class=\"bx\" id=\"sp_rns9\"> <div class=\"news_wrap api_ani_send\"> <div class=\"news_area\"> <div class=\"news_info\"> <div class=\"api_save_group _keep_wrap\"> <a aria-pressed=\"false\" class=\"btn_save _keep_trigger\" data-url=\"https://www.businesspost.co.kr/BP?command=article_view&amp;num=278441\" href=\"#\" onclick=\"tCR('a=rns*f.kep&amp;r=9&amp;i=88155e5a_000000000000000000260174&amp;u=javascript'); return false;\" role=\"button\"><i class=\"spnew ico_save\">문서 저장하기</i></a> <div class=\"api_ly_save _keep_save_layer\"> <a class=\"spnew_af item item_save _keep_save\" data-cr-off=\"a=rns*f.kepoff&amp;r=9&amp;i=88155e5a_000000000000000000260174&amp;u=javascript\" data-cr-on=\"a=rns*f.kepon&amp;r=9&amp;i=88155e5a_000000000000000000260174&amp;u=javascript\" href=\"#\" role=\"button\">Keep에 저장</a> <a class=\"spnew_af item item_quick\" href=\"https://keep.naver.com/\" onclick=\"return goOtherCR(this,'a=rns*f.kephome&amp;r=9&amp;i=88155e5a_000000000000000000260174&amp;u='+urlencode(this.href));\" target=\"_blank\">Keep 바로가기</a> </div></div><div class=\"info_group\"> <a class=\"info press\" href=\"http://www.businesspost.co.kr/\" onclick=\"return goOtherCR(this, 'a=rns*f.prof&amp;r=9&amp;i=88155e5a_000000000000000000260174&amp;g=5374.0000260174&amp;u='+urlencode(this.href));\" target=\"_blank\"><span class=\"thumb_box\"><img alt=\"\" class=\"thumb\" height=\"20\" onerror=\"this.src='data:image/gif;base64,R0lGODlhAQABAIAAAAAAAP///yH5BAEAAAAALAAAAAABAAEAAAIBRAA7';this.className='thumb bg_default_press'\" src=\"https://search.pstatic.net/common/?src=http%3A%2F%2Fwww.businesspost.co.kr%2Fimage2014%2Ffavicon_re.ico&amp;type=f54_54&amp;expire=24&amp;refresh=true\" width=\"20\"/></span>비즈니스포스트</a><span class=\"info\">2022.04.20.</span> </div></div><a class=\"news_tit\" href=\"https://www.businesspost.co.kr/BP?command=article_view&amp;num=278441\" onclick=\"return goOtherCR(this, 'a=rns*f.tit&amp;r=9&amp;i=88155e5a_000000000000000000260174&amp;g=5374.0000260174&amp;u='+urlencode(this.href));\" target=\"_blank\" title=\"포바이포 공모주 일반청약 경쟁률 3763대1, 증거금 14조 몰려\"><mark>포바이포</mark> 공모주 일반청약 경쟁률 3763대1, 증거금 14조 몰려</a> <div class=\"news_dsc\"> <div class=\"dsc_wrap\"> <a class=\"api_txt_lines dsc_txt_wrap\" href=\"https://www.businesspost.co.kr/BP?command=article_view&amp;num=278441\" onclick=\"return goOtherCR(this, 'a=rns*f.body&amp;r=9&amp;i=88155e5a_000000000000000000260174&amp;g=5374.0000260174&amp;u='+urlencode(this.href));\" target=\"_blank\"><mark>포바이포</mark> 공모주 일반청약에 14조2천억 원에 가까운 증거금이 몰렸다. <mark>포바이포</mark>는 19일과 20일 진행한 일반투자자 대상 공모주 청약 결과 3763대 1의 경쟁률을 보였다고 20일 밝혔다. <mark>포바이포</mark> 로고. 이는 올해 IPO...</a> </div></div></div><a class=\"dsc_thumb\" href=\"https://www.businesspost.co.kr/BP?command=article_view&amp;num=278441\" onclick=\"return goOtherCR(this, 'a=rns*f.img&amp;r=9&amp;i=88155e5a_000000000000000000260174&amp;g=5374.0000260174&amp;u='+urlencode(this.href));\" target=\"_blank\"><img alt=\"포바이포 공모주 일반\" class=\"thumb api_get\" height=\"90\" onerror=\"this.parentNode.style.display='none';\" src=\"https://search.pstatic.net/common/?src=https%3A%2F%2Fimgnews.pstatic.net%2Fimage%2Forigin%2F5374%2F2022%2F04%2F20%2F260174.jpg&amp;type=ofullfill264_180_gray&amp;expire=2&amp;refresh=true\" width=\"132\"/></a> </div></li>,\n",
       " <li class=\"bx\" id=\"sp_rns10\"> <div class=\"news_wrap api_ani_send\"> <div class=\"news_area\"> <div class=\"news_info\"> <div class=\"api_save_group _keep_wrap\"> <a aria-pressed=\"false\" class=\"btn_save _keep_trigger\" data-url=\"http://www.seoulwire.com/news/articleView.html?idxno=467837\" href=\"#\" onclick=\"tCR('a=rns*f.kep&amp;r=10&amp;i=8817ca73_000000000000000000300263&amp;u=javascript'); return false;\" role=\"button\"><i class=\"spnew ico_save\">문서 저장하기</i></a> <div class=\"api_ly_save _keep_save_layer\"> <a class=\"spnew_af item item_save _keep_save\" data-cr-off=\"a=rns*f.kepoff&amp;r=10&amp;i=8817ca73_000000000000000000300263&amp;u=javascript\" data-cr-on=\"a=rns*f.kepon&amp;r=10&amp;i=8817ca73_000000000000000000300263&amp;u=javascript\" href=\"#\" role=\"button\">Keep에 저장</a> <a class=\"spnew_af item item_quick\" href=\"https://keep.naver.com/\" onclick=\"return goOtherCR(this,'a=rns*f.kephome&amp;r=10&amp;i=8817ca73_000000000000000000300263&amp;u='+urlencode(this.href));\" target=\"_blank\">Keep 바로가기</a> </div></div><div class=\"info_group\"> <a class=\"info press\" href=\"http://www.seoulwire.com\" onclick=\"return goOtherCR(this, 'a=rns*f.prof&amp;r=10&amp;i=8817ca73_000000000000000000300263&amp;g=5526.0000300263&amp;u='+urlencode(this.href));\" target=\"_blank\"><span class=\"thumb_box\"><img alt=\"\" class=\"thumb\" height=\"20\" onerror=\"this.src='data:image/gif;base64,R0lGODlhAQABAIAAAAAAAP///yH5BAEAAAAALAAAAAABAAEAAAIBRAA7';this.className='thumb bg_default_press'\" src=\"https://search.pstatic.net/common/?src=http%3A%2F%2Fwww.seoulwire.com%2Fimage%2Flogo%2Ffavicon_20200213025212.ico&amp;type=f54_54&amp;expire=24&amp;refresh=true\" width=\"20\"/></span>서울와이어</a><span class=\"info\">2022.04.20.</span> </div></div><a class=\"news_tit\" href=\"http://www.seoulwire.com/news/articleView.html?idxno=467837\" onclick=\"return goOtherCR(this, 'a=rns*f.tit&amp;r=10&amp;i=8817ca73_000000000000000000300263&amp;g=5526.0000300263&amp;u='+urlencode(this.href));\" target=\"_blank\" title=\"포바이포, 청약 경쟁률 3763대1… 올해 IPO 중 최대 경쟁률\"><mark>포바이포</mark>, 청약 경쟁률 3763대1… 올해 IPO 중 최대 경쟁률</a> <div class=\"news_dsc\"> <div class=\"dsc_wrap\"> <a class=\"api_txt_lines dsc_txt_wrap\" href=\"http://www.seoulwire.com/news/articleView.html?idxno=467837\" onclick=\"return goOtherCR(this, 'a=rns*f.body&amp;r=10&amp;i=8817ca73_000000000000000000300263&amp;g=5526.0000300263&amp;u='+urlencode(this.href));\" target=\"_blank\"><mark>포바이포</mark>가 올해 기업공개(IPO) 중 일반 공모 청약에서 최대 경쟁률을 기록했다. 사진=<mark>포바이포</mark> 온라인 간담회  <mark>포바이포</mark>가 올해 기업공개(IPO) 중 일반 공모 청약에서 최대 경쟁률을 기록했다. <mark>포바이포</mark>는 19~20일...</a> </div></div></div><a class=\"dsc_thumb\" href=\"http://www.seoulwire.com/news/articleView.html?idxno=467837\" onclick=\"return goOtherCR(this, 'a=rns*f.img&amp;r=10&amp;i=8817ca73_000000000000000000300263&amp;g=5526.0000300263&amp;u='+urlencode(this.href));\" target=\"_blank\"><img alt=\"포바이포, 청약 경쟁률\" class=\"thumb api_get\" height=\"90\" onerror=\"this.parentNode.style.display='none';\" src=\"https://search.pstatic.net/common/?src=https%3A%2F%2Fimgnews.pstatic.net%2Fimage%2Forigin%2F5526%2F2022%2F04%2F20%2F300263.jpg&amp;type=ofullfill264_180_gray&amp;expire=2&amp;refresh=true\" width=\"132\"/></a> </div></li>]"
      ]
     },
     "execution_count": 275,
     "metadata": {},
     "output_type": "execute_result"
    }
   ],
   "source": [
    "cur_url = driver.current_url\n",
    "response = requests.get(cur_url,headers={'User-Agent':'Mozilla/5.0'})\n",
    "html = response.text\n",
    "soup = BeautifulSoup(html, 'html.parser')\n",
    "# 뉴스 기사 개수 확인\n",
    "articles = soup.select(\"#main_pack > section > div > div.group_news > ul > li\")\n",
    "articles\n",
    "# for article in articles:\n",
    "#     if article.text.count('네이버뉴스') == 1:\n",
    "    \n",
    "#     elif:\n",
    "        \n",
    "    "
   ]
  },
  {
   "cell_type": "code",
   "execution_count": null,
   "id": "87d2c899",
   "metadata": {
    "id": "87d2c899",
    "outputId": "247502c3-e9df-41f0-9845-d352b5976eba"
   },
   "outputs": [
    {
     "data": {
      "text/plain": [
       "10"
      ]
     },
     "execution_count": 276,
     "metadata": {},
     "output_type": "execute_result"
    }
   ],
   "source": [
    "len(articles)"
   ]
  },
  {
   "cell_type": "code",
   "execution_count": null,
   "id": "f67a9bef",
   "metadata": {
    "id": "f67a9bef"
   },
   "outputs": [],
   "source": [
    "a = soup.select(\"#main_pack > section.sc_new.sp_nnews._prs_nws > div > div.group_news > ul > li\")"
   ]
  },
  {
   "cell_type": "code",
   "execution_count": null,
   "id": "5e0b7539",
   "metadata": {
    "id": "5e0b7539"
   },
   "outputs": [],
   "source": []
  },
  {
   "cell_type": "code",
   "execution_count": null,
   "id": "107a7b1a",
   "metadata": {
    "id": "107a7b1a",
    "outputId": "c8f4a47f-8294-4ef3-c291-c44b94e44baa"
   },
   "outputs": [
    {
     "data": {
      "text/plain": [
       "'문서 저장하기  Keep에 저장 Keep 바로가기  뉴스12022.04.26.네이버뉴스 거래소 \"포바이포·신영해피투모로우제7호 28일 상장\"   한국거래소는 포바이포와 신영해피투모로우제7호기업인수목적(SPAC) 주식회사의 코스닥시장 신규 상장을 승인했다고 26일 밝혔다. 거래는 오는 28일부터 시작한다. 포바이포는 광고 영화와 비디오물...  '"
      ]
     },
     "execution_count": 177,
     "metadata": {},
     "output_type": "execute_result"
    }
   ],
   "source": [
    "a[0].text.lstrip()"
   ]
  },
  {
   "cell_type": "code",
   "execution_count": null,
   "id": "9800c9cb",
   "metadata": {
    "id": "9800c9cb"
   },
   "outputs": [],
   "source": [
    "aa = list(map(str.strip, a[0].text))"
   ]
  },
  {
   "cell_type": "code",
   "execution_count": null,
   "id": "ac166468",
   "metadata": {
    "id": "ac166468",
    "outputId": "a09c3803-5d29-4794-8333-7f2bb6940c0d"
   },
   "outputs": [
    {
     "ename": "TypeError",
     "evalue": "'str' object cannot be interpreted as an integer",
     "output_type": "error",
     "traceback": [
      "\u001b[1;31m---------------------------------------------------------------------------\u001b[0m",
      "\u001b[1;31mTypeError\u001b[0m                                 Traceback (most recent call last)",
      "\u001b[1;32m~\\AppData\\Local\\Temp/ipykernel_14212/4123206801.py\u001b[0m in \u001b[0;36m<module>\u001b[1;34m\u001b[0m\n\u001b[1;32m----> 1\u001b[1;33m \u001b[0ma\u001b[0m\u001b[1;33m[\u001b[0m\u001b[1;36m0\u001b[0m\u001b[1;33m]\u001b[0m\u001b[1;33m.\u001b[0m\u001b[0mtext\u001b[0m\u001b[1;33m.\u001b[0m\u001b[0mlstrip\u001b[0m\u001b[1;33m(\u001b[0m\u001b[1;33m)\u001b[0m\u001b[1;33m.\u001b[0m\u001b[0msplit\u001b[0m\u001b[1;33m(\u001b[0m\u001b[1;34m' '\u001b[0m\u001b[1;33m,\u001b[0m\u001b[1;34m''\u001b[0m\u001b[1;33m)\u001b[0m\u001b[1;33m\u001b[0m\u001b[1;33m\u001b[0m\u001b[0m\n\u001b[0m",
      "\u001b[1;31mTypeError\u001b[0m: 'str' object cannot be interpreted as an integer"
     ]
    }
   ],
   "source": [
    "a[0].text.lstrip().split(' ','')"
   ]
  },
  {
   "cell_type": "code",
   "execution_count": null,
   "id": "3cc753b3",
   "metadata": {
    "id": "3cc753b3",
    "outputId": "b670bc1f-253a-4ec6-8863-8e1461443401"
   },
   "outputs": [
    {
     "data": {
      "text/plain": [
       "'문서 저장하기  Keep에 저장 Keep 바로가기  비즈니스포스트6일 전 코스피 코스닥 동반상승 출발, 영화금속 포바이포 골드앤에스 급등   시가총액 상위종목에서는 LG에너지솔루션(0.12%), SK하이닉스(0.92%), 삼성바이오로직스(1.73%), 네이버(0.... 실시간 급등주는 포바이포(30.00%), 골드앤에스(30.00%), 덕신하우징(23.77%), 삼보산업(21.82%) 등이다....  '"
      ]
     },
     "execution_count": 159,
     "metadata": {},
     "output_type": "execute_result"
    }
   ],
   "source": [
    "a[1].text.lstrip()"
   ]
  },
  {
   "cell_type": "code",
   "execution_count": null,
   "id": "60c9f42e",
   "metadata": {
    "id": "60c9f42e",
    "outputId": "047b33a8-f228-4b19-81a5-625e1b16dd25"
   },
   "outputs": [
    {
     "data": {
      "text/plain": [
       "<!DOCTYPE html>\n",
       " <html lang=\"ko\"> <head> <meta charset=\"utf-8\"/> <meta content=\"always\" name=\"referrer\"/> <meta content=\"telephone=no,address=no,email=no\" name=\"format-detection\"/> <meta content=\"width=device-width,initial-scale=1.0,maximum-scale=2.0\" name=\"viewport\"/> <meta content=\"포바이포 : 네이버 뉴스검색\" property=\"og:title\"> <meta content=\"https://ssl.pstatic.net/sstatic/search/common/og_v3.png\" property=\"og:image\"/> <meta content=\"'포바이포'의 네이버 뉴스검색 결과입니다.\" property=\"og:description\"/> <meta content=\"'포바이포'의 네이버 뉴스검색 결과입니다.\" lang=\"ko\" name=\"description\"/> <title>포바이포 : 네이버 뉴스검색</title> <link href=\"https://ssl.pstatic.net/sstatic/search/favicon/favicon_191118_pc.ico\" rel=\"shortcut icon\"/> <link href=\"https://ssl.pstatic.net/sstatic/search/opensearch-description.https.xml\" rel=\"search\" title=\"Naver\" type=\"application/opensearchdescription+xml\"><link href=\"https://ssl.pstatic.net/sstatic/search/pc/css/search1_220414.css\" rel=\"stylesheet\" type=\"text/css\"/> <link href=\"https://ssl.pstatic.net/sstatic/search/pc/css/search2_220414.css\" rel=\"stylesheet\" type=\"text/css\"/> <link href=\"https://ssl.pstatic.net/sstatic/search/pc/css/sp_autocomplete_220414.css\" rel=\"stylesheet\" type=\"text/css\"/><script type=\"text/javascript\"> if (!String.prototype.trim) { String.prototype.trim = function () { return this.replace(/^[\\s\\uFEFF\\xA0]+|[\\s\\uFEFF\\xA0]+$/g, ''); }; } if (!Array.prototype.indexOf) { Array.prototype.indexOf = function(searchElement, fromIndex) { var k; if (this == null) { throw new TypeError('\"this\" is null or not defined'); } var o = Object(this); var len = o.length >>> 0; if (len === 0) { return -1; } var n = fromIndex | 0; if (n >= len) { return -1; } k = Math.max(n >= 0 ? n : len - Math.abs(n), 0); while (k < len) { if (k in o && o[k] === searchElement) { return k; } k++; } return -1; }; } if (!Array.prototype.filter) { Array.prototype.filter = function(func, thisArg) { 'use strict'; if (!((typeof func === 'Function' || typeof func === 'function') && this)) throw new TypeError(); var len = this.length >>> 0, res = new Array(len), t = this, c = 0, i = -1; var kValue; if (thisArg === undefined) { while (++i !== len) { if (i in this) { kValue = t[i]; if (func(t[i], i, t)) { res[c++] = kValue; } } } } else { while (++i !== len) { if (i in this) { kValue = t[i]; if (func.call(thisArg, t[i], i, t)) { res[c++] = kValue; } } } } res.length = c; return res; }; } if (typeof(encodeURIComponent) != \"function\") { encodeURIComponent = function (s) { function toHex (n) { var hexchars = \"0123456789ABCDEF\" ; return \"%%\" + hexchars.charAt(n>>4) + hexchars.charAt(n&0xF) ; } var es = \"\" ; for (var i = 0; i < s.length;) { var c = s.charCodeAt(i++) ; if ((c&0xF800) == 0xD800) { var sc = s.charCodeAt(i++) ; c = ((c-0xD800)<<10) + (sc-0xDC00) + 0x10000 ; } if (!(c&~0x7F)) { if ((c>=65&&c<=90) || (c>=97&&c<=122) || (c>=48&&c<=57) || (c>=45&&c<=46) || c==95 || c==33 || c==126 || (c>=39&&c<=42)) es += String.fromCharCode(c) ; else es += toHex(c) ; } else if (!(c&~0x7FF)) es += toHex(0xC0+(c>>6)) + toHex(c&0x3F) ; else if (!(c&~0xFFFF)) es += toHex(0xE0+(c>>12)) + toHex(0x80+(c>>6&0x3F)) + toHex(0x80+(c&0x3F)) ; else es += toHex(0xF0+(c>>18)) + toHex(0x80+(c>>12&0x3F)) + toHex(0x80+(c>>6&0x3F)) + toHex(0x80+(c&0x3F)) ; } return es ; } } naver = window.naver || {}; naver.search = naver.search || {}; naver.search.abt_param = \"\"; var g_D = 0 ; naver.search.error = (function () { var errorList = Array() ; return { add : function (s) { errorList.push(s) ; }, clear : function () { delete errorList ; }, get : function (s) { return errorList ; }, getString : function (d) { if (typeof d === 'undefined') d = '|' ; return errorList.join(d) ; } } })(); naver.search.cookie = (function () { return { set : function (key, value, expire, domain) { var cookie = key + \"=\" + escape(value); if (typeof expire !== 'undefined') { if (expire instanceof Date) { cookie = cookie + \"; expires=\" + expire.toUTCString(); } else { var exdate = new Date((new Date()).getTime() + expire*1000); cookie = cookie + \"; expires=\" + exdate.toUTCString(); } } cookie = cookie + \"; path=/\"; if (domain != null) { cookie = cookie + \"; domain=\" + domain; } document.cookie = cookie; }, get : function (key) { var cookie_list = document.cookie.split(/\\s*;\\s*/); for (var i = 0; i < cookie_list.length; i++) { var tmp_list = cookie_list[i].split(\"=\"); var c_key = tmp_list[0].trim(); var c_value = tmp_list[1]; if (key == c_key) { return unescape(c_value); } } return null; } } })(); naver.search.https = window.location.protocol == \"https:\"; naver.search.meta_referrer = 0; var _nx_js_load = (function () { var scrs = {} ; return function (script, callback) { scrs[script] = {} ; scrs[script].domscript = document.createElement('script'); scrs[script].domscript.src = script ; if (callback) scrs[script].callback = (callback instanceof Array) ? callback : [callback]; scrs[script].domscript.onloadDone = false; scrs[script].domscript.onload = function() { scrs[script].domscript.onloadDone = true; if (scrs[script].callback) { for (var i = 0; i < scrs[script].callback.length; i++) { scrs[script].callback[i]() ; } } scrs[script].domscript.onload = scrs[script].domscript.onreadystatechange = null; } ; scrs[script].domscript.onreadystatechange = function() { if ( (\"loaded\" === scrs[script].domscript.readyState || \"complete\" === scrs[script].domscript.readyState) && !scrs[script].domscript.onloadDone ) { scrs[script].domscript.onload(); } } ; document.getElementsByTagName('head')[0].appendChild(scrs[script].domscript); }; })() ; var nx_js_defer_load = (function() { var info = {} ; return function(scrname, callback, t) { var nx_load_once = (function() { return function(scrname) { if (info[scrname].t > 0) setTimeout(function() { _nx_js_load(scrname, info[scrname].callback) ; }, t) ; else _nx_js_load(scrname, info[scrname].callback) ; } ; })(); if (t < 0) t = 0 ; if (info[scrname]) { n = info[scrname].length; for (var i = 0; i < n; i++) { if (info[scrname][i] == callback) return ; } if (t < info[scrname].t) info[scrname].t = t ; } else { info[scrname] = {} ; info[scrname].callback = [] ; info[scrname].t = t ; jindo.$Fn(function() { nx_load_once(scrname) ; }).attach(window, \"load\") ; } info[scrname].callback.push(callback) ; }; })(); function nx_js_lazyload(scripts, onload, is_serial) { if (!(scripts instanceof Array)) { scripts = [scripts]; } if (is_serial) { function load_next() { if (scripts.length == 0) { onload(); return; } _nx_js_load( scripts.shift(), load_next ) ; } load_next(); } else { var load_check = function() { var num_js = scripts.length; return function() { num_js--; if (num_js <= 0) { onload(); } } }(); for (var i = 0; i < scripts.length; i++) { _nx_js_load( scripts[i], load_check ) ; } } } function nx_defer_eval (id) { var codeElement = document.getElementById(id), code = codeElement.innerHTML; eval(code.replace(/\\/\\*/, '').replace(/\\*\\//, '')); } </script><script> try { document.execCommand('BackgroundImageCache', false, true); } catch(e) {} if (top.frames.length!=0 || window!=top) window.open(location, \"_top\") ; naver = window.naver || {}; naver.search = naver.search || {}; naver.search.ext = naver.search.ext || {}; naver.search.map_api = { v2 : \"https://ssl.pstatic.net/sstatic.map/openapi/openapi_v23.js\", v3 : \"https://ssl.pstatic.net/sstatic.map/openapi/maps3.js\" } ; var nx_au_cookie_domain = \"search.naver.com\" ; var nx_mobile_agent = 0 ; var headerfooter_query = \"포바이포\" ; var headerfooter_query_encoded = \"%ED%8F%AC%EB%B0%94%EC%9D%B4%ED%8F%AC\" ; var headerfooter_time_year = 2022 ; var headerfooter_time_month = 5 ; var headerfooter_time_day = 4 ; var headerfooter_time_hour = 3 ; var headerfooter_time_minute = 16 ; var headerfooter_time_second = 37 ; var headerfooter_time_wday = 3 ; var headerfooter_time_year_s = \"2022\" ; var headerfooter_time_month_s = \"05\" ; var headerfooter_time_day_s = \"04\" ; var headerfooter_time_hour_s = \"03\" ; var headerfooter_time_minute_s = \"16\" ; var headerfooter_time_second_s = \"37\" ; var headerfooter_time_wday_s = \"3\" ; var g_ssc = \"tab.news.all\" ; var g_query = \"포바이포\" ; var g_puid = \"hFaxmdp0JywssA7zjaGssssssgG-199587\" ; var g_suid = \"JFBRjiasvIwFUTVrLAZUrQ==\" ; var g_tab = \"news\" ; var g_stab = \"news\" ; var g_crt = naver.search.abt_param; var g_nx_splugin ; document.documentElement.setAttribute('data-useragent', window.navigator.userAgent.toLowerCase()) ; document.documentElement.setAttribute('data-platform', window.navigator.platform.toLowerCase()) ; var g_er_image, g_er_count = 0 ; function g_er (msg) { if (g_er_count++ > 0) return ; g_er_image = new Image() ; g_er_image.src = \"http://er.search.naver.com/er?f=\"+g_tab+\"&w=\"+g_stab+\"&q=%ED%8F%AC%EB%B0%94%EC%9D%B4%ED%8F%AC&u=\"+encodeURIComponent(document.location)+\"&m=\"+encodeURIComponent(msg) ; } function trim_space (q) { var head_re = /^ */; var tail_re = / *$/; q = q.replace(head_re, \"\"); q = q.replace(tail_re, \"\"); return q; } function trim_crlf (q) { var crlf = /[\\r|\\n]/ ; q = q.replace(crlf, \"\") ; return q ; } function include_script (type, defer, src, charset) { var script = document.createElement(\"script\") ; script.type = type, script.defer = defer ; script.src = src ; if (charset) script.charset = charset ; else script.charset = 'utf-8' ; document.getElementsByTagName('head')[0].appendChild(script) ; return script ; } function include_style (src, charset) { var h = document.getElementsByTagName(\"head\")[0] ; var l = document.createElement('link') ; l.type = 'text/css' ; l.rel = 'stylesheet' ; if (charset) l.charset = charset ; else l.charset = 'utf-8' ; l.media = 'screen' ; l.href = src ; h.appendChild(l) ; } function bt (id, after) { document.getElementById(id).src = after ; } function urlencode (q) { return encodeURIComponent(q).replace(/%20/g, \"+\").replace(/[!~'()]/g, function(c) { return '%' + c.charCodeAt(0).toString(16).toUpperCase() ; }); } function urldecode (q) { return decodeURIComponent(q.replace(/\\+/g, \" \")); } function urlexpand (url) { var href = document.location.href ; if (url == \"\") return href ; if (url.match(/^[-.A-Za-z]+:/)) return url ; if (url.charAt(0) == '#') return href.split(\"#\")[0] + url ; if (url.charAt(0) == '?') return href.split(\"?\")[0] + url ; if (url.charAt(0) == '/') return href.replace(/([^:\\/])\\/.*$/, \"$1\") + url ; return href.substring(0, href.lastIndexOf(\"/\")+1) + url ; } function tt_sub_disable (o) { if (typeof(o.tt_sub) == \"undefined\") return false ; if ((typeof(o.tt_sub) == \"object\") && (o.tt_sub.length)) { var i ; for (var i=0; i<o.tt_sub.length; i++) o.tt_sub[i].disabled = true ; } else o.tt_sub.disabled = true ; return true ; } function cpip () { var evt, sx = sy = px = py = -1 ; try { evt = window.event ; } catch (e) {} try { sx=evt.clientX-document.body.clientLeft, sy=evt.clientY-document.body.clientTop ; } catch (e) {} try { px=document.body.scrollLeft+(sx<0?0:sx), py=document.documentElement.scrollTop+(sy<0?0:sy) ; } catch (e) {} try { if (evt.pageX) px=evt.pageX ; if (evt.pageY) py=evt.pageY ; } catch (e) {} return \"px=\"+px+\"&py=\"+py+\"&sx=\"+sx+\"&sy=\"+sy ; } function nxGetCommonCRParam () { return \"p=\"+urlencode(g_puid)+\"&q=\"+urlencode(g_query)+\"&ie=utf8&rev=1&ssc=\"+urlencode(g_ssc)+\"&f=\"+urlencode(g_tab)+\"&w=\"+urlencode(g_stab)+\"&s=\"+urlencode(g_suid)+\"&time=\"+urlencode((new Date()).getTime())+g_crt ; } function getCRRankingByParam (p, info) { if (typeof info == 'undefined' || info == null) return 0 ; var cr = 0 ; try { var y, z ; var y = p.split('&') ; for (var i = 0; i < y.length; i++) { if (z = y[i].split('=')) { if (z[0] == 'a') { for (var j = 0; j < info.length; j++) { if (z[1].substr(0, info[j].n.length) == info[j].n) { cr = info[j].r ; break ; } } break ; } } } } catch (e) { } return cr ; } function getCRRanking (p) { var cr = 0 ; if (typeof nx_cr_area_info != 'undefined') cr = getCRRankingByParam(p, nx_cr_area_info) ; if (cr) return cr ; if (typeof nx_cr_right_area_info != 'undefined') cr = getCRRankingByParam(p, nx_cr_right_area_info) ; return cr ; } function isOutlink (u) { if (!u || u.indexOf(\"://\") < 0) return false; var b = (u.search(/^\\w*:\\/\\/([^:/?]*\\.|)*(?!(ad)?cr\\.)[^.:/?]+\\.+naver\\.com(:\\d*)?(\\/|$)/) < 0);  return b; } function nxGetCRURL (m, a, b, c, d, e) { var p = \"\" ; var u ; if (c==undefined && d==undefined && e==undefined) { p = (a==undefined?\"\":\"&\"+a) + (b==undefined || a.indexOf(\"u=\")==0 || a.indexOf(\"&u=\") > 0 ?\"\":\"&u=\"+urlencode(b)) ; u = b ; } else { p = (a==undefined ? \"\" : \"&a=\"+urlencode(a)) + (b==undefined ? \"\" : \"&r=\"+urlencode(b)) + (c==undefined ? \"\" : \"&i=\"+urlencode(c)) + (d==undefined ? \"\" : \"&u=\"+urlencode(d)) + (e==undefined ? \"\" : \"&\"+e) ; u = d ; } if (! p) return null ; var url ; if (naver.search.https) { url = (naver.search.meta_referrer ? \"/p/crd\" : \"/p/cr\") + \"/rd\"; if (m != 0) m = 1; } else { out = isOutlink(u); url = \"http://cr.naver.com\" + (g_D && out ? \"/nr\" : \"/rd\"); if (m != 0) m = g_D && out ? 2 : 1; } url += \"?m=\" + m + \"&\" + cpip() + \"&\" + nxGetCommonCRParam() + p; return url; } function tCR (a, b, c, d, e) { var l = nxGetCRURL(0, a, b, c, d, e) ; var cr = getCRRanking(l) ; if (cr > 0) l = l + \"&cr=\" + cr ; if (document.images) (new Image()).src = l ; else document.location = l ; return false ; } function gCR (u, a, r, i, e, t) { if (u) u = urlexpand(u) ; var l = nxGetCRURL(1, a, r, i, u, e) ; var o = document.createElement(\"a\") ; var cr = getCRRanking(l) ; if (cr > 0) l = l + \"&cr=\" + cr ; if (o.click) { o.href = l ; o.style.display = \"none\" ; document.body.appendChild(o) ; o.click() ; } else document.location = l ; } function goCR (o, p, t) { var u0 = o.getAttribute && o.getAttribute(\"cru\"), u = u0 = u0 ? u0 : o.href ; var p0 = o.getAttribute && o.getAttribute(\"crp\") ; p = p0 = p0 ? p0 : p ; tt_sub_disable(o) ; if (p.indexOf(\"u=javascript\") >= 0) t = true ; var n = (o.ownerDocument==document && o.target && o.target!=\"_self\" && o.target!=\"_parent\" && o.target!=\"_top\") && !(window.location.protocol&&window.location.protocol.indexOf(\"https:\")==0) ; var cr = getCRRanking(p) ; if (cr > 0) p = p + \"&cr=\" + cr ;  if (0 && u && u.indexOf(\"/search.naver?\") >= 0) { var str = \"\" ;   p = p.replace(/(((?:^|&)u=).*%2Fsearch.naver%3F[^&]*)/, '$1' + str) ; } u = nxGetCRURL(t?0:(n?-1:1), p, u) ; if (u && !u.match(/m=0&/)) { if (o.setAttribute) { if (p0) o.setAttribute(\"crp\", p0) ; if (u0) o.setAttribute(\"cru\", u0) ; if (g_D && naver.search.https && naver.search.meta_referrer && o.href && isOutlink(o.href)) o.setAttribute(\"rel\", \"noreferrer\"); } var a = o.innerHTML ; o.href = u ; if (o.innerHTML != a) o.innerHTML = a ; } else if (document.images) (new Image()).src = u ; return true ; } function goOtherCR (o, p) { return goCR(o, p, false) ; } function goOtherTCR (o, p) { return goCR(o, p, true) ; } function get_form_url (o) { var url = o.getAttribute(\"action\") ; if (url == null) url = \"\" ; var e, n = 0 ; for (var i=0; i<o.elements.length; i++) { e = o.elements[i] ; if (e.disabled || !e.name) continue ; url += (n++>0?\"&\":url.indexOf(\"?\")<0?\"?\":url.indexOf(\"?\")<url.length-1?\"&\":\"\") + encodeURIComponent(e.name) + \"=\" + encodeURIComponent(e.value) ; } return url ; } function formCR (o, area, rank, id) { if (typeof o == 'string') o = document.getElementById(o) ; var target = o.getAttribute(\"target\") ; if (target && target!=\"_self\" && target!=\"_parent\" && target!=\"_top\" || /^post$/i.test(o.getAttribute(\"method\"))) { tCR(area, rank, id) ; o.submit() ; return false ; } var url = get_form_url(o) ; var a = document.createElement(\"a\") ; a.href = url ; var p = area != undefined ? \"a=\" + area : \"\" ; if (rank != undefined) p += (p?\"&\":\"\") + \"r=\" + encodeURIComponent(rank) ; if (id != undefined) p += (p?\"&\":\"\") + \"i=\" + encodeURIComponent(id) ; if (url != undefined) p += (p?\"&\":\"\") + \"u=\" + encodeURIComponent(urlexpand(url)) ; goCR(a, p) ; if (navigator.userAgent.indexOf('MSIE') > 0) { a.style.display = 'none' ; o.appendChild(a) ; a.click() ; } else document.location = a.href ; return false ; } function rank_val (rank, name, sign, number, ad_onair) { this.rank = rank ; this.name = name ; this.sign = sign ; this.number = number ; this.ad_onair = ad_onair ; } function rr_hotquery_val (titleImg, totalLink, ad_onair) { this.titleImg = titleImg ; this.totalLink = totalLink ; this.ad_onair = ad_onair ; } function rr_append () { for (var i=0; i<rr_list.length; i++) if (rr_list[i].qname==hotqry_Name && rr_list[i].dir==hotqry_Dir) return 0 ; var o = { order:hotqry_Order, contid:hotqry_ContID, qname:hotqry_Name, dir:hotqry_Dir, toprank:hotqry_TopRank, rankdown:hotqry_RankDown, clicklog:hotqry_ClickLog, toprank_idx:toprank_idx, lowrank_idx:lowrank_idx, topranklist:toprank, lowranklist:lowrank_idx>=0?lowrank:null } ; rr_list = rr_list.concat(o) ; return 1 ; } var msg_hidden_idle=null; function msg (id) { if(msg_hidden_idle) clearInterval(msg_hidden_idle); if(id) { var mid=document.getElementById(id); mid.style.display=''; mid.style.visibility='visible'; } } function msg_hidden (id, f) { if(f) hidden(id); else msg_hidden_idle=setInterval(\"hidden('\"+id+\"')\",100); } function hidden (id) { var mid=document.getElementById(id); mid.style.display='none'; mid.style.visibility='hidden'; } function nx_check_basic () { return ; } function nx_set_cookie (name, value, expire, domain) { var cookie = name + \"=\" + escape(value); if (expire != null) { if (expire instanceof Date) { cookie = cookie + \"; expires=\" + expire.toUTCString(); } else { var exdate = new Date((new Date()).getTime() + expire*1000); cookie = cookie + \"; expires=\" + exdate.toUTCString(); } } cookie = cookie + \"; path=/\"; if (domain != null) { cookie = cookie + \"; domain=\" + domain; } document.cookie = cookie; } function nx_get_cookie (name) { var cookie_list = document.cookie.split(/\\s*;\\s*/); for (var i = 0; i < cookie_list.length; i++) { var tmp_list = cookie_list[i].split(\"=\"); var c_name = trim_space(tmp_list[0]); var c_value = tmp_list[1]; if (name == c_name) { return unescape(c_value); } } return null; } var nx_default_charset = document.charset ; function nx_form_emul_charset (form) { if (/msie/i.test(navigator.userAgent) && !/opera/i.test(navigator.userAgent)) { document.charset = form.acceptCharset ; window.onbeforeunload = function () { document.charset = nx_default_charset ; } ; } return true; } (function() { function ignore(e) { var tagName = e.target.tagName.toUpperCase(); var ignoreTargets = [\"INPUT\", \"SELECT\", \"TEXTAREA\", \"EMBED\", \"OBJECT\"]; var isKeyV = e.key.toLowerCase() === \"v\"; if (ignoreTargets.indexOf(tagName) !== -1 || isContentEditable(e)) return true; else if (e.altKey) return true; else if (e.ctrlKey && !isKeyV) return true; else if (e.metaKey && !isKeyV) return true; else if (isSpaceKey(e)) return true; return false; } function isContentEditable(e) { return e.target.contentEditable === 'true'; } function stop(e) { e.preventDefault(); e.stopPropagation(); } function focus(reset) { var query = document.getElementById(\"nx_query\"); scrollTo(0, 0); if (reset) query.value = \"\"; query.focus(); query.select(); } function isSpaceKey(e) { return e.code === \"Space\" || e.key === \"Spacebar\" || e.key === \" \"; } function isShiftKeyAndSpaceKey(e) { return e.shiftKey && isSpaceKey(e); } function isF2Key(e) { return e.key === \"F2\"; } function isInsertKey(e) { return e.key === \"Insert\" || e.code === \"Insert\"; } function isSingleCharKey(e) { return e.key.length === 1; } document.addEventListener(\"keydown\", function onKeydown(e) { try { if (ignore(e)) return; if (isShiftKeyAndSpaceKey(e) || isF2Key(e) || isInsertKey(e)) { stop(e); focus(); } else if (isSingleCharKey(e)) { focus(true); } } catch (err) {} }); })(); (function(exportTarget) { var lcs_options = { nnb: true }; var lcs_version = \"v0.8.3\"; var lcs_add = {}; var lcs_bc = {}; var lcs_perf = {}; var lcs_do_count = 0; var lcs_do_retry_count = 0; var lcs_waiting_pageshow = false; function lcs_do(optional_etc) { var etc = optional_etc || {}; if (lcs_waiting_pageshow) { return; } var retry = function(__etc) { return function() { window.setTimeout(function() { lcs_waiting_pageshow = false; lcs_do(__etc); }, 10); } }(etc); if (document.readyState !== \"complete\") { var eventName = \"onpageshow\" in window ? \"pageshow\" : \"load\"; if (document.addEventListener) { window.addEventListener(eventName, retry, false); } else { window.attachEvent(\"on\"+ eventName, retry); } lcs_do_retry_count++; lcs_waiting_pageshow = true; return; } if (!window.lcs_SerName) { window.lcs_SerName = \"lcs.naver.com\"; } var rs = \"\"; var index; var itarVal; var doc = document; var wlt = window.location; var lcsServerAddr; try { lcsServerAddr = \"https://\" + window.lcs_SerName + \"/m?\"; } catch (e) { return; } try { rs = lcsServerAddr + \"u=\" + encodeURIComponent(wlt.href) + \"&e=\" + (doc.referrer ? encodeURIComponent(doc.referrer) : \"\"); } catch (e) {} try { if (typeof lcs_add.i == \"undefined\") lcs_add.i = \"\"; if (lcs_do_count < 1) { lcs_setBrowserCapa(); if (lcs_options.nnb) { lcs_setNNB(); } lcs_setConnectionType(); lcs_setNavigationTiming(); var loadEventStart = lcs_perf[\"loadEventStart\"] || 0; var loadEventEnd = lcs_perf[\"loadEventEnd\"] || 0; if (loadEventEnd < loadEventStart && lcs_do_retry_count < 3) { lcs_do_retry_count++; lcs_waiting_pageshow = true; retry(); return; } lcs_setPaintTiming(); lcs_setNavigationType(); } for (index in lcs_bc) { if (typeof lcs_bc[index] !== \"function\") rs += \"&\" + index + \"=\" + encodeURIComponent(lcs_bc[index]); } for (index in lcs_add) { itarVal = lcs_add[index]; if (itarVal !== undefined && typeof itarVal !== \"function\") { rs += \"&\" + index + \"=\" + encodeURIComponent(itarVal); } } if (lcs_do_count < 1) { for (index in lcs_perf) { itarVal = lcs_perf[index]; if (itarVal) { rs += \"&\" + index + \"=\" + encodeURIComponent(itarVal); } } } var dni = !!etc.dni ? etc.dni : getCookie(\"NAPP_DI\"); if (!!dni) { etc.dni = dni; } else { delete etc.dni; } for (index in etc) { if ( (index.length >= 3 && typeof etc[index] !== \"function\") || index === \"qy\" ) { rs += \"&\" + index + \"=\" + encodeURIComponent(etc[index]); } } if (!!etc === false || !!etc.pid === false) { var pidFallback; if (window.g_pid) { pidFallback = g_pid; } else { pidFallback = lcs_get_lpid(); } rs += \"&pid=\" + encodeURIComponent(pidFallback); } var timeStr = new Date().getTime(); rs += \"&ts=\" + timeStr; rs += \"&EOU\"; var obj = document.createElement(\"img\"); obj.src = rs; obj.onload = function() { obj.onload = null; return; }; lcs_do_count++; } catch (e) { return; } } function getCookie(name) { var value = document.cookie.match('(^|;) ?' + name + '=([^;]*)(;|$)'); return value? value[2] : \"\"; } function lcs_do_gdid(gdid, etc) { try { if (gdid) { lcs_add[\"i\"] = gdid; if (etc) { lcs_do(etc); } else { lcs_do(); } } } catch (e) {} } function getLocalStorage() { var localStorage = null; try { localStorage = window.localStorage; } catch (e) {} try { if (!localStorage) localStorage = window.sessionStorage; } catch (e) {} return localStorage || null; } function lcs_setNNB() { try { var lsg = getLocalStorage(); if (lsg) { if (lsg.ls) { var lc = lsg.ls; if (lc.length == 13) { lcs_add[\"ls\"] = lc; return; } } var nnb = lcs_getNNBfromCookie(); if (nnb != null && nnb != \"\") { lsg.ls = nnb; lcs_add[\"ls\"] = nnb; } } } catch (e) {} } function lcs_setBrowserCapa() { lcs_bc[\"os\"] = lcs_getOS(); lcs_bc[\"ln\"] = lcs_getlanguage(); lcs_bc[\"sr\"] = lcs_getScreen(); lcs_bc[\"pr\"] = window.devicePixelRatio || 1; var windowSize = lcs_getWindowSize(); lcs_bc[\"bw\"] = windowSize[\"bw\"]; lcs_bc[\"bh\"] = windowSize[\"bh\"]; lcs_bc[\"c\"] = lcs_getColorDepth(); lcs_bc[\"j\"] = lcs_getJavaEnabled(); lcs_bc[\"k\"] = lcs_getCookieEnabled(); } function lcs_getOS() { var lcs_os = \"\"; try { navigator.platform ? (lcs_os = navigator.platform) : \"\"; } catch (e) {} return lcs_os; } function lcs_getlanguage() { var lcs_ln = \"\"; try { navigator.userLanguage ? (lcs_ln = navigator.userLanguage) : navigator.language ? (lcs_ln = navigator.language) : \"\"; } catch (e) {} return lcs_ln; } function lcs_getScreen() { var lcs_sr = \"\"; try { if (window.screen && screen.width && screen.height) { lcs_sr = screen.width + \"x\" + screen.height; } else if (window.java || self.java) { var sr = java.awt.Toolkit.getDefaultToolkit().getScreenSize(); lcs_sr = sr.width + \"x\" + sr.height; } } catch (e) { lcs_sr = \"\"; } return lcs_sr; } function lcs_getWindowSize() { var doc = document; var size = { bw: \"\", bh: \"\" }; try { size[\"bw\"] = doc.documentElement.clientWidth ? doc.documentElement.clientWidth : doc.body.clientWidth; size[\"bh\"] = doc.documentElement.clientHeight ? doc.documentElement.clientHeight : doc.body.clientHeight; } catch (e) {} return size; } function lcs_getColorDepth() { var colorDepth = \"\"; try { if (window.screen) { colorDepth = screen.colorDepth ? screen.colorDepth : screen.pixelDepth; } else if (window.java || self.java) { var c = java.awt.Toolkit.getDefaultToolkit() .getColorModel() .getPixelSize(); colorDepth = c; } } catch (e) { colorDepth = \"\"; } return colorDepth; } function lcs_getJavaEnabled() { var jsEnable = \"\"; try { jsEnable = navigator.javaEnabled() ? \"Y\" : \"N\"; } catch (e) {} return jsEnable; } function lcs_getCookieEnabled() { var cookieEnable = \"\"; try { cookieEnable = navigator.cookieEnabled ? \"Y\" : \"N\"; } catch (e) {} return cookieEnable; } function lcs_getNNBfromCookie() { try { var ck = document.cookie; var k, v, i, ArrCookies = ck.split(\";\"); for (i = 0; i < ArrCookies.length; i++) { k = ArrCookies[i].substr(0, ArrCookies[i].indexOf(\"=\")); v = ArrCookies[i].substr(ArrCookies[i].indexOf(\"=\") + 1); k = k.replace(/^\\s+|\\s+$/g, \"\"); if (k == \"NNB\") { return unescape(v); } } } catch (e) {} } function lcs_setConnectionType() { var connection = navigator.connection; if (connection) { if (connection.type && connection.type.length > 1) { lcs_add[\"ct\"] = connection.type; } if (connection.effectiveType) { lcs_add[\"ect\"] = connection.effectiveType; } } } function lcs_setNavigationTiming() { var performance = window.performance || {}; if (performance.timing) { var pt = performance.timing; for (var key in pt) { var value = pt[key]; if (typeof value === \"number\") { lcs_perf[key] = value; } } } } function lcs_setPaintTiming() { var performance = window.performance || {}; try { if (performance.getEntriesByType) { var performanceEntries = performance.getEntriesByType(\"paint\"); performanceEntries.forEach(function(performanceEntry, i, entries) { var name = performanceEntry.name; switch (name) { case \"first-paint\": case \"first-contentful-paint\": lcs_perf[name] = performanceEntry.startTime; break; default: break; } }); } else { } } catch (e) { console.warn(e); } } function lcs_setNavigationType() { var ngt = getNavigationType(); if (ngt !== undefined) { lcs_perf[\"ngt\"] = ngt; } } function getNavigationType() { var performance = window.performance || {}; if (performance.navigation) { return performance.navigation.type; } return; } var lpid = null; function lcs_create_lpid() { var uaID; var lsg = getLocalStorage(); var nnb = lsg ? lsg.ls : null; if (nnb) { uaID = nnb; } else { var nnbFallback; nnbFallback = navigator.userAgent + Math.random(); uaID = nnbFallback; } var performance = window.performance || {}; var pageURL = location.href; var currentTime; if (performance.now) { currentTime = performance.now(); } else { currentTime = new Date().getTime(); } lpid = hashFunction.md5(uaID + pageURL + currentTime); return lpid; } function lcs_get_lpid() { if (lpid === null) { lpid = lcs_create_lpid(); } return lpid; } function lcs_update_lpid() { lpid = lcs_create_lpid(); return lpid; } var hashFunction = {}; (function(exportTarget) { function safeAdd(x, y) { var lsw = (x & 0xffff) + (y & 0xffff); var msw = (x >> 16) + (y >> 16) + (lsw >> 16); return (msw << 16) | (lsw & 0xffff); } function bitRotateLeft(num, cnt) { return (num << cnt) | (num >>> (32 - cnt)); } function md5cmn(q, a, b, x, s, t) { return safeAdd( bitRotateLeft(safeAdd(safeAdd(a, q), safeAdd(x, t)), s), b ); } function md5ff(a, b, c, d, x, s, t) { return md5cmn((b & c) | (~b & d), a, b, x, s, t); } function md5gg(a, b, c, d, x, s, t) { return md5cmn((b & d) | (c & ~d), a, b, x, s, t); } function md5hh(a, b, c, d, x, s, t) { return md5cmn(b ^ c ^ d, a, b, x, s, t); } function md5ii(a, b, c, d, x, s, t) { return md5cmn(c ^ (b | ~d), a, b, x, s, t); } function binlMD5(x, len) { x[len >> 5] |= 0x80 << len % 32; x[(((len + 64) >>> 9) << 4) + 14] = len; var i; var olda; var oldb; var oldc; var oldd; var a = 1732584193; var b = -271733879; var c = -1732584194; var d = 271733878; for (i = 0; i < x.length; i += 16) { olda = a; oldb = b; oldc = c; oldd = d; a = md5ff(a, b, c, d, x[i], 7, -680876936); d = md5ff(d, a, b, c, x[i + 1], 12, -389564586); c = md5ff(c, d, a, b, x[i + 2], 17, 606105819); b = md5ff(b, c, d, a, x[i + 3], 22, -1044525330); a = md5ff(a, b, c, d, x[i + 4], 7, -176418897); d = md5ff(d, a, b, c, x[i + 5], 12, 1200080426); c = md5ff(c, d, a, b, x[i + 6], 17, -1473231341); b = md5ff(b, c, d, a, x[i + 7], 22, -45705983); a = md5ff(a, b, c, d, x[i + 8], 7, 1770035416); d = md5ff(d, a, b, c, x[i + 9], 12, -1958414417); c = md5ff(c, d, a, b, x[i + 10], 17, -42063); b = md5ff(b, c, d, a, x[i + 11], 22, -1990404162); a = md5ff(a, b, c, d, x[i + 12], 7, 1804603682); d = md5ff(d, a, b, c, x[i + 13], 12, -40341101); c = md5ff(c, d, a, b, x[i + 14], 17, -1502002290); b = md5ff(b, c, d, a, x[i + 15], 22, 1236535329); a = md5gg(a, b, c, d, x[i + 1], 5, -165796510); d = md5gg(d, a, b, c, x[i + 6], 9, -1069501632); c = md5gg(c, d, a, b, x[i + 11], 14, 643717713); b = md5gg(b, c, d, a, x[i], 20, -373897302); a = md5gg(a, b, c, d, x[i + 5], 5, -701558691); d = md5gg(d, a, b, c, x[i + 10], 9, 38016083); c = md5gg(c, d, a, b, x[i + 15], 14, -660478335); b = md5gg(b, c, d, a, x[i + 4], 20, -405537848); a = md5gg(a, b, c, d, x[i + 9], 5, 568446438); d = md5gg(d, a, b, c, x[i + 14], 9, -1019803690); c = md5gg(c, d, a, b, x[i + 3], 14, -187363961); b = md5gg(b, c, d, a, x[i + 8], 20, 1163531501); a = md5gg(a, b, c, d, x[i + 13], 5, -1444681467); d = md5gg(d, a, b, c, x[i + 2], 9, -51403784); c = md5gg(c, d, a, b, x[i + 7], 14, 1735328473); b = md5gg(b, c, d, a, x[i + 12], 20, -1926607734); a = md5hh(a, b, c, d, x[i + 5], 4, -378558); d = md5hh(d, a, b, c, x[i + 8], 11, -2022574463); c = md5hh(c, d, a, b, x[i + 11], 16, 1839030562); b = md5hh(b, c, d, a, x[i + 14], 23, -35309556); a = md5hh(a, b, c, d, x[i + 1], 4, -1530992060); d = md5hh(d, a, b, c, x[i + 4], 11, 1272893353); c = md5hh(c, d, a, b, x[i + 7], 16, -155497632); b = md5hh(b, c, d, a, x[i + 10], 23, -1094730640); a = md5hh(a, b, c, d, x[i + 13], 4, 681279174); d = md5hh(d, a, b, c, x[i], 11, -358537222); c = md5hh(c, d, a, b, x[i + 3], 16, -722521979); b = md5hh(b, c, d, a, x[i + 6], 23, 76029189); a = md5hh(a, b, c, d, x[i + 9], 4, -640364487); d = md5hh(d, a, b, c, x[i + 12], 11, -421815835); c = md5hh(c, d, a, b, x[i + 15], 16, 530742520); b = md5hh(b, c, d, a, x[i + 2], 23, -995338651); a = md5ii(a, b, c, d, x[i], 6, -198630844); d = md5ii(d, a, b, c, x[i + 7], 10, 1126891415); c = md5ii(c, d, a, b, x[i + 14], 15, -1416354905); b = md5ii(b, c, d, a, x[i + 5], 21, -57434055); a = md5ii(a, b, c, d, x[i + 12], 6, 1700485571); d = md5ii(d, a, b, c, x[i + 3], 10, -1894986606); c = md5ii(c, d, a, b, x[i + 10], 15, -1051523); b = md5ii(b, c, d, a, x[i + 1], 21, -2054922799); a = md5ii(a, b, c, d, x[i + 8], 6, 1873313359); d = md5ii(d, a, b, c, x[i + 15], 10, -30611744); c = md5ii(c, d, a, b, x[i + 6], 15, -1560198380); b = md5ii(b, c, d, a, x[i + 13], 21, 1309151649); a = md5ii(a, b, c, d, x[i + 4], 6, -145523070); d = md5ii(d, a, b, c, x[i + 11], 10, -1120210379); c = md5ii(c, d, a, b, x[i + 2], 15, 718787259); b = md5ii(b, c, d, a, x[i + 9], 21, -343485551); a = safeAdd(a, olda); b = safeAdd(b, oldb); c = safeAdd(c, oldc); d = safeAdd(d, oldd); } return [a, b, c, d]; } function binl2rstr(input) { var i; var output = \"\"; var length32 = input.length * 32; for (i = 0; i < length32; i += 8) { output += String.fromCharCode((input[i >> 5] >>> i % 32) & 0xff); } return output; } function rstr2binl(input) { var i; var output = []; output[(input.length >> 2) - 1] = undefined; for (i = 0; i < output.length; i += 1) { output[i] = 0; } var length8 = input.length * 8; for (i = 0; i < length8; i += 8) { output[i >> 5] |= (input.charCodeAt(i / 8) & 0xff) << i % 32; } return output; } function rstrMD5(s) { return binl2rstr(binlMD5(rstr2binl(s), s.length * 8)); } function rstrHMACMD5(key, data) { var i; var bkey = rstr2binl(key); var ipad = []; var opad = []; var hash; ipad[15] = opad[15] = undefined; if (bkey.length > 16) { bkey = binlMD5(bkey, key.length * 8); } for (i = 0; i < 16; i += 1) { ipad[i] = bkey[i] ^ 0x36363636; opad[i] = bkey[i] ^ 0x5c5c5c5c; } hash = binlMD5(ipad.concat(rstr2binl(data)), 512 + data.length * 8); return binl2rstr(binlMD5(opad.concat(hash), 512 + 128)); } function rstr2hex(input) { var hexTab = \"0123456789abcdef\"; var output = \"\"; var x; var i; for (i = 0; i < input.length; i += 1) { x = input.charCodeAt(i); output += hexTab.charAt((x >>> 4) & 0x0f) + hexTab.charAt(x & 0x0f); } return output; } function str2rstrUTF8(input) { return unescape(encodeURIComponent(input)); } function rawMD5(s) { return rstrMD5(str2rstrUTF8(s)); } function hexMD5(s) { return rstr2hex(rawMD5(s)); } function rawHMACMD5(k, d) { return rstrHMACMD5(str2rstrUTF8(k), str2rstrUTF8(d)); } function hexHMACMD5(k, d) { return rstr2hex(rawHMACMD5(k, d)); } function md5(string, key, raw) { if (!key) { if (!raw) { return hexMD5(string); } return rawMD5(string); } if (!raw) { return hexHMACMD5(key, string); } return rawHMACMD5(key, string); } exportTarget.md5 = md5; })(hashFunction); exportTarget.lcs_do = lcs_do; exportTarget.lcs_do_gdid = lcs_do_gdid; exportTarget.lcs_get_lpid = lcs_get_lpid; exportTarget.lcs_update_lpid = lcs_update_lpid; exportTarget.lcs_version = lcs_version; })(window); if (window.addEventListener) window.addEventListener(\"load\", function() { lcs_do({\"pid\": \"hFaxmdp0JywssA7zjaGssssssgG-199587\", \"ssc\":\"tab.news.all\"}) }, false) ; else lcs_do({\"pid\": \"hFaxmdp0JywssA7zjaGssssssgG-199587\", \"ssc\":\"tab.news.all\"}) ; </script> <script crossorigin=\"anonymous\" src=\"https://ssl.pstatic.net/sstatic/sdyn.js?f=/au/pc/_nx/jindo_1.5.3_171116.js+/search/js/nhn.Component.js+/search/js/jindo.Component.1.1.0.js+/search/js/jindo.component.library_120927.js+/au/s/pc/_common/jindo/jindo.Rolling_140526.js+/au/s/pc/_search/news_auto_refresh/nhn.news.srchopt.news_auto_refresh_140829.js+/fe/sfe/_common/pc/nhn.common_211014_a.js+/fe/sfe/nx_jquery/pc/nx_jquery_220428.js+/fe/meerkat/logger/sfe/naver.common.meerkat.logger.sfePc_220427.js+/au/pc/naver_autocomplete/naver.common.atcmp.naver_web_210408.js+/fe/sfe/web-vitals/web-vitals_220329.js&amp;o=search\" type=\"text/javascript\"></script> <script> 0 && naver.common.meerkat.logger.observe(); function nx_add_event_handler (event, func) { $Fn(func).attach(document, event) ; } </script><script type=\"text/javascript\"> function nx_form_submit (f) { if (g_D || 0) f.action = \"\" ; if (typeof naver.search.option !== 'undefined') naver.search.option.append_params(f, ['qdt', 'qvt']); return true ; } </script><script type=\"text/javascript\"> var g_site = \"\" ; function document_write (s) { document.write(s) ; } nhn.jsLazyLoad = { include: function(a, b, c) { nx_js_lazyload(a, b, 0) ; } } ; nx_js_defer_load(\"https://ssl.pstatic.net/sstatic/au/s/pc/_others/nxtt/search_om.js\", function() {NXTT.div=document.getElementById(\"nxtt_div\");}, 50); </script></link></meta></head> <body class=\"wrap-new api_animation tabsch tabsch_news\"> <div id=\"nxtt_div\" style=\"display:none;position:absolute;border-width:0;z-index:11000\"></div> <div id=\"u_skip\"> <a href=\"#lnb\"><span>메뉴 영역으로 바로가기</span></a> <a href=\"#content\"><span>본문 영역으로 바로가기</span></a> </div> <div id=\"wrap\"> <div id=\"header_wrap\" role=\"heading\"> <div class=\"api_floating_header\"> <div class=\"gnb_wrap\"> <div class=\"header_group\"> <div class=\"search_area\"> <h1 class=\"logo special\"> <a class=\"link\" href=\"https://www.naver.com\" onclick=\"return goOtherCR(this, 'a=sta.naver&amp;r=&amp;i=&amp;u='+urlencode(this.href));\"><img alt=\"NAVER\" height=\"60\" src=\"https://ssl.pstatic.net/sstatic/search/nlogo/20220503202153.png\" width=\"58\"/></a> </h1> <form action=\"?\" id=\"nx_search_form\" method=\"get\" name=\"search\" onsubmit=\"return nx_form_submit(this)\" role=\"search\"> <fieldset class=\"greenwindow\"> <legend>검색</legend> <input name=\"sm\" type=\"hidden\" value=\"tab_hty.top\"/> <input name=\"where\" type=\"hidden\" value=\"news\"/> <div class=\"greenbox\"> <input accesskey=\"s\" autocomplete=\"off\" class=\"box_window\" data-atcmp-element=\"\" id=\"nx_query\" maxlength=\"255\" name=\"query\" placeholder=\"검색어를 입력해 주세요.\" type=\"text\" value=\"포바이포\"/> </div> <input name=\"oquery\" type=\"hidden\" value=\"포바이포\"/> <input name=\"tqi\" type=\"hidden\" value=\"hFaxmdp0JywssA7zjaGssssssgG-199587\"/> <input disabled=\"\" name=\"acq\" type=\"hidden\" value=\"\"/> <input disabled=\"\" name=\"acr\" type=\"hidden\" value=\"\"/> <input disabled=\"\" name=\"qdt\" type=\"hidden\" value=\"\"/> <input disabled=\"\" name=\"acir\" type=\"hidden\" value=\"\"/> <input disabled=\"\" name=\"os\" type=\"hidden\" value=\"\"/> <input disabled=\"\" name=\"bid\" type=\"hidden\" value=\"\"/> <input disabled=\"\" name=\"pkid\" type=\"hidden\" value=\"\"/> <input disabled=\"\" name=\"eid\" type=\"hidden\" value=\"\"/> <input disabled=\"\" name=\"mra\" type=\"hidden\" value=\"\"/> <div class=\"setkr_area\"> <a aria-pressed=\"false\" class=\"bt_setkr\" href=\"#\" id=\"ke_kbd_btn\" onclick=\"return tCR('a=sch.ime');\" role=\"button\"><i class=\"spnew ico_keyboard\">한글 입력기</i></a> <div id=\"_nx_kbd\" style=\"display:none;\"></div> </div> <script> (function() { var startApplication = function() { var jsUrl = \"https://ssl.pstatic.net/sstatic/au/pc/ime/ime_201105.js\"; var ime; jQuery(\"#ke_kbd_btn\").on(\"click\", function(){ require([jsUrl], function(IMEKeyboard) { if (ime) { ime.toggle(); return; } ime = new IMEKeyboard({selector: { TOGGLE_BTN: \"#ke_kbd_btn\", CONTENTS_AREA: \"#_nx_kbd\", INPUT: \"#nx_query\" }}).toggle(); }, function () { alert(\"네트워크 상태가 안 좋아 한영입력기를 불러오지 못했습니다.\\n잠시 후 다시 시도해 주세요.\"); }); }); }; naver.common.load_js(window.require ? null : naver.common.gv.REQUIRE_JS, startApplication, true, 150); })(); </script> <div class=\"autocomplete\"> <a aria-pressed=\"false\" class=\"bt_atcp _btn_arw\" data-atcmp-element=\"\" href=\"#\" id=\"nautocomplete\" role=\"button\"><i class=\"spnew ico_arrow\">자동완성 레이어</i></a> <div class=\"ly_atcmp\" data-atcmp-element=\"\" id=\"nx_autoframe_top\" style=\"display:none\"> <div class=\"api_atcmp_wrap\"> <div class=\"atcmp_fixer _recent_layer\" style=\"display:none;\"> <div class=\"atcmp_header _recent_header\"> <strong class=\"tit\">최근검색어</strong> <div class=\"option\"> <a aria-pressed=\"false\" class=\"item _delAll\" href=\"#\" role=\"button\">전체삭제</a> </div> </div> <div class=\"atcmp_container\"> <ul class=\"kwd_lst _recent\"> <li class=\"item _item\" data-keyword=\"@in_txt@\" data-rank=\"@rank@\" data-template-type=\"history\"> <a class=\"kwd\" href=\"#\"> <span class=\"fix\"><span class=\"common_ico_kwd\"><i class=\"imsc ico_search\"></i></span><span>@txt@</span></span> </a> <span class=\"etc\"> <em class=\"date\">@date@.</em> <a aria-pressed=\"false\" class=\"bt_item _del\" href=\"#\" role=\"button\"><i class=\"imsc ico_del\">삭제</i></a> </span> </li> </ul> <div class=\"kwd_info kwd_off _offMsg\" style=\"display: none;\">검색어 저장 기능이 꺼져 있습니다.<br/><span class=\"kwd_dsc\">설정이 초기화 된다면 <a class=\"kwd_help\" href=\"https://help.naver.com/support/alias/search/word/word_29.naver\" onclick=\"return goOtherCR(this,'a=sly.help&amp;r=&amp;i=&amp;u='+urlencode(this.href));\" target=\"_blank\">도움말</a>을 확인해주세요.</span></div> <div class=\"kwd_info kwd_none _recentNone\" style=\"display: none;\">최근 검색어 내역이 없습니다.<br/><span class=\"kwd_dsc\">설정이 초기화 된다면 <a class=\"kwd_help\" href=\"https://help.naver.com/support/alias/search/word/word_29.naver\" onclick=\"return goOtherCR(this,'a=sly.help&amp;r=&amp;i=&amp;u='+urlencode(this.href));\" target=\"_blank\">도움말</a>을 확인해주세요.</span></div> </div> <div class=\"atcmp_footer\"> <span class=\"side_opt_area\"> <span class=\"opt_item\"><a href=\"https://help.naver.com/support/alias/search/word/word_29.naver\" onclick=\"return goOtherCR(this,'a=sly.help&amp;r=&amp;i=&amp;u='+urlencode(this.href));\" target=\"_blank\">도움말</a></span> </span> <span class=\"rside_opt_area\"> <span class=\"opt_item\"> <a class=\"close _keywordOnOff\" href=\"#\">자동저장 끄기</a> </span> </span> </div> </div> <div class=\"atcmp_fixer _atcmp_layer\" style=\"display:none;\"> <div class=\"atcmp_container _words\"> <div class=\"atcmp_correct type_lotto _answer\" data-code=\"@code@\" data-keyword=\"@1@\" data-template-type=\"answer_3\"> <a class=\"link_item\" href=\"#\"> <span class=\"common_ico_kwd\"><i class=\"imsc ico_search\"></i></span> <div class=\"dsc_area\"> <span class=\"tit\">@5@회차 당첨번호</span> <span class=\"dsc\"> <span class=\"item\">추첨 @13@.</span><span class=\"item\">지급기한 1년</span> </span> </div> <span class=\"etc_area\"> <span class=\"etc lotto\"> <em class=\"n@6@\">@6@</em><em class=\"n@7@\">@7@</em><em class=\"n@8@\">@8@</em><em class=\"n@9@\">@9@</em><em class=\"n@10@\">@10@</em><em class=\"n@11@\">@11@</em><em class=\"imsc_bf bonus n@12@\">@12@</em> </span> </span> </a> </div> <div class=\"atcmp_correct type_exchange _answer\" data-code=\"@code@\" data-keyword=\"@1@\" data-template-type=\"answer_9\"> <a class=\"link_item @11@\" href=\"#\"> <span class=\"common_ico_kwd\"><i class=\"imsc ico @12@\">@14@</i></span> <div class=\"dsc_area\"> <span class=\"tit\">@txt@<span class=\"sub\">@currency@</span></span> <span class=\"dsc\"> <span class=\"item\"><i class=\"imsc ico_arr\"></i>@8@(@9@%)</span> </span> </div> <span class=\"etc_area\"> <span class=\"etc\"><em class=\"num\">@6@</em>원</span> </span> </a> </div> <div class=\"atcmp_correct type_weather _answer\" data-code=\"@code@\" data-keyword=\"@1@\" data-template-type=\"answer_11\"> <a class=\"link_item @12@\" href=\"#\"> <span class=\"common_ico_kwd\"><i class=\"imsc ico_search\"></i></span> <div class=\"dsc_area\"> <span class=\"tit\">@txt@</span> <span class=\"dsc\"> <span class=\"item\">@7@, @message@</span> </span> </div> <span class=\"etc_area\"> <span class=\"etc\"> <span class=\"ico_weather\"><i class=\"imsc ico ico@iconNo@\">@7@</i></span> <em class=\"degree\">@8@<sup class=\"celsius\">°</sup></em> </span> </span> </a> </div> <div class=\"atcmp_correct type_site _answer\" data-code=\"@code@\" data-keyword=\"@1@\" data-template-type=\"answer_17\"> <a class=\"link_item\" href=\"@5@\" target=\"_blank\"> <span class=\"common_ico_kwd\"><i class=\"imsc ico_url\"></i></span> <div class=\"dsc_area\"> <span class=\"tit\">@txt@</span> <span class=\"dsc\"> <span class=\"item\">@5@</span> </span> </div> <span class=\"etc_area\"> <span class=\"etc\">바로가기</span> </span> </a> </div> <ul class=\"kwd_lst _kwd_list\"> <li class=\"item _item\" data-keyword=\"@in_txt@\" data-rank=\"@rank@\" data-template-type=\"suggestion\"> <a class=\"kwd\" href=\"#\"> <span class=\"fix\"><span class=\"common_ico_kwd\"><i class=\"imsc ico_search\"></i></span>@txt@</span> </a> <span class=\"etc\"> <a aria-pressed=\"false\" class=\"bt_item _add\" href=\"#\" role=\"button\"><i class=\"imsc ico_insert\">추가</i></a> </span> </li> <li class=\"item has_correct _item\" data-keyword=\"@in_txt@\" data-rank=\"@rank@\" data-template-type=\"history\"> <a class=\"kwd\" href=\"#\"> <span class=\"fix\"><span class=\"common_ico_kwd\"><i class=\"imsc ico_search\"></i></span>@txt@</span> </a> <span class=\"etc\"> <em class=\"date\">@date@.</em> <a aria-pressed=\"false\" class=\"bt_item _add\" href=\"#\" role=\"button\"><i class=\"imsc ico_insert\">추가</i></a> </span> </li> </ul> <li class=\"item has_correct _item\" data-intend-rank=\"@intendRank@\" data-keyword=\"@transQuery@\" data-rank=\"@rank@\" data-template-type=\"intend\"> <a class=\"kwd\" href=\"#\"> <span class=\"fix\"><span class=\"common_ico_kwd\"><i class=\"imsc ico_search\"></i></span>@query@ <span class=\"context\">@intend@</span></span> </a> <span class=\"etc\"> <a aria-pressed=\"false\" class=\"bt_item _add\" href=\"#\" role=\"button\"><i class=\"imsc ico_insert\">추가</i></a> </span> </li> <div class=\"atcmp_alert _alert\"> <div class=\"dsc_election\"> <p class=\"dsc\"> <i class=\"imsc ico_election\"></i><span class=\"_alert_passage\"></span> </p> <span class=\"dsc_inner\"> <span class=\"_alert_passage2\"></span> <a class=\"link _alert_link\" href=\"#\" onclick=\"return goOtherCR(this,'a=sug.vote&amp;r=&amp;i=&amp;u='+urlencode(this.href));\" target=\"_blank\">자세히보기</a> </span> </div> </div> <div class=\"atcmp_plus _plus\"> <div class=\"dsc_plus\"> <a class=\"link_dsc\" href=\"https://help.naver.com/support/alias/search/word/word_16.naver\" onclick=\"return goOtherCR(this,'a=sug.cxhelp&amp;r=&amp;i=&amp;u='+urlencode(this.href));\" target=\"_blank\">관심사를 반영한 컨텍스트 자동완성<i class=\"imsc ico_help\">도움말</i></a> </div> <div class=\"switch\"> <a aria-pressed=\"false\" class=\"bt_switch active _plus_btn\" href=\"#\" role=\"button\"><i class=\"imsc ico_option\">컨텍스트 자동완성</i></a> </div> <div class=\"layer_plus _plus_layer\"> <strong class=\"tit\">컨텍스트 자동완성</strong> <div class=\"_plus_layer_isloggedin\" style=\"display:none\"> <p class=\"dsc\">ON/OFF 설정은<br/>해당기기(브라우저)에 저장됩니다.</p> <div class=\"btn_area\"> <a class=\"btn btn_view\" href=\"https://help.naver.com/support/alias/search/word/word_16.naver\" onclick=\"return goOtherCR(this,'a=sug.cxhelp&amp;r=&amp;i=&amp;u='+urlencode(this.href));\" target=\"_blank\">자세히</a> </div> </div> <div class=\"_plus_layer_isnotloggedin\" style=\"display:none\"> <p class=\"dsc\"><em class=\"txt\">동일한 시간대/연령/남녀별</em> 사용자 그룹의<br/>관심사에 맞춰 자동완성을 제공합니다.</p> <div class=\"btn_area\"> <a class=\"btn btn_login\" href=\"https://nid.naver.com/nidlogin.login?url=https%3A%2F%2Fsearch.naver.com%2Fsearch.naver%3Fwhere%3Dnews%26sm%3Dtab_pge%26query%3D%25ED%258F%25AC%25EB%25B0%2594%25EC%259D%25B4%25ED%258F%25AC%26sort%3D0%26photo%3D0%26field%3D0%26pd%3D3%26ds%3D2022.03.29%26de%3D2022.04.28%26cluster_rank%3D71%26mynews%3D0%26office_type%3D0%26office_section_code%3D0%26news_office_checked%3D%26nso%3Dso%3Ar%2Cp%3Afrom20220329to20220428%2Ca%3Aall%26start%3D1\" onclick=\"return goOtherCR(this,'a=sug.cxlogin&amp;r=&amp;i=&amp;u='+urlencode(this.href));\">로그인</a> <a class=\"btn btn_view\" href=\"https://help.naver.com/support/alias/search/word/word_16.naver\" onclick=\"return goOtherCR(this,'a=sug.cxhelp&amp;r=&amp;i=&amp;u='+urlencode(this.href));\" target=\"_blank\">자세히</a> </div> </div> <a class=\"btn_close _plus_layer_close\" href=\"#\" onclick=\"return tCR('a=sug.cxhide');\" role=\"button\"><i class=\"imsc ico_close\">컨텍스트 자동완성 레이어 닫기</i></a> </div> </div> </div> <div class=\"atcmp_footer\"> <span class=\"side_opt_area\"> <span class=\"opt_item\"><a href=\"https://help.naver.com/support/alias/search/word/word_17.naver\" onclick=\"return goOtherCR(this,'a=sug.help&amp;r=&amp;i=&amp;u='+urlencode(this.href));\" target=\"_blank\">도움말</a></span> <span class=\"opt_item\"><a class=\"report\" href=\"https://help.naver.com/support/alias/search/word/word_18.naver\" onclick=\"return goOtherCR(this,'a=sug.report&amp;r=&amp;i=&amp;u='+urlencode(this.href));\" target=\"_blank\">신고</a></span> </span> <span class=\"rside_opt_area\"> <span class=\"opt_item\"> <a class=\"close _suggestOnOff\" href=\"#\">자동완성 끄기</a> </span> </span> </div> </div> </div> </div> </div> <button class=\"bt_search\" type=\"submit\"><i class=\"spnew ico_search\">검색</i></button> </fieldset> </form> </div></div> <div id=\"gnb\"> <script type=\"text/javascript\"> var gnb_option = { gnb_service : \"search\", gnb_template : \"gnb_utf8\", gnb_logout : encodeURIComponent(location.href), gnb_login : encodeURIComponent(location.href), gnb_brightness : 1 , gnb_item_hide_option : 0 } ; var gnb_url = \"https://ssl.pstatic.net/static.gn/templates/gnb_utf8.nhn\" ; nx_js_defer_load(gnb_url + \"?\" + headerfooter_time_year_s + headerfooter_time_month_s + headerfooter_time_day_s + headerfooter_time_hour_s, function() { getGNB() ; $Fn(function(we) { if (typeof gnbAllLayerClose == \"function\") { var bShowLayer = gnbUserLayer.show || gnbNaverMeLayer.show || gnbMoreLayer.show; var bClickGNBArea = $Element($$.getSingle(\"ul.gnb_lst\")).isEqual(we.element) || $Element($$.getSingle(\"ul.gnb_lst\")).isParentOf(we.element); if (bShowLayer && !bClickGNBArea) { gnbAllLayerClose(); } } }, this).attach(document, \"click\"); }, 0) ; </script> </div> </div><script> var nx_usain_beacon = function($) { var sent = 0; var tags = []; var usain_obj = { send: function() { if (sent > 0) { return; } sent = 1; setTimeout(function() { var perf = \"\"; perf = (function() { function _(t) { return (t?(t-window.performance.timing.navigationStart):0); }; if (typeof(window.performance) == \"undefined\") { return \"\" } if (typeof(window.performance.timing) == \"undefined\") { return \"\" } if (typeof(window.performance.navigation) == \"undefined\") { return \"\" } if (typeof(window.g_puid) == \"undefined\") { return \"\" } if (typeof(window.g_ssc) == \"undefined\") { return \"\" } var t = window.performance.timing; var n = window.performance.navigation; return \"navt=\" + [_(t.navigationStart), _(t.unloadEventStart), _(t.unloadEventEnd), _(t.redirectStart), _(t.redirectEnd), _(t.fetchStart), _(t.domainLookupStart), _(t.domainLookupEnd), _(t.connectStart), _(t.connectEnd), _(t.requestStart), _(t.responseStart), _(t.responseEnd), _(t.domLoading), _(t.domInteractive), _(t.domContentLoadedEventStart), _(t.domContentLoadedEventEnd), _(t.domComplete), _(t.loadEventStart), _(t.loadEventEnd), n.type, n.redirectCount].join(\":\") + \"&page_id=\" + encodeURIComponent(window.g_puid) + \"&ssc=\" + encodeURIComponent(window.g_ssc); }) (); if (document.location.protocol === 'https:') { tags.push('_ssl'); } else { tags.push('_nossl'); } var agent = eg.agent(); if (agent.browser.version) { var version = \"\"; var vers = (agent.browser.version + \"\").split('.'); version = vers[0]; if (version > 0) { tags.push('ua.' + agent.browser.name + '.' + version); } } if (naver.search.csdark) { tags.push(\"csdark.1\"); } else { tags.push(\"csdark.0\"); } var queries = []; if (perf) { queries.push(perf); } queries.push(\"tags=\" + tags.join(\":\") ); var u = new Image(); u.src = \"https://er.search.naver.com/er?v=2&\" + queries.join(\"&\"); u.onload = function() { u.onload = null; } }, 250); }, add_tag: function(tag) { tags.push(tag); } }; return usain_obj; }(jQuery); </script> <div id=\"lnb\" tabindex=\"0\"><div class=\"lnb_group\"> <div class=\"lnb_menu\"> <ul class=\"base\" role=\"tablist\"> <li class=\"menu\" role=\"presentation\"><a aria-selected=\"false\" class=\"tab\" href=\"?where=nexearch&amp;sm=tab_jum&amp;query=%ED%8F%AC%EB%B0%94%EC%9D%B4%ED%8F%AC\" onclick=\"return goOtherCR(this,'a=tab*N.jmp&amp;r=1&amp;i=&amp;u='+urlencode(this.href));\" role=\"tab\">통합</a></li><li class=\"menu\" role=\"presentation\"><a aria-selected=\"false\" class=\"tab\" href=\"?where=view&amp;sm=tab_jum&amp;query=%ED%8F%AC%EB%B0%94%EC%9D%B4%ED%8F%AC&amp;nso=so%3Ar%2Cp%3Afrom20220329to20220428%2Ca%3Aall\" onclick=\"return goOtherCR(this,'a=tab*e.jmp&amp;r=2&amp;i=&amp;u='+urlencode(this.href))\" role=\"tab\">VIEW</a></li><li class=\"menu\" role=\"presentation\"><a aria-selected=\"false\" class=\"tab\" href=\"?where=image&amp;sm=tab_jum&amp;query=%ED%8F%AC%EB%B0%94%EC%9D%B4%ED%8F%AC&amp;nso=so%3Ar%2Cp%3Afrom20220329to20220428%2Ca%3Aall\" onclick=\"return goOtherCR(this,'a=tab*i.jmp&amp;r=3&amp;i=&amp;u='+urlencode(this.href));\" role=\"tab\">이미지</a></li><li class=\"menu\" role=\"presentation\"><a aria-selected=\"false\" class=\"tab\" href=\"?where=kin&amp;sm=tab_jum&amp;query=%ED%8F%AC%EB%B0%94%EC%9D%B4%ED%8F%AC&amp;nso=so%3Ar%2Cp%3Afrom20220329to20220428%2Ca%3Aall\" onclick=\"return goOtherCR(this,'a=tab*k.jmp&amp;r=4&amp;i=&amp;u='+urlencode(this.href));\" role=\"tab\">지식iN</a></li><li class=\"menu\" role=\"presentation\"><a aria-selected=\"false\" class=\"tab\" href=\"?where=influencer&amp;sm=tab_jum&amp;query=%ED%8F%AC%EB%B0%94%EC%9D%B4%ED%8F%AC&amp;nso=so%3Ar%2Cp%3Afrom20220329to20220428%2Ca%3Aall\" onclick=\"return goOtherCR(this,'a=tab*F.jmp&amp;r=5&amp;i=&amp;u='+urlencode(this.href));\" role=\"tab\">인플루언서</a></li><li class=\"menu\" role=\"presentation\"><a aria-selected=\"false\" class=\"tab\" href=\"?where=video&amp;sm=tab_jum&amp;query=%ED%8F%AC%EB%B0%94%EC%9D%B4%ED%8F%AC&amp;nso=so%3Ar%2Cp%3Afrom20220329to20220428%2Ca%3Aall\" onclick=\"return goOtherCR(this,'a=tab*v.jmp&amp;r=6&amp;i=&amp;u='+urlencode(this.href));\" role=\"tab\">동영상</a></li><li class=\"menu\" role=\"presentation\"><a aria-selected=\"false\" class=\"tab\" href=\"https://search.shopping.naver.com/search/all?where=all&amp;frm=NVSCTAB&amp;query=%ED%8F%AC%EB%B0%94%EC%9D%B4%ED%8F%AC\" onclick=\"return goOtherCR(this,'a=tab*S.jmp&amp;r=7&amp;i=&amp;u='+urlencode(this.href));\" role=\"tab\" target=\"_blank\">쇼핑</a></li><li class=\"menu\" role=\"presentation\"><a aria-selected=\"true\" class=\"tab\" href=\"?where=news&amp;sm=tab_jum&amp;query=%ED%8F%AC%EB%B0%94%EC%9D%B4%ED%8F%AC&amp;nso=so%3Ar%2Cp%3Afrom20220329to20220428%2Ca%3Aall\" onclick=\"return goOtherCR(this,'a=tab*n.now&amp;r=8&amp;i=&amp;u='+urlencode(this.href));\" role=\"tab\">뉴스</a></li><li class=\"menu\" role=\"presentation\"><a aria-selected=\"false\" class=\"tab\" href=\"https://dict.naver.com/search.nhn?dicQuery=%ED%8F%AC%EB%B0%94%EC%9D%B4%ED%8F%AC&amp;query=%ED%8F%AC%EB%B0%94%EC%9D%B4%ED%8F%AC&amp;target=dic&amp;query_utf=&amp;isOnlyViewEE=\" onclick=\"return goOtherCR(this,'a=tab*L.jmp&amp;r=9&amp;i=&amp;u='+urlencode(this.href));\" role=\"tab\" target=\"_blank\">어학사전</a></li><li class=\"menu\" role=\"presentation\"><a aria-selected=\"false\" class=\"tab\" href=\"https://map.naver.com/v5/search/%ED%8F%AC%EB%B0%94%EC%9D%B4%ED%8F%AC\" onclick=\"return goOtherCR(this,'a=tab*M.jmp&amp;r=10&amp;i=&amp;u='+urlencode(this.href));\" role=\"tab\" target=\"_blank\">지도</a></li> </ul> <div class=\"group_more\"> <div class=\"more_area\" id=\"_nx_lnb_more\"> <a aria-pressed=\"false\" class=\"lnb_more _more_btn\" href=\"#\" onclick=\"tCR(jQuery(this).attr('aria-pressed') === 'false' ? 'a=tab.more' : 'a=tmr.less');\" role=\"button\"> <i class=\"spnew ico_lnb_more\">더보기</i> </a> <div class=\"addon\"> <ul> <li class=\"menu\" role=\"presentation\"><a aria-selected=\"false\" class=\"tab\" href=\"https://book.naver.com/search/search.nhn?query=%ED%8F%AC%EB%B0%94%EC%9D%B4%ED%8F%AC\" onclick=\"return goOtherCR(this,'a=tmr*B.jmp&amp;r=1&amp;i=&amp;u='+urlencode(this.href));\" role=\"tab\" target=\"_blank\">책</a></li><li class=\"menu\" role=\"presentation\"><a aria-selected=\"false\" class=\"tab\" href=\"https://vibe.naver.com/search?query=%ED%8F%AC%EB%B0%94%EC%9D%B4%ED%8F%AC\" onclick=\"return goOtherCR(this,'a=tmr*m.jmp&amp;r=2&amp;i=&amp;u='+urlencode(this.href));\" role=\"tab\" target=\"_blank\">뮤직</a></li><li class=\"menu\" role=\"presentation\"><a aria-selected=\"false\" class=\"tab\" href=\"?where=kdic&amp;sm=tab_jum&amp;query=%ED%8F%AC%EB%B0%94%EC%9D%B4%ED%8F%AC&amp;nso=so%3Ar%2Cp%3Afrom20220329to20220428%2Ca%3Aall\" onclick=\"return goOtherCR(this,'a=tmr*K.jmp&amp;r=3&amp;i=&amp;u='+urlencode(this.href));\" role=\"tab\">지식백과</a></li><li class=\"menu\" role=\"presentation\"><a aria-selected=\"false\" class=\"tab\" href=\"https://audioclip.naver.com/search/all?keyword=%ED%8F%AC%EB%B0%94%EC%9D%B4%ED%8F%AC\" onclick=\"return goOtherCR(this,'a=tmr*A.jmp&amp;r=4&amp;i=&amp;u='+urlencode(this.href));\" role=\"tab\" target=\"_blank\">오디오클립</a></li><li class=\"menu\" role=\"presentation\"><a aria-selected=\"false\" class=\"tab\" href=\"https://academic.naver.com/search.naver?field=0&amp;query=%ED%8F%AC%EB%B0%94%EC%9D%B4%ED%8F%AC\" onclick=\"return goOtherCR(this,'a=tmr*a.jmp&amp;r=5&amp;i=&amp;u='+urlencode(this.href));\" role=\"tab\" target=\"_blank\">학술정보</a></li> </ul> <a aria-pressed=\"false\" class=\"btn_option _option_btn\" href=\"#\" onclick=\"return tCR('a=tmr.optn');\" role=\"button\" style=\"display:none\">검색옵션</a> </div> </div> </div> </div> </div><div class=\"lnb_util\"> <ul class=\"list_util\"> <li> <a class=\"spnew_bf bt_share naver-splugin\" data-band-url=\"https://search.naver.com/search.naver?cluster_rank=71&amp;de=2022.04.28&amp;ds=2022.03.29&amp;field=0&amp;mynews=0&amp;news_office_checked=&amp;nso=so%3Ar%2Cp%3Afrom20220329to20220428%2Ca%3Aall&amp;office_section_code=0&amp;office_type=0&amp;pd=3&amp;photo=0&amp;query=%ED%8F%AC%EB%B0%94%EC%9D%B4%ED%8F%AC&amp;sm=bdp_pin&amp;sort=0&amp;start=1&amp;where=news\" data-blog-url=\"https://search.naver.com/search.naver?cluster_rank=71&amp;de=2022.04.28&amp;ds=2022.03.29&amp;field=0&amp;mynews=0&amp;news_office_checked=&amp;nso=so%3Ar%2Cp%3Afrom20220329to20220428%2Ca%3Aall&amp;office_section_code=0&amp;office_type=0&amp;pd=3&amp;photo=0&amp;query=%ED%8F%AC%EB%B0%94%EC%9D%B4%ED%8F%AC&amp;sm=svc_pin.blog&amp;sort=0&amp;start=1&amp;where=news\" data-cafe-source-form=\"2\" data-cafe-url=\"https://search.naver.com/search.naver?cluster_rank=71&amp;de=2022.04.28&amp;ds=2022.03.29&amp;field=0&amp;mynews=0&amp;news_office_checked=&amp;nso=so%3Ar%2Cp%3Afrom20220329to20220428%2Ca%3Aall&amp;office_section_code=0&amp;office_type=0&amp;pd=3&amp;photo=0&amp;query=%ED%8F%AC%EB%B0%94%EC%9D%B4%ED%8F%AC&amp;sm=svc_pin.cafe&amp;sort=0&amp;start=1&amp;where=news\" data-calendar-url=\"https://search.naver.com/search.naver?cluster_rank=71&amp;de=2022.04.28&amp;ds=2022.03.29&amp;field=0&amp;mynews=0&amp;news_office_checked=&amp;nso=so%3Ar%2Cp%3Afrom20220329to20220428%2Ca%3Aall&amp;office_section_code=0&amp;office_type=0&amp;pd=3&amp;photo=0&amp;query=%ED%8F%AC%EB%B0%94%EC%9D%B4%ED%8F%AC&amp;sm=svc_pin.cal&amp;sort=0&amp;start=1&amp;where=news\" data-evkey=\"search\" data-facebook-url=\"https://search.naver.com/search.naver?cluster_rank=71&amp;de=2022.04.28&amp;ds=2022.03.29&amp;field=0&amp;mynews=0&amp;news_office_checked=&amp;nso=so%3Ar%2Cp%3Afrom20220329to20220428%2Ca%3Aall&amp;office_section_code=0&amp;office_type=0&amp;pd=3&amp;photo=0&amp;query=%ED%8F%AC%EB%B0%94%EC%9D%B4%ED%8F%AC&amp;sm=fbp_pin&amp;sort=0&amp;start=1&amp;where=news\" data-mail-display=\"off\" data-me-display=\"off\" data-memo-url=\"https://search.naver.com/search.naver?cluster_rank=71&amp;de=2022.04.28&amp;ds=2022.03.29&amp;field=0&amp;mynews=0&amp;news_office_checked=&amp;nso=so%3Ar%2Cp%3Afrom20220329to20220428%2Ca%3Aall&amp;office_section_code=0&amp;office_type=0&amp;pd=3&amp;photo=0&amp;query=%ED%8F%AC%EB%B0%94%EC%9D%B4%ED%8F%AC&amp;sm=svc_pin.memo&amp;sort=0&amp;start=1&amp;where=news\" data-option=\"{baseElement:'spiButton2', layerPosition:'outside-bottom', align:'right', top:4, left:0, marginLeft:8, marginTop:10}\" data-service-name=\"통합검색\" data-style=\"unity-v2\" data-twitter-url=\"https://search.naver.com/search.naver?cluster_rank=71&amp;de=2022.04.28&amp;ds=2022.03.29&amp;field=0&amp;mynews=0&amp;news_office_checked=&amp;nso=so%3Ar%2Cp%3Afrom20220329to20220428%2Ca%3Aall&amp;office_section_code=0&amp;office_type=0&amp;pd=3&amp;photo=0&amp;query=%ED%8F%AC%EB%B0%94%EC%9D%B4%ED%8F%AC&amp;sm=twp_pin&amp;sort=0&amp;start=1&amp;where=news\" data-use-short-url=\"on\" href=\"#\" id=\"spiButton2\" onclick=\"return tCR('a=lnb.shr');\" role=\"button\">공유</a> </li> </ul> </div><script type=\"text/javascript\"> nx_js_defer_load(\"https://ssl.pstatic.net/spi/js/release/ko_KR/splugin.js?\" + headerfooter_time_year_s + headerfooter_time_month_s + headerfooter_time_day_s, function() { g_nx_splugin = SocialPlugIn_Core({ \"evKey\" : \"search\", \"serviceName\" : \"뉴스검색\" }) ; }, 150) ; function splugin_oninitialize(sTargetId) { var elTarget = document.getElementById(sTargetId) ; var sUrl = $$.getSingle('a._sp_each_url', elTarget ).href ; var sTitle = $Element($$.getSingle('._sp_each_title', elTarget)).text() ; var sSource = $Element($$.getSingle('._sp_each_source', elTarget)) ; if (sSource) sSource = sSource.text() ; return { \"url\" : sUrl, \"title\" : sTitle, \"option\" : {baseElement:sTargetId + '_base', layerPosition:'outside-bottom', align:'right', top:18, left:-28, marginLeft:8, marginTop:10}, \"me\" : { display : \"off\" }, \"mail\" : { display : \"off\" }, \"sourceName\" : sSource } ; } </script><script> nx_js_defer_load(\"//search.like.naver.com/static/js/likeIt.list.js?\" + headerfooter_time_year_s + headerfooter_time_month_s + headerfooter_time_day_s, function() { nhn.LikeIt.list.util.init({ sId : \"SEARCH\", sDomain : \"//search.like.naver.com\", bMobile : false }) ; }, 150) ; </script></div></div><script> (function() { var startApplication = function() { var jsFileURL = \"https://ssl.pstatic.net/sstatic/au/pc/tab/SearchTab_210504.js\"; var require = window.require.config({ \"context\": \"search_tab_module\", \"paths\": { \"SearchTab\": jsFileURL.replace(/\\.js$/, \"\"), } }); define(\"jquery\", [], function() { return jQuery; }); require([\"SearchTab\"], function(SearchTab) { var BASE_FLOATING_WIDTH = 1181; var $window = jQuery(window); var $lnb = jQuery(\"#lnb\"); var $headerWrap = jQuery(\"#header_wrap\"); var tab = new SearchTab($window, $lnb) .on(\"checkWindowWidth\", function(e){ if (e.windowWidth >= BASE_FLOATING_WIDTH) { $headerWrap.addClass(\"type_fixed\"); tab.activateFloating(); } else { tab.deactivateFloating(); $headerWrap .removeClass(\"type_fixed\") .removeClass(\"type_hide\"); } }) .on(\"hideTab\", function(){ if (window.g_nx_splugin && typeof window.g_nx_splugin.hide === \"function\") { window.g_nx_splugin.hide(); } }) .on(\"changeState\", function(e){ $headerWrap.toggleClass(\"type_hide\", e.isUnderBaseline); if (e.isUnderBaseline) { $headerWrap.addClass(\"type_animation\"); } }); window.naver = window.naver || {}; window.naver.pc = window.naver.pc || {}; window.naver.pc.search_tab = tab; }); }; naver.common.load_js(window.require ? null : naver.common.gv.REQUIRE_JS, startApplication, true, 150); })(); </script><script type=\"text/javascript\"> naver.search.section = { \"main\": [{\"area\": \"tab\", \"rank\": 1}], \"main2\": [{\"area\": \"bnr\", \"rank\": 1}],  \"find_section_list\": function(column, area) { if (!this[column]) return []; return this[column].filter(function(a) { return a.area.indexOf(area) === 0; }); } }; </script></div><script type=\"text/javascript\"> var nx_location_rcode = \"14110104\" ; </script><div id=\"container\" role=\"main\"> <div class=\"pack_group\" id=\"content\"> <h1 class=\"blind\">포바이포 뉴스검색 결과</h1> <div class=\"main_pack\" id=\"main_pack\"><script type=\"text/javascript\">var nx_cr_area_info=[{ n:\"tab\",r:1 }];</script><script type=\"text/javascript\"> naver.search.option = {} ; naver.search.option.params = {\"nso\" : \"so:r,p:from20220329to20220428,a:all\",\"de\" : \"2022.04.28\",\"ds\" : \"2022.03.29\",\"mynews\" : \"0\",\"office_section_code\" : \"0\",\"office_type\" : \"0\",\"pd\" : \"3\",\"photo\" : \"0\",\"sort\" : \"0\"} ; naver.search.option.append_params = (function () { return function (f, exclude) { if (exclude == undefined) exclude = []; for (var k in naver.search.option.params) { if (exclude.indexOf(k) >= 0) continue; var v = naver.search.option.params[k] ; var input = document.createElement(\"input\"); input.type = \"hidden\"; input.name = k ; input.value = v ; f.appendChild(input); } return true ; } ; })() ; naver.search.option.get_params = (function () { return function () { var option_params = \"\" ; for (var k in naver.search.option.params) { var v = naver.search.option.params[k]; option_params = option_params.concat(\"&\" + k + \"=\" + urlencode(v)); } return option_params ; } ; })() ; </script><form action=\"?\" id=\"news_form\" name=\"news_form\"> <input id=\"where\" name=\"where\" type=\"hidden\" value=\"news\"/> <input id=\"query\" name=\"query\" type=\"hidden\" value=\"포바이포\"/> <input id=\"sm\" name=\"sm\" type=\"hidden\" value=\"tab_opt\"/> <input id=\"sort\" name=\"sort\" type=\"hidden\" value=\"0\"/> <input id=\"photo\" name=\"photo\" type=\"hidden\" value=\"0\"/> <input id=\"field\" name=\"field\" type=\"hidden\" value=\"0\"/> <input id=\"pd\" name=\"pd\" type=\"hidden\" value=\"3\"/> <input id=\"ds\" name=\"ds\" type=\"hidden\" value=\"2022.03.29\"/> <input id=\"de\" name=\"de\" type=\"hidden\" value=\"2022.04.28\"/> <input id=\"docid\" name=\"docid\" type=\"hidden\" value=\"\"/> <input id=\"related\" name=\"related\" type=\"hidden\" value=\"0\"/> <input id=\"mynews\" name=\"mynews\" type=\"hidden\" value=\"0\"/> <input id=\"office_type\" name=\"office_type\" type=\"hidden\" value=\"0\"/> <input id=\"office_section_code\" name=\"office_section_code\" type=\"hidden\" value=\"0\"/> <input id=\"news_office_checked\" name=\"news_office_checked\" type=\"hidden\" value=\"\"/> <input id=\"nso\" name=\"nso\" type=\"hidden\" value=\"so:r,p:from20220329to20220428,a:all\"/> <input id=\"is_sug_officeid\" name=\"is_sug_officeid\" type=\"hidden\" value=\"0\"/> </form> <script type=\"text/javascript\"> function news_form_init() { document.forms[\"news_form\"][\"query\"].value = decodeURIComponent(\"%ED%8F%AC%EB%B0%94%EC%9D%B4%ED%8F%AC\"); document.forms[\"news_form\"][\"sort\"].value = \"0\"; document.forms[\"news_form\"][\"photo\"].value = \"0\"; document.forms[\"news_form\"][\"field\"].value = \"0\"; document.forms[\"news_form\"][\"pd\"].value = \"3\"; document.forms[\"news_form\"][\"ds\"].value = \"2022.03.29\"; document.forms[\"news_form\"][\"de\"].value = \"2022.04.28\"; document.forms[\"news_form\"][\"docid\"].value = \"\"; document.forms[\"news_form\"][\"related\"].value = \"0\"; document.forms[\"news_form\"][\"mynews\"].value = \"0\"; document.forms[\"news_form\"][\"office_type\"].value = \"0\"; document.forms[\"news_form\"][\"office_section_code\"].value = \"0\"; document.forms[\"news_form\"][\"news_office_checked\"].value = decodeURIComponent(\"\"); document.forms[\"news_form\"][\"nso\"].value = \"so:r,p:from20220329to20220428,a:all\"; document.forms[\"news_form\"][\"is_sug_officeid\"].value = \"0\"; } function news_get_nso_parameters(so, p, begin_date, end_date, a) { var so_p = \"\"; var p_p = \"\"; if (so == 0) { so_p = \"r\"; } else if (so == 1) { so_p = \"dd\"; } else { so_p = \"r\"; } if (p == 0) { p_p = \"all\"; } else if (p == 4) { p_p = \"1d\"; } else if (p == 1) { p_p = \"1w\"; } else if (p == 2) { p_p = \"1m\"; } else if (p == 6) { p_p = \"6m\"; } else if (p == 5) { p_p = \"1y\"; } else if (p == 3) { begin_date = begin_date.replace(/\\./gi, \"\"); end_date = end_date.replace(/\\./gi, \"\"); var base_from = 19900101; var base_to = 20220504; var from = begin_date; var to = end_date; if (eval(from - to) > 0) { from = end_date; to = begin_date; } if (eval(base_to - from) < 0) { from = base_to; to = base_to; } if (eval(base_from - to) > 0) { from = base_from; to = base_from; } if (eval(base_from - from) > 0) { from = base_from; } if (eval(base_to - to) < 0) { to = base_to; } p_p = \"from\" + from + \"to\" + to; } else { p_p = \"all\"; } return \"so:\" + so_p + \",p:\" + p_p ; } function news_submit_sort_option(sort_option, cr_area) { news_form_init(); document.getElementById(\"news_form\")[\"sort\"].value = sort_option; document.getElementById(\"news_form\")[\"nso\"].value = news_get_nso_parameters(sort_option, \"3\", \"2022.03.29\", \"2022.04.28\", \"0\"); var area = \"opt.\"+cr_area; formCR(\"news_form\", area); } function news_set_period(p) { news_form_init(); var period = p; var cr_area = \"periodall\"; var period_option = 0; if (period == \"all\") { document.getElementById(\"news_form\")[\"pd\"].value = \"0\"; cr_area = \"opt.all\"; period_option = 0; } else if (period == \"1week\") { document.getElementById(\"news_form\")[\"pd\"].value = \"1\"; cr_area = \"opt.1week\"; period_option = 1; } else if (period == \"1month\"){ document.getElementById(\"news_form\")[\"pd\"].value = \"2\"; cr_area = \"opt.1mon\"; period_option = 2; } else if (period == \"3month\"){ document.getElementById(\"news_form\")[\"pd\"].value = \"13\"; cr_area = \"opt.3mon\"; period_option = 13; } else if (period == \"6month\"){ document.getElementById(\"news_form\")[\"pd\"].value = \"6\"; cr_area = \"opt.6mon\"; period_option = 6; } else if (period == \"1day\") { document.getElementById(\"news_form\")[\"pd\"].value = \"4\"; cr_area = \"opt.1day\"; period_option = 4; } else if (period == \"1year\") { document.getElementById(\"news_form\")[\"pd\"].value = \"5\"; cr_area = \"opt.1yr\"; period_option = 5; } else if (period == \"hour1\") { document.getElementById(\"news_form\")[\"pd\"].value = \"7\"; cr_area = \"opt.1hr\"; period_option = 7; } else if (period == \"hour2\") { document.getElementById(\"news_form\")[\"pd\"].value = \"8\"; cr_area = \"opt.2hr\"; period_option = 8; } else if (period == \"hour3\") { document.getElementById(\"news_form\")[\"pd\"].value = \"9\"; cr_area = \"opt.3hr\"; period_option = 9; } else if (period == \"hour4\") { document.getElementById(\"news_form\")[\"pd\"].value = \"10\"; cr_area = \"opt.4hr\"; period_option = 10; } else if (period == \"hour5\") { document.getElementById(\"news_form\")[\"pd\"].value = \"11\"; cr_area = \"opt.5hr\"; period_option = 11; } else if (period == \"hour6\") { document.getElementById(\"news_form\")[\"pd\"].value = \"12\"; cr_area = \"opt.6hr\"; period_option = 12; } document.getElementById(\"news_form\")[\"ds\"].value = \"\"; document.getElementById(\"news_form\")[\"de\"].value = \"\"; document.getElementById(\"news_form\")[\"nso\"].value = news_get_nso_parameters(\"0\", period_option, \"2022.03.29\", \"2022.04.28\", \"0\"); formCR(\"news_form\", cr_area); } function news_submit_period_option_custom(sStartDate, sEndDate) { news_form_init(); document.getElementById(\"news_form\")[\"pd\"].value = 3; document.getElementById(\"news_form\")[\"ds\"].value = sStartDate; document.getElementById(\"news_form\")[\"de\"].value = sEndDate; document.getElementById(\"news_form\")[\"nso\"].value = news_get_nso_parameters(\"0\", 3, sStartDate, sEndDate, \"0\"); formCR(\"news_form\", \"opt.set\"); } function news_submit_category_option(category_option) { news_form_init(); document.getElementById(\"news_form\")[\"photo\"].value = category_option; var cr_area = \"\"; if (category_option == 1) { cr_area = \"photo\"; } else if (category_option == 2) { cr_area = \"video\"; } else if (category_option == 3) { cr_area = \"paper\"; } else if (category_option == 4) { cr_area = \"release\"; } else if (category_option == 5) { cr_area = \"auto\"; } else { cr_area = \"type\"; } var area = \"opt.\"+cr_area; formCR(\"news_form\", area); } function news_submit_reporter_option() { news_form_init(); var reporter_name = document.getElementById(\"news_input_reporter_name\"); if (reporter_name.value == \"\") { alert(\"기자명은 필수 입력사항입니다.\"); return; } document.getElementById(\"news_form\")[\"field\"].value = 2; document.getElementById(\"news_form\")[\"query\"].value = reporter_name.value; var area = \"opt.reporterapply\"; formCR(\"news_form\", area); } function news_submit_un_reporter_option() { news_form_init(); document.getElementById(\"news_form\")[\"field\"].value = 0; document.getElementById(\"news_form\")[\"sm\"].value = \"tab_rep\"; var area = \"nws*g.res\"; formCR(\"news_form\", area); } function news_submit_only_reporter_option(office_id, reporter_name, office_section_code) { news_form_init(); document.getElementById(\"news_form\")[\"field\"].value = 2; document.getElementById(\"news_form\")[\"sm\"].value = \"tab_rep\"; document.getElementById(\"news_form\")[\"query\"].value = reporter_name; if( office_id != \"\" ){ document.getElementById(\"news_form\")[\"mynews\"].value = 1; document.getElementById(\"news_form\")[\"office_type\"].value = 1; document.getElementById(\"news_form\")[\"office_section_code\"].value = office_section_code; document.getElementById(\"news_form\")[\"news_office_checked\"].value = office_id; } var area = \"nws*g.rep\"; formCR(\"news_form\", area); } function news_submit_office_option(type, ccode, code) { news_form_init(); var cr_area = \"\"; if( type == \"all\") { document.getElementById(\"news_form\")[\"mynews\"].value = 0; document.getElementById(\"news_form\")[\"office_type\"].value = \"\"; document.getElementById(\"news_form\")[\"office_section_code\"].value = \"\"; document.getElementById(\"news_form\")[\"news_office_checked\"].value = \"\"; cr_area = \"journal\"; } else if( type == \"section\" ) { document.getElementById(\"news_form\")[\"mynews\"].value = 1; document.getElementById(\"news_form\")[\"office_type\"].value = \"1\"; document.getElementById(\"news_form\")[\"office_section_code\"].value = ccode; document.getElementById(\"news_form\")[\"news_office_checked\"].value = code; cr_area = \"journalcategory\"; } else if( type == \"abc\" ) { document.getElementById(\"news_form\")[\"mynews\"].value = 1; document.getElementById(\"news_form\")[\"office_type\"].value = \"2\"; document.getElementById(\"news_form\")[\"office_section_code\"].value = ccode; document.getElementById(\"news_form\")[\"news_office_checked\"].value = code; cr_area = \"journalbylexico\"; } var area = \"opt.\"+cr_area; formCR(\"news_form\", area); } function news_submit_suggest_office_option(type, code, office_keyword) { news_form_init(); var area = \"upr.jop\"; document.getElementById(\"news_form\")[\"sm\"].value = \"tab_clk.jou\"; if( type == 1 ){ document.getElementById(\"news_form\")[\"mynews\"].value = 1; document.getElementById(\"news_form\")[\"office_type\"].value = \"1\"; document.getElementById(\"news_form\")[\"office_section_code\"].value = \"1\"; document.getElementById(\"news_form\")[\"news_office_checked\"].value = decodeURIComponent(code); document.getElementById(\"news_form\")[\"query\"].value = decodeURIComponent(office_keyword); } else{ document.getElementById(\"news_form\")[\"is_sug_officeid\"].value = code; if( code == \"0\" ){ area = \"upr.jos\"; } else{ document.getElementById(\"news_form\")[\"mynews\"].value = 0; document.getElementById(\"news_form\")[\"office_type\"].value = \"\"; document.getElementById(\"news_form\")[\"office_section_code\"].value = \"\"; document.getElementById(\"news_form\")[\"news_office_checked\"].value = \"\"; } } formCR(\"news_form\", area); } </script> <div id=\"snb\"> <div class=\"api_group_option_filter _search_option_simple_wrap\" style=\"display: none;\"> <div class=\"list_option_filter type_solo\"> <div aria-label=\"정렬 필터를 선택하세요\" class=\"option_area type_sort\" role=\"listbox\"> <a aria-selected=\"true\" class=\"item\" href=\"#\" onclick=\"news_submit_sort_option(0, 'simcls'); return false;\" role=\"option\">관련도순</a> <a aria-selected=\"false\" class=\"item\" href=\"#\" onclick=\"news_submit_sort_option(1, 'newcls'); return false;\" role=\"option\">최신순</a> <a aria-selected=\"false\" class=\"item\" href=\"#\" onclick=\"news_submit_sort_option(2, 'oldcls'); return false;\" role=\"option\">오래된순</a> </div><div class=\"option_filter\"> <a aria-expanded=\"false\" aria-haspopup=\"listbox\" aria-label=\"검색옵션 열기\" class=\"btn_option _search_option_open_btn\" href=\"javascript:;\" onclick=\"tCR('a=opt.unfd');\" role=\"button\"><i class=\"spnew ico_filter\"></i>옵션</a> </div> </div></div><div class=\"api_group_option_sort _search_option_detail_wrap\" role=\"listbox\" style=\"\"> <button class=\"spnew_bf bt_close _search_option_close_btn\" onclick=\"tCR('a=opt.fold');\" type=\"button\">검색옵션 닫기</button> <ul class=\"lst_option\"> <li class=\"bx lineup\"> <div class=\"bx_inner\"> <strong class=\"tit\">정렬</strong> <div class=\"option\" role=\"tablist\"> <a aria-selected=\"true\" class=\"txt\" href=\"#\" onclick=\"news_submit_sort_option(0, 'sim'); return false;\" role=\"tab\">관련도순</a> <a aria-selected=\"false\" class=\"txt\" href=\"#\" onclick=\"news_submit_sort_option(1, 'new'); return false;\" role=\"tab\">최신순</a> <a aria-selected=\"false\" class=\"txt\" href=\"#\" onclick=\"news_submit_sort_option(2, 'old'); return false;\" role=\"tab\">오래된순</a> </div> </div></li><li class=\"bx term\"> <div class=\"bx_inner\"> <strong class=\"tit\">기간</strong> <div class=\"option\" role=\"tablist\"> <a aria-selected=\"false\" class=\"txt\" href=\"#\" onclick=\"news_set_period('all'); return false;\" role=\"tab\">전체</a> <a aria-selected=\"false\" class=\"txt txt_option _time_select_trigger\" data-search-option-item=\"\" href=\"#\" onclick=\"tCR('a=opt.hour');\" role=\"tab\">1시간<i class=\"spnew ico_check\">옵션<em class=\"open\">펼치기</em><em class=\"close\">접기</em></i></a> <a aria-selected=\"false\" class=\"txt\" href=\"#\" onclick=\"news_set_period('1day'); return false;\" role=\"tab\">1일</a> <a aria-selected=\"false\" class=\"txt\" href=\"#\" onclick=\"news_set_period('1week'); return false;\" role=\"tab\">1주</a> <a aria-selected=\"false\" class=\"txt\" href=\"#\" onclick=\"news_set_period('1month'); return false;\" role=\"tab\">1개월</a> <a aria-selected=\"false\" class=\"txt\" href=\"#\" onclick=\"news_set_period('3month'); return false;\" role=\"tab\">3개월</a> <a aria-selected=\"false\" class=\"txt\" href=\"#\" onclick=\"news_set_period('6month'); return false;\" role=\"tab\">6개월</a> <a aria-selected=\"false\" class=\"txt\" href=\"#\" onclick=\"news_set_period('1year'); return false;\" role=\"tab\">1년</a> <a aria-selected=\"true\" class=\"txt txt_option _calendar_select_trigger\" data-select-trigger=\"\" href=\"#\" onclick=\"tCR('a=opt.cal');\" role=\"tab\">2022.03.29. ~ 2022.04.28.<i class=\"spnew ico_check\">옵션<em class=\"open\">펼치기</em><em class=\"close\">접기</em></i></a> </div><div class=\"api_select_option _time_select_layer\" data-select-layer=\"\" style=\"display:none;\"> <div class=\"select_wrap _root\"> <div class=\"group_select _list_root\"> <strong class=\"blind\">시간선택</strong> <div class=\"select_cont\"> <div class=\"select_area _scroll_wrapper\"> <div> <ul class=\"lst_item _ul\" role=\"tablist\"> <li aria-selected=\"false\" class=\"item _li\" data-value=\"hour1\" onclick=\"news_set_period('hour1'); return false;\" role=\"tab\"><a class=\"link\" href=\"javascript:;\">1시간</a></li> <li aria-selected=\"false\" class=\"item _li\" data-value=\"hour2\" onclick=\"news_set_period('hour2'); return false;\" role=\"tab\"><a class=\"link\" href=\"javascript:;\">2시간</a></li> <li aria-selected=\"false\" class=\"item _li\" data-value=\"hour3\" onclick=\"news_set_period('hour3'); return false;\" role=\"tab\"><a class=\"link\" href=\"javascript:;\">3시간</a></li> <li aria-selected=\"false\" class=\"item _li\" data-value=\"hour4\" onclick=\"news_set_period('hour4'); return false;\" role=\"tab\"><a class=\"link\" href=\"javascript:;\">4시간</a></li> <li aria-selected=\"false\" class=\"item _li\" data-value=\"hour5\" onclick=\"news_set_period('hour5'); return false;\" role=\"tab\"><a class=\"link\" href=\"javascript:;\">5시간</a></li> <li aria-selected=\"false\" class=\"item _li\" data-value=\"hour6\" onclick=\"news_set_period('hour6'); return false;\" role=\"tab\"><a class=\"link\" href=\"javascript:;\">6시간</a></li> </ul> </div></div></div></div></div></div><div class=\"api_select_option type_calendar _calendar_select_layer\" data-select-layer=\"\" style=\"display:none;\"> <div class=\"set_calendar\" role=\"tablist\"> <span class=\"set\"> <span class=\"blind\">기간 설정시작</span> <a aria-selected=\"true\" class=\"spnew_bf ico_calendar _start_trigger selected\" href=\"#\" onclick=\"tCR('a=opt.str');\" role=\"tab\">2022.03.29.</a> </span> <span class=\"set etc\"> <span class=\"spnew ico_since\"></span> </span> <span class=\"set\"> <span class=\"blind\">기간 설정끝</span> <a class=\"spnew_bf ico_calendar _end_trigger\" href=\"#\" onclick=\"tCR('a=opt.fin');\" role=\"tab\">2022.04.28.</a> </span> </div><div class=\"select_wrap _root\"> <div class=\"group_select _list_root\"> <strong class=\"blind\">년(Year)</strong> <div class=\"select_cont\"> <div class=\"select_area _scroll_wrapper\"> <div> <ul class=\"lst_item _ul\" role=\"tablist\"></ul> </div> </div></div></div><div class=\"group_select _list_root\"> <strong class=\"blind\">월(Month)</strong> <div class=\"select_cont\"> <div class=\"select_area _scroll_wrapper\"> <div> <ul class=\"lst_item _ul\" role=\"tablist\"></ul> </div> </div></div></div><div class=\"group_select _list_root\"> <strong class=\"blind\">일(Day)</strong> <div class=\"select_cont\"> <div class=\"select_area _scroll_wrapper\"> <div> <ul class=\"lst_item _ul\" role=\"tablist\"></ul> </div> </div></div></div></div><div class=\"btn_area\"><button class=\"btn_apply _apply_btn\" type=\"button\">적용</button></div> </div></div></li><li class=\"bx view\"> <div class=\"bx_inner\"> <strong class=\"tit\">유형</strong> <div class=\"option\" role=\"tablist\"> <a aria-selected=\"true\" class=\"txt\" href=\"#\" onclick=\"news_submit_category_option(0); return false;\" role=\"tab\">전체</a> <a aria-selected=\"false\" class=\"txt\" href=\"#\" onclick=\"news_submit_category_option(1); return false;\" role=\"tab\">포토</a> <a aria-selected=\"false\" class=\"txt\" href=\"#\" onclick=\"news_submit_category_option(2); return false;\" role=\"tab\">동영상</a> <a aria-selected=\"false\" class=\"txt\" href=\"#\" onclick=\"news_submit_category_option(3); return false;\" role=\"tab\">지면기사</a> <a aria-selected=\"false\" class=\"txt\" href=\"#\" onclick=\"news_submit_category_option(4); return false;\" role=\"tab\">보도자료</a> <a aria-selected=\"false\" class=\"txt\" href=\"#\" onclick=\"news_submit_category_option(5); return false;\" role=\"tab\">자동생성기사</a> </div> </div></li> <li class=\"bx press\"> <div class=\"bx_inner\"> <strong class=\"tit\">언론사</strong> <div class=\"option\" role=\"tablist\"> <a aria-selected=\"true\" class=\"txt\" href=\"#\" onclick=\"news_submit_office_option('all', '', ''); return false;\" role=\"tab\">전체</a> <a aria-selected=\"false\" class=\"txt txt_option _category_select_trigger\" data-select-trigger=\"\" href=\"javascript:;\" onclick=\"tCR('a=opt.journalcategory');\" role=\"tab\">언론사 분류순<i class=\"spnew ico_check\">옵션<em class=\"open\">펼치기</em><em class=\"close\">접기</em></i></a> <a aria-selected=\"false\" class=\"txt txt_option _abc_select_trigger\" data-select-trigger=\"\" href=\"javascript:;\" onclick=\"tCR('a=opt.journalbylexico');\" role=\"tab\">가나다순<i class=\"spnew ico_check\">옵션<em class=\"open\">펼치기</em><em class=\"close\">접기</em></i></a> </div><div class=\"api_select_option type_group _category_select_layer\" data-select-layer=\"\" style=\"display:none;\"> <div class=\"select_wrap _root\"> <div class=\"group_select _list_root\"> <strong class=\"blind\">언론사 분류선택</strong> <div class=\"select_cont\"> <div class=\"select_area _scroll_wrapper\"> <div> <ul class=\"lst_item _ul\" role=\"tablist\"></ul> </div> </div></div></div><div class=\"group_select _list_root\"> <strong class=\"blind\">언론사선택</strong> <div class=\"select_cont\"> <div class=\"select_area _scroll_wrapper\"> <div> <ul class=\"lst_item _ul\" role=\"tablist\"></ul> </div> </div></div></div></div></div><div class=\"api_select_option type_dictionary _abc_select_layer\" data-select-layer=\"\" style=\"display:none;\"> <div class=\"select_wrap _root\"> <div class=\"group_select _list_root\"> <strong class=\"blind\">가나다순 선택</strong> <div class=\"select_cont\"> <div class=\"select_area _scroll_wrapper\"> <div> <ul class=\"lst_item _ul\" role=\"tablist\"></ul> </div> </div></div></div><div class=\"group_select _list_root\"> <strong class=\"blind\">언론사선택</strong> <div class=\"select_cont\"> <div class=\"select_area _scroll_wrapper\"> <div> <ul class=\"lst_item _ul\" role=\"tablist\"></ul> </div> </div></div></div></div></div></div></li> <li class=\"bx name\"> <div class=\"bx_inner\"> <strong class=\"tit\">기자명</strong> <div class=\"option\"> <div class=\"input_area\"> <span class=\"txt_area\"><input class=\"input_txt _search_option_submit_input\" id=\"news_input_reporter_name\" maxlength=\"80\" onclick=\"tCR('a=opt.reporter');\" onkeydown=\"if (event.keyCode==13) { news_submit_reporter_option(); return false; }\" placeholder=\"기자명 입력\" type=\"text\" value=\"\"/></span> <button class=\"btn_apply _search_option_submit_btn\" onclick=\"news_submit_reporter_option(); return false;\" type=\"button\">적용</button> </div> </div> </div></li> <li class=\"bx clear\"> <div class=\"bx_inner\"> <div class=\"option\"> <a class=\"btn_clear spnew_bf\" href=\"?where=news&amp;sm=tab_opt&amp;query=%ED%8F%AC%EB%B0%94%EC%9D%B4%ED%8F%AC&amp;nso_open=1\" onclick=\"return goOtherCR(this, 'a=opt.reset&amp;u='+urlencode(this.href));\" role=\"button\">옵션 초기화</a> <a class=\"link_help\" href=\"https://help.naver.com/support/alias/search/integration/intergration_88.naver\" onclick=\"return goOtherCR(this, 'a=opt.help&amp;u='+urlencode(this.href));\" target=\"_blank\">검색옵션 가이드<i class=\"spnew api_ico_help\"></i></a> </div> </div> </li> </ul></div></div><script> (function() { var jsFileURL = \"https://ssl.pstatic.net/sstatic/fe/sfe/searchOption/Controller_211110.js\"; var startApplication = function() { var require = window.require.config({ \"context\": \"pc_news_tab_option\", \"paths\": { \"Controller\": jsFileURL.replace(/\\.js$/, \"\") } }); define(\"jquery\", [], function() { return jQuery; }); require([\"Controller\"], function(Controller) { var oSearchOption = new Controller({ \"$form\": jQuery(\"#news_form\"), \"direct\": { min: { year: 1990, month: 1, date: 1 }, max: { year: new Date().getFullYear(), month: new Date().getMonth() + 1, date: new Date().getDate() } }, \"selectbox\": [ { \"depth\": 2, \"triggerSelector\": \"._category_select_trigger\", \"layerSelector\": \"._category_select_layer\", \"rootSelector\": \"._category_select_layer ._root\", \"template\": [ \"<#for(var i = 0; i < data.length; i++){#>\", \"<li role=\\\"tab\\\" class=\\\"item _li\\\" data-type=\\\"<#=data[i].type#>\\\" data-ccode=\\\"<#=data[i].ccode#>\\\" data-code=\\\"<#=data[i].code#>\\\" data-value=\\\"<#=data[i].code#>\\\"<#if(i === index){#> aria-selected=\\\"true\\\"<#}#>>\", \"<a href=\\\"#\\\" class=\\\"link\\\"><#=data[i].name#></a>\", \"</li>\", \"<#}#>\" ].join(\"\"), \"selected\": [0, 0], \"listData\": [ { \"name\": \"일간지\", \"list\": [ {\"name\":\"경향신문\", \"type\":\"section\", \"ccode\":\"1\", \"code\":\"1032\" } , {\"name\":\"국민일보\", \"type\":\"section\", \"ccode\":\"1\", \"code\":\"1005\" } , {\"name\":\"내일신문\", \"type\":\"section\", \"ccode\":\"1\", \"code\":\"2312\" } , {\"name\":\"동아일보\", \"type\":\"section\", \"ccode\":\"1\", \"code\":\"1020\" } , {\"name\":\"매일일보\", \"type\":\"section\", \"ccode\":\"1\", \"code\":\"2385\" } , {\"name\":\"문화일보\", \"type\":\"section\", \"ccode\":\"1\", \"code\":\"1021\" } , {\"name\":\"서울신문\", \"type\":\"section\", \"ccode\":\"1\", \"code\":\"1081\" } , {\"name\":\"세계일보\", \"type\":\"section\", \"ccode\":\"1\", \"code\":\"1022\" } , {\"name\":\"아시아투데이\", \"type\":\"section\", \"ccode\":\"1\", \"code\":\"2268\" } , {\"name\":\"전국매일신문\", \"type\":\"section\", \"ccode\":\"1\", \"code\":\"2844\" } , {\"name\":\"조선일보\", \"type\":\"section\", \"ccode\":\"1\", \"code\":\"1023\" } , {\"name\":\"중앙일보\", \"type\":\"section\", \"ccode\":\"1\", \"code\":\"1025\" } , {\"name\":\"천지일보\", \"type\":\"section\", \"ccode\":\"1\", \"code\":\"2041\" } , {\"name\":\"한겨레\", \"type\":\"section\", \"ccode\":\"1\", \"code\":\"1028\" } , {\"name\":\"한국일보\", \"type\":\"section\", \"ccode\":\"1\", \"code\":\"1469\" } ] } , { \"name\": \"방송/통신\", \"list\": [ {\"name\":\"가톨릭평화방송·평화신문\", \"type\":\"section\", \"ccode\":\"2\", \"code\":\"2234\" } , {\"name\":\"경인방송\", \"type\":\"section\", \"ccode\":\"2\", \"code\":\"2713\" } , {\"name\":\"광주MBC\", \"type\":\"section\", \"ccode\":\"2\", \"code\":\"2383\" } , {\"name\":\"국제뉴스\", \"type\":\"section\", \"ccode\":\"2\", \"code\":\"2291\" } , {\"name\":\"국회방송\", \"type\":\"section\", \"ccode\":\"2\", \"code\":\"2807\" } , {\"name\":\"그린포스트코리아\", \"type\":\"section\", \"ccode\":\"2\", \"code\":\"2194\" } , {\"name\":\"내외경제tv\", \"type\":\"section\", \"ccode\":\"2\", \"code\":\"2544\" } , {\"name\":\"뉴스1\", \"type\":\"section\", \"ccode\":\"2\", \"code\":\"1421\" } , {\"name\":\"뉴스웍스\", \"type\":\"section\", \"ccode\":\"2\", \"code\":\"2525\" } , {\"name\":\"뉴스핌\", \"type\":\"section\", \"ccode\":\"2\", \"code\":\"2002\" } , {\"name\":\"뉴시스\", \"type\":\"section\", \"ccode\":\"2\", \"code\":\"1003\" } , {\"name\":\"대전MBC\", \"type\":\"section\", \"ccode\":\"2\", \"code\":\"2421\" } , {\"name\":\"디지틀조선TV\", \"type\":\"section\", \"ccode\":\"2\", \"code\":\"2749\" } , {\"name\":\"목포MBC\", \"type\":\"section\", \"ccode\":\"2\", \"code\":\"2735\" } , {\"name\":\"부산MBC\", \"type\":\"section\", \"ccode\":\"2\", \"code\":\"2538\" } , {\"name\":\"서울경제TV\", \"type\":\"section\", \"ccode\":\"2\", \"code\":\"2656\" } , {\"name\":\"아리랑TV\", \"type\":\"section\", \"ccode\":\"2\", \"code\":\"2363\" } , {\"name\":\"안동MBC\", \"type\":\"section\", \"ccode\":\"2\", \"code\":\"2318\" } , {\"name\":\"여수MBC\", \"type\":\"section\", \"ccode\":\"2\", \"code\":\"2745\" } , {\"name\":\"연합뉴스\", \"type\":\"section\", \"ccode\":\"2\", \"code\":\"1001\" } , {\"name\":\"연합뉴스TV\", \"type\":\"section\", \"ccode\":\"2\", \"code\":\"1422\" } , {\"name\":\"울산MBC\", \"type\":\"section\", \"ccode\":\"2\", \"code\":\"2541\" } , {\"name\":\"제주MBC\", \"type\":\"section\", \"ccode\":\"2\", \"code\":\"2743\" } , {\"name\":\"채널A\", \"type\":\"section\", \"ccode\":\"2\", \"code\":\"1449\" } , {\"name\":\"춘천MBC\", \"type\":\"section\", \"ccode\":\"2\", \"code\":\"2742\" } , {\"name\":\"팍스경제TV\", \"type\":\"section\", \"ccode\":\"2\", \"code\":\"2802\" } , {\"name\":\"포항MBC\", \"type\":\"section\", \"ccode\":\"2\", \"code\":\"2662\" } , {\"name\":\"한국경제TV\", \"type\":\"section\", \"ccode\":\"2\", \"code\":\"1004\" } , {\"name\":\"BBC\", \"type\":\"section\", \"ccode\":\"2\", \"code\":\"2741\" } , {\"name\":\"BTN불교TV\", \"type\":\"section\", \"ccode\":\"2\", \"code\":\"2423\" } , {\"name\":\"CMB광주방송\", \"type\":\"section\", \"ccode\":\"2\", \"code\":\"2508\" } , {\"name\":\"CMB대전방송\", \"type\":\"section\", \"ccode\":\"2\", \"code\":\"2450\" } , {\"name\":\"EBS\", \"type\":\"section\", \"ccode\":\"2\", \"code\":\"2099\" } , {\"name\":\"G1방송\", \"type\":\"section\", \"ccode\":\"2\", \"code\":\"2402\" } , {\"name\":\"HCN 새로넷방송\", \"type\":\"section\", \"ccode\":\"2\", \"code\":\"2708\" } , {\"name\":\"JTBC\", \"type\":\"section\", \"ccode\":\"2\", \"code\":\"1437\" } , {\"name\":\"JTV전주방송\", \"type\":\"section\", \"ccode\":\"2\", \"code\":\"2847\" } , {\"name\":\"KBS\", \"type\":\"section\", \"ccode\":\"2\", \"code\":\"1056\" } , {\"name\":\"KNN\", \"type\":\"section\", \"ccode\":\"2\", \"code\":\"2167\" } , {\"name\":\"KTV국민방송\", \"type\":\"section\", \"ccode\":\"2\", \"code\":\"2108\" } , {\"name\":\"LG헬로비전\", \"type\":\"section\", \"ccode\":\"2\", \"code\":\"2698\" } , {\"name\":\"MBC\", \"type\":\"section\", \"ccode\":\"2\", \"code\":\"1214\" } , {\"name\":\"MBC강원영동\", \"type\":\"section\", \"ccode\":\"2\", \"code\":\"2477\" } , {\"name\":\"MBC경남\", \"type\":\"section\", \"ccode\":\"2\", \"code\":\"2805\" } , {\"name\":\"MBC충북\", \"type\":\"section\", \"ccode\":\"2\", \"code\":\"2490\" } , {\"name\":\"MBN\", \"type\":\"section\", \"ccode\":\"2\", \"code\":\"1019\" } , {\"name\":\"MTN\", \"type\":\"section\", \"ccode\":\"2\", \"code\":\"2151\" } , {\"name\":\"NSP통신\", \"type\":\"section\", \"ccode\":\"2\", \"code\":\"2025\" } , {\"name\":\"OBS\", \"type\":\"section\", \"ccode\":\"2\", \"code\":\"2155\" } , {\"name\":\"SBS\", \"type\":\"section\", \"ccode\":\"2\", \"code\":\"1055\" } , {\"name\":\"SBS Biz\", \"type\":\"section\", \"ccode\":\"2\", \"code\":\"1374\" } , {\"name\":\"SK브로드밴드\", \"type\":\"section\", \"ccode\":\"2\", \"code\":\"2556\" } , {\"name\":\"TBC대구방송\", \"type\":\"section\", \"ccode\":\"2\", \"code\":\"2375\" } , {\"name\":\"TBS\", \"type\":\"section\", \"ccode\":\"2\", \"code\":\"2233\" } , {\"name\":\"TJB 대전방송\", \"type\":\"section\", \"ccode\":\"2\", \"code\":\"2451\" } , {\"name\":\"TV조선\", \"type\":\"section\", \"ccode\":\"2\", \"code\":\"1448\" } , {\"name\":\"YTN\", \"type\":\"section\", \"ccode\":\"2\", \"code\":\"1052\" } , {\"name\":\"YTN라디오\", \"type\":\"section\", \"ccode\":\"2\", \"code\":\"2251\" } , {\"name\":\"YTN사이언스\", \"type\":\"section\", \"ccode\":\"2\", \"code\":\"2221\" } ] } , { \"name\": \"경제/IT\", \"list\": [ {\"name\":\"게임톡\", \"type\":\"section\", \"ccode\":\"3\", \"code\":\"2497\" } , {\"name\":\"게임포커스\", \"type\":\"section\", \"ccode\":\"3\", \"code\":\"2351\" } , {\"name\":\"그린데일리\", \"type\":\"section\", \"ccode\":\"3\", \"code\":\"2140\" } , {\"name\":\"글로벌이코노믹\", \"type\":\"section\", \"ccode\":\"3\", \"code\":\"2366\" } , {\"name\":\"나이스경제\", \"type\":\"section\", \"ccode\":\"3\", \"code\":\"2810\" } , {\"name\":\"넥스트데일리\", \"type\":\"section\", \"ccode\":\"3\", \"code\":\"2141\" } , {\"name\":\"뉴스토마토\", \"type\":\"section\", \"ccode\":\"3\", \"code\":\"2119\" } , {\"name\":\"대한금융신문\", \"type\":\"section\", \"ccode\":\"3\", \"code\":\"2282\" } , {\"name\":\"더벨\", \"type\":\"section\", \"ccode\":\"3\", \"code\":\"2254\" } , {\"name\":\"데이터넷\", \"type\":\"section\", \"ccode\":\"3\", \"code\":\"2096\" } , {\"name\":\"데일리경제\", \"type\":\"section\", \"ccode\":\"3\", \"code\":\"2792\" } , {\"name\":\"디아이투데이\", \"type\":\"section\", \"ccode\":\"3\", \"code\":\"2213\" } , {\"name\":\"디지털데일리\", \"type\":\"section\", \"ccode\":\"3\", \"code\":\"1138\" } , {\"name\":\"디지털타임스\", \"type\":\"section\", \"ccode\":\"3\", \"code\":\"1029\" } , {\"name\":\"디지털투데이\", \"type\":\"section\", \"ccode\":\"3\", \"code\":\"2137\" } , {\"name\":\"딜라이트닷넷\", \"type\":\"section\", \"ccode\":\"3\", \"code\":\"2214\" } , {\"name\":\"매일경제\", \"type\":\"section\", \"ccode\":\"3\", \"code\":\"1009\" } , {\"name\":\"매일경제TV\", \"type\":\"section\", \"ccode\":\"3\", \"code\":\"2274\" } , {\"name\":\"머니투데이\", \"type\":\"section\", \"ccode\":\"3\", \"code\":\"1008\" } , {\"name\":\"바이라인네트워크\", \"type\":\"section\", \"ccode\":\"3\", \"code\":\"2704\" } , {\"name\":\"베타뉴스\", \"type\":\"section\", \"ccode\":\"3\", \"code\":\"2017\" } , {\"name\":\"벤처스퀘어\", \"type\":\"section\", \"ccode\":\"3\", \"code\":\"2506\" } , {\"name\":\"보안뉴스\", \"type\":\"section\", \"ccode\":\"3\", \"code\":\"2016\" } , {\"name\":\"부산제일경제\", \"type\":\"section\", \"ccode\":\"3\", \"code\":\"2515\" } , {\"name\":\"브릿지경제\", \"type\":\"section\", \"ccode\":\"3\", \"code\":\"2394\" } , {\"name\":\"블로터\", \"type\":\"section\", \"ccode\":\"3\", \"code\":\"1293\" } , {\"name\":\"비즈니스워치\", \"type\":\"section\", \"ccode\":\"3\", \"code\":\"1648\" } , {\"name\":\"비즈니스포스트\", \"type\":\"section\", \"ccode\":\"3\", \"code\":\"2374\" } , {\"name\":\"비즈한국\", \"type\":\"section\", \"ccode\":\"3\", \"code\":\"2480\" } , {\"name\":\"서울경제\", \"type\":\"section\", \"ccode\":\"3\", \"code\":\"1011\" } , {\"name\":\"서울파이낸스\", \"type\":\"section\", \"ccode\":\"3\", \"code\":\"2001\" } , {\"name\":\"시장경제신문\", \"type\":\"section\", \"ccode\":\"3\", \"code\":\"2528\" } , {\"name\":\"씨넷코리아\", \"type\":\"section\", \"ccode\":\"3\", \"code\":\"2405\" } , {\"name\":\"아시아경제\", \"type\":\"section\", \"ccode\":\"3\", \"code\":\"1277\" } , {\"name\":\"아시아타임즈\", \"type\":\"section\", \"ccode\":\"3\", \"code\":\"2492\" } , {\"name\":\"아유경제\", \"type\":\"section\", \"ccode\":\"3\", \"code\":\"2609\" } , {\"name\":\"아이티데일리\", \"type\":\"section\", \"ccode\":\"3\", \"code\":\"2046\" } , {\"name\":\"아주경제\", \"type\":\"section\", \"ccode\":\"3\", \"code\":\"2090\" } , {\"name\":\"앱스토리\", \"type\":\"section\", \"ccode\":\"3\", \"code\":\"2716\" } , {\"name\":\"에너지경제\", \"type\":\"section\", \"ccode\":\"3\", \"code\":\"2133\" } , {\"name\":\"에이빙뉴스\", \"type\":\"section\", \"ccode\":\"3\", \"code\":\"2015\" } , {\"name\":\"이뉴스투데이\", \"type\":\"section\", \"ccode\":\"3\", \"code\":\"2038\" } , {\"name\":\"이데일리\", \"type\":\"section\", \"ccode\":\"3\", \"code\":\"1018\" } , {\"name\":\"이코노뉴스\", \"type\":\"section\", \"ccode\":\"3\", \"code\":\"2524\" } , {\"name\":\"이투뉴스\", \"type\":\"section\", \"ccode\":\"3\", \"code\":\"2118\" } , {\"name\":\"이투데이\", \"type\":\"section\", \"ccode\":\"3\", \"code\":\"2003\" } , {\"name\":\"전자신문\", \"type\":\"section\", \"ccode\":\"3\", \"code\":\"1030\" } , {\"name\":\"정보통신신문\", \"type\":\"section\", \"ccode\":\"3\", \"code\":\"2839\" } , {\"name\":\"조선비즈\", \"type\":\"section\", \"ccode\":\"3\", \"code\":\"1366\" } , {\"name\":\"조세일보\", \"type\":\"section\", \"ccode\":\"3\", \"code\":\"1123\" } , {\"name\":\"중소기업신문\", \"type\":\"section\", \"ccode\":\"3\", \"code\":\"2296\" } , {\"name\":\"증권경제신문\", \"type\":\"section\", \"ccode\":\"3\", \"code\":\"2804\" } , {\"name\":\"초이스경제\", \"type\":\"section\", \"ccode\":\"3\", \"code\":\"2256\" } , {\"name\":\"케이벤치\", \"type\":\"section\", \"ccode\":\"3\", \"code\":\"2036\" } , {\"name\":\"코인리더스\", \"type\":\"section\", \"ccode\":\"3\", \"code\":\"2676\" } , {\"name\":\"테크노아\", \"type\":\"section\", \"ccode\":\"3\", \"code\":\"2048\" } , {\"name\":\"테크월드\", \"type\":\"section\", \"ccode\":\"3\", \"code\":\"2752\" } , {\"name\":\"테크홀릭\", \"type\":\"section\", \"ccode\":\"3\", \"code\":\"2404\" } , {\"name\":\"투데이에너지\", \"type\":\"section\", \"ccode\":\"3\", \"code\":\"2300\" } , {\"name\":\"파이낸셜뉴스\", \"type\":\"section\", \"ccode\":\"3\", \"code\":\"1014\" } , {\"name\":\"파이낸셜신문\", \"type\":\"section\", \"ccode\":\"3\", \"code\":\"2781\" } , {\"name\":\"프라임경제\", \"type\":\"section\", \"ccode\":\"3\", \"code\":\"2325\" } , {\"name\":\"프레스나인\", \"type\":\"section\", \"ccode\":\"3\", \"code\":\"2201\" } , {\"name\":\"핀포인트뉴스\", \"type\":\"section\", \"ccode\":\"3\", \"code\":\"2829\" } , {\"name\":\"한국경제\", \"type\":\"section\", \"ccode\":\"3\", \"code\":\"1015\" } , {\"name\":\"헤럴드경제\", \"type\":\"section\", \"ccode\":\"3\", \"code\":\"1016\" } , {\"name\":\"CBC뉴스\", \"type\":\"section\", \"ccode\":\"3\", \"code\":\"2785\" } , {\"name\":\"CCTV뉴스\", \"type\":\"section\", \"ccode\":\"3\", \"code\":\"2298\" } , {\"name\":\"CEO스코어데일리\", \"type\":\"section\", \"ccode\":\"3\", \"code\":\"2243\" } , {\"name\":\"CIO Korea\", \"type\":\"section\", \"ccode\":\"3\", \"code\":\"2177\" } , {\"name\":\"e대한경제\", \"type\":\"section\", \"ccode\":\"3\", \"code\":\"2138\" } , {\"name\":\"G밸리뉴스\", \"type\":\"section\", \"ccode\":\"3\", \"code\":\"2206\" } , {\"name\":\"ITWorld\", \"type\":\"section\", \"ccode\":\"3\", \"code\":\"2110\" } , {\"name\":\"IT비즈뉴스\", \"type\":\"section\", \"ccode\":\"3\", \"code\":\"2795\" } , {\"name\":\"ZDNet Korea\", \"type\":\"section\", \"ccode\":\"3\", \"code\":\"1092\" } ] } , { \"name\": \"인터넷신문\", \"list\": [ {\"name\":\"ㅍㅍㅅㅅ\", \"type\":\"section\", \"ccode\":\"4\", \"code\":\"2407\" } , {\"name\":\"가톨릭프레스\", \"type\":\"section\", \"ccode\":\"4\", \"code\":\"2545\" } , {\"name\":\"건강다이제스트\", \"type\":\"section\", \"ccode\":\"4\", \"code\":\"2454\" } , {\"name\":\"게임동아\", \"type\":\"section\", \"ccode\":\"4\", \"code\":\"2611\" } , {\"name\":\"게임조선\", \"type\":\"section\", \"ccode\":\"4\", \"code\":\"2434\" } , {\"name\":\"경인매일\", \"type\":\"section\", \"ccode\":\"4\", \"code\":\"2764\" } , {\"name\":\"고발뉴스\", \"type\":\"section\", \"ccode\":\"4\", \"code\":\"2435\" } , {\"name\":\"골프한국\", \"type\":\"section\", \"ccode\":\"4\", \"code\":\"2606\" } , {\"name\":\"공공뉴스\", \"type\":\"section\", \"ccode\":\"4\", \"code\":\"2584\" } , {\"name\":\"공생공사닷컴\", \"type\":\"section\", \"ccode\":\"4\", \"code\":\"2859\" } , {\"name\":\"광명지역신문\", \"type\":\"section\", \"ccode\":\"4\", \"code\":\"2568\" } , {\"name\":\"굿모닝경제\", \"type\":\"section\", \"ccode\":\"4\", \"code\":\"2464\" } , {\"name\":\"글로벌E\", \"type\":\"section\", \"ccode\":\"4\", \"code\":\"2763\" } , {\"name\":\"글로벌경제\", \"type\":\"section\", \"ccode\":\"4\", \"code\":\"2445\" } , {\"name\":\"글로벌에픽\", \"type\":\"section\", \"ccode\":\"4\", \"code\":\"2728\" } , {\"name\":\"금융소비자뉴스\", \"type\":\"section\", \"ccode\":\"4\", \"code\":\"2573\" } , {\"name\":\"기계신문\", \"type\":\"section\", \"ccode\":\"4\", \"code\":\"2596\" } , {\"name\":\"노동과희망\", \"type\":\"section\", \"ccode\":\"4\", \"code\":\"2801\" } , {\"name\":\"노컷뉴스\", \"type\":\"section\", \"ccode\":\"4\", \"code\":\"1079\" } , {\"name\":\"노트펫\", \"type\":\"section\", \"ccode\":\"4\", \"code\":\"2511\" } , {\"name\":\"뉴데일리\", \"type\":\"section\", \"ccode\":\"4\", \"code\":\"2005\" } , {\"name\":\"뉴스락\", \"type\":\"section\", \"ccode\":\"4\", \"code\":\"2779\" } , {\"name\":\"뉴스로드\", \"type\":\"section\", \"ccode\":\"4\", \"code\":\"2860\" } , {\"name\":\"뉴스민\", \"type\":\"section\", \"ccode\":\"4\", \"code\":\"2424\" } , {\"name\":\"뉴스앤조이\", \"type\":\"section\", \"ccode\":\"4\", \"code\":\"2475\" } , {\"name\":\"뉴스워치\", \"type\":\"section\", \"ccode\":\"4\", \"code\":\"2673\" } , {\"name\":\"뉴스워커\", \"type\":\"section\", \"ccode\":\"4\", \"code\":\"2521\" } , {\"name\":\"뉴스웨이\", \"type\":\"section\", \"ccode\":\"4\", \"code\":\"2270\" } , {\"name\":\"뉴스웰\", \"type\":\"section\", \"ccode\":\"4\", \"code\":\"2873\" } , {\"name\":\"뉴스제주\", \"type\":\"section\", \"ccode\":\"4\", \"code\":\"2657\" } , {\"name\":\"뉴스케이프\", \"type\":\"section\", \"ccode\":\"4\", \"code\":\"2819\" } , {\"name\":\"뉴스퀘스트\", \"type\":\"section\", \"ccode\":\"4\", \"code\":\"2809\" } , {\"name\":\"뉴스클레임\", \"type\":\"section\", \"ccode\":\"4\", \"code\":\"2772\" } , {\"name\":\"뉴스톱\", \"type\":\"section\", \"ccode\":\"4\", \"code\":\"2724\" } , {\"name\":\"뉴스투데이\", \"type\":\"section\", \"ccode\":\"4\", \"code\":\"2527\" } , {\"name\":\"뉴스티앤티\", \"type\":\"section\", \"ccode\":\"4\", \"code\":\"2788\" } , {\"name\":\"뉴스펭귄\", \"type\":\"section\", \"ccode\":\"4\", \"code\":\"2849\" } , {\"name\":\"뉴스프리존\", \"type\":\"section\", \"ccode\":\"4\", \"code\":\"2551\" } , {\"name\":\"뉴스한국\", \"type\":\"section\", \"ccode\":\"4\", \"code\":\"2091\" } , {\"name\":\"뉴스후플러스\", \"type\":\"section\", \"ccode\":\"4\", \"code\":\"2692\" } , {\"name\":\"뉴시안\", \"type\":\"section\", \"ccode\":\"4\", \"code\":\"2798\" } , {\"name\":\"단디뉴스\", \"type\":\"section\", \"ccode\":\"4\", \"code\":\"2586\" } , {\"name\":\"단비뉴스\", \"type\":\"section\", \"ccode\":\"4\", \"code\":\"2750\" } , {\"name\":\"대학저널\", \"type\":\"section\", \"ccode\":\"4\", \"code\":\"2413\" } , {\"name\":\"대한전문건설신문\", \"type\":\"section\", \"ccode\":\"4\", \"code\":\"2465\" } , {\"name\":\"더구루\", \"type\":\"section\", \"ccode\":\"4\", \"code\":\"2778\" } , {\"name\":\"더드라이브\", \"type\":\"section\", \"ccode\":\"4\", \"code\":\"2731\" } , {\"name\":\"더리포트\", \"type\":\"section\", \"ccode\":\"4\", \"code\":\"2780\" } , {\"name\":\"더밸류뉴스\", \"type\":\"section\", \"ccode\":\"4\", \"code\":\"2767\" } , {\"name\":\"더파워\", \"type\":\"section\", \"ccode\":\"4\", \"code\":\"2832\" } , {\"name\":\"더팩트\", \"type\":\"section\", \"ccode\":\"4\", \"code\":\"1629\" } , {\"name\":\"더퍼블릭\", \"type\":\"section\", \"ccode\":\"4\", \"code\":\"2787\" } , {\"name\":\"더퍼스트\", \"type\":\"section\", \"ccode\":\"4\", \"code\":\"2560\" } , {\"name\":\"데이터솜\", \"type\":\"section\", \"ccode\":\"4\", \"code\":\"2711\" } , {\"name\":\"데일리안\", \"type\":\"section\", \"ccode\":\"4\", \"code\":\"1119\" } , {\"name\":\"데일리임팩트\", \"type\":\"section\", \"ccode\":\"4\", \"code\":\"2670\" } , {\"name\":\"데일리팜\", \"type\":\"section\", \"ccode\":\"4\", \"code\":\"2190\" } , {\"name\":\"데일리팝\", \"type\":\"section\", \"ccode\":\"4\", \"code\":\"2516\" } , {\"name\":\"데일리한국\", \"type\":\"section\", \"ccode\":\"4\", \"code\":\"2358\" } , {\"name\":\"디센터\", \"type\":\"section\", \"ccode\":\"4\", \"code\":\"2751\" } , {\"name\":\"디스커버리뉴스\", \"type\":\"section\", \"ccode\":\"4\", \"code\":\"2613\" } , {\"name\":\"디지틀조선일보\", \"type\":\"section\", \"ccode\":\"4\", \"code\":\"2641\" } , {\"name\":\"딴지일보\", \"type\":\"section\", \"ccode\":\"4\", \"code\":\"2390\" } , {\"name\":\"땅집고\", \"type\":\"section\", \"ccode\":\"4\", \"code\":\"2790\" } , {\"name\":\"라이센스뉴스\", \"type\":\"section\", \"ccode\":\"4\", \"code\":\"2762\" } , {\"name\":\"라이프인\", \"type\":\"section\", \"ccode\":\"4\", \"code\":\"2861\" } , {\"name\":\"로봇신문\", \"type\":\"section\", \"ccode\":\"4\", \"code\":\"2430\" } , {\"name\":\"로톡뉴스\", \"type\":\"section\", \"ccode\":\"4\", \"code\":\"2845\" } , {\"name\":\"리버티코리아포스트\", \"type\":\"section\", \"ccode\":\"4\", \"code\":\"2791\" } , {\"name\":\"리얼푸드\", \"type\":\"section\", \"ccode\":\"4\", \"code\":\"2419\" } , {\"name\":\"마켓뉴스\", \"type\":\"section\", \"ccode\":\"4\", \"code\":\"2697\" } , {\"name\":\"매일노동뉴스\", \"type\":\"section\", \"ccode\":\"4\", \"code\":\"2431\" } , {\"name\":\"매일안전신문\", \"type\":\"section\", \"ccode\":\"4\", \"code\":\"2812\" } , {\"name\":\"머니S\", \"type\":\"section\", \"ccode\":\"4\", \"code\":\"1417\" } , {\"name\":\"메가경제\", \"type\":\"section\", \"ccode\":\"4\", \"code\":\"2770\" } , {\"name\":\"메디게이트뉴스\", \"type\":\"section\", \"ccode\":\"4\", \"code\":\"2479\" } , {\"name\":\"메디소비자뉴스\", \"type\":\"section\", \"ccode\":\"4\", \"code\":\"2576\" } , {\"name\":\"메디코파마뉴스\", \"type\":\"section\", \"ccode\":\"4\", \"code\":\"2862\" } , {\"name\":\"메트로신문\", \"type\":\"section\", \"ccode\":\"4\", \"code\":\"2286\" } , {\"name\":\"문화저널21\", \"type\":\"section\", \"ccode\":\"4\", \"code\":\"2420\" } , {\"name\":\"미디어오늘\", \"type\":\"section\", \"ccode\":\"4\", \"code\":\"1006\" } , {\"name\":\"미디어워치\", \"type\":\"section\", \"ccode\":\"4\", \"code\":\"2010\" } , {\"name\":\"미디어펜\", \"type\":\"section\", \"ccode\":\"4\", \"code\":\"2244\" } , {\"name\":\"민주신문\", \"type\":\"section\", \"ccode\":\"4\", \"code\":\"2647\" } , {\"name\":\"민중의소리\", \"type\":\"section\", \"ccode\":\"4\", \"code\":\"2683\" } , {\"name\":\"바이오스펙테이터\", \"type\":\"section\", \"ccode\":\"4\", \"code\":\"2651\" } , {\"name\":\"바이오타임즈\", \"type\":\"section\", \"ccode\":\"4\", \"code\":\"2872\" } , {\"name\":\"법률방송뉴스\", \"type\":\"section\", \"ccode\":\"4\", \"code\":\"2626\" } , {\"name\":\"불교공뉴스\", \"type\":\"section\", \"ccode\":\"4\", \"code\":\"2324\" } , {\"name\":\"불교포커스\", \"type\":\"section\", \"ccode\":\"4\", \"code\":\"2488\" } , {\"name\":\"뷰스앤뉴스\", \"type\":\"section\", \"ccode\":\"4\", \"code\":\"2007\" } , {\"name\":\"뷰어스\", \"type\":\"section\", \"ccode\":\"4\", \"code\":\"2597\" } , {\"name\":\"브레이크뉴스\", \"type\":\"section\", \"ccode\":\"4\", \"code\":\"2297\" } , {\"name\":\"비마이너\", \"type\":\"section\", \"ccode\":\"4\", \"code\":\"2487\" } , {\"name\":\"비욘드포스트\", \"type\":\"section\", \"ccode\":\"4\", \"code\":\"2736\" } , {\"name\":\"비즈니스플러스\", \"type\":\"section\", \"ccode\":\"4\", \"code\":\"2875\" } , {\"name\":\"빅데이터뉴스\", \"type\":\"section\", \"ccode\":\"4\", \"code\":\"2645\" } , {\"name\":\"산업일보\", \"type\":\"section\", \"ccode\":\"4\", \"code\":\"2433\" } , {\"name\":\"서울와이어\", \"type\":\"section\", \"ccode\":\"4\", \"code\":\"2526\" } , {\"name\":\"서울이코노미뉴스\", \"type\":\"section\", \"ccode\":\"4\", \"code\":\"2774\" } , {\"name\":\"세계비즈\", \"type\":\"section\", \"ccode\":\"4\", \"code\":\"2653\" } , {\"name\":\"세종의 소리\", \"type\":\"section\", \"ccode\":\"4\", \"code\":\"2776\" } , {\"name\":\"소믈리에타임즈\", \"type\":\"section\", \"ccode\":\"4\", \"code\":\"2426\" } , {\"name\":\"소비자가 만드는 신문\", \"type\":\"section\", \"ccode\":\"4\", \"code\":\"2275\" } , {\"name\":\"스마트경제\", \"type\":\"section\", \"ccode\":\"4\", \"code\":\"2693\" } , {\"name\":\"스마트시티투데이\", \"type\":\"section\", \"ccode\":\"4\", \"code\":\"2864\" } , {\"name\":\"스마트에프엔\", \"type\":\"section\", \"ccode\":\"4\", \"code\":\"2827\" } , {\"name\":\"스카이데일리\", \"type\":\"section\", \"ccode\":\"4\", \"code\":\"2510\" } , {\"name\":\"스트레이트뉴스\", \"type\":\"section\", \"ccode\":\"4\", \"code\":\"2677\" } , {\"name\":\"슬로우뉴스\", \"type\":\"section\", \"ccode\":\"4\", \"code\":\"2397\" } , {\"name\":\"시민일보\", \"type\":\"section\", \"ccode\":\"4\", \"code\":\"2055\" } , {\"name\":\"시빅뉴스\", \"type\":\"section\", \"ccode\":\"4\", \"code\":\"2461\" } , {\"name\":\"시사뉴스\", \"type\":\"section\", \"ccode\":\"4\", \"code\":\"2612\" } , {\"name\":\"시사뉴스24\", \"type\":\"section\", \"ccode\":\"4\", \"code\":\"2799\" } , {\"name\":\"시사위크\", \"type\":\"section\", \"ccode\":\"4\", \"code\":\"2337\" } , {\"name\":\"시사저널이코노미\", \"type\":\"section\", \"ccode\":\"4\", \"code\":\"2471\" } , {\"name\":\"시사캐스트\", \"type\":\"section\", \"ccode\":\"4\", \"code\":\"2854\" } , {\"name\":\"시사포커스\", \"type\":\"section\", \"ccode\":\"4\", \"code\":\"2329\" } , {\"name\":\"시선뉴스\", \"type\":\"section\", \"ccode\":\"4\", \"code\":\"2369\" } , {\"name\":\"아시아에이\", \"type\":\"section\", \"ccode\":\"4\", \"code\":\"2755\" } , {\"name\":\"아시아엔\", \"type\":\"section\", \"ccode\":\"4\", \"code\":\"2216\" } , {\"name\":\"아이뉴스24\", \"type\":\"section\", \"ccode\":\"4\", \"code\":\"1031\" } , {\"name\":\"아이투자\", \"type\":\"section\", \"ccode\":\"4\", \"code\":\"2578\" } , {\"name\":\"아이티비즈\", \"type\":\"section\", \"ccode\":\"4\", \"code\":\"2579\" } , {\"name\":\"아트인사이트\", \"type\":\"section\", \"ccode\":\"4\", \"code\":\"2726\" } , {\"name\":\"안전신문\", \"type\":\"section\", \"ccode\":\"4\", \"code\":\"2729\" } , {\"name\":\"얼리어답터\", \"type\":\"section\", \"ccode\":\"4\", \"code\":\"2707\" } , {\"name\":\"에너지데일리\", \"type\":\"section\", \"ccode\":\"4\", \"code\":\"2685\" } , {\"name\":\"에듀프레스\", \"type\":\"section\", \"ccode\":\"4\", \"code\":\"2605\" } , {\"name\":\"엠투데이\", \"type\":\"section\", \"ccode\":\"4\", \"code\":\"2598\" } , {\"name\":\"여성경제신문\", \"type\":\"section\", \"ccode\":\"4\", \"code\":\"2759\" } , {\"name\":\"여수넷통뉴스\", \"type\":\"section\", \"ccode\":\"4\", \"code\":\"2748\" } , {\"name\":\"열린뉴스통신\", \"type\":\"section\", \"ccode\":\"4\", \"code\":\"2818\" } , {\"name\":\"오늘경제\", \"type\":\"section\", \"ccode\":\"4\", \"code\":\"2721\" } , {\"name\":\"오마이뉴스\", \"type\":\"section\", \"ccode\":\"4\", \"code\":\"1047\" } , {\"name\":\"우먼스플라워\", \"type\":\"section\", \"ccode\":\"4\", \"code\":\"2822\" } , {\"name\":\"우먼타임스\", \"type\":\"section\", \"ccode\":\"4\", \"code\":\"2848\" } , {\"name\":\"워크투데이\", \"type\":\"section\", \"ccode\":\"4\", \"code\":\"2796\" } , {\"name\":\"위메이크뉴스\", \"type\":\"section\", \"ccode\":\"4\", \"code\":\"2865\" } , {\"name\":\"위키리크스한국\", \"type\":\"section\", \"ccode\":\"4\", \"code\":\"2622\" } , {\"name\":\"위키트리\", \"type\":\"section\", \"ccode\":\"4\", \"code\":\"2239\" } , {\"name\":\"의사신문\", \"type\":\"section\", \"ccode\":\"4\", \"code\":\"2826\" } , {\"name\":\"의학채널 비온뒤\", \"type\":\"section\", \"ccode\":\"4\", \"code\":\"2483\" } , {\"name\":\"이넷뉴스\", \"type\":\"section\", \"ccode\":\"4\", \"code\":\"2866\" } , {\"name\":\"이로운넷\", \"type\":\"section\", \"ccode\":\"4\", \"code\":\"2738\" } , {\"name\":\"이슈앤비즈\", \"type\":\"section\", \"ccode\":\"4\", \"code\":\"2880\" } , {\"name\":\"이지경제\", \"type\":\"section\", \"ccode\":\"4\", \"code\":\"2594\" } , {\"name\":\"이코노미톡뉴스\", \"type\":\"section\", \"ccode\":\"4\", \"code\":\"2192\" } , {\"name\":\"이코노텔링\", \"type\":\"section\", \"ccode\":\"4\", \"code\":\"2816\" } , {\"name\":\"이코리아\", \"type\":\"section\", \"ccode\":\"4\", \"code\":\"2562\" } , {\"name\":\"인공지능신문\", \"type\":\"section\", \"ccode\":\"4\", \"code\":\"2830\" } , {\"name\":\"인더뉴스\", \"type\":\"section\", \"ccode\":\"4\", \"code\":\"2667\" } , {\"name\":\"인더스트리뉴스\", \"type\":\"section\", \"ccode\":\"4\", \"code\":\"2580\" } , {\"name\":\"인민망\", \"type\":\"section\", \"ccode\":\"4\", \"code\":\"2388\" } , {\"name\":\"인베스트조선\", \"type\":\"section\", \"ccode\":\"4\", \"code\":\"2552\" } , {\"name\":\"인사이드 비나\", \"type\":\"section\", \"ccode\":\"4\", \"code\":\"2823\" } , {\"name\":\"인사이트\", \"type\":\"section\", \"ccode\":\"4\", \"code\":\"2486\" } , {\"name\":\"인천in\", \"type\":\"section\", \"ccode\":\"4\", \"code\":\"2808\" } , {\"name\":\"인천뉴스\", \"type\":\"section\", \"ccode\":\"4\", \"code\":\"2650\" } , {\"name\":\"전남매일\", \"type\":\"section\", \"ccode\":\"4\", \"code\":\"2709\" } , {\"name\":\"제주교통복지신문\", \"type\":\"section\", \"ccode\":\"4\", \"code\":\"2610\" } , {\"name\":\"조선닷컴 인포그래픽스\", \"type\":\"section\", \"ccode\":\"4\", \"code\":\"2306\" } , {\"name\":\"조세금융신문\", \"type\":\"section\", \"ccode\":\"4\", \"code\":\"2412\" } , {\"name\":\"중기이코노미\", \"type\":\"section\", \"ccode\":\"4\", \"code\":\"2455\" } , {\"name\":\"중앙신문\", \"type\":\"section\", \"ccode\":\"4\", \"code\":\"2876\" } , {\"name\":\"지피코리아\", \"type\":\"section\", \"ccode\":\"4\", \"code\":\"2331\" } , {\"name\":\"직썰\", \"type\":\"section\", \"ccode\":\"4\", \"code\":\"2489\" } , {\"name\":\"청년일보\", \"type\":\"section\", \"ccode\":\"4\", \"code\":\"2686\" } , {\"name\":\"충청뉴스\", \"type\":\"section\", \"ccode\":\"4\", \"code\":\"2569\" } , {\"name\":\"컨슈머치\", \"type\":\"section\", \"ccode\":\"4\", \"code\":\"2777\" } , {\"name\":\"케미컬뉴스\", \"type\":\"section\", \"ccode\":\"4\", \"code\":\"2853\" } , {\"name\":\"코딩월드뉴스\", \"type\":\"section\", \"ccode\":\"4\", \"code\":\"2867\" } , {\"name\":\"코인데스크코리아\", \"type\":\"section\", \"ccode\":\"4\", \"code\":\"2841\" } , {\"name\":\"키즈맘\", \"type\":\"section\", \"ccode\":\"4\", \"code\":\"2310\" } , {\"name\":\"토큰포스트\", \"type\":\"section\", \"ccode\":\"4\", \"code\":\"2879\" } , {\"name\":\"톱데일리\", \"type\":\"section\", \"ccode\":\"4\", \"code\":\"2648\" } , {\"name\":\"투데이신문\", \"type\":\"section\", \"ccode\":\"4\", \"code\":\"2460\" } , {\"name\":\"투데이코리아\", \"type\":\"section\", \"ccode\":\"4\", \"code\":\"2616\" } , {\"name\":\"티티엘뉴스\", \"type\":\"section\", \"ccode\":\"4\", \"code\":\"2643\" } , {\"name\":\"파이낸셜투데이\", \"type\":\"section\", \"ccode\":\"4\", \"code\":\"2518\" } , {\"name\":\"팍스넷뉴스\", \"type\":\"section\", \"ccode\":\"4\", \"code\":\"2630\" } , {\"name\":\"팜뉴스\", \"type\":\"section\", \"ccode\":\"4\", \"code\":\"2828\" } , {\"name\":\"팝콘뉴스\", \"type\":\"section\", \"ccode\":\"4\", \"code\":\"2868\" } , {\"name\":\"패션엔\", \"type\":\"section\", \"ccode\":\"4\", \"code\":\"2456\" } , {\"name\":\"팩트TV\", \"type\":\"section\", \"ccode\":\"4\", \"code\":\"2273\" } , {\"name\":\"펜앤드마이크\", \"type\":\"section\", \"ccode\":\"4\", \"code\":\"2786\" } , {\"name\":\"포쓰저널\", \"type\":\"section\", \"ccode\":\"4\", \"code\":\"2665\" } , {\"name\":\"푸드경제신문 organiclife\", \"type\":\"section\", \"ccode\":\"4\", \"code\":\"2567\" } , {\"name\":\"프레스맨\", \"type\":\"section\", \"ccode\":\"4\", \"code\":\"2681\" } , {\"name\":\"프레시안\", \"type\":\"section\", \"ccode\":\"4\", \"code\":\"1002\" } , {\"name\":\"하비엔\", \"type\":\"section\", \"ccode\":\"4\", \"code\":\"2744\" } , {\"name\":\"한강타임즈\", \"type\":\"section\", \"ccode\":\"4\", \"code\":\"2290\" } , {\"name\":\"한국강사신문\", \"type\":\"section\", \"ccode\":\"4\", \"code\":\"2566\" } , {\"name\":\"한국농어촌방송\", \"type\":\"section\", \"ccode\":\"4\", \"code\":\"2555\" } , {\"name\":\"한국정경신문\", \"type\":\"section\", \"ccode\":\"4\", \"code\":\"2503\" } , {\"name\":\"허프포스트코리아\", \"type\":\"section\", \"ccode\":\"4\", \"code\":\"2384\" } , {\"name\":\"헬로디디\", \"type\":\"section\", \"ccode\":\"4\", \"code\":\"2409\" } , {\"name\":\"헬스인뉴스\", \"type\":\"section\", \"ccode\":\"4\", \"code\":\"2817\" } , {\"name\":\"현대경제신문\", \"type\":\"section\", \"ccode\":\"4\", \"code\":\"2288\" } , {\"name\":\"환경과조경\", \"type\":\"section\", \"ccode\":\"4\", \"code\":\"2637\" } , {\"name\":\"AI타임스\", \"type\":\"section\", \"ccode\":\"4\", \"code\":\"2746\" } , {\"name\":\"AP신문\", \"type\":\"section\", \"ccode\":\"4\", \"code\":\"2793\" } , {\"name\":\"BBS NEWS\", \"type\":\"section\", \"ccode\":\"4\", \"code\":\"2019\" } , {\"name\":\"bnt뉴스\", \"type\":\"section\", \"ccode\":\"4\", \"code\":\"2191\" } , {\"name\":\"CNB뉴스\", \"type\":\"section\", \"ccode\":\"4\", \"code\":\"2293\" } , {\"name\":\"FETV\", \"type\":\"section\", \"ccode\":\"4\", \"code\":\"2484\" } , {\"name\":\"ifspost\", \"type\":\"section\", \"ccode\":\"4\", \"code\":\"2625\" } , {\"name\":\"IT조선\", \"type\":\"section\", \"ccode\":\"4\", \"code\":\"2242\" } , {\"name\":\"K스피릿\", \"type\":\"section\", \"ccode\":\"4\", \"code\":\"2856\" } , {\"name\":\"SR타임스\", \"type\":\"section\", \"ccode\":\"4\", \"code\":\"2589\" } , {\"name\":\"UPI뉴스\", \"type\":\"section\", \"ccode\":\"4\", \"code\":\"2372\" } ] } , { \"name\": \"스포츠/연예\", \"list\": [ {\"name\":\"中요한 기자들\", \"type\":\"section\", \"ccode\":\"5\", \"code\":\"1531\" } , {\"name\":\"美스테리한 기자들\", \"type\":\"section\", \"ccode\":\"5\", \"code\":\"1561\" } , {\"name\":\"게임메카\", \"type\":\"section\", \"ccode\":\"5\", \"code\":\"1356\" } , {\"name\":\"경성대 미식축구부 월간용광로\", \"type\":\"section\", \"ccode\":\"5\", \"code\":\"1649\" } , {\"name\":\"경향게임스\", \"type\":\"section\", \"ccode\":\"5\", \"code\":\"2840\" } , {\"name\":\"고려대학교 SPORTS KU\", \"type\":\"section\", \"ccode\":\"5\", \"code\":\"1568\" } , {\"name\":\"골닷컴\", \"type\":\"section\", \"ccode\":\"5\", \"code\":\"1216\" } , {\"name\":\"골프다이제스트\", \"type\":\"section\", \"ccode\":\"5\", \"code\":\"1435\" } , {\"name\":\"골프타임즈\", \"type\":\"section\", \"ccode\":\"5\", \"code\":\"2427\" } , {\"name\":\"국민체육진흥공단\", \"type\":\"section\", \"ccode\":\"5\", \"code\":\"1631\" } , {\"name\":\"김형준 칼럼\", \"type\":\"section\", \"ccode\":\"5\", \"code\":\"1224\" } , {\"name\":\"김환 칼럼\", \"type\":\"section\", \"ccode\":\"5\", \"code\":\"1516\" } , {\"name\":\"네이버스포츠\", \"type\":\"section\", \"ccode\":\"5\", \"code\":\"1064\" } , {\"name\":\"뉴스엔\", \"type\":\"section\", \"ccode\":\"5\", \"code\":\"1609\" } , {\"name\":\"뉴스엔\", \"type\":\"section\", \"ccode\":\"5\", \"code\":\"1447\" } , {\"name\":\"뉴스인사이드\", \"type\":\"section\", \"ccode\":\"5\", \"code\":\"2095\" } , {\"name\":\"단국대학교 웅담\", \"type\":\"section\", \"ccode\":\"5\", \"code\":\"1599\" } , {\"name\":\"대한게이트볼협회\", \"type\":\"section\", \"ccode\":\"5\", \"code\":\"1650\" } , {\"name\":\"대한골프협회\", \"type\":\"section\", \"ccode\":\"5\", \"code\":\"1602\" } , {\"name\":\"대한민국농구협회\", \"type\":\"section\", \"ccode\":\"5\", \"code\":\"1589\" } , {\"name\":\"대한민국배구협회\", \"type\":\"section\", \"ccode\":\"5\", \"code\":\"1600\" } , {\"name\":\"대한봅슬레이스켈레톤경기연맹\", \"type\":\"section\", \"ccode\":\"5\", \"code\":\"1612\" } , {\"name\":\"대한택견회\", \"type\":\"section\", \"ccode\":\"5\", \"code\":\"1646\" } , {\"name\":\"더 스파이크\", \"type\":\"section\", \"ccode\":\"5\", \"code\":\"1530\" } , {\"name\":\"데일리e스포츠\", \"type\":\"section\", \"ccode\":\"5\", \"code\":\"1347\" } , {\"name\":\"데일리스포츠한국\", \"type\":\"section\", \"ccode\":\"5\", \"code\":\"2604\" } , {\"name\":\"도엔\", \"type\":\"section\", \"ccode\":\"5\", \"code\":\"1511\" } , {\"name\":\"동국대학교 다르마\", \"type\":\"section\", \"ccode\":\"5\", \"code\":\"1644\" } , {\"name\":\"디스이즈게임\", \"type\":\"section\", \"ccode\":\"5\", \"code\":\"1439\" } , {\"name\":\"디스패치\", \"type\":\"section\", \"ccode\":\"5\", \"code\":\"1433\" } , {\"name\":\"루키\", \"type\":\"section\", \"ccode\":\"5\", \"code\":\"1398\" } , {\"name\":\"류현진 MLB 일기\", \"type\":\"section\", \"ccode\":\"5\", \"code\":\"1513\" } , {\"name\":\"마니아타임즈\", \"type\":\"section\", \"ccode\":\"5\", \"code\":\"1425\" } , {\"name\":\"마이데일리\", \"type\":\"section\", \"ccode\":\"5\", \"code\":\"1117\" } , {\"name\":\"맨체스터시티 FC\", \"type\":\"section\", \"ccode\":\"5\", \"code\":\"1624\" } , {\"name\":\"몬스터짐\", \"type\":\"section\", \"ccode\":\"5\", \"code\":\"1409\" } , {\"name\":\"무비스트\", \"type\":\"section\", \"ccode\":\"5\", \"code\":\"2357\" } , {\"name\":\"박문성 칼럼\", \"type\":\"section\", \"ccode\":\"5\", \"code\":\"1208\" } , {\"name\":\"발렌시아CF\", \"type\":\"section\", \"ccode\":\"5\", \"code\":\"1614\" } , {\"name\":\"베스트일레븐\", \"type\":\"section\", \"ccode\":\"5\", \"code\":\"1343\" } , {\"name\":\"보루시아 도르트문트\", \"type\":\"section\", \"ccode\":\"5\", \"code\":\"1652\" } , {\"name\":\"브라이언 스털\", \"type\":\"section\", \"ccode\":\"5\", \"code\":\"1560\" } , {\"name\":\"비즈볼프로젝트\", \"type\":\"section\", \"ccode\":\"5\", \"code\":\"1489\" } , {\"name\":\"비즈엔터\", \"type\":\"section\", \"ccode\":\"5\", \"code\":\"2352\" } , {\"name\":\"삼성 썬더스\", \"type\":\"section\", \"ccode\":\"5\", \"code\":\"1371\" } , {\"name\":\"서형욱 칼럼\", \"type\":\"section\", \"ccode\":\"5\", \"code\":\"1260\" } , {\"name\":\"서호정 칼럼\", \"type\":\"section\", \"ccode\":\"5\", \"code\":\"1452\" } , {\"name\":\"선문대학교 축구부 프론트\", \"type\":\"section\", \"ccode\":\"5\", \"code\":\"1633\" } , {\"name\":\"성호준 칼럼\", \"type\":\"section\", \"ccode\":\"5\", \"code\":\"1485\" } , {\"name\":\"손대범 칼럼\", \"type\":\"section\", \"ccode\":\"5\", \"code\":\"1430\" } , {\"name\":\"송산의 돌직구\", \"type\":\"section\", \"ccode\":\"5\", \"code\":\"1483\" } , {\"name\":\"수원대학교 축구부 기자단\", \"type\":\"section\", \"ccode\":\"5\", \"code\":\"1627\" } , {\"name\":\"스타뉴스\", \"type\":\"section\", \"ccode\":\"5\", \"code\":\"1108\" } , {\"name\":\"스타데일리뉴스\", \"type\":\"section\", \"ccode\":\"5\", \"code\":\"2401\" } , {\"name\":\"스타캐스트\", \"type\":\"section\", \"ccode\":\"5\", \"code\":\"1420\" } , {\"name\":\"스포츠Q\", \"type\":\"section\", \"ccode\":\"5\", \"code\":\"2400\" } , {\"name\":\"스포츠W\", \"type\":\"section\", \"ccode\":\"5\", \"code\":\"2753\" } , {\"name\":\"스포츠경향\", \"type\":\"section\", \"ccode\":\"5\", \"code\":\"1144\" } , {\"name\":\"스포츠동아\", \"type\":\"section\", \"ccode\":\"5\", \"code\":\"1382\" } , {\"name\":\"스포츠월드\", \"type\":\"section\", \"ccode\":\"5\", \"code\":\"1396\" } , {\"name\":\"스포츠조선\", \"type\":\"section\", \"ccode\":\"5\", \"code\":\"1076\" } , {\"name\":\"스포츠춘추\", \"type\":\"section\", \"ccode\":\"5\", \"code\":\"1529\" } , {\"name\":\"스포츠타임스\", \"type\":\"section\", \"ccode\":\"5\", \"code\":\"1472\" } , {\"name\":\"스포츠투데이\", \"type\":\"section\", \"ccode\":\"5\", \"code\":\"2348\" } , {\"name\":\"스포츠투아이\", \"type\":\"section\", \"ccode\":\"5\", \"code\":\"1488\" } , {\"name\":\"스포츠한국\", \"type\":\"section\", \"ccode\":\"5\", \"code\":\"2359\" } , {\"name\":\"스포탈코리아\", \"type\":\"section\", \"ccode\":\"5\", \"code\":\"1139\" } , {\"name\":\"스포티비뉴스\", \"type\":\"section\", \"ccode\":\"5\", \"code\":\"1477\" } , {\"name\":\"아시아리그\", \"type\":\"section\", \"ccode\":\"5\", \"code\":\"1603\" } , {\"name\":\"아이즈 ize\", \"type\":\"section\", \"ccode\":\"5\", \"code\":\"1465\" } , {\"name\":\"아주대 축구부 프론트\", \"type\":\"section\", \"ccode\":\"5\", \"code\":\"1645\" } , {\"name\":\"안산그리너스FC\", \"type\":\"section\", \"ccode\":\"5\", \"code\":\"1591\" } , {\"name\":\"알베르토 몬디\", \"type\":\"section\", \"ccode\":\"5\", \"code\":\"1554\" } , {\"name\":\"앤드류 배걸리\", \"type\":\"section\", \"ccode\":\"5\", \"code\":\"1556\" } , {\"name\":\"앳스타일\", \"type\":\"section\", \"ccode\":\"5\", \"code\":\"1415\" } , {\"name\":\"야덕일지\", \"type\":\"section\", \"ccode\":\"5\", \"code\":\"1487\" } , {\"name\":\"야큐 리포트\", \"type\":\"section\", \"ccode\":\"5\", \"code\":\"1264\" } , {\"name\":\"양주시민축구단\", \"type\":\"section\", \"ccode\":\"5\", \"code\":\"1623\" } , {\"name\":\"엑스포츠뉴스\", \"type\":\"section\", \"ccode\":\"5\", \"code\":\"1311\" } , {\"name\":\"엔젤스파이팅\", \"type\":\"section\", \"ccode\":\"5\", \"code\":\"1613\" } , {\"name\":\"염용근 칼럼\", \"type\":\"section\", \"ccode\":\"5\", \"code\":\"1486\" } , {\"name\":\"영남대 축구부 홍보단\", \"type\":\"section\", \"ccode\":\"5\", \"code\":\"1619\" } , {\"name\":\"영독한 기자들\", \"type\":\"section\", \"ccode\":\"5\", \"code\":\"1545\" } , {\"name\":\"올림픽채널\", \"type\":\"section\", \"ccode\":\"5\", \"code\":\"1610\" } , {\"name\":\"용인대스포츠기자단\", \"type\":\"section\", \"ccode\":\"5\", \"code\":\"1605\" } , {\"name\":\"울산대학교 어스키퍼\", \"type\":\"section\", \"ccode\":\"5\", \"code\":\"1632\" } , {\"name\":\"울산시민축구단\", \"type\":\"section\", \"ccode\":\"5\", \"code\":\"1615\" } , {\"name\":\"위원석 칼럼\", \"type\":\"section\", \"ccode\":\"5\", \"code\":\"1550\" } , {\"name\":\"이덕규 칼럼\", \"type\":\"section\", \"ccode\":\"5\", \"code\":\"1495\" } , {\"name\":\"이영미 칼럼\", \"type\":\"section\", \"ccode\":\"5\", \"code\":\"1380\" } , {\"name\":\"이은경 칼럼\", \"type\":\"section\", \"ccode\":\"5\", \"code\":\"1544\" } , {\"name\":\"이종열 칼럼\", \"type\":\"section\", \"ccode\":\"5\", \"code\":\"1566\" } , {\"name\":\"이창섭 칼럼\", \"type\":\"section\", \"ccode\":\"5\", \"code\":\"1460\" } , {\"name\":\"인간vs축봇\", \"type\":\"section\", \"ccode\":\"5\", \"code\":\"1580\" } , {\"name\":\"인벤\", \"type\":\"section\", \"ccode\":\"5\", \"code\":\"1442\" } , {\"name\":\"인터풋볼\", \"type\":\"section\", \"ccode\":\"5\", \"code\":\"1413\" } , {\"name\":\"일요신문 스포츠\", \"type\":\"section\", \"ccode\":\"5\", \"code\":\"1381\" } , {\"name\":\"점프볼\", \"type\":\"section\", \"ccode\":\"5\", \"code\":\"1065\" } , {\"name\":\"조석 카툰\", \"type\":\"section\", \"ccode\":\"5\", \"code\":\"1360\" } , {\"name\":\"조이뉴스24\", \"type\":\"section\", \"ccode\":\"5\", \"code\":\"2712\" } , {\"name\":\"중앙대학교 SPORTS CAU\", \"type\":\"section\", \"ccode\":\"5\", \"code\":\"1622\" } , {\"name\":\"천안시청축구단\", \"type\":\"section\", \"ccode\":\"5\", \"code\":\"1626\" } , {\"name\":\"청주FC\", \"type\":\"section\", \"ccode\":\"5\", \"code\":\"1651\" } , {\"name\":\"최종준 칼럼\", \"type\":\"section\", \"ccode\":\"5\", \"code\":\"1494\" } , {\"name\":\"추신수 MLB 일기\", \"type\":\"section\", \"ccode\":\"5\", \"code\":\"1512\" } , {\"name\":\"축구저널\", \"type\":\"section\", \"ccode\":\"5\", \"code\":\"2436\" } , {\"name\":\"춘천시민축구단\", \"type\":\"section\", \"ccode\":\"5\", \"code\":\"1616\" } , {\"name\":\"충주 험멜\", \"type\":\"section\", \"ccode\":\"5\", \"code\":\"1491\" } , {\"name\":\"콩푸엉 일기\", \"type\":\"section\", \"ccode\":\"5\", \"code\":\"1621\" } , {\"name\":\"킹존 드래곤X\", \"type\":\"section\", \"ccode\":\"5\", \"code\":\"1617\" } , {\"name\":\"테니스코리아\", \"type\":\"section\", \"ccode\":\"5\", \"code\":\"1481\" } , {\"name\":\"테니스피플\", \"type\":\"section\", \"ccode\":\"5\", \"code\":\"2553\" } , {\"name\":\"텐아시아\", \"type\":\"section\", \"ccode\":\"5\", \"code\":\"1312\" } , {\"name\":\"톱스타뉴스\", \"type\":\"section\", \"ccode\":\"5\", \"code\":\"2353\" } , {\"name\":\"티브이데일리\", \"type\":\"section\", \"ccode\":\"5\", \"code\":\"1440\" } , {\"name\":\"티브이데일리\", \"type\":\"section\", \"ccode\":\"5\", \"code\":\"2129\" } , {\"name\":\"페퍼저축은행 AI 페퍼스\", \"type\":\"section\", \"ccode\":\"5\", \"code\":\"1653\" } , {\"name\":\"포모스\", \"type\":\"section\", \"ccode\":\"5\", \"code\":\"1236\" } , {\"name\":\"포포투\", \"type\":\"section\", \"ccode\":\"5\", \"code\":\"1411\" } , {\"name\":\"풋볼리스트\", \"type\":\"section\", \"ccode\":\"5\", \"code\":\"1436\" } , {\"name\":\"한게임 바둑\", \"type\":\"section\", \"ccode\":\"5\", \"code\":\"1370\" } , {\"name\":\"한국3대3농구연맹\", \"type\":\"section\", \"ccode\":\"5\", \"code\":\"1618\" } , {\"name\":\"한국배구연맹\", \"type\":\"section\", \"ccode\":\"5\", \"code\":\"1352\" } , {\"name\":\"한국스포츠개발원\", \"type\":\"section\", \"ccode\":\"5\", \"code\":\"1593\" } , {\"name\":\"한국체대 KNSB\", \"type\":\"section\", \"ccode\":\"5\", \"code\":\"1620\" } , {\"name\":\"한국풋살연맹\", \"type\":\"section\", \"ccode\":\"5\", \"code\":\"1625\" } , {\"name\":\"한국프로볼링협회\", \"type\":\"section\", \"ccode\":\"5\", \"code\":\"1592\" } , {\"name\":\"한국프로축구선수협회\", \"type\":\"section\", \"ccode\":\"5\", \"code\":\"1628\" } , {\"name\":\"한스경제\", \"type\":\"section\", \"ccode\":\"5\", \"code\":\"2438\" } , {\"name\":\"한준 칼럼\", \"type\":\"section\", \"ccode\":\"5\", \"code\":\"1431\" } , {\"name\":\"한화생명e스포츠\", \"type\":\"section\", \"ccode\":\"5\", \"code\":\"1598\" } , {\"name\":\"헤럴드POP\", \"type\":\"section\", \"ccode\":\"5\", \"code\":\"1112\" } , {\"name\":\"홍기자 칼럼\", \"type\":\"section\", \"ccode\":\"5\", \"code\":\"1459\" } , {\"name\":\"홍익대 홍대신문\", \"type\":\"section\", \"ccode\":\"5\", \"code\":\"1647\" } , {\"name\":\"흥국생명 핑크스파이더스\", \"type\":\"section\", \"ccode\":\"5\", \"code\":\"1606\" } , {\"name\":\"JTBC GOLF\", \"type\":\"section\", \"ccode\":\"5\", \"code\":\"1470\" } , {\"name\":\"K STAR\", \"type\":\"section\", \"ccode\":\"5\", \"code\":\"2245\" } , {\"name\":\"KBS 연예\", \"type\":\"section\", \"ccode\":\"5\", \"code\":\"1438\" } , {\"name\":\"KBSN 스포츠\", \"type\":\"section\", \"ccode\":\"5\", \"code\":\"1451\" } , {\"name\":\"KGC인삼공사프로배구단\", \"type\":\"section\", \"ccode\":\"5\", \"code\":\"1611\" } , {\"name\":\"MBC SPORTS+\", \"type\":\"section\", \"ccode\":\"5\", \"code\":\"1049\" } , {\"name\":\"MBC연예\", \"type\":\"section\", \"ccode\":\"5\", \"code\":\"1408\" } , {\"name\":\"MHN스포츠\", \"type\":\"section\", \"ccode\":\"5\", \"code\":\"1445\" } , {\"name\":\"MK스포츠\", \"type\":\"section\", \"ccode\":\"5\", \"code\":\"1410\" } , {\"name\":\"OBS TV\", \"type\":\"section\", \"ccode\":\"5\", \"code\":\"1427\" } , {\"name\":\"OSEN\", \"type\":\"section\", \"ccode\":\"5\", \"code\":\"1109\" } , {\"name\":\"SBS Golf\", \"type\":\"section\", \"ccode\":\"5\", \"code\":\"2314\" } , {\"name\":\"SBS SPORTS\", \"type\":\"section\", \"ccode\":\"5\", \"code\":\"1464\" } , {\"name\":\"SBS연예뉴스\", \"type\":\"section\", \"ccode\":\"5\", \"code\":\"1416\" } , {\"name\":\"STAT 칼럼\", \"type\":\"section\", \"ccode\":\"5\", \"code\":\"1564\" } , {\"name\":\"STN 스포츠\", \"type\":\"section\", \"ccode\":\"5\", \"code\":\"1450\" } , {\"name\":\"Team LoL 칼럼\", \"type\":\"section\", \"ccode\":\"5\", \"code\":\"1502\" } , {\"name\":\"The Sun\", \"type\":\"section\", \"ccode\":\"5\", \"code\":\"1496\" } , {\"name\":\"TV리포트\", \"type\":\"section\", \"ccode\":\"5\", \"code\":\"1213\" } ] } , { \"name\": \"지역지\", \"list\": [ {\"name\":\"강원도민일보\", \"type\":\"section\", \"ccode\":\"6\", \"code\":\"1654\" } , {\"name\":\"강원일보\", \"type\":\"section\", \"ccode\":\"6\", \"code\":\"1087\" } , {\"name\":\"경기신문\", \"type\":\"section\", \"ccode\":\"6\", \"code\":\"2199\" } , {\"name\":\"경기일보\", \"type\":\"section\", \"ccode\":\"6\", \"code\":\"2165\" } , {\"name\":\"경남도민신문\", \"type\":\"section\", \"ccode\":\"6\", \"code\":\"2416\" } , {\"name\":\"경남도민일보\", \"type\":\"section\", \"ccode\":\"6\", \"code\":\"2163\" } , {\"name\":\"경남매일신문\", \"type\":\"section\", \"ccode\":\"6\", \"code\":\"2346\" } , {\"name\":\"경남신문\", \"type\":\"section\", \"ccode\":\"6\", \"code\":\"2202\" } , {\"name\":\"경남일보\", \"type\":\"section\", \"ccode\":\"6\", \"code\":\"2217\" } , {\"name\":\"경북도민일보\", \"type\":\"section\", \"ccode\":\"6\", \"code\":\"2377\" } , {\"name\":\"경북매일신문\", \"type\":\"section\", \"ccode\":\"6\", \"code\":\"2161\" } , {\"name\":\"경북신문\", \"type\":\"section\", \"ccode\":\"6\", \"code\":\"2533\" } , {\"name\":\"경북일보\", \"type\":\"section\", \"ccode\":\"6\", \"code\":\"2098\" } , {\"name\":\"경상매일신문\", \"type\":\"section\", \"ccode\":\"6\", \"code\":\"2321\" } , {\"name\":\"경상일보\", \"type\":\"section\", \"ccode\":\"6\", \"code\":\"2277\" } , {\"name\":\"경인일보\", \"type\":\"section\", \"ccode\":\"6\", \"code\":\"2122\" } , {\"name\":\"고양신문\", \"type\":\"section\", \"ccode\":\"6\", \"code\":\"2429\" } , {\"name\":\"광주드림\", \"type\":\"section\", \"ccode\":\"6\", \"code\":\"2237\" } , {\"name\":\"광주매일신문\", \"type\":\"section\", \"ccode\":\"6\", \"code\":\"2263\" } , {\"name\":\"국제신문\", \"type\":\"section\", \"ccode\":\"6\", \"code\":\"1658\" } , {\"name\":\"군포시민신문\", \"type\":\"section\", \"ccode\":\"6\", \"code\":\"2513\" } , {\"name\":\"굿모닝충청\", \"type\":\"section\", \"ccode\":\"6\", \"code\":\"2285\" } , {\"name\":\"금강일보\", \"type\":\"section\", \"ccode\":\"6\", \"code\":\"2356\" } , {\"name\":\"기호일보\", \"type\":\"section\", \"ccode\":\"6\", \"code\":\"2154\" } , {\"name\":\"김해뉴스\", \"type\":\"section\", \"ccode\":\"6\", \"code\":\"2345\" } , {\"name\":\"남도일보\", \"type\":\"section\", \"ccode\":\"6\", \"code\":\"2539\" } , {\"name\":\"뉴스경남\", \"type\":\"section\", \"ccode\":\"6\", \"code\":\"2714\" } , {\"name\":\"뉴스저널리즘\", \"type\":\"section\", \"ccode\":\"6\", \"code\":\"2824\" } , {\"name\":\"뉴제주일보\", \"type\":\"section\", \"ccode\":\"6\", \"code\":\"2452\" } , {\"name\":\"당진시대\", \"type\":\"section\", \"ccode\":\"6\", \"code\":\"2855\" } , {\"name\":\"당진신문\", \"type\":\"section\", \"ccode\":\"6\", \"code\":\"2678\" } , {\"name\":\"대경일보\", \"type\":\"section\", \"ccode\":\"6\", \"code\":\"2581\" } , {\"name\":\"대구MBC\", \"type\":\"section\", \"ccode\":\"6\", \"code\":\"1657\" } , {\"name\":\"대구신문\", \"type\":\"section\", \"ccode\":\"6\", \"code\":\"2341\" } , {\"name\":\"대구일보\", \"type\":\"section\", \"ccode\":\"6\", \"code\":\"2287\" } , {\"name\":\"대전시티저널\", \"type\":\"section\", \"ccode\":\"6\", \"code\":\"2069\" } , {\"name\":\"대전일보\", \"type\":\"section\", \"ccode\":\"6\", \"code\":\"1656\" } , {\"name\":\"동양일보\", \"type\":\"section\", \"ccode\":\"6\", \"code\":\"2344\" } , {\"name\":\"디트뉴스24\", \"type\":\"section\", \"ccode\":\"6\", \"code\":\"2232\" } , {\"name\":\"라디오코리아\", \"type\":\"section\", \"ccode\":\"6\", \"code\":\"2083\" } , {\"name\":\"매일신문\", \"type\":\"section\", \"ccode\":\"6\", \"code\":\"1088\" } , {\"name\":\"무등일보\", \"type\":\"section\", \"ccode\":\"6\", \"code\":\"2323\" } , {\"name\":\"미디어제주\", \"type\":\"section\", \"ccode\":\"6\", \"code\":\"2522\" } , {\"name\":\"미주중앙일보\", \"type\":\"section\", \"ccode\":\"6\", \"code\":\"2292\" } , {\"name\":\"미주한국일보\", \"type\":\"section\", \"ccode\":\"6\", \"code\":\"2428\" } , {\"name\":\"부산일보\", \"type\":\"section\", \"ccode\":\"6\", \"code\":\"1082\" } , {\"name\":\"새전북신문\", \"type\":\"section\", \"ccode\":\"6\", \"code\":\"2153\" } , {\"name\":\"스포츠서울\", \"type\":\"section\", \"ccode\":\"6\", \"code\":\"2361\" } , {\"name\":\"시민의소리\", \"type\":\"section\", \"ccode\":\"6\", \"code\":\"2439\" } , {\"name\":\"시사제주\", \"type\":\"section\", \"ccode\":\"6\", \"code\":\"2179\" } , {\"name\":\"신아일보\", \"type\":\"section\", \"ccode\":\"6\", \"code\":\"2364\" } , {\"name\":\"영남일보\", \"type\":\"section\", \"ccode\":\"6\", \"code\":\"2207\" } , {\"name\":\"울산매일신문\", \"type\":\"section\", \"ccode\":\"6\", \"code\":\"2184\" } , {\"name\":\"울산제일일보\", \"type\":\"section\", \"ccode\":\"6\", \"code\":\"2583\" } , {\"name\":\"인천일보\", \"type\":\"section\", \"ccode\":\"6\", \"code\":\"2193\" } , {\"name\":\"인천투데이\", \"type\":\"section\", \"ccode\":\"6\", \"code\":\"2688\" } , {\"name\":\"일간스포츠\", \"type\":\"section\", \"ccode\":\"6\", \"code\":\"2850\" } , {\"name\":\"전남일보\", \"type\":\"section\", \"ccode\":\"6\", \"code\":\"2379\" } , {\"name\":\"전라일보\", \"type\":\"section\", \"ccode\":\"6\", \"code\":\"2395\" } , {\"name\":\"전민일보\", \"type\":\"section\", \"ccode\":\"6\", \"code\":\"2368\" } , {\"name\":\"전북도민일보\", \"type\":\"section\", \"ccode\":\"6\", \"code\":\"2259\" } , {\"name\":\"전북일보\", \"type\":\"section\", \"ccode\":\"6\", \"code\":\"2335\" } , {\"name\":\"전북중앙\", \"type\":\"section\", \"ccode\":\"6\", \"code\":\"2599\" } , {\"name\":\"전주MBC\", \"type\":\"section\", \"ccode\":\"6\", \"code\":\"1659\" } , {\"name\":\"제민일보\", \"type\":\"section\", \"ccode\":\"6\", \"code\":\"2158\" } , {\"name\":\"제주도민일보\", \"type\":\"section\", \"ccode\":\"6\", \"code\":\"2186\" } , {\"name\":\"제주의소리\", \"type\":\"section\", \"ccode\":\"6\", \"code\":\"2085\" } , {\"name\":\"중도일보\", \"type\":\"section\", \"ccode\":\"6\", \"code\":\"2340\" } , {\"name\":\"중부매일\", \"type\":\"section\", \"ccode\":\"6\", \"code\":\"2283\" } , {\"name\":\"중부일보\", \"type\":\"section\", \"ccode\":\"6\", \"code\":\"2281\" } , {\"name\":\"충남일보\", \"type\":\"section\", \"ccode\":\"6\", \"code\":\"2347\" } , {\"name\":\"충북일보\", \"type\":\"section\", \"ccode\":\"6\", \"code\":\"2231\" } , {\"name\":\"충청리뷰\", \"type\":\"section\", \"ccode\":\"6\", \"code\":\"2699\" } , {\"name\":\"충청매일\", \"type\":\"section\", \"ccode\":\"6\", \"code\":\"2278\" } , {\"name\":\"충청일보\", \"type\":\"section\", \"ccode\":\"6\", \"code\":\"2116\" } , {\"name\":\"충청타임즈\", \"type\":\"section\", \"ccode\":\"6\", \"code\":\"2498\" } , {\"name\":\"충청투데이\", \"type\":\"section\", \"ccode\":\"6\", \"code\":\"2160\" } , {\"name\":\"헤드라인제주\", \"type\":\"section\", \"ccode\":\"6\", \"code\":\"2267\" } , {\"name\":\"CJB청주방송\", \"type\":\"section\", \"ccode\":\"6\", \"code\":\"1655\" } , {\"name\":\"JIBS\", \"type\":\"section\", \"ccode\":\"6\", \"code\":\"1661\" } , {\"name\":\"kbc광주방송\", \"type\":\"section\", \"ccode\":\"6\", \"code\":\"1660\" } , {\"name\":\"VOA\", \"type\":\"section\", \"ccode\":\"6\", \"code\":\"2087\" } ] } , { \"name\": \"매거진\", \"list\": [ {\"name\":\"골프저널\", \"type\":\"section\", \"ccode\":\"7\", \"code\":\"2773\" } , {\"name\":\"그라피\", \"type\":\"section\", \"ccode\":\"7\", \"code\":\"2659\" } , {\"name\":\"낚시춘추\", \"type\":\"section\", \"ccode\":\"7\", \"code\":\"2378\" } , {\"name\":\"농업정보신문\", \"type\":\"section\", \"ccode\":\"7\", \"code\":\"2806\" } , {\"name\":\"더뮤지컬\", \"type\":\"section\", \"ccode\":\"7\", \"code\":\"2561\" } , {\"name\":\"더핑퐁\", \"type\":\"section\", \"ccode\":\"7\", \"code\":\"2680\" } , {\"name\":\"디자인정글\", \"type\":\"section\", \"ccode\":\"7\", \"code\":\"2188\" } , {\"name\":\"레이디경향\", \"type\":\"section\", \"ccode\":\"7\", \"code\":\"1145\" } , {\"name\":\"론리플래닛\", \"type\":\"section\", \"ccode\":\"7\", \"code\":\"2607\" } , {\"name\":\"르몽드\", \"type\":\"section\", \"ccode\":\"7\", \"code\":\"2260\" } , {\"name\":\"마리끌레르\", \"type\":\"section\", \"ccode\":\"7\", \"code\":\"2547\" } , {\"name\":\"매경이코노미\", \"type\":\"section\", \"ccode\":\"7\", \"code\":\"1024\" } , {\"name\":\"맥스무비\", \"type\":\"section\", \"ccode\":\"7\", \"code\":\"2078\" } , {\"name\":\"머니\", \"type\":\"section\", \"ccode\":\"7\", \"code\":\"2448\" } , {\"name\":\"메종\", \"type\":\"section\", \"ccode\":\"7\", \"code\":\"2640\" } , {\"name\":\"모터트렌드 코리아\", \"type\":\"section\", \"ccode\":\"7\", \"code\":\"2797\" } , {\"name\":\"브라보마이라이프\", \"type\":\"section\", \"ccode\":\"7\", \"code\":\"2474\" } , {\"name\":\"브레인미디어\", \"type\":\"section\", \"ccode\":\"7\", \"code\":\"2065\" } , {\"name\":\"비지니스코리아\", \"type\":\"section\", \"ccode\":\"7\", \"code\":\"2652\" } , {\"name\":\"빌리어즈\", \"type\":\"section\", \"ccode\":\"7\", \"code\":\"2496\" } , {\"name\":\"소셜밸류\", \"type\":\"section\", \"ccode\":\"7\", \"code\":\"2825\" } , {\"name\":\"슈어\", \"type\":\"section\", \"ccode\":\"7\", \"code\":\"2215\" } , {\"name\":\"시사IN\", \"type\":\"section\", \"ccode\":\"7\", \"code\":\"1308\" } , {\"name\":\"시사매거진\", \"type\":\"section\", \"ccode\":\"7\", \"code\":\"2617\" } , {\"name\":\"시사오늘\", \"type\":\"section\", \"ccode\":\"7\", \"code\":\"2370\" } , {\"name\":\"시사저널\", \"type\":\"section\", \"ccode\":\"7\", \"code\":\"1586\" } , {\"name\":\"신동아\", \"type\":\"section\", \"ccode\":\"7\", \"code\":\"1262\" } , {\"name\":\"쎄씨\", \"type\":\"section\", \"ccode\":\"7\", \"code\":\"2219\" } , {\"name\":\"씨네21\", \"type\":\"section\", \"ccode\":\"7\", \"code\":\"1140\" } , {\"name\":\"아웃도어뉴스\", \"type\":\"section\", \"ccode\":\"7\", \"code\":\"2222\" } , {\"name\":\"에스콰이어\", \"type\":\"section\", \"ccode\":\"7\", \"code\":\"2691\" } , {\"name\":\"엔지니어링데일리\", \"type\":\"section\", \"ccode\":\"7\", \"code\":\"2271\" } , {\"name\":\"엘르\", \"type\":\"section\", \"ccode\":\"7\", \"code\":\"2027\" } , {\"name\":\"엠에프지\", \"type\":\"section\", \"ccode\":\"7\", \"code\":\"2701\" } , {\"name\":\"여성동아\", \"type\":\"section\", \"ccode\":\"7\", \"code\":\"2549\" } , {\"name\":\"여성조선\", \"type\":\"section\", \"ccode\":\"7\", \"code\":\"2238\" } , {\"name\":\"여성중앙\", \"type\":\"section\", \"ccode\":\"7\", \"code\":\"2210\" } , {\"name\":\"여행스케치\", \"type\":\"section\", \"ccode\":\"7\", \"code\":\"2570\" } , {\"name\":\"연합이매진\", \"type\":\"section\", \"ccode\":\"7\", \"code\":\"1225\" } , {\"name\":\"월간 산\", \"type\":\"section\", \"ccode\":\"7\", \"code\":\"1094\" } , {\"name\":\"월간 오디오\", \"type\":\"section\", \"ccode\":\"7\", \"code\":\"2800\" } , {\"name\":\"월간로봇기술\", \"type\":\"section\", \"ccode\":\"7\", \"code\":\"2733\" } , {\"name\":\"월간마이더스\", \"type\":\"section\", \"ccode\":\"7\", \"code\":\"2208\" } , {\"name\":\"월간암\", \"type\":\"section\", \"ccode\":\"7\", \"code\":\"2075\" } , {\"name\":\"월간오늘보다\", \"type\":\"section\", \"ccode\":\"7\", \"code\":\"2632\" } , {\"name\":\"월간조선\", \"type\":\"section\", \"ccode\":\"7\", \"code\":\"2481\" } , {\"name\":\"월간중앙\", \"type\":\"section\", \"ccode\":\"7\", \"code\":\"2203\" } , {\"name\":\"월간현대경영\", \"type\":\"section\", \"ccode\":\"7\", \"code\":\"2393\" } , {\"name\":\"위클리오늘\", \"type\":\"section\", \"ccode\":\"7\", \"code\":\"2294\" } , {\"name\":\"이웃집과학자\", \"type\":\"section\", \"ccode\":\"7\", \"code\":\"2550\" } , {\"name\":\"이코노미스트\", \"type\":\"section\", \"ccode\":\"7\", \"code\":\"1243\" } , {\"name\":\"이코노미조선\", \"type\":\"section\", \"ccode\":\"7\", \"code\":\"2226\" } , {\"name\":\"이코노믹리뷰\", \"type\":\"section\", \"ccode\":\"7\", \"code\":\"2097\" } , {\"name\":\"인사이트코리아\", \"type\":\"section\", \"ccode\":\"7\", \"code\":\"2517\" } , {\"name\":\"인터뷰365\", \"type\":\"section\", \"ccode\":\"7\", \"code\":\"2081\" } , {\"name\":\"일렉트릭파워\", \"type\":\"section\", \"ccode\":\"7\", \"code\":\"2574\" } , {\"name\":\"조선에듀\", \"type\":\"section\", \"ccode\":\"7\", \"code\":\"2546\" } , {\"name\":\"주간경향\", \"type\":\"section\", \"ccode\":\"7\", \"code\":\"1033\" } , {\"name\":\"주간동아\", \"type\":\"section\", \"ccode\":\"7\", \"code\":\"1037\" } , {\"name\":\"주간조선\", \"type\":\"section\", \"ccode\":\"7\", \"code\":\"1053\" } , {\"name\":\"주간한국\", \"type\":\"section\", \"ccode\":\"7\", \"code\":\"2723\" } , {\"name\":\"주간한국\", \"type\":\"section\", \"ccode\":\"7\", \"code\":\"1042\" } , {\"name\":\"중앙SUNDAY\", \"type\":\"section\", \"ccode\":\"7\", \"code\":\"1353\" } , {\"name\":\"지이코노미\", \"type\":\"section\", \"ccode\":\"7\", \"code\":\"2633\" } , {\"name\":\"참여와혁신\", \"type\":\"section\", \"ccode\":\"7\", \"code\":\"2495\" } , {\"name\":\"채널예스\", \"type\":\"section\", \"ccode\":\"7\", \"code\":\"2185\" } , {\"name\":\"카스포인트\", \"type\":\"section\", \"ccode\":\"7\", \"code\":\"2336\" } , {\"name\":\"테크M\", \"type\":\"section\", \"ccode\":\"7\", \"code\":\"2447\" } , {\"name\":\"트래비\", \"type\":\"section\", \"ccode\":\"7\", \"code\":\"2411\" } , {\"name\":\"파운드 매거진\", \"type\":\"section\", \"ccode\":\"7\", \"code\":\"2225\" } , {\"name\":\"팜앤마켓매거진\", \"type\":\"section\", \"ccode\":\"7\", \"code\":\"2649\" } , {\"name\":\"패션비즈\", \"type\":\"section\", \"ccode\":\"7\", \"code\":\"2272\" } , {\"name\":\"패션저널\", \"type\":\"section\", \"ccode\":\"7\", \"code\":\"2073\" } , {\"name\":\"포브스코리아\", \"type\":\"section\", \"ccode\":\"7\", \"code\":\"2204\" } , {\"name\":\"포춘코리아\", \"type\":\"section\", \"ccode\":\"7\", \"code\":\"2727\" } , {\"name\":\"하퍼스바자\", \"type\":\"section\", \"ccode\":\"7\", \"code\":\"2634\" } , {\"name\":\"한겨레21\", \"type\":\"section\", \"ccode\":\"7\", \"code\":\"1036\" } , {\"name\":\"한경비즈니스\", \"type\":\"section\", \"ccode\":\"7\", \"code\":\"1050\" } , {\"name\":\"한경잡앤조이\", \"type\":\"section\", \"ccode\":\"7\", \"code\":\"2209\" } , {\"name\":\"헬로티\", \"type\":\"section\", \"ccode\":\"7\", \"code\":\"2417\" } , {\"name\":\"allure\", \"type\":\"section\", \"ccode\":\"7\", \"code\":\"2304\" } , {\"name\":\"CHIEF EXECUTIVE\", \"type\":\"section\", \"ccode\":\"7\", \"code\":\"2833\" } , {\"name\":\"CNB저널\", \"type\":\"section\", \"ccode\":\"7\", \"code\":\"2127\" } , {\"name\":\"GQ\", \"type\":\"section\", \"ccode\":\"7\", \"code\":\"2302\" } , {\"name\":\"M이코노미\", \"type\":\"section\", \"ccode\":\"7\", \"code\":\"2180\" } , {\"name\":\"PC사랑\", \"type\":\"section\", \"ccode\":\"7\", \"code\":\"2198\" } , {\"name\":\"Queen\", \"type\":\"section\", \"ccode\":\"7\", \"code\":\"2472\" } , {\"name\":\"Tomorrow\", \"type\":\"section\", \"ccode\":\"7\", \"code\":\"2559\" } , {\"name\":\"topclass\", \"type\":\"section\", \"ccode\":\"7\", \"code\":\"2265\" } , {\"name\":\"VOGUE\", \"type\":\"section\", \"ccode\":\"7\", \"code\":\"2301\" } , {\"name\":\"VOGUE girl\", \"type\":\"section\", \"ccode\":\"7\", \"code\":\"2303\" } , {\"name\":\"W\", \"type\":\"section\", \"ccode\":\"7\", \"code\":\"2305\" } ] } , { \"name\": \"전문지/기타\", \"list\": [ {\"name\":\"가스신문\", \"type\":\"section\", \"ccode\":\"8\", \"code\":\"2178\" } , {\"name\":\"가톨릭뉴스 지금여기\", \"type\":\"section\", \"ccode\":\"8\", \"code\":\"2458\" } , {\"name\":\"가톨릭신문\", \"type\":\"section\", \"ccode\":\"8\", \"code\":\"2252\" } , {\"name\":\"건설타임즈\", \"type\":\"section\", \"ccode\":\"8\", \"code\":\"2067\" } , {\"name\":\"게임뷰\", \"type\":\"section\", \"ccode\":\"8\", \"code\":\"2858\" } , {\"name\":\"게임샷\", \"type\":\"section\", \"ccode\":\"8\", \"code\":\"2739\" } , {\"name\":\"게임플\", \"type\":\"section\", \"ccode\":\"8\", \"code\":\"2577\" } , {\"name\":\"경희대학교 레굴루스\", \"type\":\"section\", \"ccode\":\"8\", \"code\":\"1572\" } , {\"name\":\"골프산업신문\", \"type\":\"section\", \"ccode\":\"8\", \"code\":\"2661\" } , {\"name\":\"공감신문\", \"type\":\"section\", \"ccode\":\"8\", \"code\":\"2264\" } , {\"name\":\"공무원수험신문\", \"type\":\"section\", \"ccode\":\"8\", \"code\":\"2614\" } , {\"name\":\"광운대학교 아르마스\", \"type\":\"section\", \"ccode\":\"8\", \"code\":\"1590\" } , {\"name\":\"광주일보\", \"type\":\"section\", \"ccode\":\"8\", \"code\":\"2857\" } , {\"name\":\"교수신문\", \"type\":\"section\", \"ccode\":\"8\", \"code\":\"2150\" } , {\"name\":\"국민의당\", \"type\":\"section\", \"ccode\":\"8\", \"code\":\"1637\" } , {\"name\":\"국방일보\", \"type\":\"section\", \"ccode\":\"8\", \"code\":\"2249\" } , {\"name\":\"국토일보\", \"type\":\"section\", \"ccode\":\"8\", \"code\":\"2338\" } , {\"name\":\"국회\", \"type\":\"section\", \"ccode\":\"8\", \"code\":\"1358\" } , {\"name\":\"기자협회보\", \"type\":\"section\", \"ccode\":\"8\", \"code\":\"1127\" } , {\"name\":\"나무신문\", \"type\":\"section\", \"ccode\":\"8\", \"code\":\"2784\" } , {\"name\":\"노동과세계\", \"type\":\"section\", \"ccode\":\"8\", \"code\":\"2542\" } , {\"name\":\"농기자재신문\", \"type\":\"section\", \"ccode\":\"8\", \"code\":\"2720\" } , {\"name\":\"농민신문\", \"type\":\"section\", \"ccode\":\"8\", \"code\":\"2084\" } , {\"name\":\"농민신문\", \"type\":\"section\", \"ccode\":\"8\", \"code\":\"1662\" } , {\"name\":\"농수축산신문\", \"type\":\"section\", \"ccode\":\"8\", \"code\":\"2442\" } , {\"name\":\"농업경제신문\", \"type\":\"section\", \"ccode\":\"8\", \"code\":\"2679\" } , {\"name\":\"농장에서식탁까지\", \"type\":\"section\", \"ccode\":\"8\", \"code\":\"2666\" } , {\"name\":\"농축유통신문\", \"type\":\"section\", \"ccode\":\"8\", \"code\":\"2537\" } , {\"name\":\"뉴스브라이트\", \"type\":\"section\", \"ccode\":\"8\", \"code\":\"2476\" } , {\"name\":\"뉴스와이어\", \"type\":\"section\", \"ccode\":\"8\", \"code\":\"2334\" } , {\"name\":\"뉴스컬처\", \"type\":\"section\", \"ccode\":\"8\", \"code\":\"2339\" } , {\"name\":\"뉴스타파\", \"type\":\"section\", \"ccode\":\"8\", \"code\":\"1607\" } , {\"name\":\"뉴스포스트\", \"type\":\"section\", \"ccode\":\"8\", \"code\":\"2491\" } , {\"name\":\"대명 킬러웨일즈\", \"type\":\"section\", \"ccode\":\"8\", \"code\":\"1538\" } , {\"name\":\"대안신당\", \"type\":\"section\", \"ccode\":\"8\", \"code\":\"1636\" } , {\"name\":\"대한급식신문\", \"type\":\"section\", \"ccode\":\"8\", \"code\":\"2470\" } , {\"name\":\"대한럭비협회\", \"type\":\"section\", \"ccode\":\"8\", \"code\":\"1547\" } , {\"name\":\"대한씨름협회\", \"type\":\"section\", \"ccode\":\"8\", \"code\":\"1548\" } , {\"name\":\"대한장애인체육회\", \"type\":\"section\", \"ccode\":\"8\", \"code\":\"1307\" } , {\"name\":\"대한체육회\", \"type\":\"section\", \"ccode\":\"8\", \"code\":\"1601\" } , {\"name\":\"더게임스데일리\", \"type\":\"section\", \"ccode\":\"8\", \"code\":\"2462\" } , {\"name\":\"더나은미래\", \"type\":\"section\", \"ccode\":\"8\", \"code\":\"2635\" } , {\"name\":\"더불어민주당\", \"type\":\"section\", \"ccode\":\"8\", \"code\":\"1305\" } , {\"name\":\"더불어시민당\", \"type\":\"section\", \"ccode\":\"8\", \"code\":\"1642\" } , {\"name\":\"더스쿠프\", \"type\":\"section\", \"ccode\":\"8\", \"code\":\"2311\" } , {\"name\":\"더피알\", \"type\":\"section\", \"ccode\":\"8\", \"code\":\"2399\" } , {\"name\":\"데이터뉴스\", \"type\":\"section\", \"ccode\":\"8\", \"code\":\"2024\" } , {\"name\":\"데일리NK\", \"type\":\"section\", \"ccode\":\"8\", \"code\":\"2023\" } , {\"name\":\"데일리굿뉴스\", \"type\":\"section\", \"ccode\":\"8\", \"code\":\"2646\" } , {\"name\":\"데일리로그\", \"type\":\"section\", \"ccode\":\"8\", \"code\":\"2684\" } , {\"name\":\"데일리메디\", \"type\":\"section\", \"ccode\":\"8\", \"code\":\"2125\" } , {\"name\":\"데일리벳\", \"type\":\"section\", \"ccode\":\"8\", \"code\":\"2392\" } , {\"name\":\"데일리시큐\", \"type\":\"section\", \"ccode\":\"8\", \"code\":\"2350\" } , {\"name\":\"데일리카\", \"type\":\"section\", \"ccode\":\"8\", \"code\":\"2621\" } , {\"name\":\"데일리포스트\", \"type\":\"section\", \"ccode\":\"8\", \"code\":\"2771\" } , {\"name\":\"데일리환경\", \"type\":\"section\", \"ccode\":\"8\", \"code\":\"2878\" } , {\"name\":\"독서신문\", \"type\":\"section\", \"ccode\":\"8\", \"code\":\"2043\" } , {\"name\":\"동아사이언스\", \"type\":\"section\", \"ccode\":\"8\", \"code\":\"1584\" } , {\"name\":\"동아오토\", \"type\":\"section\", \"ccode\":\"8\", \"code\":\"2257\" } , {\"name\":\"라온신문\", \"type\":\"section\", \"ccode\":\"8\", \"code\":\"2874\" } , {\"name\":\"라이브팜뉴스\", \"type\":\"section\", \"ccode\":\"8\", \"code\":\"2811\" } , {\"name\":\"라포르시안\", \"type\":\"section\", \"ccode\":\"8\", \"code\":\"2248\" } , {\"name\":\"레디앙\", \"type\":\"section\", \"ccode\":\"8\", \"code\":\"2315\" } , {\"name\":\"로리더\", \"type\":\"section\", \"ccode\":\"8\", \"code\":\"2775\" } , {\"name\":\"로이슈\", \"type\":\"section\", \"ccode\":\"8\", \"code\":\"2289\" } , {\"name\":\"리걸타임즈\", \"type\":\"section\", \"ccode\":\"8\", \"code\":\"2674\" } , {\"name\":\"리얼캐스트\", \"type\":\"section\", \"ccode\":\"8\", \"code\":\"2705\" } , {\"name\":\"매경헬스\", \"type\":\"section\", \"ccode\":\"8\", \"code\":\"2717\" } , {\"name\":\"메디칼업저버\", \"type\":\"section\", \"ccode\":\"8\", \"code\":\"2371\" } , {\"name\":\"메디칼타임즈\", \"type\":\"section\", \"ccode\":\"8\", \"code\":\"2391\" } , {\"name\":\"메디칼트리뷴\", \"type\":\"section\", \"ccode\":\"8\", \"code\":\"2389\" } , {\"name\":\"메디컬월드뉴스\", \"type\":\"section\", \"ccode\":\"8\", \"code\":\"2620\" } , {\"name\":\"메디컬투데이\", \"type\":\"section\", \"ccode\":\"8\", \"code\":\"2269\" } , {\"name\":\"메디파나뉴스\", \"type\":\"section\", \"ccode\":\"8\", \"code\":\"2126\" } , {\"name\":\"무비위크\", \"type\":\"section\", \"ccode\":\"8\", \"code\":\"1242\" } , {\"name\":\"무카스\", \"type\":\"section\", \"ccode\":\"8\", \"code\":\"2071\" } , {\"name\":\"문학뉴스\", \"type\":\"section\", \"ccode\":\"8\", \"code\":\"2628\" } , {\"name\":\"문화뉴스\", \"type\":\"section\", \"ccode\":\"8\", \"code\":\"2415\" } , {\"name\":\"물류신문\", \"type\":\"section\", \"ccode\":\"8\", \"code\":\"2148\" } , {\"name\":\"미디어스\", \"type\":\"section\", \"ccode\":\"8\", \"code\":\"2060\" } , {\"name\":\"미디어파인\", \"type\":\"section\", \"ccode\":\"8\", \"code\":\"2443\" } , {\"name\":\"미래통합당\", \"type\":\"section\", \"ccode\":\"8\", \"code\":\"1156\" } , {\"name\":\"민생당\", \"type\":\"section\", \"ccode\":\"8\", \"code\":\"1517\" } , {\"name\":\"민족의학신문\", \"type\":\"section\", \"ccode\":\"8\", \"code\":\"2322\" } , {\"name\":\"민주평화당\", \"type\":\"section\", \"ccode\":\"8\", \"code\":\"1594\" } , {\"name\":\"민중당\", \"type\":\"section\", \"ccode\":\"8\", \"code\":\"1608\" } , {\"name\":\"바른정당\", \"type\":\"section\", \"ccode\":\"8\", \"code\":\"1552\" } , {\"name\":\"방송기술저널\", \"type\":\"section\", \"ccode\":\"8\", \"code\":\"2660\" } , {\"name\":\"배드민턴뉴스\", \"type\":\"section\", \"ccode\":\"8\", \"code\":\"2863\" } , {\"name\":\"백세시대\", \"type\":\"section\", \"ccode\":\"8\", \"code\":\"2466\" } , {\"name\":\"법률신문\", \"type\":\"section\", \"ccode\":\"8\", \"code\":\"2094\" } , {\"name\":\"법률저널\", \"type\":\"section\", \"ccode\":\"8\", \"code\":\"2144\" } , {\"name\":\"법보신문\", \"type\":\"section\", \"ccode\":\"8\", \"code\":\"2157\" } , {\"name\":\"법조신문\", \"type\":\"section\", \"ccode\":\"8\", \"code\":\"2330\" } , {\"name\":\"베리타스알파\", \"type\":\"section\", \"ccode\":\"8\", \"code\":\"2258\" } , {\"name\":\"베이비뉴스\", \"type\":\"section\", \"ccode\":\"8\", \"code\":\"2295\" } , {\"name\":\"베이비타임즈\", \"type\":\"section\", \"ccode\":\"8\", \"code\":\"2631\" } , {\"name\":\"보건뉴스\", \"type\":\"section\", \"ccode\":\"8\", \"code\":\"2602\" } , {\"name\":\"보험매일\", \"type\":\"section\", \"ccode\":\"8\", \"code\":\"2715\" } , {\"name\":\"부안독립신문\", \"type\":\"section\", \"ccode\":\"8\", \"code\":\"2590\" } , {\"name\":\"북DB\", \"type\":\"section\", \"ccode\":\"8\", \"code\":\"2441\" } , {\"name\":\"불교신문\", \"type\":\"section\", \"ccode\":\"8\", \"code\":\"2149\" } , {\"name\":\"블록체인밸리\", \"type\":\"section\", \"ccode\":\"8\", \"code\":\"2703\" } , {\"name\":\"비주얼다이브\", \"type\":\"section\", \"ccode\":\"8\", \"code\":\"2327\" } , {\"name\":\"비즈월드\", \"type\":\"section\", \"ccode\":\"8\", \"code\":\"2813\" } , {\"name\":\"빅터뉴스\", \"type\":\"section\", \"ccode\":\"8\", \"code\":\"2814\" } , {\"name\":\"새로운보수당\", \"type\":\"section\", \"ccode\":\"8\", \"code\":\"1634\" } , {\"name\":\"서울문화투데이\", \"type\":\"section\", \"ccode\":\"8\", \"code\":\"2821\" } , {\"name\":\"서울시체육회\", \"type\":\"section\", \"ccode\":\"8\", \"code\":\"1597\" } , {\"name\":\"서울유나이티드\", \"type\":\"section\", \"ccode\":\"8\", \"code\":\"1522\" } , {\"name\":\"성균관대학교 ESKAKA\", \"type\":\"section\", \"ccode\":\"8\", \"code\":\"1571\" } , {\"name\":\"세이프타임즈\", \"type\":\"section\", \"ccode\":\"8\", \"code\":\"2754\" } , {\"name\":\"세정신문\", \"type\":\"section\", \"ccode\":\"8\", \"code\":\"2030\" } , {\"name\":\"세정일보\", \"type\":\"section\", \"ccode\":\"8\", \"code\":\"2571\" } , {\"name\":\"셀럽미디어\", \"type\":\"section\", \"ccode\":\"8\", \"code\":\"2349\" } , {\"name\":\"소년한국일보\", \"type\":\"section\", \"ccode\":\"8\", \"code\":\"2360\" } , {\"name\":\"스냅\", \"type\":\"section\", \"ccode\":\"8\", \"code\":\"2317\" } , {\"name\":\"스카우팅리포트\", \"type\":\"section\", \"ccode\":\"8\", \"code\":\"1557\" } , {\"name\":\"식품저널 foodnews\", \"type\":\"section\", \"ccode\":\"8\", \"code\":\"2595\" } , {\"name\":\"신소재경제신문\", \"type\":\"section\", \"ccode\":\"8\", \"code\":\"2644\" } , {\"name\":\"신화사 연합뉴스\", \"type\":\"section\", \"ccode\":\"8\", \"code\":\"1348\" } , {\"name\":\"싱글리스트\", \"type\":\"section\", \"ccode\":\"8\", \"code\":\"2575\" } , {\"name\":\"아웃소싱타임스\", \"type\":\"section\", \"ccode\":\"8\", \"code\":\"2564\" } , {\"name\":\"아파트관리신문\", \"type\":\"section\", \"ccode\":\"8\", \"code\":\"2501\" } , {\"name\":\"안산무궁화프로축구단\", \"type\":\"section\", \"ccode\":\"8\", \"code\":\"1520\" } , {\"name\":\"애슬릿미디어\", \"type\":\"section\", \"ccode\":\"8\", \"code\":\"1540\" } , {\"name\":\"약사공론\", \"type\":\"section\", \"ccode\":\"8\", \"code\":\"2332\" } , {\"name\":\"약업신문\", \"type\":\"section\", \"ccode\":\"8\", \"code\":\"2100\" } , {\"name\":\"양평시민의소리\", \"type\":\"section\", \"ccode\":\"8\", \"code\":\"2519\" } , {\"name\":\"어린이동아\", \"type\":\"section\", \"ccode\":\"8\", \"code\":\"2557\" } , {\"name\":\"어업IN수산\", \"type\":\"section\", \"ccode\":\"8\", \"code\":\"2565\" } , {\"name\":\"어패럴뉴스\", \"type\":\"section\", \"ccode\":\"8\", \"code\":\"2197\" } , {\"name\":\"업다운뉴스\", \"type\":\"section\", \"ccode\":\"8\", \"code\":\"2554\" } , {\"name\":\"에너지플랫폼뉴스\", \"type\":\"section\", \"ccode\":\"8\", \"code\":\"2563\" } , {\"name\":\"에듀동아\", \"type\":\"section\", \"ccode\":\"8\", \"code\":\"2449\" } , {\"name\":\"에이블뉴스\", \"type\":\"section\", \"ccode\":\"8\", \"code\":\"2018\" } , {\"name\":\"여성소비자신문\", \"type\":\"section\", \"ccode\":\"8\", \"code\":\"2493\" } , {\"name\":\"여성신문\", \"type\":\"section\", \"ccode\":\"8\", \"code\":\"1310\" } , {\"name\":\"여행신문\", \"type\":\"section\", \"ccode\":\"8\", \"code\":\"2815\" } , {\"name\":\"연세대학교 시스붐바\", \"type\":\"section\", \"ccode\":\"8\", \"code\":\"1570\" } , {\"name\":\"연합인포맥스\", \"type\":\"section\", \"ccode\":\"8\", \"code\":\"2227\" } , {\"name\":\"열린민주당\", \"type\":\"section\", \"ccode\":\"8\", \"code\":\"1641\" } , {\"name\":\"오토타임즈\", \"type\":\"section\", \"ccode\":\"8\", \"code\":\"2029\" } , {\"name\":\"오피니언뉴스\", \"type\":\"section\", \"ccode\":\"8\", \"code\":\"2618\" } , {\"name\":\"오피니언타임스\", \"type\":\"section\", \"ccode\":\"8\", \"code\":\"2507\" } , {\"name\":\"우드플래닛\", \"type\":\"section\", \"ccode\":\"8\", \"code\":\"2695\" } , {\"name\":\"우리공화당\", \"type\":\"section\", \"ccode\":\"8\", \"code\":\"1587\" } , {\"name\":\"원불교신문\", \"type\":\"section\", \"ccode\":\"8\", \"code\":\"2543\" } , {\"name\":\"원예산업신문\", \"type\":\"section\", \"ccode\":\"8\", \"code\":\"2789\" } , {\"name\":\"월간노동법률\", \"type\":\"section\", \"ccode\":\"8\", \"code\":\"2658\" } , {\"name\":\"월간불광\", \"type\":\"section\", \"ccode\":\"8\", \"code\":\"2690\" } , {\"name\":\"월간원예\", \"type\":\"section\", \"ccode\":\"8\", \"code\":\"2512\" } , {\"name\":\"월드코리안신문\", \"type\":\"section\", \"ccode\":\"8\", \"code\":\"2588\" } , {\"name\":\"월요신문\", \"type\":\"section\", \"ccode\":\"8\", \"code\":\"2520\" } , {\"name\":\"위드인뉴스\", \"type\":\"section\", \"ccode\":\"8\", \"code\":\"2636\" } , {\"name\":\"유교신문\", \"type\":\"section\", \"ccode\":\"8\", \"code\":\"2482\" } , {\"name\":\"의약뉴스\", \"type\":\"section\", \"ccode\":\"8\", \"code\":\"2842\" } , {\"name\":\"의학신문\", \"type\":\"section\", \"ccode\":\"8\", \"code\":\"2376\" } , {\"name\":\"의협신문\", \"type\":\"section\", \"ccode\":\"8\", \"code\":\"2088\" } , {\"name\":\"이코노타임즈\", \"type\":\"section\", \"ccode\":\"8\", \"code\":\"2831\" } , {\"name\":\"일간NTN\", \"type\":\"section\", \"ccode\":\"8\", \"code\":\"2309\" } , {\"name\":\"일다\", \"type\":\"section\", \"ccode\":\"8\", \"code\":\"1007\" } , {\"name\":\"일요시사\", \"type\":\"section\", \"ccode\":\"8\", \"code\":\"2175\" } , {\"name\":\"일요신문\", \"type\":\"section\", \"ccode\":\"8\", \"code\":\"2307\" } , {\"name\":\"잡포스트\", \"type\":\"section\", \"ccode\":\"8\", \"code\":\"2820\" } , {\"name\":\"장애인신문\", \"type\":\"section\", \"ccode\":\"8\", \"code\":\"2111\" } , {\"name\":\"재외동포신문\", \"type\":\"section\", \"ccode\":\"8\", \"code\":\"2176\" } , {\"name\":\"재해재난속보\", \"type\":\"section\", \"ccode\":\"8\", \"code\":\"1321\" } , {\"name\":\"전기신문\", \"type\":\"section\", \"ccode\":\"8\", \"code\":\"2235\" } , {\"name\":\"정신의학신문\", \"type\":\"section\", \"ccode\":\"8\", \"code\":\"2473\" } , {\"name\":\"정의당\", \"type\":\"section\", \"ccode\":\"8\", \"code\":\"1426\" } , {\"name\":\"정책브리핑\", \"type\":\"section\", \"ccode\":\"8\", \"code\":\"1298\" } , {\"name\":\"제주매일\", \"type\":\"section\", \"ccode\":\"8\", \"code\":\"2572\" } , {\"name\":\"중소기업뉴스\", \"type\":\"section\", \"ccode\":\"8\", \"code\":\"2328\" } , {\"name\":\"중앙일보 헬스미디어\", \"type\":\"section\", \"ccode\":\"8\", \"code\":\"2687\" } , {\"name\":\"참세상\", \"type\":\"section\", \"ccode\":\"8\", \"code\":\"1152\" } , {\"name\":\"참세상\", \"type\":\"section\", \"ccode\":\"8\", \"code\":\"2835\" } , {\"name\":\"철강금속신문\", \"type\":\"section\", \"ccode\":\"8\", \"code\":\"2343\" } , {\"name\":\"청년의사\", \"type\":\"section\", \"ccode\":\"8\", \"code\":\"2229\" } , {\"name\":\"청와대\", \"type\":\"section\", \"ccode\":\"8\", \"code\":\"1154\" } , {\"name\":\"치과신문\", \"type\":\"section\", \"ccode\":\"8\", \"code\":\"2718\" } , {\"name\":\"친박신당\", \"type\":\"section\", \"ccode\":\"8\", \"code\":\"1638\" } , {\"name\":\"컨슈머타임스\", \"type\":\"section\", \"ccode\":\"8\", \"code\":\"2174\" } , {\"name\":\"코나스\", \"type\":\"section\", \"ccode\":\"8\", \"code\":\"2134\" } , {\"name\":\"코리아넷\", \"type\":\"section\", \"ccode\":\"8\", \"code\":\"1441\" } , {\"name\":\"코리아쉬핑가제트\", \"type\":\"section\", \"ccode\":\"8\", \"code\":\"2398\" } , {\"name\":\"코리아중앙데일리\", \"type\":\"section\", \"ccode\":\"8\", \"code\":\"1640\" } , {\"name\":\"코리아타임스\", \"type\":\"section\", \"ccode\":\"8\", \"code\":\"2668\" } , {\"name\":\"코리아헤럴드\", \"type\":\"section\", \"ccode\":\"8\", \"code\":\"1044\" } , {\"name\":\"코리아헬스로그\", \"type\":\"section\", \"ccode\":\"8\", \"code\":\"2066\" } , {\"name\":\"코메디닷컴\", \"type\":\"section\", \"ccode\":\"8\", \"code\":\"1296\" } , {\"name\":\"쿠키뉴스\", \"type\":\"section\", \"ccode\":\"8\", \"code\":\"1143\" } , {\"name\":\"쿡앤셰프\", \"type\":\"section\", \"ccode\":\"8\", \"code\":\"2639\" } , {\"name\":\"크리스천투데이\", \"type\":\"section\", \"ccode\":\"8\", \"code\":\"2047\" } , {\"name\":\"택스워치\", \"type\":\"section\", \"ccode\":\"8\", \"code\":\"2757\" } , {\"name\":\"통일뉴스\", \"type\":\"section\", \"ccode\":\"8\", \"code\":\"2387\" } , {\"name\":\"투어코리아뉴스\", \"type\":\"section\", \"ccode\":\"8\", \"code\":\"2675\" } , {\"name\":\"트래블투데이\", \"type\":\"section\", \"ccode\":\"8\", \"code\":\"2664\" } , {\"name\":\"퍼블릭뉴스\", \"type\":\"section\", \"ccode\":\"8\", \"code\":\"2669\" } , {\"name\":\"페로타임즈\", \"type\":\"section\", \"ccode\":\"8\", \"code\":\"2869\" } , {\"name\":\"플래텀\", \"type\":\"section\", \"ccode\":\"8\", \"code\":\"2373\" } , {\"name\":\"플레이디비\", \"type\":\"section\", \"ccode\":\"8\", \"code\":\"2627\" } , {\"name\":\"하우징헤럴드\", \"type\":\"section\", \"ccode\":\"8\", \"code\":\"2591\" } , {\"name\":\"하이닥\", \"type\":\"section\", \"ccode\":\"8\", \"code\":\"2246\" } , {\"name\":\"한국교육신문\", \"type\":\"section\", \"ccode\":\"8\", \"code\":\"2224\" } , {\"name\":\"한국금융신문\", \"type\":\"section\", \"ccode\":\"8\", \"code\":\"2040\" } , {\"name\":\"한국기독공보\", \"type\":\"section\", \"ccode\":\"8\", \"code\":\"2218\" } , {\"name\":\"한국농어민신문\", \"type\":\"section\", \"ccode\":\"8\", \"code\":\"2396\" } , {\"name\":\"한국농업신문\", \"type\":\"section\", \"ccode\":\"8\", \"code\":\"2367\" } , {\"name\":\"한국농정신문\", \"type\":\"section\", \"ccode\":\"8\", \"code\":\"2414\" } , {\"name\":\"한국농촌경제신문\", \"type\":\"section\", \"ccode\":\"8\", \"code\":\"2663\" } , {\"name\":\"한국대학스포츠협의회\", \"type\":\"section\", \"ccode\":\"8\", \"code\":\"1573\" } , {\"name\":\"한국대학신문\", \"type\":\"section\", \"ccode\":\"8\", \"code\":\"2189\" } , {\"name\":\"한국면세뉴스\", \"type\":\"section\", \"ccode\":\"8\", \"code\":\"2638\" } , {\"name\":\"한국목재신문\", \"type\":\"section\", \"ccode\":\"8\", \"code\":\"2523\" } , {\"name\":\"한국무역신문\", \"type\":\"section\", \"ccode\":\"8\", \"code\":\"2147\" } , {\"name\":\"한국보험신문\", \"type\":\"section\", \"ccode\":\"8\", \"code\":\"2056\" } , {\"name\":\"한국섬유신문\", \"type\":\"section\", \"ccode\":\"8\", \"code\":\"2381\" } , {\"name\":\"한국스포츠통신\", \"type\":\"section\", \"ccode\":\"8\", \"code\":\"2672\" } , {\"name\":\"한국아파트신문\", \"type\":\"section\", \"ccode\":\"8\", \"code\":\"2870\" } , {\"name\":\"한국영농신문\", \"type\":\"section\", \"ccode\":\"8\", \"code\":\"2548\" } , {\"name\":\"한국원자력신문\", \"type\":\"section\", \"ccode\":\"8\", \"code\":\"2871\" } , {\"name\":\"한양대학교 사자후\", \"type\":\"section\", \"ccode\":\"8\", \"code\":\"1569\" } , {\"name\":\"한의신문\", \"type\":\"section\", \"ccode\":\"8\", \"code\":\"2530\" } , {\"name\":\"함께걸음\", \"type\":\"section\", \"ccode\":\"8\", \"code\":\"2124\" } , {\"name\":\"핸드메이커\", \"type\":\"section\", \"ccode\":\"8\", \"code\":\"2851\" } , {\"name\":\"헤모필리아라이프\", \"type\":\"section\", \"ccode\":\"8\", \"code\":\"2504\" } , {\"name\":\"헬스경향\", \"type\":\"section\", \"ccode\":\"8\", \"code\":\"2534\" } , {\"name\":\"헬스조선\", \"type\":\"section\", \"ccode\":\"8\", \"code\":\"1346\" } , {\"name\":\"현대불교신문\", \"type\":\"section\", \"ccode\":\"8\", \"code\":\"2422\" } , {\"name\":\"현대축산뉴스\", \"type\":\"section\", \"ccode\":\"8\", \"code\":\"2057\" } , {\"name\":\"현대해양\", \"type\":\"section\", \"ccode\":\"8\", \"code\":\"2682\" } , {\"name\":\"화이트페이퍼\", \"type\":\"section\", \"ccode\":\"8\", \"code\":\"2120\" } , {\"name\":\"후생신보\", \"type\":\"section\", \"ccode\":\"8\", \"code\":\"2619\" } , {\"name\":\"CTS\", \"type\":\"section\", \"ccode\":\"8\", \"code\":\"2558\" } , {\"name\":\"EBN\", \"type\":\"section\", \"ccode\":\"8\", \"code\":\"2093\" } , {\"name\":\"e의료정보\", \"type\":\"section\", \"ccode\":\"8\", \"code\":\"2740\" } , {\"name\":\"FPN\", \"type\":\"section\", \"ccode\":\"8\", \"code\":\"2070\" } , {\"name\":\"FT스포츠\", \"type\":\"section\", \"ccode\":\"8\", \"code\":\"2838\" } , {\"name\":\"IT동아\", \"type\":\"section\", \"ccode\":\"8\", \"code\":\"2313\" } , {\"name\":\"KBR\", \"type\":\"section\", \"ccode\":\"8\", \"code\":\"2694\" } , {\"name\":\"Korea IT Times\", \"type\":\"section\", \"ccode\":\"8\", \"code\":\"2187\" } , {\"name\":\"KOTRA해외시장뉴스\", \"type\":\"section\", \"ccode\":\"8\", \"code\":\"2834\" } , {\"name\":\"kt 롤스터\", \"type\":\"section\", \"ccode\":\"8\", \"code\":\"1537\" } , {\"name\":\"MS투데이\", \"type\":\"section\", \"ccode\":\"8\", \"code\":\"2852\" } , {\"name\":\"PD저널\", \"type\":\"section\", \"ccode\":\"8\", \"code\":\"2042\" } , {\"name\":\"RANK5\", \"type\":\"section\", \"ccode\":\"8\", \"code\":\"2734\" } , {\"name\":\"RPM9\", \"type\":\"section\", \"ccode\":\"8\", \"code\":\"2308\" } , {\"name\":\"S-저널\", \"type\":\"section\", \"ccode\":\"8\", \"code\":\"2877\" } , {\"name\":\"SPACE(공간)\", \"type\":\"section\", \"ccode\":\"8\", \"code\":\"2846\" } , {\"name\":\"The New York Times\", \"type\":\"section\", \"ccode\":\"8\", \"code\":\"2747\" } , {\"name\":\"ubc울산방송\", \"type\":\"section\", \"ccode\":\"8\", \"code\":\"2794\" } ] } ] }, { \"depth\": 2, \"triggerSelector\": \"._abc_select_trigger\", \"layerSelector\": \"._abc_select_layer\", \"rootSelector\": \"._abc_select_layer ._root\", \"template\": [ \"<#for(var i = 0; i < data.length; i++){#>\", \"<li role=\\\"tab\\\" class=\\\"item _li\\\" data-type=\\\"<#=data[i].type#>\\\" data-ccode=\\\"<#=data[i].ccode#>\\\" data-code=\\\"<#=data[i].code#>\\\" data-value=\\\"<#=data[i].code#>\\\"<#if(i === index){#> aria-selected=\\\"true\\\"<#}#>>\", \"<a href=\\\"#\\\" class=\\\"link\\\"><#=data[i].name#></a>\", \"</li>\", \"<#}#>\" ].join(\"\"), \"selected\": [0, 0], \"listData\": [ { \"name\": \"ㄱ\", \"list\": [ {\"name\":\"가스신문\", \"type\":\"abc\", \"ccode\":\"1\", \"code\":\"2178\" }, {\"name\":\"가톨릭뉴스 지금여기\", \"type\":\"abc\", \"ccode\":\"1\", \"code\":\"2458\" }, {\"name\":\"가톨릭신문\", \"type\":\"abc\", \"ccode\":\"1\", \"code\":\"2252\" }, {\"name\":\"가톨릭평화방송·평화신문\", \"type\":\"abc\", \"ccode\":\"1\", \"code\":\"2234\" }, {\"name\":\"가톨릭프레스\", \"type\":\"abc\", \"ccode\":\"1\", \"code\":\"2545\" }, {\"name\":\"강원도민일보\", \"type\":\"abc\", \"ccode\":\"1\", \"code\":\"1654\" }, {\"name\":\"강원일보\", \"type\":\"abc\", \"ccode\":\"1\", \"code\":\"1087\" }, {\"name\":\"건강다이제스트\", \"type\":\"abc\", \"ccode\":\"1\", \"code\":\"2454\" }, {\"name\":\"건설타임즈\", \"type\":\"abc\", \"ccode\":\"1\", \"code\":\"2067\" }, {\"name\":\"게임동아\", \"type\":\"abc\", \"ccode\":\"1\", \"code\":\"2611\" }, {\"name\":\"게임메카\", \"type\":\"abc\", \"ccode\":\"1\", \"code\":\"1356\" }, {\"name\":\"게임뷰\", \"type\":\"abc\", \"ccode\":\"1\", \"code\":\"2858\" }, {\"name\":\"게임샷\", \"type\":\"abc\", \"ccode\":\"1\", \"code\":\"2739\" }, {\"name\":\"게임조선\", \"type\":\"abc\", \"ccode\":\"1\", \"code\":\"2434\" }, {\"name\":\"게임톡\", \"type\":\"abc\", \"ccode\":\"1\", \"code\":\"2497\" }, {\"name\":\"게임포커스\", \"type\":\"abc\", \"ccode\":\"1\", \"code\":\"2351\" }, {\"name\":\"게임플\", \"type\":\"abc\", \"ccode\":\"1\", \"code\":\"2577\" }, {\"name\":\"경기신문\", \"type\":\"abc\", \"ccode\":\"1\", \"code\":\"2199\" }, {\"name\":\"경기일보\", \"type\":\"abc\", \"ccode\":\"1\", \"code\":\"2165\" }, {\"name\":\"경남도민신문\", \"type\":\"abc\", \"ccode\":\"1\", \"code\":\"2416\" }, {\"name\":\"경남도민일보\", \"type\":\"abc\", \"ccode\":\"1\", \"code\":\"2163\" }, {\"name\":\"경남매일신문\", \"type\":\"abc\", \"ccode\":\"1\", \"code\":\"2346\" }, {\"name\":\"경남신문\", \"type\":\"abc\", \"ccode\":\"1\", \"code\":\"2202\" }, {\"name\":\"경남일보\", \"type\":\"abc\", \"ccode\":\"1\", \"code\":\"2217\" }, {\"name\":\"경북도민일보\", \"type\":\"abc\", \"ccode\":\"1\", \"code\":\"2377\" }, {\"name\":\"경북매일신문\", \"type\":\"abc\", \"ccode\":\"1\", \"code\":\"2161\" }, {\"name\":\"경북신문\", \"type\":\"abc\", \"ccode\":\"1\", \"code\":\"2533\" }, {\"name\":\"경북일보\", \"type\":\"abc\", \"ccode\":\"1\", \"code\":\"2098\" }, {\"name\":\"경상매일신문\", \"type\":\"abc\", \"ccode\":\"1\", \"code\":\"2321\" }, {\"name\":\"경상일보\", \"type\":\"abc\", \"ccode\":\"1\", \"code\":\"2277\" }, {\"name\":\"경성대 미식축구부 월간용광로\", \"type\":\"abc\", \"ccode\":\"1\", \"code\":\"1649\" }, {\"name\":\"경인매일\", \"type\":\"abc\", \"ccode\":\"1\", \"code\":\"2764\" }, {\"name\":\"경인방송\", \"type\":\"abc\", \"ccode\":\"1\", \"code\":\"2713\" }, {\"name\":\"경인일보\", \"type\":\"abc\", \"ccode\":\"1\", \"code\":\"2122\" }, {\"name\":\"경향게임스\", \"type\":\"abc\", \"ccode\":\"1\", \"code\":\"2840\" }, {\"name\":\"경향신문\", \"type\":\"abc\", \"ccode\":\"1\", \"code\":\"1032\" }, {\"name\":\"경희대학교 레굴루스\", \"type\":\"abc\", \"ccode\":\"1\", \"code\":\"1572\" }, {\"name\":\"고려대학교 SPORTS KU\", \"type\":\"abc\", \"ccode\":\"1\", \"code\":\"1568\" }, {\"name\":\"고발뉴스\", \"type\":\"abc\", \"ccode\":\"1\", \"code\":\"2435\" }, {\"name\":\"고양신문\", \"type\":\"abc\", \"ccode\":\"1\", \"code\":\"2429\" }, {\"name\":\"골닷컴\", \"type\":\"abc\", \"ccode\":\"1\", \"code\":\"1216\" }, {\"name\":\"골프다이제스트\", \"type\":\"abc\", \"ccode\":\"1\", \"code\":\"1435\" }, {\"name\":\"골프산업신문\", \"type\":\"abc\", \"ccode\":\"1\", \"code\":\"2661\" }, {\"name\":\"골프저널\", \"type\":\"abc\", \"ccode\":\"1\", \"code\":\"2773\" }, {\"name\":\"골프타임즈\", \"type\":\"abc\", \"ccode\":\"1\", \"code\":\"2427\" }, {\"name\":\"골프한국\", \"type\":\"abc\", \"ccode\":\"1\", \"code\":\"2606\" }, {\"name\":\"공감신문\", \"type\":\"abc\", \"ccode\":\"1\", \"code\":\"2264\" }, {\"name\":\"공공뉴스\", \"type\":\"abc\", \"ccode\":\"1\", \"code\":\"2584\" }, {\"name\":\"공무원수험신문\", \"type\":\"abc\", \"ccode\":\"1\", \"code\":\"2614\" }, {\"name\":\"공생공사닷컴\", \"type\":\"abc\", \"ccode\":\"1\", \"code\":\"2859\" }, {\"name\":\"광명지역신문\", \"type\":\"abc\", \"ccode\":\"1\", \"code\":\"2568\" }, {\"name\":\"광운대학교 아르마스\", \"type\":\"abc\", \"ccode\":\"1\", \"code\":\"1590\" }, {\"name\":\"광주MBC\", \"type\":\"abc\", \"ccode\":\"1\", \"code\":\"2383\" }, {\"name\":\"광주드림\", \"type\":\"abc\", \"ccode\":\"1\", \"code\":\"2237\" }, {\"name\":\"광주매일신문\", \"type\":\"abc\", \"ccode\":\"1\", \"code\":\"2263\" }, {\"name\":\"광주일보\", \"type\":\"abc\", \"ccode\":\"1\", \"code\":\"2857\" }, {\"name\":\"교수신문\", \"type\":\"abc\", \"ccode\":\"1\", \"code\":\"2150\" }, {\"name\":\"국민의당\", \"type\":\"abc\", \"ccode\":\"1\", \"code\":\"1637\" }, {\"name\":\"국민일보\", \"type\":\"abc\", \"ccode\":\"1\", \"code\":\"1005\" }, {\"name\":\"국민체육진흥공단\", \"type\":\"abc\", \"ccode\":\"1\", \"code\":\"1631\" }, {\"name\":\"국방일보\", \"type\":\"abc\", \"ccode\":\"1\", \"code\":\"2249\" }, {\"name\":\"국제뉴스\", \"type\":\"abc\", \"ccode\":\"1\", \"code\":\"2291\" }, {\"name\":\"국제신문\", \"type\":\"abc\", \"ccode\":\"1\", \"code\":\"1658\" }, {\"name\":\"국토일보\", \"type\":\"abc\", \"ccode\":\"1\", \"code\":\"2338\" }, {\"name\":\"국회\", \"type\":\"abc\", \"ccode\":\"1\", \"code\":\"1358\" }, {\"name\":\"국회방송\", \"type\":\"abc\", \"ccode\":\"1\", \"code\":\"2807\" }, {\"name\":\"군포시민신문\", \"type\":\"abc\", \"ccode\":\"1\", \"code\":\"2513\" }, {\"name\":\"굿모닝경제\", \"type\":\"abc\", \"ccode\":\"1\", \"code\":\"2464\" }, {\"name\":\"굿모닝충청\", \"type\":\"abc\", \"ccode\":\"1\", \"code\":\"2285\" }, {\"name\":\"그라피\", \"type\":\"abc\", \"ccode\":\"1\", \"code\":\"2659\" }, {\"name\":\"그린데일리\", \"type\":\"abc\", \"ccode\":\"1\", \"code\":\"2140\" }, {\"name\":\"그린포스트코리아\", \"type\":\"abc\", \"ccode\":\"1\", \"code\":\"2194\" }, {\"name\":\"글로벌E\", \"type\":\"abc\", \"ccode\":\"1\", \"code\":\"2763\" }, {\"name\":\"글로벌경제\", \"type\":\"abc\", \"ccode\":\"1\", \"code\":\"2445\" }, {\"name\":\"글로벌에픽\", \"type\":\"abc\", \"ccode\":\"1\", \"code\":\"2728\" }, {\"name\":\"글로벌이코노믹\", \"type\":\"abc\", \"ccode\":\"1\", \"code\":\"2366\" }, {\"name\":\"금강일보\", \"type\":\"abc\", \"ccode\":\"1\", \"code\":\"2356\" }, {\"name\":\"금융소비자뉴스\", \"type\":\"abc\", \"ccode\":\"1\", \"code\":\"2573\" }, {\"name\":\"기계신문\", \"type\":\"abc\", \"ccode\":\"1\", \"code\":\"2596\" }, {\"name\":\"기자협회보\", \"type\":\"abc\", \"ccode\":\"1\", \"code\":\"1127\" }, {\"name\":\"기호일보\", \"type\":\"abc\", \"ccode\":\"1\", \"code\":\"2154\" }, {\"name\":\"김해뉴스\", \"type\":\"abc\", \"ccode\":\"1\", \"code\":\"2345\" }, {\"name\":\"김형준 칼럼\", \"type\":\"abc\", \"ccode\":\"1\", \"code\":\"1224\" }, {\"name\":\"김환 칼럼\", \"type\":\"abc\", \"ccode\":\"1\", \"code\":\"1516\" }, ] } , { \"name\": \"ㄴ\", \"list\": [ {\"name\":\"나무신문\", \"type\":\"abc\", \"ccode\":\"2\", \"code\":\"2784\" }, {\"name\":\"나이스경제\", \"type\":\"abc\", \"ccode\":\"2\", \"code\":\"2810\" }, {\"name\":\"낚시춘추\", \"type\":\"abc\", \"ccode\":\"2\", \"code\":\"2378\" }, {\"name\":\"남도일보\", \"type\":\"abc\", \"ccode\":\"2\", \"code\":\"2539\" }, {\"name\":\"내외경제tv\", \"type\":\"abc\", \"ccode\":\"2\", \"code\":\"2544\" }, {\"name\":\"내일신문\", \"type\":\"abc\", \"ccode\":\"2\", \"code\":\"2312\" }, {\"name\":\"네이버스포츠\", \"type\":\"abc\", \"ccode\":\"2\", \"code\":\"1064\" }, {\"name\":\"넥스트데일리\", \"type\":\"abc\", \"ccode\":\"2\", \"code\":\"2141\" }, {\"name\":\"노동과세계\", \"type\":\"abc\", \"ccode\":\"2\", \"code\":\"2542\" }, {\"name\":\"노동과희망\", \"type\":\"abc\", \"ccode\":\"2\", \"code\":\"2801\" }, {\"name\":\"노컷뉴스\", \"type\":\"abc\", \"ccode\":\"2\", \"code\":\"1079\" }, {\"name\":\"노트펫\", \"type\":\"abc\", \"ccode\":\"2\", \"code\":\"2511\" }, {\"name\":\"농기자재신문\", \"type\":\"abc\", \"ccode\":\"2\", \"code\":\"2720\" }, {\"name\":\"농민신문\", \"type\":\"abc\", \"ccode\":\"2\", \"code\":\"2084\" }, {\"name\":\"농민신문\", \"type\":\"abc\", \"ccode\":\"2\", \"code\":\"1662\" }, {\"name\":\"농수축산신문\", \"type\":\"abc\", \"ccode\":\"2\", \"code\":\"2442\" }, {\"name\":\"농업경제신문\", \"type\":\"abc\", \"ccode\":\"2\", \"code\":\"2679\" }, {\"name\":\"농업정보신문\", \"type\":\"abc\", \"ccode\":\"2\", \"code\":\"2806\" }, {\"name\":\"농장에서식탁까지\", \"type\":\"abc\", \"ccode\":\"2\", \"code\":\"2666\" }, {\"name\":\"농축유통신문\", \"type\":\"abc\", \"ccode\":\"2\", \"code\":\"2537\" }, {\"name\":\"뉴데일리\", \"type\":\"abc\", \"ccode\":\"2\", \"code\":\"2005\" }, {\"name\":\"뉴스1\", \"type\":\"abc\", \"ccode\":\"2\", \"code\":\"1421\" }, {\"name\":\"뉴스경남\", \"type\":\"abc\", \"ccode\":\"2\", \"code\":\"2714\" }, {\"name\":\"뉴스락\", \"type\":\"abc\", \"ccode\":\"2\", \"code\":\"2779\" }, {\"name\":\"뉴스로드\", \"type\":\"abc\", \"ccode\":\"2\", \"code\":\"2860\" }, {\"name\":\"뉴스민\", \"type\":\"abc\", \"ccode\":\"2\", \"code\":\"2424\" }, {\"name\":\"뉴스브라이트\", \"type\":\"abc\", \"ccode\":\"2\", \"code\":\"2476\" }, {\"name\":\"뉴스앤조이\", \"type\":\"abc\", \"ccode\":\"2\", \"code\":\"2475\" }, {\"name\":\"뉴스엔\", \"type\":\"abc\", \"ccode\":\"2\", \"code\":\"1447\" }, {\"name\":\"뉴스엔\", \"type\":\"abc\", \"ccode\":\"2\", \"code\":\"1609\" }, {\"name\":\"뉴스와이어\", \"type\":\"abc\", \"ccode\":\"2\", \"code\":\"2334\" }, {\"name\":\"뉴스워치\", \"type\":\"abc\", \"ccode\":\"2\", \"code\":\"2673\" }, {\"name\":\"뉴스워커\", \"type\":\"abc\", \"ccode\":\"2\", \"code\":\"2521\" }, {\"name\":\"뉴스웍스\", \"type\":\"abc\", \"ccode\":\"2\", \"code\":\"2525\" }, {\"name\":\"뉴스웨이\", \"type\":\"abc\", \"ccode\":\"2\", \"code\":\"2270\" }, {\"name\":\"뉴스웰\", \"type\":\"abc\", \"ccode\":\"2\", \"code\":\"2873\" }, {\"name\":\"뉴스인사이드\", \"type\":\"abc\", \"ccode\":\"2\", \"code\":\"2095\" }, {\"name\":\"뉴스저널리즘\", \"type\":\"abc\", \"ccode\":\"2\", \"code\":\"2824\" }, {\"name\":\"뉴스제주\", \"type\":\"abc\", \"ccode\":\"2\", \"code\":\"2657\" }, {\"name\":\"뉴스컬처\", \"type\":\"abc\", \"ccode\":\"2\", \"code\":\"2339\" }, {\"name\":\"뉴스케이프\", \"type\":\"abc\", \"ccode\":\"2\", \"code\":\"2819\" }, {\"name\":\"뉴스퀘스트\", \"type\":\"abc\", \"ccode\":\"2\", \"code\":\"2809\" }, {\"name\":\"뉴스클레임\", \"type\":\"abc\", \"ccode\":\"2\", \"code\":\"2772\" }, {\"name\":\"뉴스타파\", \"type\":\"abc\", \"ccode\":\"2\", \"code\":\"1607\" }, {\"name\":\"뉴스토마토\", \"type\":\"abc\", \"ccode\":\"2\", \"code\":\"2119\" }, {\"name\":\"뉴스톱\", \"type\":\"abc\", \"ccode\":\"2\", \"code\":\"2724\" }, {\"name\":\"뉴스투데이\", \"type\":\"abc\", \"ccode\":\"2\", \"code\":\"2527\" }, {\"name\":\"뉴스티앤티\", \"type\":\"abc\", \"ccode\":\"2\", \"code\":\"2788\" }, {\"name\":\"뉴스펭귄\", \"type\":\"abc\", \"ccode\":\"2\", \"code\":\"2849\" }, {\"name\":\"뉴스포스트\", \"type\":\"abc\", \"ccode\":\"2\", \"code\":\"2491\" }, {\"name\":\"뉴스프리존\", \"type\":\"abc\", \"ccode\":\"2\", \"code\":\"2551\" }, {\"name\":\"뉴스핌\", \"type\":\"abc\", \"ccode\":\"2\", \"code\":\"2002\" }, {\"name\":\"뉴스한국\", \"type\":\"abc\", \"ccode\":\"2\", \"code\":\"2091\" }, {\"name\":\"뉴스후플러스\", \"type\":\"abc\", \"ccode\":\"2\", \"code\":\"2692\" }, {\"name\":\"뉴시스\", \"type\":\"abc\", \"ccode\":\"2\", \"code\":\"1003\" }, {\"name\":\"뉴시안\", \"type\":\"abc\", \"ccode\":\"2\", \"code\":\"2798\" }, {\"name\":\"뉴제주일보\", \"type\":\"abc\", \"ccode\":\"2\", \"code\":\"2452\" }, ] } , { \"name\": \"ㄷ\", \"list\": [ {\"name\":\"단국대학교 웅담\", \"type\":\"abc\", \"ccode\":\"3\", \"code\":\"1599\" }, {\"name\":\"단디뉴스\", \"type\":\"abc\", \"ccode\":\"3\", \"code\":\"2586\" }, {\"name\":\"단비뉴스\", \"type\":\"abc\", \"ccode\":\"3\", \"code\":\"2750\" }, {\"name\":\"당진시대\", \"type\":\"abc\", \"ccode\":\"3\", \"code\":\"2855\" }, {\"name\":\"당진신문\", \"type\":\"abc\", \"ccode\":\"3\", \"code\":\"2678\" }, {\"name\":\"대경일보\", \"type\":\"abc\", \"ccode\":\"3\", \"code\":\"2581\" }, {\"name\":\"대구MBC\", \"type\":\"abc\", \"ccode\":\"3\", \"code\":\"1657\" }, {\"name\":\"대구신문\", \"type\":\"abc\", \"ccode\":\"3\", \"code\":\"2341\" }, {\"name\":\"대구일보\", \"type\":\"abc\", \"ccode\":\"3\", \"code\":\"2287\" }, {\"name\":\"대명 킬러웨일즈\", \"type\":\"abc\", \"ccode\":\"3\", \"code\":\"1538\" }, {\"name\":\"대안신당\", \"type\":\"abc\", \"ccode\":\"3\", \"code\":\"1636\" }, {\"name\":\"대전MBC\", \"type\":\"abc\", \"ccode\":\"3\", \"code\":\"2421\" }, {\"name\":\"대전시티저널\", \"type\":\"abc\", \"ccode\":\"3\", \"code\":\"2069\" }, {\"name\":\"대전일보\", \"type\":\"abc\", \"ccode\":\"3\", \"code\":\"1656\" }, {\"name\":\"대학저널\", \"type\":\"abc\", \"ccode\":\"3\", \"code\":\"2413\" }, {\"name\":\"대한게이트볼협회\", \"type\":\"abc\", \"ccode\":\"3\", \"code\":\"1650\" }, {\"name\":\"대한골프협회\", \"type\":\"abc\", \"ccode\":\"3\", \"code\":\"1602\" }, {\"name\":\"대한금융신문\", \"type\":\"abc\", \"ccode\":\"3\", \"code\":\"2282\" }, {\"name\":\"대한급식신문\", \"type\":\"abc\", \"ccode\":\"3\", \"code\":\"2470\" }, {\"name\":\"대한럭비협회\", \"type\":\"abc\", \"ccode\":\"3\", \"code\":\"1547\" }, {\"name\":\"대한민국농구협회\", \"type\":\"abc\", \"ccode\":\"3\", \"code\":\"1589\" }, {\"name\":\"대한민국배구협회\", \"type\":\"abc\", \"ccode\":\"3\", \"code\":\"1600\" }, {\"name\":\"대한봅슬레이스켈레톤경기연맹\", \"type\":\"abc\", \"ccode\":\"3\", \"code\":\"1612\" }, {\"name\":\"대한씨름협회\", \"type\":\"abc\", \"ccode\":\"3\", \"code\":\"1548\" }, {\"name\":\"대한장애인체육회\", \"type\":\"abc\", \"ccode\":\"3\", \"code\":\"1307\" }, {\"name\":\"대한전문건설신문\", \"type\":\"abc\", \"ccode\":\"3\", \"code\":\"2465\" }, {\"name\":\"대한체육회\", \"type\":\"abc\", \"ccode\":\"3\", \"code\":\"1601\" }, {\"name\":\"대한택견회\", \"type\":\"abc\", \"ccode\":\"3\", \"code\":\"1646\" }, {\"name\":\"더 스파이크\", \"type\":\"abc\", \"ccode\":\"3\", \"code\":\"1530\" }, {\"name\":\"더게임스데일리\", \"type\":\"abc\", \"ccode\":\"3\", \"code\":\"2462\" }, {\"name\":\"더구루\", \"type\":\"abc\", \"ccode\":\"3\", \"code\":\"2778\" }, {\"name\":\"더나은미래\", \"type\":\"abc\", \"ccode\":\"3\", \"code\":\"2635\" }, {\"name\":\"더드라이브\", \"type\":\"abc\", \"ccode\":\"3\", \"code\":\"2731\" }, {\"name\":\"더리포트\", \"type\":\"abc\", \"ccode\":\"3\", \"code\":\"2780\" }, {\"name\":\"더뮤지컬\", \"type\":\"abc\", \"ccode\":\"3\", \"code\":\"2561\" }, {\"name\":\"더밸류뉴스\", \"type\":\"abc\", \"ccode\":\"3\", \"code\":\"2767\" }, {\"name\":\"더벨\", \"type\":\"abc\", \"ccode\":\"3\", \"code\":\"2254\" }, {\"name\":\"더불어민주당\", \"type\":\"abc\", \"ccode\":\"3\", \"code\":\"1305\" }, {\"name\":\"더불어시민당\", \"type\":\"abc\", \"ccode\":\"3\", \"code\":\"1642\" }, {\"name\":\"더스쿠프\", \"type\":\"abc\", \"ccode\":\"3\", \"code\":\"2311\" }, {\"name\":\"더파워\", \"type\":\"abc\", \"ccode\":\"3\", \"code\":\"2832\" }, {\"name\":\"더팩트\", \"type\":\"abc\", \"ccode\":\"3\", \"code\":\"1629\" }, {\"name\":\"더퍼블릭\", \"type\":\"abc\", \"ccode\":\"3\", \"code\":\"2787\" }, {\"name\":\"더퍼스트\", \"type\":\"abc\", \"ccode\":\"3\", \"code\":\"2560\" }, {\"name\":\"더피알\", \"type\":\"abc\", \"ccode\":\"3\", \"code\":\"2399\" }, {\"name\":\"더핑퐁\", \"type\":\"abc\", \"ccode\":\"3\", \"code\":\"2680\" }, {\"name\":\"데이터넷\", \"type\":\"abc\", \"ccode\":\"3\", \"code\":\"2096\" }, {\"name\":\"데이터뉴스\", \"type\":\"abc\", \"ccode\":\"3\", \"code\":\"2024\" }, {\"name\":\"데이터솜\", \"type\":\"abc\", \"ccode\":\"3\", \"code\":\"2711\" }, {\"name\":\"데일리e스포츠\", \"type\":\"abc\", \"ccode\":\"3\", \"code\":\"1347\" }, {\"name\":\"데일리NK\", \"type\":\"abc\", \"ccode\":\"3\", \"code\":\"2023\" }, {\"name\":\"데일리경제\", \"type\":\"abc\", \"ccode\":\"3\", \"code\":\"2792\" }, {\"name\":\"데일리굿뉴스\", \"type\":\"abc\", \"ccode\":\"3\", \"code\":\"2646\" }, {\"name\":\"데일리로그\", \"type\":\"abc\", \"ccode\":\"3\", \"code\":\"2684\" }, {\"name\":\"데일리메디\", \"type\":\"abc\", \"ccode\":\"3\", \"code\":\"2125\" }, {\"name\":\"데일리벳\", \"type\":\"abc\", \"ccode\":\"3\", \"code\":\"2392\" }, {\"name\":\"데일리스포츠한국\", \"type\":\"abc\", \"ccode\":\"3\", \"code\":\"2604\" }, {\"name\":\"데일리시큐\", \"type\":\"abc\", \"ccode\":\"3\", \"code\":\"2350\" }, {\"name\":\"데일리안\", \"type\":\"abc\", \"ccode\":\"3\", \"code\":\"1119\" }, {\"name\":\"데일리임팩트\", \"type\":\"abc\", \"ccode\":\"3\", \"code\":\"2670\" }, {\"name\":\"데일리카\", \"type\":\"abc\", \"ccode\":\"3\", \"code\":\"2621\" }, {\"name\":\"데일리팜\", \"type\":\"abc\", \"ccode\":\"3\", \"code\":\"2190\" }, {\"name\":\"데일리팝\", \"type\":\"abc\", \"ccode\":\"3\", \"code\":\"2516\" }, {\"name\":\"데일리포스트\", \"type\":\"abc\", \"ccode\":\"3\", \"code\":\"2771\" }, {\"name\":\"데일리한국\", \"type\":\"abc\", \"ccode\":\"3\", \"code\":\"2358\" }, {\"name\":\"데일리환경\", \"type\":\"abc\", \"ccode\":\"3\", \"code\":\"2878\" }, {\"name\":\"도엔\", \"type\":\"abc\", \"ccode\":\"3\", \"code\":\"1511\" }, {\"name\":\"독서신문\", \"type\":\"abc\", \"ccode\":\"3\", \"code\":\"2043\" }, {\"name\":\"동국대학교 다르마\", \"type\":\"abc\", \"ccode\":\"3\", \"code\":\"1644\" }, {\"name\":\"동아사이언스\", \"type\":\"abc\", \"ccode\":\"3\", \"code\":\"1584\" }, {\"name\":\"동아오토\", \"type\":\"abc\", \"ccode\":\"3\", \"code\":\"2257\" }, {\"name\":\"동아일보\", \"type\":\"abc\", \"ccode\":\"3\", \"code\":\"1020\" }, {\"name\":\"동양일보\", \"type\":\"abc\", \"ccode\":\"3\", \"code\":\"2344\" }, {\"name\":\"디센터\", \"type\":\"abc\", \"ccode\":\"3\", \"code\":\"2751\" }, {\"name\":\"디스이즈게임\", \"type\":\"abc\", \"ccode\":\"3\", \"code\":\"1439\" }, {\"name\":\"디스커버리뉴스\", \"type\":\"abc\", \"ccode\":\"3\", \"code\":\"2613\" }, {\"name\":\"디스패치\", \"type\":\"abc\", \"ccode\":\"3\", \"code\":\"1433\" }, {\"name\":\"디아이투데이\", \"type\":\"abc\", \"ccode\":\"3\", \"code\":\"2213\" }, {\"name\":\"디자인정글\", \"type\":\"abc\", \"ccode\":\"3\", \"code\":\"2188\" }, {\"name\":\"디지털데일리\", \"type\":\"abc\", \"ccode\":\"3\", \"code\":\"1138\" }, {\"name\":\"디지털타임스\", \"type\":\"abc\", \"ccode\":\"3\", \"code\":\"1029\" }, {\"name\":\"디지털투데이\", \"type\":\"abc\", \"ccode\":\"3\", \"code\":\"2137\" }, {\"name\":\"디지틀조선TV\", \"type\":\"abc\", \"ccode\":\"3\", \"code\":\"2749\" }, {\"name\":\"디지틀조선일보\", \"type\":\"abc\", \"ccode\":\"3\", \"code\":\"2641\" }, {\"name\":\"디트뉴스24\", \"type\":\"abc\", \"ccode\":\"3\", \"code\":\"2232\" }, {\"name\":\"딜라이트닷넷\", \"type\":\"abc\", \"ccode\":\"3\", \"code\":\"2214\" }, {\"name\":\"딴지일보\", \"type\":\"abc\", \"ccode\":\"3\", \"code\":\"2390\" }, {\"name\":\"땅집고\", \"type\":\"abc\", \"ccode\":\"3\", \"code\":\"2790\" }, ] } , { \"name\": \"ㄹ\", \"list\": [ {\"name\":\"라디오코리아\", \"type\":\"abc\", \"ccode\":\"4\", \"code\":\"2083\" }, {\"name\":\"라온신문\", \"type\":\"abc\", \"ccode\":\"4\", \"code\":\"2874\" }, {\"name\":\"라이브팜뉴스\", \"type\":\"abc\", \"ccode\":\"4\", \"code\":\"2811\" }, {\"name\":\"라이센스뉴스\", \"type\":\"abc\", \"ccode\":\"4\", \"code\":\"2762\" }, {\"name\":\"라이프인\", \"type\":\"abc\", \"ccode\":\"4\", \"code\":\"2861\" }, {\"name\":\"라포르시안\", \"type\":\"abc\", \"ccode\":\"4\", \"code\":\"2248\" }, {\"name\":\"레디앙\", \"type\":\"abc\", \"ccode\":\"4\", \"code\":\"2315\" }, {\"name\":\"레이디경향\", \"type\":\"abc\", \"ccode\":\"4\", \"code\":\"1145\" }, {\"name\":\"로리더\", \"type\":\"abc\", \"ccode\":\"4\", \"code\":\"2775\" }, {\"name\":\"로봇신문\", \"type\":\"abc\", \"ccode\":\"4\", \"code\":\"2430\" }, {\"name\":\"로이슈\", \"type\":\"abc\", \"ccode\":\"4\", \"code\":\"2289\" }, {\"name\":\"로톡뉴스\", \"type\":\"abc\", \"ccode\":\"4\", \"code\":\"2845\" }, {\"name\":\"론리플래닛\", \"type\":\"abc\", \"ccode\":\"4\", \"code\":\"2607\" }, {\"name\":\"루키\", \"type\":\"abc\", \"ccode\":\"4\", \"code\":\"1398\" }, {\"name\":\"류현진 MLB 일기\", \"type\":\"abc\", \"ccode\":\"4\", \"code\":\"1513\" }, {\"name\":\"르몽드\", \"type\":\"abc\", \"ccode\":\"4\", \"code\":\"2260\" }, {\"name\":\"리걸타임즈\", \"type\":\"abc\", \"ccode\":\"4\", \"code\":\"2674\" }, {\"name\":\"리버티코리아포스트\", \"type\":\"abc\", \"ccode\":\"4\", \"code\":\"2791\" }, {\"name\":\"리얼캐스트\", \"type\":\"abc\", \"ccode\":\"4\", \"code\":\"2705\" }, {\"name\":\"리얼푸드\", \"type\":\"abc\", \"ccode\":\"4\", \"code\":\"2419\" }, ] } , { \"name\": \"ㅁ\", \"list\": [ {\"name\":\"마니아타임즈\", \"type\":\"abc\", \"ccode\":\"5\", \"code\":\"1425\" }, {\"name\":\"마리끌레르\", \"type\":\"abc\", \"ccode\":\"5\", \"code\":\"2547\" }, {\"name\":\"마이데일리\", \"type\":\"abc\", \"ccode\":\"5\", \"code\":\"1117\" }, {\"name\":\"마켓뉴스\", \"type\":\"abc\", \"ccode\":\"5\", \"code\":\"2697\" }, {\"name\":\"매경이코노미\", \"type\":\"abc\", \"ccode\":\"5\", \"code\":\"1024\" }, {\"name\":\"매경헬스\", \"type\":\"abc\", \"ccode\":\"5\", \"code\":\"2717\" }, {\"name\":\"매일경제\", \"type\":\"abc\", \"ccode\":\"5\", \"code\":\"1009\" }, {\"name\":\"매일경제TV\", \"type\":\"abc\", \"ccode\":\"5\", \"code\":\"2274\" }, {\"name\":\"매일노동뉴스\", \"type\":\"abc\", \"ccode\":\"5\", \"code\":\"2431\" }, {\"name\":\"매일신문\", \"type\":\"abc\", \"ccode\":\"5\", \"code\":\"1088\" }, {\"name\":\"매일안전신문\", \"type\":\"abc\", \"ccode\":\"5\", \"code\":\"2812\" }, {\"name\":\"매일일보\", \"type\":\"abc\", \"ccode\":\"5\", \"code\":\"2385\" }, {\"name\":\"맥스무비\", \"type\":\"abc\", \"ccode\":\"5\", \"code\":\"2078\" }, {\"name\":\"맨체스터시티 FC\", \"type\":\"abc\", \"ccode\":\"5\", \"code\":\"1624\" }, {\"name\":\"머니\", \"type\":\"abc\", \"ccode\":\"5\", \"code\":\"2448\" }, {\"name\":\"머니S\", \"type\":\"abc\", \"ccode\":\"5\", \"code\":\"1417\" }, {\"name\":\"머니투데이\", \"type\":\"abc\", \"ccode\":\"5\", \"code\":\"1008\" }, {\"name\":\"메가경제\", \"type\":\"abc\", \"ccode\":\"5\", \"code\":\"2770\" }, {\"name\":\"메디게이트뉴스\", \"type\":\"abc\", \"ccode\":\"5\", \"code\":\"2479\" }, {\"name\":\"메디소비자뉴스\", \"type\":\"abc\", \"ccode\":\"5\", \"code\":\"2576\" }, {\"name\":\"메디칼업저버\", \"type\":\"abc\", \"ccode\":\"5\", \"code\":\"2371\" }, {\"name\":\"메디칼타임즈\", \"type\":\"abc\", \"ccode\":\"5\", \"code\":\"2391\" }, {\"name\":\"메디칼트리뷴\", \"type\":\"abc\", \"ccode\":\"5\", \"code\":\"2389\" }, {\"name\":\"메디컬월드뉴스\", \"type\":\"abc\", \"ccode\":\"5\", \"code\":\"2620\" }, {\"name\":\"메디컬투데이\", \"type\":\"abc\", \"ccode\":\"5\", \"code\":\"2269\" }, {\"name\":\"메디코파마뉴스\", \"type\":\"abc\", \"ccode\":\"5\", \"code\":\"2862\" }, {\"name\":\"메디파나뉴스\", \"type\":\"abc\", \"ccode\":\"5\", \"code\":\"2126\" }, {\"name\":\"메종\", \"type\":\"abc\", \"ccode\":\"5\", \"code\":\"2640\" }, {\"name\":\"메트로신문\", \"type\":\"abc\", \"ccode\":\"5\", \"code\":\"2286\" }, {\"name\":\"모터트렌드 코리아\", \"type\":\"abc\", \"ccode\":\"5\", \"code\":\"2797\" }, {\"name\":\"목포MBC\", \"type\":\"abc\", \"ccode\":\"5\", \"code\":\"2735\" }, {\"name\":\"몬스터짐\", \"type\":\"abc\", \"ccode\":\"5\", \"code\":\"1409\" }, {\"name\":\"무등일보\", \"type\":\"abc\", \"ccode\":\"5\", \"code\":\"2323\" }, {\"name\":\"무비스트\", \"type\":\"abc\", \"ccode\":\"5\", \"code\":\"2357\" }, {\"name\":\"무비위크\", \"type\":\"abc\", \"ccode\":\"5\", \"code\":\"1242\" }, {\"name\":\"무카스\", \"type\":\"abc\", \"ccode\":\"5\", \"code\":\"2071\" }, {\"name\":\"문학뉴스\", \"type\":\"abc\", \"ccode\":\"5\", \"code\":\"2628\" }, {\"name\":\"문화뉴스\", \"type\":\"abc\", \"ccode\":\"5\", \"code\":\"2415\" }, {\"name\":\"문화일보\", \"type\":\"abc\", \"ccode\":\"5\", \"code\":\"1021\" }, {\"name\":\"문화저널21\", \"type\":\"abc\", \"ccode\":\"5\", \"code\":\"2420\" }, {\"name\":\"물류신문\", \"type\":\"abc\", \"ccode\":\"5\", \"code\":\"2148\" }, {\"name\":\"미디어스\", \"type\":\"abc\", \"ccode\":\"5\", \"code\":\"2060\" }, {\"name\":\"미디어오늘\", \"type\":\"abc\", \"ccode\":\"5\", \"code\":\"1006\" }, {\"name\":\"미디어워치\", \"type\":\"abc\", \"ccode\":\"5\", \"code\":\"2010\" }, {\"name\":\"미디어제주\", \"type\":\"abc\", \"ccode\":\"5\", \"code\":\"2522\" }, {\"name\":\"미디어파인\", \"type\":\"abc\", \"ccode\":\"5\", \"code\":\"2443\" }, {\"name\":\"미디어펜\", \"type\":\"abc\", \"ccode\":\"5\", \"code\":\"2244\" }, {\"name\":\"미래통합당\", \"type\":\"abc\", \"ccode\":\"5\", \"code\":\"1156\" }, {\"name\":\"미주중앙일보\", \"type\":\"abc\", \"ccode\":\"5\", \"code\":\"2292\" }, {\"name\":\"미주한국일보\", \"type\":\"abc\", \"ccode\":\"5\", \"code\":\"2428\" }, {\"name\":\"민생당\", \"type\":\"abc\", \"ccode\":\"5\", \"code\":\"1517\" }, {\"name\":\"민족의학신문\", \"type\":\"abc\", \"ccode\":\"5\", \"code\":\"2322\" }, {\"name\":\"민주신문\", \"type\":\"abc\", \"ccode\":\"5\", \"code\":\"2647\" }, {\"name\":\"민주평화당\", \"type\":\"abc\", \"ccode\":\"5\", \"code\":\"1594\" }, {\"name\":\"민중당\", \"type\":\"abc\", \"ccode\":\"5\", \"code\":\"1608\" }, {\"name\":\"민중의소리\", \"type\":\"abc\", \"ccode\":\"5\", \"code\":\"2683\" }, ] } , { \"name\": \"ㅂ\", \"list\": [ {\"name\":\"바른정당\", \"type\":\"abc\", \"ccode\":\"6\", \"code\":\"1552\" }, {\"name\":\"바이라인네트워크\", \"type\":\"abc\", \"ccode\":\"6\", \"code\":\"2704\" }, {\"name\":\"바이오스펙테이터\", \"type\":\"abc\", \"ccode\":\"6\", \"code\":\"2651\" }, {\"name\":\"바이오타임즈\", \"type\":\"abc\", \"ccode\":\"6\", \"code\":\"2872\" }, {\"name\":\"박문성 칼럼\", \"type\":\"abc\", \"ccode\":\"6\", \"code\":\"1208\" }, {\"name\":\"발렌시아CF\", \"type\":\"abc\", \"ccode\":\"6\", \"code\":\"1614\" }, {\"name\":\"방송기술저널\", \"type\":\"abc\", \"ccode\":\"6\", \"code\":\"2660\" }, {\"name\":\"배드민턴뉴스\", \"type\":\"abc\", \"ccode\":\"6\", \"code\":\"2863\" }, {\"name\":\"백세시대\", \"type\":\"abc\", \"ccode\":\"6\", \"code\":\"2466\" }, {\"name\":\"법률방송뉴스\", \"type\":\"abc\", \"ccode\":\"6\", \"code\":\"2626\" }, {\"name\":\"법률신문\", \"type\":\"abc\", \"ccode\":\"6\", \"code\":\"2094\" }, {\"name\":\"법률저널\", \"type\":\"abc\", \"ccode\":\"6\", \"code\":\"2144\" }, {\"name\":\"법보신문\", \"type\":\"abc\", \"ccode\":\"6\", \"code\":\"2157\" }, {\"name\":\"법조신문\", \"type\":\"abc\", \"ccode\":\"6\", \"code\":\"2330\" }, {\"name\":\"베리타스알파\", \"type\":\"abc\", \"ccode\":\"6\", \"code\":\"2258\" }, {\"name\":\"베스트일레븐\", \"type\":\"abc\", \"ccode\":\"6\", \"code\":\"1343\" }, {\"name\":\"베이비뉴스\", \"type\":\"abc\", \"ccode\":\"6\", \"code\":\"2295\" }, {\"name\":\"베이비타임즈\", \"type\":\"abc\", \"ccode\":\"6\", \"code\":\"2631\" }, {\"name\":\"베타뉴스\", \"type\":\"abc\", \"ccode\":\"6\", \"code\":\"2017\" }, {\"name\":\"벤처스퀘어\", \"type\":\"abc\", \"ccode\":\"6\", \"code\":\"2506\" }, {\"name\":\"보건뉴스\", \"type\":\"abc\", \"ccode\":\"6\", \"code\":\"2602\" }, {\"name\":\"보루시아 도르트문트\", \"type\":\"abc\", \"ccode\":\"6\", \"code\":\"1652\" }, {\"name\":\"보안뉴스\", \"type\":\"abc\", \"ccode\":\"6\", \"code\":\"2016\" }, {\"name\":\"보험매일\", \"type\":\"abc\", \"ccode\":\"6\", \"code\":\"2715\" }, {\"name\":\"부산MBC\", \"type\":\"abc\", \"ccode\":\"6\", \"code\":\"2538\" }, {\"name\":\"부산일보\", \"type\":\"abc\", \"ccode\":\"6\", \"code\":\"1082\" }, {\"name\":\"부산제일경제\", \"type\":\"abc\", \"ccode\":\"6\", \"code\":\"2515\" }, {\"name\":\"부안독립신문\", \"type\":\"abc\", \"ccode\":\"6\", \"code\":\"2590\" }, {\"name\":\"북DB\", \"type\":\"abc\", \"ccode\":\"6\", \"code\":\"2441\" }, {\"name\":\"불교공뉴스\", \"type\":\"abc\", \"ccode\":\"6\", \"code\":\"2324\" }, {\"name\":\"불교신문\", \"type\":\"abc\", \"ccode\":\"6\", \"code\":\"2149\" }, {\"name\":\"불교포커스\", \"type\":\"abc\", \"ccode\":\"6\", \"code\":\"2488\" }, {\"name\":\"뷰스앤뉴스\", \"type\":\"abc\", \"ccode\":\"6\", \"code\":\"2007\" }, {\"name\":\"뷰어스\", \"type\":\"abc\", \"ccode\":\"6\", \"code\":\"2597\" }, {\"name\":\"브라보마이라이프\", \"type\":\"abc\", \"ccode\":\"6\", \"code\":\"2474\" }, {\"name\":\"브라이언 스털\", \"type\":\"abc\", \"ccode\":\"6\", \"code\":\"1560\" }, {\"name\":\"브레이크뉴스\", \"type\":\"abc\", \"ccode\":\"6\", \"code\":\"2297\" }, {\"name\":\"브레인미디어\", \"type\":\"abc\", \"ccode\":\"6\", \"code\":\"2065\" }, {\"name\":\"브릿지경제\", \"type\":\"abc\", \"ccode\":\"6\", \"code\":\"2394\" }, {\"name\":\"블로터\", \"type\":\"abc\", \"ccode\":\"6\", \"code\":\"1293\" }, {\"name\":\"블록체인밸리\", \"type\":\"abc\", \"ccode\":\"6\", \"code\":\"2703\" }, {\"name\":\"비마이너\", \"type\":\"abc\", \"ccode\":\"6\", \"code\":\"2487\" }, {\"name\":\"비욘드포스트\", \"type\":\"abc\", \"ccode\":\"6\", \"code\":\"2736\" }, {\"name\":\"비주얼다이브\", \"type\":\"abc\", \"ccode\":\"6\", \"code\":\"2327\" }, {\"name\":\"비즈니스워치\", \"type\":\"abc\", \"ccode\":\"6\", \"code\":\"1648\" }, {\"name\":\"비즈니스포스트\", \"type\":\"abc\", \"ccode\":\"6\", \"code\":\"2374\" }, {\"name\":\"비즈니스플러스\", \"type\":\"abc\", \"ccode\":\"6\", \"code\":\"2875\" }, {\"name\":\"비즈볼프로젝트\", \"type\":\"abc\", \"ccode\":\"6\", \"code\":\"1489\" }, {\"name\":\"비즈엔터\", \"type\":\"abc\", \"ccode\":\"6\", \"code\":\"2352\" }, {\"name\":\"비즈월드\", \"type\":\"abc\", \"ccode\":\"6\", \"code\":\"2813\" }, {\"name\":\"비즈한국\", \"type\":\"abc\", \"ccode\":\"6\", \"code\":\"2480\" }, {\"name\":\"비지니스코리아\", \"type\":\"abc\", \"ccode\":\"6\", \"code\":\"2652\" }, {\"name\":\"빅데이터뉴스\", \"type\":\"abc\", \"ccode\":\"6\", \"code\":\"2645\" }, {\"name\":\"빅터뉴스\", \"type\":\"abc\", \"ccode\":\"6\", \"code\":\"2814\" }, {\"name\":\"빌리어즈\", \"type\":\"abc\", \"ccode\":\"6\", \"code\":\"2496\" }, ] } , { \"name\": \"ㅅ\", \"list\": [ {\"name\":\"산업일보\", \"type\":\"abc\", \"ccode\":\"7\", \"code\":\"2433\" }, {\"name\":\"삼성 썬더스\", \"type\":\"abc\", \"ccode\":\"7\", \"code\":\"1371\" }, {\"name\":\"새로운보수당\", \"type\":\"abc\", \"ccode\":\"7\", \"code\":\"1634\" }, {\"name\":\"새전북신문\", \"type\":\"abc\", \"ccode\":\"7\", \"code\":\"2153\" }, {\"name\":\"서울경제\", \"type\":\"abc\", \"ccode\":\"7\", \"code\":\"1011\" }, {\"name\":\"서울경제TV\", \"type\":\"abc\", \"ccode\":\"7\", \"code\":\"2656\" }, {\"name\":\"서울문화투데이\", \"type\":\"abc\", \"ccode\":\"7\", \"code\":\"2821\" }, {\"name\":\"서울시체육회\", \"type\":\"abc\", \"ccode\":\"7\", \"code\":\"1597\" }, {\"name\":\"서울신문\", \"type\":\"abc\", \"ccode\":\"7\", \"code\":\"1081\" }, {\"name\":\"서울와이어\", \"type\":\"abc\", \"ccode\":\"7\", \"code\":\"2526\" }, {\"name\":\"서울유나이티드\", \"type\":\"abc\", \"ccode\":\"7\", \"code\":\"1522\" }, {\"name\":\"서울이코노미뉴스\", \"type\":\"abc\", \"ccode\":\"7\", \"code\":\"2774\" }, {\"name\":\"서울파이낸스\", \"type\":\"abc\", \"ccode\":\"7\", \"code\":\"2001\" }, {\"name\":\"서형욱 칼럼\", \"type\":\"abc\", \"ccode\":\"7\", \"code\":\"1260\" }, {\"name\":\"서호정 칼럼\", \"type\":\"abc\", \"ccode\":\"7\", \"code\":\"1452\" }, {\"name\":\"선문대학교 축구부 프론트\", \"type\":\"abc\", \"ccode\":\"7\", \"code\":\"1633\" }, {\"name\":\"성균관대학교 ESKAKA\", \"type\":\"abc\", \"ccode\":\"7\", \"code\":\"1571\" }, {\"name\":\"성호준 칼럼\", \"type\":\"abc\", \"ccode\":\"7\", \"code\":\"1485\" }, {\"name\":\"세계비즈\", \"type\":\"abc\", \"ccode\":\"7\", \"code\":\"2653\" }, {\"name\":\"세계일보\", \"type\":\"abc\", \"ccode\":\"7\", \"code\":\"1022\" }, {\"name\":\"세이프타임즈\", \"type\":\"abc\", \"ccode\":\"7\", \"code\":\"2754\" }, {\"name\":\"세정신문\", \"type\":\"abc\", \"ccode\":\"7\", \"code\":\"2030\" }, {\"name\":\"세정일보\", \"type\":\"abc\", \"ccode\":\"7\", \"code\":\"2571\" }, {\"name\":\"세종의 소리\", \"type\":\"abc\", \"ccode\":\"7\", \"code\":\"2776\" }, {\"name\":\"셀럽미디어\", \"type\":\"abc\", \"ccode\":\"7\", \"code\":\"2349\" }, {\"name\":\"소년한국일보\", \"type\":\"abc\", \"ccode\":\"7\", \"code\":\"2360\" }, {\"name\":\"소믈리에타임즈\", \"type\":\"abc\", \"ccode\":\"7\", \"code\":\"2426\" }, {\"name\":\"소비자가 만드는 신문\", \"type\":\"abc\", \"ccode\":\"7\", \"code\":\"2275\" }, {\"name\":\"소셜밸류\", \"type\":\"abc\", \"ccode\":\"7\", \"code\":\"2825\" }, {\"name\":\"손대범 칼럼\", \"type\":\"abc\", \"ccode\":\"7\", \"code\":\"1430\" }, {\"name\":\"송산의 돌직구\", \"type\":\"abc\", \"ccode\":\"7\", \"code\":\"1483\" }, {\"name\":\"수원대학교 축구부 기자단\", \"type\":\"abc\", \"ccode\":\"7\", \"code\":\"1627\" }, {\"name\":\"슈어\", \"type\":\"abc\", \"ccode\":\"7\", \"code\":\"2215\" }, {\"name\":\"스냅\", \"type\":\"abc\", \"ccode\":\"7\", \"code\":\"2317\" }, {\"name\":\"스마트경제\", \"type\":\"abc\", \"ccode\":\"7\", \"code\":\"2693\" }, {\"name\":\"스마트시티투데이\", \"type\":\"abc\", \"ccode\":\"7\", \"code\":\"2864\" }, {\"name\":\"스마트에프엔\", \"type\":\"abc\", \"ccode\":\"7\", \"code\":\"2827\" }, {\"name\":\"스카우팅리포트\", \"type\":\"abc\", \"ccode\":\"7\", \"code\":\"1557\" }, {\"name\":\"스카이데일리\", \"type\":\"abc\", \"ccode\":\"7\", \"code\":\"2510\" }, {\"name\":\"스타뉴스\", \"type\":\"abc\", \"ccode\":\"7\", \"code\":\"1108\" }, {\"name\":\"스타데일리뉴스\", \"type\":\"abc\", \"ccode\":\"7\", \"code\":\"2401\" }, {\"name\":\"스타캐스트\", \"type\":\"abc\", \"ccode\":\"7\", \"code\":\"1420\" }, {\"name\":\"스트레이트뉴스\", \"type\":\"abc\", \"ccode\":\"7\", \"code\":\"2677\" }, {\"name\":\"스포츠Q\", \"type\":\"abc\", \"ccode\":\"7\", \"code\":\"2400\" }, {\"name\":\"스포츠W\", \"type\":\"abc\", \"ccode\":\"7\", \"code\":\"2753\" }, {\"name\":\"스포츠경향\", \"type\":\"abc\", \"ccode\":\"7\", \"code\":\"1144\" }, {\"name\":\"스포츠동아\", \"type\":\"abc\", \"ccode\":\"7\", \"code\":\"1382\" }, {\"name\":\"스포츠서울\", \"type\":\"abc\", \"ccode\":\"7\", \"code\":\"2361\" }, {\"name\":\"스포츠월드\", \"type\":\"abc\", \"ccode\":\"7\", \"code\":\"1396\" }, {\"name\":\"스포츠조선\", \"type\":\"abc\", \"ccode\":\"7\", \"code\":\"1076\" }, {\"name\":\"스포츠춘추\", \"type\":\"abc\", \"ccode\":\"7\", \"code\":\"1529\" }, {\"name\":\"스포츠타임스\", \"type\":\"abc\", \"ccode\":\"7\", \"code\":\"1472\" }, {\"name\":\"스포츠투데이\", \"type\":\"abc\", \"ccode\":\"7\", \"code\":\"2348\" }, {\"name\":\"스포츠투아이\", \"type\":\"abc\", \"ccode\":\"7\", \"code\":\"1488\" }, {\"name\":\"스포츠한국\", \"type\":\"abc\", \"ccode\":\"7\", \"code\":\"2359\" }, {\"name\":\"스포탈코리아\", \"type\":\"abc\", \"ccode\":\"7\", \"code\":\"1139\" }, {\"name\":\"스포티비뉴스\", \"type\":\"abc\", \"ccode\":\"7\", \"code\":\"1477\" }, {\"name\":\"슬로우뉴스\", \"type\":\"abc\", \"ccode\":\"7\", \"code\":\"2397\" }, {\"name\":\"시민의소리\", \"type\":\"abc\", \"ccode\":\"7\", \"code\":\"2439\" }, {\"name\":\"시민일보\", \"type\":\"abc\", \"ccode\":\"7\", \"code\":\"2055\" }, {\"name\":\"시빅뉴스\", \"type\":\"abc\", \"ccode\":\"7\", \"code\":\"2461\" }, {\"name\":\"시사IN\", \"type\":\"abc\", \"ccode\":\"7\", \"code\":\"1308\" }, {\"name\":\"시사뉴스\", \"type\":\"abc\", \"ccode\":\"7\", \"code\":\"2612\" }, {\"name\":\"시사뉴스24\", \"type\":\"abc\", \"ccode\":\"7\", \"code\":\"2799\" }, {\"name\":\"시사매거진\", \"type\":\"abc\", \"ccode\":\"7\", \"code\":\"2617\" }, {\"name\":\"시사오늘\", \"type\":\"abc\", \"ccode\":\"7\", \"code\":\"2370\" }, {\"name\":\"시사위크\", \"type\":\"abc\", \"ccode\":\"7\", \"code\":\"2337\" }, {\"name\":\"시사저널\", \"type\":\"abc\", \"ccode\":\"7\", \"code\":\"1586\" }, {\"name\":\"시사저널이코노미\", \"type\":\"abc\", \"ccode\":\"7\", \"code\":\"2471\" }, {\"name\":\"시사제주\", \"type\":\"abc\", \"ccode\":\"7\", \"code\":\"2179\" }, {\"name\":\"시사캐스트\", \"type\":\"abc\", \"ccode\":\"7\", \"code\":\"2854\" }, {\"name\":\"시사포커스\", \"type\":\"abc\", \"ccode\":\"7\", \"code\":\"2329\" }, {\"name\":\"시선뉴스\", \"type\":\"abc\", \"ccode\":\"7\", \"code\":\"2369\" }, {\"name\":\"시장경제신문\", \"type\":\"abc\", \"ccode\":\"7\", \"code\":\"2528\" }, {\"name\":\"식품저널 foodnews\", \"type\":\"abc\", \"ccode\":\"7\", \"code\":\"2595\" }, {\"name\":\"신동아\", \"type\":\"abc\", \"ccode\":\"7\", \"code\":\"1262\" }, {\"name\":\"신소재경제신문\", \"type\":\"abc\", \"ccode\":\"7\", \"code\":\"2644\" }, {\"name\":\"신아일보\", \"type\":\"abc\", \"ccode\":\"7\", \"code\":\"2364\" }, {\"name\":\"신화사 연합뉴스\", \"type\":\"abc\", \"ccode\":\"7\", \"code\":\"1348\" }, {\"name\":\"싱글리스트\", \"type\":\"abc\", \"ccode\":\"7\", \"code\":\"2575\" }, {\"name\":\"쎄씨\", \"type\":\"abc\", \"ccode\":\"7\", \"code\":\"2219\" }, {\"name\":\"씨네21\", \"type\":\"abc\", \"ccode\":\"7\", \"code\":\"1140\" }, {\"name\":\"씨넷코리아\", \"type\":\"abc\", \"ccode\":\"7\", \"code\":\"2405\" }, ] } , { \"name\": \"ㅇ\", \"list\": [ {\"name\":\"아리랑TV\", \"type\":\"abc\", \"ccode\":\"8\", \"code\":\"2363\" }, {\"name\":\"아시아경제\", \"type\":\"abc\", \"ccode\":\"8\", \"code\":\"1277\" }, {\"name\":\"아시아리그\", \"type\":\"abc\", \"ccode\":\"8\", \"code\":\"1603\" }, {\"name\":\"아시아에이\", \"type\":\"abc\", \"ccode\":\"8\", \"code\":\"2755\" }, {\"name\":\"아시아엔\", \"type\":\"abc\", \"ccode\":\"8\", \"code\":\"2216\" }, {\"name\":\"아시아타임즈\", \"type\":\"abc\", \"ccode\":\"8\", \"code\":\"2492\" }, {\"name\":\"아시아투데이\", \"type\":\"abc\", \"ccode\":\"8\", \"code\":\"2268\" }, {\"name\":\"아웃도어뉴스\", \"type\":\"abc\", \"ccode\":\"8\", \"code\":\"2222\" }, {\"name\":\"아웃소싱타임스\", \"type\":\"abc\", \"ccode\":\"8\", \"code\":\"2564\" }, {\"name\":\"아유경제\", \"type\":\"abc\", \"ccode\":\"8\", \"code\":\"2609\" }, {\"name\":\"아이뉴스24\", \"type\":\"abc\", \"ccode\":\"8\", \"code\":\"1031\" }, {\"name\":\"아이즈 ize\", \"type\":\"abc\", \"ccode\":\"8\", \"code\":\"1465\" }, {\"name\":\"아이투자\", \"type\":\"abc\", \"ccode\":\"8\", \"code\":\"2578\" }, {\"name\":\"아이티데일리\", \"type\":\"abc\", \"ccode\":\"8\", \"code\":\"2046\" }, {\"name\":\"아이티비즈\", \"type\":\"abc\", \"ccode\":\"8\", \"code\":\"2579\" }, {\"name\":\"아주경제\", \"type\":\"abc\", \"ccode\":\"8\", \"code\":\"2090\" }, {\"name\":\"아주대 축구부 프론트\", \"type\":\"abc\", \"ccode\":\"8\", \"code\":\"1645\" }, {\"name\":\"아트인사이트\", \"type\":\"abc\", \"ccode\":\"8\", \"code\":\"2726\" }, {\"name\":\"아파트관리신문\", \"type\":\"abc\", \"ccode\":\"8\", \"code\":\"2501\" }, {\"name\":\"안동MBC\", \"type\":\"abc\", \"ccode\":\"8\", \"code\":\"2318\" }, {\"name\":\"안산그리너스FC\", \"type\":\"abc\", \"ccode\":\"8\", \"code\":\"1591\" }, {\"name\":\"안산무궁화프로축구단\", \"type\":\"abc\", \"ccode\":\"8\", \"code\":\"1520\" }, {\"name\":\"안전신문\", \"type\":\"abc\", \"ccode\":\"8\", \"code\":\"2729\" }, {\"name\":\"알베르토 몬디\", \"type\":\"abc\", \"ccode\":\"8\", \"code\":\"1554\" }, {\"name\":\"애슬릿미디어\", \"type\":\"abc\", \"ccode\":\"8\", \"code\":\"1540\" }, {\"name\":\"앤드류 배걸리\", \"type\":\"abc\", \"ccode\":\"8\", \"code\":\"1556\" }, {\"name\":\"앱스토리\", \"type\":\"abc\", \"ccode\":\"8\", \"code\":\"2716\" }, {\"name\":\"앳스타일\", \"type\":\"abc\", \"ccode\":\"8\", \"code\":\"1415\" }, {\"name\":\"야덕일지\", \"type\":\"abc\", \"ccode\":\"8\", \"code\":\"1487\" }, {\"name\":\"야큐 리포트\", \"type\":\"abc\", \"ccode\":\"8\", \"code\":\"1264\" }, {\"name\":\"약사공론\", \"type\":\"abc\", \"ccode\":\"8\", \"code\":\"2332\" }, {\"name\":\"약업신문\", \"type\":\"abc\", \"ccode\":\"8\", \"code\":\"2100\" }, {\"name\":\"양주시민축구단\", \"type\":\"abc\", \"ccode\":\"8\", \"code\":\"1623\" }, {\"name\":\"양평시민의소리\", \"type\":\"abc\", \"ccode\":\"8\", \"code\":\"2519\" }, {\"name\":\"어린이동아\", \"type\":\"abc\", \"ccode\":\"8\", \"code\":\"2557\" }, {\"name\":\"어업IN수산\", \"type\":\"abc\", \"ccode\":\"8\", \"code\":\"2565\" }, {\"name\":\"어패럴뉴스\", \"type\":\"abc\", \"ccode\":\"8\", \"code\":\"2197\" }, {\"name\":\"얼리어답터\", \"type\":\"abc\", \"ccode\":\"8\", \"code\":\"2707\" }, {\"name\":\"업다운뉴스\", \"type\":\"abc\", \"ccode\":\"8\", \"code\":\"2554\" }, {\"name\":\"에너지경제\", \"type\":\"abc\", \"ccode\":\"8\", \"code\":\"2133\" }, {\"name\":\"에너지데일리\", \"type\":\"abc\", \"ccode\":\"8\", \"code\":\"2685\" }, {\"name\":\"에너지플랫폼뉴스\", \"type\":\"abc\", \"ccode\":\"8\", \"code\":\"2563\" }, {\"name\":\"에듀동아\", \"type\":\"abc\", \"ccode\":\"8\", \"code\":\"2449\" }, {\"name\":\"에듀프레스\", \"type\":\"abc\", \"ccode\":\"8\", \"code\":\"2605\" }, {\"name\":\"에스콰이어\", \"type\":\"abc\", \"ccode\":\"8\", \"code\":\"2691\" }, {\"name\":\"에이블뉴스\", \"type\":\"abc\", \"ccode\":\"8\", \"code\":\"2018\" }, {\"name\":\"에이빙뉴스\", \"type\":\"abc\", \"ccode\":\"8\", \"code\":\"2015\" }, {\"name\":\"엑스포츠뉴스\", \"type\":\"abc\", \"ccode\":\"8\", \"code\":\"1311\" }, {\"name\":\"엔젤스파이팅\", \"type\":\"abc\", \"ccode\":\"8\", \"code\":\"1613\" }, {\"name\":\"엔지니어링데일리\", \"type\":\"abc\", \"ccode\":\"8\", \"code\":\"2271\" }, {\"name\":\"엘르\", \"type\":\"abc\", \"ccode\":\"8\", \"code\":\"2027\" }, {\"name\":\"엠에프지\", \"type\":\"abc\", \"ccode\":\"8\", \"code\":\"2701\" }, {\"name\":\"엠투데이\", \"type\":\"abc\", \"ccode\":\"8\", \"code\":\"2598\" }, {\"name\":\"여성경제신문\", \"type\":\"abc\", \"ccode\":\"8\", \"code\":\"2759\" }, {\"name\":\"여성동아\", \"type\":\"abc\", \"ccode\":\"8\", \"code\":\"2549\" }, {\"name\":\"여성소비자신문\", \"type\":\"abc\", \"ccode\":\"8\", \"code\":\"2493\" }, {\"name\":\"여성신문\", \"type\":\"abc\", \"ccode\":\"8\", \"code\":\"1310\" }, {\"name\":\"여성조선\", \"type\":\"abc\", \"ccode\":\"8\", \"code\":\"2238\" }, {\"name\":\"여성중앙\", \"type\":\"abc\", \"ccode\":\"8\", \"code\":\"2210\" }, {\"name\":\"여수MBC\", \"type\":\"abc\", \"ccode\":\"8\", \"code\":\"2745\" }, {\"name\":\"여수넷통뉴스\", \"type\":\"abc\", \"ccode\":\"8\", \"code\":\"2748\" }, {\"name\":\"여행스케치\", \"type\":\"abc\", \"ccode\":\"8\", \"code\":\"2570\" }, {\"name\":\"여행신문\", \"type\":\"abc\", \"ccode\":\"8\", \"code\":\"2815\" }, {\"name\":\"연세대학교 시스붐바\", \"type\":\"abc\", \"ccode\":\"8\", \"code\":\"1570\" }, {\"name\":\"연합뉴스\", \"type\":\"abc\", \"ccode\":\"8\", \"code\":\"1001\" }, {\"name\":\"연합뉴스TV\", \"type\":\"abc\", \"ccode\":\"8\", \"code\":\"1422\" }, {\"name\":\"연합이매진\", \"type\":\"abc\", \"ccode\":\"8\", \"code\":\"1225\" }, {\"name\":\"연합인포맥스\", \"type\":\"abc\", \"ccode\":\"8\", \"code\":\"2227\" }, {\"name\":\"열린뉴스통신\", \"type\":\"abc\", \"ccode\":\"8\", \"code\":\"2818\" }, {\"name\":\"열린민주당\", \"type\":\"abc\", \"ccode\":\"8\", \"code\":\"1641\" }, {\"name\":\"염용근 칼럼\", \"type\":\"abc\", \"ccode\":\"8\", \"code\":\"1486\" }, {\"name\":\"영남대 축구부 홍보단\", \"type\":\"abc\", \"ccode\":\"8\", \"code\":\"1619\" }, {\"name\":\"영남일보\", \"type\":\"abc\", \"ccode\":\"8\", \"code\":\"2207\" }, {\"name\":\"영독한 기자들\", \"type\":\"abc\", \"ccode\":\"8\", \"code\":\"1545\" }, {\"name\":\"오늘경제\", \"type\":\"abc\", \"ccode\":\"8\", \"code\":\"2721\" }, {\"name\":\"오마이뉴스\", \"type\":\"abc\", \"ccode\":\"8\", \"code\":\"1047\" }, {\"name\":\"오토타임즈\", \"type\":\"abc\", \"ccode\":\"8\", \"code\":\"2029\" }, {\"name\":\"오피니언뉴스\", \"type\":\"abc\", \"ccode\":\"8\", \"code\":\"2618\" }, {\"name\":\"오피니언타임스\", \"type\":\"abc\", \"ccode\":\"8\", \"code\":\"2507\" }, {\"name\":\"올림픽채널\", \"type\":\"abc\", \"ccode\":\"8\", \"code\":\"1610\" }, {\"name\":\"용인대스포츠기자단\", \"type\":\"abc\", \"ccode\":\"8\", \"code\":\"1605\" }, {\"name\":\"우드플래닛\", \"type\":\"abc\", \"ccode\":\"8\", \"code\":\"2695\" }, {\"name\":\"우리공화당\", \"type\":\"abc\", \"ccode\":\"8\", \"code\":\"1587\" }, {\"name\":\"우먼스플라워\", \"type\":\"abc\", \"ccode\":\"8\", \"code\":\"2822\" }, {\"name\":\"우먼타임스\", \"type\":\"abc\", \"ccode\":\"8\", \"code\":\"2848\" }, {\"name\":\"울산MBC\", \"type\":\"abc\", \"ccode\":\"8\", \"code\":\"2541\" }, {\"name\":\"울산대학교 어스키퍼\", \"type\":\"abc\", \"ccode\":\"8\", \"code\":\"1632\" }, {\"name\":\"울산매일신문\", \"type\":\"abc\", \"ccode\":\"8\", \"code\":\"2184\" }, {\"name\":\"울산시민축구단\", \"type\":\"abc\", \"ccode\":\"8\", \"code\":\"1615\" }, {\"name\":\"울산제일일보\", \"type\":\"abc\", \"ccode\":\"8\", \"code\":\"2583\" }, {\"name\":\"워크투데이\", \"type\":\"abc\", \"ccode\":\"8\", \"code\":\"2796\" }, {\"name\":\"원불교신문\", \"type\":\"abc\", \"ccode\":\"8\", \"code\":\"2543\" }, {\"name\":\"원예산업신문\", \"type\":\"abc\", \"ccode\":\"8\", \"code\":\"2789\" }, {\"name\":\"월간 산\", \"type\":\"abc\", \"ccode\":\"8\", \"code\":\"1094\" }, {\"name\":\"월간 오디오\", \"type\":\"abc\", \"ccode\":\"8\", \"code\":\"2800\" }, {\"name\":\"월간노동법률\", \"type\":\"abc\", \"ccode\":\"8\", \"code\":\"2658\" }, {\"name\":\"월간로봇기술\", \"type\":\"abc\", \"ccode\":\"8\", \"code\":\"2733\" }, {\"name\":\"월간마이더스\", \"type\":\"abc\", \"ccode\":\"8\", \"code\":\"2208\" }, {\"name\":\"월간불광\", \"type\":\"abc\", \"ccode\":\"8\", \"code\":\"2690\" }, {\"name\":\"월간암\", \"type\":\"abc\", \"ccode\":\"8\", \"code\":\"2075\" }, {\"name\":\"월간오늘보다\", \"type\":\"abc\", \"ccode\":\"8\", \"code\":\"2632\" }, {\"name\":\"월간원예\", \"type\":\"abc\", \"ccode\":\"8\", \"code\":\"2512\" }, {\"name\":\"월간조선\", \"type\":\"abc\", \"ccode\":\"8\", \"code\":\"2481\" }, {\"name\":\"월간중앙\", \"type\":\"abc\", \"ccode\":\"8\", \"code\":\"2203\" }, {\"name\":\"월간현대경영\", \"type\":\"abc\", \"ccode\":\"8\", \"code\":\"2393\" }, {\"name\":\"월드코리안신문\", \"type\":\"abc\", \"ccode\":\"8\", \"code\":\"2588\" }, {\"name\":\"월요신문\", \"type\":\"abc\", \"ccode\":\"8\", \"code\":\"2520\" }, {\"name\":\"위드인뉴스\", \"type\":\"abc\", \"ccode\":\"8\", \"code\":\"2636\" }, {\"name\":\"위메이크뉴스\", \"type\":\"abc\", \"ccode\":\"8\", \"code\":\"2865\" }, {\"name\":\"위원석 칼럼\", \"type\":\"abc\", \"ccode\":\"8\", \"code\":\"1550\" }, {\"name\":\"위클리오늘\", \"type\":\"abc\", \"ccode\":\"8\", \"code\":\"2294\" }, {\"name\":\"위키리크스한국\", \"type\":\"abc\", \"ccode\":\"8\", \"code\":\"2622\" }, {\"name\":\"위키트리\", \"type\":\"abc\", \"ccode\":\"8\", \"code\":\"2239\" }, {\"name\":\"유교신문\", \"type\":\"abc\", \"ccode\":\"8\", \"code\":\"2482\" }, {\"name\":\"의사신문\", \"type\":\"abc\", \"ccode\":\"8\", \"code\":\"2826\" }, {\"name\":\"의약뉴스\", \"type\":\"abc\", \"ccode\":\"8\", \"code\":\"2842\" }, {\"name\":\"의학신문\", \"type\":\"abc\", \"ccode\":\"8\", \"code\":\"2376\" }, {\"name\":\"의학채널 비온뒤\", \"type\":\"abc\", \"ccode\":\"8\", \"code\":\"2483\" }, {\"name\":\"의협신문\", \"type\":\"abc\", \"ccode\":\"8\", \"code\":\"2088\" }, {\"name\":\"이넷뉴스\", \"type\":\"abc\", \"ccode\":\"8\", \"code\":\"2866\" }, {\"name\":\"이뉴스투데이\", \"type\":\"abc\", \"ccode\":\"8\", \"code\":\"2038\" }, {\"name\":\"이덕규 칼럼\", \"type\":\"abc\", \"ccode\":\"8\", \"code\":\"1495\" }, {\"name\":\"이데일리\", \"type\":\"abc\", \"ccode\":\"8\", \"code\":\"1018\" }, {\"name\":\"이로운넷\", \"type\":\"abc\", \"ccode\":\"8\", \"code\":\"2738\" }, {\"name\":\"이슈앤비즈\", \"type\":\"abc\", \"ccode\":\"8\", \"code\":\"2880\" }, {\"name\":\"이영미 칼럼\", \"type\":\"abc\", \"ccode\":\"8\", \"code\":\"1380\" }, {\"name\":\"이웃집과학자\", \"type\":\"abc\", \"ccode\":\"8\", \"code\":\"2550\" }, {\"name\":\"이은경 칼럼\", \"type\":\"abc\", \"ccode\":\"8\", \"code\":\"1544\" }, {\"name\":\"이종열 칼럼\", \"type\":\"abc\", \"ccode\":\"8\", \"code\":\"1566\" }, {\"name\":\"이지경제\", \"type\":\"abc\", \"ccode\":\"8\", \"code\":\"2594\" }, {\"name\":\"이창섭 칼럼\", \"type\":\"abc\", \"ccode\":\"8\", \"code\":\"1460\" }, {\"name\":\"이코노뉴스\", \"type\":\"abc\", \"ccode\":\"8\", \"code\":\"2524\" }, {\"name\":\"이코노미스트\", \"type\":\"abc\", \"ccode\":\"8\", \"code\":\"1243\" }, {\"name\":\"이코노미조선\", \"type\":\"abc\", \"ccode\":\"8\", \"code\":\"2226\" }, {\"name\":\"이코노미톡뉴스\", \"type\":\"abc\", \"ccode\":\"8\", \"code\":\"2192\" }, {\"name\":\"이코노믹리뷰\", \"type\":\"abc\", \"ccode\":\"8\", \"code\":\"2097\" }, {\"name\":\"이코노타임즈\", \"type\":\"abc\", \"ccode\":\"8\", \"code\":\"2831\" }, {\"name\":\"이코노텔링\", \"type\":\"abc\", \"ccode\":\"8\", \"code\":\"2816\" }, {\"name\":\"이코리아\", \"type\":\"abc\", \"ccode\":\"8\", \"code\":\"2562\" }, {\"name\":\"이투뉴스\", \"type\":\"abc\", \"ccode\":\"8\", \"code\":\"2118\" }, {\"name\":\"이투데이\", \"type\":\"abc\", \"ccode\":\"8\", \"code\":\"2003\" }, {\"name\":\"인간vs축봇\", \"type\":\"abc\", \"ccode\":\"8\", \"code\":\"1580\" }, {\"name\":\"인공지능신문\", \"type\":\"abc\", \"ccode\":\"8\", \"code\":\"2830\" }, {\"name\":\"인더뉴스\", \"type\":\"abc\", \"ccode\":\"8\", \"code\":\"2667\" }, {\"name\":\"인더스트리뉴스\", \"type\":\"abc\", \"ccode\":\"8\", \"code\":\"2580\" }, {\"name\":\"인민망\", \"type\":\"abc\", \"ccode\":\"8\", \"code\":\"2388\" }, {\"name\":\"인베스트조선\", \"type\":\"abc\", \"ccode\":\"8\", \"code\":\"2552\" }, {\"name\":\"인벤\", \"type\":\"abc\", \"ccode\":\"8\", \"code\":\"1442\" }, {\"name\":\"인사이드 비나\", \"type\":\"abc\", \"ccode\":\"8\", \"code\":\"2823\" }, {\"name\":\"인사이트\", \"type\":\"abc\", \"ccode\":\"8\", \"code\":\"2486\" }, {\"name\":\"인사이트코리아\", \"type\":\"abc\", \"ccode\":\"8\", \"code\":\"2517\" }, {\"name\":\"인천in\", \"type\":\"abc\", \"ccode\":\"8\", \"code\":\"2808\" }, {\"name\":\"인천뉴스\", \"type\":\"abc\", \"ccode\":\"8\", \"code\":\"2650\" }, {\"name\":\"인천일보\", \"type\":\"abc\", \"ccode\":\"8\", \"code\":\"2193\" }, {\"name\":\"인천투데이\", \"type\":\"abc\", \"ccode\":\"8\", \"code\":\"2688\" }, {\"name\":\"인터뷰365\", \"type\":\"abc\", \"ccode\":\"8\", \"code\":\"2081\" }, {\"name\":\"인터풋볼\", \"type\":\"abc\", \"ccode\":\"8\", \"code\":\"1413\" }, {\"name\":\"일간NTN\", \"type\":\"abc\", \"ccode\":\"8\", \"code\":\"2309\" }, {\"name\":\"일간스포츠\", \"type\":\"abc\", \"ccode\":\"8\", \"code\":\"2850\" }, {\"name\":\"일다\", \"type\":\"abc\", \"ccode\":\"8\", \"code\":\"1007\" }, {\"name\":\"일렉트릭파워\", \"type\":\"abc\", \"ccode\":\"8\", \"code\":\"2574\" }, {\"name\":\"일요시사\", \"type\":\"abc\", \"ccode\":\"8\", \"code\":\"2175\" }, {\"name\":\"일요신문\", \"type\":\"abc\", \"ccode\":\"8\", \"code\":\"2307\" }, {\"name\":\"일요신문 스포츠\", \"type\":\"abc\", \"ccode\":\"8\", \"code\":\"1381\" }, ] } , { \"name\": \"ㅈ\", \"list\": [ {\"name\":\"잡포스트\", \"type\":\"abc\", \"ccode\":\"9\", \"code\":\"2820\" }, {\"name\":\"장애인신문\", \"type\":\"abc\", \"ccode\":\"9\", \"code\":\"2111\" }, {\"name\":\"재외동포신문\", \"type\":\"abc\", \"ccode\":\"9\", \"code\":\"2176\" }, {\"name\":\"재해재난속보\", \"type\":\"abc\", \"ccode\":\"9\", \"code\":\"1321\" }, {\"name\":\"전국매일신문\", \"type\":\"abc\", \"ccode\":\"9\", \"code\":\"2844\" }, {\"name\":\"전기신문\", \"type\":\"abc\", \"ccode\":\"9\", \"code\":\"2235\" }, {\"name\":\"전남매일\", \"type\":\"abc\", \"ccode\":\"9\", \"code\":\"2709\" }, {\"name\":\"전남일보\", \"type\":\"abc\", \"ccode\":\"9\", \"code\":\"2379\" }, {\"name\":\"전라일보\", \"type\":\"abc\", \"ccode\":\"9\", \"code\":\"2395\" }, {\"name\":\"전민일보\", \"type\":\"abc\", \"ccode\":\"9\", \"code\":\"2368\" }, {\"name\":\"전북도민일보\", \"type\":\"abc\", \"ccode\":\"9\", \"code\":\"2259\" }, {\"name\":\"전북일보\", \"type\":\"abc\", \"ccode\":\"9\", \"code\":\"2335\" }, {\"name\":\"전북중앙\", \"type\":\"abc\", \"ccode\":\"9\", \"code\":\"2599\" }, {\"name\":\"전자신문\", \"type\":\"abc\", \"ccode\":\"9\", \"code\":\"1030\" }, {\"name\":\"전주MBC\", \"type\":\"abc\", \"ccode\":\"9\", \"code\":\"1659\" }, {\"name\":\"점프볼\", \"type\":\"abc\", \"ccode\":\"9\", \"code\":\"1065\" }, {\"name\":\"정보통신신문\", \"type\":\"abc\", \"ccode\":\"9\", \"code\":\"2839\" }, {\"name\":\"정신의학신문\", \"type\":\"abc\", \"ccode\":\"9\", \"code\":\"2473\" }, {\"name\":\"정의당\", \"type\":\"abc\", \"ccode\":\"9\", \"code\":\"1426\" }, {\"name\":\"정책브리핑\", \"type\":\"abc\", \"ccode\":\"9\", \"code\":\"1298\" }, {\"name\":\"제민일보\", \"type\":\"abc\", \"ccode\":\"9\", \"code\":\"2158\" }, {\"name\":\"제주MBC\", \"type\":\"abc\", \"ccode\":\"9\", \"code\":\"2743\" }, {\"name\":\"제주교통복지신문\", \"type\":\"abc\", \"ccode\":\"9\", \"code\":\"2610\" }, {\"name\":\"제주도민일보\", \"type\":\"abc\", \"ccode\":\"9\", \"code\":\"2186\" }, {\"name\":\"제주매일\", \"type\":\"abc\", \"ccode\":\"9\", \"code\":\"2572\" }, {\"name\":\"제주의소리\", \"type\":\"abc\", \"ccode\":\"9\", \"code\":\"2085\" }, {\"name\":\"조석 카툰\", \"type\":\"abc\", \"ccode\":\"9\", \"code\":\"1360\" }, {\"name\":\"조선닷컴 인포그래픽스\", \"type\":\"abc\", \"ccode\":\"9\", \"code\":\"2306\" }, {\"name\":\"조선비즈\", \"type\":\"abc\", \"ccode\":\"9\", \"code\":\"1366\" }, {\"name\":\"조선에듀\", \"type\":\"abc\", \"ccode\":\"9\", \"code\":\"2546\" }, {\"name\":\"조선일보\", \"type\":\"abc\", \"ccode\":\"9\", \"code\":\"1023\" }, {\"name\":\"조세금융신문\", \"type\":\"abc\", \"ccode\":\"9\", \"code\":\"2412\" }, {\"name\":\"조세일보\", \"type\":\"abc\", \"ccode\":\"9\", \"code\":\"1123\" }, {\"name\":\"조이뉴스24\", \"type\":\"abc\", \"ccode\":\"9\", \"code\":\"2712\" }, {\"name\":\"주간경향\", \"type\":\"abc\", \"ccode\":\"9\", \"code\":\"1033\" }, {\"name\":\"주간동아\", \"type\":\"abc\", \"ccode\":\"9\", \"code\":\"1037\" }, {\"name\":\"주간조선\", \"type\":\"abc\", \"ccode\":\"9\", \"code\":\"1053\" }, {\"name\":\"주간한국\", \"type\":\"abc\", \"ccode\":\"9\", \"code\":\"2723\" }, {\"name\":\"주간한국\", \"type\":\"abc\", \"ccode\":\"9\", \"code\":\"1042\" }, {\"name\":\"중기이코노미\", \"type\":\"abc\", \"ccode\":\"9\", \"code\":\"2455\" }, {\"name\":\"중도일보\", \"type\":\"abc\", \"ccode\":\"9\", \"code\":\"2340\" }, {\"name\":\"중부매일\", \"type\":\"abc\", \"ccode\":\"9\", \"code\":\"2283\" }, {\"name\":\"중부일보\", \"type\":\"abc\", \"ccode\":\"9\", \"code\":\"2281\" }, {\"name\":\"중소기업뉴스\", \"type\":\"abc\", \"ccode\":\"9\", \"code\":\"2328\" }, {\"name\":\"중소기업신문\", \"type\":\"abc\", \"ccode\":\"9\", \"code\":\"2296\" }, {\"name\":\"중앙SUNDAY\", \"type\":\"abc\", \"ccode\":\"9\", \"code\":\"1353\" }, {\"name\":\"중앙대학교 SPORTS CAU\", \"type\":\"abc\", \"ccode\":\"9\", \"code\":\"1622\" }, {\"name\":\"중앙신문\", \"type\":\"abc\", \"ccode\":\"9\", \"code\":\"2876\" }, {\"name\":\"중앙일보\", \"type\":\"abc\", \"ccode\":\"9\", \"code\":\"1025\" }, {\"name\":\"중앙일보 헬스미디어\", \"type\":\"abc\", \"ccode\":\"9\", \"code\":\"2687\" }, {\"name\":\"증권경제신문\", \"type\":\"abc\", \"ccode\":\"9\", \"code\":\"2804\" }, {\"name\":\"지이코노미\", \"type\":\"abc\", \"ccode\":\"9\", \"code\":\"2633\" }, {\"name\":\"지피코리아\", \"type\":\"abc\", \"ccode\":\"9\", \"code\":\"2331\" }, {\"name\":\"직썰\", \"type\":\"abc\", \"ccode\":\"9\", \"code\":\"2489\" }, ] } , { \"name\": \"ㅊ\", \"list\": [ {\"name\":\"참세상\", \"type\":\"abc\", \"ccode\":\"10\", \"code\":\"2835\" }, {\"name\":\"참세상\", \"type\":\"abc\", \"ccode\":\"10\", \"code\":\"1152\" }, {\"name\":\"참여와혁신\", \"type\":\"abc\", \"ccode\":\"10\", \"code\":\"2495\" }, {\"name\":\"채널A\", \"type\":\"abc\", \"ccode\":\"10\", \"code\":\"1449\" }, {\"name\":\"채널예스\", \"type\":\"abc\", \"ccode\":\"10\", \"code\":\"2185\" }, {\"name\":\"천안시청축구단\", \"type\":\"abc\", \"ccode\":\"10\", \"code\":\"1626\" }, {\"name\":\"천지일보\", \"type\":\"abc\", \"ccode\":\"10\", \"code\":\"2041\" }, {\"name\":\"철강금속신문\", \"type\":\"abc\", \"ccode\":\"10\", \"code\":\"2343\" }, {\"name\":\"청년의사\", \"type\":\"abc\", \"ccode\":\"10\", \"code\":\"2229\" }, {\"name\":\"청년일보\", \"type\":\"abc\", \"ccode\":\"10\", \"code\":\"2686\" }, {\"name\":\"청와대\", \"type\":\"abc\", \"ccode\":\"10\", \"code\":\"1154\" }, {\"name\":\"청주FC\", \"type\":\"abc\", \"ccode\":\"10\", \"code\":\"1651\" }, {\"name\":\"초이스경제\", \"type\":\"abc\", \"ccode\":\"10\", \"code\":\"2256\" }, {\"name\":\"최종준 칼럼\", \"type\":\"abc\", \"ccode\":\"10\", \"code\":\"1494\" }, {\"name\":\"추신수 MLB 일기\", \"type\":\"abc\", \"ccode\":\"10\", \"code\":\"1512\" }, {\"name\":\"축구저널\", \"type\":\"abc\", \"ccode\":\"10\", \"code\":\"2436\" }, {\"name\":\"춘천MBC\", \"type\":\"abc\", \"ccode\":\"10\", \"code\":\"2742\" }, {\"name\":\"춘천시민축구단\", \"type\":\"abc\", \"ccode\":\"10\", \"code\":\"1616\" }, {\"name\":\"충남일보\", \"type\":\"abc\", \"ccode\":\"10\", \"code\":\"2347\" }, {\"name\":\"충북일보\", \"type\":\"abc\", \"ccode\":\"10\", \"code\":\"2231\" }, {\"name\":\"충주 험멜\", \"type\":\"abc\", \"ccode\":\"10\", \"code\":\"1491\" }, {\"name\":\"충청뉴스\", \"type\":\"abc\", \"ccode\":\"10\", \"code\":\"2569\" }, {\"name\":\"충청리뷰\", \"type\":\"abc\", \"ccode\":\"10\", \"code\":\"2699\" }, {\"name\":\"충청매일\", \"type\":\"abc\", \"ccode\":\"10\", \"code\":\"2278\" }, {\"name\":\"충청일보\", \"type\":\"abc\", \"ccode\":\"10\", \"code\":\"2116\" }, {\"name\":\"충청타임즈\", \"type\":\"abc\", \"ccode\":\"10\", \"code\":\"2498\" }, {\"name\":\"충청투데이\", \"type\":\"abc\", \"ccode\":\"10\", \"code\":\"2160\" }, {\"name\":\"치과신문\", \"type\":\"abc\", \"ccode\":\"10\", \"code\":\"2718\" }, {\"name\":\"친박신당\", \"type\":\"abc\", \"ccode\":\"10\", \"code\":\"1638\" }, ] } , { \"name\": \"ㅋ\", \"list\": [ {\"name\":\"카스포인트\", \"type\":\"abc\", \"ccode\":\"11\", \"code\":\"2336\" }, {\"name\":\"컨슈머치\", \"type\":\"abc\", \"ccode\":\"11\", \"code\":\"2777\" }, {\"name\":\"컨슈머타임스\", \"type\":\"abc\", \"ccode\":\"11\", \"code\":\"2174\" }, {\"name\":\"케미컬뉴스\", \"type\":\"abc\", \"ccode\":\"11\", \"code\":\"2853\" }, {\"name\":\"케이벤치\", \"type\":\"abc\", \"ccode\":\"11\", \"code\":\"2036\" }, {\"name\":\"코나스\", \"type\":\"abc\", \"ccode\":\"11\", \"code\":\"2134\" }, {\"name\":\"코딩월드뉴스\", \"type\":\"abc\", \"ccode\":\"11\", \"code\":\"2867\" }, {\"name\":\"코리아넷\", \"type\":\"abc\", \"ccode\":\"11\", \"code\":\"1441\" }, {\"name\":\"코리아쉬핑가제트\", \"type\":\"abc\", \"ccode\":\"11\", \"code\":\"2398\" }, {\"name\":\"코리아중앙데일리\", \"type\":\"abc\", \"ccode\":\"11\", \"code\":\"1640\" }, {\"name\":\"코리아타임스\", \"type\":\"abc\", \"ccode\":\"11\", \"code\":\"2668\" }, {\"name\":\"코리아헤럴드\", \"type\":\"abc\", \"ccode\":\"11\", \"code\":\"1044\" }, {\"name\":\"코리아헬스로그\", \"type\":\"abc\", \"ccode\":\"11\", \"code\":\"2066\" }, {\"name\":\"코메디닷컴\", \"type\":\"abc\", \"ccode\":\"11\", \"code\":\"1296\" }, {\"name\":\"코인데스크코리아\", \"type\":\"abc\", \"ccode\":\"11\", \"code\":\"2841\" }, {\"name\":\"코인리더스\", \"type\":\"abc\", \"ccode\":\"11\", \"code\":\"2676\" }, {\"name\":\"콩푸엉 일기\", \"type\":\"abc\", \"ccode\":\"11\", \"code\":\"1621\" }, {\"name\":\"쿠키뉴스\", \"type\":\"abc\", \"ccode\":\"11\", \"code\":\"1143\" }, {\"name\":\"쿡앤셰프\", \"type\":\"abc\", \"ccode\":\"11\", \"code\":\"2639\" }, {\"name\":\"크리스천투데이\", \"type\":\"abc\", \"ccode\":\"11\", \"code\":\"2047\" }, {\"name\":\"키즈맘\", \"type\":\"abc\", \"ccode\":\"11\", \"code\":\"2310\" }, {\"name\":\"킹존 드래곤X\", \"type\":\"abc\", \"ccode\":\"11\", \"code\":\"1617\" }, ] } , { \"name\": \"ㅌ\", \"list\": [ {\"name\":\"택스워치\", \"type\":\"abc\", \"ccode\":\"12\", \"code\":\"2757\" }, {\"name\":\"테니스코리아\", \"type\":\"abc\", \"ccode\":\"12\", \"code\":\"1481\" }, {\"name\":\"테니스피플\", \"type\":\"abc\", \"ccode\":\"12\", \"code\":\"2553\" }, {\"name\":\"테크M\", \"type\":\"abc\", \"ccode\":\"12\", \"code\":\"2447\" }, {\"name\":\"테크노아\", \"type\":\"abc\", \"ccode\":\"12\", \"code\":\"2048\" }, {\"name\":\"테크월드\", \"type\":\"abc\", \"ccode\":\"12\", \"code\":\"2752\" }, {\"name\":\"테크홀릭\", \"type\":\"abc\", \"ccode\":\"12\", \"code\":\"2404\" }, {\"name\":\"텐아시아\", \"type\":\"abc\", \"ccode\":\"12\", \"code\":\"1312\" }, {\"name\":\"토큰포스트\", \"type\":\"abc\", \"ccode\":\"12\", \"code\":\"2879\" }, {\"name\":\"톱데일리\", \"type\":\"abc\", \"ccode\":\"12\", \"code\":\"2648\" }, {\"name\":\"톱스타뉴스\", \"type\":\"abc\", \"ccode\":\"12\", \"code\":\"2353\" }, {\"name\":\"통일뉴스\", \"type\":\"abc\", \"ccode\":\"12\", \"code\":\"2387\" }, {\"name\":\"투데이신문\", \"type\":\"abc\", \"ccode\":\"12\", \"code\":\"2460\" }, {\"name\":\"투데이에너지\", \"type\":\"abc\", \"ccode\":\"12\", \"code\":\"2300\" }, {\"name\":\"투데이코리아\", \"type\":\"abc\", \"ccode\":\"12\", \"code\":\"2616\" }, {\"name\":\"투어코리아뉴스\", \"type\":\"abc\", \"ccode\":\"12\", \"code\":\"2675\" }, {\"name\":\"트래블투데이\", \"type\":\"abc\", \"ccode\":\"12\", \"code\":\"2664\" }, {\"name\":\"트래비\", \"type\":\"abc\", \"ccode\":\"12\", \"code\":\"2411\" }, {\"name\":\"티브이데일리\", \"type\":\"abc\", \"ccode\":\"12\", \"code\":\"1440\" }, {\"name\":\"티브이데일리\", \"type\":\"abc\", \"ccode\":\"12\", \"code\":\"2129\" }, {\"name\":\"티티엘뉴스\", \"type\":\"abc\", \"ccode\":\"12\", \"code\":\"2643\" }, ] } , { \"name\": \"ㅍ\", \"list\": [ {\"name\":\"ㅍㅍㅅㅅ\", \"type\":\"abc\", \"ccode\":\"13\", \"code\":\"2407\" }, {\"name\":\"파운드 매거진\", \"type\":\"abc\", \"ccode\":\"13\", \"code\":\"2225\" }, {\"name\":\"파이낸셜뉴스\", \"type\":\"abc\", \"ccode\":\"13\", \"code\":\"1014\" }, {\"name\":\"파이낸셜신문\", \"type\":\"abc\", \"ccode\":\"13\", \"code\":\"2781\" }, {\"name\":\"파이낸셜투데이\", \"type\":\"abc\", \"ccode\":\"13\", \"code\":\"2518\" }, {\"name\":\"팍스경제TV\", \"type\":\"abc\", \"ccode\":\"13\", \"code\":\"2802\" }, {\"name\":\"팍스넷뉴스\", \"type\":\"abc\", \"ccode\":\"13\", \"code\":\"2630\" }, {\"name\":\"팜뉴스\", \"type\":\"abc\", \"ccode\":\"13\", \"code\":\"2828\" }, {\"name\":\"팜앤마켓매거진\", \"type\":\"abc\", \"ccode\":\"13\", \"code\":\"2649\" }, {\"name\":\"팝콘뉴스\", \"type\":\"abc\", \"ccode\":\"13\", \"code\":\"2868\" }, {\"name\":\"패션비즈\", \"type\":\"abc\", \"ccode\":\"13\", \"code\":\"2272\" }, {\"name\":\"패션엔\", \"type\":\"abc\", \"ccode\":\"13\", \"code\":\"2456\" }, {\"name\":\"패션저널\", \"type\":\"abc\", \"ccode\":\"13\", \"code\":\"2073\" }, {\"name\":\"팩트TV\", \"type\":\"abc\", \"ccode\":\"13\", \"code\":\"2273\" }, {\"name\":\"퍼블릭뉴스\", \"type\":\"abc\", \"ccode\":\"13\", \"code\":\"2669\" }, {\"name\":\"페로타임즈\", \"type\":\"abc\", \"ccode\":\"13\", \"code\":\"2869\" }, {\"name\":\"페퍼저축은행 AI 페퍼스\", \"type\":\"abc\", \"ccode\":\"13\", \"code\":\"1653\" }, {\"name\":\"펜앤드마이크\", \"type\":\"abc\", \"ccode\":\"13\", \"code\":\"2786\" }, {\"name\":\"포모스\", \"type\":\"abc\", \"ccode\":\"13\", \"code\":\"1236\" }, {\"name\":\"포브스코리아\", \"type\":\"abc\", \"ccode\":\"13\", \"code\":\"2204\" }, {\"name\":\"포쓰저널\", \"type\":\"abc\", \"ccode\":\"13\", \"code\":\"2665\" }, {\"name\":\"포춘코리아\", \"type\":\"abc\", \"ccode\":\"13\", \"code\":\"2727\" }, {\"name\":\"포포투\", \"type\":\"abc\", \"ccode\":\"13\", \"code\":\"1411\" }, {\"name\":\"포항MBC\", \"type\":\"abc\", \"ccode\":\"13\", \"code\":\"2662\" }, {\"name\":\"푸드경제신문 organiclife\", \"type\":\"abc\", \"ccode\":\"13\", \"code\":\"2567\" }, {\"name\":\"풋볼리스트\", \"type\":\"abc\", \"ccode\":\"13\", \"code\":\"1436\" }, {\"name\":\"프라임경제\", \"type\":\"abc\", \"ccode\":\"13\", \"code\":\"2325\" }, {\"name\":\"프레스나인\", \"type\":\"abc\", \"ccode\":\"13\", \"code\":\"2201\" }, {\"name\":\"프레스맨\", \"type\":\"abc\", \"ccode\":\"13\", \"code\":\"2681\" }, {\"name\":\"프레시안\", \"type\":\"abc\", \"ccode\":\"13\", \"code\":\"1002\" }, {\"name\":\"플래텀\", \"type\":\"abc\", \"ccode\":\"13\", \"code\":\"2373\" }, {\"name\":\"플레이디비\", \"type\":\"abc\", \"ccode\":\"13\", \"code\":\"2627\" }, {\"name\":\"핀포인트뉴스\", \"type\":\"abc\", \"ccode\":\"13\", \"code\":\"2829\" }, ] } , { \"name\": \"ㅎ\", \"list\": [ {\"name\":\"하비엔\", \"type\":\"abc\", \"ccode\":\"14\", \"code\":\"2744\" }, {\"name\":\"하우징헤럴드\", \"type\":\"abc\", \"ccode\":\"14\", \"code\":\"2591\" }, {\"name\":\"하이닥\", \"type\":\"abc\", \"ccode\":\"14\", \"code\":\"2246\" }, {\"name\":\"하퍼스바자\", \"type\":\"abc\", \"ccode\":\"14\", \"code\":\"2634\" }, {\"name\":\"한강타임즈\", \"type\":\"abc\", \"ccode\":\"14\", \"code\":\"2290\" }, {\"name\":\"한게임 바둑\", \"type\":\"abc\", \"ccode\":\"14\", \"code\":\"1370\" }, {\"name\":\"한겨레\", \"type\":\"abc\", \"ccode\":\"14\", \"code\":\"1028\" }, {\"name\":\"한겨레21\", \"type\":\"abc\", \"ccode\":\"14\", \"code\":\"1036\" }, {\"name\":\"한경비즈니스\", \"type\":\"abc\", \"ccode\":\"14\", \"code\":\"1050\" }, {\"name\":\"한경잡앤조이\", \"type\":\"abc\", \"ccode\":\"14\", \"code\":\"2209\" }, {\"name\":\"한국3대3농구연맹\", \"type\":\"abc\", \"ccode\":\"14\", \"code\":\"1618\" }, {\"name\":\"한국강사신문\", \"type\":\"abc\", \"ccode\":\"14\", \"code\":\"2566\" }, {\"name\":\"한국경제\", \"type\":\"abc\", \"ccode\":\"14\", \"code\":\"1015\" }, {\"name\":\"한국경제TV\", \"type\":\"abc\", \"ccode\":\"14\", \"code\":\"1004\" }, {\"name\":\"한국교육신문\", \"type\":\"abc\", \"ccode\":\"14\", \"code\":\"2224\" }, {\"name\":\"한국금융신문\", \"type\":\"abc\", \"ccode\":\"14\", \"code\":\"2040\" }, {\"name\":\"한국기독공보\", \"type\":\"abc\", \"ccode\":\"14\", \"code\":\"2218\" }, {\"name\":\"한국농어민신문\", \"type\":\"abc\", \"ccode\":\"14\", \"code\":\"2396\" }, {\"name\":\"한국농어촌방송\", \"type\":\"abc\", \"ccode\":\"14\", \"code\":\"2555\" }, {\"name\":\"한국농업신문\", \"type\":\"abc\", \"ccode\":\"14\", \"code\":\"2367\" }, {\"name\":\"한국농정신문\", \"type\":\"abc\", \"ccode\":\"14\", \"code\":\"2414\" }, {\"name\":\"한국농촌경제신문\", \"type\":\"abc\", \"ccode\":\"14\", \"code\":\"2663\" }, {\"name\":\"한국대학스포츠협의회\", \"type\":\"abc\", \"ccode\":\"14\", \"code\":\"1573\" }, {\"name\":\"한국대학신문\", \"type\":\"abc\", \"ccode\":\"14\", \"code\":\"2189\" }, {\"name\":\"한국면세뉴스\", \"type\":\"abc\", \"ccode\":\"14\", \"code\":\"2638\" }, {\"name\":\"한국목재신문\", \"type\":\"abc\", \"ccode\":\"14\", \"code\":\"2523\" }, {\"name\":\"한국무역신문\", \"type\":\"abc\", \"ccode\":\"14\", \"code\":\"2147\" }, {\"name\":\"한국배구연맹\", \"type\":\"abc\", \"ccode\":\"14\", \"code\":\"1352\" }, {\"name\":\"한국보험신문\", \"type\":\"abc\", \"ccode\":\"14\", \"code\":\"2056\" }, {\"name\":\"한국섬유신문\", \"type\":\"abc\", \"ccode\":\"14\", \"code\":\"2381\" }, {\"name\":\"한국스포츠개발원\", \"type\":\"abc\", \"ccode\":\"14\", \"code\":\"1593\" }, {\"name\":\"한국스포츠통신\", \"type\":\"abc\", \"ccode\":\"14\", \"code\":\"2672\" }, {\"name\":\"한국아파트신문\", \"type\":\"abc\", \"ccode\":\"14\", \"code\":\"2870\" }, {\"name\":\"한국영농신문\", \"type\":\"abc\", \"ccode\":\"14\", \"code\":\"2548\" }, {\"name\":\"한국원자력신문\", \"type\":\"abc\", \"ccode\":\"14\", \"code\":\"2871\" }, {\"name\":\"한국일보\", \"type\":\"abc\", \"ccode\":\"14\", \"code\":\"1469\" }, {\"name\":\"한국정경신문\", \"type\":\"abc\", \"ccode\":\"14\", \"code\":\"2503\" }, {\"name\":\"한국체대 KNSB\", \"type\":\"abc\", \"ccode\":\"14\", \"code\":\"1620\" }, {\"name\":\"한국풋살연맹\", \"type\":\"abc\", \"ccode\":\"14\", \"code\":\"1625\" }, {\"name\":\"한국프로볼링협회\", \"type\":\"abc\", \"ccode\":\"14\", \"code\":\"1592\" }, {\"name\":\"한국프로축구선수협회\", \"type\":\"abc\", \"ccode\":\"14\", \"code\":\"1628\" }, {\"name\":\"한스경제\", \"type\":\"abc\", \"ccode\":\"14\", \"code\":\"2438\" }, {\"name\":\"한양대학교 사자후\", \"type\":\"abc\", \"ccode\":\"14\", \"code\":\"1569\" }, {\"name\":\"한의신문\", \"type\":\"abc\", \"ccode\":\"14\", \"code\":\"2530\" }, {\"name\":\"한준 칼럼\", \"type\":\"abc\", \"ccode\":\"14\", \"code\":\"1431\" }, {\"name\":\"한화생명e스포츠\", \"type\":\"abc\", \"ccode\":\"14\", \"code\":\"1598\" }, {\"name\":\"함께걸음\", \"type\":\"abc\", \"ccode\":\"14\", \"code\":\"2124\" }, {\"name\":\"핸드메이커\", \"type\":\"abc\", \"ccode\":\"14\", \"code\":\"2851\" }, {\"name\":\"허프포스트코리아\", \"type\":\"abc\", \"ccode\":\"14\", \"code\":\"2384\" }, {\"name\":\"헤드라인제주\", \"type\":\"abc\", \"ccode\":\"14\", \"code\":\"2267\" }, {\"name\":\"헤럴드POP\", \"type\":\"abc\", \"ccode\":\"14\", \"code\":\"1112\" }, {\"name\":\"헤럴드경제\", \"type\":\"abc\", \"ccode\":\"14\", \"code\":\"1016\" }, {\"name\":\"헤모필리아라이프\", \"type\":\"abc\", \"ccode\":\"14\", \"code\":\"2504\" }, {\"name\":\"헬로디디\", \"type\":\"abc\", \"ccode\":\"14\", \"code\":\"2409\" }, {\"name\":\"헬로티\", \"type\":\"abc\", \"ccode\":\"14\", \"code\":\"2417\" }, {\"name\":\"헬스경향\", \"type\":\"abc\", \"ccode\":\"14\", \"code\":\"2534\" }, {\"name\":\"헬스인뉴스\", \"type\":\"abc\", \"ccode\":\"14\", \"code\":\"2817\" }, {\"name\":\"헬스조선\", \"type\":\"abc\", \"ccode\":\"14\", \"code\":\"1346\" }, {\"name\":\"현대경제신문\", \"type\":\"abc\", \"ccode\":\"14\", \"code\":\"2288\" }, {\"name\":\"현대불교신문\", \"type\":\"abc\", \"ccode\":\"14\", \"code\":\"2422\" }, {\"name\":\"현대축산뉴스\", \"type\":\"abc\", \"ccode\":\"14\", \"code\":\"2057\" }, {\"name\":\"현대해양\", \"type\":\"abc\", \"ccode\":\"14\", \"code\":\"2682\" }, {\"name\":\"홍기자 칼럼\", \"type\":\"abc\", \"ccode\":\"14\", \"code\":\"1459\" }, {\"name\":\"홍익대 홍대신문\", \"type\":\"abc\", \"ccode\":\"14\", \"code\":\"1647\" }, {\"name\":\"화이트페이퍼\", \"type\":\"abc\", \"ccode\":\"14\", \"code\":\"2120\" }, {\"name\":\"환경과조경\", \"type\":\"abc\", \"ccode\":\"14\", \"code\":\"2637\" }, {\"name\":\"후생신보\", \"type\":\"abc\", \"ccode\":\"14\", \"code\":\"2619\" }, {\"name\":\"흥국생명 핑크스파이더스\", \"type\":\"abc\", \"ccode\":\"14\", \"code\":\"1606\" }, ] } , { \"name\": \"ABC\", \"list\": [ {\"name\":\"AI타임스\", \"type\":\"abc\", \"ccode\":\"15\", \"code\":\"2746\" }, {\"name\":\"allure\", \"type\":\"abc\", \"ccode\":\"15\", \"code\":\"2304\" }, {\"name\":\"AP신문\", \"type\":\"abc\", \"ccode\":\"15\", \"code\":\"2793\" }, {\"name\":\"BBC\", \"type\":\"abc\", \"ccode\":\"15\", \"code\":\"2741\" }, {\"name\":\"BBS NEWS\", \"type\":\"abc\", \"ccode\":\"15\", \"code\":\"2019\" }, {\"name\":\"bnt뉴스\", \"type\":\"abc\", \"ccode\":\"15\", \"code\":\"2191\" }, {\"name\":\"BTN불교TV\", \"type\":\"abc\", \"ccode\":\"15\", \"code\":\"2423\" }, {\"name\":\"CBC뉴스\", \"type\":\"abc\", \"ccode\":\"15\", \"code\":\"2785\" }, {\"name\":\"CCTV뉴스\", \"type\":\"abc\", \"ccode\":\"15\", \"code\":\"2298\" }, {\"name\":\"CEO스코어데일리\", \"type\":\"abc\", \"ccode\":\"15\", \"code\":\"2243\" }, {\"name\":\"CHIEF EXECUTIVE\", \"type\":\"abc\", \"ccode\":\"15\", \"code\":\"2833\" }, {\"name\":\"CIO Korea\", \"type\":\"abc\", \"ccode\":\"15\", \"code\":\"2177\" }, {\"name\":\"CJB청주방송\", \"type\":\"abc\", \"ccode\":\"15\", \"code\":\"1655\" }, {\"name\":\"CMB광주방송\", \"type\":\"abc\", \"ccode\":\"15\", \"code\":\"2508\" }, {\"name\":\"CMB대전방송\", \"type\":\"abc\", \"ccode\":\"15\", \"code\":\"2450\" }, {\"name\":\"CNB뉴스\", \"type\":\"abc\", \"ccode\":\"15\", \"code\":\"2293\" }, {\"name\":\"CNB저널\", \"type\":\"abc\", \"ccode\":\"15\", \"code\":\"2127\" }, {\"name\":\"CTS\", \"type\":\"abc\", \"ccode\":\"15\", \"code\":\"2558\" }, {\"name\":\"EBN\", \"type\":\"abc\", \"ccode\":\"15\", \"code\":\"2093\" }, {\"name\":\"EBS\", \"type\":\"abc\", \"ccode\":\"15\", \"code\":\"2099\" }, {\"name\":\"e대한경제\", \"type\":\"abc\", \"ccode\":\"15\", \"code\":\"2138\" }, {\"name\":\"e의료정보\", \"type\":\"abc\", \"ccode\":\"15\", \"code\":\"2740\" }, {\"name\":\"FETV\", \"type\":\"abc\", \"ccode\":\"15\", \"code\":\"2484\" }, {\"name\":\"FPN\", \"type\":\"abc\", \"ccode\":\"15\", \"code\":\"2070\" }, {\"name\":\"FT스포츠\", \"type\":\"abc\", \"ccode\":\"15\", \"code\":\"2838\" }, {\"name\":\"G1방송\", \"type\":\"abc\", \"ccode\":\"15\", \"code\":\"2402\" }, {\"name\":\"GQ\", \"type\":\"abc\", \"ccode\":\"15\", \"code\":\"2302\" }, {\"name\":\"G밸리뉴스\", \"type\":\"abc\", \"ccode\":\"15\", \"code\":\"2206\" }, {\"name\":\"HCN 새로넷방송\", \"type\":\"abc\", \"ccode\":\"15\", \"code\":\"2708\" }, {\"name\":\"ifspost\", \"type\":\"abc\", \"ccode\":\"15\", \"code\":\"2625\" }, {\"name\":\"ITWorld\", \"type\":\"abc\", \"ccode\":\"15\", \"code\":\"2110\" }, {\"name\":\"IT동아\", \"type\":\"abc\", \"ccode\":\"15\", \"code\":\"2313\" }, {\"name\":\"IT비즈뉴스\", \"type\":\"abc\", \"ccode\":\"15\", \"code\":\"2795\" }, {\"name\":\"IT조선\", \"type\":\"abc\", \"ccode\":\"15\", \"code\":\"2242\" }, {\"name\":\"JIBS\", \"type\":\"abc\", \"ccode\":\"15\", \"code\":\"1661\" }, {\"name\":\"JTBC\", \"type\":\"abc\", \"ccode\":\"15\", \"code\":\"1437\" }, {\"name\":\"JTBC GOLF\", \"type\":\"abc\", \"ccode\":\"15\", \"code\":\"1470\" }, {\"name\":\"JTV전주방송\", \"type\":\"abc\", \"ccode\":\"15\", \"code\":\"2847\" }, {\"name\":\"K STAR\", \"type\":\"abc\", \"ccode\":\"15\", \"code\":\"2245\" }, {\"name\":\"kbc광주방송\", \"type\":\"abc\", \"ccode\":\"15\", \"code\":\"1660\" }, {\"name\":\"KBR\", \"type\":\"abc\", \"ccode\":\"15\", \"code\":\"2694\" }, {\"name\":\"KBS\", \"type\":\"abc\", \"ccode\":\"15\", \"code\":\"1056\" }, {\"name\":\"KBS 연예\", \"type\":\"abc\", \"ccode\":\"15\", \"code\":\"1438\" }, {\"name\":\"KBSN 스포츠\", \"type\":\"abc\", \"ccode\":\"15\", \"code\":\"1451\" }, {\"name\":\"KGC인삼공사프로배구단\", \"type\":\"abc\", \"ccode\":\"15\", \"code\":\"1611\" }, {\"name\":\"KNN\", \"type\":\"abc\", \"ccode\":\"15\", \"code\":\"2167\" }, {\"name\":\"Korea IT Times\", \"type\":\"abc\", \"ccode\":\"15\", \"code\":\"2187\" }, {\"name\":\"KOTRA해외시장뉴스\", \"type\":\"abc\", \"ccode\":\"15\", \"code\":\"2834\" }, {\"name\":\"kt 롤스터\", \"type\":\"abc\", \"ccode\":\"15\", \"code\":\"1537\" }, {\"name\":\"KTV국민방송\", \"type\":\"abc\", \"ccode\":\"15\", \"code\":\"2108\" }, {\"name\":\"K스피릿\", \"type\":\"abc\", \"ccode\":\"15\", \"code\":\"2856\" }, {\"name\":\"LG헬로비전\", \"type\":\"abc\", \"ccode\":\"15\", \"code\":\"2698\" }, {\"name\":\"MBC\", \"type\":\"abc\", \"ccode\":\"15\", \"code\":\"1214\" }, {\"name\":\"MBC SPORTS+\", \"type\":\"abc\", \"ccode\":\"15\", \"code\":\"1049\" }, {\"name\":\"MBC강원영동\", \"type\":\"abc\", \"ccode\":\"15\", \"code\":\"2477\" }, {\"name\":\"MBC경남\", \"type\":\"abc\", \"ccode\":\"15\", \"code\":\"2805\" }, {\"name\":\"MBC연예\", \"type\":\"abc\", \"ccode\":\"15\", \"code\":\"1408\" }, {\"name\":\"MBC충북\", \"type\":\"abc\", \"ccode\":\"15\", \"code\":\"2490\" }, {\"name\":\"MBN\", \"type\":\"abc\", \"ccode\":\"15\", \"code\":\"1019\" }, {\"name\":\"MHN스포츠\", \"type\":\"abc\", \"ccode\":\"15\", \"code\":\"1445\" }, {\"name\":\"MK스포츠\", \"type\":\"abc\", \"ccode\":\"15\", \"code\":\"1410\" }, {\"name\":\"MS투데이\", \"type\":\"abc\", \"ccode\":\"15\", \"code\":\"2852\" }, {\"name\":\"MTN\", \"type\":\"abc\", \"ccode\":\"15\", \"code\":\"2151\" }, {\"name\":\"M이코노미\", \"type\":\"abc\", \"ccode\":\"15\", \"code\":\"2180\" }, {\"name\":\"NSP통신\", \"type\":\"abc\", \"ccode\":\"15\", \"code\":\"2025\" }, {\"name\":\"OBS\", \"type\":\"abc\", \"ccode\":\"15\", \"code\":\"2155\" }, {\"name\":\"OBS TV\", \"type\":\"abc\", \"ccode\":\"15\", \"code\":\"1427\" }, {\"name\":\"OSEN\", \"type\":\"abc\", \"ccode\":\"15\", \"code\":\"1109\" }, {\"name\":\"PC사랑\", \"type\":\"abc\", \"ccode\":\"15\", \"code\":\"2198\" }, {\"name\":\"PD저널\", \"type\":\"abc\", \"ccode\":\"15\", \"code\":\"2042\" }, {\"name\":\"Queen\", \"type\":\"abc\", \"ccode\":\"15\", \"code\":\"2472\" }, {\"name\":\"RANK5\", \"type\":\"abc\", \"ccode\":\"15\", \"code\":\"2734\" }, {\"name\":\"RPM9\", \"type\":\"abc\", \"ccode\":\"15\", \"code\":\"2308\" }, {\"name\":\"S-저널\", \"type\":\"abc\", \"ccode\":\"15\", \"code\":\"2877\" }, {\"name\":\"SBS\", \"type\":\"abc\", \"ccode\":\"15\", \"code\":\"1055\" }, {\"name\":\"SBS Biz\", \"type\":\"abc\", \"ccode\":\"15\", \"code\":\"1374\" }, {\"name\":\"SBS Golf\", \"type\":\"abc\", \"ccode\":\"15\", \"code\":\"2314\" }, {\"name\":\"SBS SPORTS\", \"type\":\"abc\", \"ccode\":\"15\", \"code\":\"1464\" }, {\"name\":\"SBS연예뉴스\", \"type\":\"abc\", \"ccode\":\"15\", \"code\":\"1416\" }, {\"name\":\"SK브로드밴드\", \"type\":\"abc\", \"ccode\":\"15\", \"code\":\"2556\" }, {\"name\":\"SPACE(공간)\", \"type\":\"abc\", \"ccode\":\"15\", \"code\":\"2846\" }, {\"name\":\"SR타임스\", \"type\":\"abc\", \"ccode\":\"15\", \"code\":\"2589\" }, {\"name\":\"STAT 칼럼\", \"type\":\"abc\", \"ccode\":\"15\", \"code\":\"1564\" }, {\"name\":\"STN 스포츠\", \"type\":\"abc\", \"ccode\":\"15\", \"code\":\"1450\" }, {\"name\":\"TBC대구방송\", \"type\":\"abc\", \"ccode\":\"15\", \"code\":\"2375\" }, {\"name\":\"TBS\", \"type\":\"abc\", \"ccode\":\"15\", \"code\":\"2233\" }, {\"name\":\"Team LoL 칼럼\", \"type\":\"abc\", \"ccode\":\"15\", \"code\":\"1502\" }, {\"name\":\"The New York Times\", \"type\":\"abc\", \"ccode\":\"15\", \"code\":\"2747\" }, {\"name\":\"The Sun\", \"type\":\"abc\", \"ccode\":\"15\", \"code\":\"1496\" }, {\"name\":\"TJB 대전방송\", \"type\":\"abc\", \"ccode\":\"15\", \"code\":\"2451\" }, {\"name\":\"Tomorrow\", \"type\":\"abc\", \"ccode\":\"15\", \"code\":\"2559\" }, {\"name\":\"topclass\", \"type\":\"abc\", \"ccode\":\"15\", \"code\":\"2265\" }, {\"name\":\"TV리포트\", \"type\":\"abc\", \"ccode\":\"15\", \"code\":\"1213\" }, {\"name\":\"TV조선\", \"type\":\"abc\", \"ccode\":\"15\", \"code\":\"1448\" }, {\"name\":\"ubc울산방송\", \"type\":\"abc\", \"ccode\":\"15\", \"code\":\"2794\" }, {\"name\":\"UPI뉴스\", \"type\":\"abc\", \"ccode\":\"15\", \"code\":\"2372\" }, {\"name\":\"VOA\", \"type\":\"abc\", \"ccode\":\"15\", \"code\":\"2087\" }, {\"name\":\"VOGUE\", \"type\":\"abc\", \"ccode\":\"15\", \"code\":\"2301\" }, {\"name\":\"VOGUE girl\", \"type\":\"abc\", \"ccode\":\"15\", \"code\":\"2303\" }, {\"name\":\"W\", \"type\":\"abc\", \"ccode\":\"15\", \"code\":\"2305\" }, {\"name\":\"YTN\", \"type\":\"abc\", \"ccode\":\"15\", \"code\":\"1052\" }, {\"name\":\"YTN라디오\", \"type\":\"abc\", \"ccode\":\"15\", \"code\":\"2251\" }, {\"name\":\"YTN사이언스\", \"type\":\"abc\", \"ccode\":\"15\", \"code\":\"2221\" }, {\"name\":\"ZDNet Korea\", \"type\":\"abc\", \"ccode\":\"15\", \"code\":\"1092\" }, {\"name\":\"中요한 기자들\", \"type\":\"abc\", \"ccode\":\"15\", \"code\":\"1531\" }, {\"name\":\"美스테리한 기자들\", \"type\":\"abc\", \"ccode\":\"15\", \"code\":\"1561\" }, ] } ] } ] }); oSearchOption.on({ \"selectCalendar\": function(e) { var param = e.param; var startDate = e.startDate; var endDate = e.endDate; var start = startDate.year + \".\" + startDate.month + \".\" + startDate.date; var end = endDate.year + \".\" + endDate.month + \".\" + endDate.date; news_submit_period_option_custom(start, end); }, \"selectCsb\": function(e) { var type = e.$item.data(\"type\"); var ccode = e.$item.data(\"ccode\"); var code = e.$item.data(\"code\"); news_submit_office_option(type, ccode, code); } }); }); }; var requirejs = naver.common.gv.REQUIRE_JS; naver.common.load_js(window.require ? null : requirejs, startApplication, true, 150); })(); </script> <section class=\"sc_new sp_nnews _prs_nws\"> <div class=\"api_subject_bx\"> <div class=\"news_pick_area\"> <a class=\"spnew_af pick_link\" href=\"https://news.naver.com/main/static/channelPromotion.html\" onclick=\"return goOtherCR(this, 'a=upr.pick&amp;u='+urlencode(this.href));\" target=\"_blank\"> <i class=\"spnew ico_pick\">언론사 선정</i>언론사가 선정한 주요기사 혹은 심층기획 기사입니다. </a> </div><div class=\"group_news\"> <ul class=\"list_news\"> <li class=\"bx\" id=\"sp_nws72\"> <div class=\"news_wrap api_ani_send\"> <div class=\"news_area\"> <div class=\"news_info\"> <div class=\"api_save_group _keep_wrap\"> <a aria-pressed=\"false\" class=\"btn_save _keep_trigger\" data-url=\"https://www.mk.co.kr/economy/view/2022/378849\" href=\"#\" onclick=\"tCR('a=nws*h.kep&amp;r=72&amp;i=880000BE_000000000000000000074741&amp;u=javascript'); return false;\" role=\"button\"><i class=\"spnew ico_save\">문서 저장하기</i></a> <div class=\"api_ly_save _keep_save_layer\"> <a class=\"spnew_af item item_save _keep_save\" data-cr-off=\"a=nws*h.kepoff&amp;r=72&amp;i=880000BE_000000000000000000074741&amp;u=javascript\" data-cr-on=\"a=nws*h.kepon&amp;r=72&amp;i=880000BE_000000000000000000074741&amp;u=javascript\" href=\"#\" role=\"button\">Keep에 저장</a> <a class=\"spnew_af item item_quick\" href=\"https://keep.naver.com/\" onclick=\"return goOtherCR(this,'a=nws*h.kephome&amp;r=72&amp;i=880000BE_000000000000000000074741&amp;u='+urlencode(this.href));\" target=\"_blank\">Keep 바로가기</a> </div></div><div class=\"info_group\"> <a class=\"info press\" href=\"http://www.mkeconomy.com/\" onclick=\"return goOtherCR(this, 'a=nws*h.prof&amp;r=72&amp;i=880000BE_000000000000000000074741&amp;g=024.0000074741&amp;u='+urlencode(this.href));\" target=\"_blank\"><span class=\"thumb_box\"><img alt=\"\" class=\"thumb\" height=\"20\" onerror=\"this.src='data:image/gif;base64,R0lGODlhAQABAIAAAAAAAP///yH5BAEAAAAALAAAAAABAAEAAAIBRAA7';this.className='thumb bg_default_press'\" src=\"https://search.pstatic.net/common/?src=https%3A%2F%2Fmimgnews.pstatic.net%2Fimage%2Fupload%2Foffice_logo%2F024%2F2017%2F01%2F05%2Flogo_024_18_20170105111205.png&amp;type=f54_54&amp;expire=24&amp;refresh=true\" width=\"20\"/></span>매경이코노미<i class=\"spnew ico_pick\">언론사 선정</i></a><span class=\"info\">5일 전</span><a class=\"info\" href=\"https://news.naver.com/main/read.naver?mode=LSD&amp;mid=sec&amp;sid1=101&amp;oid=024&amp;aid=0000074741\" onclick=\"return goOtherCR(this, 'a=nws*h.nav&amp;r=72&amp;i=880000BE_000000000000000000074741&amp;u='+urlencode(this.href));\" target=\"_blank\">네이버뉴스</a> </div></div><a class=\"news_tit\" href=\"https://www.mk.co.kr/economy/view/2022/378849\" onclick=\"return goOtherCR(this, 'a=nws*h.tit&amp;r=72&amp;i=880000BE_000000000000000000074741&amp;g=024.0000074741&amp;u='+urlencode(this.href));\" target=\"_blank\" title=\"'신규 상장' 포바이포, 상장 첫날 '따상' 해냈다\">'신규 상장' <mark>포바이포</mark>, 상장 첫날 '따상' 해냈다</a> <div class=\"news_dsc\"> <div class=\"dsc_wrap\"> <a class=\"api_txt_lines dsc_txt_wrap\" href=\"https://www.mk.co.kr/economy/view/2022/378849\" onclick=\"return goOtherCR(this, 'a=nws*h.body&amp;r=72&amp;i=880000BE_000000000000000000074741&amp;g=024.0000074741&amp;u='+urlencode(this.href));\" target=\"_blank\">4월 28일 코스닥시장에서 메타버스 기업 <mark>포바이포</mark>가 상장 첫날 '따상'에 성공했다. 따상은 시초가가 공모가의 2배로 형성된 뒤 상한가를 기록할 때 쓰는 표현이다. <mark>포바이포</mark>는 28일 코스닥 시장에서 공모가 1만...</a> </div></div></div><a class=\"dsc_thumb\" href=\"https://www.mk.co.kr/economy/view/2022/378849\" onclick=\"return goOtherCR(this, 'a=nws*h.img&amp;r=72&amp;i=880000BE_000000000000000000074741&amp;g=024.0000074741&amp;u='+urlencode(this.href));\" target=\"_blank\"><img alt=\"‘신규 상장‘ 포바이포\" class=\"thumb api_get\" height=\"90\" onerror=\"this.parentNode.style.display='none';\" src=\"https://search.pstatic.net/common/?src=https%3A%2F%2Fimgnews.pstatic.net%2Fimage%2Forigin%2F024%2F2022%2F04%2F28%2F74741.jpg&amp;type=ff264_180&amp;expire=2&amp;refresh=true\" width=\"132\"/></a> </div><div class=\"news_cluster\"> <ul class=\"list_cluster\"> <li class=\"sub_bx\"> <span class=\"sub_wrap\"> <span class=\"sub_area\"> <cite class=\"sub_txt press\" title=\"이코노미스트\">이코노미스트<i class=\"spnew ico_pick\">언론사 선정</i></cite><span class=\"sub_txt\">5일 전</span><a class=\"sub_txt\" href=\"https://news.naver.com/main/read.naver?mode=LSD&amp;mid=sec&amp;sid1=101&amp;oid=243&amp;aid=0000025856\" onclick=\"return goOtherCR(this, 'a=nws*i.nav&amp;r=73&amp;i=880002EC_000000000000000000025856&amp;u='+urlencode(this.href));\" target=\"_blank\">네이버뉴스</a> </span><a class=\"elss sub_tit\" href=\"https://economist.co.kr/2022/04/28/stock/stockNormal/20220428095439015.html\" onclick=\"return goOtherCR(this, 'a=nws*i.tit&amp;r=73&amp;i=880002EC_000000000000000000025856&amp;g=243.0000025856&amp;u='+urlencode(this.href));\" target=\"_blank\" title=\"메타버스 새내기주 포바이포 상장 첫날 ‘따상’ [증시이슈]\">메타버스 새내기주 <mark>포바이포</mark> 상장 첫날 ‘따상’ [증시이슈]</a> </span></li> <li class=\"sub_bx\"> <span class=\"sub_wrap\"> <span class=\"sub_area\"> <cite class=\"sub_txt press\" title=\"연합뉴스\">연합뉴스</cite><span class=\"sub_txt\">5일 전</span><a class=\"sub_txt\" href=\"https://news.naver.com/main/read.naver?mode=LSD&amp;mid=sec&amp;sid1=101&amp;oid=001&amp;aid=0013143293\" onclick=\"return goOtherCR(this, 'a=nws*c.nav&amp;r=74&amp;i=880000D8_000000000000000013143293&amp;u='+urlencode(this.href));\" target=\"_blank\">네이버뉴스</a> </span><a class=\"elss sub_tit\" href=\"https://www.yna.co.kr/view/AKR20220428039100002?input=1195m\" onclick=\"return goOtherCR(this, 'a=nws*c.tit&amp;r=74&amp;i=880000D8_000000000000000013143293&amp;g=001.0013143293&amp;u='+urlencode(this.href));\" target=\"_blank\" title=\"[특징주] 포바이포, 코스닥 상장 첫날 '따상'\">[특징주] <mark>포바이포</mark>, 코스닥 상장 첫날 '따상'</a> </span></li> <li class=\"sub_bx\"> <span class=\"sub_wrap\"> <span class=\"sub_area\"> <cite class=\"sub_txt press\" title=\"한국경제TV\">한국경제TV<i class=\"spnew ico_pick\">언론사 선정</i></cite><span class=\"sub_txt\">5일 전</span><a class=\"sub_txt\" href=\"https://news.naver.com/main/read.naver?mode=LSD&amp;mid=sec&amp;sid1=101&amp;oid=215&amp;aid=0001028412\" onclick=\"return goOtherCR(this, 'a=nws*i.nav&amp;r=75&amp;i=88000149_000000000000000001028412&amp;u='+urlencode(this.href));\" target=\"_blank\">네이버뉴스</a> </span><a class=\"elss sub_tit\" href=\"http://www.wowtv.co.kr/NewsCenter/News/Read?articleId=A202204280129&amp;t=NN\" onclick=\"return goOtherCR(this, 'a=nws*i.tit&amp;r=75&amp;i=88000149_000000000000000001028412&amp;g=215.0001028412&amp;u='+urlencode(this.href));\" target=\"_blank\" title=\"14조원 끌어 모은 포바이포…코스닥 상장 첫날 '따상'\">14조원 끌어 모은 <mark>포바이포</mark>…코스닥 상장 첫날 '따상'</a> </span></li> <li class=\"sub_bx\"> <span class=\"sub_wrap\"> <span class=\"sub_area\"> <cite class=\"sub_txt press\" title=\"연합뉴스\">연합뉴스</cite><span class=\"sub_txt\">5일 전</span><a class=\"sub_txt\" href=\"https://news.naver.com/main/read.naver?mode=LSD&amp;mid=sec&amp;sid1=101&amp;oid=001&amp;aid=0013145010\" onclick=\"return goOtherCR(this, 'a=nws*c.nav&amp;r=76&amp;i=880000D8_000000000000000013145010&amp;u='+urlencode(this.href));\" target=\"_blank\">네이버뉴스</a> </span><a class=\"elss sub_tit\" href=\"https://www.yna.co.kr/view/AKR20220428039151002?input=1195m\" onclick=\"return goOtherCR(this, 'a=nws*c.tit&amp;r=76&amp;i=880000D8_000000000000000013145010&amp;g=001.0013145010&amp;u='+urlencode(this.href));\" target=\"_blank\" title=\"[특징주] 포바이포, 코스닥 상장 첫날 '따상'(종합)\">[특징주] <mark>포바이포</mark>, 코스닥 상장 첫날 '따상'(종합)</a> </span></li> </ul></div><a class=\"news_more\" href=\"?where=news&amp;sm=tab_tnw&amp;query=%ED%8F%AC%EB%B0%94%EC%9D%B4%ED%8F%AC&amp;sort=0&amp;photo=0&amp;field=0&amp;pd=3&amp;ds=2022.03.29&amp;de=2022.04.28&amp;mynews=0&amp;office_type=0&amp;office_section_code=0&amp;news_office_checked=&amp;related=1&amp;docid=0240000074741&amp;nso=so:r,p:from20220329to20220428,a:all\" onclick=\"return goOtherCR(this, 'a=nws*r.more&amp;u='+urlencode(urlexpand(this.href)));\">관련뉴스 47건 전체보기<i class=\"spnew ico_arrow\"></i></a> </li> <li class=\"bx\" id=\"sp_nws77\"> <div class=\"news_wrap api_ani_send\"> <div class=\"news_area\"> <div class=\"news_info\"> <div class=\"api_save_group _keep_wrap\"> <a aria-pressed=\"false\" class=\"btn_save _keep_trigger\" data-url=\"http://www.newsis.com/view/?id=NISX20220428_0001851241&amp;cID=15001&amp;pID=15000\" href=\"#\" onclick=\"tCR('a=nws*a.kep&amp;r=77&amp;i=88000127_000000000000000011150876&amp;u=javascript'); return false;\" role=\"button\"><i class=\"spnew ico_save\">문서 저장하기</i></a> <div class=\"api_ly_save _keep_save_layer\"> <a class=\"spnew_af item item_save _keep_save\" data-cr-off=\"a=nws*a.kepoff&amp;r=77&amp;i=88000127_000000000000000011150876&amp;u=javascript\" data-cr-on=\"a=nws*a.kepon&amp;r=77&amp;i=88000127_000000000000000011150876&amp;u=javascript\" href=\"#\" role=\"button\">Keep에 저장</a> <a class=\"spnew_af item item_quick\" href=\"https://keep.naver.com/\" onclick=\"return goOtherCR(this,'a=nws*a.kephome&amp;r=77&amp;i=88000127_000000000000000011150876&amp;u='+urlencode(this.href));\" target=\"_blank\">Keep 바로가기</a> </div></div><div class=\"info_group\"> <a class=\"info press\" href=\"http://www.newsis.com\" onclick=\"return goOtherCR(this, 'a=nws*a.prof&amp;r=77&amp;i=88000127_000000000000000011150876&amp;g=003.0011150876&amp;u='+urlencode(this.href));\" target=\"_blank\"><span class=\"thumb_box\"><img alt=\"\" class=\"thumb\" height=\"20\" onerror=\"this.src='data:image/gif;base64,R0lGODlhAQABAIAAAAAAAP///yH5BAEAAAAALAAAAAABAAEAAAIBRAA7';this.className='thumb bg_default_press'\" src=\"https://search.pstatic.net/common/?src=https%3A%2F%2Fmimgnews.pstatic.net%2Fimage%2Fupload%2Foffice_logo%2F003%2F2019%2F02%2F19%2Flogo_003_18_20190219111719.jpg&amp;type=f54_54&amp;expire=24&amp;refresh=true\" width=\"20\"/></span>뉴시스</a><span class=\"info\">5일 전</span><a class=\"info\" href=\"https://news.naver.com/main/read.naver?mode=LSD&amp;mid=sec&amp;sid1=101&amp;oid=003&amp;aid=0011150876\" onclick=\"return goOtherCR(this, 'a=nws*a.nav&amp;r=77&amp;i=88000127_000000000000000011150876&amp;u='+urlencode(this.href));\" target=\"_blank\">네이버뉴스</a> </div></div><a class=\"news_tit\" href=\"http://www.newsis.com/view/?id=NISX20220428_0001851241&amp;cID=15001&amp;pID=15000\" onclick=\"return goOtherCR(this, 'a=nws*a.tit&amp;r=77&amp;i=88000127_000000000000000011150876&amp;g=003.0011150876&amp;u='+urlencode(this.href));\" target=\"_blank\" title=\"[핫스탁]포바이포·골드앤에스·덕신하우징\">[핫스탁]<mark>포바이포</mark>·골드앤에스·덕신하우징</a> <div class=\"news_dsc\"> <div class=\"dsc_wrap\"> <a class=\"api_txt_lines dsc_txt_wrap\" href=\"http://www.newsis.com/view/?id=NISX20220428_0001851241&amp;cID=15001&amp;pID=15000\" onclick=\"return goOtherCR(this, 'a=nws*a.body&amp;r=77&amp;i=88000127_000000000000000011150876&amp;g=003.0011150876&amp;u='+urlencode(this.href));\" target=\"_blank\">기사내용 요약<mark>포바이포</mark>, 코스닥 입성 첫날 따상 직행 골드앤에스, 거래 재개 후 3연상 기록 덕신하우징, 가덕도 신공항 건설 수혜 기대 [서울=뉴시스] 이정필 기자 = ◇<mark>포바이포</mark>= <mark>포바이포</mark>가 코스닥시장 상장 첫날...</a> </div></div></div><a class=\"dsc_thumb\" href=\"http://www.newsis.com/view/?id=NISX20220428_0001851241&amp;cID=15001&amp;pID=15000\" onclick=\"return goOtherCR(this, 'a=nws*a.img&amp;r=77&amp;i=88000127_000000000000000011150876&amp;g=003.0011150876&amp;u='+urlencode(this.href));\" target=\"_blank\"><img alt=\"[핫스탁]포바이포·골\" class=\"thumb api_get\" height=\"90\" onerror=\"this.parentNode.style.display='none';\" src=\"https://search.pstatic.net/common/?src=https%3A%2F%2Fimgnews.pstatic.net%2Fimage%2Forigin%2F003%2F2022%2F04%2F28%2F11150876.jpg&amp;type=ff264_180&amp;expire=2&amp;refresh=true\" width=\"132\"/></a> </div><div class=\"news_cluster\"> <ul class=\"list_cluster\"> <li class=\"sub_bx\"> <span class=\"sub_wrap\"> <span class=\"sub_area\"> <cite class=\"sub_txt press\" title=\"금강일보\">금강일보</cite><span class=\"sub_txt\">5일 전</span> </span><a class=\"elss sub_tit\" href=\"http://www.ggilbo.com/news/articleView.html?idxno=909928\" onclick=\"return goOtherCR(this, 'a=nws*d.tit&amp;r=78&amp;i=88155e6c_000000000000000000609539&amp;g=5356.0000609539&amp;u='+urlencode(this.href));\" target=\"_blank\" title=\"[마감종합기사] 철강·가덕도 테마주 강세, 포바이포 따상, 골드앤에스 상한가에서 하한가로... 오스템임플란트 거래재개 첫 날 약세\">[마감종합기사] 철강·가덕도 테마주 강세, <mark>포바이포</mark> 따상, 골드앤에스 상한가...</a> </span></li> <li class=\"sub_bx\"> <span class=\"sub_wrap\"> <span class=\"sub_area\"> <cite class=\"sub_txt press\" title=\"뉴시스\">뉴시스</cite><span class=\"sub_txt\">5일 전</span><a class=\"sub_txt\" href=\"https://news.naver.com/main/read.naver?mode=LSD&amp;mid=sec&amp;sid1=101&amp;oid=003&amp;aid=0011152498\" onclick=\"return goOtherCR(this, 'a=nws*c.nav&amp;r=79&amp;i=88000127_000000000000000011152498&amp;u='+urlencode(this.href));\" target=\"_blank\">네이버뉴스</a> </span><a class=\"elss sub_tit\" href=\"http://www.newsis.com/view/?id=NISX20220428_0001852200&amp;cID=15001&amp;pID=15000\" onclick=\"return goOtherCR(this, 'a=nws*c.tit&amp;r=79&amp;i=88000127_000000000000000011152498&amp;g=003.0011152498&amp;u='+urlencode(this.href));\" target=\"_blank\" title=\"[핫스탁]포바이포·골드앤에스·덕신하우징(종합)\">[핫스탁]<mark>포바이포</mark>·골드앤에스·덕신하우징(종합)</a> </span></li> </ul></div></li> <li class=\"bx\" id=\"sp_nws80\"> <div class=\"news_wrap api_ani_send\"> <div class=\"news_area\"> <div class=\"news_info\"> <div class=\"api_save_group _keep_wrap\"> <a aria-pressed=\"false\" class=\"btn_save _keep_trigger\" data-url=\"https://www.paxnetnews.com/articles/86058\" href=\"#\" onclick=\"tCR('a=nws*f.kep&amp;r=80&amp;i=881844e5_000000000000000000040432&amp;u=javascript'); return false;\" role=\"button\"><i class=\"spnew ico_save\">문서 저장하기</i></a> <div class=\"api_ly_save _keep_save_layer\"> <a class=\"spnew_af item item_save _keep_save\" data-cr-off=\"a=nws*f.kepoff&amp;r=80&amp;i=881844e5_000000000000000000040432&amp;u=javascript\" data-cr-on=\"a=nws*f.kepon&amp;r=80&amp;i=881844e5_000000000000000000040432&amp;u=javascript\" href=\"#\" role=\"button\">Keep에 저장</a> <a class=\"spnew_af item item_quick\" href=\"https://keep.naver.com/\" onclick=\"return goOtherCR(this,'a=nws*f.kephome&amp;r=80&amp;i=881844e5_000000000000000000040432&amp;u='+urlencode(this.href));\" target=\"_blank\">Keep 바로가기</a> </div></div><div class=\"info_group\"> <a class=\"info press\" href=\"http://paxnetnews.com\" onclick=\"return goOtherCR(this, 'a=nws*f.prof&amp;r=80&amp;i=881844e5_000000000000000000040432&amp;g=5630.0000040432&amp;u='+urlencode(this.href));\" target=\"_blank\"><span class=\"thumb_box\"><img alt=\"\" class=\"thumb\" height=\"20\" onerror=\"this.src='data:image/gif;base64,R0lGODlhAQABAIAAAAAAAP///yH5BAEAAAAALAAAAAABAAEAAAIBRAA7';this.className='thumb bg_default_press'\" src=\"https://search.pstatic.net/common/?src=https%3A%2F%2Fpaxnetnews.com%2Fassets%2Ffavicon-47c4b2dcaaea60f86c69ee592f315158ec55ed5db86739bd5f913d4b1c6fb9d8.png&amp;type=f54_54&amp;expire=24&amp;refresh=true\" width=\"20\"/></span>팍스넷뉴스</a><span class=\"info\">6일 전</span> </div></div><a class=\"news_tit\" href=\"https://www.paxnetnews.com/articles/86058\" onclick=\"return goOtherCR(this, 'a=nws*f.tit&amp;r=80&amp;i=881844e5_000000000000000000040432&amp;g=5630.0000040432&amp;u='+urlencode(this.href));\" target=\"_blank\" title=\"'공모 흥행' 포바이포, VC 엑시트 청신호\">'공모 흥행' <mark>포바이포</mark>, VC 엑시트 청신호</a> <div class=\"news_dsc\"> <div class=\"dsc_wrap\"> <a class=\"api_txt_lines dsc_txt_wrap\" href=\"https://www.paxnetnews.com/articles/86058\" onclick=\"return goOtherCR(this, 'a=nws*f.body&amp;r=80&amp;i=881844e5_000000000000000000040432&amp;g=5630.0000040432&amp;u='+urlencode(this.href));\" target=\"_blank\">바이포가 오는 28일 코스닥 문턱을 넘게 되면서, 재무적투자자(FI)들의 투자금 회수(엑시트)에도 청신호가 켜졌다. FI들은 투자 1~2년 만에 멀티플(배수) 3배를 웃도는 회수 성과를 거둘 것으로 전망된다. 25일 <mark>포바이포</mark>...</a> </div></div></div><a class=\"dsc_thumb\" href=\"https://www.paxnetnews.com/articles/86058\" onclick=\"return goOtherCR(this, 'a=nws*f.img&amp;r=80&amp;i=881844e5_000000000000000000040432&amp;g=5630.0000040432&amp;u='+urlencode(this.href));\" target=\"_blank\"><img alt=\"‘공모 흥행‘ 포바이포\" class=\"thumb api_get\" height=\"90\" onerror=\"this.parentNode.style.display='none';\" src=\"https://search.pstatic.net/common/?src=https%3A%2F%2Fimgnews.pstatic.net%2Fimage%2Forigin%2F5630%2F2022%2F04%2F27%2F40432.jpg&amp;type=ofullfill264_180_gray&amp;expire=2&amp;refresh=true\" width=\"132\"/></a> </div></li> <li class=\"bx\" id=\"sp_nws81\"> <div class=\"news_wrap api_ani_send\"> <div class=\"news_area\"> <div class=\"news_info\"> <div class=\"api_save_group _keep_wrap\"> <a aria-pressed=\"false\" class=\"btn_save _keep_trigger\" data-url=\"http://www.newsis.com/view/?id=NISX20220427_0001850394&amp;cID=15001&amp;pID=15000\" href=\"#\" onclick=\"tCR('a=nws*j.kep&amp;r=81&amp;i=88000127_000000000000000011149730&amp;u=javascript'); return false;\" role=\"button\"><i class=\"spnew ico_save\">문서 저장하기</i></a> <div class=\"api_ly_save _keep_save_layer\"> <a class=\"spnew_af item item_save _keep_save\" data-cr-off=\"a=nws*j.kepoff&amp;r=81&amp;i=88000127_000000000000000011149730&amp;u=javascript\" data-cr-on=\"a=nws*j.kepon&amp;r=81&amp;i=88000127_000000000000000011149730&amp;u=javascript\" href=\"#\" role=\"button\">Keep에 저장</a> <a class=\"spnew_af item item_quick\" href=\"https://keep.naver.com/\" onclick=\"return goOtherCR(this,'a=nws*j.kephome&amp;r=81&amp;i=88000127_000000000000000011149730&amp;u='+urlencode(this.href));\" target=\"_blank\">Keep 바로가기</a> </div></div><div class=\"info_group\"> <a class=\"info press\" href=\"http://www.newsis.com\" onclick=\"return goOtherCR(this, 'a=nws*j.prof&amp;r=81&amp;i=88000127_000000000000000011149730&amp;g=003.0011149730&amp;u='+urlencode(this.href));\" target=\"_blank\"><span class=\"thumb_box\"><img alt=\"\" class=\"thumb\" height=\"20\" onerror=\"this.src='data:image/gif;base64,R0lGODlhAQABAIAAAAAAAP///yH5BAEAAAAALAAAAAABAAEAAAIBRAA7';this.className='thumb bg_default_press'\" src=\"https://search.pstatic.net/common/?src=https%3A%2F%2Fmimgnews.pstatic.net%2Fimage%2Fupload%2Foffice_logo%2F003%2F2019%2F02%2F19%2Flogo_003_18_20190219111719.jpg&amp;type=f54_54&amp;expire=24&amp;refresh=true\" width=\"20\"/></span>뉴시스<i class=\"spnew ico_pick\">언론사 선정</i></a><span class=\"info\">6일 전</span><a class=\"info\" href=\"https://news.naver.com/main/read.naver?mode=LSD&amp;mid=sec&amp;sid1=101&amp;oid=003&amp;aid=0011149730\" onclick=\"return goOtherCR(this, 'a=nws*j.nav&amp;r=81&amp;i=88000127_000000000000000011149730&amp;u='+urlencode(this.href));\" target=\"_blank\">네이버뉴스</a> </div></div><a class=\"news_tit\" href=\"http://www.newsis.com/view/?id=NISX20220427_0001850394&amp;cID=15001&amp;pID=15000\" onclick=\"return goOtherCR(this, 'a=nws*j.tit&amp;r=81&amp;i=88000127_000000000000000011149730&amp;g=003.0011149730&amp;u='+urlencode(this.href));\" target=\"_blank\" title=\"포바이포, 28일 코스닥 신규 상장\"><mark>포바이포</mark>, 28일 코스닥 신규 상장</a> <div class=\"news_dsc\"> <div class=\"dsc_wrap\"> <a class=\"api_txt_lines dsc_txt_wrap\" href=\"http://www.newsis.com/view/?id=NISX20220427_0001850394&amp;cID=15001&amp;pID=15000\" onclick=\"return goOtherCR(this, 'a=nws*j.body&amp;r=81&amp;i=88000127_000000000000000011149730&amp;g=003.0011149730&amp;u='+urlencode(this.href));\" target=\"_blank\">한국거래소는 <mark>포바이포</mark>의 코스닥시장 신규 상장을 승인했다고 27일 밝혔다. 매매거래는 28일부터 개시된다. 상장 당일에는 변동성완화장치(VI)가 미적용된다. 거래소에 따르면 <mark>포바이포</mark>는 광고 영화 및...</a> </div></div></div><a class=\"dsc_thumb\" href=\"http://www.newsis.com/view/?id=NISX20220427_0001850394&amp;cID=15001&amp;pID=15000\" onclick=\"return goOtherCR(this, 'a=nws*j.img&amp;r=81&amp;i=88000127_000000000000000011149730&amp;g=003.0011149730&amp;u='+urlencode(this.href));\" target=\"_blank\"><img alt=\"포바이포, 28일 코스닥\" class=\"thumb api_get\" height=\"90\" onerror=\"this.parentNode.style.display='none';\" src=\"https://search.pstatic.net/common/?src=https%3A%2F%2Fimgnews.pstatic.net%2Fimage%2Forigin%2F003%2F2022%2F04%2F27%2F11149730.jpg&amp;type=ff264_180&amp;expire=2&amp;refresh=true\" width=\"132\"/></a> </div></li> <li class=\"bx\" id=\"sp_nws82\"> <div class=\"news_wrap api_ani_send\"> <div class=\"news_area\"> <div class=\"news_info\"> <div class=\"api_save_group _keep_wrap\"> <a aria-pressed=\"false\" class=\"btn_save _keep_trigger\" data-url=\"https://view.asiae.co.kr/article/2022042814151033045\" href=\"#\" onclick=\"tCR('a=nws*e.kep&amp;r=82&amp;i=88000385_000000000000000005081442&amp;u=javascript'); return false;\" role=\"button\"><i class=\"spnew ico_save\">문서 저장하기</i></a> <div class=\"api_ly_save _keep_save_layer\"> <a class=\"spnew_af item item_save _keep_save\" data-cr-off=\"a=nws*e.kepoff&amp;r=82&amp;i=88000385_000000000000000005081442&amp;u=javascript\" data-cr-on=\"a=nws*e.kepon&amp;r=82&amp;i=88000385_000000000000000005081442&amp;u=javascript\" href=\"#\" role=\"button\">Keep에 저장</a> <a class=\"spnew_af item item_quick\" href=\"https://keep.naver.com/\" onclick=\"return goOtherCR(this,'a=nws*e.kephome&amp;r=82&amp;i=88000385_000000000000000005081442&amp;u='+urlencode(this.href));\" target=\"_blank\">Keep 바로가기</a> </div></div><div class=\"info_group\"> <a class=\"info press\" href=\"https://www.asiae.co.kr/\" onclick=\"return goOtherCR(this, 'a=nws*e.prof&amp;r=82&amp;i=88000385_000000000000000005081442&amp;g=277.0005081442&amp;u='+urlencode(this.href));\" target=\"_blank\"><span class=\"thumb_box\"><img alt=\"\" class=\"thumb\" height=\"20\" onerror=\"this.src='data:image/gif;base64,R0lGODlhAQABAIAAAAAAAP///yH5BAEAAAAALAAAAAABAAEAAAIBRAA7';this.className='thumb bg_default_press'\" src=\"https://search.pstatic.net/common/?src=https%3A%2F%2Fmimgnews.pstatic.net%2Fimage%2Fupload%2Foffice_logo%2F277%2F2020%2F07%2F27%2Flogo_277_18_20200727103757.png&amp;type=f54_54&amp;expire=24&amp;refresh=true\" width=\"20\"/></span>아시아경제</a><span class=\"info\">5일 전</span><a class=\"info\" href=\"https://news.naver.com/main/read.naver?mode=LSD&amp;mid=sec&amp;sid1=101&amp;oid=277&amp;aid=0005081442\" onclick=\"return goOtherCR(this, 'a=nws*e.nav&amp;r=82&amp;i=88000385_000000000000000005081442&amp;u='+urlencode(this.href));\" target=\"_blank\">네이버뉴스</a> </div></div><a class=\"news_tit\" href=\"https://view.asiae.co.kr/article/2022042814151033045\" onclick=\"return goOtherCR(this, 'a=nws*e.tit&amp;r=82&amp;i=88000385_000000000000000005081442&amp;g=277.0005081442&amp;u='+urlencode(this.href));\" target=\"_blank\" title=\"웨이버스, 포바이포 따상에 '자극'…'나도 이익나는 메타버스 새내기'\">웨이버스, <mark>포바이포</mark> 따상에 '자극'…'나도 이익나는 메타버스 새내기'</a> <div class=\"news_dsc\"> <div class=\"dsc_wrap\"> <a class=\"api_txt_lines dsc_txt_wrap\" href=\"https://view.asiae.co.kr/article/2022042814151033045\" onclick=\"return goOtherCR(this, 'a=nws*e.body&amp;r=82&amp;i=88000385_000000000000000005081442&amp;g=277.0005081442&amp;u='+urlencode(this.href));\" target=\"_blank\"><mark>포바이포</mark>가 상장 첫날 '따상'을 기록하면서 메타버스 관련주에 대한 관심이 커진 영향으로 풀이된다. <mark>포바이포</mark>는 공모가 1만7000원으로 코스닥 시장에 입성한 뒤로 시초가 3만4000원으로 거래를 시작했다. 이어 개장...</a> </div></div></div></div></li> <li class=\"bx\" id=\"sp_nws83\"> <div class=\"news_wrap api_ani_send\"> <div class=\"news_area\"> <div class=\"news_info\"> <div class=\"api_save_group _keep_wrap\"> <a aria-pressed=\"false\" class=\"btn_save _keep_trigger\" data-url=\"https://economist.co.kr/2022/04/28/stock/stockNormal/20220428161136173.html\" href=\"#\" onclick=\"tCR('a=nws*j.kep&amp;r=83&amp;i=880002EC_000000000000000000025876&amp;u=javascript'); return false;\" role=\"button\"><i class=\"spnew ico_save\">문서 저장하기</i></a> <div class=\"api_ly_save _keep_save_layer\"> <a class=\"spnew_af item item_save _keep_save\" data-cr-off=\"a=nws*j.kepoff&amp;r=83&amp;i=880002EC_000000000000000000025876&amp;u=javascript\" data-cr-on=\"a=nws*j.kepon&amp;r=83&amp;i=880002EC_000000000000000000025876&amp;u=javascript\" href=\"#\" role=\"button\">Keep에 저장</a> <a class=\"spnew_af item item_quick\" href=\"https://keep.naver.com/\" onclick=\"return goOtherCR(this,'a=nws*j.kephome&amp;r=83&amp;i=880002EC_000000000000000000025876&amp;u='+urlencode(this.href));\" target=\"_blank\">Keep 바로가기</a> </div></div><div class=\"info_group\"> <a class=\"info press\" href=\"https://jmagazine.joins.com/economist?cloc=joongang-home-jmnet\" onclick=\"return goOtherCR(this, 'a=nws*j.prof&amp;r=83&amp;i=880002EC_000000000000000000025876&amp;g=243.0000025876&amp;u='+urlencode(this.href));\" target=\"_blank\"><span class=\"thumb_box\"><img alt=\"\" class=\"thumb\" height=\"20\" onerror=\"this.src='data:image/gif;base64,R0lGODlhAQABAIAAAAAAAP///yH5BAEAAAAALAAAAAABAAEAAAIBRAA7';this.className='thumb bg_default_press'\" src=\"https://search.pstatic.net/common/?src=https%3A%2F%2Fmimgnews.pstatic.net%2Fimage%2Fupload%2Foffice_logo%2F243%2F2017%2F01%2F05%2Flogo_243_18_20170105111205.png&amp;type=f54_54&amp;expire=24&amp;refresh=true\" width=\"20\"/></span>이코노미스트<i class=\"spnew ico_pick\">언론사 선정</i></a><span class=\"info\">5일 전</span><a class=\"info\" href=\"https://news.naver.com/main/read.naver?mode=LSD&amp;mid=sec&amp;sid1=101&amp;oid=243&amp;aid=0000025876\" onclick=\"return goOtherCR(this, 'a=nws*j.nav&amp;r=83&amp;i=880002EC_000000000000000000025876&amp;u='+urlencode(this.href));\" target=\"_blank\">네이버뉴스</a> </div></div><a class=\"news_tit\" href=\"https://economist.co.kr/2022/04/28/stock/stockNormal/20220428161136173.html\" onclick=\"return goOtherCR(this, 'a=nws*j.tit&amp;r=83&amp;i=880002EC_000000000000000000025876&amp;g=243.0000025876&amp;u='+urlencode(this.href));\" target=\"_blank\" title=\"코스피 상승, 실외 노마스크 소식에 화장품株 강세 [마감시황]\">코스피 상승, 실외 노마스크 소식에 화장품株 강세 [마감시황]</a> <div class=\"news_dsc\"> <div class=\"dsc_wrap\"> <a class=\"api_txt_lines dsc_txt_wrap\" href=\"https://economist.co.kr/2022/04/28/stock/stockNormal/20220428161136173.html\" onclick=\"return goOtherCR(this, 'a=nws*j.body&amp;r=83&amp;i=880002EC_000000000000000000025876&amp;g=243.0000025876&amp;u='+urlencode(this.href));\" target=\"_blank\">SK하이닉스(0.92%), 삼성바이오로직스(3.09%), 삼성SDI(1.36%), 현대차(0.80%), 카카오(1.02%), 기아(0.48%) 등 시총... 이날 코스닥에 입성한 메타버스 새내기주 <mark>포바이포</mark>는 ‘따상(시초가가 공모가의 2배로 형성된 뒤...</a> </div></div></div><a class=\"dsc_thumb\" href=\"https://economist.co.kr/2022/04/28/stock/stockNormal/20220428161136173.html\" onclick=\"return goOtherCR(this, 'a=nws*j.img&amp;r=83&amp;i=880002EC_000000000000000000025876&amp;g=243.0000025876&amp;u='+urlencode(this.href));\" target=\"_blank\"><img alt=\"코스피 상승, 실외 노\" class=\"thumb api_get\" height=\"90\" onerror=\"this.parentNode.style.display='none';\" src=\"https://search.pstatic.net/common/?src=https%3A%2F%2Fimgnews.pstatic.net%2Fimage%2Forigin%2F243%2F2022%2F04%2F28%2F25876.jpg&amp;type=ff264_180&amp;expire=2&amp;refresh=true\" width=\"132\"/></a> </div></li> <li class=\"bx\" id=\"sp_nws84\"> <div class=\"news_wrap api_ani_send\"> <div class=\"news_area\"> <div class=\"news_info\"> <div class=\"api_save_group _keep_wrap\"> <a aria-pressed=\"false\" class=\"btn_save _keep_trigger\" data-url=\"https://biz.chosun.com/stock/analysis-prospect/2022/04/28/VPHEOZOSDZDSDDYRXJLD7U3VXA/?utm_source=naver&amp;utm_medium=original&amp;utm_campaign=biz\" href=\"#\" onclick=\"tCR('a=nws*j.kep&amp;r=84&amp;i=88127058_000000000000000000809895&amp;u=javascript'); return false;\" role=\"button\"><i class=\"spnew ico_save\">문서 저장하기</i></a> <div class=\"api_ly_save _keep_save_layer\"> <a class=\"spnew_af item item_save _keep_save\" data-cr-off=\"a=nws*j.kepoff&amp;r=84&amp;i=88127058_000000000000000000809895&amp;u=javascript\" data-cr-on=\"a=nws*j.kepon&amp;r=84&amp;i=88127058_000000000000000000809895&amp;u=javascript\" href=\"#\" role=\"button\">Keep에 저장</a> <a class=\"spnew_af item item_quick\" href=\"https://keep.naver.com/\" onclick=\"return goOtherCR(this,'a=nws*j.kephome&amp;r=84&amp;i=88127058_000000000000000000809895&amp;u='+urlencode(this.href));\" target=\"_blank\">Keep 바로가기</a> </div></div><div class=\"info_group\"> <a class=\"info press\" href=\"http://biz.chosun.com/\" onclick=\"return goOtherCR(this, 'a=nws*j.prof&amp;r=84&amp;i=88127058_000000000000000000809895&amp;g=366.0000809895&amp;u='+urlencode(this.href));\" target=\"_blank\"><span class=\"thumb_box\"><img alt=\"\" class=\"thumb\" height=\"20\" onerror=\"this.src='data:image/gif;base64,R0lGODlhAQABAIAAAAAAAP///yH5BAEAAAAALAAAAAABAAEAAAIBRAA7';this.className='thumb bg_default_press'\" src=\"https://search.pstatic.net/common/?src=https%3A%2F%2Fmimgnews.pstatic.net%2Fimage%2Fupload%2Foffice_logo%2F366%2F2017%2F01%2F05%2Flogo_366_18_20170105111205.png&amp;type=f54_54&amp;expire=24&amp;refresh=true\" width=\"20\"/></span>조선비즈<i class=\"spnew ico_pick\">언론사 선정</i></a><span class=\"info\">5일 전</span><a class=\"info\" href=\"https://news.naver.com/main/read.naver?mode=LSD&amp;mid=sec&amp;sid1=101&amp;oid=366&amp;aid=0000809895\" onclick=\"return goOtherCR(this, 'a=nws*j.nav&amp;r=84&amp;i=88127058_000000000000000000809895&amp;u='+urlencode(this.href));\" target=\"_blank\">네이버뉴스</a> </div></div><a class=\"news_tit\" href=\"https://biz.chosun.com/stock/analysis-prospect/2022/04/28/VPHEOZOSDZDSDDYRXJLD7U3VXA/?utm_source=naver&amp;utm_medium=original&amp;utm_campaign=biz\" onclick=\"return goOtherCR(this, 'a=nws*j.tit&amp;r=84&amp;i=88127058_000000000000000000809895&amp;g=366.0000809895&amp;u='+urlencode(this.href));\" target=\"_blank\" title=\"2000대 1 넘는 청약경쟁률 인기 새내기株 봇물… 2차 전지·AI·콘텐츠 관련 기업 주목\">2000대 1 넘는 청약경쟁률 인기 새내기株 봇물… 2차 전지·AI·콘텐츠 관련 ...</a> <div class=\"news_dsc\"> <div class=\"dsc_wrap\"> <a class=\"api_txt_lines dsc_txt_wrap\" href=\"https://biz.chosun.com/stock/analysis-prospect/2022/04/28/VPHEOZOSDZDSDDYRXJLD7U3VXA/?utm_source=naver&amp;utm_medium=original&amp;utm_campaign=biz\" onclick=\"return goOtherCR(this, 'a=nws*j.body&amp;r=84&amp;i=88127058_000000000000000000809895&amp;g=366.0000809895&amp;u='+urlencode(this.href));\" target=\"_blank\">28일 상장한 <mark>포바이포</mark>는 청약경쟁률이 3763대 1을 기록하며 올 들어 최고의 경쟁률을 기록했다. 이날... 한국거래소 정보데이터시스템에 따르면 올 들어 <mark>포바이포</mark>를 포함해 오토앤(353590), 아셈스(136410), 퓨런티어...</a> </div></div></div><a class=\"dsc_thumb\" href=\"https://biz.chosun.com/stock/analysis-prospect/2022/04/28/VPHEOZOSDZDSDDYRXJLD7U3VXA/?utm_source=naver&amp;utm_medium=original&amp;utm_campaign=biz\" onclick=\"return goOtherCR(this, 'a=nws*j.img&amp;r=84&amp;i=88127058_000000000000000000809895&amp;g=366.0000809895&amp;u='+urlencode(this.href));\" target=\"_blank\"><img alt=\"2000대 1 넘는 청약경\" class=\"thumb api_get\" height=\"90\" onerror=\"this.parentNode.style.display='none';\" src=\"https://search.pstatic.net/common/?src=https%3A%2F%2Fimgnews.pstatic.net%2Fimage%2Forigin%2F366%2F2022%2F04%2F28%2F809895.jpg&amp;type=ff264_180&amp;expire=2&amp;refresh=true\" width=\"132\"/></a> </div></li> <li class=\"bx\" id=\"sp_nws85\"> <div class=\"news_wrap api_ani_send\"> <div class=\"news_area\"> <div class=\"news_info\"> <div class=\"api_save_group _keep_wrap\"> <a aria-pressed=\"false\" class=\"btn_save _keep_trigger\" data-url=\"https://www.asiatime.co.kr/article/20220428500566\" href=\"#\" onclick=\"tCR('a=nws*f.kep&amp;r=85&amp;i=8817ca9c_000000000000000000203446&amp;u=javascript'); return false;\" role=\"button\"><i class=\"spnew ico_save\">문서 저장하기</i></a> <div class=\"api_ly_save _keep_save_layer\"> <a class=\"spnew_af item item_save _keep_save\" data-cr-off=\"a=nws*f.kepoff&amp;r=85&amp;i=8817ca9c_000000000000000000203446&amp;u=javascript\" data-cr-on=\"a=nws*f.kepon&amp;r=85&amp;i=8817ca9c_000000000000000000203446&amp;u=javascript\" href=\"#\" role=\"button\">Keep에 저장</a> <a class=\"spnew_af item item_quick\" href=\"https://keep.naver.com/\" onclick=\"return goOtherCR(this,'a=nws*f.kephome&amp;r=85&amp;i=8817ca9c_000000000000000000203446&amp;u='+urlencode(this.href));\" target=\"_blank\">Keep 바로가기</a> </div></div><div class=\"info_group\"> <a class=\"info press\" href=\"http://www.asiatime.co.kr/\" onclick=\"return goOtherCR(this, 'a=nws*f.prof&amp;r=85&amp;i=8817ca9c_000000000000000000203446&amp;g=5492.0000203446&amp;u='+urlencode(this.href));\" target=\"_blank\"><span class=\"thumb_box\"><img alt=\"\" class=\"thumb\" height=\"20\" onerror=\"this.src='data:image/gif;base64,R0lGODlhAQABAIAAAAAAAP///yH5BAEAAAAALAAAAAABAAEAAAIBRAA7';this.className='thumb bg_default_press'\" src=\"https://search.pstatic.net/common/?src=https%3A%2F%2Fm.asiatime.co.kr%2Fimg%2Ffavicon.png&amp;type=f54_54&amp;expire=24&amp;refresh=true\" width=\"20\"/></span>아시아타임즈</a><span class=\"info\">5일 전</span> </div></div><a class=\"news_tit\" href=\"https://www.asiatime.co.kr/article/20220428500566\" onclick=\"return goOtherCR(this, 'a=nws*f.tit&amp;r=85&amp;i=8817ca9c_000000000000000000203446&amp;g=5492.0000203446&amp;u='+urlencode(this.href));\" target=\"_blank\" title=\"[마감] 포바이포, 상장 첫날 '따상'...오스템임플란트, 거래재개 '급락'\">[마감] <mark>포바이포</mark>, 상장 첫날 '따상'...오스템임플란트, 거래재개 '급락'</a> <div class=\"news_dsc\"> <div class=\"dsc_wrap\"> <a class=\"api_txt_lines dsc_txt_wrap\" href=\"https://www.asiatime.co.kr/article/20220428500566\" onclick=\"return goOtherCR(this, 'a=nws*f.body&amp;r=85&amp;i=8817ca9c_000000000000000000203446&amp;g=5492.0000203446&amp;u='+urlencode(this.href));\" target=\"_blank\">시가총액 상위주는 LG화학(8.42%), SK하이닉스(0.92%), 삼성바이오로직스(3.09%), 삼성SDI(1.36%), 현대차(0.80... 이날 코스닥시장에 상장한 <mark>포바이포</mark>는 '따상'인 4만4200원에 거래를 마쳤다. 공모가는 1만7000원이었다....</a> </div></div></div><a class=\"dsc_thumb\" href=\"https://www.asiatime.co.kr/article/20220428500566\" onclick=\"return goOtherCR(this, 'a=nws*f.img&amp;r=85&amp;i=8817ca9c_000000000000000000203446&amp;g=5492.0000203446&amp;u='+urlencode(this.href));\" target=\"_blank\"><img alt=\"[마감] 포바이포, 상장\" class=\"thumb api_get\" height=\"90\" onerror=\"this.parentNode.style.display='none';\" src=\"https://search.pstatic.net/common/?src=https%3A%2F%2Fimgnews.pstatic.net%2Fimage%2Forigin%2F5492%2F2022%2F04%2F28%2F203446.jpg&amp;type=ofullfill264_180_gray&amp;expire=2&amp;refresh=true\" width=\"132\"/></a> </div></li> <li class=\"bx\" id=\"sp_nws86\"> <div class=\"news_wrap api_ani_send\"> <div class=\"news_area\"> <div class=\"news_info\"> <div class=\"api_save_group _keep_wrap\"> <a aria-pressed=\"false\" class=\"btn_save _keep_trigger\" data-url=\"http://news.mk.co.kr/newsRead.php?no=375098&amp;year=2022\" href=\"#\" onclick=\"tCR('a=nws*j.kep&amp;r=86&amp;i=880000BC_000000000000000004955980&amp;u=javascript'); return false;\" role=\"button\"><i class=\"spnew ico_save\">문서 저장하기</i></a> <div class=\"api_ly_save _keep_save_layer\"> <a class=\"spnew_af item item_save _keep_save\" data-cr-off=\"a=nws*j.kepoff&amp;r=86&amp;i=880000BC_000000000000000004955980&amp;u=javascript\" data-cr-on=\"a=nws*j.kepon&amp;r=86&amp;i=880000BC_000000000000000004955980&amp;u=javascript\" href=\"#\" role=\"button\">Keep에 저장</a> <a class=\"spnew_af item item_quick\" href=\"https://keep.naver.com/\" onclick=\"return goOtherCR(this,'a=nws*j.kephome&amp;r=86&amp;i=880000BC_000000000000000004955980&amp;u='+urlencode(this.href));\" target=\"_blank\">Keep 바로가기</a> </div></div><div class=\"info_group\"> <a class=\"info press\" href=\"http://www.mk.co.kr/\" onclick=\"return goOtherCR(this, 'a=nws*j.prof&amp;r=86&amp;i=880000BC_000000000000000004955980&amp;g=009.0004955980&amp;u='+urlencode(this.href));\" target=\"_blank\"><span class=\"thumb_box\"><img alt=\"\" class=\"thumb\" height=\"20\" onerror=\"this.src='data:image/gif;base64,R0lGODlhAQABAIAAAAAAAP///yH5BAEAAAAALAAAAAABAAEAAAIBRAA7';this.className='thumb bg_default_press'\" src=\"https://search.pstatic.net/common/?src=https%3A%2F%2Fmimgnews.pstatic.net%2Fimage%2Fupload%2Foffice_logo%2F009%2F2018%2F03%2F07%2Flogo_009_18_20180307164907.jpg&amp;type=f54_54&amp;expire=24&amp;refresh=true\" width=\"20\"/></span>매일경제<i class=\"spnew ico_pick\">언론사 선정</i></a><span class=\"info\">6일 전</span><a class=\"info\" href=\"https://news.naver.com/main/read.naver?mode=LSD&amp;mid=sec&amp;sid1=101&amp;oid=009&amp;aid=0004955980\" onclick=\"return goOtherCR(this, 'a=nws*j.nav&amp;r=86&amp;i=880000BC_000000000000000004955980&amp;u='+urlencode(this.href));\" target=\"_blank\">네이버뉴스</a> </div></div><a class=\"news_tit\" href=\"http://news.mk.co.kr/newsRead.php?no=375098&amp;year=2022\" onclick=\"return goOtherCR(this, 'a=nws*j.tit&amp;r=86&amp;i=880000BC_000000000000000004955980&amp;g=009.0004955980&amp;u='+urlencode(this.href));\" target=\"_blank\" title=\"청약에 14조 몰린 새내기 메타버스주, 내일 따상 찍을까\">청약에 14조 몰린 새내기 메타버스주, 내일 따상 찍을까</a> <div class=\"news_dsc\"> <div class=\"dsc_wrap\"> <a class=\"api_txt_lines dsc_txt_wrap\" href=\"http://news.mk.co.kr/newsRead.php?no=375098&amp;year=2022\" onclick=\"return goOtherCR(this, 'a=nws*j.body&amp;r=86&amp;i=880000BC_000000000000000004955980&amp;g=009.0004955980&amp;u='+urlencode(this.href));\" target=\"_blank\">'잔인한 달' 4월의 유일한 IPO 공모 기업인 <mark>포바이포</mark>가 28일 코스닥 시장에 데뷔한다. IPO 시장에서 인기가... 27일 증권가에 따르면 한국거래소는 전날 <mark>포바이포</mark>의 코스닥 신규 상장을 승인했다. 이에 따라 <mark>포바이포</mark>는...</a> </div></div></div><a class=\"dsc_thumb\" href=\"http://news.mk.co.kr/newsRead.php?no=375098&amp;year=2022\" onclick=\"return goOtherCR(this, 'a=nws*j.img&amp;r=86&amp;i=880000BC_000000000000000004955980&amp;g=009.0004955980&amp;u='+urlencode(this.href));\" target=\"_blank\"><img alt=\"청약에 14조 몰린 새내\" class=\"thumb api_get\" height=\"90\" onerror=\"this.parentNode.style.display='none';\" src=\"https://search.pstatic.net/common/?src=https%3A%2F%2Fimgnews.pstatic.net%2Fimage%2Forigin%2F009%2F2022%2F04%2F27%2F4955980.jpg&amp;type=ff264_180&amp;expire=2&amp;refresh=true\" width=\"132\"/></a> </div></li> <li class=\"bx\" id=\"sp_nws87\"> <div class=\"news_wrap api_ani_send\"> <div class=\"news_area\"> <div class=\"news_info\"> <div class=\"api_save_group _keep_wrap\"> <a aria-pressed=\"false\" class=\"btn_save _keep_trigger\" data-url=\"https://www.ytn.co.kr/_ln/0102_202204281607500870\" href=\"#\" onclick=\"tCR('a=nws*e.kep&amp;r=87&amp;i=880000AF_000000000000000001732770&amp;u=javascript'); return false;\" role=\"button\"><i class=\"spnew ico_save\">문서 저장하기</i></a> <div class=\"api_ly_save _keep_save_layer\"> <a class=\"spnew_af item item_save _keep_save\" data-cr-off=\"a=nws*e.kepoff&amp;r=87&amp;i=880000AF_000000000000000001732770&amp;u=javascript\" data-cr-on=\"a=nws*e.kepon&amp;r=87&amp;i=880000AF_000000000000000001732770&amp;u=javascript\" href=\"#\" role=\"button\">Keep에 저장</a> <a class=\"spnew_af item item_quick\" href=\"https://keep.naver.com/\" onclick=\"return goOtherCR(this,'a=nws*e.kephome&amp;r=87&amp;i=880000AF_000000000000000001732770&amp;u='+urlencode(this.href));\" target=\"_blank\">Keep 바로가기</a> </div></div><div class=\"info_group\"> <a class=\"info press\" href=\"http://www.ytn.co.kr/\" onclick=\"return goOtherCR(this, 'a=nws*e.prof&amp;r=87&amp;i=880000AF_000000000000000001732770&amp;g=052.0001732770&amp;u='+urlencode(this.href));\" target=\"_blank\"><span class=\"thumb_box\"><img alt=\"\" class=\"thumb\" height=\"20\" onerror=\"this.src='data:image/gif;base64,R0lGODlhAQABAIAAAAAAAP///yH5BAEAAAAALAAAAAABAAEAAAIBRAA7';this.className='thumb bg_default_press'\" src=\"https://search.pstatic.net/common/?src=https%3A%2F%2Fmimgnews.pstatic.net%2Fimage%2Fupload%2Foffice_logo%2F052%2F2021%2F10%2F19%2Flogo_052_18_20211019113554.png&amp;type=f54_54&amp;expire=24&amp;refresh=true\" width=\"20\"/></span>YTN</a><span class=\"info\">5일 전</span><a class=\"info\" href=\"https://news.naver.com/main/read.naver?mode=LSD&amp;mid=sec&amp;sid1=101&amp;oid=052&amp;aid=0001732770\" onclick=\"return goOtherCR(this, 'a=nws*e.nav&amp;r=87&amp;i=880000AF_000000000000000001732770&amp;u='+urlencode(this.href));\" target=\"_blank\">네이버뉴스</a> </div></div><a class=\"news_tit\" href=\"https://www.ytn.co.kr/_ln/0102_202204281607500870\" onclick=\"return goOtherCR(this, 'a=nws*e.tit&amp;r=87&amp;i=880000AF_000000000000000001732770&amp;g=052.0001732770&amp;u='+urlencode(this.href));\" target=\"_blank\" title=\"[생생경제] 오늘의 마감증시-오스템임플란트 거래 재개, 결과는?\">[생생경제] 오늘의 마감증시-오스템임플란트 거래 재개, 결과는?</a> <div class=\"news_dsc\"> <div class=\"dsc_wrap\"> <a class=\"api_txt_lines dsc_txt_wrap\" href=\"https://www.ytn.co.kr/_ln/0102_202204281607500870\" onclick=\"return goOtherCR(this, 'a=nws*e.body&amp;r=87&amp;i=880000AF_000000000000000001732770&amp;g=052.0001732770&amp;u='+urlencode(this.href));\" target=\"_blank\">펄어비스는 중국 검은사막 모바일의 순위가 정점 29위를 찍고 하락하면서 어제는 24% 떨어진 데 이어... 영상 화질 개선 솔루션을 바탕으로 컨텐츠 제작 유통사업을 하는 <mark>포바이포</mark>가 오늘 상장되었습니다. 상장 첫날...</a> </div></div></div><a class=\"dsc_thumb\" href=\"https://www.ytn.co.kr/_ln/0102_202204281607500870\" onclick=\"return goOtherCR(this, 'a=nws*e.img&amp;r=87&amp;i=880000AF_000000000000000001732770&amp;g=052.0001732770&amp;u='+urlencode(this.href));\" target=\"_blank\"><img alt=\"[생생경제] 오늘의 마\" class=\"thumb api_get\" height=\"90\" onerror=\"this.parentNode.style.display='none';\" src=\"https://search.pstatic.net/common/?src=https%3A%2F%2Fimgnews.pstatic.net%2Fimage%2Forigin%2F052%2F2022%2F04%2F28%2F1732770.jpg&amp;type=ff264_180&amp;expire=2&amp;refresh=true\" width=\"132\"/></a> </div></li> </ul> </div><div class=\"banner_area\"> <a class=\"banner_nmessage\" href=\"https://help.naver.com/support/alias/news/news_21.naver\" onclick=\"return goOtherCR(this, 'a=nws.noti&amp;u='+urlencode(this.href));\" target=\"_blank\"> <div class=\"info\">뉴스 기사와 댓글로 인한 문제 발생시 <span class=\"txt\">24시간 센터로 접수해주세요.</span><i class=\"spnew api_ico_help\"></i></div> </a> </div></div></section><div class=\"api_sc_page_wrap\"> <div class=\"sc_page\"> <a aria-disabled=\"true\" class=\"btn_prev\" role=\"button\"><i class=\"spnew ico_page_arr\">이전</i></a><div class=\"sc_page_inner\"><a aria-pressed=\"true\" class=\"btn\" href=\"?where=news&amp;sm=tab_pge&amp;query=%ED%8F%AC%EB%B0%94%EC%9D%B4%ED%8F%AC&amp;sort=0&amp;photo=0&amp;field=0&amp;pd=3&amp;ds=2022.03.29&amp;de=2022.04.28&amp;cluster_rank=87&amp;mynews=0&amp;office_type=0&amp;office_section_code=0&amp;news_office_checked=&amp;nso=so:r,p:from20220329to20220428,a:all&amp;start=1\" onclick=\"return goOtherCR(this, 'a=nws.paging&amp;r=1&amp;u='+urlencode(urlexpand(this.href)));\" role=\"button\">1</a><a aria-pressed=\"false\" class=\"btn\" href=\"?where=news&amp;sm=tab_pge&amp;query=%ED%8F%AC%EB%B0%94%EC%9D%B4%ED%8F%AC&amp;sort=0&amp;photo=0&amp;field=0&amp;pd=3&amp;ds=2022.03.29&amp;de=2022.04.28&amp;cluster_rank=87&amp;mynews=0&amp;office_type=0&amp;office_section_code=0&amp;news_office_checked=&amp;nso=so:r,p:from20220329to20220428,a:all&amp;start=11\" onclick=\"return goOtherCR(this, 'a=nws.paging&amp;r=2&amp;u='+urlencode(urlexpand(this.href)));\" role=\"button\">2</a><a aria-pressed=\"false\" class=\"btn\" href=\"?where=news&amp;sm=tab_pge&amp;query=%ED%8F%AC%EB%B0%94%EC%9D%B4%ED%8F%AC&amp;sort=0&amp;photo=0&amp;field=0&amp;pd=3&amp;ds=2022.03.29&amp;de=2022.04.28&amp;cluster_rank=87&amp;mynews=0&amp;office_type=0&amp;office_section_code=0&amp;news_office_checked=&amp;nso=so:r,p:from20220329to20220428,a:all&amp;start=21\" onclick=\"return goOtherCR(this, 'a=nws.paging&amp;r=3&amp;u='+urlencode(urlexpand(this.href)));\" role=\"button\">3</a><a aria-pressed=\"false\" class=\"btn\" href=\"?where=news&amp;sm=tab_pge&amp;query=%ED%8F%AC%EB%B0%94%EC%9D%B4%ED%8F%AC&amp;sort=0&amp;photo=0&amp;field=0&amp;pd=3&amp;ds=2022.03.29&amp;de=2022.04.28&amp;cluster_rank=87&amp;mynews=0&amp;office_type=0&amp;office_section_code=0&amp;news_office_checked=&amp;nso=so:r,p:from20220329to20220428,a:all&amp;start=31\" onclick=\"return goOtherCR(this, 'a=nws.paging&amp;r=4&amp;u='+urlencode(urlexpand(this.href)));\" role=\"button\">4</a><a aria-pressed=\"false\" class=\"btn\" href=\"?where=news&amp;sm=tab_pge&amp;query=%ED%8F%AC%EB%B0%94%EC%9D%B4%ED%8F%AC&amp;sort=0&amp;photo=0&amp;field=0&amp;pd=3&amp;ds=2022.03.29&amp;de=2022.04.28&amp;cluster_rank=87&amp;mynews=0&amp;office_type=0&amp;office_section_code=0&amp;news_office_checked=&amp;nso=so:r,p:from20220329to20220428,a:all&amp;start=41\" onclick=\"return goOtherCR(this, 'a=nws.paging&amp;r=5&amp;u='+urlencode(urlexpand(this.href)));\" role=\"button\">5</a><a aria-pressed=\"false\" class=\"btn\" href=\"?where=news&amp;sm=tab_pge&amp;query=%ED%8F%AC%EB%B0%94%EC%9D%B4%ED%8F%AC&amp;sort=0&amp;photo=0&amp;field=0&amp;pd=3&amp;ds=2022.03.29&amp;de=2022.04.28&amp;cluster_rank=87&amp;mynews=0&amp;office_type=0&amp;office_section_code=0&amp;news_office_checked=&amp;nso=so:r,p:from20220329to20220428,a:all&amp;start=51\" onclick=\"return goOtherCR(this, 'a=nws.paging&amp;r=6&amp;u='+urlencode(urlexpand(this.href)));\" role=\"button\">6</a><a aria-pressed=\"false\" class=\"btn\" href=\"?where=news&amp;sm=tab_pge&amp;query=%ED%8F%AC%EB%B0%94%EC%9D%B4%ED%8F%AC&amp;sort=0&amp;photo=0&amp;field=0&amp;pd=3&amp;ds=2022.03.29&amp;de=2022.04.28&amp;cluster_rank=87&amp;mynews=0&amp;office_type=0&amp;office_section_code=0&amp;news_office_checked=&amp;nso=so:r,p:from20220329to20220428,a:all&amp;start=61\" onclick=\"return goOtherCR(this, 'a=nws.paging&amp;r=7&amp;u='+urlencode(urlexpand(this.href)));\" role=\"button\">7</a><a aria-pressed=\"false\" class=\"btn\" href=\"?where=news&amp;sm=tab_pge&amp;query=%ED%8F%AC%EB%B0%94%EC%9D%B4%ED%8F%AC&amp;sort=0&amp;photo=0&amp;field=0&amp;pd=3&amp;ds=2022.03.29&amp;de=2022.04.28&amp;cluster_rank=87&amp;mynews=0&amp;office_type=0&amp;office_section_code=0&amp;news_office_checked=&amp;nso=so:r,p:from20220329to20220428,a:all&amp;start=71\" onclick=\"return goOtherCR(this, 'a=nws.paging&amp;r=8&amp;u='+urlencode(urlexpand(this.href)));\" role=\"button\">8</a><a aria-pressed=\"false\" class=\"btn\" href=\"?where=news&amp;sm=tab_pge&amp;query=%ED%8F%AC%EB%B0%94%EC%9D%B4%ED%8F%AC&amp;sort=0&amp;photo=0&amp;field=0&amp;pd=3&amp;ds=2022.03.29&amp;de=2022.04.28&amp;cluster_rank=87&amp;mynews=0&amp;office_type=0&amp;office_section_code=0&amp;news_office_checked=&amp;nso=so:r,p:from20220329to20220428,a:all&amp;start=81\" onclick=\"return goOtherCR(this, 'a=nws.paging&amp;r=9&amp;u='+urlencode(urlexpand(this.href)));\" role=\"button\">9</a><a aria-pressed=\"false\" class=\"btn\" href=\"?where=news&amp;sm=tab_pge&amp;query=%ED%8F%AC%EB%B0%94%EC%9D%B4%ED%8F%AC&amp;sort=0&amp;photo=0&amp;field=0&amp;pd=3&amp;ds=2022.03.29&amp;de=2022.04.28&amp;cluster_rank=87&amp;mynews=0&amp;office_type=0&amp;office_section_code=0&amp;news_office_checked=&amp;nso=so:r,p:from20220329to20220428,a:all&amp;start=91\" onclick=\"return goOtherCR(this, 'a=nws.paging&amp;r=10&amp;u='+urlencode(urlexpand(this.href)));\" role=\"button\">10</a></div><a aria-disabled=\"false\" class=\"btn_next\" href=\"?where=news&amp;sm=tab_pge&amp;query=%ED%8F%AC%EB%B0%94%EC%9D%B4%ED%8F%AC&amp;sort=0&amp;photo=0&amp;field=0&amp;pd=3&amp;ds=2022.03.29&amp;de=2022.04.28&amp;cluster_rank=87&amp;mynews=0&amp;office_type=0&amp;office_section_code=0&amp;news_office_checked=&amp;nso=so:r,p:from20220329to20220428,a:all&amp;start=11\" onclick=\"return goOtherCR(this, 'a=nws.paging&amp;r=2&amp;u='+urlencode(urlexpand(this.href)));\" role=\"button\"><i class=\"spnew ico_page_arr\">다음</i></a> </div></div> <section class=\"sc_new sp_nkeyword\" id=\"nx_footer_related_keywords\"> <div class=\"api_subject_bx _related_box\"> <div class=\"api_title_area\"> <h2 class=\"api_title\">연관 검색어<a class=\"api_link_help\" href=\"https://help.naver.com/support/alias/search/word/word_1.naver\" onclick=\"return goOtherCR(this, 'a=rsk_btm.guide&amp;r=&amp;i=&amp;u='+urlencode(urlexpand(this.href)));\" target=\"_blank\"><i class=\"spnew api_ico_help\">도움말</i></a></h2> <div class=\"api_title_sub\"> <a class=\"btn_report\" href=\"https://help.naver.com/support/alias/search/word/word_2.naver\" onclick=\"return goOtherCR(this, 'a=rsk_btm.report&amp;r=&amp;i=&amp;u='+urlencode(urlexpand(this.href)));\" target=\"_blank\"><span class=\"txt\">신고</span></a><a class=\"btn_close _close\" href=\"#\" onclick=\"return tCR('a=rsk_btm.1fold&amp;r=1&amp;i=');\"><i class=\"spnew api_ico_close4\">검색어제안 기능 닫기</i></a> </div> </div> <div class=\"related_srch\"> <ul class=\"lst_related_srch _list_box\"> <li class=\"item\"> <a class=\"keyword\" href=\"?where=news&amp;query=%ED%8F%AC%EB%B0%94%EC%9D%B4%ED%8F%AC+%EA%B3%B5%EB%AA%A8%EC%A3%BC&amp;ie=utf8&amp;sm=tab_she&amp;qdt=0\" onclick=\"return goOtherCR(this, 'a=rsk_btm*q.list1&amp;r=1&amp;u=' + urlencode(this.href))\"> <div class=\"tit\">포바이포 공모주</div> </a> </li> <li class=\"item\"> <a class=\"keyword\" href=\"?where=news&amp;query=%ED%8F%AC%EB%B0%94%EC%9D%B4%ED%8F%AC+%EC%88%98%EC%9A%94%EC%98%88%EC%B8%A1&amp;ie=utf8&amp;sm=tab_she&amp;qdt=0\" onclick=\"return goOtherCR(this, 'a=rsk_btm*q.list1&amp;r=2&amp;u=' + urlencode(this.href))\"> <div class=\"tit\">포바이포 수요예측</div> </a> </li> <li class=\"item\"> <a class=\"keyword\" href=\"?where=news&amp;query=%ED%8F%AC%EB%B0%94%EC%9D%B4%ED%8F%AC+%EC%83%81%EC%9E%A5%EC%9D%BC&amp;ie=utf8&amp;sm=tab_she&amp;qdt=0\" onclick=\"return goOtherCR(this, 'a=rsk_btm*q.list1&amp;r=3&amp;u=' + urlencode(this.href))\"> <div class=\"tit\">포바이포 상장일</div> </a> </li> <li class=\"item\"> <a class=\"keyword\" href=\"?where=news&amp;query=%ED%8F%AC%EB%B0%94%EC%9D%B4%ED%8F%AC+%EB%94%B0%EC%83%81&amp;ie=utf8&amp;sm=tab_she&amp;qdt=0\" onclick=\"return goOtherCR(this, 'a=rsk_btm*q.list1&amp;r=4&amp;u=' + urlencode(this.href))\"> <div class=\"tit\">포바이포 따상</div> </a> </li> <li class=\"item\"> <a class=\"keyword\" href=\"?where=news&amp;query=%ED%8F%AC%EB%B0%94%EC%9D%B4%ED%8F%AC+%EC%B2%AD%EC%95%BD&amp;ie=utf8&amp;sm=tab_she&amp;qdt=0\" onclick=\"return goOtherCR(this, 'a=rsk_btm*q.list1&amp;r=5&amp;u=' + urlencode(this.href))\"> <div class=\"tit\">포바이포 청약</div> </a> </li> <li class=\"item\"> <a class=\"keyword\" href=\"?where=news&amp;query=%ED%8F%AC%EB%B0%94%EC%9D%B4%ED%8F%AC+%EA%B7%A0%EB%93%B1&amp;ie=utf8&amp;sm=tab_she&amp;qdt=0\" onclick=\"return goOtherCR(this, 'a=rsk_btm*q.list1&amp;r=6&amp;u=' + urlencode(this.href))\"> <div class=\"tit\">포바이포 균등</div> </a> </li> <li class=\"item\"> <a class=\"keyword\" href=\"?where=news&amp;query=%ED%8F%AC%EB%B0%94%EC%9D%B4%ED%8F%AC+%EA%B2%BD%EC%9F%81%EB%A5%A0&amp;ie=utf8&amp;sm=tab_she&amp;qdt=0\" onclick=\"return goOtherCR(this, 'a=rsk_btm*a.list1&amp;r=7&amp;u=' + urlencode(this.href))\"> <div class=\"tit\">포바이포 경쟁률</div> </a> </li> <li class=\"item\"> <a class=\"keyword\" href=\"?where=news&amp;query=%ED%8F%AC%EB%B0%94%EC%9D%B4%ED%8F%AC+%EA%B3%B5%EB%AA%A8%EA%B0%80&amp;ie=utf8&amp;sm=tab_she&amp;qdt=0\" onclick=\"return goOtherCR(this, 'a=rsk_btm*q.list1&amp;r=8&amp;u=' + urlencode(this.href))\"> <div class=\"tit\">포바이포 공모가</div> </a> </li> <li class=\"item\"> <a class=\"keyword\" href=\"?where=news&amp;query=%ED%8F%AC%EB%B0%94%EC%9D%B4%ED%8F%AC+%EC%A3%BC%EA%B0%80&amp;ie=utf8&amp;sm=tab_she&amp;qdt=0\" onclick=\"return goOtherCR(this, 'a=rsk_btm*q.list1&amp;r=9&amp;u=' + urlencode(this.href))\"> <div class=\"tit\">포바이포 주가</div> </a> </li> <li class=\"item\"> <a class=\"keyword\" href=\"?where=news&amp;query=%ED%8F%AC%EB%B0%94%EC%9D%B4%ED%8F%AC+%EA%B3%B5%EB%AA%A8%EC%A3%BC+%EC%88%98%EC%9A%94%EC%98%88%EC%B8%A1&amp;ie=utf8&amp;sm=tab_she&amp;qdt=0\" onclick=\"return goOtherCR(this, 'a=rsk_btm*a.list1&amp;r=10&amp;u=' + urlencode(this.href))\"> <div class=\"tit\">포바이포 공모주 수요예측</div> </a> </li> </ul> <div class=\"btn_area\"> <a class=\"btn_more _more\" href=\"#\" onclick=\"return tCR('a=rsk_btm.open');\" role=\"button\" style=\"display:none\"><i class=\"spnew api_ico_open\">더보기</i></a> </div> <div class=\"closed\">1주일간 닫힘 상태가 유지됩니다. 다시 보시겠습니까?<a class=\"btn_open _open\" href=\"#\" onclick=\"return tCR('a=rsk_btm.1unfold&amp;r=1&amp;i=');\">열기</a></div> </div> </div> </section> <script> (function() { var startApplication = function() { var jsFile = \"https://ssl.pstatic.net/sstatic/au/pc/related_keyword/Controller_210623.js\"; var require = window.require.config({ \"context\": \"_au_related_keyword\", \"paths\": { /* Controller.js의 경로 지정. */ \"Controller\": jsFile.replace(/\\.js$/, \"\"), } }); /* module define은 require의 context별로 호출해야함. */ define(\"jquery\", [], function() { return jQuery; }); require([\"Controller\"], function(Controller) { var ck = \"qre\"; new Controller(jQuery(\"#nx_footer_related_keywords\"), { /* 초기 닫힘 상태 설정 */ isClosed: !!nx_get_cookie(ck) }) /* 열기 이벤트 */ .on(\"open\", function(e){ /* 쿠키 제거 */ nx_set_cookie(ck, \"\", -1, nx_au_cookie_domain); }) /* 닫기 이벤트 */ .on(\"close\", function(e){ var date = new Date(); date.setDate(date.getDate() + 7); /* 쿠키 저장 */ nx_set_cookie(ck, 1, date, nx_au_cookie_domain); }) }); }; var requirejs = naver.common.gv.REQUIRE_JS; naver.common.load_js(window.require ? null : requirejs, startApplication, true, 50); })(); </script> </div><div class=\"sub_pack\" id=\"sub_pack\"><section class=\"sc_new\"> <div class=\"api_subject_bx\"> <div class=\"api_common_banner\"> <a class=\"spnew_bf item\" href=\"https://m.news.naver.com/covid19/index.nhn\" onclick=\"return goOtherCR(this, 'a=bnr.link&amp;r=1&amp;i=&amp;u='+urlencode(this.href));\" target=\"_blank\"> <div class=\"ico_area\"><img alt=\"\" class=\"ico\" height=\"29\" src=\"data:image/png;base64,iVBORw0KGgoAAAANSUhEUgAAADoAAAA6CAMAAADWZboaAAAABGdBTUEAALGPC/xhBQAAAAFzUkdCAK7OHOkAAAD5UExURUdwTHqR+HyT+XeO91147Ft361147GyD8GN973WF5Ft261t27H2T+H2U+YCX++9vaulfWl137G2G8fFiV+tjXn2T+WyG8ZZ/y2yD8fNsZO9oaPRtZO9cUO9gUPz+//j7/1l06nSM9mB67Vt16/VuZF147H6V+nyT+XeO93mR+Pf5/4CX+3CI9PBdUvJjWPRrYfJmW2N97vBgVfv8//r7//NoXmaA8K2692mC8Zao98zV+4Wa87nF+r7K+uzw/vSKg/ny9bZ3ovavrPjW16Sy9ePp/neC5Ix9zNzj/ffDwdJugfR3b/np64ug9H2T8+JtcfWdmaB2tbtqjWudn9UAAAAedFJOUwDfjsjKjd4g/hCiX1+jz/v77nW0eu9Ah2BAIL5AIIvi+2QAAAPuSURBVEjH5dbpVuJMEAZgWUXAbUZn5ttIjAmQJgghYFbCvgs6c/8XM1XdnaQBt+/3vJijP3xOVXdXSE5O/vicltMXqdtGo5HKpMunn3dn6VSDp9qoVmu1VPpz+lsmdpAaSMz5x/j0XHAR1Gu6rn+Ev9wKJRmkTtfr9VT5PZkW2I4V3OnwUwcJSb+9PRcHneqsIod3d3eZs3dklUmM2w+CYKozB/IdexFB1qpdwVh2PSpJk3l9ndhntbbjW7MEV7EsD8tF0jDuvh/L8uFhBFRagcAMYz5Sb47OM8VXWAtI6NLjsKGuF1DmEhKgHF2q6uXfB/ScuZrehwUucWuqbmBZfZfSUOpKgbF4VjFfD4pySGVlVq+7S2JVsGHLA21ZkjRZqzx/HRfFLgnS/naJiK7Vkrqe70nDsRrnn4OiOssMaRiygphutyuF4XijChEPN80cjI07I4EAaVlpsmm1IgZ/rMUDSvEJx5mp+6Eou9LToKWyD83zwskL/e5Nm2exE2XdDsctFlpQvfzpQJL7r5xQOEOxXWml9lo9RlGO5o7z6Dz+SJYqjqmX9GpNBr1erxWXXS8AYnIxzXBY28G8JSWfBr12QmGRO+ORWieb7BKT00olMNyoXTjJHg/KzWhuEzKlRQvJPvFW4VAqvs3pSm1DYvoynBqEkBCh+Xi9R2G6cX+8GYWTQbud0N5gIpGlB5QAhBREivdFhY+e9fTyAIntZkXimIVCAa6Y3lJpoAwJLLIVQaTqeCghCmeUglMUJdkmg4ZAwZ272jx04qLth5cniUqyraMvmACFbcowCvfncrHuUMgtLpJT04TFBgpNcjhphI5huNNRhwYhXK2VxB0hfWh16zOpJCPxw2B2dBVBWhUXGVsfO8VL0TStlIw/MMdZPDc7nbjqwwAWGdckfV4PoaYJj5+U4czXTQiDQDcTCvFDM/VtV9G4zItPqfmo2Yxpp9Ma01alWLKeqdPu73PiM+OqySnFL0NJ4t1SOvPpmQZc3u89Lr82o3Q6cCBuXxIW6hkG/e0igxT3vhH/jate4oHYpt/nLvTgRHa0KHWyLB88o3nZq5GN5fo4435AiO07dGuWXAKUiwff/v/R1f6aF0y0LhxgwYbp8aZsfdrW51DOH70Y3DSb64UJt1RhZ9Pjt1nDNtsZ7iCl40fdzU+8EU2TjYyieHyP+N4Aojr32gM2yymfmimjrlhRlrOvvxBkYwdzo2lbGwJLlEX51stEVpxT2Bv856jk/XsSkuMFo60RW31rnVFKeU2Ae06+/vLBi14RO6XuQBY/8ZZY1I6dnP32uZfhXD7ZGTpAubP/8SpdymXRX+ezudLpyR+f3zNmQ/CrQLtdAAAAAElFTkSuQmCC\" width=\"29\"/></div> <div class=\"dsc_area\"> <strong class=\"elss tit\">코로나19</strong> <p class=\"elss dsc\">확진현황 및 백신·접종 정보</p> </div> </a> <a class=\"spnew_bf item\" href=\"?where=nexearch&amp;query=%EC%8B%A0%EC%86%8D%ED%95%AD%EC%9B%90%EA%B2%80%EC%82%AC%EA%B8%B0%EA%B4%80&amp;sm=tab_etc\" onclick=\"return goOtherCR(this, 'a=bnr.link&amp;r=2&amp;i=&amp;u='+urlencode(this.href));\"> <div class=\"ico_area\"><img alt=\"\" class=\"ico\" height=\"29\" src=\"data:image/png;base64,iVBORw0KGgoAAAANSUhEUgAAADoAAAA6CAMAAADWZboaAAAABGdBTUEAALGPC/xhBQAAAAFzUkdCAK7OHOkAAAC0UExURUdwTG+H9mB87YOd94ei+Fl06FFs5Flz6X2X9I6q+E1o4ZKs91Fr4nOL+FRu5WJ771Vv5myF8GuE7JKs9lx363OL+WuE9GB67HCK90tn4FBq45Kt92F67Vdx52yF9XCI9nOL+Fp06VRu5mB67WqD82aA8WJ77lFs5Fx262R98P///09q405o4lNt5WiB8l547Exn4ZGr+Iyo+ZSu95ew9sTO+K269tje+5mp85+v9XqS7u3w/aF8NAkAAAAddFJOUwC9ECBkIFz+QYXc6oLfvoPuz/y/L4ef3++uf8+uS4QCXwAAAqhJREFUSMfNlul2okAQhSOiDRrHJW4xYXVBEEENRqPv/17Tq3Rrt8CcM+ekYgx/vtyq21VFv7z8qjBGtc7Usaf9Wteowg1HU8dxbMe2F4tFkkzGjZJgvea6roNYhCbJMlmG5WB9eiOx5hJGuFp1C0ENSfKaEA1DiM4/tYJkOwK5yMl5OmkUk66guSTkPE0nz3T7Ask0iWi6Xv9RkyP3oVAMUnLtKb2qu4+FLgmJUQ+AoQJVmUtFPc8DipQNKmo7XKG5JkSBZcm7cizJNuRIAElLKqs9mGsfv2m2KdW0/J6myFfsv2MUfd/MpajflJ/MnUUIRekS0kLhb1+l/t73H0ZZtgCT/rYlQTsPnUtRZi4mfRkqFooOFKHMXIBAfxsEgQQlmmS4nR8Upyg6nlEMALFouw02GxW6IBZdIyFOFiODQIZ2uC66Q68WSReicU82cJxF5xMK+A+u6O/xTESRZixrp7G4FmAvIJu83FxMxu+ydcYKxXMG0ZSgIC90A1FZN2l345ISlJrrB5jcxdIFVRO3GEFBni7S3MkH1mBbLKTTglHuWGKINhVbgo3oinTuTxSdQV4nTHfXUr2iEqZJm/5wAXm2iFSJQlm2xQgJPIu3CKLvymXaGOQ7Fw/arekJ2Xqy/5vc5uRPlJDqdFF0eVFL1NzNnr+vPpkmAIA/0KeF0p7qz7mNQjuXFKoVvWAbE54sZ9GN7XGalUh4Cekxc3OyNyx58QH8iG4Kj0U43nuLmuUvTjOx0FmVS9fM5060EonYf9PELBvuymTd6BPRvlGvcis139pZlg0QeYEP7Tez3O1U/8hoDOLdgD239WLS/IKRwQ/8vVzwM/7JzEJ0v/9CH/zFnslTser+IQ742yxRa/sgiQ+9tMM8Vtphdq66bsLQ9Urn+t/jL7+i3b0O8lH+AAAAAElFTkSuQmCC\" width=\"29\"/></div> <div class=\"dsc_area\"> <strong class=\"elss tit\">신속항원검사</strong> <p class=\"elss dsc\">내 주변 검사기관 찾기</p> </div> </a> <a class=\"spnew_bf item\" href=\"https://news.naver.com/main/factcheck/main.nhn?section=%C4%DA%B7%CE%B3%AA%B9%E9%BD%C5\" onclick=\"return goOtherCR(this, 'a=bnr.link&amp;r=3&amp;i=&amp;u='+urlencode(this.href));\" target=\"_blank\"> <div class=\"ico_area\"><img alt=\"\" class=\"ico\" height=\"29\" src=\"data:image/png;base64,iVBORw0KGgoAAAANSUhEUgAAADoAAAA6CAMAAADWZboaAAAABGdBTUEAALGPC/xhBQAAAAFzUkdCAK7OHOkAAAEgUExURUdwTHaN9d3d5dra5WiB7nWL9GuI72p/7uHh6dXV4HmQ9lVw5WB560tm4e/v+NHR3u3t9myE8Etn4dPT4Nzc51t16Ozu9uvr9NHR3ERg3WyE7+Hh69vb5/Ly+s/P3HuR9eLj7e/v9+jp8tnZ5Nrb5m6G8VZw5uPk7ejp8mqC7+Xl71lz59/f6Ulk4Fx16UVh3urr83KJ89fX4t3d59XV4ezs9VFr5HWM9eHi7Gd/7u7v99DQ3VNu5PDx+ebn8NLS3k1o4k9p41536mB560tm4UJe3WN77P7kUtTU32V97XmQ9jtX2T9b28jM5VNq0EBazWF21XeJ0/TdXOrXZNnLdG6D3Upiz8W+jL+4iYGOwZqgsbq2lauroY6ayIaV25um3nm/uWMAAAAjdFJOUwDMEGJkjRAgIJHijM/+j8/Lt6m53t+kb9/eQOY/3u+gxt3tTsmu+gAAA0pJREFUSMfl1llb2kAUBmAVrEZ4VNytS7WJUDaXhB2pgOgUIZAEcG/7//9Fz5mZJBMShF77YeIN7zNzcsjMzM19+iyFI9Ht9HWhdrS+urs8u/sS2b5tnqfjcaA0R6uz6a+x9v1900NrtcrOdLwUS5bb9zhoGmShVkFHMw2Hz5I2xUEbFSGnoY/k4hmn536ar+RXJz+e+SsmnVLrjDhZX5gsnfkCvb5u1PMizF9eTrDzRYHSp4TUUSzrgXUWr0Qat+mlJz8C6g0XGcVSHdpyCYbed339XKFULLVQqLdsxSjN9/H+fnsoBpTacslPvGh2xgYFSWnZU2qWERvxHPoHHSu1AdRDUuwvdeId1Dtfu1SHpjDsnkolxOYuPgSXmqXj2IS5VCIhPuQVoAFdbWUFgobnYHy+rDUCbXGaEFLCq+T2JyxQkE2Yb5yWmk14WAlkCRMKKvV1aJHh84jPN+sqTyT3h89bczYaEpqByegFG+avqSBQRn8ymVIJrhPhKfGuPhHrfdR8GRDLgFKzSDGPfQOsYvR74DBbDrXn+5tY5i2uEEPyTge9oDKjg9V1o/+oM5k58NE38sS6+kIGNs3gB2yvx6WmaRlNpHy+r/wHQQijfJSM3uv3e7qGEK1L7RfujbyzrprEwq5yqjmUuSAKtY7oYvhMnulTumPDoIQJo8Uo2pawKvGuDqEt52njjRCDzveOfRelTm+aoihwbfqXJXNAiAUXeW2IFJGioFVoNElYl/i72jafLIDDF9ZVRhXFNHQUumHgP1mW3R/ikrgsmaaBi3cdS72D2Wk4RZkRvDDC8rQS9K5eIGWRFUepqqxuia960LsKtEvH4gyMqtKbJO4ZdL4BlBuZKuYgnuU0xge9ZZsNfVdhvl3Z+TpNTs3lcrLk3coDS+12PQoc0tzYGh6bQhnCqNL4xpFMtj2LN6POSDS/8LPnOxiEy2VhX+Wldlxh5ybgWLDo7yqlAkMpBW2wUV9ruh0R0awFHwiiEyljN9Xq2qTDRJQfXJxSO1xVqZssIZG0vU9xygejrlqVPjxybXvm27ER5jg05aC34Xa1A9TN5gynxI0Gn29XoJuHsx2GI/usqzbdkxb+6yi9sQ/0eG9NCi3Pffr8A1MBnr4iV9l7AAAAAElFTkSuQmCC\" width=\"29\"/></div> <div class=\"dsc_area\"> <strong class=\"elss tit\">코로나19 팩트체크</strong> <p class=\"elss dsc\">코로나백신 결과 보기</p> </div> </a> <a class=\"spnew_bf item\" href=\"?where=nexearch&amp;query=%EC%9A%B0%EB%A6%AC%EB%8F%99%EB%84%A4+%EC%9E%94%EC%97%AC%EB%B0%B1%EC%8B%A0%EC%98%88%EC%95%BD&amp;sm=tab_etc\" onclick=\"return goOtherCR(this, 'a=bnr.link&amp;r=4&amp;i=&amp;u='+urlencode(this.href));\"> <div class=\"ico_area\"><img alt=\"\" class=\"ico\" height=\"29\" src=\"data:image/png;base64,iVBORw0KGgoAAAANSUhEUgAAADoAAAA6CAMAAADWZboaAAAABGdBTUEAALGPC/xhBQAAAAFzUkdCAK7OHOkAAAE4UExURUdwTLe4x3p6gHd3d3d3f0tm42RkbJup705m43R0fHNze3Bwd4mJkr6+zGmC8W6F83x8g5iYonx8goaMrnOL9lRu6HeO9r+/y+bo8ebo83FxeHV1fHiP+Vx261l06nBweG5udmyE8XmQ+JycqGxsdnBweWZ/756epqKx8XaO9XR0fujo83uR96qstG96s3mQ+IGBiWB67VJt51137GmB8U5q5W1tdFVw6GyE8nBweGN87nKK9Upl41hy6eXm8Fp0693e6eHi7dLT38fH1M7O22Z/8HeO92+H9IODi8rK13Jye2BgZ9bW4mVlbGlpccDAzsTE0dna5YmJkn19hnl5gezZZYCR3f7kUpmZoqWotOHRcZKSnHV1ferXZp+fqKGu7W2C5HeK23NzfJWi5ImX3sG8lXaL6Wx9yucL4lIAAAAxdFJOUwAvYBAw74AQMJ9/757vac/unyABz+nv7s/P1LTPnohvQEjfb1CO3t/PoH/PoO/fj97EJL62AAACrUlEQVRIx93WeVPaQBgG8EVoMKK0mHoUPHvfLXIGVBAhYLivGCECAtbv/w367maTQKckK53pTLv/ZYbfPA/vbg6E/ut1FAquLSc3faIoM1tX4NVMaBzomNG63w3UgHXlI/YjixQ2B6raXzcvPb54nDVXCKj9fsu0XC3O3lkI9Fstw3I1oNiyzcr7pWVYrlqt1WjuIYN8cX4DtASWK1ct63M7yt3z8wuwpdI6V8a0SjuLbhZ5cXFTgqWVqeVgzuIb57Ygs9ksseMywRycqsPXTBJoswm2XZKx5Zhm+8mQ2WZlALYts8pdKiG0UskNgLZFNvme/s8mkWCBtnkW+TQ6tDIruVwur7JZkNHCcEbm8/krtd3pdHhHmYwWCqmhUZfIqyu142hBEhoe6pDKy0tsNd5WFjFNpcKRSRPLHJWNRr+jaTbW+7xY1EPDkcyEyjyRjXpf08Yyv1CmbxSdRiKZs8lMZqNe3wiNx7K8uVBedxW9L9DExJT1en3HJfCyHHQvkOkfvevbOxp6lkhMrcwdF/xkhff8Vu5J6XSRWIOexKYgL/VMmycRkcUksXpfoLHpTOai9U267yl4Z0ZgR5EM0BOgp1OcuWEn/ZLUgxEl4RCOet07IzR2eqo4ZKKXkjTtkvHCfEf6P8WhsBS7TEE4liQprWBbMOdr0Ce2meizhIek3OLx0k015ar9/bJHKLb3mGYs6iTRNqHJpHKvzPd1lEDJppIhWZvKImHAJJRSM5RBog8GTVmHMBZjkciv97VuGhzKJAXvttE3bPZlkvCp8LU41/cRMhh/+KUvo0Q8vDdHc323GCVaE+Gl+2CFJpglWhHB8v639BBuHXiZpewLifgxueo/2N/3H7N//61oPg/y0NtPQMIjZOeZZ7lvzj+Q7b8v0felJfIsLf+p9RPTRPuryux+OAAAAABJRU5ErkJggg==\" width=\"29\"/></div> <div class=\"dsc_area\"> <strong class=\"elss tit\">잔여백신예약</strong> <p class=\"elss dsc\">내 주변 잔여백신 찾기</p> </div> </a> <a class=\"spnew_bf item\" href=\"?where=nexearch&amp;query=%EC%BD%94%EB%A1%9C%EB%82%9819+%EB%B3%91%EC%83%81%EA%B0%80%EB%8F%99%EB%A5%A0&amp;sm=tab_etc\" onclick=\"return goOtherCR(this, 'a=bnr.link&amp;r=5&amp;i=&amp;u='+urlencode(this.href));\"> <div class=\"ico_area\"><img alt=\"\" class=\"ico\" height=\"29\" src=\"data:image/png;base64,iVBORw0KGgoAAAANSUhEUgAAADoAAAA6CAMAAADWZboaAAAABGdBTUEAALGPC/xhBQAAAAFzUkdCAK7OHOkAAADAUExURUdwTF946XqQ98/P2Wh/51dx6Kiv2Fhz61l16lNt5k5p4naM9Ulk4HaM9G6C5ERg3V946UZi3mqD8NLT4Ehi3neO9auy2V9461946cvM2Zmjzll06nCI8qSr1myE8Exn4aau1/7kUnWM9FBq40hj31Nt5GN87FZw5mZ/7XmQ9llz6KGp1WB56sXG0szN2snK11x26WmB76mw2ERg3Z6n1NDR3cHCz2+D1eXTaoqVxdPU4KGmsZiesGl/4HyO27Kxn0Mgn/QAAAAbdFJOUwBA50Eg7/7+31/5X8vMKO5Q3u+/j4/Hvo+/54CCPCgAAAIsSURBVEjH7ZRdd6IwEECVgsGzcqy2tt2TVkHAjxRdhMWyatv//6+akBACsST62LPjgy9e78xkZjqd/9HpTpzxdDp+fOpeCP4y5s/P0+lut1os7P4FoOnMMUlQTEZRbJv6yvW8kkZxjKxbPfJ2jUmKrlZEitByqZW0aaybUrQMLZ2cjaY0xtLQH2gUuq5Li3zD0Pf7OtIS/cjzdyYN/dlIOQmC9J/nvUWExPn6s5lqNiZCpQTl0llwr0CdJooQkwYDnf5i8uN4PH563vF0Or1RaTBUoGWluVcFlQbp5WhOpakKNejgF29KauWVBqkqYUcYpAaqatOkQHccrchU9ThdYQYLlLUXo8pzYfB84/c8F6Qj9fgzacS2jaJpmmpsrFNbcbW0b/HjZY6FFV+W0uG3q25DYPGUayvOpN8fJwgBrI7TWFxx0t5hS6EQh3Ce7AVvEpEO2g4TqKG4drtq76i9t7CB4tl4erTC0BrcqyZBRjXeokLvbnRQG0JLqvVw0IFrb1FaD4csU8NYAmRrlmXb7e+ba6wFuv3TDp9FGYljs9nsX15eiw8J13V7bq+XJMmDCaWEAUEpuSGxf2VRshRNHjAJZKvg3HO0YimM84VSm7aidP+XBIddLgZNFFKUkVhK0QJmBRcVJz1p7sh/CdlyVE5aQmEjEEIA4S8oB1CgrdHoMNDmpJEA+s6rUdBEwUXFSlZbK8C58dc7MGdGAlyL4utv66E4Y81f/qT4AuH3q7y1mTaOAAAAAElFTkSuQmCC\" width=\"29\"/></div> <div class=\"dsc_area\"> <strong class=\"elss tit\">코로나19 병상가동률</strong> <p class=\"elss dsc\">국내 중환자/일반병상 현황 보기</p> </div> </a> </div> </div> </section> <script type=\"text/javascript\">var nx_cr_right_area_info=[{ n:\"bnr\",r:1 }];</script></div><div class=\"ly_dimmed\"></div> </div> </div><div id=\"footer\"> <div class=\"sub_pack_btm\"> <a class=\"top\" href=\"#\" onclick=\"window.scrollTo(0,0); document.querySelector('#wrap a').focus(); return false;\"><i class=\"spnew ico_top\">맨위로</i></a> </div> <div class=\"footer_group\"> <div class=\"footer_menu\"> <span class=\"inner\"><a class=\"link\" href=\"https://www.naver.com/more.html\" onclick=\"return goOtherCR(this, 'u='+urlencode(this.href)+'&amp;a=fot.sitemap&amp;r=&amp;i=');\" target=\"_blank\">전체서비스</a></span> <span class=\"inner\"><a class=\"link\" href=\"https://policy.naver.com/policy/service.html\" onclick=\"return goOtherCR(this, 'u='+urlencode(this.href)+'&amp;a=fot.policy&amp;r=&amp;i=');\" target=\"_blank\">이용약관</a></span> <span class=\"inner\"><a class=\"link\" href=\"https://policy.naver.com/policy/privacy.html\" onclick=\"return goOtherCR(this, 'u='+urlencode(this.href)+'&amp;a=fot.privacy&amp;r=&amp;i=');\" target=\"_blank\"><strong>개인정보처리방침</strong></a></span> <span class=\"inner\"><a class=\"link\" href=\"https://help.naver.com/support/alias/search/integration/integration_1.naver\" onclick=\"return goOtherCR(this, 'u='+urlencode(this.href)+'&amp;a=fot.help&amp;r=&amp;i=');\" target=\"_blank\">통합검색 고객센터</a></span> <span class=\"inner\"><a class=\"link\" href=\"https://www.navercorp.com/\" onclick=\"return goOtherCR(this, 'u='+urlencode(this.href)+'&amp;a=fot.nhn&amp;r=&amp;i=');\" target=\"_blank\"><i class=\"ico_footer_logo\">© NAVER Corp.</i></a></span> </div> </div> </div> <script type=\"text/javascript\"> /* [PR] 서비스에서 사용하는 클릭로그함수 설정 */ window.__atcmpCR = function(we, el, name, order, areaCode, rank) { var htAreaCode = __ghtAutoCompleteConfig[\"htAreaCode\"]; if (typeof htAreaCode[name] !== \"undefined\") { var areaCode = htAreaCode[name][0]; var rank = htAreaCode[name][1]; if (areaCode !== \"\") { tCR(\"a=\"+areaCode+\"&u=\"+urlencode(el.href)); /* clickcr(el, areaCode, rank, '', we); */ /* console.log(areaCode + rank); */ } } return false; }; /* [PR] 서비스별로 form submit 전에 처리해야하는 내용은 이곳에 작성해주세요. */ window.__atcmpSubmitBefore = function(elForm) { try { top.nx_form_submit(elForm); } catch (e) { try { nx_form_submit(elForm); } catch (e) {} } }; /* [PR] 각 서비스별 옵션 : 로그인여부는 pr에서 정의필요합니다. */ window.__ghtAutoCompleteConfig = { /* 자동완성 설정 (Top&Bottom) */ \"bLogin\" : false, /* 로그인 여부 */ \"sFromWhere\" : \"nx\", /* 검색 출처 (폼전송시 함께 전송) */ \"htApiUrl\" : { /* 자동완성 API 정보 */ \"sMyKeyword\" : 'https://s.search.naver.com/n/mykeyword/search', \"sAcKeyword\" : \"//ac.search.naver.com/nx/ac\", \"sAcAnsType\" : \"2\" /* 1 : 기존정답형만 lookup (탭검인 경우 1로 설정) */ }, \"ahtOption\": [ { \"sOrder\": \"asc\", /* 정렬방식 (asc/desc) */ \"sFormId\": \"nx_search_form\", /* 폼엘리먼트 ID */ \"sInputId\": \"nx_query\", /* 입력창 엘리먼트 ID */ \"sViewId\": \"nx_autoframe_top\", /* 자동완성 레이어 ID */ \"sViewToggleButtonId\": \"nautocomplete\" /* 레이어토글 버튼 ID */ } ], /* 서비스별 클릭영역코드 매핑정보 (sch.xxx: 검색창영역, sug.xxx: 자동완성 영역, sly.xxx: 최근 검색어 영역)*/ \"htAreaCode\": { \"expand\": ['sch.expand', '0'], /* 우측 역삼각형 펼침 */ \"close\": ['sch.close', '0'], /* 우측 역삼각형 접힘 */ \"ansdirect\": ['sug.ansdirect', ''], /* 정답형 바로가기 (엔터/클릭) */ \"sugoff\": ['sug.sugoff', ''], /* 자동완성 끄기 클릭 */ \"sugon\": ['sug.sugon', ''], /* 자동완성 켜기 클릭 */ \"plus.use\": ['sug.cxon', ''], /* 자동완성 플러스 사용 */ \"plus.unuse\": ['sug.cxoff', ''], /* 자동완성 플러스 사용안함 */ \"saveoff\": ['sug.saveoff', ''], /* 검색어저장 끄기 클릭 */ \"saveon\": ['sug.saveon', ''], /* 검색어저장 켜기 클릭 */ \"rx\": ['sly.rx', ''], /* 최근검색어 개별삭제 클릭 */ \"ralldel\": ['sly.ralldel', ''], /* 최근검색어 전체삭제 클릭 */ \"kwd.expand\": ['sug.plus', ''] /* ↖︎ 버튼 클릭 */ }, /* 서비스별 SM파라미터 매핑정보 * sm파라미터 추가시 https://oss.navercorp.com/sau-pc/naver_autocomplete/issues/19 확인 필요 */ \"htSmParam\" : { \"hty\" : 'tab_hty.top', /* sm 파라미터 초기값 */ \"htyb\" : 'tab_hty.btm', /* sm 파라미터 초기값(검색창 하단) */ \"hst\" : 'tab_sly.hst', /* 최근검색키워드 */ \"prefix\" : 'tab_sug', /* sm 파라미터 서비스별 prefix */ \"top\" : 'tab_sug.top', /* 자동완성키워드 */ \"btm\" : 'tab_sug.btm', /* 자동완성키워드 (역순) */ \"pat\" : 'tab_sug.pat', /* 자동완성키워드 (부분자동완성) */ \"mbk\" : 'tab_sug.mbk', /* 자동완성키워드 (오타교정자동완성) */ \"nlq\" : 'tab_sug.nlq', /* 자연어검색 */ \"asgl\" : 'tab_sug.asgl', /* 1국가번호 (한국 국가번호) */ \"asga\" : 'tab_sug.asga', /* 1국가번호 다른중복지역 */ \"aslt\" : 'tab_sug.aslt', /* 3로또당첨번호 */ \"aspl\" : 'tab_sug.aspl', /* 6연금복권당첨번호 */ \"astm\" : 'tab_sug.astm', /* 7영업시간 (신한은행 영업시간) */ \"ast\" : 'tab_sug.ast', /* 8전화번호 (국세청 전화번호) */ \"ase\" : 'tab_sug.ase', /* 9환율 (엔화환율) */ \"aswt\" : 'tab_sug.aswt', /* 10해외날씨 (일본날씨) */ \"asiw\" : \"tab_sug.asiw\", /* 11국내날씨 (서울날씨) */ \"asis\" : 'tab_sug.asis', /* 12올림픽순위 */ \"extension\" : 'tab_sug.search', /* 검색기반 자동완성 */ \"asct\" : \"tab_sug.asct\" /* 문맥검색키워드 */ } }; </script> <script type=\"text/javascript\"> /* 자동완성 객체 생성 (Top) */ new naver.common.atcmp.naver_web.Controller(__ghtAutoCompleteConfig).attach({ \"onOpen\": function(){ jQuery(\"#header_wrap .search_area\").addClass(\"type_write\"); }, \"onClose\": function(){ jQuery(\"#header_wrap .search_area\").removeClass(\"type_write\"); }, \"onSelect\": function(oCustomEvent) { __atcmpSubmitBefore(oCustomEvent.elForm); }, \"onClickLog\": function(oCustomEvent) { __atcmpCR(oCustomEvent.event, oCustomEvent.element, oCustomEvent.name, oCustomEvent.order, \"\", \"\"); } }); </script> <script> (function() { var startApplication = function () { var jsFile = \"https://ssl.pstatic.net/sstatic/au/module/keep/Controller_210512.js\"; var require = window.require.config({ \"context\": \"search_common_module\", \"paths\": { \"Keep\": jsFile.replace(/\\.js$/, \"\") } }); define(\"jquery\", [], function () { return jQuery; }); require([\"Keep\"], function (Controller) { var oSearchKeep = new Controller({ \"api\": { \"token\": \"https://apis.naver.com/naverSearchFe/naver_keep/naver_keep\", \"check\": \"https://apis.naver.com/naverSearchFe/naver_keep/v1_web_keep_check?type=bookmark&key={=url}\", \"create\": \"https://apis.naver.com/naverSearchFe/naver_keep/v1_web_bookmark_create\", \"delete\": \"https://apis.naver.com/naverSearchFe/naver_keep/v1_web_keep_delete\" }, \"loginUrl\": \"https://nid.naver.com/nidlogin.login?url={=location}\" }); oSearchKeep.on({ \"create\": function (we) { var crLog = we.data(\"cr-on\"); if (crLog) tCR(crLog); }, \"delete\": function (we) { var crLog = we.data(\"cr-off\"); if (crLog) tCR(crLog); }, \"showLayer\": function (we) { var crLog = we.data(\"cr-on\"); if (crLog) tCR(crLog); }, \"hideLayer\": function (we) { var crLog = we.data(\"cr-off\"); if (crLog) tCR(crLog); } }); window.naver.common.gv.searchKeep = oSearchKeep; }); }; naver.common.load_js(window.require ? null : naver.common.gv.REQUIRE_JS, startApplication, true, 150); })(); </script> <script> (function() { var jsFileURL = \"https://ssl.pstatic.net/sstatic/fe/module/search_video_player2/PcVideoPlayer2_210909.js\"; var jsLoadCallback = function() { var require = window.require.config({ \"context\": \"search_common_modules\", \"paths\": { \"VideoPlayer2\": jsFileURL.replace(/\\.js$/, \"\") } }); require([\"VideoPlayer2\"], function() { naver.common.VideoPlayer2.AD_SDK_JS = \"https://ssl.pstatic.net/tveta/libs/ssp-video/prod/ssp.web.sdk_2.2.0.js\"; }); }; var requirejs = naver.common.gv.REQUIRE_JS; naver.common.load_js(window.require ? null : requirejs, jsLoadCallback, true, 50); })(); </script> <script> (function() { var requirejs = naver.common.gv.REQUIRE_JS; var jsFileURL = \"https://ssl.pstatic.net/sstatic/fe/sfe/search_audio_player2/AudioPlayer2_220208.js\"; var jsLoadCallback = function() { var require = window.require.config({ \"context\": \"search_common_modules\", \"paths\": { \"AudioPlayer2\": jsFileURL.replace(/\\.js$/, \"\") } }); require([\"AudioPlayer2\"], function() { naver.common.AudioPlayer2.WEB_PLAYER_JS = \"https://static-audiop.pstatic.net/audiocloud-webplayercore/1.1.7.0/js/audiocloud_webplayer_core.js\"; }); }; naver.common.load_js(window.require ? null : requirejs, jsLoadCallback, true, 50); })(); </script> </div> <script type=\"text/javascript\"> (function() { var needFix = navigator.userAgent.toLowerCase().indexOf('webkit') > -1; d = document; if (!needFix || !d.querySelectorAll) return; var toArray = function(list){ var armap=[]; i=0; for(;i<list.length;++i){ armap.push(list[i]); } return Array.prototype.slice.call(armap, 0); } ; window.addEventListener('load', function() { toArray(d.querySelectorAll('#u_skip a')).forEach(function(el) { el.addEventListener('click', function() { var target = d.getElementById(this.href.split('#')[1]); oldTabIndex = target.getAttribute('tabindex'); oldOutlineWidth = d.defaultView.getComputedStyle(target, null).getPropertyValue('outline-width'); target.setAttribute('tabindex', 0); target.style.outlineWidth = 0; target.focus(); if (oldTabIndex === null) target.removeAttribute('tabindex'); else target.setAttribute('tabindex', oldTabIndex); }, false); }); }, false); })(); </script><script type=\"text/javascript\"> if(typeof nx_usain_beacon !== 'undefined') { nx_usain_beacon.add_tag(\"conn_._TLSv1.3_.\") ; $Fn(function () { nx_usain_beacon.send(); }).attach(window, \"load\") ; } </script></body> </html>"
      ]
     },
     "execution_count": 122,
     "metadata": {},
     "output_type": "execute_result"
    }
   ],
   "source": [
    "soup"
   ]
  },
  {
   "cell_type": "code",
   "execution_count": null,
   "id": "ae688454",
   "metadata": {
    "id": "ae688454",
    "outputId": "ba2d70aa-45b8-486e-cfe1-655df41f0632"
   },
   "outputs": [
    {
     "data": {
      "text/plain": [
       "10"
      ]
     },
     "execution_count": 120,
     "metadata": {},
     "output_type": "execute_result"
    }
   ],
   "source": [
    "len(news_c)"
   ]
  },
  {
   "cell_type": "code",
   "execution_count": null,
   "id": "180966ef",
   "metadata": {
    "id": "180966ef",
    "outputId": "f1ebac61-df32-4045-d956-6265a777437f",
    "scrolled": true
   },
   "outputs": [
    {
     "data": {
      "text/plain": [
       "<a class=\"news_tit\" href=\"http://www.newsis.com/view/?id=NISX20220428_0001851241&amp;cID=15001&amp;pID=15000\" onclick=\"return goOtherCR(this, 'a=nws*a.tit&amp;r=77&amp;i=88000127_000000000000000011150876&amp;g=003.0011150876&amp;u='+urlencode(this.href));\" target=\"_blank\" title=\"[핫스탁]포바이포·골드앤에스·덕신하우징\">[핫스탁]<mark>포바이포</mark>·골드앤에스·덕신하우징</a>"
      ]
     },
     "execution_count": 121,
     "metadata": {},
     "output_type": "execute_result"
    }
   ],
   "source": [
    "articles[1]"
   ]
  },
  {
   "cell_type": "code",
   "execution_count": null,
   "id": "aaa706a5",
   "metadata": {
    "id": "aaa706a5",
    "outputId": "853df608-3a89-4473-b180-dff1ae5aec0c",
    "scrolled": true
   },
   "outputs": [
    {
     "data": {
      "text/plain": [
       "'https://biz.chosun.com/stock/stock_general/2022/04/29/LKY4OYRJ3ZHJJNAGCDVNIJYJFE/?utm_source=naver&utm_medium=original&utm_campaign=biz'"
      ]
     },
     "execution_count": 126,
     "metadata": {},
     "output_type": "execute_result"
    }
   ],
   "source": [
    "articles[0].attrs['href']"
   ]
  },
  {
   "cell_type": "code",
   "execution_count": null,
   "id": "7c56e4d6",
   "metadata": {
    "id": "7c56e4d6",
    "outputId": "5c79c9b2-1ea0-4e75-c89d-0a04aeddc300"
   },
   "outputs": [
    {
     "ename": "NameError",
     "evalue": "name 'soup' is not defined",
     "output_type": "error",
     "traceback": [
      "\u001b[1;31m---------------------------------------------------------------------------\u001b[0m",
      "\u001b[1;31mNameError\u001b[0m                                 Traceback (most recent call last)",
      "\u001b[1;32m~\\AppData\\Local\\Temp/ipykernel_16796/1734500185.py\u001b[0m in \u001b[0;36m<module>\u001b[1;34m\u001b[0m\n\u001b[1;32m----> 1\u001b[1;33m \u001b[0msoup\u001b[0m\u001b[1;33m.\u001b[0m\u001b[0mselect_one\u001b[0m\u001b[1;33m(\u001b[0m\u001b[1;34m'main_pack > section.sc_new.sp_nnews._prs_nws > div > div.group_news > ul'\u001b[0m\u001b[1;33m)\u001b[0m\u001b[1;33m\u001b[0m\u001b[1;33m\u001b[0m\u001b[0m\n\u001b[0m",
      "\u001b[1;31mNameError\u001b[0m: name 'soup' is not defined"
     ]
    }
   ],
   "source": [
    "\n"
   ]
  },
  {
   "cell_type": "code",
   "execution_count": null,
   "id": "50ba86fe",
   "metadata": {
    "id": "50ba86fe"
   },
   "outputs": [],
   "source": [
    "df_IPO_list = glob('../csv_data/*.csv')[6]"
   ]
  },
  {
   "cell_type": "code",
   "execution_count": null,
   "id": "f498274b",
   "metadata": {
    "id": "f498274b"
   },
   "outputs": [],
   "source": [
    "df_IPO = pd.read_csv(f\"{df_IPO_list}\",encoding='cp949')\n",
    "df_IPO.drop(['Unnamed: 0'], axis = 1,inplace=True)"
   ]
  },
  {
   "cell_type": "code",
   "execution_count": null,
   "id": "20a364cb",
   "metadata": {
    "id": "20a364cb",
    "outputId": "3e1a4bd1-ea77-4a52-a8a7-3fffd3e8c945"
   },
   "outputs": [
    {
     "data": {
      "text/html": [
       "<div>\n",
       "<style scoped>\n",
       "    .dataframe tbody tr th:only-of-type {\n",
       "        vertical-align: middle;\n",
       "    }\n",
       "\n",
       "    .dataframe tbody tr th {\n",
       "        vertical-align: top;\n",
       "    }\n",
       "\n",
       "    .dataframe thead th {\n",
       "        text-align: right;\n",
       "    }\n",
       "</style>\n",
       "<table border=\"1\" class=\"dataframe\">\n",
       "  <thead>\n",
       "    <tr style=\"text-align: right;\">\n",
       "      <th></th>\n",
       "      <th>종목명</th>\n",
       "      <th>종목코드</th>\n",
       "      <th>주관사</th>\n",
       "      <th>수요예측일</th>\n",
       "      <th>공모청약일</th>\n",
       "      <th>확정공모가</th>\n",
       "      <th>의무보유확약</th>\n",
       "    </tr>\n",
       "  </thead>\n",
       "  <tbody>\n",
       "    <tr>\n",
       "      <th>0</th>\n",
       "      <td>포바이포</td>\n",
       "      <td>389140</td>\n",
       "      <td>미래에셋증권</td>\n",
       "      <td>2022.04.14  ~   2022.04.15</td>\n",
       "      <td>2022.04.19  ~   2022.04.20</td>\n",
       "      <td>- 원</td>\n",
       "      <td>0.0</td>\n",
       "    </tr>\n",
       "    <tr>\n",
       "      <th>1</th>\n",
       "      <td>신영스팩7호</td>\n",
       "      <td>419270</td>\n",
       "      <td>신영증권</td>\n",
       "      <td>2022.04.13  ~   2022.04.14</td>\n",
       "      <td>2022.04.18  ~   2022.04.19</td>\n",
       "      <td>- 원</td>\n",
       "      <td>0.0</td>\n",
       "    </tr>\n",
       "    <tr>\n",
       "      <th>2</th>\n",
       "      <td>신한스팩9호</td>\n",
       "      <td>405640</td>\n",
       "      <td>신한금융투자</td>\n",
       "      <td>2022.04.12  ~   2022.04.13</td>\n",
       "      <td>2022.04.18  ~   2022.04.19</td>\n",
       "      <td>- 원</td>\n",
       "      <td>0.0</td>\n",
       "    </tr>\n",
       "    <tr>\n",
       "      <th>3</th>\n",
       "      <td>미래에셋비전스팩1호</td>\n",
       "      <td>412930</td>\n",
       "      <td>미래에셋증권</td>\n",
       "      <td>2022.04.05  ~   2022.04.06</td>\n",
       "      <td>2022.04.11  ~   2022.04.12</td>\n",
       "      <td>- 원</td>\n",
       "      <td>0.0</td>\n",
       "    </tr>\n",
       "    <tr>\n",
       "      <th>4</th>\n",
       "      <td>키움스팩6호</td>\n",
       "      <td>413600</td>\n",
       "      <td>키움증권</td>\n",
       "      <td>2022.03.23  ~   2022.03.24</td>\n",
       "      <td>2022.03.28  ~   2022.03.29</td>\n",
       "      <td>- 원</td>\n",
       "      <td>0.0</td>\n",
       "    </tr>\n",
       "    <tr>\n",
       "      <th>...</th>\n",
       "      <td>...</td>\n",
       "      <td>...</td>\n",
       "      <td>...</td>\n",
       "      <td>...</td>\n",
       "      <td>...</td>\n",
       "      <td>...</td>\n",
       "      <td>...</td>\n",
       "    </tr>\n",
       "    <tr>\n",
       "      <th>830</th>\n",
       "      <td>모린스</td>\n",
       "      <td>110310</td>\n",
       "      <td>우리투자,현대</td>\n",
       "      <td>2009.09.08  ~   2009.09.09</td>\n",
       "      <td>2009.09.15  ~   2009.09.16</td>\n",
       "      <td>39000 원</td>\n",
       "      <td>0.0</td>\n",
       "    </tr>\n",
       "    <tr>\n",
       "      <th>831</th>\n",
       "      <td>디에스케이</td>\n",
       "      <td>109740</td>\n",
       "      <td>신한금융투자</td>\n",
       "      <td>2009.09.07  ~   2009.09.08</td>\n",
       "      <td>2009.09.14  ~   2009.09.15</td>\n",
       "      <td>5000 원</td>\n",
       "      <td>0.0</td>\n",
       "    </tr>\n",
       "    <tr>\n",
       "      <th>832</th>\n",
       "      <td>제넥신</td>\n",
       "      <td>95700</td>\n",
       "      <td>대우,교보증권</td>\n",
       "      <td>2009.09.01  ~   2009.09.02</td>\n",
       "      <td>2009.09.07  ~   2009.09.08</td>\n",
       "      <td>27000 원</td>\n",
       "      <td>0.0</td>\n",
       "    </tr>\n",
       "    <tr>\n",
       "      <th>833</th>\n",
       "      <td>톱텍</td>\n",
       "      <td>108230</td>\n",
       "      <td>HMC투자증권</td>\n",
       "      <td>2009.08.27  ~   2009.08.28</td>\n",
       "      <td>2009.09.03  ~   2009.09.04</td>\n",
       "      <td>10400 원</td>\n",
       "      <td>0.0</td>\n",
       "    </tr>\n",
       "    <tr>\n",
       "      <th>834</th>\n",
       "      <td>동국S&amp;C</td>\n",
       "      <td>100130</td>\n",
       "      <td>삼성증권</td>\n",
       "      <td>2009.08.06  ~   2009.08.12</td>\n",
       "      <td>2009.08.20  ~   2009.08.21</td>\n",
       "      <td>11000 원</td>\n",
       "      <td>0.0</td>\n",
       "    </tr>\n",
       "  </tbody>\n",
       "</table>\n",
       "<p>835 rows × 7 columns</p>\n",
       "</div>"
      ],
      "text/plain": [
       "            종목명    종목코드        주관사                         수요예측일  \\\n",
       "0          포바이포  389140     미래에셋증권    2022.04.14  ~   2022.04.15   \n",
       "1        신영스팩7호  419270       신영증권    2022.04.13  ~   2022.04.14   \n",
       "2        신한스팩9호  405640     신한금융투자    2022.04.12  ~   2022.04.13   \n",
       "3    미래에셋비전스팩1호  412930     미래에셋증권    2022.04.05  ~   2022.04.06   \n",
       "4        키움스팩6호  413600       키움증권    2022.03.23  ~   2022.03.24   \n",
       "..          ...     ...        ...                           ...   \n",
       "830         모린스  110310    우리투자,현대    2009.09.08  ~   2009.09.09   \n",
       "831       디에스케이  109740     신한금융투자    2009.09.07  ~   2009.09.08   \n",
       "832         제넥신   95700    대우,교보증권    2009.09.01  ~   2009.09.02   \n",
       "833          톱텍  108230    HMC투자증권    2009.08.27  ~   2009.08.28   \n",
       "834       동국S&C  100130       삼성증권    2009.08.06  ~   2009.08.12   \n",
       "\n",
       "                          공모청약일      확정공모가  의무보유확약  \n",
       "0    2022.04.19  ~   2022.04.20        - 원     0.0  \n",
       "1    2022.04.18  ~   2022.04.19        - 원     0.0  \n",
       "2    2022.04.18  ~   2022.04.19        - 원     0.0  \n",
       "3    2022.04.11  ~   2022.04.12        - 원     0.0  \n",
       "4    2022.03.28  ~   2022.03.29        - 원     0.0  \n",
       "..                          ...        ...     ...  \n",
       "830  2009.09.15  ~   2009.09.16    39000 원     0.0  \n",
       "831  2009.09.14  ~   2009.09.15     5000 원     0.0  \n",
       "832  2009.09.07  ~   2009.09.08    27000 원     0.0  \n",
       "833  2009.09.03  ~   2009.09.04    10400 원     0.0  \n",
       "834  2009.08.20  ~   2009.08.21    11000 원     0.0  \n",
       "\n",
       "[835 rows x 7 columns]"
      ]
     },
     "execution_count": 45,
     "metadata": {},
     "output_type": "execute_result"
    }
   ],
   "source": [
    "df_IPO.columns = ['종목명','종목코드','주관사','수요예측일','공모청약일','확정공모가','의무보유확약'];df_IPO"
   ]
  },
  {
   "cell_type": "code",
   "execution_count": null,
   "id": "ff3e5e72",
   "metadata": {
    "id": "ff3e5e72",
    "outputId": "85f5057e-0260-43dd-bf62-1a370adc3bc4"
   },
   "outputs": [
    {
     "name": "stderr",
     "output_type": "stream",
     "text": [
      "C:\\Users\\82109\\AppData\\Local\\Temp/ipykernel_25096/623641536.py:1: DeprecationWarning: find_element_by_xpath is deprecated. Please use find_element(by=By.XPATH, value=xpath) instead\n",
      "  driver.find_element_by_xpath('//*[@id=\"collapse-step-1\"]').click()\n"
     ]
    }
   ],
   "source": [
    "driver.find_element_by_xpath('//*[@id=\"collapse-step-1\"]').click()\n",
    "time.sleep(2)"
   ]
  },
  {
   "cell_type": "code",
   "execution_count": null,
   "id": "a14ab47a",
   "metadata": {
    "id": "a14ab47a",
    "outputId": "3ae544c4-0e9e-4f8b-cd2c-887bb1eb3084"
   },
   "outputs": [
    {
     "name": "stderr",
     "output_type": "stream",
     "text": [
      "C:\\Users\\82109\\AppData\\Local\\Temp/ipykernel_25096/311740758.py:1: DeprecationWarning: find_element_by_xpath is deprecated. Please use find_element(by=By.XPATH, value=xpath) instead\n",
      "  driver.find_element_by_xpath('//*[@id=\"total-search-key\"]').send_keys('포바이포')\n"
     ]
    }
   ],
   "source": [
    "driver.find_element_by_xpath('//*[@id=\"total-search-key\"]').send_keys('포바이포')"
   ]
  },
  {
   "cell_type": "code",
   "execution_count": null,
   "id": "1a8f2e02",
   "metadata": {
    "id": "1a8f2e02",
    "outputId": "7a2d271d-b91a-470b-daa3-2c19756f5ea7",
    "scrolled": true
   },
   "outputs": [
    {
     "name": "stderr",
     "output_type": "stream",
     "text": [
      "C:\\Users\\82109\\AppData\\Local\\Temp/ipykernel_25096/448056896.py:1: DeprecationWarning: find_element_by_xpath is deprecated. Please use find_element(by=By.XPATH, value=xpath) instead\n",
      "  driver.find_element_by_xpath('//*[@id=\"collapse-step-1-body\"]/div[3]/div/div[1]/div[1]/a').click().clear()\n"
     ]
    },
    {
     "ename": "AttributeError",
     "evalue": "'NoneType' object has no attribute 'clear'",
     "output_type": "error",
     "traceback": [
      "\u001b[1;31m---------------------------------------------------------------------------\u001b[0m",
      "\u001b[1;31mAttributeError\u001b[0m                            Traceback (most recent call last)",
      "\u001b[1;32m~\\AppData\\Local\\Temp/ipykernel_25096/448056896.py\u001b[0m in \u001b[0;36m<module>\u001b[1;34m\u001b[0m\n\u001b[1;32m----> 1\u001b[1;33m \u001b[0mdriver\u001b[0m\u001b[1;33m.\u001b[0m\u001b[0mfind_element_by_xpath\u001b[0m\u001b[1;33m(\u001b[0m\u001b[1;34m'//*[@id=\"collapse-step-1-body\"]/div[3]/div/div[1]/div[1]/a'\u001b[0m\u001b[1;33m)\u001b[0m\u001b[1;33m.\u001b[0m\u001b[0mclick\u001b[0m\u001b[1;33m(\u001b[0m\u001b[1;33m)\u001b[0m\u001b[1;33m.\u001b[0m\u001b[0mclear\u001b[0m\u001b[1;33m(\u001b[0m\u001b[1;33m)\u001b[0m\u001b[1;33m\u001b[0m\u001b[1;33m\u001b[0m\u001b[0m\n\u001b[0m",
      "\u001b[1;31mAttributeError\u001b[0m: 'NoneType' object has no attribute 'clear'"
     ]
    }
   ],
   "source": [
    "driver.find_element_by_xpath('//*[@id=\"collapse-step-1-body\"]/div[3]/div/div[1]/div[1]/a').click()"
   ]
  },
  {
   "cell_type": "code",
   "execution_count": null,
   "id": "32cca8db",
   "metadata": {
    "id": "32cca8db"
   },
   "outputs": [],
   "source": [
    "from selenium.webdriver import ActionChains"
   ]
  },
  {
   "cell_type": "code",
   "execution_count": null,
   "id": "194bcddd",
   "metadata": {
    "id": "194bcddd",
    "outputId": "562817a6-5af0-42f3-a91a-504a5c0477c2"
   },
   "outputs": [
    {
     "ename": "NameError",
     "evalue": "name 'Keys' is not defined",
     "output_type": "error",
     "traceback": [
      "\u001b[1;31m---------------------------------------------------------------------------\u001b[0m",
      "\u001b[1;31mNameError\u001b[0m                                 Traceback (most recent call last)",
      "\u001b[1;32m~\\AppData\\Local\\Temp/ipykernel_25096/1216006832.py\u001b[0m in \u001b[0;36m<module>\u001b[1;34m\u001b[0m\n\u001b[1;32m----> 1\u001b[1;33m \u001b[0mActionChains\u001b[0m\u001b[1;33m(\u001b[0m\u001b[0mdriver\u001b[0m\u001b[1;33m)\u001b[0m\u001b[1;33m.\u001b[0m\u001b[0mkey_down\u001b[0m\u001b[1;33m(\u001b[0m\u001b[0mKeys\u001b[0m\u001b[1;33m.\u001b[0m\u001b[0mSHIFT\u001b[0m\u001b[1;33m)\u001b[0m\u001b[1;33m.\u001b[0m\u001b[0msend_keys\u001b[0m\u001b[1;33m(\u001b[0m\u001b[1;34m'home'\u001b[0m\u001b[1;33m)\u001b[0m\u001b[1;33m.\u001b[0m\u001b[0mperform\u001b[0m\u001b[1;33m(\u001b[0m\u001b[1;33m)\u001b[0m\u001b[1;33m\u001b[0m\u001b[1;33m\u001b[0m\u001b[0m\n\u001b[0m",
      "\u001b[1;31mNameError\u001b[0m: name 'Keys' is not defined"
     ]
    }
   ],
   "source": [
    "ActionChains(driver).key_down(Keys.SHIFT).send_keys('home').perform()"
   ]
  },
  {
   "cell_type": "code",
   "execution_count": null,
   "id": "31bc7b90",
   "metadata": {
    "id": "31bc7b90",
    "outputId": "bb42ad21-e528-47e6-a5ff-d5437c6e68b4"
   },
   "outputs": [
    {
     "name": "stderr",
     "output_type": "stream",
     "text": [
      "C:\\Users\\82109\\AppData\\Local\\Temp/ipykernel_25096/3191185724.py:1: DeprecationWarning: find_element_by_* commands are deprecated. Please use find_element() instead\n",
      "  menu = driver.find_element_by_id('search-begin-date')\n",
      "C:\\Users\\82109\\AppData\\Local\\Temp/ipykernel_25096/3191185724.py:2: DeprecationWarning: find_element_by_xpath is deprecated. Please use find_element(by=By.XPATH, value=xpath) instead\n",
      "  hidden_submenu = driver.find_element_by_xpath('//*[@id=\"search-begin-date\"]')\n",
      "C:\\Users\\82109\\AppData\\Local\\Temp/ipykernel_25096/3191185724.py:8: DeprecationWarning: find_element_by_* commands are deprecated. Please use find_element() instead\n",
      "  driver.find_element_by_id('search-begin-date').clear()\n"
     ]
    },
    {
     "ename": "AttributeError",
     "evalue": "'ActionChains' object has no attribute 'clear'",
     "output_type": "error",
     "traceback": [
      "\u001b[1;31m---------------------------------------------------------------------------\u001b[0m",
      "\u001b[1;31mAttributeError\u001b[0m                            Traceback (most recent call last)",
      "\u001b[1;32m~\\AppData\\Local\\Temp/ipykernel_25096/3191185724.py\u001b[0m in \u001b[0;36m<module>\u001b[1;34m\u001b[0m\n\u001b[0;32m      7\u001b[0m \u001b[0mactions\u001b[0m\u001b[1;33m.\u001b[0m\u001b[0mperform\u001b[0m\u001b[1;33m(\u001b[0m\u001b[1;33m)\u001b[0m\u001b[1;33m\u001b[0m\u001b[1;33m\u001b[0m\u001b[0m\n\u001b[0;32m      8\u001b[0m \u001b[0mdriver\u001b[0m\u001b[1;33m.\u001b[0m\u001b[0mfind_element_by_id\u001b[0m\u001b[1;33m(\u001b[0m\u001b[1;34m'search-begin-date'\u001b[0m\u001b[1;33m)\u001b[0m\u001b[1;33m.\u001b[0m\u001b[0mclear\u001b[0m\u001b[1;33m(\u001b[0m\u001b[1;33m)\u001b[0m\u001b[1;33m\u001b[0m\u001b[1;33m\u001b[0m\u001b[0m\n\u001b[1;32m----> 9\u001b[1;33m \u001b[0mactions\u001b[0m\u001b[1;33m.\u001b[0m\u001b[0mclear\u001b[0m\u001b[1;33m(\u001b[0m\u001b[1;33m)\u001b[0m\u001b[1;33m\u001b[0m\u001b[1;33m\u001b[0m\u001b[0m\n\u001b[0m",
      "\u001b[1;31mAttributeError\u001b[0m: 'ActionChains' object has no attribute 'clear'"
     ]
    }
   ],
   "source": [
    "menu = driver.find_element_by_id('search-begin-date')\n",
    "hidden_submenu = driver.find_element_by_xpath('//*[@id=\"search-begin-date\"]')\n",
    "actions = ActionChains(driver)\n",
    "actions.double_click(menu)\n",
    "actions.perform()\n",
    "actions.double_click(menu)\n",
    "actions.perform()\n",
    "driver.find_element_by_id('search-begin-date').clear()\n",
    "actions.clear()"
   ]
  },
  {
   "cell_type": "code",
   "execution_count": null,
   "id": "fd538357",
   "metadata": {
    "id": "fd538357",
    "outputId": "d33b76e7-f7e8-44b1-8230-951da55218f3"
   },
   "outputs": [
    {
     "ename": "AttributeError",
     "evalue": "'WebElement' object has no attribute 'double_click'",
     "output_type": "error",
     "traceback": [
      "\u001b[1;31m---------------------------------------------------------------------------\u001b[0m",
      "\u001b[1;31mAttributeError\u001b[0m                            Traceback (most recent call last)",
      "\u001b[1;32m~\\AppData\\Local\\Temp/ipykernel_25096/2932914207.py\u001b[0m in \u001b[0;36m<module>\u001b[1;34m\u001b[0m\n\u001b[1;32m----> 1\u001b[1;33m \u001b[0msearch_box\u001b[0m\u001b[1;33m.\u001b[0m\u001b[0mdouble_click\u001b[0m\u001b[1;33m(\u001b[0m\u001b[1;33m)\u001b[0m\u001b[1;33m\u001b[0m\u001b[1;33m\u001b[0m\u001b[0m\n\u001b[0m",
      "\u001b[1;31mAttributeError\u001b[0m: 'WebElement' object has no attribute 'double_click'"
     ]
    }
   ],
   "source": [
    "search_box.double_click()"
   ]
  },
  {
   "cell_type": "code",
   "execution_count": null,
   "id": "e99a7d74",
   "metadata": {
    "id": "e99a7d74",
    "outputId": "ea8ae93d-2783-4160-c1a4-d756a008a498"
   },
   "outputs": [
    {
     "name": "stderr",
     "output_type": "stream",
     "text": [
      "C:\\Users\\82109\\AppData\\Local\\Temp/ipykernel_25096/2310085504.py:1: DeprecationWarning: find_element_by_xpath is deprecated. Please use find_element(by=By.XPATH, value=xpath) instead\n",
      "  dir(driver.find_element_by_xpath('//*[@id=\"search-begin-date\"]').click())\n"
     ]
    },
    {
     "data": {
      "text/plain": [
       "['__bool__',\n",
       " '__class__',\n",
       " '__delattr__',\n",
       " '__dir__',\n",
       " '__doc__',\n",
       " '__eq__',\n",
       " '__format__',\n",
       " '__ge__',\n",
       " '__getattribute__',\n",
       " '__gt__',\n",
       " '__hash__',\n",
       " '__init__',\n",
       " '__init_subclass__',\n",
       " '__le__',\n",
       " '__lt__',\n",
       " '__ne__',\n",
       " '__new__',\n",
       " '__reduce__',\n",
       " '__reduce_ex__',\n",
       " '__repr__',\n",
       " '__setattr__',\n",
       " '__sizeof__',\n",
       " '__str__',\n",
       " '__subclasshook__']"
      ]
     },
     "execution_count": 65,
     "metadata": {},
     "output_type": "execute_result"
    }
   ],
   "source": [
    "driver.find_element_by_xpath('//*[@id=\"search-begin-date\"]').click()"
   ]
  },
  {
   "cell_type": "code",
   "execution_count": null,
   "id": "2eb01e64",
   "metadata": {
    "id": "2eb01e64"
   },
   "outputs": [],
   "source": [
    "driver"
   ]
  },
  {
   "cell_type": "code",
   "execution_count": null,
   "id": "0317c1b0",
   "metadata": {
    "id": "0317c1b0",
    "outputId": "07c880e6-5ea6-478a-cd82-fa38aadeb836"
   },
   "outputs": [
    {
     "name": "stderr",
     "output_type": "stream",
     "text": [
      "C:\\Users\\82109\\AppData\\Local\\Temp/ipykernel_25096/3042254908.py:1: DeprecationWarning: find_element_by_xpath is deprecated. Please use find_element(by=By.XPATH, value=xpath) instead\n",
      "  driver.find_element_by_xpath('//*[@id=\"search-begin-date\"]').send_keys('20220104')\n"
     ]
    }
   ],
   "source": [
    "driver.find_element_by_xpath('//*[@id=\"search-begin-date\"]').send_keys('20220104')"
   ]
  },
  {
   "cell_type": "code",
   "execution_count": null,
   "id": "dcaceed0",
   "metadata": {
    "id": "dcaceed0",
    "outputId": "d8b46ffd-ad79-4dbb-ed80-be61224aeedd"
   },
   "outputs": [
    {
     "name": "stderr",
     "output_type": "stream",
     "text": [
      "C:\\Users\\82109\\AppData\\Local\\Temp/ipykernel_25096/3261096125.py:1: DeprecationWarning: find_element_by_xpath is deprecated. Please use find_element(by=By.XPATH, value=xpath) instead\n",
      "  driver.find_element_by_xpath('//*[@id=\"search-end-date\"]').send_keys('20220104')\n"
     ]
    }
   ],
   "source": [
    "driver.find_element_by_xpath('//*[@id=\"search-end-date\"]').send_keys('20220104')"
   ]
  },
  {
   "cell_type": "code",
   "execution_count": null,
   "id": "6a0248ea",
   "metadata": {
    "id": "6a0248ea",
    "outputId": "88ee096e-f2f4-4a50-b8d0-ede8f432bc54"
   },
   "outputs": [
    {
     "data": {
      "text/plain": [
       "'2022'"
      ]
     },
     "execution_count": 59,
     "metadata": {},
     "output_type": "execute_result"
    }
   ],
   "source": [
    "df_IPO['수요예측일'][0].lstrip()[:4]"
   ]
  },
  {
   "cell_type": "code",
   "execution_count": null,
   "id": "ec94e65b",
   "metadata": {
    "id": "ec94e65b"
   },
   "outputs": [],
   "source": [
    "# 각 신문사마다의 크롤링 만들기\n",
    "\n",
    "# 뉴스1\n",
    "def\n",
    "\n",
    "# 비즈니스포스트\n",
    "def\n",
    "\n",
    "# 이데일리\n",
    "def\n",
    "\n",
    "# 매일경제TV\n",
    "def\n",
    "\n",
    "# 연합뉴스\n",
    "def\n",
    "\n",
    "# 뉴스투데이\n",
    "def\n",
    "\n",
    "# 머니S\n",
    "def\n",
    "\n",
    "# 뉴스핌\n",
    "def\n",
    "\n",
    "# 뉴시스\n",
    "def\n",
    "\n",
    "# 연합뉴스\n",
    "def\n",
    "\n",
    "# 연합뉴스\n",
    "def\n",
    "\n",
    "# 연합뉴스\n",
    "def\n",
    "\n"
   ]
  },
  {
   "cell_type": "code",
   "execution_count": null,
   "id": "Z9tMM1ob6UF9",
   "metadata": {
    "id": "Z9tMM1ob6UF9"
   },
   "outputs": [],
   "source": [
    "# 현재 page parsing\n",
    "def beautifulsoup_parsing():\n",
    "    cur_url = driver.current_url\n",
    "    response = requests.get(cur_url,headers={'User-Agent':'Mozilla/5.0'})\n",
    "    html = response.text\n",
    "    soup = BeautifulSoup(html, 'html.parser')\n",
    "    return soup"
   ]
  },
  {
   "cell_type": "code",
   "execution_count": null,
   "id": "7T0vyBH76XNH",
   "metadata": {
    "id": "7T0vyBH76XNH"
   },
   "outputs": [],
   "source": [
    "def elminate_number_in_str(str):\n",
    "    str.replace('1','').replace('2','').replace('3','').replace('4','').replace('5','').replace('6','').replace('7','').replace('8','').replace('9','').replace('0','')\n",
    "    return str\n",
    "# 관련뉴스 기사 클릭\n",
    "def relative_news_article:\n",
    "    articles = soup.select(\"#main_pack > section.sc_new.sp_nnews._prs_nws > div > div.group_news > ul > li\")"
   ]
  }
 ],
 "metadata": {
  "colab": {
   "collapsed_sections": [],
   "name": "Kor_IPO_News_Crawling .ipynb",
   "provenance": []
  },
  "kernelspec": {
   "display_name": "Python 3 (ipykernel)",
   "language": "python",
   "name": "python3"
  },
  "language_info": {
   "codemirror_mode": {
    "name": "ipython",
    "version": 3
   },
   "file_extension": ".py",
   "mimetype": "text/x-python",
   "name": "python",
   "nbconvert_exporter": "python",
   "pygments_lexer": "ipython3",
   "version": "3.9.7"
  }
 },
 "nbformat": 4,
 "nbformat_minor": 5
}
