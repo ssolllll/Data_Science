{
 "cells": [
  {
   "cell_type": "markdown",
   "metadata": {
    "id": "Yzory2tWE4io"
   },
   "source": [
    "# 이동평균선을 활용한 매매\n",
    "- 종가 이동평균선 window size가 작은 것 -> 빠르게 움직인다. (빠른선)\n",
    "- 종가 이동평균선 window size가 큰 것 -> 느리게 움직인다. (느린선)\n",
    "- 종가 빠른선 -> 느린선을 상향 돌파했다. ->\n"
   ]
  },
  {
   "cell_type": "code",
   "execution_count": 1,
   "metadata": {
    "colab": {
     "base_uri": "https://localhost:8080/",
     "height": 237
    },
    "executionInfo": {
     "elapsed": 488,
     "status": "ok",
     "timestamp": 1676521585241,
     "user": {
      "displayName": "최진영",
      "userId": "04611147725648038476"
     },
     "user_tz": -540
    },
    "id": "LPNhb4cTFVF9",
    "outputId": "768631f3-c8e4-4cf9-d526-2b72e8af4aaf"
   },
   "outputs": [
    {
     "data": {
      "text/html": [
       "<div>\n",
       "<style scoped>\n",
       "    .dataframe tbody tr th:only-of-type {\n",
       "        vertical-align: middle;\n",
       "    }\n",
       "\n",
       "    .dataframe tbody tr th {\n",
       "        vertical-align: top;\n",
       "    }\n",
       "\n",
       "    .dataframe thead th {\n",
       "        text-align: right;\n",
       "    }\n",
       "</style>\n",
       "<table border=\"1\" class=\"dataframe\">\n",
       "  <thead>\n",
       "    <tr style=\"text-align: right;\">\n",
       "      <th></th>\n",
       "      <th>Close</th>\n",
       "    </tr>\n",
       "    <tr>\n",
       "      <th>Date</th>\n",
       "      <th></th>\n",
       "    </tr>\n",
       "  </thead>\n",
       "  <tbody>\n",
       "    <tr>\n",
       "      <th>2020-01-02</th>\n",
       "      <td>160.619995</td>\n",
       "    </tr>\n",
       "    <tr>\n",
       "      <th>2020-01-03</th>\n",
       "      <td>158.619995</td>\n",
       "    </tr>\n",
       "    <tr>\n",
       "      <th>2020-01-06</th>\n",
       "      <td>159.029999</td>\n",
       "    </tr>\n",
       "    <tr>\n",
       "      <th>2020-01-07</th>\n",
       "      <td>157.580002</td>\n",
       "    </tr>\n",
       "    <tr>\n",
       "      <th>2020-01-08</th>\n",
       "      <td>160.089996</td>\n",
       "    </tr>\n",
       "  </tbody>\n",
       "</table>\n",
       "</div>"
      ],
      "text/plain": [
       "                 Close\n",
       "Date                  \n",
       "2020-01-02  160.619995\n",
       "2020-01-03  158.619995\n",
       "2020-01-06  159.029999\n",
       "2020-01-07  157.580002\n",
       "2020-01-08  160.089996"
      ]
     },
     "execution_count": 1,
     "metadata": {},
     "output_type": "execute_result"
    }
   ],
   "source": [
    "import pandas as pd\n",
    "import numpy as np\n",
    "import FinanceDataReader as fdr\n",
    "df = fdr.DataReader('MSFT', '2020')[['Close']]\n",
    "df.head()"
   ]
  },
  {
   "cell_type": "code",
   "execution_count": 2,
   "metadata": {
    "colab": {
     "base_uri": "https://localhost:8080/",
     "height": 237
    },
    "executionInfo": {
     "elapsed": 346,
     "status": "ok",
     "timestamp": 1676524657936,
     "user": {
      "displayName": "최진영",
      "userId": "04611147725648038476"
     },
     "user_tz": -540
    },
    "id": "IQC-k-wCFwTM",
    "outputId": "336171b2-aa53-43cf-a83f-9da7f92d7c86"
   },
   "outputs": [
    {
     "data": {
      "text/html": [
       "<div>\n",
       "<style scoped>\n",
       "    .dataframe tbody tr th:only-of-type {\n",
       "        vertical-align: middle;\n",
       "    }\n",
       "\n",
       "    .dataframe tbody tr th {\n",
       "        vertical-align: top;\n",
       "    }\n",
       "\n",
       "    .dataframe thead th {\n",
       "        text-align: right;\n",
       "    }\n",
       "</style>\n",
       "<table border=\"1\" class=\"dataframe\">\n",
       "  <thead>\n",
       "    <tr style=\"text-align: right;\">\n",
       "      <th></th>\n",
       "      <th>Close</th>\n",
       "      <th>MA_fast</th>\n",
       "      <th>MA_slow</th>\n",
       "    </tr>\n",
       "    <tr>\n",
       "      <th>Date</th>\n",
       "      <th></th>\n",
       "      <th></th>\n",
       "      <th></th>\n",
       "    </tr>\n",
       "  </thead>\n",
       "  <tbody>\n",
       "    <tr>\n",
       "      <th>2020-01-02</th>\n",
       "      <td>160.619995</td>\n",
       "      <td>160.619995</td>\n",
       "      <td>160.619995</td>\n",
       "    </tr>\n",
       "    <tr>\n",
       "      <th>2020-01-03</th>\n",
       "      <td>158.619995</td>\n",
       "      <td>159.619995</td>\n",
       "      <td>159.619995</td>\n",
       "    </tr>\n",
       "    <tr>\n",
       "      <th>2020-01-06</th>\n",
       "      <td>159.029999</td>\n",
       "      <td>159.423330</td>\n",
       "      <td>159.423330</td>\n",
       "    </tr>\n",
       "    <tr>\n",
       "      <th>2020-01-07</th>\n",
       "      <td>157.580002</td>\n",
       "      <td>158.962498</td>\n",
       "      <td>158.962498</td>\n",
       "    </tr>\n",
       "    <tr>\n",
       "      <th>2020-01-08</th>\n",
       "      <td>160.089996</td>\n",
       "      <td>159.187997</td>\n",
       "      <td>159.187997</td>\n",
       "    </tr>\n",
       "  </tbody>\n",
       "</table>\n",
       "</div>"
      ],
      "text/plain": [
       "                 Close     MA_fast     MA_slow\n",
       "Date                                          \n",
       "2020-01-02  160.619995  160.619995  160.619995\n",
       "2020-01-03  158.619995  159.619995  159.619995\n",
       "2020-01-06  159.029999  159.423330  159.423330\n",
       "2020-01-07  157.580002  158.962498  158.962498\n",
       "2020-01-08  160.089996  159.187997  159.187997"
      ]
     },
     "execution_count": 2,
     "metadata": {},
     "output_type": "execute_result"
    }
   ],
   "source": [
    "fast_window_size = 50\n",
    "slow_window_size = 200\n",
    "df['MA_fast'] = df['Close'].rolling(fast_window_size, min_periods = 1).mean()\n",
    "df['MA_slow'] = df['Close'].rolling(slow_window_size, min_periods = 1).mean()\n",
    "df.head()"
   ]
  },
  {
   "cell_type": "code",
   "execution_count": 3,
   "metadata": {
    "colab": {
     "base_uri": "https://localhost:8080/",
     "height": 392
    },
    "executionInfo": {
     "elapsed": 817,
     "status": "ok",
     "timestamp": 1676524659076,
     "user": {
      "displayName": "최진영",
      "userId": "04611147725648038476"
     },
     "user_tz": -540
    },
    "id": "BbbdHmRHGpBo",
    "outputId": "f42ddd68-0096-4b33-cdd5-7b78eb409d87"
   },
   "outputs": [
    {
     "data": {
      "text/plain": [
       "<Axes: xlabel='Date'>"
      ]
     },
     "execution_count": 3,
     "metadata": {},
     "output_type": "execute_result"
    },
    {
     "data": {
      "image/png": "[encoded data removed]",
      "text/plain": [
       "<Figure size 1600x600 with 1 Axes>"
      ]
     },
     "metadata": {},
     "output_type": "display_data"
    }
   ],
   "source": [
    "# 종가 빠른선 -> 느린선을 상향 돌파했다. => 상승 추세\n",
    "# 종가 빠른선 -> 느린선을 하향 돌파했다. => 하향 추세\n",
    "df.plot(figsize = (16, 6))"
   ]
  },
  {
   "cell_type": "code",
   "execution_count": 4,
   "metadata": {
    "executionInfo": {
     "elapsed": 15,
     "status": "ok",
     "timestamp": 1676524659077,
     "user": {
      "displayName": "최진영",
      "userId": "04611147725648038476"
     },
     "user_tz": -540
    },
    "id": "rWVwmYIzIHqi"
   },
   "outputs": [],
   "source": [
    "df['is_hold'] = np.where(df['MA_fast'] >= df['MA_slow'], True, False)"
   ]
  },
  {
   "cell_type": "code",
   "execution_count": 5,
   "metadata": {
    "colab": {
     "base_uri": "https://localhost:8080/",
     "height": 237
    },
    "executionInfo": {
     "elapsed": 15,
     "status": "ok",
     "timestamp": 1676524659077,
     "user": {
      "displayName": "최진영",
      "userId": "04611147725648038476"
     },
     "user_tz": -540
    },
    "id": "nGz2yspcH4hi",
    "outputId": "bb2c9d47-6b44-4cdf-f35f-84d2955fa1f7"
   },
   "outputs": [
    {
     "data": {
      "text/html": [
       "<div>\n",
       "<style scoped>\n",
       "    .dataframe tbody tr th:only-of-type {\n",
       "        vertical-align: middle;\n",
       "    }\n",
       "\n",
       "    .dataframe tbody tr th {\n",
       "        vertical-align: top;\n",
       "    }\n",
       "\n",
       "    .dataframe thead th {\n",
       "        text-align: right;\n",
       "    }\n",
       "</style>\n",
       "<table border=\"1\" class=\"dataframe\">\n",
       "  <thead>\n",
       "    <tr style=\"text-align: right;\">\n",
       "      <th></th>\n",
       "      <th>Close</th>\n",
       "      <th>MA_fast</th>\n",
       "      <th>MA_slow</th>\n",
       "      <th>is_hold</th>\n",
       "    </tr>\n",
       "    <tr>\n",
       "      <th>Date</th>\n",
       "      <th></th>\n",
       "      <th></th>\n",
       "      <th></th>\n",
       "      <th></th>\n",
       "    </tr>\n",
       "  </thead>\n",
       "  <tbody>\n",
       "    <tr>\n",
       "      <th>2020-01-02</th>\n",
       "      <td>160.619995</td>\n",
       "      <td>160.619995</td>\n",
       "      <td>160.619995</td>\n",
       "      <td>True</td>\n",
       "    </tr>\n",
       "    <tr>\n",
       "      <th>2020-01-03</th>\n",
       "      <td>158.619995</td>\n",
       "      <td>159.619995</td>\n",
       "      <td>159.619995</td>\n",
       "      <td>True</td>\n",
       "    </tr>\n",
       "    <tr>\n",
       "      <th>2020-01-06</th>\n",
       "      <td>159.029999</td>\n",
       "      <td>159.423330</td>\n",
       "      <td>159.423330</td>\n",
       "      <td>True</td>\n",
       "    </tr>\n",
       "    <tr>\n",
       "      <th>2020-01-07</th>\n",
       "      <td>157.580002</td>\n",
       "      <td>158.962498</td>\n",
       "      <td>158.962498</td>\n",
       "      <td>True</td>\n",
       "    </tr>\n",
       "    <tr>\n",
       "      <th>2020-01-08</th>\n",
       "      <td>160.089996</td>\n",
       "      <td>159.187997</td>\n",
       "      <td>159.187997</td>\n",
       "      <td>True</td>\n",
       "    </tr>\n",
       "  </tbody>\n",
       "</table>\n",
       "</div>"
      ],
      "text/plain": [
       "                 Close     MA_fast     MA_slow  is_hold\n",
       "Date                                                   \n",
       "2020-01-02  160.619995  160.619995  160.619995     True\n",
       "2020-01-03  158.619995  159.619995  159.619995     True\n",
       "2020-01-06  159.029999  159.423330  159.423330     True\n",
       "2020-01-07  157.580002  158.962498  158.962498     True\n",
       "2020-01-08  160.089996  159.187997  159.187997     True"
      ]
     },
     "execution_count": 5,
     "metadata": {},
     "output_type": "execute_result"
    }
   ],
   "source": [
    "df.head()"
   ]
  },
  {
   "cell_type": "code",
   "execution_count": 6,
   "metadata": {
    "colab": {
     "base_uri": "https://localhost:8080/",
     "height": 237
    },
    "executionInfo": {
     "elapsed": 14,
     "status": "ok",
     "timestamp": 1676524659077,
     "user": {
      "displayName": "최진영",
      "userId": "04611147725648038476"
     },
     "user_tz": -540
    },
    "id": "m3ds99tZL390",
    "outputId": "b3fbb4e5-6ade-4f08-b55c-4a32211763f9"
   },
   "outputs": [
    {
     "data": {
      "text/html": [
       "<div>\n",
       "<style scoped>\n",
       "    .dataframe tbody tr th:only-of-type {\n",
       "        vertical-align: middle;\n",
       "    }\n",
       "\n",
       "    .dataframe tbody tr th {\n",
       "        vertical-align: top;\n",
       "    }\n",
       "\n",
       "    .dataframe thead th {\n",
       "        text-align: right;\n",
       "    }\n",
       "</style>\n",
       "<table border=\"1\" class=\"dataframe\">\n",
       "  <thead>\n",
       "    <tr style=\"text-align: right;\">\n",
       "      <th></th>\n",
       "      <th>Close</th>\n",
       "      <th>MA_fast</th>\n",
       "      <th>MA_slow</th>\n",
       "      <th>is_hold</th>\n",
       "      <th>NextDay_Close</th>\n",
       "    </tr>\n",
       "    <tr>\n",
       "      <th>Date</th>\n",
       "      <th></th>\n",
       "      <th></th>\n",
       "      <th></th>\n",
       "      <th></th>\n",
       "      <th></th>\n",
       "    </tr>\n",
       "  </thead>\n",
       "  <tbody>\n",
       "    <tr>\n",
       "      <th>2020-01-02</th>\n",
       "      <td>160.619995</td>\n",
       "      <td>160.619995</td>\n",
       "      <td>160.619995</td>\n",
       "      <td>True</td>\n",
       "      <td>158.619995</td>\n",
       "    </tr>\n",
       "    <tr>\n",
       "      <th>2020-01-03</th>\n",
       "      <td>158.619995</td>\n",
       "      <td>159.619995</td>\n",
       "      <td>159.619995</td>\n",
       "      <td>True</td>\n",
       "      <td>159.029999</td>\n",
       "    </tr>\n",
       "    <tr>\n",
       "      <th>2020-01-06</th>\n",
       "      <td>159.029999</td>\n",
       "      <td>159.423330</td>\n",
       "      <td>159.423330</td>\n",
       "      <td>True</td>\n",
       "      <td>157.580002</td>\n",
       "    </tr>\n",
       "    <tr>\n",
       "      <th>2020-01-07</th>\n",
       "      <td>157.580002</td>\n",
       "      <td>158.962498</td>\n",
       "      <td>158.962498</td>\n",
       "      <td>True</td>\n",
       "      <td>160.089996</td>\n",
       "    </tr>\n",
       "    <tr>\n",
       "      <th>2020-01-08</th>\n",
       "      <td>160.089996</td>\n",
       "      <td>159.187997</td>\n",
       "      <td>159.187997</td>\n",
       "      <td>True</td>\n",
       "      <td>162.089996</td>\n",
       "    </tr>\n",
       "  </tbody>\n",
       "</table>\n",
       "</div>"
      ],
      "text/plain": [
       "                 Close     MA_fast     MA_slow  is_hold  NextDay_Close\n",
       "Date                                                                  \n",
       "2020-01-02  160.619995  160.619995  160.619995     True     158.619995\n",
       "2020-01-03  158.619995  159.619995  159.619995     True     159.029999\n",
       "2020-01-06  159.029999  159.423330  159.423330     True     157.580002\n",
       "2020-01-07  157.580002  158.962498  158.962498     True     160.089996\n",
       "2020-01-08  160.089996  159.187997  159.187997     True     162.089996"
      ]
     },
     "execution_count": 6,
     "metadata": {},
     "output_type": "execute_result"
    }
   ],
   "source": [
    "# 매수신호 -> 다음날 매수\n",
    "df['NextDay_Close'] = df['Close'].shift(-1)\n",
    "df.head()"
   ]
  },
  {
   "cell_type": "code",
   "execution_count": 7,
   "metadata": {
    "colab": {
     "base_uri": "https://localhost:8080/",
     "height": 237
    },
    "executionInfo": {
     "elapsed": 1269,
     "status": "ok",
     "timestamp": 1676524660333,
     "user": {
      "displayName": "최진영",
      "userId": "04611147725648038476"
     },
     "user_tz": -540
    },
    "id": "rT5PnMDANU8y",
    "outputId": "be5264eb-fa2d-4fdd-b13c-dc7ae10ca244"
   },
   "outputs": [
    {
     "data": {
      "text/html": [
       "<div>\n",
       "<style scoped>\n",
       "    .dataframe tbody tr th:only-of-type {\n",
       "        vertical-align: middle;\n",
       "    }\n",
       "\n",
       "    .dataframe tbody tr th {\n",
       "        vertical-align: top;\n",
       "    }\n",
       "\n",
       "    .dataframe thead th {\n",
       "        text-align: right;\n",
       "    }\n",
       "</style>\n",
       "<table border=\"1\" class=\"dataframe\">\n",
       "  <thead>\n",
       "    <tr style=\"text-align: right;\">\n",
       "      <th></th>\n",
       "      <th>Close</th>\n",
       "      <th>MA_fast</th>\n",
       "      <th>MA_slow</th>\n",
       "      <th>is_hold</th>\n",
       "      <th>NextDay_Close</th>\n",
       "      <th>return</th>\n",
       "    </tr>\n",
       "    <tr>\n",
       "      <th>Date</th>\n",
       "      <th></th>\n",
       "      <th></th>\n",
       "      <th></th>\n",
       "      <th></th>\n",
       "      <th></th>\n",
       "      <th></th>\n",
       "    </tr>\n",
       "  </thead>\n",
       "  <tbody>\n",
       "    <tr>\n",
       "      <th>2020-01-02</th>\n",
       "      <td>160.619995</td>\n",
       "      <td>160.619995</td>\n",
       "      <td>160.619995</td>\n",
       "      <td>True</td>\n",
       "      <td>158.619995</td>\n",
       "      <td>-2.0</td>\n",
       "    </tr>\n",
       "    <tr>\n",
       "      <th>2020-01-03</th>\n",
       "      <td>158.619995</td>\n",
       "      <td>159.619995</td>\n",
       "      <td>159.619995</td>\n",
       "      <td>True</td>\n",
       "      <td>159.029999</td>\n",
       "      <td>0.410004</td>\n",
       "    </tr>\n",
       "    <tr>\n",
       "      <th>2020-01-06</th>\n",
       "      <td>159.029999</td>\n",
       "      <td>159.423330</td>\n",
       "      <td>159.423330</td>\n",
       "      <td>True</td>\n",
       "      <td>157.580002</td>\n",
       "      <td>-1.449997</td>\n",
       "    </tr>\n",
       "    <tr>\n",
       "      <th>2020-01-07</th>\n",
       "      <td>157.580002</td>\n",
       "      <td>158.962498</td>\n",
       "      <td>158.962498</td>\n",
       "      <td>True</td>\n",
       "      <td>160.089996</td>\n",
       "      <td>2.509994</td>\n",
       "    </tr>\n",
       "    <tr>\n",
       "      <th>2020-01-08</th>\n",
       "      <td>160.089996</td>\n",
       "      <td>159.187997</td>\n",
       "      <td>159.187997</td>\n",
       "      <td>True</td>\n",
       "      <td>162.089996</td>\n",
       "      <td>2.0</td>\n",
       "    </tr>\n",
       "  </tbody>\n",
       "</table>\n",
       "</div>"
      ],
      "text/plain": [
       "                 Close     MA_fast     MA_slow  is_hold  NextDay_Close  \\\n",
       "Date                                                                     \n",
       "2020-01-02  160.619995  160.619995  160.619995     True     158.619995   \n",
       "2020-01-03  158.619995  159.619995  159.619995     True     159.029999   \n",
       "2020-01-06  159.029999  159.423330  159.423330     True     157.580002   \n",
       "2020-01-07  157.580002  158.962498  158.962498     True     160.089996   \n",
       "2020-01-08  160.089996  159.187997  159.187997     True     162.089996   \n",
       "\n",
       "              return  \n",
       "Date                  \n",
       "2020-01-02      -2.0  \n",
       "2020-01-03  0.410004  \n",
       "2020-01-06 -1.449997  \n",
       "2020-01-07  2.509994  \n",
       "2020-01-08       2.0  "
      ]
     },
     "execution_count": 7,
     "metadata": {},
     "output_type": "execute_result"
    }
   ],
   "source": [
    "df['return'] = np.where(df['is_hold']==True, df['NextDay_Close'] - df['Close'] , None)\n",
    "df.head()"
   ]
  },
  {
   "cell_type": "code",
   "execution_count": 8,
   "metadata": {
    "colab": {
     "base_uri": "https://localhost:8080/",
     "height": 237
    },
    "executionInfo": {
     "elapsed": 63,
     "status": "ok",
     "timestamp": 1676524660335,
     "user": {
      "displayName": "최진영",
      "userId": "04611147725648038476"
     },
     "user_tz": -540
    },
    "id": "a0RAJaOYPNs_",
    "outputId": "3c61ce26-f97c-4f6f-8de2-337d936f4da0"
   },
   "outputs": [
    {
     "data": {
      "text/html": [
       "<div>\n",
       "<style scoped>\n",
       "    .dataframe tbody tr th:only-of-type {\n",
       "        vertical-align: middle;\n",
       "    }\n",
       "\n",
       "    .dataframe tbody tr th {\n",
       "        vertical-align: top;\n",
       "    }\n",
       "\n",
       "    .dataframe thead th {\n",
       "        text-align: right;\n",
       "    }\n",
       "</style>\n",
       "<table border=\"1\" class=\"dataframe\">\n",
       "  <thead>\n",
       "    <tr style=\"text-align: right;\">\n",
       "      <th></th>\n",
       "      <th>Close</th>\n",
       "      <th>MA_fast</th>\n",
       "      <th>MA_slow</th>\n",
       "      <th>is_hold</th>\n",
       "      <th>NextDay_Close</th>\n",
       "      <th>return</th>\n",
       "      <th>cum_return</th>\n",
       "    </tr>\n",
       "    <tr>\n",
       "      <th>Date</th>\n",
       "      <th></th>\n",
       "      <th></th>\n",
       "      <th></th>\n",
       "      <th></th>\n",
       "      <th></th>\n",
       "      <th></th>\n",
       "      <th></th>\n",
       "    </tr>\n",
       "  </thead>\n",
       "  <tbody>\n",
       "    <tr>\n",
       "      <th>2023-05-16</th>\n",
       "      <td>311.739990</td>\n",
       "      <td>286.187800</td>\n",
       "      <td>258.86390</td>\n",
       "      <td>True</td>\n",
       "      <td>314.000000</td>\n",
       "      <td>2.26001</td>\n",
       "      <td>156.820007</td>\n",
       "    </tr>\n",
       "    <tr>\n",
       "      <th>2023-05-17</th>\n",
       "      <td>314.000000</td>\n",
       "      <td>287.384800</td>\n",
       "      <td>259.04385</td>\n",
       "      <td>True</td>\n",
       "      <td>318.519989</td>\n",
       "      <td>4.519989</td>\n",
       "      <td>161.339996</td>\n",
       "    </tr>\n",
       "    <tr>\n",
       "      <th>2023-05-18</th>\n",
       "      <td>318.519989</td>\n",
       "      <td>288.681200</td>\n",
       "      <td>259.26235</td>\n",
       "      <td>True</td>\n",
       "      <td>318.339996</td>\n",
       "      <td>-0.179993</td>\n",
       "      <td>161.160003</td>\n",
       "    </tr>\n",
       "    <tr>\n",
       "      <th>2023-05-19</th>\n",
       "      <td>318.339996</td>\n",
       "      <td>290.001599</td>\n",
       "      <td>259.44170</td>\n",
       "      <td>True</td>\n",
       "      <td>321.179993</td>\n",
       "      <td>2.839997</td>\n",
       "      <td>164.0</td>\n",
       "    </tr>\n",
       "    <tr>\n",
       "      <th>2023-05-22</th>\n",
       "      <td>321.179993</td>\n",
       "      <td>291.453399</td>\n",
       "      <td>259.62935</td>\n",
       "      <td>True</td>\n",
       "      <td>NaN</td>\n",
       "      <td>NaN</td>\n",
       "      <td>NaN</td>\n",
       "    </tr>\n",
       "  </tbody>\n",
       "</table>\n",
       "</div>"
      ],
      "text/plain": [
       "                 Close     MA_fast    MA_slow  is_hold  NextDay_Close  \\\n",
       "Date                                                                    \n",
       "2023-05-16  311.739990  286.187800  258.86390     True     314.000000   \n",
       "2023-05-17  314.000000  287.384800  259.04385     True     318.519989   \n",
       "2023-05-18  318.519989  288.681200  259.26235     True     318.339996   \n",
       "2023-05-19  318.339996  290.001599  259.44170     True     321.179993   \n",
       "2023-05-22  321.179993  291.453399  259.62935     True            NaN   \n",
       "\n",
       "              return  cum_return  \n",
       "Date                              \n",
       "2023-05-16   2.26001  156.820007  \n",
       "2023-05-17  4.519989  161.339996  \n",
       "2023-05-18 -0.179993  161.160003  \n",
       "2023-05-19  2.839997       164.0  \n",
       "2023-05-22       NaN         NaN  "
      ]
     },
     "execution_count": 8,
     "metadata": {},
     "output_type": "execute_result"
    }
   ],
   "source": [
    "df['cum_return'] = df['return'].cumsum()\n",
    "df.tail()"
   ]
  },
  {
   "cell_type": "code",
   "execution_count": 9,
   "metadata": {
    "colab": {
     "base_uri": "https://localhost:8080/",
     "height": 455
    },
    "executionInfo": {
     "elapsed": 62,
     "status": "ok",
     "timestamp": 1676524660336,
     "user": {
      "displayName": "최진영",
      "userId": "04611147725648038476"
     },
     "user_tz": -540
    },
    "id": "gwFbwascPf1j",
    "outputId": "99f088a7-6baa-47a5-fdb3-a49af4c07c48"
   },
   "outputs": [
    {
     "data": {
      "text/html": [
       "<div>\n",
       "<style scoped>\n",
       "    .dataframe tbody tr th:only-of-type {\n",
       "        vertical-align: middle;\n",
       "    }\n",
       "\n",
       "    .dataframe tbody tr th {\n",
       "        vertical-align: top;\n",
       "    }\n",
       "\n",
       "    .dataframe thead th {\n",
       "        text-align: right;\n",
       "    }\n",
       "</style>\n",
       "<table border=\"1\" class=\"dataframe\">\n",
       "  <thead>\n",
       "    <tr style=\"text-align: right;\">\n",
       "      <th></th>\n",
       "      <th>Close</th>\n",
       "      <th>MA_fast</th>\n",
       "      <th>MA_slow</th>\n",
       "      <th>is_hold</th>\n",
       "      <th>NextDay_Close</th>\n",
       "      <th>return</th>\n",
       "      <th>cum_return</th>\n",
       "    </tr>\n",
       "    <tr>\n",
       "      <th>Date</th>\n",
       "      <th></th>\n",
       "      <th></th>\n",
       "      <th></th>\n",
       "      <th></th>\n",
       "      <th></th>\n",
       "      <th></th>\n",
       "      <th></th>\n",
       "    </tr>\n",
       "  </thead>\n",
       "  <tbody>\n",
       "    <tr>\n",
       "      <th>2020-01-02</th>\n",
       "      <td>160.619995</td>\n",
       "      <td>160.619995</td>\n",
       "      <td>160.619995</td>\n",
       "      <td>True</td>\n",
       "      <td>158.619995</td>\n",
       "      <td>-2.0</td>\n",
       "      <td>-2.0</td>\n",
       "    </tr>\n",
       "    <tr>\n",
       "      <th>2020-01-03</th>\n",
       "      <td>158.619995</td>\n",
       "      <td>159.619995</td>\n",
       "      <td>159.619995</td>\n",
       "      <td>True</td>\n",
       "      <td>159.029999</td>\n",
       "      <td>0.410004</td>\n",
       "      <td>-1.589996</td>\n",
       "    </tr>\n",
       "    <tr>\n",
       "      <th>2020-01-06</th>\n",
       "      <td>159.029999</td>\n",
       "      <td>159.423330</td>\n",
       "      <td>159.423330</td>\n",
       "      <td>True</td>\n",
       "      <td>157.580002</td>\n",
       "      <td>-1.449997</td>\n",
       "      <td>-3.039993</td>\n",
       "    </tr>\n",
       "    <tr>\n",
       "      <th>2020-01-07</th>\n",
       "      <td>157.580002</td>\n",
       "      <td>158.962498</td>\n",
       "      <td>158.962498</td>\n",
       "      <td>True</td>\n",
       "      <td>160.089996</td>\n",
       "      <td>2.509994</td>\n",
       "      <td>-0.529999</td>\n",
       "    </tr>\n",
       "    <tr>\n",
       "      <th>2020-01-08</th>\n",
       "      <td>160.089996</td>\n",
       "      <td>159.187997</td>\n",
       "      <td>159.187997</td>\n",
       "      <td>True</td>\n",
       "      <td>162.089996</td>\n",
       "      <td>2.0</td>\n",
       "      <td>1.470001</td>\n",
       "    </tr>\n",
       "    <tr>\n",
       "      <th>...</th>\n",
       "      <td>...</td>\n",
       "      <td>...</td>\n",
       "      <td>...</td>\n",
       "      <td>...</td>\n",
       "      <td>...</td>\n",
       "      <td>...</td>\n",
       "      <td>...</td>\n",
       "    </tr>\n",
       "    <tr>\n",
       "      <th>2023-05-16</th>\n",
       "      <td>311.739990</td>\n",
       "      <td>286.187800</td>\n",
       "      <td>258.863900</td>\n",
       "      <td>True</td>\n",
       "      <td>314.000000</td>\n",
       "      <td>2.26001</td>\n",
       "      <td>156.820007</td>\n",
       "    </tr>\n",
       "    <tr>\n",
       "      <th>2023-05-17</th>\n",
       "      <td>314.000000</td>\n",
       "      <td>287.384800</td>\n",
       "      <td>259.043850</td>\n",
       "      <td>True</td>\n",
       "      <td>318.519989</td>\n",
       "      <td>4.519989</td>\n",
       "      <td>161.339996</td>\n",
       "    </tr>\n",
       "    <tr>\n",
       "      <th>2023-05-18</th>\n",
       "      <td>318.519989</td>\n",
       "      <td>288.681200</td>\n",
       "      <td>259.262350</td>\n",
       "      <td>True</td>\n",
       "      <td>318.339996</td>\n",
       "      <td>-0.179993</td>\n",
       "      <td>161.160003</td>\n",
       "    </tr>\n",
       "    <tr>\n",
       "      <th>2023-05-19</th>\n",
       "      <td>318.339996</td>\n",
       "      <td>290.001599</td>\n",
       "      <td>259.441700</td>\n",
       "      <td>True</td>\n",
       "      <td>321.179993</td>\n",
       "      <td>2.839997</td>\n",
       "      <td>164.0</td>\n",
       "    </tr>\n",
       "    <tr>\n",
       "      <th>2023-05-22</th>\n",
       "      <td>321.179993</td>\n",
       "      <td>291.453399</td>\n",
       "      <td>259.629350</td>\n",
       "      <td>True</td>\n",
       "      <td>NaN</td>\n",
       "      <td>NaN</td>\n",
       "      <td>NaN</td>\n",
       "    </tr>\n",
       "  </tbody>\n",
       "</table>\n",
       "<p>569 rows × 7 columns</p>\n",
       "</div>"
      ],
      "text/plain": [
       "                 Close     MA_fast     MA_slow  is_hold  NextDay_Close  \\\n",
       "Date                                                                     \n",
       "2020-01-02  160.619995  160.619995  160.619995     True     158.619995   \n",
       "2020-01-03  158.619995  159.619995  159.619995     True     159.029999   \n",
       "2020-01-06  159.029999  159.423330  159.423330     True     157.580002   \n",
       "2020-01-07  157.580002  158.962498  158.962498     True     160.089996   \n",
       "2020-01-08  160.089996  159.187997  159.187997     True     162.089996   \n",
       "...                ...         ...         ...      ...            ...   \n",
       "2023-05-16  311.739990  286.187800  258.863900     True     314.000000   \n",
       "2023-05-17  314.000000  287.384800  259.043850     True     318.519989   \n",
       "2023-05-18  318.519989  288.681200  259.262350     True     318.339996   \n",
       "2023-05-19  318.339996  290.001599  259.441700     True     321.179993   \n",
       "2023-05-22  321.179993  291.453399  259.629350     True            NaN   \n",
       "\n",
       "              return  cum_return  \n",
       "Date                              \n",
       "2020-01-02      -2.0        -2.0  \n",
       "2020-01-03  0.410004   -1.589996  \n",
       "2020-01-06 -1.449997   -3.039993  \n",
       "2020-01-07  2.509994   -0.529999  \n",
       "2020-01-08       2.0    1.470001  \n",
       "...              ...         ...  \n",
       "2023-05-16   2.26001  156.820007  \n",
       "2023-05-17  4.519989  161.339996  \n",
       "2023-05-18 -0.179993  161.160003  \n",
       "2023-05-19  2.839997       164.0  \n",
       "2023-05-22       NaN         NaN  \n",
       "\n",
       "[569 rows x 7 columns]"
      ]
     },
     "execution_count": 9,
     "metadata": {},
     "output_type": "execute_result"
    }
   ],
   "source": [
    "df[df['is_hold'] == True]"
   ]
  },
  {
   "cell_type": "markdown",
   "metadata": {
    "id": "tWMb05r4PzuC"
   },
   "source": [
    "### 이동평균 매매 시각화"
   ]
  },
  {
   "cell_type": "code",
   "execution_count": 10,
   "metadata": {
    "colab": {
     "base_uri": "https://localhost:8080/",
     "height": 237
    },
    "executionInfo": {
     "elapsed": 60,
     "status": "ok",
     "timestamp": 1676524660337,
     "user": {
      "displayName": "최진영",
      "userId": "04611147725648038476"
     },
     "user_tz": -540
    },
    "id": "pEGtAQ9cP4CO",
    "outputId": "8608707f-a85f-4cf6-ffa1-e13fea475619"
   },
   "outputs": [
    {
     "data": {
      "text/html": [
       "<div>\n",
       "<style scoped>\n",
       "    .dataframe tbody tr th:only-of-type {\n",
       "        vertical-align: middle;\n",
       "    }\n",
       "\n",
       "    .dataframe tbody tr th {\n",
       "        vertical-align: top;\n",
       "    }\n",
       "\n",
       "    .dataframe thead th {\n",
       "        text-align: right;\n",
       "    }\n",
       "</style>\n",
       "<table border=\"1\" class=\"dataframe\">\n",
       "  <thead>\n",
       "    <tr style=\"text-align: right;\">\n",
       "      <th></th>\n",
       "      <th>Close</th>\n",
       "      <th>MA_fast</th>\n",
       "      <th>MA_slow</th>\n",
       "      <th>is_hold</th>\n",
       "      <th>NextDay_Close</th>\n",
       "      <th>return</th>\n",
       "      <th>cum_return</th>\n",
       "    </tr>\n",
       "    <tr>\n",
       "      <th>Date</th>\n",
       "      <th></th>\n",
       "      <th></th>\n",
       "      <th></th>\n",
       "      <th></th>\n",
       "      <th></th>\n",
       "      <th></th>\n",
       "      <th></th>\n",
       "    </tr>\n",
       "  </thead>\n",
       "  <tbody>\n",
       "    <tr>\n",
       "      <th>2020-01-02</th>\n",
       "      <td>160.619995</td>\n",
       "      <td>160.619995</td>\n",
       "      <td>160.619995</td>\n",
       "      <td>True</td>\n",
       "      <td>158.619995</td>\n",
       "      <td>-2.0</td>\n",
       "      <td>-2.0</td>\n",
       "    </tr>\n",
       "    <tr>\n",
       "      <th>2020-01-03</th>\n",
       "      <td>158.619995</td>\n",
       "      <td>159.619995</td>\n",
       "      <td>159.619995</td>\n",
       "      <td>True</td>\n",
       "      <td>159.029999</td>\n",
       "      <td>0.410004</td>\n",
       "      <td>-1.589996</td>\n",
       "    </tr>\n",
       "    <tr>\n",
       "      <th>2020-01-06</th>\n",
       "      <td>159.029999</td>\n",
       "      <td>159.423330</td>\n",
       "      <td>159.423330</td>\n",
       "      <td>True</td>\n",
       "      <td>157.580002</td>\n",
       "      <td>-1.449997</td>\n",
       "      <td>-3.039993</td>\n",
       "    </tr>\n",
       "    <tr>\n",
       "      <th>2020-01-07</th>\n",
       "      <td>157.580002</td>\n",
       "      <td>158.962498</td>\n",
       "      <td>158.962498</td>\n",
       "      <td>True</td>\n",
       "      <td>160.089996</td>\n",
       "      <td>2.509994</td>\n",
       "      <td>-0.529999</td>\n",
       "    </tr>\n",
       "    <tr>\n",
       "      <th>2020-01-08</th>\n",
       "      <td>160.089996</td>\n",
       "      <td>159.187997</td>\n",
       "      <td>159.187997</td>\n",
       "      <td>True</td>\n",
       "      <td>162.089996</td>\n",
       "      <td>2.0</td>\n",
       "      <td>1.470001</td>\n",
       "    </tr>\n",
       "  </tbody>\n",
       "</table>\n",
       "</div>"
      ],
      "text/plain": [
       "                 Close     MA_fast     MA_slow  is_hold  NextDay_Close  \\\n",
       "Date                                                                     \n",
       "2020-01-02  160.619995  160.619995  160.619995     True     158.619995   \n",
       "2020-01-03  158.619995  159.619995  159.619995     True     159.029999   \n",
       "2020-01-06  159.029999  159.423330  159.423330     True     157.580002   \n",
       "2020-01-07  157.580002  158.962498  158.962498     True     160.089996   \n",
       "2020-01-08  160.089996  159.187997  159.187997     True     162.089996   \n",
       "\n",
       "              return cum_return  \n",
       "Date                             \n",
       "2020-01-02      -2.0       -2.0  \n",
       "2020-01-03  0.410004  -1.589996  \n",
       "2020-01-06 -1.449997  -3.039993  \n",
       "2020-01-07  2.509994  -0.529999  \n",
       "2020-01-08       2.0   1.470001  "
      ]
     },
     "execution_count": 10,
     "metadata": {},
     "output_type": "execute_result"
    }
   ],
   "source": [
    "df.head()"
   ]
  },
  {
   "cell_type": "code",
   "execution_count": 11,
   "metadata": {
    "executionInfo": {
     "elapsed": 59,
     "status": "ok",
     "timestamp": 1676524660338,
     "user": {
      "displayName": "최진영",
      "userId": "04611147725648038476"
     },
     "user_tz": -540
    },
    "id": "PMMUz0TeQFlG"
   },
   "outputs": [],
   "source": [
    "# 매수, 신호가 온 날짜 \n",
    "# 매수 신호 : 빠른선 -> 느린선을 상향돌파\n",
    "# 매도 신호 : 빠른선 -> 느린선을 하향돌파\n",
    "# 정확한 돌파 시점을 구하는 로직 [10min/12시 38분까지]"
   ]
  },
  {
   "cell_type": "code",
   "execution_count": 12,
   "metadata": {
    "executionInfo": {
     "elapsed": 58,
     "status": "ok",
     "timestamp": 1676524660338,
     "user": {
      "displayName": "최진영",
      "userId": "04611147725648038476"
     },
     "user_tz": -540
    },
    "id": "5kgeZ9a6Tn18"
   },
   "outputs": [],
   "source": [
    "# 돌파 시점은 결국 빠른선 - 느린선 (차이)가 양수에서 음수 또는 음수에서 양수로 변하는 시점 이라 생각하고 for문으로 돌려보려 했으나 실패했습니다"
   ]
  },
  {
   "cell_type": "code",
   "execution_count": 13,
   "metadata": {
    "executionInfo": {
     "elapsed": 58,
     "status": "ok",
     "timestamp": 1676524660339,
     "user": {
      "displayName": "최진영",
      "userId": "04611147725648038476"
     },
     "user_tz": -540
    },
    "id": "iNDYfD3nUAS_"
   },
   "outputs": [],
   "source": [
    "test = df.copy()"
   ]
  },
  {
   "cell_type": "code",
   "execution_count": 14,
   "metadata": {
    "colab": {
     "base_uri": "https://localhost:8080/",
     "height": 237
    },
    "executionInfo": {
     "elapsed": 58,
     "status": "ok",
     "timestamp": 1676524660339,
     "user": {
      "displayName": "최진영",
      "userId": "04611147725648038476"
     },
     "user_tz": -540
    },
    "id": "fFC_7PXqUCC8",
    "outputId": "7bdb0583-46c3-4059-fd1b-122b3019b89d"
   },
   "outputs": [
    {
     "data": {
      "text/html": [
       "<div>\n",
       "<style scoped>\n",
       "    .dataframe tbody tr th:only-of-type {\n",
       "        vertical-align: middle;\n",
       "    }\n",
       "\n",
       "    .dataframe tbody tr th {\n",
       "        vertical-align: top;\n",
       "    }\n",
       "\n",
       "    .dataframe thead th {\n",
       "        text-align: right;\n",
       "    }\n",
       "</style>\n",
       "<table border=\"1\" class=\"dataframe\">\n",
       "  <thead>\n",
       "    <tr style=\"text-align: right;\">\n",
       "      <th></th>\n",
       "      <th>Close</th>\n",
       "      <th>MA_fast</th>\n",
       "      <th>MA_slow</th>\n",
       "      <th>is_hold</th>\n",
       "      <th>NextDay_Close</th>\n",
       "      <th>return</th>\n",
       "      <th>cum_return</th>\n",
       "      <th>MA_diff</th>\n",
       "    </tr>\n",
       "    <tr>\n",
       "      <th>Date</th>\n",
       "      <th></th>\n",
       "      <th></th>\n",
       "      <th></th>\n",
       "      <th></th>\n",
       "      <th></th>\n",
       "      <th></th>\n",
       "      <th></th>\n",
       "      <th></th>\n",
       "    </tr>\n",
       "  </thead>\n",
       "  <tbody>\n",
       "    <tr>\n",
       "      <th>2020-01-02</th>\n",
       "      <td>160.619995</td>\n",
       "      <td>160.619995</td>\n",
       "      <td>160.619995</td>\n",
       "      <td>True</td>\n",
       "      <td>158.619995</td>\n",
       "      <td>-2.0</td>\n",
       "      <td>-2.0</td>\n",
       "      <td>0.0</td>\n",
       "    </tr>\n",
       "    <tr>\n",
       "      <th>2020-01-03</th>\n",
       "      <td>158.619995</td>\n",
       "      <td>159.619995</td>\n",
       "      <td>159.619995</td>\n",
       "      <td>True</td>\n",
       "      <td>159.029999</td>\n",
       "      <td>0.410004</td>\n",
       "      <td>-1.589996</td>\n",
       "      <td>0.0</td>\n",
       "    </tr>\n",
       "    <tr>\n",
       "      <th>2020-01-06</th>\n",
       "      <td>159.029999</td>\n",
       "      <td>159.423330</td>\n",
       "      <td>159.423330</td>\n",
       "      <td>True</td>\n",
       "      <td>157.580002</td>\n",
       "      <td>-1.449997</td>\n",
       "      <td>-3.039993</td>\n",
       "      <td>0.0</td>\n",
       "    </tr>\n",
       "    <tr>\n",
       "      <th>2020-01-07</th>\n",
       "      <td>157.580002</td>\n",
       "      <td>158.962498</td>\n",
       "      <td>158.962498</td>\n",
       "      <td>True</td>\n",
       "      <td>160.089996</td>\n",
       "      <td>2.509994</td>\n",
       "      <td>-0.529999</td>\n",
       "      <td>0.0</td>\n",
       "    </tr>\n",
       "    <tr>\n",
       "      <th>2020-01-08</th>\n",
       "      <td>160.089996</td>\n",
       "      <td>159.187997</td>\n",
       "      <td>159.187997</td>\n",
       "      <td>True</td>\n",
       "      <td>162.089996</td>\n",
       "      <td>2.0</td>\n",
       "      <td>1.470001</td>\n",
       "      <td>0.0</td>\n",
       "    </tr>\n",
       "  </tbody>\n",
       "</table>\n",
       "</div>"
      ],
      "text/plain": [
       "                 Close     MA_fast     MA_slow  is_hold  NextDay_Close  \\\n",
       "Date                                                                     \n",
       "2020-01-02  160.619995  160.619995  160.619995     True     158.619995   \n",
       "2020-01-03  158.619995  159.619995  159.619995     True     159.029999   \n",
       "2020-01-06  159.029999  159.423330  159.423330     True     157.580002   \n",
       "2020-01-07  157.580002  158.962498  158.962498     True     160.089996   \n",
       "2020-01-08  160.089996  159.187997  159.187997     True     162.089996   \n",
       "\n",
       "              return cum_return  MA_diff  \n",
       "Date                                      \n",
       "2020-01-02      -2.0       -2.0      0.0  \n",
       "2020-01-03  0.410004  -1.589996      0.0  \n",
       "2020-01-06 -1.449997  -3.039993      0.0  \n",
       "2020-01-07  2.509994  -0.529999      0.0  \n",
       "2020-01-08       2.0   1.470001      0.0  "
      ]
     },
     "execution_count": 14,
     "metadata": {},
     "output_type": "execute_result"
    }
   ],
   "source": [
    "test['MA_diff']  = test['MA_fast'] - test['MA_slow']\n",
    "test.head()"
   ]
  },
  {
   "cell_type": "code",
   "execution_count": 15,
   "metadata": {
    "colab": {
     "base_uri": "https://localhost:8080/",
     "height": 237
    },
    "executionInfo": {
     "elapsed": 56,
     "status": "ok",
     "timestamp": 1676524660340,
     "user": {
      "displayName": "최진영",
      "userId": "04611147725648038476"
     },
     "user_tz": -540
    },
    "id": "0vn725J6VW5b",
    "outputId": "f75c38be-24c6-4488-e05b-acf2744a2a9c"
   },
   "outputs": [
    {
     "data": {
      "text/html": [
       "<div>\n",
       "<style scoped>\n",
       "    .dataframe tbody tr th:only-of-type {\n",
       "        vertical-align: middle;\n",
       "    }\n",
       "\n",
       "    .dataframe tbody tr th {\n",
       "        vertical-align: top;\n",
       "    }\n",
       "\n",
       "    .dataframe thead th {\n",
       "        text-align: right;\n",
       "    }\n",
       "</style>\n",
       "<table border=\"1\" class=\"dataframe\">\n",
       "  <thead>\n",
       "    <tr style=\"text-align: right;\">\n",
       "      <th></th>\n",
       "      <th>Close</th>\n",
       "      <th>MA_fast</th>\n",
       "      <th>MA_slow</th>\n",
       "      <th>is_hold</th>\n",
       "      <th>NextDay_Close</th>\n",
       "      <th>return</th>\n",
       "      <th>cum_return</th>\n",
       "      <th>MA_diff</th>\n",
       "      <th>Check</th>\n",
       "    </tr>\n",
       "    <tr>\n",
       "      <th>Date</th>\n",
       "      <th></th>\n",
       "      <th></th>\n",
       "      <th></th>\n",
       "      <th></th>\n",
       "      <th></th>\n",
       "      <th></th>\n",
       "      <th></th>\n",
       "      <th></th>\n",
       "      <th></th>\n",
       "    </tr>\n",
       "  </thead>\n",
       "  <tbody>\n",
       "    <tr>\n",
       "      <th>2020-01-02</th>\n",
       "      <td>160.619995</td>\n",
       "      <td>160.619995</td>\n",
       "      <td>160.619995</td>\n",
       "      <td>True</td>\n",
       "      <td>158.619995</td>\n",
       "      <td>-2.0</td>\n",
       "      <td>-2.0</td>\n",
       "      <td>0.0</td>\n",
       "      <td>neg</td>\n",
       "    </tr>\n",
       "    <tr>\n",
       "      <th>2020-01-03</th>\n",
       "      <td>158.619995</td>\n",
       "      <td>159.619995</td>\n",
       "      <td>159.619995</td>\n",
       "      <td>True</td>\n",
       "      <td>159.029999</td>\n",
       "      <td>0.410004</td>\n",
       "      <td>-1.589996</td>\n",
       "      <td>0.0</td>\n",
       "      <td>neg</td>\n",
       "    </tr>\n",
       "    <tr>\n",
       "      <th>2020-01-06</th>\n",
       "      <td>159.029999</td>\n",
       "      <td>159.423330</td>\n",
       "      <td>159.423330</td>\n",
       "      <td>True</td>\n",
       "      <td>157.580002</td>\n",
       "      <td>-1.449997</td>\n",
       "      <td>-3.039993</td>\n",
       "      <td>0.0</td>\n",
       "      <td>neg</td>\n",
       "    </tr>\n",
       "    <tr>\n",
       "      <th>2020-01-07</th>\n",
       "      <td>157.580002</td>\n",
       "      <td>158.962498</td>\n",
       "      <td>158.962498</td>\n",
       "      <td>True</td>\n",
       "      <td>160.089996</td>\n",
       "      <td>2.509994</td>\n",
       "      <td>-0.529999</td>\n",
       "      <td>0.0</td>\n",
       "      <td>neg</td>\n",
       "    </tr>\n",
       "    <tr>\n",
       "      <th>2020-01-08</th>\n",
       "      <td>160.089996</td>\n",
       "      <td>159.187997</td>\n",
       "      <td>159.187997</td>\n",
       "      <td>True</td>\n",
       "      <td>162.089996</td>\n",
       "      <td>2.0</td>\n",
       "      <td>1.470001</td>\n",
       "      <td>0.0</td>\n",
       "      <td>neg</td>\n",
       "    </tr>\n",
       "  </tbody>\n",
       "</table>\n",
       "</div>"
      ],
      "text/plain": [
       "                 Close     MA_fast     MA_slow  is_hold  NextDay_Close  \\\n",
       "Date                                                                     \n",
       "2020-01-02  160.619995  160.619995  160.619995     True     158.619995   \n",
       "2020-01-03  158.619995  159.619995  159.619995     True     159.029999   \n",
       "2020-01-06  159.029999  159.423330  159.423330     True     157.580002   \n",
       "2020-01-07  157.580002  158.962498  158.962498     True     160.089996   \n",
       "2020-01-08  160.089996  159.187997  159.187997     True     162.089996   \n",
       "\n",
       "              return cum_return  MA_diff Check  \n",
       "Date                                            \n",
       "2020-01-02      -2.0       -2.0      0.0   neg  \n",
       "2020-01-03  0.410004  -1.589996      0.0   neg  \n",
       "2020-01-06 -1.449997  -3.039993      0.0   neg  \n",
       "2020-01-07  2.509994  -0.529999      0.0   neg  \n",
       "2020-01-08       2.0   1.470001      0.0   neg  "
      ]
     },
     "execution_count": 15,
     "metadata": {},
     "output_type": "execute_result"
    }
   ],
   "source": [
    "test['Check'] = np.where(test['MA_diff'] > 0, 'pos', 'neg')\n",
    "test.head()"
   ]
  },
  {
   "cell_type": "code",
   "execution_count": 16,
   "metadata": {
    "colab": {
     "base_uri": "https://localhost:8080/"
    },
    "executionInfo": {
     "elapsed": 54,
     "status": "ok",
     "timestamp": 1676524660340,
     "user": {
      "displayName": "최진영",
      "userId": "04611147725648038476"
     },
     "user_tz": -540
    },
    "id": "vPMK20hudhbK",
    "outputId": "7670fdda-3772-4dd6-f272-9ed8c95f8ede"
   },
   "outputs": [
    {
     "data": {
      "text/plain": [
       "DatetimeIndex(['2020-01-02', '2020-03-16', '2020-04-15', '2020-05-27',\n",
       "               '2022-03-15', '2023-03-21'],\n",
       "              dtype='datetime64[ns]', name='Date', freq=None)"
      ]
     },
     "execution_count": 16,
     "metadata": {},
     "output_type": "execute_result"
    }
   ],
   "source": [
    "signal_date = test[test['Check'] != test['Check'].shift(1)].index\n",
    "signal_date"
   ]
  },
  {
   "cell_type": "code",
   "execution_count": 17,
   "metadata": {
    "colab": {
     "base_uri": "https://localhost:8080/",
     "height": 237
    },
    "executionInfo": {
     "elapsed": 47,
     "status": "ok",
     "timestamp": 1676524660342,
     "user": {
      "displayName": "최진영",
      "userId": "04611147725648038476"
     },
     "user_tz": -540
    },
    "id": "VvLCvUvQT1X4",
    "outputId": "3351e499-a70f-45af-c76d-62662b5092ff"
   },
   "outputs": [
    {
     "data": {
      "text/html": [
       "<div>\n",
       "<style scoped>\n",
       "    .dataframe tbody tr th:only-of-type {\n",
       "        vertical-align: middle;\n",
       "    }\n",
       "\n",
       "    .dataframe tbody tr th {\n",
       "        vertical-align: top;\n",
       "    }\n",
       "\n",
       "    .dataframe thead th {\n",
       "        text-align: right;\n",
       "    }\n",
       "</style>\n",
       "<table border=\"1\" class=\"dataframe\">\n",
       "  <thead>\n",
       "    <tr style=\"text-align: right;\">\n",
       "      <th></th>\n",
       "      <th>Close</th>\n",
       "      <th>MA_fast</th>\n",
       "      <th>MA_slow</th>\n",
       "      <th>is_hold</th>\n",
       "      <th>NextDay_Close</th>\n",
       "      <th>return</th>\n",
       "      <th>cum_return</th>\n",
       "      <th>MA_diff</th>\n",
       "      <th>Check</th>\n",
       "      <th>signal</th>\n",
       "    </tr>\n",
       "    <tr>\n",
       "      <th>Date</th>\n",
       "      <th></th>\n",
       "      <th></th>\n",
       "      <th></th>\n",
       "      <th></th>\n",
       "      <th></th>\n",
       "      <th></th>\n",
       "      <th></th>\n",
       "      <th></th>\n",
       "      <th></th>\n",
       "      <th></th>\n",
       "    </tr>\n",
       "  </thead>\n",
       "  <tbody>\n",
       "    <tr>\n",
       "      <th>2020-01-02</th>\n",
       "      <td>160.619995</td>\n",
       "      <td>160.619995</td>\n",
       "      <td>160.619995</td>\n",
       "      <td>True</td>\n",
       "      <td>158.619995</td>\n",
       "      <td>-2.0</td>\n",
       "      <td>-2.0</td>\n",
       "      <td>0.0</td>\n",
       "      <td>neg</td>\n",
       "      <td>True</td>\n",
       "    </tr>\n",
       "    <tr>\n",
       "      <th>2020-01-03</th>\n",
       "      <td>158.619995</td>\n",
       "      <td>159.619995</td>\n",
       "      <td>159.619995</td>\n",
       "      <td>True</td>\n",
       "      <td>159.029999</td>\n",
       "      <td>0.410004</td>\n",
       "      <td>-1.589996</td>\n",
       "      <td>0.0</td>\n",
       "      <td>neg</td>\n",
       "      <td>NaN</td>\n",
       "    </tr>\n",
       "    <tr>\n",
       "      <th>2020-01-06</th>\n",
       "      <td>159.029999</td>\n",
       "      <td>159.423330</td>\n",
       "      <td>159.423330</td>\n",
       "      <td>True</td>\n",
       "      <td>157.580002</td>\n",
       "      <td>-1.449997</td>\n",
       "      <td>-3.039993</td>\n",
       "      <td>0.0</td>\n",
       "      <td>neg</td>\n",
       "      <td>NaN</td>\n",
       "    </tr>\n",
       "    <tr>\n",
       "      <th>2020-01-07</th>\n",
       "      <td>157.580002</td>\n",
       "      <td>158.962498</td>\n",
       "      <td>158.962498</td>\n",
       "      <td>True</td>\n",
       "      <td>160.089996</td>\n",
       "      <td>2.509994</td>\n",
       "      <td>-0.529999</td>\n",
       "      <td>0.0</td>\n",
       "      <td>neg</td>\n",
       "      <td>NaN</td>\n",
       "    </tr>\n",
       "    <tr>\n",
       "      <th>2020-01-08</th>\n",
       "      <td>160.089996</td>\n",
       "      <td>159.187997</td>\n",
       "      <td>159.187997</td>\n",
       "      <td>True</td>\n",
       "      <td>162.089996</td>\n",
       "      <td>2.0</td>\n",
       "      <td>1.470001</td>\n",
       "      <td>0.0</td>\n",
       "      <td>neg</td>\n",
       "      <td>NaN</td>\n",
       "    </tr>\n",
       "  </tbody>\n",
       "</table>\n",
       "</div>"
      ],
      "text/plain": [
       "                 Close     MA_fast     MA_slow  is_hold  NextDay_Close  \\\n",
       "Date                                                                     \n",
       "2020-01-02  160.619995  160.619995  160.619995     True     158.619995   \n",
       "2020-01-03  158.619995  159.619995  159.619995     True     159.029999   \n",
       "2020-01-06  159.029999  159.423330  159.423330     True     157.580002   \n",
       "2020-01-07  157.580002  158.962498  158.962498     True     160.089996   \n",
       "2020-01-08  160.089996  159.187997  159.187997     True     162.089996   \n",
       "\n",
       "              return cum_return  MA_diff Check signal  \n",
       "Date                                                   \n",
       "2020-01-02      -2.0       -2.0      0.0   neg   True  \n",
       "2020-01-03  0.410004  -1.589996      0.0   neg    NaN  \n",
       "2020-01-06 -1.449997  -3.039993      0.0   neg    NaN  \n",
       "2020-01-07  2.509994  -0.529999      0.0   neg    NaN  \n",
       "2020-01-08       2.0   1.470001      0.0   neg    NaN  "
      ]
     },
     "execution_count": 17,
     "metadata": {},
     "output_type": "execute_result"
    }
   ],
   "source": [
    "# signal_date = test[test['Check'] != test['Check'].shift(1)].index\n",
    "test.loc[signal_date, 'signal'] = True\n",
    "test.head(5)"
   ]
  },
  {
   "cell_type": "code",
   "execution_count": 18,
   "metadata": {
    "colab": {
     "base_uri": "https://localhost:8080/",
     "height": 237
    },
    "executionInfo": {
     "elapsed": 47,
     "status": "ok",
     "timestamp": 1676524660343,
     "user": {
      "displayName": "최진영",
      "userId": "04611147725648038476"
     },
     "user_tz": -540
    },
    "id": "pi2BVdg2mgCN",
    "outputId": "d4680800-9a26-4f34-fd21-246cc00209f8"
   },
   "outputs": [
    {
     "data": {
      "text/html": [
       "<div>\n",
       "<style scoped>\n",
       "    .dataframe tbody tr th:only-of-type {\n",
       "        vertical-align: middle;\n",
       "    }\n",
       "\n",
       "    .dataframe tbody tr th {\n",
       "        vertical-align: top;\n",
       "    }\n",
       "\n",
       "    .dataframe thead th {\n",
       "        text-align: right;\n",
       "    }\n",
       "</style>\n",
       "<table border=\"1\" class=\"dataframe\">\n",
       "  <thead>\n",
       "    <tr style=\"text-align: right;\">\n",
       "      <th></th>\n",
       "      <th>Close</th>\n",
       "      <th>MA_fast</th>\n",
       "      <th>MA_slow</th>\n",
       "      <th>is_hold</th>\n",
       "      <th>NextDay_Close</th>\n",
       "      <th>return</th>\n",
       "      <th>cum_return</th>\n",
       "      <th>MA_diff</th>\n",
       "      <th>Check</th>\n",
       "      <th>signal</th>\n",
       "      <th>SELL</th>\n",
       "      <th>BUY</th>\n",
       "    </tr>\n",
       "    <tr>\n",
       "      <th>Date</th>\n",
       "      <th></th>\n",
       "      <th></th>\n",
       "      <th></th>\n",
       "      <th></th>\n",
       "      <th></th>\n",
       "      <th></th>\n",
       "      <th></th>\n",
       "      <th></th>\n",
       "      <th></th>\n",
       "      <th></th>\n",
       "      <th></th>\n",
       "      <th></th>\n",
       "    </tr>\n",
       "  </thead>\n",
       "  <tbody>\n",
       "    <tr>\n",
       "      <th>2020-01-02</th>\n",
       "      <td>160.619995</td>\n",
       "      <td>160.619995</td>\n",
       "      <td>160.619995</td>\n",
       "      <td>True</td>\n",
       "      <td>158.619995</td>\n",
       "      <td>-2.0</td>\n",
       "      <td>-2.0</td>\n",
       "      <td>0.0</td>\n",
       "      <td>neg</td>\n",
       "      <td>True</td>\n",
       "      <td>True</td>\n",
       "      <td>None</td>\n",
       "    </tr>\n",
       "    <tr>\n",
       "      <th>2020-01-03</th>\n",
       "      <td>158.619995</td>\n",
       "      <td>159.619995</td>\n",
       "      <td>159.619995</td>\n",
       "      <td>True</td>\n",
       "      <td>159.029999</td>\n",
       "      <td>0.410004</td>\n",
       "      <td>-1.589996</td>\n",
       "      <td>0.0</td>\n",
       "      <td>neg</td>\n",
       "      <td>NaN</td>\n",
       "      <td>None</td>\n",
       "      <td>None</td>\n",
       "    </tr>\n",
       "    <tr>\n",
       "      <th>2020-01-06</th>\n",
       "      <td>159.029999</td>\n",
       "      <td>159.423330</td>\n",
       "      <td>159.423330</td>\n",
       "      <td>True</td>\n",
       "      <td>157.580002</td>\n",
       "      <td>-1.449997</td>\n",
       "      <td>-3.039993</td>\n",
       "      <td>0.0</td>\n",
       "      <td>neg</td>\n",
       "      <td>NaN</td>\n",
       "      <td>None</td>\n",
       "      <td>None</td>\n",
       "    </tr>\n",
       "    <tr>\n",
       "      <th>2020-01-07</th>\n",
       "      <td>157.580002</td>\n",
       "      <td>158.962498</td>\n",
       "      <td>158.962498</td>\n",
       "      <td>True</td>\n",
       "      <td>160.089996</td>\n",
       "      <td>2.509994</td>\n",
       "      <td>-0.529999</td>\n",
       "      <td>0.0</td>\n",
       "      <td>neg</td>\n",
       "      <td>NaN</td>\n",
       "      <td>None</td>\n",
       "      <td>None</td>\n",
       "    </tr>\n",
       "    <tr>\n",
       "      <th>2020-01-08</th>\n",
       "      <td>160.089996</td>\n",
       "      <td>159.187997</td>\n",
       "      <td>159.187997</td>\n",
       "      <td>True</td>\n",
       "      <td>162.089996</td>\n",
       "      <td>2.0</td>\n",
       "      <td>1.470001</td>\n",
       "      <td>0.0</td>\n",
       "      <td>neg</td>\n",
       "      <td>NaN</td>\n",
       "      <td>None</td>\n",
       "      <td>None</td>\n",
       "    </tr>\n",
       "  </tbody>\n",
       "</table>\n",
       "</div>"
      ],
      "text/plain": [
       "                 Close     MA_fast     MA_slow  is_hold  NextDay_Close  \\\n",
       "Date                                                                     \n",
       "2020-01-02  160.619995  160.619995  160.619995     True     158.619995   \n",
       "2020-01-03  158.619995  159.619995  159.619995     True     159.029999   \n",
       "2020-01-06  159.029999  159.423330  159.423330     True     157.580002   \n",
       "2020-01-07  157.580002  158.962498  158.962498     True     160.089996   \n",
       "2020-01-08  160.089996  159.187997  159.187997     True     162.089996   \n",
       "\n",
       "              return cum_return  MA_diff Check signal  SELL   BUY  \n",
       "Date                                                               \n",
       "2020-01-02      -2.0       -2.0      0.0   neg   True  True  None  \n",
       "2020-01-03  0.410004  -1.589996      0.0   neg    NaN  None  None  \n",
       "2020-01-06 -1.449997  -3.039993      0.0   neg    NaN  None  None  \n",
       "2020-01-07  2.509994  -0.529999      0.0   neg    NaN  None  None  \n",
       "2020-01-08       2.0   1.470001      0.0   neg    NaN  None  None  "
      ]
     },
     "execution_count": 18,
     "metadata": {},
     "output_type": "execute_result"
    }
   ],
   "source": [
    "# 알고있는 정보 : 매수, 매도 신호가 온 날 -> 매수? 매도?\n",
    "test['SELL'] = np.where((test['Check'] == 'neg') & (test['signal'] == True), True, None)\n",
    "test['BUY'] = np.where((test['Check'] == 'pos') & (test['signal'] == True), True, None)\n",
    "test.head()"
   ]
  },
  {
   "cell_type": "code",
   "execution_count": 19,
   "metadata": {
    "executionInfo": {
     "elapsed": 47,
     "status": "ok",
     "timestamp": 1676524660344,
     "user": {
      "displayName": "최진영",
      "userId": "04611147725648038476"
     },
     "user_tz": -540
    },
    "id": "fiGeqWRFnVe6"
   },
   "outputs": [],
   "source": [
    "BUY_DATE = test[test['BUY'] == True].index\n",
    "SELL_DATE = test[test['SELL'] == True].index"
   ]
  },
  {
   "cell_type": "code",
   "execution_count": 20,
   "metadata": {
    "executionInfo": {
     "elapsed": 48,
     "status": "ok",
     "timestamp": 1676524660345,
     "user": {
      "displayName": "최진영",
      "userId": "04611147725648038476"
     },
     "user_tz": -540
    },
    "id": "_gVl_axSpijs"
   },
   "outputs": [],
   "source": [
    "test['cum_return'] = test['cum_return'].fillna(method = 'ffill')"
   ]
  },
  {
   "cell_type": "code",
   "execution_count": 21,
   "metadata": {
    "colab": {
     "base_uri": "https://localhost:8080/",
     "height": 392
    },
    "executionInfo": {
     "elapsed": 48,
     "status": "ok",
     "timestamp": 1676524660345,
     "user": {
      "displayName": "최진영",
      "userId": "04611147725648038476"
     },
     "user_tz": -540
    },
    "id": "yVVjPYeqn6Cr",
    "outputId": "8e87d797-b03e-4250-dab5-651ea840fc25"
   },
   "outputs": [
    {
     "data": {
      "text/plain": [
       "[<matplotlib.lines.Line2D at 0x168aa0730>]"
      ]
     },
     "execution_count": 21,
     "metadata": {},
     "output_type": "execute_result"
    },
    {
     "data": {
      "image/png": "[encoded data removed]",
      "text/plain": [
       "<Figure size 1800x600 with 1 Axes>"
      ]
     },
     "metadata": {},
     "output_type": "display_data"
    }
   ],
   "source": [
    "import matplotlib.pyplot as plt\n",
    "test[['Close', 'MA_fast', 'MA_slow','cum_return']].plot(figsize = (18,6))\n",
    "plt.plot(BUY_DATE, test.loc[BUY_DATE, 'Close'], 'r^')\n",
    "plt.plot(SELL_DATE, test.loc[SELL_DATE, 'Close'], 'bv')"
   ]
  }
 ],
 "metadata": {
  "colab": {
   "authorship_tag": "ABX9TyM4fO1vd+WCDbRwJk97iC6q",
   "provenance": []
  },
  "kernelspec": {
   "display_name": "Python 3 (ipykernel)",
   "language": "python",
   "name": "python3"
  },
  "language_info": {
   "codemirror_mode": {
    "name": "ipython",
    "version": 3
   },
   "file_extension": ".py",
   "mimetype": "text/x-python",
   "name": "python",
   "nbconvert_exporter": "python",
   "pygments_lexer": "ipython3",
   "version": "3.8.16"
  }
 },
 "nbformat": 4,
 "nbformat_minor": 1
}
