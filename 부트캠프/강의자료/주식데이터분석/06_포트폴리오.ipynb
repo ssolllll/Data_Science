{
 "cells": [
  {
   "cell_type": "code",
   "execution_count": 1,
   "metadata": {
    "executionInfo": {
     "elapsed": 308,
     "status": "ok",
     "timestamp": 1676514341875,
     "user": {
      "displayName": "최진영",
      "userId": "04611147725648038476"
     },
     "user_tz": -540
    },
    "id": "0I_7HdHV_0sO"
   },
   "outputs": [],
   "source": [
    "import FinanceDataReader as fdr\n",
    "import numpy as np\n",
    "import pandas as pd"
   ]
  },
  {
   "cell_type": "code",
   "execution_count": 2,
   "metadata": {
    "colab": {
     "base_uri": "https://localhost:8080/",
     "height": 206
    },
    "executionInfo": {
     "elapsed": 10988,
     "status": "ok",
     "timestamp": 1676514353194,
     "user": {
      "displayName": "최진영",
      "userId": "04611147725648038476"
     },
     "user_tz": -540
    },
    "id": "3jGM8GeqACDF",
    "outputId": "9f0916b6-0c8e-4293-a17d-45c29ea4309d"
   },
   "outputs": [
    {
     "data": {
      "text/html": [
       "<div>\n",
       "<style scoped>\n",
       "    .dataframe tbody tr th:only-of-type {\n",
       "        vertical-align: middle;\n",
       "    }\n",
       "\n",
       "    .dataframe tbody tr th {\n",
       "        vertical-align: top;\n",
       "    }\n",
       "\n",
       "    .dataframe thead th {\n",
       "        text-align: right;\n",
       "    }\n",
       "</style>\n",
       "<table border=\"1\" class=\"dataframe\">\n",
       "  <thead>\n",
       "    <tr style=\"text-align: right;\">\n",
       "      <th></th>\n",
       "      <th>Code</th>\n",
       "      <th>Name</th>\n",
       "    </tr>\n",
       "  </thead>\n",
       "  <tbody>\n",
       "    <tr>\n",
       "      <th>0</th>\n",
       "      <td>005930</td>\n",
       "      <td>삼성전자</td>\n",
       "    </tr>\n",
       "    <tr>\n",
       "      <th>1</th>\n",
       "      <td>373220</td>\n",
       "      <td>LG에너지솔루션</td>\n",
       "    </tr>\n",
       "    <tr>\n",
       "      <th>2</th>\n",
       "      <td>000660</td>\n",
       "      <td>SK하이닉스</td>\n",
       "    </tr>\n",
       "    <tr>\n",
       "      <th>3</th>\n",
       "      <td>207940</td>\n",
       "      <td>삼성바이오로직스</td>\n",
       "    </tr>\n",
       "    <tr>\n",
       "      <th>4</th>\n",
       "      <td>051910</td>\n",
       "      <td>LG화학</td>\n",
       "    </tr>\n",
       "  </tbody>\n",
       "</table>\n",
       "</div>"
      ],
      "text/plain": [
       "     Code      Name\n",
       "0  005930      삼성전자\n",
       "1  373220  LG에너지솔루션\n",
       "2  000660    SK하이닉스\n",
       "3  207940  삼성바이오로직스\n",
       "4  051910      LG화학"
      ]
     },
     "execution_count": 2,
     "metadata": {},
     "output_type": "execute_result"
    }
   ],
   "source": [
    "df_krx = fdr.StockListing('KRX')[['Code','Name']]\n",
    "df_krx.head()"
   ]
  },
  {
   "cell_type": "code",
   "execution_count": 3,
   "metadata": {
    "executionInfo": {
     "elapsed": 6,
     "status": "ok",
     "timestamp": 1676514353194,
     "user": {
      "displayName": "최진영",
      "userId": "04611147725648038476"
     },
     "user_tz": -540
    },
    "id": "Vzad2X10APv2"
   },
   "outputs": [],
   "source": [
    "cor_list = ['DB하이텍', '에코프로', '제주은행', '카카오']"
   ]
  },
  {
   "cell_type": "code",
   "execution_count": 4,
   "metadata": {
    "colab": {
     "base_uri": "https://localhost:8080/",
     "height": 175
    },
    "executionInfo": {
     "elapsed": 5,
     "status": "ok",
     "timestamp": 1676514353194,
     "user": {
      "displayName": "최진영",
      "userId": "04611147725648038476"
     },
     "user_tz": -540
    },
    "id": "730N-kJlAeui",
    "outputId": "99dad461-d8bf-46dd-a24e-82e951fce245"
   },
   "outputs": [
    {
     "data": {
      "text/html": [
       "<div>\n",
       "<style scoped>\n",
       "    .dataframe tbody tr th:only-of-type {\n",
       "        vertical-align: middle;\n",
       "    }\n",
       "\n",
       "    .dataframe tbody tr th {\n",
       "        vertical-align: top;\n",
       "    }\n",
       "\n",
       "    .dataframe thead th {\n",
       "        text-align: right;\n",
       "    }\n",
       "</style>\n",
       "<table border=\"1\" class=\"dataframe\">\n",
       "  <thead>\n",
       "    <tr style=\"text-align: right;\">\n",
       "      <th></th>\n",
       "      <th>Code</th>\n",
       "      <th>Name</th>\n",
       "    </tr>\n",
       "  </thead>\n",
       "  <tbody>\n",
       "    <tr>\n",
       "      <th>13</th>\n",
       "      <td>035720</td>\n",
       "      <td>카카오</td>\n",
       "    </tr>\n",
       "    <tr>\n",
       "      <th>21</th>\n",
       "      <td>086520</td>\n",
       "      <td>에코프로</td>\n",
       "    </tr>\n",
       "    <tr>\n",
       "      <th>117</th>\n",
       "      <td>000990</td>\n",
       "      <td>DB하이텍</td>\n",
       "    </tr>\n",
       "    <tr>\n",
       "      <th>422</th>\n",
       "      <td>006220</td>\n",
       "      <td>제주은행</td>\n",
       "    </tr>\n",
       "  </tbody>\n",
       "</table>\n",
       "</div>"
      ],
      "text/plain": [
       "       Code   Name\n",
       "13   035720    카카오\n",
       "21   086520   에코프로\n",
       "117  000990  DB하이텍\n",
       "422  006220   제주은행"
      ]
     },
     "execution_count": 4,
     "metadata": {},
     "output_type": "execute_result"
    }
   ],
   "source": [
    "cor_df = df_krx[df_krx['Name'].isin(cor_list)]\n",
    "cor_df"
   ]
  },
  {
   "cell_type": "code",
   "execution_count": 5,
   "metadata": {
    "executionInfo": {
     "elapsed": 5407,
     "status": "ok",
     "timestamp": 1676514358597,
     "user": {
      "displayName": "최진영",
      "userId": "04611147725648038476"
     },
     "user_tz": -540
    },
    "id": "SsuDNkV6AzsQ"
   },
   "outputs": [],
   "source": [
    "result = pd.DataFrame()\n",
    "for idx, values in cor_df.iterrows():\n",
    "    df = fdr.DataReader(values['Code'],'2018')\n",
    "    df['Name'] = values['Name']\n",
    "    result = pd.concat([result, df])"
   ]
  },
  {
   "cell_type": "code",
   "execution_count": 6,
   "metadata": {
    "colab": {
     "base_uri": "https://localhost:8080/"
    },
    "executionInfo": {
     "elapsed": 27,
     "status": "ok",
     "timestamp": 1676514358597,
     "user": {
      "displayName": "최진영",
      "userId": "04611147725648038476"
     },
     "user_tz": -540
    },
    "id": "hr5HNDyxBfpv",
    "outputId": "0f09020b-e85b-4fa7-9056-e8d981d1e087"
   },
   "outputs": [
    {
     "data": {
      "text/plain": [
       "array(['카카오', '에코프로', 'DB하이텍', '제주은행'], dtype=object)"
      ]
     },
     "execution_count": 6,
     "metadata": {},
     "output_type": "execute_result"
    }
   ],
   "source": [
    "result['Name'].unique()"
   ]
  },
  {
   "cell_type": "code",
   "execution_count": 7,
   "metadata": {
    "colab": {
     "base_uri": "https://localhost:8080/",
     "height": 237
    },
    "executionInfo": {
     "elapsed": 15,
     "status": "ok",
     "timestamp": 1676514358597,
     "user": {
      "displayName": "최진영",
      "userId": "04611147725648038476"
     },
     "user_tz": -540
    },
    "id": "vA1z_U2jBtYy",
    "outputId": "cf08810d-2d96-4081-b1a9-b45158e8a8bd"
   },
   "outputs": [
    {
     "data": {
      "text/html": [
       "<div>\n",
       "<style scoped>\n",
       "    .dataframe tbody tr th:only-of-type {\n",
       "        vertical-align: middle;\n",
       "    }\n",
       "\n",
       "    .dataframe tbody tr th {\n",
       "        vertical-align: top;\n",
       "    }\n",
       "\n",
       "    .dataframe thead th {\n",
       "        text-align: right;\n",
       "    }\n",
       "</style>\n",
       "<table border=\"1\" class=\"dataframe\">\n",
       "  <thead>\n",
       "    <tr style=\"text-align: right;\">\n",
       "      <th></th>\n",
       "      <th>Open</th>\n",
       "      <th>High</th>\n",
       "      <th>Low</th>\n",
       "      <th>Close</th>\n",
       "      <th>Volume</th>\n",
       "      <th>Change</th>\n",
       "      <th>Name</th>\n",
       "    </tr>\n",
       "    <tr>\n",
       "      <th>Date</th>\n",
       "      <th></th>\n",
       "      <th></th>\n",
       "      <th></th>\n",
       "      <th></th>\n",
       "      <th></th>\n",
       "      <th></th>\n",
       "      <th></th>\n",
       "    </tr>\n",
       "  </thead>\n",
       "  <tbody>\n",
       "    <tr>\n",
       "      <th>2018-01-02</th>\n",
       "      <td>28100</td>\n",
       "      <td>29504</td>\n",
       "      <td>28000</td>\n",
       "      <td>29405</td>\n",
       "      <td>1345951</td>\n",
       "      <td>0.069350</td>\n",
       "      <td>카카오</td>\n",
       "    </tr>\n",
       "    <tr>\n",
       "      <th>2018-01-03</th>\n",
       "      <td>30205</td>\n",
       "      <td>30306</td>\n",
       "      <td>29203</td>\n",
       "      <td>29906</td>\n",
       "      <td>1154361</td>\n",
       "      <td>0.017038</td>\n",
       "      <td>카카오</td>\n",
       "    </tr>\n",
       "    <tr>\n",
       "      <th>2018-01-04</th>\n",
       "      <td>30608</td>\n",
       "      <td>31911</td>\n",
       "      <td>30006</td>\n",
       "      <td>31311</td>\n",
       "      <td>2265019</td>\n",
       "      <td>0.046981</td>\n",
       "      <td>카카오</td>\n",
       "    </tr>\n",
       "    <tr>\n",
       "      <th>2018-01-05</th>\n",
       "      <td>31510</td>\n",
       "      <td>31711</td>\n",
       "      <td>30507</td>\n",
       "      <td>31311</td>\n",
       "      <td>1067202</td>\n",
       "      <td>0.000000</td>\n",
       "      <td>카카오</td>\n",
       "    </tr>\n",
       "    <tr>\n",
       "      <th>2018-01-08</th>\n",
       "      <td>32215</td>\n",
       "      <td>32616</td>\n",
       "      <td>31713</td>\n",
       "      <td>32014</td>\n",
       "      <td>1577403</td>\n",
       "      <td>0.022452</td>\n",
       "      <td>카카오</td>\n",
       "    </tr>\n",
       "  </tbody>\n",
       "</table>\n",
       "</div>"
      ],
      "text/plain": [
       "             Open   High    Low  Close   Volume    Change Name\n",
       "Date                                                          \n",
       "2018-01-02  28100  29504  28000  29405  1345951  0.069350  카카오\n",
       "2018-01-03  30205  30306  29203  29906  1154361  0.017038  카카오\n",
       "2018-01-04  30608  31911  30006  31311  2265019  0.046981  카카오\n",
       "2018-01-05  31510  31711  30507  31311  1067202  0.000000  카카오\n",
       "2018-01-08  32215  32616  31713  32014  1577403  0.022452  카카오"
      ]
     },
     "execution_count": 7,
     "metadata": {},
     "output_type": "execute_result"
    }
   ],
   "source": [
    "result.head()"
   ]
  },
  {
   "cell_type": "code",
   "execution_count": 8,
   "metadata": {
    "colab": {
     "base_uri": "https://localhost:8080/",
     "height": 237
    },
    "executionInfo": {
     "elapsed": 15,
     "status": "ok",
     "timestamp": 1676514358598,
     "user": {
      "displayName": "최진영",
      "userId": "04611147725648038476"
     },
     "user_tz": -540
    },
    "id": "7OJTBvf1BoTt",
    "outputId": "4a470192-222a-4f44-8b9d-07fba6d6dbb2"
   },
   "outputs": [
    {
     "data": {
      "text/html": [
       "<div>\n",
       "<style scoped>\n",
       "    .dataframe tbody tr th:only-of-type {\n",
       "        vertical-align: middle;\n",
       "    }\n",
       "\n",
       "    .dataframe tbody tr th {\n",
       "        vertical-align: top;\n",
       "    }\n",
       "\n",
       "    .dataframe thead th {\n",
       "        text-align: right;\n",
       "    }\n",
       "</style>\n",
       "<table border=\"1\" class=\"dataframe\">\n",
       "  <thead>\n",
       "    <tr style=\"text-align: right;\">\n",
       "      <th>Name</th>\n",
       "      <th>DB하이텍</th>\n",
       "      <th>에코프로</th>\n",
       "      <th>제주은행</th>\n",
       "      <th>카카오</th>\n",
       "    </tr>\n",
       "    <tr>\n",
       "      <th>Date</th>\n",
       "      <th></th>\n",
       "      <th></th>\n",
       "      <th></th>\n",
       "      <th></th>\n",
       "    </tr>\n",
       "  </thead>\n",
       "  <tbody>\n",
       "    <tr>\n",
       "      <th>2018-01-02</th>\n",
       "      <td>-0.012500</td>\n",
       "      <td>0.007607</td>\n",
       "      <td>-0.015365</td>\n",
       "      <td>0.069350</td>\n",
       "    </tr>\n",
       "    <tr>\n",
       "      <th>2018-01-03</th>\n",
       "      <td>0.004219</td>\n",
       "      <td>-0.041560</td>\n",
       "      <td>-0.002863</td>\n",
       "      <td>0.017038</td>\n",
       "    </tr>\n",
       "    <tr>\n",
       "      <th>2018-01-04</th>\n",
       "      <td>0.033613</td>\n",
       "      <td>-0.028908</td>\n",
       "      <td>0.005743</td>\n",
       "      <td>0.046981</td>\n",
       "    </tr>\n",
       "    <tr>\n",
       "      <th>2018-01-05</th>\n",
       "      <td>-0.028455</td>\n",
       "      <td>0.033824</td>\n",
       "      <td>-0.002855</td>\n",
       "      <td>0.000000</td>\n",
       "    </tr>\n",
       "    <tr>\n",
       "      <th>2018-01-08</th>\n",
       "      <td>0.020921</td>\n",
       "      <td>-0.023577</td>\n",
       "      <td>-0.001432</td>\n",
       "      <td>0.022452</td>\n",
       "    </tr>\n",
       "  </tbody>\n",
       "</table>\n",
       "</div>"
      ],
      "text/plain": [
       "Name           DB하이텍      에코프로      제주은행       카카오\n",
       "Date                                              \n",
       "2018-01-02 -0.012500  0.007607 -0.015365  0.069350\n",
       "2018-01-03  0.004219 -0.041560 -0.002863  0.017038\n",
       "2018-01-04  0.033613 -0.028908  0.005743  0.046981\n",
       "2018-01-05 -0.028455  0.033824 -0.002855  0.000000\n",
       "2018-01-08  0.020921 -0.023577 -0.001432  0.022452"
      ]
     },
     "execution_count": 8,
     "metadata": {},
     "output_type": "execute_result"
    }
   ],
   "source": [
    "Changes = pd.pivot_table(index = result.index, columns = 'Name', values = 'Change', data = result)\n",
    "Changes.head()"
   ]
  },
  {
   "cell_type": "code",
   "execution_count": 9,
   "metadata": {
    "colab": {
     "base_uri": "https://localhost:8080/"
    },
    "executionInfo": {
     "elapsed": 14,
     "status": "ok",
     "timestamp": 1676514358598,
     "user": {
      "displayName": "최진영",
      "userId": "04611147725648038476"
     },
     "user_tz": -540
    },
    "id": "8PHo_ERU1T12",
    "outputId": "8ccebf53-b2dc-4688-bc97-67245dfc8571"
   },
   "outputs": [
    {
     "name": "stdout",
     "output_type": "stream",
     "text": [
      "Name\n",
      "DB하이텍     4.016667\n",
      "에코프로     21.898369\n",
      "제주은행      1.297716\n",
      "카카오       1.101971\n",
      "Name: 2023-05-23 00:00:00, dtype: float64\n"
     ]
    }
   ],
   "source": [
    "cum_ror_df = (Changes + 1).cumprod() - 1\n",
    "cum_ror = cum_ror_df.iloc[-1]\n",
    "print(cum_ror)"
   ]
  },
  {
   "cell_type": "code",
   "execution_count": 10,
   "metadata": {
    "colab": {
     "base_uri": "https://localhost:8080/"
    },
    "executionInfo": {
     "elapsed": 12,
     "status": "ok",
     "timestamp": 1676514358598,
     "user": {
      "displayName": "최진영",
      "userId": "04611147725648038476"
     },
     "user_tz": -540
    },
    "id": "xnc_KRD12Am9",
    "outputId": "b6b71b37-eaa9-4278-ad5c-be736a14df54"
   },
   "outputs": [
    {
     "name": "stdout",
     "output_type": "stream",
     "text": [
      "5.389041095890411\n"
     ]
    }
   ],
   "source": [
    "start_date = Changes.index[0]\n",
    "end_date = Changes.index[-1]\n",
    "\n",
    "year = (end_date - start_date).days / 365\n",
    "print(year)"
   ]
  },
  {
   "cell_type": "code",
   "execution_count": 11,
   "metadata": {
    "colab": {
     "base_uri": "https://localhost:8080/"
    },
    "executionInfo": {
     "elapsed": 10,
     "status": "ok",
     "timestamp": 1676514358598,
     "user": {
      "displayName": "최진영",
      "userId": "04611147725648038476"
     },
     "user_tz": -540
    },
    "id": "PtYKjmf819Rs",
    "outputId": "7b19cdc8-fc05-44ee-fbe9-b9d1dc465eec"
   },
   "outputs": [
    {
     "name": "stdout",
     "output_type": "stream",
     "text": [
      "Name\n",
      "DB하이텍    0.348871\n",
      "에코프로     0.787836\n",
      "제주은행     0.166925\n",
      "카카오      0.147803\n",
      "Name: 2023-05-23 00:00:00, dtype: float64\n"
     ]
    }
   ],
   "source": [
    "CAGR = (1 + cum_ror) ** (1/year) - 1\n",
    "print(CAGR)"
   ]
  },
  {
   "cell_type": "code",
   "execution_count": 12,
   "metadata": {
    "colab": {
     "base_uri": "https://localhost:8080/"
    },
    "executionInfo": {
     "elapsed": 9,
     "status": "ok",
     "timestamp": 1676514358598,
     "user": {
      "displayName": "최진영",
      "userId": "04611147725648038476"
     },
     "user_tz": -540
    },
    "id": "UEK-b-Y62yYD",
    "outputId": "57da0938-a984-4e01-9acf-aebaf3709df8"
   },
   "outputs": [
    {
     "name": "stdout",
     "output_type": "stream",
     "text": [
      "Name\n",
      "DB하이텍    0.031739\n",
      "에코프로     0.040308\n",
      "제주은행     0.035150\n",
      "카카오      0.023753\n",
      "dtype: float64 Name\n",
      "DB하이텍    0.503839\n",
      "에코프로     0.639877\n",
      "제주은행     0.557993\n",
      "카카오      0.377061\n",
      "dtype: float64\n"
     ]
    }
   ],
   "source": [
    "daily_std = Changes.std() # 일 표준편차\n",
    "annual_std = daily_std * np.sqrt(252) # 연 표준편차\n",
    "print(daily_std, annual_std)"
   ]
  },
  {
   "cell_type": "code",
   "execution_count": 13,
   "metadata": {
    "executionInfo": {
     "elapsed": 8,
     "status": "ok",
     "timestamp": 1676514358598,
     "user": {
      "displayName": "최진영",
      "userId": "04611147725648038476"
     },
     "user_tz": -540
    },
    "id": "vtUVKr1ECMzl"
   },
   "outputs": [],
   "source": [
    "# 연평균수익률 = Changes.mean() * 252\n",
    "# 공분산_일 = Changes.cov()\n",
    "# 공분산_년 = 공분산_일 * 252\n",
    "# print(연평균수익률, 공분산_년)"
   ]
  },
  {
   "cell_type": "code",
   "execution_count": 14,
   "metadata": {
    "executionInfo": {
     "elapsed": 6265,
     "status": "ok",
     "timestamp": 1676514364855,
     "user": {
      "displayName": "최진영",
      "userId": "04611147725648038476"
     },
     "user_tz": -540
    },
    "id": "K1RTrFcgDMfs"
   },
   "outputs": [],
   "source": [
    "# 종목이 4 -> 100%\n",
    "# 경우의 수가 많다. -> \n",
    "\n",
    "# 전체 비중이 100%을 넘으면 안된다.\n",
    "# 우리가 계산해야할 경우는 많다.\n",
    "\n",
    "portfolio_proportion_list = []\n",
    "portfolio_return_list = []\n",
    "portfolio_risk_list = []\n",
    "\n",
    "import numpy as np\n",
    "\n",
    "for i in range(20000):\n",
    "  # 포트폴리오의 비중\n",
    "    weights = np.random.random(4)\n",
    "    proportion = weights / weights.sum()\n",
    "    # 포트폴리오의 수익률\n",
    "    portfolio_return = (CAGR * proportion).sum()\n",
    "    # 포트폴리오의 리스크\n",
    "    risk = (annual_std * proportion).sum()\n",
    "\n",
    "    portfolio_proportion_list.append(proportion)\n",
    "    portfolio_return_list.append(portfolio_return)\n",
    "    portfolio_risk_list.append(risk)"
   ]
  },
  {
   "cell_type": "code",
   "execution_count": 15,
   "metadata": {
    "colab": {
     "base_uri": "https://localhost:8080/",
     "height": 206
    },
    "executionInfo": {
     "elapsed": 30,
     "status": "ok",
     "timestamp": 1676514364856,
     "user": {
      "displayName": "최진영",
      "userId": "04611147725648038476"
     },
     "user_tz": -540
    },
    "id": "56TZYzeP9Qoa",
    "outputId": "2d3fa459-0177-4921-cde6-e74e7e1fe5e8"
   },
   "outputs": [
    {
     "data": {
      "text/html": [
       "<div>\n",
       "<style scoped>\n",
       "    .dataframe tbody tr th:only-of-type {\n",
       "        vertical-align: middle;\n",
       "    }\n",
       "\n",
       "    .dataframe tbody tr th {\n",
       "        vertical-align: top;\n",
       "    }\n",
       "\n",
       "    .dataframe thead th {\n",
       "        text-align: right;\n",
       "    }\n",
       "</style>\n",
       "<table border=\"1\" class=\"dataframe\">\n",
       "  <thead>\n",
       "    <tr style=\"text-align: right;\">\n",
       "      <th>Name</th>\n",
       "      <th>DB하이텍</th>\n",
       "      <th>에코프로</th>\n",
       "      <th>제주은행</th>\n",
       "      <th>카카오</th>\n",
       "    </tr>\n",
       "  </thead>\n",
       "  <tbody>\n",
       "    <tr>\n",
       "      <th>0</th>\n",
       "      <td>0.129784</td>\n",
       "      <td>0.495283</td>\n",
       "      <td>0.324859</td>\n",
       "      <td>0.050073</td>\n",
       "    </tr>\n",
       "    <tr>\n",
       "      <th>1</th>\n",
       "      <td>0.304753</td>\n",
       "      <td>0.235449</td>\n",
       "      <td>0.137341</td>\n",
       "      <td>0.322457</td>\n",
       "    </tr>\n",
       "    <tr>\n",
       "      <th>2</th>\n",
       "      <td>0.244374</td>\n",
       "      <td>0.276624</td>\n",
       "      <td>0.100384</td>\n",
       "      <td>0.378618</td>\n",
       "    </tr>\n",
       "    <tr>\n",
       "      <th>3</th>\n",
       "      <td>0.242839</td>\n",
       "      <td>0.284803</td>\n",
       "      <td>0.160649</td>\n",
       "      <td>0.311708</td>\n",
       "    </tr>\n",
       "    <tr>\n",
       "      <th>4</th>\n",
       "      <td>0.436091</td>\n",
       "      <td>0.150178</td>\n",
       "      <td>0.181913</td>\n",
       "      <td>0.231818</td>\n",
       "    </tr>\n",
       "  </tbody>\n",
       "</table>\n",
       "</div>"
      ],
      "text/plain": [
       "Name     DB하이텍      에코프로      제주은행       카카오\n",
       "0     0.129784  0.495283  0.324859  0.050073\n",
       "1     0.304753  0.235449  0.137341  0.322457\n",
       "2     0.244374  0.276624  0.100384  0.378618\n",
       "3     0.242839  0.284803  0.160649  0.311708\n",
       "4     0.436091  0.150178  0.181913  0.231818"
      ]
     },
     "execution_count": 15,
     "metadata": {},
     "output_type": "execute_result"
    }
   ],
   "source": [
    "# 각 종목을 데이터프레임에 넣습니다.\n",
    "portfolio = pd.DataFrame(portfolio_proportion_list)\n",
    "portfolio.columns = Changes.columns\n",
    "portfolio.head()"
   ]
  },
  {
   "cell_type": "code",
   "execution_count": 16,
   "metadata": {
    "colab": {
     "base_uri": "https://localhost:8080/",
     "height": 206
    },
    "executionInfo": {
     "elapsed": 27,
     "status": "ok",
     "timestamp": 1676514364856,
     "user": {
      "displayName": "최진영",
      "userId": "04611147725648038476"
     },
     "user_tz": -540
    },
    "id": "p8hsykBw-CoO",
    "outputId": "e918c3e5-1eea-47b9-c108-9c85c5a1cf8d"
   },
   "outputs": [
    {
     "data": {
      "text/html": [
       "<div>\n",
       "<style scoped>\n",
       "    .dataframe tbody tr th:only-of-type {\n",
       "        vertical-align: middle;\n",
       "    }\n",
       "\n",
       "    .dataframe tbody tr th {\n",
       "        vertical-align: top;\n",
       "    }\n",
       "\n",
       "    .dataframe thead th {\n",
       "        text-align: right;\n",
       "    }\n",
       "</style>\n",
       "<table border=\"1\" class=\"dataframe\">\n",
       "  <thead>\n",
       "    <tr style=\"text-align: right;\">\n",
       "      <th>Name</th>\n",
       "      <th>DB하이텍</th>\n",
       "      <th>에코프로</th>\n",
       "      <th>제주은행</th>\n",
       "      <th>카카오</th>\n",
       "      <th>수익률</th>\n",
       "      <th>리스크</th>\n",
       "    </tr>\n",
       "  </thead>\n",
       "  <tbody>\n",
       "    <tr>\n",
       "      <th>0</th>\n",
       "      <td>0.129784</td>\n",
       "      <td>0.495283</td>\n",
       "      <td>0.324859</td>\n",
       "      <td>0.050073</td>\n",
       "      <td>0.497108</td>\n",
       "      <td>0.582461</td>\n",
       "    </tr>\n",
       "    <tr>\n",
       "      <th>1</th>\n",
       "      <td>0.304753</td>\n",
       "      <td>0.235449</td>\n",
       "      <td>0.137341</td>\n",
       "      <td>0.322457</td>\n",
       "      <td>0.362400</td>\n",
       "      <td>0.502426</td>\n",
       "    </tr>\n",
       "    <tr>\n",
       "      <th>2</th>\n",
       "      <td>0.244374</td>\n",
       "      <td>0.276624</td>\n",
       "      <td>0.100384</td>\n",
       "      <td>0.378618</td>\n",
       "      <td>0.375907</td>\n",
       "      <td>0.498906</td>\n",
       "    </tr>\n",
       "    <tr>\n",
       "      <th>3</th>\n",
       "      <td>0.242839</td>\n",
       "      <td>0.284803</td>\n",
       "      <td>0.160649</td>\n",
       "      <td>0.311708</td>\n",
       "      <td>0.381985</td>\n",
       "      <td>0.511765</td>\n",
       "    </tr>\n",
       "    <tr>\n",
       "      <th>4</th>\n",
       "      <td>0.436091</td>\n",
       "      <td>0.150178</td>\n",
       "      <td>0.181913</td>\n",
       "      <td>0.231818</td>\n",
       "      <td>0.335084</td>\n",
       "      <td>0.504731</td>\n",
       "    </tr>\n",
       "  </tbody>\n",
       "</table>\n",
       "</div>"
      ],
      "text/plain": [
       "Name     DB하이텍      에코프로      제주은행       카카오       수익률       리스크\n",
       "0     0.129784  0.495283  0.324859  0.050073  0.497108  0.582461\n",
       "1     0.304753  0.235449  0.137341  0.322457  0.362400  0.502426\n",
       "2     0.244374  0.276624  0.100384  0.378618  0.375907  0.498906\n",
       "3     0.242839  0.284803  0.160649  0.311708  0.381985  0.511765\n",
       "4     0.436091  0.150178  0.181913  0.231818  0.335084  0.504731"
      ]
     },
     "execution_count": 16,
     "metadata": {},
     "output_type": "execute_result"
    }
   ],
   "source": [
    "portfolio['수익률'] = portfolio_return_list\n",
    "portfolio['리스크'] = portfolio_risk_list\n",
    "portfolio.head()"
   ]
  },
  {
   "cell_type": "code",
   "execution_count": 17,
   "metadata": {
    "colab": {
     "base_uri": "https://localhost:8080/",
     "height": 405
    },
    "executionInfo": {
     "elapsed": 616,
     "status": "ok",
     "timestamp": 1676514365447,
     "user": {
      "displayName": "최진영",
      "userId": "04611147725648038476"
     },
     "user_tz": -540
    },
    "id": "gR-JI-Q4-Xcy",
    "outputId": "e3ea15c5-28c4-48b3-8ac4-ee7837a34e5c"
   },
   "outputs": [
    {
     "data": {
      "text/plain": [
       "<Axes: xlabel='Risk', ylabel='rate_of_return'>"
      ]
     },
     "execution_count": 17,
     "metadata": {},
     "output_type": "execute_result"
    },
    {
     "data": {
      "image/png": "[encoded data removed]",
      "text/plain": [
       "<Figure size 1600x600 with 1 Axes>"
      ]
     },
     "metadata": {},
     "output_type": "display_data"
    }
   ],
   "source": [
    "portfolio.plot.scatter(x = '리스크', y = '수익률', figsize = (16,6), xlabel = 'Risk', ylabel = 'rate_of_return')"
   ]
  },
  {
   "cell_type": "code",
   "execution_count": 18,
   "metadata": {
    "colab": {
     "base_uri": "https://localhost:8080/",
     "height": 423
    },
    "executionInfo": {
     "elapsed": 20,
     "status": "ok",
     "timestamp": 1676514365448,
     "user": {
      "displayName": "최진영",
      "userId": "04611147725648038476"
     },
     "user_tz": -540
    },
    "id": "AkoY_jig_SJI",
    "outputId": "bd1e862f-9c27-45fa-eab3-9d329fc319d8"
   },
   "outputs": [
    {
     "data": {
      "text/html": [
       "<div>\n",
       "<style scoped>\n",
       "    .dataframe tbody tr th:only-of-type {\n",
       "        vertical-align: middle;\n",
       "    }\n",
       "\n",
       "    .dataframe tbody tr th {\n",
       "        vertical-align: top;\n",
       "    }\n",
       "\n",
       "    .dataframe thead th {\n",
       "        text-align: right;\n",
       "    }\n",
       "</style>\n",
       "<table border=\"1\" class=\"dataframe\">\n",
       "  <thead>\n",
       "    <tr style=\"text-align: right;\">\n",
       "      <th>Name</th>\n",
       "      <th>DB하이텍</th>\n",
       "      <th>에코프로</th>\n",
       "      <th>제주은행</th>\n",
       "      <th>카카오</th>\n",
       "      <th>수익률</th>\n",
       "      <th>리스크</th>\n",
       "    </tr>\n",
       "  </thead>\n",
       "  <tbody>\n",
       "    <tr>\n",
       "      <th>4629</th>\n",
       "      <td>0.025649</td>\n",
       "      <td>0.900729</td>\n",
       "      <td>0.033031</td>\n",
       "      <td>0.040591</td>\n",
       "      <td>0.730089</td>\n",
       "      <td>0.623016</td>\n",
       "    </tr>\n",
       "    <tr>\n",
       "      <th>16387</th>\n",
       "      <td>0.027003</td>\n",
       "      <td>0.896473</td>\n",
       "      <td>0.064005</td>\n",
       "      <td>0.012519</td>\n",
       "      <td>0.728229</td>\n",
       "      <td>0.627673</td>\n",
       "    </tr>\n",
       "    <tr>\n",
       "      <th>17606</th>\n",
       "      <td>0.026729</td>\n",
       "      <td>0.885659</td>\n",
       "      <td>0.000679</td>\n",
       "      <td>0.086933</td>\n",
       "      <td>0.720041</td>\n",
       "      <td>0.613338</td>\n",
       "    </tr>\n",
       "    <tr>\n",
       "      <th>19517</th>\n",
       "      <td>0.105035</td>\n",
       "      <td>0.856798</td>\n",
       "      <td>0.017315</td>\n",
       "      <td>0.020852</td>\n",
       "      <td>0.717633</td>\n",
       "      <td>0.618691</td>\n",
       "    </tr>\n",
       "    <tr>\n",
       "      <th>17569</th>\n",
       "      <td>0.114885</td>\n",
       "      <td>0.853754</td>\n",
       "      <td>0.000704</td>\n",
       "      <td>0.030656</td>\n",
       "      <td>0.717347</td>\n",
       "      <td>0.616134</td>\n",
       "    </tr>\n",
       "    <tr>\n",
       "      <th>...</th>\n",
       "      <td>...</td>\n",
       "      <td>...</td>\n",
       "      <td>...</td>\n",
       "      <td>...</td>\n",
       "      <td>...</td>\n",
       "      <td>...</td>\n",
       "    </tr>\n",
       "    <tr>\n",
       "      <th>8586</th>\n",
       "      <td>0.008735</td>\n",
       "      <td>0.015999</td>\n",
       "      <td>0.040042</td>\n",
       "      <td>0.935225</td>\n",
       "      <td>0.160564</td>\n",
       "      <td>0.389618</td>\n",
       "    </tr>\n",
       "    <tr>\n",
       "      <th>9168</th>\n",
       "      <td>0.002390</td>\n",
       "      <td>0.014221</td>\n",
       "      <td>0.128106</td>\n",
       "      <td>0.855283</td>\n",
       "      <td>0.159834</td>\n",
       "      <td>0.404280</td>\n",
       "    </tr>\n",
       "    <tr>\n",
       "      <th>8783</th>\n",
       "      <td>0.015126</td>\n",
       "      <td>0.008408</td>\n",
       "      <td>0.183069</td>\n",
       "      <td>0.793397</td>\n",
       "      <td>0.159726</td>\n",
       "      <td>0.414312</td>\n",
       "    </tr>\n",
       "    <tr>\n",
       "      <th>18391</th>\n",
       "      <td>0.027566</td>\n",
       "      <td>0.000522</td>\n",
       "      <td>0.292034</td>\n",
       "      <td>0.679878</td>\n",
       "      <td>0.159264</td>\n",
       "      <td>0.433531</td>\n",
       "    </tr>\n",
       "    <tr>\n",
       "      <th>11807</th>\n",
       "      <td>0.026531</td>\n",
       "      <td>0.000632</td>\n",
       "      <td>0.032217</td>\n",
       "      <td>0.940620</td>\n",
       "      <td>0.154158</td>\n",
       "      <td>0.386420</td>\n",
       "    </tr>\n",
       "  </tbody>\n",
       "</table>\n",
       "<p>20000 rows × 6 columns</p>\n",
       "</div>"
      ],
      "text/plain": [
       "Name      DB하이텍      에코프로      제주은행       카카오       수익률       리스크\n",
       "4629   0.025649  0.900729  0.033031  0.040591  0.730089  0.623016\n",
       "16387  0.027003  0.896473  0.064005  0.012519  0.728229  0.627673\n",
       "17606  0.026729  0.885659  0.000679  0.086933  0.720041  0.613338\n",
       "19517  0.105035  0.856798  0.017315  0.020852  0.717633  0.618691\n",
       "17569  0.114885  0.853754  0.000704  0.030656  0.717347  0.616134\n",
       "...         ...       ...       ...       ...       ...       ...\n",
       "8586   0.008735  0.015999  0.040042  0.935225  0.160564  0.389618\n",
       "9168   0.002390  0.014221  0.128106  0.855283  0.159834  0.404280\n",
       "8783   0.015126  0.008408  0.183069  0.793397  0.159726  0.414312\n",
       "18391  0.027566  0.000522  0.292034  0.679878  0.159264  0.433531\n",
       "11807  0.026531  0.000632  0.032217  0.940620  0.154158  0.386420\n",
       "\n",
       "[20000 rows x 6 columns]"
      ]
     },
     "execution_count": 18,
     "metadata": {},
     "output_type": "execute_result"
    }
   ],
   "source": [
    "portfolio.sort_values('수익률',ascending = False)"
   ]
  },
  {
   "cell_type": "code",
   "execution_count": 19,
   "metadata": {
    "colab": {
     "base_uri": "https://localhost:8080/",
     "height": 423
    },
    "executionInfo": {
     "elapsed": 17,
     "status": "ok",
     "timestamp": 1676514365448,
     "user": {
      "displayName": "최진영",
      "userId": "04611147725648038476"
     },
     "user_tz": -540
    },
    "id": "BQz4fjZb_f2B",
    "outputId": "51a65e56-114a-4b3d-8e10-4dd8a13b6d60"
   },
   "outputs": [
    {
     "data": {
      "text/html": [
       "<div>\n",
       "<style scoped>\n",
       "    .dataframe tbody tr th:only-of-type {\n",
       "        vertical-align: middle;\n",
       "    }\n",
       "\n",
       "    .dataframe tbody tr th {\n",
       "        vertical-align: top;\n",
       "    }\n",
       "\n",
       "    .dataframe thead th {\n",
       "        text-align: right;\n",
       "    }\n",
       "</style>\n",
       "<table border=\"1\" class=\"dataframe\">\n",
       "  <thead>\n",
       "    <tr style=\"text-align: right;\">\n",
       "      <th>Name</th>\n",
       "      <th>DB하이텍</th>\n",
       "      <th>에코프로</th>\n",
       "      <th>제주은행</th>\n",
       "      <th>카카오</th>\n",
       "      <th>수익률</th>\n",
       "      <th>리스크</th>\n",
       "    </tr>\n",
       "  </thead>\n",
       "  <tbody>\n",
       "    <tr>\n",
       "      <th>11807</th>\n",
       "      <td>0.026531</td>\n",
       "      <td>0.000632</td>\n",
       "      <td>0.032217</td>\n",
       "      <td>0.940620</td>\n",
       "      <td>0.154158</td>\n",
       "      <td>0.386420</td>\n",
       "    </tr>\n",
       "    <tr>\n",
       "      <th>8586</th>\n",
       "      <td>0.008735</td>\n",
       "      <td>0.015999</td>\n",
       "      <td>0.040042</td>\n",
       "      <td>0.935225</td>\n",
       "      <td>0.160564</td>\n",
       "      <td>0.389618</td>\n",
       "    </tr>\n",
       "    <tr>\n",
       "      <th>7405</th>\n",
       "      <td>0.112976</td>\n",
       "      <td>0.007927</td>\n",
       "      <td>0.003893</td>\n",
       "      <td>0.875204</td>\n",
       "      <td>0.175667</td>\n",
       "      <td>0.394172</td>\n",
       "    </tr>\n",
       "    <tr>\n",
       "      <th>18780</th>\n",
       "      <td>0.044620</td>\n",
       "      <td>0.030696</td>\n",
       "      <td>0.021338</td>\n",
       "      <td>0.903347</td>\n",
       "      <td>0.176829</td>\n",
       "      <td>0.394646</td>\n",
       "    </tr>\n",
       "    <tr>\n",
       "      <th>15364</th>\n",
       "      <td>0.004855</td>\n",
       "      <td>0.028034</td>\n",
       "      <td>0.069468</td>\n",
       "      <td>0.897642</td>\n",
       "      <td>0.168050</td>\n",
       "      <td>0.397614</td>\n",
       "    </tr>\n",
       "    <tr>\n",
       "      <th>...</th>\n",
       "      <td>...</td>\n",
       "      <td>...</td>\n",
       "      <td>...</td>\n",
       "      <td>...</td>\n",
       "      <td>...</td>\n",
       "      <td>...</td>\n",
       "    </tr>\n",
       "    <tr>\n",
       "      <th>8957</th>\n",
       "      <td>0.092277</td>\n",
       "      <td>0.829806</td>\n",
       "      <td>0.064539</td>\n",
       "      <td>0.013377</td>\n",
       "      <td>0.698694</td>\n",
       "      <td>0.618524</td>\n",
       "    </tr>\n",
       "    <tr>\n",
       "      <th>19517</th>\n",
       "      <td>0.105035</td>\n",
       "      <td>0.856798</td>\n",
       "      <td>0.017315</td>\n",
       "      <td>0.020852</td>\n",
       "      <td>0.717633</td>\n",
       "      <td>0.618691</td>\n",
       "    </tr>\n",
       "    <tr>\n",
       "      <th>9586</th>\n",
       "      <td>0.018652</td>\n",
       "      <td>0.805930</td>\n",
       "      <td>0.162950</td>\n",
       "      <td>0.012468</td>\n",
       "      <td>0.670491</td>\n",
       "      <td>0.620720</td>\n",
       "    </tr>\n",
       "    <tr>\n",
       "      <th>4629</th>\n",
       "      <td>0.025649</td>\n",
       "      <td>0.900729</td>\n",
       "      <td>0.033031</td>\n",
       "      <td>0.040591</td>\n",
       "      <td>0.730089</td>\n",
       "      <td>0.623016</td>\n",
       "    </tr>\n",
       "    <tr>\n",
       "      <th>16387</th>\n",
       "      <td>0.027003</td>\n",
       "      <td>0.896473</td>\n",
       "      <td>0.064005</td>\n",
       "      <td>0.012519</td>\n",
       "      <td>0.728229</td>\n",
       "      <td>0.627673</td>\n",
       "    </tr>\n",
       "  </tbody>\n",
       "</table>\n",
       "<p>20000 rows × 6 columns</p>\n",
       "</div>"
      ],
      "text/plain": [
       "Name      DB하이텍      에코프로      제주은행       카카오       수익률       리스크\n",
       "11807  0.026531  0.000632  0.032217  0.940620  0.154158  0.386420\n",
       "8586   0.008735  0.015999  0.040042  0.935225  0.160564  0.389618\n",
       "7405   0.112976  0.007927  0.003893  0.875204  0.175667  0.394172\n",
       "18780  0.044620  0.030696  0.021338  0.903347  0.176829  0.394646\n",
       "15364  0.004855  0.028034  0.069468  0.897642  0.168050  0.397614\n",
       "...         ...       ...       ...       ...       ...       ...\n",
       "8957   0.092277  0.829806  0.064539  0.013377  0.698694  0.618524\n",
       "19517  0.105035  0.856798  0.017315  0.020852  0.717633  0.618691\n",
       "9586   0.018652  0.805930  0.162950  0.012468  0.670491  0.620720\n",
       "4629   0.025649  0.900729  0.033031  0.040591  0.730089  0.623016\n",
       "16387  0.027003  0.896473  0.064005  0.012519  0.728229  0.627673\n",
       "\n",
       "[20000 rows x 6 columns]"
      ]
     },
     "execution_count": 19,
     "metadata": {},
     "output_type": "execute_result"
    }
   ],
   "source": [
    "portfolio.sort_values('리스크')"
   ]
  },
  {
   "cell_type": "code",
   "execution_count": 20,
   "metadata": {
    "colab": {
     "base_uri": "https://localhost:8080/",
     "height": 206
    },
    "executionInfo": {
     "elapsed": 14,
     "status": "ok",
     "timestamp": 1676514365448,
     "user": {
      "displayName": "최진영",
      "userId": "04611147725648038476"
     },
     "user_tz": -540
    },
    "id": "ncGNfc5L_28_",
    "outputId": "0bed0b68-e908-418c-df7e-c70c31b108ef"
   },
   "outputs": [
    {
     "data": {
      "text/html": [
       "<div>\n",
       "<style scoped>\n",
       "    .dataframe tbody tr th:only-of-type {\n",
       "        vertical-align: middle;\n",
       "    }\n",
       "\n",
       "    .dataframe tbody tr th {\n",
       "        vertical-align: top;\n",
       "    }\n",
       "\n",
       "    .dataframe thead th {\n",
       "        text-align: right;\n",
       "    }\n",
       "</style>\n",
       "<table border=\"1\" class=\"dataframe\">\n",
       "  <thead>\n",
       "    <tr style=\"text-align: right;\">\n",
       "      <th>Name</th>\n",
       "      <th>DB하이텍</th>\n",
       "      <th>에코프로</th>\n",
       "      <th>제주은행</th>\n",
       "      <th>카카오</th>\n",
       "      <th>수익률</th>\n",
       "      <th>리스크</th>\n",
       "      <th>샤프지수</th>\n",
       "    </tr>\n",
       "  </thead>\n",
       "  <tbody>\n",
       "    <tr>\n",
       "      <th>0</th>\n",
       "      <td>0.129784</td>\n",
       "      <td>0.495283</td>\n",
       "      <td>0.324859</td>\n",
       "      <td>0.050073</td>\n",
       "      <td>0.497108</td>\n",
       "      <td>0.582461</td>\n",
       "      <td>0.853462</td>\n",
       "    </tr>\n",
       "    <tr>\n",
       "      <th>1</th>\n",
       "      <td>0.304753</td>\n",
       "      <td>0.235449</td>\n",
       "      <td>0.137341</td>\n",
       "      <td>0.322457</td>\n",
       "      <td>0.362400</td>\n",
       "      <td>0.502426</td>\n",
       "      <td>0.721300</td>\n",
       "    </tr>\n",
       "    <tr>\n",
       "      <th>2</th>\n",
       "      <td>0.244374</td>\n",
       "      <td>0.276624</td>\n",
       "      <td>0.100384</td>\n",
       "      <td>0.378618</td>\n",
       "      <td>0.375907</td>\n",
       "      <td>0.498906</td>\n",
       "      <td>0.753462</td>\n",
       "    </tr>\n",
       "    <tr>\n",
       "      <th>3</th>\n",
       "      <td>0.242839</td>\n",
       "      <td>0.284803</td>\n",
       "      <td>0.160649</td>\n",
       "      <td>0.311708</td>\n",
       "      <td>0.381985</td>\n",
       "      <td>0.511765</td>\n",
       "      <td>0.746407</td>\n",
       "    </tr>\n",
       "    <tr>\n",
       "      <th>4</th>\n",
       "      <td>0.436091</td>\n",
       "      <td>0.150178</td>\n",
       "      <td>0.181913</td>\n",
       "      <td>0.231818</td>\n",
       "      <td>0.335084</td>\n",
       "      <td>0.504731</td>\n",
       "      <td>0.663887</td>\n",
       "    </tr>\n",
       "  </tbody>\n",
       "</table>\n",
       "</div>"
      ],
      "text/plain": [
       "Name     DB하이텍      에코프로      제주은행       카카오       수익률       리스크      샤프지수\n",
       "0     0.129784  0.495283  0.324859  0.050073  0.497108  0.582461  0.853462\n",
       "1     0.304753  0.235449  0.137341  0.322457  0.362400  0.502426  0.721300\n",
       "2     0.244374  0.276624  0.100384  0.378618  0.375907  0.498906  0.753462\n",
       "3     0.242839  0.284803  0.160649  0.311708  0.381985  0.511765  0.746407\n",
       "4     0.436091  0.150178  0.181913  0.231818  0.335084  0.504731  0.663887"
      ]
     },
     "execution_count": 20,
     "metadata": {},
     "output_type": "execute_result"
    }
   ],
   "source": [
    "portfolio['샤프지수'] = portfolio['수익률'] / portfolio['리스크']\n",
    "portfolio.head()"
   ]
  },
  {
   "cell_type": "code",
   "execution_count": 21,
   "metadata": {
    "colab": {
     "base_uri": "https://localhost:8080/",
     "height": 423
    },
    "executionInfo": {
     "elapsed": 12,
     "status": "ok",
     "timestamp": 1676514365449,
     "user": {
      "displayName": "최진영",
      "userId": "04611147725648038476"
     },
     "user_tz": -540
    },
    "id": "gW8h1lr4AEJQ",
    "outputId": "99bf7d22-a42f-462b-de25-f61d6ffefc00"
   },
   "outputs": [
    {
     "data": {
      "text/html": [
       "<div>\n",
       "<style scoped>\n",
       "    .dataframe tbody tr th:only-of-type {\n",
       "        vertical-align: middle;\n",
       "    }\n",
       "\n",
       "    .dataframe tbody tr th {\n",
       "        vertical-align: top;\n",
       "    }\n",
       "\n",
       "    .dataframe thead th {\n",
       "        text-align: right;\n",
       "    }\n",
       "</style>\n",
       "<table border=\"1\" class=\"dataframe\">\n",
       "  <thead>\n",
       "    <tr style=\"text-align: right;\">\n",
       "      <th>Name</th>\n",
       "      <th>DB하이텍</th>\n",
       "      <th>에코프로</th>\n",
       "      <th>제주은행</th>\n",
       "      <th>카카오</th>\n",
       "      <th>수익률</th>\n",
       "      <th>리스크</th>\n",
       "      <th>샤프지수</th>\n",
       "    </tr>\n",
       "  </thead>\n",
       "  <tbody>\n",
       "    <tr>\n",
       "      <th>17606</th>\n",
       "      <td>0.026729</td>\n",
       "      <td>0.885659</td>\n",
       "      <td>0.000679</td>\n",
       "      <td>0.086933</td>\n",
       "      <td>0.720041</td>\n",
       "      <td>0.613338</td>\n",
       "      <td>1.173971</td>\n",
       "    </tr>\n",
       "    <tr>\n",
       "      <th>4629</th>\n",
       "      <td>0.025649</td>\n",
       "      <td>0.900729</td>\n",
       "      <td>0.033031</td>\n",
       "      <td>0.040591</td>\n",
       "      <td>0.730089</td>\n",
       "      <td>0.623016</td>\n",
       "      <td>1.171863</td>\n",
       "    </tr>\n",
       "    <tr>\n",
       "      <th>17569</th>\n",
       "      <td>0.114885</td>\n",
       "      <td>0.853754</td>\n",
       "      <td>0.000704</td>\n",
       "      <td>0.030656</td>\n",
       "      <td>0.717347</td>\n",
       "      <td>0.616134</td>\n",
       "      <td>1.164271</td>\n",
       "    </tr>\n",
       "    <tr>\n",
       "      <th>16843</th>\n",
       "      <td>0.008423</td>\n",
       "      <td>0.880683</td>\n",
       "      <td>0.018073</td>\n",
       "      <td>0.092821</td>\n",
       "      <td>0.713508</td>\n",
       "      <td>0.612857</td>\n",
       "      <td>1.164234</td>\n",
       "    </tr>\n",
       "    <tr>\n",
       "      <th>16387</th>\n",
       "      <td>0.027003</td>\n",
       "      <td>0.896473</td>\n",
       "      <td>0.064005</td>\n",
       "      <td>0.012519</td>\n",
       "      <td>0.728229</td>\n",
       "      <td>0.627673</td>\n",
       "      <td>1.160205</td>\n",
       "    </tr>\n",
       "    <tr>\n",
       "      <th>...</th>\n",
       "      <td>...</td>\n",
       "      <td>...</td>\n",
       "      <td>...</td>\n",
       "      <td>...</td>\n",
       "      <td>...</td>\n",
       "      <td>...</td>\n",
       "      <td>...</td>\n",
       "    </tr>\n",
       "    <tr>\n",
       "      <th>9461</th>\n",
       "      <td>0.027244</td>\n",
       "      <td>0.000310</td>\n",
       "      <td>0.661333</td>\n",
       "      <td>0.311112</td>\n",
       "      <td>0.166125</td>\n",
       "      <td>0.500253</td>\n",
       "      <td>0.332083</td>\n",
       "    </tr>\n",
       "    <tr>\n",
       "      <th>19120</th>\n",
       "      <td>0.046301</td>\n",
       "      <td>0.003068</td>\n",
       "      <td>0.788459</td>\n",
       "      <td>0.162172</td>\n",
       "      <td>0.174153</td>\n",
       "      <td>0.526395</td>\n",
       "      <td>0.330841</td>\n",
       "    </tr>\n",
       "    <tr>\n",
       "      <th>14851</th>\n",
       "      <td>0.020358</td>\n",
       "      <td>0.013043</td>\n",
       "      <td>0.841133</td>\n",
       "      <td>0.125466</td>\n",
       "      <td>0.176328</td>\n",
       "      <td>0.535258</td>\n",
       "      <td>0.329427</td>\n",
       "    </tr>\n",
       "    <tr>\n",
       "      <th>19414</th>\n",
       "      <td>0.035345</td>\n",
       "      <td>0.006621</td>\n",
       "      <td>0.896657</td>\n",
       "      <td>0.061377</td>\n",
       "      <td>0.176293</td>\n",
       "      <td>0.545516</td>\n",
       "      <td>0.323167</td>\n",
       "    </tr>\n",
       "    <tr>\n",
       "      <th>13907</th>\n",
       "      <td>0.011721</td>\n",
       "      <td>0.001634</td>\n",
       "      <td>0.808339</td>\n",
       "      <td>0.178305</td>\n",
       "      <td>0.166663</td>\n",
       "      <td>0.525231</td>\n",
       "      <td>0.317313</td>\n",
       "    </tr>\n",
       "  </tbody>\n",
       "</table>\n",
       "<p>20000 rows × 7 columns</p>\n",
       "</div>"
      ],
      "text/plain": [
       "Name      DB하이텍      에코프로      제주은행       카카오       수익률       리스크      샤프지수\n",
       "17606  0.026729  0.885659  0.000679  0.086933  0.720041  0.613338  1.173971\n",
       "4629   0.025649  0.900729  0.033031  0.040591  0.730089  0.623016  1.171863\n",
       "17569  0.114885  0.853754  0.000704  0.030656  0.717347  0.616134  1.164271\n",
       "16843  0.008423  0.880683  0.018073  0.092821  0.713508  0.612857  1.164234\n",
       "16387  0.027003  0.896473  0.064005  0.012519  0.728229  0.627673  1.160205\n",
       "...         ...       ...       ...       ...       ...       ...       ...\n",
       "9461   0.027244  0.000310  0.661333  0.311112  0.166125  0.500253  0.332083\n",
       "19120  0.046301  0.003068  0.788459  0.162172  0.174153  0.526395  0.330841\n",
       "14851  0.020358  0.013043  0.841133  0.125466  0.176328  0.535258  0.329427\n",
       "19414  0.035345  0.006621  0.896657  0.061377  0.176293  0.545516  0.323167\n",
       "13907  0.011721  0.001634  0.808339  0.178305  0.166663  0.525231  0.317313\n",
       "\n",
       "[20000 rows x 7 columns]"
      ]
     },
     "execution_count": 21,
     "metadata": {},
     "output_type": "execute_result"
    }
   ],
   "source": [
    "portfolio.sort_values('샤프지수', ascending = False)"
   ]
  }
 ],
 "metadata": {
  "colab": {
   "authorship_tag": "ABX9TyP9mp+sPk6zuyi+Ecn7CZKM",
   "provenance": []
  },
  "kernelspec": {
   "display_name": "Python 3 (ipykernel)",
   "language": "python",
   "name": "python3"
  },
  "language_info": {
   "codemirror_mode": {
    "name": "ipython",
    "version": 3
   },
   "file_extension": ".py",
   "mimetype": "text/x-python",
   "name": "python",
   "nbconvert_exporter": "python",
   "pygments_lexer": "ipython3",
   "version": "3.8.16"
  }
 },
 "nbformat": 4,
 "nbformat_minor": 1
}
