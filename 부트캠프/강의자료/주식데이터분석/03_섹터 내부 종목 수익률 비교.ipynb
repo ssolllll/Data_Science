{
 "cells": [
  {
   "cell_type": "markdown",
   "metadata": {
    "id": "EufAuU4z89UU"
   },
   "source": [
    "섹터 별로 수익률을 비교하고, 섹터 내부 종목별로 수익률은 어떻게 차이가 있는가?\n",
    " - 필요한 데이터 : 섹터별 종목, 섹터별 지수(가격), 기간, 섹터 내부 종목 가격"
   ]
  },
  {
   "cell_type": "code",
   "execution_count": 1,
   "metadata": {
    "colab": {
     "base_uri": "https://localhost:8080/"
    },
    "executionInfo": {
     "elapsed": 922,
     "status": "ok",
     "timestamp": 1676425317434,
     "user": {
      "displayName": "최진영",
      "userId": "04611147725648038476"
     },
     "user_tz": -540
    },
    "id": "Np96Y0rdXVNW",
    "outputId": "ceedc339-a4e8-4ceb-cfda-9fa93aef0bb6"
   },
   "outputs": [
    {
     "name": "stdout",
     "output_type": "stream",
     "text": [
      "zsh:1: command not found: wget\n",
      "mv: rename malgun.ttf to /usr/share/fonts/truetype/: No such file or directory\n"
     ]
    }
   ],
   "source": [
    "# 경고(worning) 비표시\n",
    "!wget \"https://www.wfonts.com/download/data/2016/06/13/malgun-gothic/malgun.ttf\"\n",
    "!mv malgun.ttf /usr/share/fonts/truetype/"
   ]
  },
  {
   "cell_type": "code",
   "execution_count": 6,
   "metadata": {
    "executionInfo": {
     "elapsed": 433,
     "status": "ok",
     "timestamp": 1676425321343,
     "user": {
      "displayName": "최진영",
      "userId": "04611147725648038476"
     },
     "user_tz": -540
    },
    "id": "PnlL4Ce-XY_N"
   },
   "outputs": [],
   "source": [
    "#matplotlib 한글깨짐 지원\n",
    "import platform\n",
    "from matplotlib import font_manager, rc\n",
    "\n",
    "path = \"c:/Windows/Fonts/malgun.ttf\"\n",
    "if platform.system() == 'Darwin':\n",
    "    rc('font', family='AppleGothic')\n",
    "elif platform.system() == 'Windows':\n",
    "    font_name = font_manager.FontProperties(fname=path).get_name()\n",
    "    rc('font', family=font_name)\n",
    "else:\n",
    "    print('Unknown system...')\n",
    "rc('axes', unicode_minus=False)  "
   ]
  },
  {
   "cell_type": "code",
   "execution_count": 9,
   "metadata": {
    "id": "OkXFDkdA8u43",
    "scrolled": false
   },
   "outputs": [
    {
     "data": {
      "text/html": [
       "<div>\n",
       "<style scoped>\n",
       "    .dataframe tbody tr th:only-of-type {\n",
       "        vertical-align: middle;\n",
       "    }\n",
       "\n",
       "    .dataframe tbody tr th {\n",
       "        vertical-align: top;\n",
       "    }\n",
       "\n",
       "    .dataframe thead th {\n",
       "        text-align: right;\n",
       "    }\n",
       "</style>\n",
       "<table border=\"1\" class=\"dataframe\">\n",
       "  <thead>\n",
       "    <tr style=\"text-align: right;\">\n",
       "      <th></th>\n",
       "      <th>2023 상반기 신규상장</th>\n",
       "      <th>SNS(소셜네트워크서비스)</th>\n",
       "      <th>모바일솔루션(스마트폰)</th>\n",
       "      <th>영상콘텐츠</th>\n",
       "      <th>창투사</th>\n",
       "      <th>K-뉴딜지수(2차전지)</th>\n",
       "      <th>화폐/금융자동화기기(디지털화폐 등)</th>\n",
       "      <th>메타버스(Metaverse)</th>\n",
       "      <th>3D 낸드(NAND)</th>\n",
       "      <th>2차전지(생산)</th>\n",
       "      <th>...</th>\n",
       "      <th>건설기계</th>\n",
       "      <th>조선기자재</th>\n",
       "      <th>도시가스</th>\n",
       "      <th>항공/저가 항공사(LCC)</th>\n",
       "      <th>면세점</th>\n",
       "      <th>원자력발전소 해체</th>\n",
       "      <th>LNG(액화천연가스)</th>\n",
       "      <th>정유</th>\n",
       "      <th>애플페이</th>\n",
       "      <th>조선</th>\n",
       "    </tr>\n",
       "  </thead>\n",
       "  <tbody>\n",
       "    <tr>\n",
       "      <th>0</th>\n",
       "      <td>스튜디오미르</td>\n",
       "      <td>유엔젤</td>\n",
       "      <td>유엔젤</td>\n",
       "      <td>스튜디오미르</td>\n",
       "      <td>린드먼아시아</td>\n",
       "      <td>SK아이이테크놀로지</td>\n",
       "      <td>케이씨티</td>\n",
       "      <td>비트나인</td>\n",
       "      <td>솔브레인홀딩스</td>\n",
       "      <td>LG화학</td>\n",
       "      <td>...</td>\n",
       "      <td>프리엠스</td>\n",
       "      <td>삼영엠텍</td>\n",
       "      <td>지에스이</td>\n",
       "      <td>티웨이항공</td>\n",
       "      <td>제이에스티나</td>\n",
       "      <td>휴림로봇</td>\n",
       "      <td>삼강엠앤티</td>\n",
       "      <td>SK이노베이션</td>\n",
       "      <td>나이스정보통신</td>\n",
       "      <td>HJ중공업</td>\n",
       "    </tr>\n",
       "    <tr>\n",
       "      <th>1</th>\n",
       "      <td>오브젠</td>\n",
       "      <td>인포뱅크</td>\n",
       "      <td>MDS테크</td>\n",
       "      <td>SM Life Design</td>\n",
       "      <td>플랜티넷</td>\n",
       "      <td>LG화학</td>\n",
       "      <td>로지시스</td>\n",
       "      <td>이노뎁</td>\n",
       "      <td>제우스</td>\n",
       "      <td>LG에너지솔루션</td>\n",
       "      <td>...</td>\n",
       "      <td>서연탑메탈</td>\n",
       "      <td>케이프</td>\n",
       "      <td>대성에너지</td>\n",
       "      <td>아시아나항공</td>\n",
       "      <td>신세계</td>\n",
       "      <td>에스앤더블류</td>\n",
       "      <td>POSCO홀딩스</td>\n",
       "      <td>GS</td>\n",
       "      <td>이루온</td>\n",
       "      <td>삼성중공업</td>\n",
       "    </tr>\n",
       "    <tr>\n",
       "      <th>2</th>\n",
       "      <td>한주라이트메탈</td>\n",
       "      <td>카카오</td>\n",
       "      <td>다날</td>\n",
       "      <td>SM C&amp;C</td>\n",
       "      <td>미래에셋벤처투자</td>\n",
       "      <td>SKC</td>\n",
       "      <td>케이씨에스</td>\n",
       "      <td>엔피</td>\n",
       "      <td>심텍</td>\n",
       "      <td>삼성SDI</td>\n",
       "      <td>...</td>\n",
       "      <td>흥국</td>\n",
       "      <td>케이에스피</td>\n",
       "      <td>예스코홀딩스</td>\n",
       "      <td>진에어</td>\n",
       "      <td>호텔신라</td>\n",
       "      <td>비츠로테크</td>\n",
       "      <td>지역난방공사</td>\n",
       "      <td>S-Oil</td>\n",
       "      <td>한국정보통신</td>\n",
       "      <td>현대중공업</td>\n",
       "    </tr>\n",
       "    <tr>\n",
       "      <th>3</th>\n",
       "      <td>티이엠씨</td>\n",
       "      <td>아프리카TV</td>\n",
       "      <td>키네마스터</td>\n",
       "      <td>포바이포</td>\n",
       "      <td>TS인베스트먼트</td>\n",
       "      <td>솔루스첨단소재</td>\n",
       "      <td>한네트</td>\n",
       "      <td>에스넷</td>\n",
       "      <td>유진테크</td>\n",
       "      <td>SK이노베이션</td>\n",
       "      <td>...</td>\n",
       "      <td>혜인</td>\n",
       "      <td>삼강엠앤티</td>\n",
       "      <td>삼천리</td>\n",
       "      <td>대한항공</td>\n",
       "      <td>한국정보통신</td>\n",
       "      <td>두산에너빌리티</td>\n",
       "      <td>한국전력</td>\n",
       "      <td>NaN</td>\n",
       "      <td>NICE</td>\n",
       "      <td>한국조선해양</td>\n",
       "    </tr>\n",
       "    <tr>\n",
       "      <th>4</th>\n",
       "      <td>삼기이브이</td>\n",
       "      <td>가비아</td>\n",
       "      <td>폴라리스오피스</td>\n",
       "      <td>SBS</td>\n",
       "      <td>SV인베스트먼트</td>\n",
       "      <td>엘앤에프</td>\n",
       "      <td>프리엠스</td>\n",
       "      <td>코세스</td>\n",
       "      <td>원익IPS</td>\n",
       "      <td>NaN</td>\n",
       "      <td>...</td>\n",
       "      <td>디와이파워</td>\n",
       "      <td>상상인인더스트리</td>\n",
       "      <td>서울가스</td>\n",
       "      <td>AK홀딩스</td>\n",
       "      <td>토니모리</td>\n",
       "      <td>비에이치아이</td>\n",
       "      <td>대한해운</td>\n",
       "      <td>NaN</td>\n",
       "      <td>KG이니시스</td>\n",
       "      <td>대우조선해양</td>\n",
       "    </tr>\n",
       "  </tbody>\n",
       "</table>\n",
       "<p>5 rows × 265 columns</p>\n",
       "</div>"
      ],
      "text/plain": [
       "  2023 상반기 신규상장 SNS(소셜네트워크서비스) 모바일솔루션(스마트폰)           영상콘텐츠       창투사  \\\n",
       "0        스튜디오미르            유엔젤          유엔젤          스튜디오미르    린드먼아시아   \n",
       "1           오브젠           인포뱅크        MDS테크  SM Life Design      플랜티넷   \n",
       "2       한주라이트메탈            카카오           다날          SM C&C  미래에셋벤처투자   \n",
       "3          티이엠씨         아프리카TV        키네마스터            포바이포  TS인베스트먼트   \n",
       "4         삼기이브이            가비아      폴라리스오피스             SBS  SV인베스트먼트   \n",
       "\n",
       "  K-뉴딜지수(2차전지) 화폐/금융자동화기기(디지털화폐 등) 메타버스(Metaverse) 3D 낸드(NAND)  2차전지(생산)  ...  \\\n",
       "0   SK아이이테크놀로지                케이씨티            비트나인     솔브레인홀딩스      LG화학  ...   \n",
       "1         LG화학                로지시스             이노뎁         제우스  LG에너지솔루션  ...   \n",
       "2          SKC               케이씨에스              엔피          심텍     삼성SDI  ...   \n",
       "3      솔루스첨단소재                 한네트             에스넷        유진테크   SK이노베이션  ...   \n",
       "4         엘앤에프                프리엠스             코세스       원익IPS       NaN  ...   \n",
       "\n",
       "    건설기계     조선기자재    도시가스 항공/저가 항공사(LCC)     면세점 원자력발전소 해체 LNG(액화천연가스)  \\\n",
       "0   프리엠스      삼영엠텍    지에스이          티웨이항공  제이에스티나      휴림로봇       삼강엠앤티   \n",
       "1  서연탑메탈       케이프   대성에너지         아시아나항공     신세계    에스앤더블류    POSCO홀딩스   \n",
       "2     흥국     케이에스피  예스코홀딩스            진에어    호텔신라     비츠로테크      지역난방공사   \n",
       "3     혜인     삼강엠앤티     삼천리           대한항공  한국정보통신   두산에너빌리티        한국전력   \n",
       "4  디와이파워  상상인인더스트리    서울가스          AK홀딩스    토니모리    비에이치아이        대한해운   \n",
       "\n",
       "        정유     애플페이      조선  \n",
       "0  SK이노베이션  나이스정보통신   HJ중공업  \n",
       "1       GS      이루온   삼성중공업  \n",
       "2    S-Oil   한국정보통신   현대중공업  \n",
       "3      NaN     NICE  한국조선해양  \n",
       "4      NaN   KG이니시스  대우조선해양  \n",
       "\n",
       "[5 rows x 265 columns]"
      ]
     },
     "execution_count": 9,
     "metadata": {},
     "output_type": "execute_result"
    }
   ],
   "source": [
    "import pandas as pd\n",
    "import numpy as np\n",
    "import FinanceDataReader as fdr\n",
    "\n",
    "sectors_csv = pd.read_csv('../섹터별_종목리스트.csv').drop(['Unnamed: 0'], axis = 1) # 섹터별 종목리스트\n",
    "stock = fdr.DataReader('005930', '2018') # 특정 종목 가격\n",
    "df_krx = fdr.StockListing('KRX')[['Code', 'Name']] # 한국거래소 상장종목 전체\n",
    "sectors_csv.head()"
   ]
  },
  {
   "cell_type": "markdown",
   "metadata": {
    "id": "MW0Z1FoZ_86I"
   },
   "source": [
    "# 1. 섹터 별로 수익률을 비교하는 함수 생성하기기\n",
    "- input : 섹터명\n",
    "- output : 수익률"
   ]
  },
  {
   "cell_type": "code",
   "execution_count": 10,
   "metadata": {
    "executionInfo": {
     "elapsed": 3,
     "status": "ok",
     "timestamp": 1676425478984,
     "user": {
      "displayName": "최진영",
      "userId": "04611147725648038476"
     },
     "user_tz": -540
    },
    "id": "4lyr9XNCANS1"
   },
   "outputs": [],
   "source": [
    "def get_sector_ror(sector, start_year):\n",
    "    sector_stock_list = sectors_csv[sector].dropna().values\n",
    "    sector_code_list = df_krx[df_krx['Name'].isin(sector_stock_list)]['Code'].values\n",
    "    codes = df_krx.set_index('Code').to_dict()\n",
    "    result = pd.DataFrame()\n",
    "    for code in sector_code_list:\n",
    "        stock_price = fdr.DataReader(code, start_year)[['Close']].rename(columns = {'Close':codes['Name'][code]}) # 특정 종목 가격\n",
    "        result = pd.concat([result, stock_price], axis = 1)\n",
    "    rate_of_return = result.pct_change()\n",
    "    cum_ror = (rate_of_return + 1).cumprod() - 1\n",
    "    return cum_ror"
   ]
  },
  {
   "cell_type": "code",
   "execution_count": 12,
   "metadata": {
    "id": "dnHQhQGnvtE4"
   },
   "outputs": [
    {
     "data": {
      "text/html": [
       "<div>\n",
       "<style scoped>\n",
       "    .dataframe tbody tr th:only-of-type {\n",
       "        vertical-align: middle;\n",
       "    }\n",
       "\n",
       "    .dataframe tbody tr th {\n",
       "        vertical-align: top;\n",
       "    }\n",
       "\n",
       "    .dataframe thead th {\n",
       "        text-align: right;\n",
       "    }\n",
       "</style>\n",
       "<table border=\"1\" class=\"dataframe\">\n",
       "  <thead>\n",
       "    <tr style=\"text-align: right;\">\n",
       "      <th></th>\n",
       "      <th>NICE</th>\n",
       "      <th>한국정보통신</th>\n",
       "      <th>KG이니시스</th>\n",
       "      <th>나이스정보통신</th>\n",
       "      <th>하인크코리아</th>\n",
       "      <th>이루온</th>\n",
       "      <th>셀피글로벌</th>\n",
       "    </tr>\n",
       "    <tr>\n",
       "      <th>Date</th>\n",
       "      <th></th>\n",
       "      <th></th>\n",
       "      <th></th>\n",
       "      <th></th>\n",
       "      <th></th>\n",
       "      <th></th>\n",
       "      <th></th>\n",
       "    </tr>\n",
       "  </thead>\n",
       "  <tbody>\n",
       "    <tr>\n",
       "      <th>2018-01-02</th>\n",
       "      <td>NaN</td>\n",
       "      <td>NaN</td>\n",
       "      <td>NaN</td>\n",
       "      <td>NaN</td>\n",
       "      <td>NaN</td>\n",
       "      <td>NaN</td>\n",
       "      <td>NaN</td>\n",
       "    </tr>\n",
       "    <tr>\n",
       "      <th>2018-01-03</th>\n",
       "      <td>-1.748252e-02</td>\n",
       "      <td>-0.004184</td>\n",
       "      <td>-2.989130e-02</td>\n",
       "      <td>-0.008658</td>\n",
       "      <td>NaN</td>\n",
       "      <td>-0.014818</td>\n",
       "      <td>0.010438</td>\n",
       "    </tr>\n",
       "    <tr>\n",
       "      <th>2018-01-04</th>\n",
       "      <td>-1.048951e-02</td>\n",
       "      <td>-0.037657</td>\n",
       "      <td>-8.152174e-02</td>\n",
       "      <td>-0.002165</td>\n",
       "      <td>NaN</td>\n",
       "      <td>0.039515</td>\n",
       "      <td>0.048017</td>\n",
       "    </tr>\n",
       "    <tr>\n",
       "      <th>2018-01-05</th>\n",
       "      <td>6.993007e-03</td>\n",
       "      <td>-0.050209</td>\n",
       "      <td>-7.608696e-02</td>\n",
       "      <td>0.002165</td>\n",
       "      <td>NaN</td>\n",
       "      <td>0.039515</td>\n",
       "      <td>0.096033</td>\n",
       "    </tr>\n",
       "    <tr>\n",
       "      <th>2018-01-08</th>\n",
       "      <td>-1.110223e-16</td>\n",
       "      <td>-0.083682</td>\n",
       "      <td>-1.110223e-16</td>\n",
       "      <td>-0.002165</td>\n",
       "      <td>NaN</td>\n",
       "      <td>0.044903</td>\n",
       "      <td>0.087683</td>\n",
       "    </tr>\n",
       "    <tr>\n",
       "      <th>...</th>\n",
       "      <td>...</td>\n",
       "      <td>...</td>\n",
       "      <td>...</td>\n",
       "      <td>...</td>\n",
       "      <td>...</td>\n",
       "      <td>...</td>\n",
       "      <td>...</td>\n",
       "    </tr>\n",
       "    <tr>\n",
       "      <th>2023-05-16</th>\n",
       "      <td>-1.097902e-01</td>\n",
       "      <td>-0.164854</td>\n",
       "      <td>-3.586957e-01</td>\n",
       "      <td>0.019481</td>\n",
       "      <td>1.192399</td>\n",
       "      <td>-0.054782</td>\n",
       "      <td>-0.675157</td>\n",
       "    </tr>\n",
       "    <tr>\n",
       "      <th>2023-05-17</th>\n",
       "      <td>-1.118881e-01</td>\n",
       "      <td>-0.129707</td>\n",
       "      <td>-3.521739e-01</td>\n",
       "      <td>0.028139</td>\n",
       "      <td>1.242280</td>\n",
       "      <td>-0.018859</td>\n",
       "      <td>-0.675157</td>\n",
       "    </tr>\n",
       "    <tr>\n",
       "      <th>2023-05-18</th>\n",
       "      <td>-1.153846e-01</td>\n",
       "      <td>-0.133054</td>\n",
       "      <td>-3.521739e-01</td>\n",
       "      <td>0.038961</td>\n",
       "      <td>1.323040</td>\n",
       "      <td>0.003592</td>\n",
       "      <td>-0.675157</td>\n",
       "    </tr>\n",
       "    <tr>\n",
       "      <th>2023-05-19</th>\n",
       "      <td>-1.202797e-01</td>\n",
       "      <td>-0.107950</td>\n",
       "      <td>-3.391304e-01</td>\n",
       "      <td>-0.006494</td>\n",
       "      <td>1.318290</td>\n",
       "      <td>0.019308</td>\n",
       "      <td>-0.675157</td>\n",
       "    </tr>\n",
       "    <tr>\n",
       "      <th>2023-05-22</th>\n",
       "      <td>-1.195804e-01</td>\n",
       "      <td>-0.102929</td>\n",
       "      <td>-3.385870e-01</td>\n",
       "      <td>0.002165</td>\n",
       "      <td>1.327791</td>\n",
       "      <td>0.017063</td>\n",
       "      <td>-0.675157</td>\n",
       "    </tr>\n",
       "  </tbody>\n",
       "</table>\n",
       "<p>1328 rows × 7 columns</p>\n",
       "</div>"
      ],
      "text/plain": [
       "                    NICE    한국정보통신        KG이니시스   나이스정보통신    하인크코리아  \\\n",
       "Date                                                                   \n",
       "2018-01-02           NaN       NaN           NaN       NaN       NaN   \n",
       "2018-01-03 -1.748252e-02 -0.004184 -2.989130e-02 -0.008658       NaN   \n",
       "2018-01-04 -1.048951e-02 -0.037657 -8.152174e-02 -0.002165       NaN   \n",
       "2018-01-05  6.993007e-03 -0.050209 -7.608696e-02  0.002165       NaN   \n",
       "2018-01-08 -1.110223e-16 -0.083682 -1.110223e-16 -0.002165       NaN   \n",
       "...                  ...       ...           ...       ...       ...   \n",
       "2023-05-16 -1.097902e-01 -0.164854 -3.586957e-01  0.019481  1.192399   \n",
       "2023-05-17 -1.118881e-01 -0.129707 -3.521739e-01  0.028139  1.242280   \n",
       "2023-05-18 -1.153846e-01 -0.133054 -3.521739e-01  0.038961  1.323040   \n",
       "2023-05-19 -1.202797e-01 -0.107950 -3.391304e-01 -0.006494  1.318290   \n",
       "2023-05-22 -1.195804e-01 -0.102929 -3.385870e-01  0.002165  1.327791   \n",
       "\n",
       "                 이루온     셀피글로벌  \n",
       "Date                            \n",
       "2018-01-02       NaN       NaN  \n",
       "2018-01-03 -0.014818  0.010438  \n",
       "2018-01-04  0.039515  0.048017  \n",
       "2018-01-05  0.039515  0.096033  \n",
       "2018-01-08  0.044903  0.087683  \n",
       "...              ...       ...  \n",
       "2023-05-16 -0.054782 -0.675157  \n",
       "2023-05-17 -0.018859 -0.675157  \n",
       "2023-05-18  0.003592 -0.675157  \n",
       "2023-05-19  0.019308 -0.675157  \n",
       "2023-05-22  0.017063 -0.675157  \n",
       "\n",
       "[1328 rows x 7 columns]"
      ]
     },
     "execution_count": 12,
     "metadata": {},
     "output_type": "execute_result"
    }
   ],
   "source": [
    "get_sector_ror('애플페이','2018')"
   ]
  },
  {
   "cell_type": "markdown",
   "metadata": {
    "id": "09z1PcneANrK"
   },
   "source": [
    "# 2. 섹터 내부 종목별로 수익률울 확인"
   ]
  },
  {
   "cell_type": "code",
   "execution_count": 13,
   "metadata": {
    "id": "Yl_FbItxAwi4"
   },
   "outputs": [],
   "source": [
    "sector_name = '애플페이'\n",
    "# 섹터별 종목리스트 / 특정 종목 가격 /  한국거래소 상장종목 전체"
   ]
  },
  {
   "cell_type": "code",
   "execution_count": 14,
   "metadata": {
    "colab": {
     "base_uri": "https://localhost:8080/"
    },
    "executionInfo": {
     "elapsed": 9,
     "status": "ok",
     "timestamp": 1676352115638,
     "user": {
      "displayName": "최진영",
      "userId": "04611147725648038476"
     },
     "user_tz": -540
    },
    "id": "MC92lxfxBK1C",
    "outputId": "5ad8123b-43e7-47fe-f1fc-81c8a925fd45"
   },
   "outputs": [
    {
     "data": {
      "text/plain": [
       "array(['034310', '025770', '035600', '036800', '373200', '065440',\n",
       "       '068940'], dtype=object)"
      ]
     },
     "execution_count": 14,
     "metadata": {},
     "output_type": "execute_result"
    }
   ],
   "source": [
    "sector_stock_list = sectors_csv[sector_name].dropna().values\n",
    "sector_code_list = df_krx[df_krx['Name'].isin(sector_stock_list)]['Code'].values\n",
    "sector_code_list"
   ]
  },
  {
   "cell_type": "code",
   "execution_count": 15,
   "metadata": {
    "id": "7TFsL-VqUzhp"
   },
   "outputs": [],
   "source": [
    "codes = df_krx.set_index('Code').to_dict()"
   ]
  },
  {
   "cell_type": "code",
   "execution_count": 16,
   "metadata": {
    "id": "JK5YUArXUah6"
   },
   "outputs": [],
   "source": [
    "result = pd.DataFrame()\n",
    "for code in sector_code_list:\n",
    "    stock_price = fdr.DataReader(code, '2018')[['Close']].rename(columns = {'Close':codes['Name'][code]}) # 특정 종목 가격\n",
    "    result = pd.concat([result, stock_price], axis = 1)"
   ]
  },
  {
   "cell_type": "code",
   "execution_count": 17,
   "metadata": {
    "colab": {
     "base_uri": "https://localhost:8080/",
     "height": 237
    },
    "executionInfo": {
     "elapsed": 30,
     "status": "ok",
     "timestamp": 1676352120913,
     "user": {
      "displayName": "최진영",
      "userId": "04611147725648038476"
     },
     "user_tz": -540
    },
    "id": "cIFAeJpYBot6",
    "outputId": "f41afb29-0b25-4645-8b4e-933523095bd9"
   },
   "outputs": [
    {
     "data": {
      "text/html": [
       "<div>\n",
       "<style scoped>\n",
       "    .dataframe tbody tr th:only-of-type {\n",
       "        vertical-align: middle;\n",
       "    }\n",
       "\n",
       "    .dataframe tbody tr th {\n",
       "        vertical-align: top;\n",
       "    }\n",
       "\n",
       "    .dataframe thead th {\n",
       "        text-align: right;\n",
       "    }\n",
       "</style>\n",
       "<table border=\"1\" class=\"dataframe\">\n",
       "  <thead>\n",
       "    <tr style=\"text-align: right;\">\n",
       "      <th></th>\n",
       "      <th>NICE</th>\n",
       "      <th>한국정보통신</th>\n",
       "      <th>KG이니시스</th>\n",
       "      <th>나이스정보통신</th>\n",
       "      <th>하인크코리아</th>\n",
       "      <th>이루온</th>\n",
       "      <th>셀피글로벌</th>\n",
       "    </tr>\n",
       "    <tr>\n",
       "      <th>Date</th>\n",
       "      <th></th>\n",
       "      <th></th>\n",
       "      <th></th>\n",
       "      <th></th>\n",
       "      <th></th>\n",
       "      <th></th>\n",
       "      <th></th>\n",
       "    </tr>\n",
       "  </thead>\n",
       "  <tbody>\n",
       "    <tr>\n",
       "      <th>2018-01-02</th>\n",
       "      <td>14300</td>\n",
       "      <td>11950</td>\n",
       "      <td>18400</td>\n",
       "      <td>23100</td>\n",
       "      <td>NaN</td>\n",
       "      <td>2227</td>\n",
       "      <td>2395</td>\n",
       "    </tr>\n",
       "    <tr>\n",
       "      <th>2018-01-03</th>\n",
       "      <td>14050</td>\n",
       "      <td>11900</td>\n",
       "      <td>17850</td>\n",
       "      <td>22900</td>\n",
       "      <td>NaN</td>\n",
       "      <td>2194</td>\n",
       "      <td>2420</td>\n",
       "    </tr>\n",
       "    <tr>\n",
       "      <th>2018-01-04</th>\n",
       "      <td>14150</td>\n",
       "      <td>11500</td>\n",
       "      <td>16900</td>\n",
       "      <td>23050</td>\n",
       "      <td>NaN</td>\n",
       "      <td>2315</td>\n",
       "      <td>2510</td>\n",
       "    </tr>\n",
       "    <tr>\n",
       "      <th>2018-01-05</th>\n",
       "      <td>14400</td>\n",
       "      <td>11350</td>\n",
       "      <td>17000</td>\n",
       "      <td>23150</td>\n",
       "      <td>NaN</td>\n",
       "      <td>2315</td>\n",
       "      <td>2625</td>\n",
       "    </tr>\n",
       "    <tr>\n",
       "      <th>2018-01-08</th>\n",
       "      <td>14300</td>\n",
       "      <td>10950</td>\n",
       "      <td>18400</td>\n",
       "      <td>23050</td>\n",
       "      <td>NaN</td>\n",
       "      <td>2327</td>\n",
       "      <td>2605</td>\n",
       "    </tr>\n",
       "  </tbody>\n",
       "</table>\n",
       "</div>"
      ],
      "text/plain": [
       "             NICE  한국정보통신  KG이니시스  나이스정보통신  하인크코리아   이루온  셀피글로벌\n",
       "Date                                                           \n",
       "2018-01-02  14300   11950   18400    23100     NaN  2227   2395\n",
       "2018-01-03  14050   11900   17850    22900     NaN  2194   2420\n",
       "2018-01-04  14150   11500   16900    23050     NaN  2315   2510\n",
       "2018-01-05  14400   11350   17000    23150     NaN  2315   2625\n",
       "2018-01-08  14300   10950   18400    23050     NaN  2327   2605"
      ]
     },
     "execution_count": 17,
     "metadata": {},
     "output_type": "execute_result"
    }
   ],
   "source": [
    "result.head()"
   ]
  },
  {
   "cell_type": "code",
   "execution_count": 18,
   "metadata": {
    "colab": {
     "base_uri": "https://localhost:8080/"
    },
    "executionInfo": {
     "elapsed": 27,
     "status": "ok",
     "timestamp": 1676352120913,
     "user": {
      "displayName": "최진영",
      "userId": "04611147725648038476"
     },
     "user_tz": -540
    },
    "id": "5HJ-VI58WJsx",
    "outputId": "f8dc50c8-7b92-4132-fbfb-995f99e3c661"
   },
   "outputs": [
    {
     "data": {
      "text/plain": [
       "NICE         0\n",
       "한국정보통신       0\n",
       "KG이니시스       0\n",
       "나이스정보통신      0\n",
       "하인크코리아     775\n",
       "이루온          0\n",
       "셀피글로벌        0\n",
       "dtype: int64"
      ]
     },
     "execution_count": 18,
     "metadata": {},
     "output_type": "execute_result"
    }
   ],
   "source": [
    "result.isnull().sum()"
   ]
  },
  {
   "cell_type": "code",
   "execution_count": 19,
   "metadata": {
    "colab": {
     "base_uri": "https://localhost:8080/",
     "height": 237
    },
    "executionInfo": {
     "elapsed": 26,
     "status": "ok",
     "timestamp": 1676352120914,
     "user": {
      "displayName": "최진영",
      "userId": "04611147725648038476"
     },
     "user_tz": -540
    },
    "id": "TbQRbNAxWXOi",
    "outputId": "5135fed8-455c-49fd-e06c-a93ef5c57153"
   },
   "outputs": [
    {
     "data": {
      "text/html": [
       "<div>\n",
       "<style scoped>\n",
       "    .dataframe tbody tr th:only-of-type {\n",
       "        vertical-align: middle;\n",
       "    }\n",
       "\n",
       "    .dataframe tbody tr th {\n",
       "        vertical-align: top;\n",
       "    }\n",
       "\n",
       "    .dataframe thead th {\n",
       "        text-align: right;\n",
       "    }\n",
       "</style>\n",
       "<table border=\"1\" class=\"dataframe\">\n",
       "  <thead>\n",
       "    <tr style=\"text-align: right;\">\n",
       "      <th></th>\n",
       "      <th>NICE</th>\n",
       "      <th>한국정보통신</th>\n",
       "      <th>KG이니시스</th>\n",
       "      <th>나이스정보통신</th>\n",
       "      <th>하인크코리아</th>\n",
       "      <th>이루온</th>\n",
       "      <th>셀피글로벌</th>\n",
       "    </tr>\n",
       "    <tr>\n",
       "      <th>Date</th>\n",
       "      <th></th>\n",
       "      <th></th>\n",
       "      <th></th>\n",
       "      <th></th>\n",
       "      <th></th>\n",
       "      <th></th>\n",
       "      <th></th>\n",
       "    </tr>\n",
       "  </thead>\n",
       "  <tbody>\n",
       "    <tr>\n",
       "      <th>2023-05-16</th>\n",
       "      <td>0.003943</td>\n",
       "      <td>-0.014808</td>\n",
       "      <td>-0.008403</td>\n",
       "      <td>-0.024845</td>\n",
       "      <td>-0.019129</td>\n",
       "      <td>-0.014052</td>\n",
       "      <td>0.0</td>\n",
       "    </tr>\n",
       "    <tr>\n",
       "      <th>2023-05-17</th>\n",
       "      <td>-0.002357</td>\n",
       "      <td>0.042084</td>\n",
       "      <td>0.010169</td>\n",
       "      <td>0.008493</td>\n",
       "      <td>0.022752</td>\n",
       "      <td>0.038005</td>\n",
       "      <td>0.0</td>\n",
       "    </tr>\n",
       "    <tr>\n",
       "      <th>2023-05-18</th>\n",
       "      <td>-0.003937</td>\n",
       "      <td>-0.003846</td>\n",
       "      <td>0.000000</td>\n",
       "      <td>0.010526</td>\n",
       "      <td>0.036017</td>\n",
       "      <td>0.022883</td>\n",
       "      <td>0.0</td>\n",
       "    </tr>\n",
       "    <tr>\n",
       "      <th>2023-05-19</th>\n",
       "      <td>-0.005534</td>\n",
       "      <td>0.028958</td>\n",
       "      <td>0.020134</td>\n",
       "      <td>-0.043750</td>\n",
       "      <td>-0.002045</td>\n",
       "      <td>0.015660</td>\n",
       "      <td>0.0</td>\n",
       "    </tr>\n",
       "    <tr>\n",
       "      <th>2023-05-22</th>\n",
       "      <td>0.000795</td>\n",
       "      <td>0.005629</td>\n",
       "      <td>0.000822</td>\n",
       "      <td>0.008715</td>\n",
       "      <td>0.004098</td>\n",
       "      <td>-0.002203</td>\n",
       "      <td>0.0</td>\n",
       "    </tr>\n",
       "  </tbody>\n",
       "</table>\n",
       "</div>"
      ],
      "text/plain": [
       "                NICE    한국정보통신    KG이니시스   나이스정보통신    하인크코리아       이루온  셀피글로벌\n",
       "Date                                                                         \n",
       "2023-05-16  0.003943 -0.014808 -0.008403 -0.024845 -0.019129 -0.014052    0.0\n",
       "2023-05-17 -0.002357  0.042084  0.010169  0.008493  0.022752  0.038005    0.0\n",
       "2023-05-18 -0.003937 -0.003846  0.000000  0.010526  0.036017  0.022883    0.0\n",
       "2023-05-19 -0.005534  0.028958  0.020134 -0.043750 -0.002045  0.015660    0.0\n",
       "2023-05-22  0.000795  0.005629  0.000822  0.008715  0.004098 -0.002203    0.0"
      ]
     },
     "execution_count": 19,
     "metadata": {},
     "output_type": "execute_result"
    }
   ],
   "source": [
    "rate_of_return = result.pct_change()\n",
    "rate_of_return.tail()"
   ]
  },
  {
   "cell_type": "code",
   "execution_count": 20,
   "metadata": {
    "colab": {
     "base_uri": "https://localhost:8080/",
     "height": 237
    },
    "executionInfo": {
     "elapsed": 25,
     "status": "ok",
     "timestamp": 1676352120914,
     "user": {
      "displayName": "최진영",
      "userId": "04611147725648038476"
     },
     "user_tz": -540
    },
    "id": "l5hQu5thWzQ6",
    "outputId": "64ea6cf2-3f4f-452c-c5d3-18dbd3d43a9e"
   },
   "outputs": [
    {
     "data": {
      "text/html": [
       "<div>\n",
       "<style scoped>\n",
       "    .dataframe tbody tr th:only-of-type {\n",
       "        vertical-align: middle;\n",
       "    }\n",
       "\n",
       "    .dataframe tbody tr th {\n",
       "        vertical-align: top;\n",
       "    }\n",
       "\n",
       "    .dataframe thead th {\n",
       "        text-align: right;\n",
       "    }\n",
       "</style>\n",
       "<table border=\"1\" class=\"dataframe\">\n",
       "  <thead>\n",
       "    <tr style=\"text-align: right;\">\n",
       "      <th></th>\n",
       "      <th>NICE</th>\n",
       "      <th>한국정보통신</th>\n",
       "      <th>KG이니시스</th>\n",
       "      <th>나이스정보통신</th>\n",
       "      <th>하인크코리아</th>\n",
       "      <th>이루온</th>\n",
       "      <th>셀피글로벌</th>\n",
       "    </tr>\n",
       "    <tr>\n",
       "      <th>Date</th>\n",
       "      <th></th>\n",
       "      <th></th>\n",
       "      <th></th>\n",
       "      <th></th>\n",
       "      <th></th>\n",
       "      <th></th>\n",
       "      <th></th>\n",
       "    </tr>\n",
       "  </thead>\n",
       "  <tbody>\n",
       "    <tr>\n",
       "      <th>2023-05-16</th>\n",
       "      <td>-0.109790</td>\n",
       "      <td>-0.164854</td>\n",
       "      <td>-0.358696</td>\n",
       "      <td>0.019481</td>\n",
       "      <td>1.192399</td>\n",
       "      <td>-0.054782</td>\n",
       "      <td>-0.675157</td>\n",
       "    </tr>\n",
       "    <tr>\n",
       "      <th>2023-05-17</th>\n",
       "      <td>-0.111888</td>\n",
       "      <td>-0.129707</td>\n",
       "      <td>-0.352174</td>\n",
       "      <td>0.028139</td>\n",
       "      <td>1.242280</td>\n",
       "      <td>-0.018859</td>\n",
       "      <td>-0.675157</td>\n",
       "    </tr>\n",
       "    <tr>\n",
       "      <th>2023-05-18</th>\n",
       "      <td>-0.115385</td>\n",
       "      <td>-0.133054</td>\n",
       "      <td>-0.352174</td>\n",
       "      <td>0.038961</td>\n",
       "      <td>1.323040</td>\n",
       "      <td>0.003592</td>\n",
       "      <td>-0.675157</td>\n",
       "    </tr>\n",
       "    <tr>\n",
       "      <th>2023-05-19</th>\n",
       "      <td>-0.120280</td>\n",
       "      <td>-0.107950</td>\n",
       "      <td>-0.339130</td>\n",
       "      <td>-0.006494</td>\n",
       "      <td>1.318290</td>\n",
       "      <td>0.019308</td>\n",
       "      <td>-0.675157</td>\n",
       "    </tr>\n",
       "    <tr>\n",
       "      <th>2023-05-22</th>\n",
       "      <td>-0.119580</td>\n",
       "      <td>-0.102929</td>\n",
       "      <td>-0.338587</td>\n",
       "      <td>0.002165</td>\n",
       "      <td>1.327791</td>\n",
       "      <td>0.017063</td>\n",
       "      <td>-0.675157</td>\n",
       "    </tr>\n",
       "  </tbody>\n",
       "</table>\n",
       "</div>"
      ],
      "text/plain": [
       "                NICE    한국정보통신    KG이니시스   나이스정보통신    하인크코리아       이루온  \\\n",
       "Date                                                                     \n",
       "2023-05-16 -0.109790 -0.164854 -0.358696  0.019481  1.192399 -0.054782   \n",
       "2023-05-17 -0.111888 -0.129707 -0.352174  0.028139  1.242280 -0.018859   \n",
       "2023-05-18 -0.115385 -0.133054 -0.352174  0.038961  1.323040  0.003592   \n",
       "2023-05-19 -0.120280 -0.107950 -0.339130 -0.006494  1.318290  0.019308   \n",
       "2023-05-22 -0.119580 -0.102929 -0.338587  0.002165  1.327791  0.017063   \n",
       "\n",
       "               셀피글로벌  \n",
       "Date                  \n",
       "2023-05-16 -0.675157  \n",
       "2023-05-17 -0.675157  \n",
       "2023-05-18 -0.675157  \n",
       "2023-05-19 -0.675157  \n",
       "2023-05-22 -0.675157  "
      ]
     },
     "execution_count": 20,
     "metadata": {},
     "output_type": "execute_result"
    }
   ],
   "source": [
    "cum_ror = (rate_of_return + 1).cumprod() - 1\n",
    "cum_ror.tail()"
   ]
  },
  {
   "cell_type": "code",
   "execution_count": 21,
   "metadata": {
    "colab": {
     "base_uri": "https://localhost:8080/",
     "height": 380
    },
    "executionInfo": {
     "elapsed": 1657,
     "status": "ok",
     "timestamp": 1676352174392,
     "user": {
      "displayName": "최진영",
      "userId": "04611147725648038476"
     },
     "user_tz": -540
    },
    "id": "qLUy6dcFYA2S",
    "outputId": "0bf2da4d-b0aa-4ea9-afdd-4b1982551028"
   },
   "outputs": [
    {
     "data": {
      "text/plain": [
       "<Axes: xlabel='Date'>"
      ]
     },
     "execution_count": 21,
     "metadata": {},
     "output_type": "execute_result"
    },
    {
     "data": {
      "image/png": "[encoded data removed]",
      "text/plain": [
       "<Figure size 1600x600 with 1 Axes>"
      ]
     },
     "metadata": {},
     "output_type": "display_data"
    }
   ],
   "source": [
    "cum_ror.plot(figsize = (16, 6))"
   ]
  },
  {
   "cell_type": "code",
   "execution_count": 22,
   "metadata": {
    "id": "YBbXwnfRYUjO"
   },
   "outputs": [],
   "source": [
    "# 오늘부터 5/10/../120/240 일전 부터 현재까지의 수익률"
   ]
  },
  {
   "cell_type": "code",
   "execution_count": 23,
   "metadata": {
    "colab": {
     "base_uri": "https://localhost:8080/",
     "height": 237
    },
    "executionInfo": {
     "elapsed": 355,
     "status": "ok",
     "timestamp": 1676352364642,
     "user": {
      "displayName": "최진영",
      "userId": "04611147725648038476"
     },
     "user_tz": -540
    },
    "id": "8EA58jACYm2j",
    "outputId": "555191c5-65f5-4a7d-baa9-97e3f4af91cf"
   },
   "outputs": [
    {
     "data": {
      "text/html": [
       "<div>\n",
       "<style scoped>\n",
       "    .dataframe tbody tr th:only-of-type {\n",
       "        vertical-align: middle;\n",
       "    }\n",
       "\n",
       "    .dataframe tbody tr th {\n",
       "        vertical-align: top;\n",
       "    }\n",
       "\n",
       "    .dataframe thead th {\n",
       "        text-align: right;\n",
       "    }\n",
       "</style>\n",
       "<table border=\"1\" class=\"dataframe\">\n",
       "  <thead>\n",
       "    <tr style=\"text-align: right;\">\n",
       "      <th></th>\n",
       "      <th>NICE</th>\n",
       "      <th>한국정보통신</th>\n",
       "      <th>KG이니시스</th>\n",
       "      <th>나이스정보통신</th>\n",
       "      <th>하인크코리아</th>\n",
       "      <th>이루온</th>\n",
       "      <th>셀피글로벌</th>\n",
       "    </tr>\n",
       "    <tr>\n",
       "      <th>Date</th>\n",
       "      <th></th>\n",
       "      <th></th>\n",
       "      <th></th>\n",
       "      <th></th>\n",
       "      <th></th>\n",
       "      <th></th>\n",
       "      <th></th>\n",
       "    </tr>\n",
       "  </thead>\n",
       "  <tbody>\n",
       "    <tr>\n",
       "      <th>2023-05-16</th>\n",
       "      <td>0.003943</td>\n",
       "      <td>-0.014808</td>\n",
       "      <td>-0.008403</td>\n",
       "      <td>-0.024845</td>\n",
       "      <td>-0.019129</td>\n",
       "      <td>-0.014052</td>\n",
       "      <td>0.0</td>\n",
       "    </tr>\n",
       "    <tr>\n",
       "      <th>2023-05-17</th>\n",
       "      <td>-0.002357</td>\n",
       "      <td>0.042084</td>\n",
       "      <td>0.010169</td>\n",
       "      <td>0.008493</td>\n",
       "      <td>0.022752</td>\n",
       "      <td>0.038005</td>\n",
       "      <td>0.0</td>\n",
       "    </tr>\n",
       "    <tr>\n",
       "      <th>2023-05-18</th>\n",
       "      <td>-0.003937</td>\n",
       "      <td>-0.003846</td>\n",
       "      <td>0.000000</td>\n",
       "      <td>0.010526</td>\n",
       "      <td>0.036017</td>\n",
       "      <td>0.022883</td>\n",
       "      <td>0.0</td>\n",
       "    </tr>\n",
       "    <tr>\n",
       "      <th>2023-05-19</th>\n",
       "      <td>-0.005534</td>\n",
       "      <td>0.028958</td>\n",
       "      <td>0.020134</td>\n",
       "      <td>-0.043750</td>\n",
       "      <td>-0.002045</td>\n",
       "      <td>0.015660</td>\n",
       "      <td>0.0</td>\n",
       "    </tr>\n",
       "    <tr>\n",
       "      <th>2023-05-22</th>\n",
       "      <td>0.000795</td>\n",
       "      <td>0.005629</td>\n",
       "      <td>0.000822</td>\n",
       "      <td>0.008715</td>\n",
       "      <td>0.004098</td>\n",
       "      <td>-0.002203</td>\n",
       "      <td>0.0</td>\n",
       "    </tr>\n",
       "  </tbody>\n",
       "</table>\n",
       "</div>"
      ],
      "text/plain": [
       "                NICE    한국정보통신    KG이니시스   나이스정보통신    하인크코리아       이루온  셀피글로벌\n",
       "Date                                                                         \n",
       "2023-05-16  0.003943 -0.014808 -0.008403 -0.024845 -0.019129 -0.014052    0.0\n",
       "2023-05-17 -0.002357  0.042084  0.010169  0.008493  0.022752  0.038005    0.0\n",
       "2023-05-18 -0.003937 -0.003846  0.000000  0.010526  0.036017  0.022883    0.0\n",
       "2023-05-19 -0.005534  0.028958  0.020134 -0.043750 -0.002045  0.015660    0.0\n",
       "2023-05-22  0.000795  0.005629  0.000822  0.008715  0.004098 -0.002203    0.0"
      ]
     },
     "execution_count": 23,
     "metadata": {},
     "output_type": "execute_result"
    }
   ],
   "source": [
    "rate_of_return.tail()"
   ]
  },
  {
   "cell_type": "code",
   "execution_count": 24,
   "metadata": {
    "colab": {
     "base_uri": "https://localhost:8080/"
    },
    "executionInfo": {
     "elapsed": 9,
     "status": "ok",
     "timestamp": 1676424654593,
     "user": {
      "displayName": "최진영",
      "userId": "04611147725648038476"
     },
     "user_tz": -540
    },
    "id": "mljkyBXCYzuH",
    "outputId": "1538c1ae-3f95-4c8e-b65d-d6780bc354be"
   },
   "outputs": [
    {
     "data": {
      "text/plain": [
       "datetime.datetime(2023, 2, 14, 0, 0)"
      ]
     },
     "execution_count": 24,
     "metadata": {},
     "output_type": "execute_result"
    }
   ],
   "source": [
    "from datetime import datetime, timedelta\n",
    "\n",
    "ref_day = datetime(2023, 2, 14)\n",
    "ref_day"
   ]
  },
  {
   "cell_type": "code",
   "execution_count": 25,
   "metadata": {
    "colab": {
     "base_uri": "https://localhost:8080/",
     "height": 269
    },
    "executionInfo": {
     "elapsed": 322,
     "status": "ok",
     "timestamp": 1676353337923,
     "user": {
      "displayName": "최진영",
      "userId": "04611147725648038476"
     },
     "user_tz": -540
    },
    "id": "bB5LHANQZbjm",
    "outputId": "59b47761-2d56-40fd-c08a-d7e8ae287d23"
   },
   "outputs": [
    {
     "data": {
      "text/html": [
       "<div>\n",
       "<style scoped>\n",
       "    .dataframe tbody tr th:only-of-type {\n",
       "        vertical-align: middle;\n",
       "    }\n",
       "\n",
       "    .dataframe tbody tr th {\n",
       "        vertical-align: top;\n",
       "    }\n",
       "\n",
       "    .dataframe thead th {\n",
       "        text-align: right;\n",
       "    }\n",
       "</style>\n",
       "<table border=\"1\" class=\"dataframe\">\n",
       "  <thead>\n",
       "    <tr style=\"text-align: right;\">\n",
       "      <th></th>\n",
       "      <th>5</th>\n",
       "      <th>10</th>\n",
       "      <th>20</th>\n",
       "      <th>60</th>\n",
       "      <th>120</th>\n",
       "      <th>240</th>\n",
       "    </tr>\n",
       "  </thead>\n",
       "  <tbody>\n",
       "    <tr>\n",
       "      <th>NICE</th>\n",
       "      <td>-0.025694</td>\n",
       "      <td>-0.014055</td>\n",
       "      <td>0.050936</td>\n",
       "      <td>0.031618</td>\n",
       "      <td>0.145306</td>\n",
       "      <td>0.016667</td>\n",
       "    </tr>\n",
       "    <tr>\n",
       "      <th>한국정보통신</th>\n",
       "      <td>-0.110641</td>\n",
       "      <td>-0.067216</td>\n",
       "      <td>0.215702</td>\n",
       "      <td>0.210700</td>\n",
       "      <td>0.101873</td>\n",
       "      <td>0.915365</td>\n",
       "    </tr>\n",
       "    <tr>\n",
       "      <th>KG이니시스</th>\n",
       "      <td>-0.042630</td>\n",
       "      <td>-0.030015</td>\n",
       "      <td>0.047431</td>\n",
       "      <td>0.015326</td>\n",
       "      <td>0.132479</td>\n",
       "      <td>-0.039855</td>\n",
       "    </tr>\n",
       "    <tr>\n",
       "      <th>나이스정보통신</th>\n",
       "      <td>0.007117</td>\n",
       "      <td>0.019820</td>\n",
       "      <td>0.088462</td>\n",
       "      <td>0.050093</td>\n",
       "      <td>0.061914</td>\n",
       "      <td>0.107632</td>\n",
       "    </tr>\n",
       "    <tr>\n",
       "      <th>하인크코리아</th>\n",
       "      <td>-0.121693</td>\n",
       "      <td>0.286822</td>\n",
       "      <td>0.534196</td>\n",
       "      <td>0.255673</td>\n",
       "      <td>0.534196</td>\n",
       "      <td>-0.231481</td>\n",
       "    </tr>\n",
       "    <tr>\n",
       "      <th>이루온</th>\n",
       "      <td>-0.088748</td>\n",
       "      <td>-0.031987</td>\n",
       "      <td>0.118677</td>\n",
       "      <td>0.056985</td>\n",
       "      <td>0.150000</td>\n",
       "      <td>0.076779</td>\n",
       "    </tr>\n",
       "    <tr>\n",
       "      <th>셀피글로벌</th>\n",
       "      <td>-0.055286</td>\n",
       "      <td>-0.012698</td>\n",
       "      <td>0.178030</td>\n",
       "      <td>-0.085294</td>\n",
       "      <td>-0.233990</td>\n",
       "      <td>-0.610763</td>\n",
       "    </tr>\n",
       "  </tbody>\n",
       "</table>\n",
       "</div>"
      ],
      "text/plain": [
       "              5         10        20        60        120       240\n",
       "NICE    -0.025694 -0.014055  0.050936  0.031618  0.145306  0.016667\n",
       "한국정보통신  -0.110641 -0.067216  0.215702  0.210700  0.101873  0.915365\n",
       "KG이니시스  -0.042630 -0.030015  0.047431  0.015326  0.132479 -0.039855\n",
       "나이스정보통신  0.007117  0.019820  0.088462  0.050093  0.061914  0.107632\n",
       "하인크코리아  -0.121693  0.286822  0.534196  0.255673  0.534196 -0.231481\n",
       "이루온     -0.088748 -0.031987  0.118677  0.056985  0.150000  0.076779\n",
       "셀피글로벌   -0.055286 -0.012698  0.178030 -0.085294 -0.233990 -0.610763"
      ]
     },
     "execution_count": 25,
     "metadata": {},
     "output_type": "execute_result"
    }
   ],
   "source": [
    "# 5일전, 10일...\n",
    "timedeltas = [5, 10, 20, 60, 120, 240]\n",
    "result = pd.DataFrame()\n",
    "for day in timedeltas:\n",
    "    start_day = ref_day - timedelta(day)\n",
    "    end_day = ref_day\n",
    "    subset_ror = rate_of_return[start_day:end_day]\n",
    "    cum_ror_df = (subset_ror + 1).cumprod() - 1\n",
    "    cum_ror = cum_ror_df.iloc[-1]\n",
    "    cum_ror.name = day\n",
    "    result = pd.concat([result, cum_ror], axis = 1)\n",
    "result"
   ]
  },
  {
   "cell_type": "code",
   "execution_count": 26,
   "metadata": {
    "colab": {
     "base_uri": "https://localhost:8080/",
     "height": 391
    },
    "executionInfo": {
     "elapsed": 1056,
     "status": "ok",
     "timestamp": 1676353405461,
     "user": {
      "displayName": "최진영",
      "userId": "04611147725648038476"
     },
     "user_tz": -540
    },
    "id": "xDYyhQI2cs9z",
    "outputId": "465358cc-1bcd-4f15-ca12-8056c6ea000e"
   },
   "outputs": [
    {
     "data": {
      "text/plain": [
       "<Axes: >"
      ]
     },
     "execution_count": 26,
     "metadata": {},
     "output_type": "execute_result"
    },
    {
     "data": {
      "image/png": "[encoded data removed]",
      "text/plain": [
       "<Figure size 1600x600 with 1 Axes>"
      ]
     },
     "metadata": {},
     "output_type": "display_data"
    }
   ],
   "source": [
    "result.plot(figsize = (16, 6))"
   ]
  },
  {
   "cell_type": "code",
   "execution_count": 27,
   "metadata": {
    "colab": {
     "base_uri": "https://localhost:8080/",
     "height": 206
    },
    "executionInfo": {
     "elapsed": 5,
     "status": "ok",
     "timestamp": 1676353749864,
     "user": {
      "displayName": "최진영",
      "userId": "04611147725648038476"
     },
     "user_tz": -540
    },
    "id": "xd5qAKiKc2dY",
    "outputId": "98a35e20-013e-4774-8c38-664adc2e8876"
   },
   "outputs": [
    {
     "data": {
      "text/html": [
       "<div>\n",
       "<style scoped>\n",
       "    .dataframe tbody tr th:only-of-type {\n",
       "        vertical-align: middle;\n",
       "    }\n",
       "\n",
       "    .dataframe tbody tr th {\n",
       "        vertical-align: top;\n",
       "    }\n",
       "\n",
       "    .dataframe thead th {\n",
       "        text-align: right;\n",
       "    }\n",
       "</style>\n",
       "<table border=\"1\" class=\"dataframe\">\n",
       "  <thead>\n",
       "    <tr style=\"text-align: right;\">\n",
       "      <th></th>\n",
       "      <th>index</th>\n",
       "      <th>variable</th>\n",
       "      <th>value</th>\n",
       "    </tr>\n",
       "  </thead>\n",
       "  <tbody>\n",
       "    <tr>\n",
       "      <th>0</th>\n",
       "      <td>NICE</td>\n",
       "      <td>5</td>\n",
       "      <td>-0.025694</td>\n",
       "    </tr>\n",
       "    <tr>\n",
       "      <th>1</th>\n",
       "      <td>한국정보통신</td>\n",
       "      <td>5</td>\n",
       "      <td>-0.110641</td>\n",
       "    </tr>\n",
       "    <tr>\n",
       "      <th>2</th>\n",
       "      <td>KG이니시스</td>\n",
       "      <td>5</td>\n",
       "      <td>-0.042630</td>\n",
       "    </tr>\n",
       "    <tr>\n",
       "      <th>3</th>\n",
       "      <td>나이스정보통신</td>\n",
       "      <td>5</td>\n",
       "      <td>0.007117</td>\n",
       "    </tr>\n",
       "    <tr>\n",
       "      <th>4</th>\n",
       "      <td>하인크코리아</td>\n",
       "      <td>5</td>\n",
       "      <td>-0.121693</td>\n",
       "    </tr>\n",
       "  </tbody>\n",
       "</table>\n",
       "</div>"
      ],
      "text/plain": [
       "     index variable     value\n",
       "0     NICE        5 -0.025694\n",
       "1   한국정보통신        5 -0.110641\n",
       "2   KG이니시스        5 -0.042630\n",
       "3  나이스정보통신        5  0.007117\n",
       "4   하인크코리아        5 -0.121693"
      ]
     },
     "execution_count": 27,
     "metadata": {},
     "output_type": "execute_result"
    }
   ],
   "source": [
    "melt_result = result.reset_index().melt(id_vars = ['index'])\n",
    "melt_result.head()"
   ]
  },
  {
   "cell_type": "code",
   "execution_count": 28,
   "metadata": {
    "id": "QqlpTqgxd1SZ"
   },
   "outputs": [],
   "source": [
    "# melt_result['variable'] = melt_result['variable'].astype(int)"
   ]
  },
  {
   "cell_type": "code",
   "execution_count": 29,
   "metadata": {
    "colab": {
     "base_uri": "https://localhost:8080/"
    },
    "executionInfo": {
     "elapsed": 1141,
     "status": "ok",
     "timestamp": 1676353715916,
     "user": {
      "displayName": "최진영",
      "userId": "04611147725648038476"
     },
     "user_tz": -540
    },
    "id": "uvRexQA5dcZl",
    "outputId": "a60dc63e-104a-4def-c90f-f86785ef17a1"
   },
   "outputs": [
    {
     "name": "stdout",
     "output_type": "stream",
     "text": [
      "<class 'pandas.core.frame.DataFrame'>\n",
      "RangeIndex: 42 entries, 0 to 41\n",
      "Data columns (total 3 columns):\n",
      " #   Column    Non-Null Count  Dtype  \n",
      "---  ------    --------------  -----  \n",
      " 0   index     42 non-null     object \n",
      " 1   variable  42 non-null     object \n",
      " 2   value     42 non-null     float64\n",
      "dtypes: float64(1), object(2)\n",
      "memory usage: 1.1+ KB\n"
     ]
    }
   ],
   "source": [
    "melt_result.info()"
   ]
  },
  {
   "cell_type": "code",
   "execution_count": 30,
   "metadata": {
    "colab": {
     "base_uri": "https://localhost:8080/",
     "height": 378
    },
    "executionInfo": {
     "elapsed": 683,
     "status": "ok",
     "timestamp": 1676353783874,
     "user": {
      "displayName": "최진영",
      "userId": "04611147725648038476"
     },
     "user_tz": -540
    },
    "id": "2oIBc8pZcy9x",
    "outputId": "d6eba705-d633-4c97-cc8e-104da01c851f"
   },
   "outputs": [
    {
     "data": {
      "text/plain": [
       "<Axes: xlabel='index', ylabel='value'>"
      ]
     },
     "execution_count": 30,
     "metadata": {},
     "output_type": "execute_result"
    },
    {
     "data": {
      "image/png": "[encoded data removed]",
      "text/plain": [
       "<Figure size 1600x600 with 2 Axes>"
      ]
     },
     "metadata": {},
     "output_type": "display_data"
    }
   ],
   "source": [
    "import seaborn as sns\n",
    "melt_result.plot.scatter(x = 'index', y = 'value', c= 'variable', figsize = (16, 6))"
   ]
  },
  {
   "cell_type": "code",
   "execution_count": 31,
   "metadata": {
    "colab": {
     "base_uri": "https://localhost:8080/",
     "height": 269
    },
    "executionInfo": {
     "elapsed": 1323,
     "status": "ok",
     "timestamp": 1676353912207,
     "user": {
      "displayName": "최진영",
      "userId": "04611147725648038476"
     },
     "user_tz": -540
    },
    "id": "05EKWaf8epfV",
    "outputId": "86633e1c-0c40-4a00-ecb0-fd0bd6434710"
   },
   "outputs": [
    {
     "data": {
      "text/html": [
       "<style type=\"text/css\">\n",
       "#T_b04b2_row0_col0 {\n",
       "  background-color: #f59c7d;\n",
       "  color: #000000;\n",
       "}\n",
       "#T_b04b2_row0_col1 {\n",
       "  background-color: #6a8bef;\n",
       "  color: #f1f1f1;\n",
       "}\n",
       "#T_b04b2_row0_col2 {\n",
       "  background-color: #3c4ec2;\n",
       "  color: #f1f1f1;\n",
       "}\n",
       "#T_b04b2_row0_col3 {\n",
       "  background-color: #adc9fd;\n",
       "  color: #000000;\n",
       "}\n",
       "#T_b04b2_row0_col4 {\n",
       "  background-color: #dbdcde;\n",
       "  color: #000000;\n",
       "}\n",
       "#T_b04b2_row0_col5 {\n",
       "  background-color: #c4d5f3;\n",
       "  color: #000000;\n",
       "}\n",
       "#T_b04b2_row1_col0, #T_b04b2_row3_col2 {\n",
       "  background-color: #5470de;\n",
       "  color: #f1f1f1;\n",
       "}\n",
       "#T_b04b2_row1_col1, #T_b04b2_row2_col2, #T_b04b2_row4_col0, #T_b04b2_row6_col3, #T_b04b2_row6_col4, #T_b04b2_row6_col5 {\n",
       "  background-color: #3b4cc0;\n",
       "  color: #f1f1f1;\n",
       "}\n",
       "#T_b04b2_row1_col2 {\n",
       "  background-color: #aec9fc;\n",
       "  color: #000000;\n",
       "}\n",
       "#T_b04b2_row1_col3 {\n",
       "  background-color: #df634e;\n",
       "  color: #f1f1f1;\n",
       "}\n",
       "#T_b04b2_row1_col4 {\n",
       "  background-color: #cbd8ee;\n",
       "  color: #000000;\n",
       "}\n",
       "#T_b04b2_row1_col5, #T_b04b2_row3_col0, #T_b04b2_row4_col1, #T_b04b2_row4_col2, #T_b04b2_row4_col3, #T_b04b2_row4_col4 {\n",
       "  background-color: #b40426;\n",
       "  color: #f1f1f1;\n",
       "}\n",
       "#T_b04b2_row2_col0 {\n",
       "  background-color: #f3c7b1;\n",
       "  color: #000000;\n",
       "}\n",
       "#T_b04b2_row2_col1 {\n",
       "  background-color: #5a78e4;\n",
       "  color: #f1f1f1;\n",
       "}\n",
       "#T_b04b2_row2_col3 {\n",
       "  background-color: #9dbdff;\n",
       "  color: #000000;\n",
       "}\n",
       "#T_b04b2_row2_col4 {\n",
       "  background-color: #d7dce3;\n",
       "  color: #000000;\n",
       "}\n",
       "#T_b04b2_row2_col5 {\n",
       "  background-color: #b7cff9;\n",
       "  color: #000000;\n",
       "}\n",
       "#T_b04b2_row3_col1 {\n",
       "  background-color: #8badfd;\n",
       "  color: #000000;\n",
       "}\n",
       "#T_b04b2_row3_col3 {\n",
       "  background-color: #bfd3f6;\n",
       "  color: #000000;\n",
       "}\n",
       "#T_b04b2_row3_col4 {\n",
       "  background-color: #bbd1f8;\n",
       "  color: #000000;\n",
       "}\n",
       "#T_b04b2_row3_col5 {\n",
       "  background-color: #d5dbe5;\n",
       "  color: #000000;\n",
       "}\n",
       "#T_b04b2_row4_col5 {\n",
       "  background-color: #8caffe;\n",
       "  color: #000000;\n",
       "}\n",
       "#T_b04b2_row5_col0 {\n",
       "  background-color: #8fb1fe;\n",
       "  color: #000000;\n",
       "}\n",
       "#T_b04b2_row5_col1 {\n",
       "  background-color: #5977e3;\n",
       "  color: #f1f1f1;\n",
       "}\n",
       "#T_b04b2_row5_col2 {\n",
       "  background-color: #688aef;\n",
       "  color: #f1f1f1;\n",
       "}\n",
       "#T_b04b2_row5_col3 {\n",
       "  background-color: #c5d6f2;\n",
       "  color: #000000;\n",
       "}\n",
       "#T_b04b2_row5_col4 {\n",
       "  background-color: #dcdddd;\n",
       "  color: #000000;\n",
       "}\n",
       "#T_b04b2_row5_col5 {\n",
       "  background-color: #cfdaea;\n",
       "  color: #000000;\n",
       "}\n",
       "#T_b04b2_row6_col0 {\n",
       "  background-color: #e0dbd8;\n",
       "  color: #000000;\n",
       "}\n",
       "#T_b04b2_row6_col1 {\n",
       "  background-color: #6b8df0;\n",
       "  color: #f1f1f1;\n",
       "}\n",
       "#T_b04b2_row6_col2 {\n",
       "  background-color: #93b5fe;\n",
       "  color: #000000;\n",
       "}\n",
       "</style>\n",
       "<table id=\"T_b04b2\">\n",
       "  <thead>\n",
       "    <tr>\n",
       "      <th class=\"blank level0\" >&nbsp;</th>\n",
       "      <th id=\"T_b04b2_level0_col0\" class=\"col_heading level0 col0\" >5</th>\n",
       "      <th id=\"T_b04b2_level0_col1\" class=\"col_heading level0 col1\" >10</th>\n",
       "      <th id=\"T_b04b2_level0_col2\" class=\"col_heading level0 col2\" >20</th>\n",
       "      <th id=\"T_b04b2_level0_col3\" class=\"col_heading level0 col3\" >60</th>\n",
       "      <th id=\"T_b04b2_level0_col4\" class=\"col_heading level0 col4\" >120</th>\n",
       "      <th id=\"T_b04b2_level0_col5\" class=\"col_heading level0 col5\" >240</th>\n",
       "    </tr>\n",
       "  </thead>\n",
       "  <tbody>\n",
       "    <tr>\n",
       "      <th id=\"T_b04b2_level0_row0\" class=\"row_heading level0 row0\" >NICE</th>\n",
       "      <td id=\"T_b04b2_row0_col0\" class=\"data row0 col0\" >-0.025694</td>\n",
       "      <td id=\"T_b04b2_row0_col1\" class=\"data row0 col1\" >-0.014055</td>\n",
       "      <td id=\"T_b04b2_row0_col2\" class=\"data row0 col2\" >0.050936</td>\n",
       "      <td id=\"T_b04b2_row0_col3\" class=\"data row0 col3\" >0.031618</td>\n",
       "      <td id=\"T_b04b2_row0_col4\" class=\"data row0 col4\" >0.145306</td>\n",
       "      <td id=\"T_b04b2_row0_col5\" class=\"data row0 col5\" >0.016667</td>\n",
       "    </tr>\n",
       "    <tr>\n",
       "      <th id=\"T_b04b2_level0_row1\" class=\"row_heading level0 row1\" >한국정보통신</th>\n",
       "      <td id=\"T_b04b2_row1_col0\" class=\"data row1 col0\" >-0.110641</td>\n",
       "      <td id=\"T_b04b2_row1_col1\" class=\"data row1 col1\" >-0.067216</td>\n",
       "      <td id=\"T_b04b2_row1_col2\" class=\"data row1 col2\" >0.215702</td>\n",
       "      <td id=\"T_b04b2_row1_col3\" class=\"data row1 col3\" >0.210700</td>\n",
       "      <td id=\"T_b04b2_row1_col4\" class=\"data row1 col4\" >0.101873</td>\n",
       "      <td id=\"T_b04b2_row1_col5\" class=\"data row1 col5\" >0.915365</td>\n",
       "    </tr>\n",
       "    <tr>\n",
       "      <th id=\"T_b04b2_level0_row2\" class=\"row_heading level0 row2\" >KG이니시스</th>\n",
       "      <td id=\"T_b04b2_row2_col0\" class=\"data row2 col0\" >-0.042630</td>\n",
       "      <td id=\"T_b04b2_row2_col1\" class=\"data row2 col1\" >-0.030015</td>\n",
       "      <td id=\"T_b04b2_row2_col2\" class=\"data row2 col2\" >0.047431</td>\n",
       "      <td id=\"T_b04b2_row2_col3\" class=\"data row2 col3\" >0.015326</td>\n",
       "      <td id=\"T_b04b2_row2_col4\" class=\"data row2 col4\" >0.132479</td>\n",
       "      <td id=\"T_b04b2_row2_col5\" class=\"data row2 col5\" >-0.039855</td>\n",
       "    </tr>\n",
       "    <tr>\n",
       "      <th id=\"T_b04b2_level0_row3\" class=\"row_heading level0 row3\" >나이스정보통신</th>\n",
       "      <td id=\"T_b04b2_row3_col0\" class=\"data row3 col0\" >0.007117</td>\n",
       "      <td id=\"T_b04b2_row3_col1\" class=\"data row3 col1\" >0.019820</td>\n",
       "      <td id=\"T_b04b2_row3_col2\" class=\"data row3 col2\" >0.088462</td>\n",
       "      <td id=\"T_b04b2_row3_col3\" class=\"data row3 col3\" >0.050093</td>\n",
       "      <td id=\"T_b04b2_row3_col4\" class=\"data row3 col4\" >0.061914</td>\n",
       "      <td id=\"T_b04b2_row3_col5\" class=\"data row3 col5\" >0.107632</td>\n",
       "    </tr>\n",
       "    <tr>\n",
       "      <th id=\"T_b04b2_level0_row4\" class=\"row_heading level0 row4\" >하인크코리아</th>\n",
       "      <td id=\"T_b04b2_row4_col0\" class=\"data row4 col0\" >-0.121693</td>\n",
       "      <td id=\"T_b04b2_row4_col1\" class=\"data row4 col1\" >0.286822</td>\n",
       "      <td id=\"T_b04b2_row4_col2\" class=\"data row4 col2\" >0.534196</td>\n",
       "      <td id=\"T_b04b2_row4_col3\" class=\"data row4 col3\" >0.255673</td>\n",
       "      <td id=\"T_b04b2_row4_col4\" class=\"data row4 col4\" >0.534196</td>\n",
       "      <td id=\"T_b04b2_row4_col5\" class=\"data row4 col5\" >-0.231481</td>\n",
       "    </tr>\n",
       "    <tr>\n",
       "      <th id=\"T_b04b2_level0_row5\" class=\"row_heading level0 row5\" >이루온</th>\n",
       "      <td id=\"T_b04b2_row5_col0\" class=\"data row5 col0\" >-0.088748</td>\n",
       "      <td id=\"T_b04b2_row5_col1\" class=\"data row5 col1\" >-0.031987</td>\n",
       "      <td id=\"T_b04b2_row5_col2\" class=\"data row5 col2\" >0.118677</td>\n",
       "      <td id=\"T_b04b2_row5_col3\" class=\"data row5 col3\" >0.056985</td>\n",
       "      <td id=\"T_b04b2_row5_col4\" class=\"data row5 col4\" >0.150000</td>\n",
       "      <td id=\"T_b04b2_row5_col5\" class=\"data row5 col5\" >0.076779</td>\n",
       "    </tr>\n",
       "    <tr>\n",
       "      <th id=\"T_b04b2_level0_row6\" class=\"row_heading level0 row6\" >셀피글로벌</th>\n",
       "      <td id=\"T_b04b2_row6_col0\" class=\"data row6 col0\" >-0.055286</td>\n",
       "      <td id=\"T_b04b2_row6_col1\" class=\"data row6 col1\" >-0.012698</td>\n",
       "      <td id=\"T_b04b2_row6_col2\" class=\"data row6 col2\" >0.178030</td>\n",
       "      <td id=\"T_b04b2_row6_col3\" class=\"data row6 col3\" >-0.085294</td>\n",
       "      <td id=\"T_b04b2_row6_col4\" class=\"data row6 col4\" >-0.233990</td>\n",
       "      <td id=\"T_b04b2_row6_col5\" class=\"data row6 col5\" >-0.610763</td>\n",
       "    </tr>\n",
       "  </tbody>\n",
       "</table>\n"
      ],
      "text/plain": [
       "<pandas.io.formats.style.Styler at 0x15757caf0>"
      ]
     },
     "execution_count": 31,
     "metadata": {},
     "output_type": "execute_result"
    }
   ],
   "source": [
    "result.style.background_gradient(cmap='coolwarm') # Blues"
   ]
  },
  {
   "cell_type": "code",
   "execution_count": 32,
   "metadata": {
    "colab": {
     "base_uri": "https://localhost:8080/"
    },
    "executionInfo": {
     "elapsed": 365,
     "status": "ok",
     "timestamp": 1676353957570,
     "user": {
      "displayName": "최진영",
      "userId": "04611147725648038476"
     },
     "user_tz": -540
    },
    "id": "DblYu1CWe0sZ",
    "outputId": "65070b39-95b7-4a15-f4a3-5c63f1e38ff1"
   },
   "outputs": [
    {
     "data": {
      "text/plain": [
       "5     -0.062511\n",
       "10     0.021524\n",
       "20     0.176205\n",
       "60     0.076443\n",
       "120    0.127397\n",
       "240    0.033477\n",
       "dtype: float64"
      ]
     },
     "execution_count": 32,
     "metadata": {},
     "output_type": "execute_result"
    }
   ],
   "source": [
    "result.mean() # 해당 기간 수익률"
   ]
  },
  {
   "cell_type": "code",
   "execution_count": 33,
   "metadata": {
    "colab": {
     "base_uri": "https://localhost:8080/"
    },
    "executionInfo": {
     "elapsed": 380,
     "status": "ok",
     "timestamp": 1676353968272,
     "user": {
      "displayName": "최진영",
      "userId": "04611147725648038476"
     },
     "user_tz": -540
    },
    "id": "rLqtBmLEe3oG",
    "outputId": "3cf6c2af-094b-482e-d88e-ad476abc4b01"
   },
   "outputs": [
    {
     "data": {
      "text/plain": [
       "NICE       0.034130\n",
       "한국정보통신     0.210964\n",
       "KG이니시스     0.013789\n",
       "나이스정보통신    0.055840\n",
       "하인크코리아     0.209619\n",
       "이루온        0.046951\n",
       "셀피글로벌     -0.136667\n",
       "dtype: float64"
      ]
     },
     "execution_count": 33,
     "metadata": {},
     "output_type": "execute_result"
    }
   ],
   "source": [
    "result.mean(axis = 1) # 종목의 평균 수익률"
   ]
  }
 ],
 "metadata": {
  "colab": {
   "authorship_tag": "ABX9TyP8e1hvMRMlSVw1stljFOUu",
   "provenance": []
  },
  "kernelspec": {
   "display_name": "Python 3 (ipykernel)",
   "language": "python",
   "name": "python3"
  },
  "language_info": {
   "codemirror_mode": {
    "name": "ipython",
    "version": 3
   },
   "file_extension": ".py",
   "mimetype": "text/x-python",
   "name": "python",
   "nbconvert_exporter": "python",
   "pygments_lexer": "ipython3",
   "version": "3.8.16"
  }
 },
 "nbformat": 4,
 "nbformat_minor": 1
}
