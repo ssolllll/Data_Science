{
 "cells": [
  {
   "cell_type": "markdown",
   "metadata": {
    "colab_type": "text",
    "id": "9G90gssa6Htj"
   },
   "source": [
    "<font color=\"#CC3D3D\"><p>\n",
    "# Feature Engineering"
   ]
  },
  {
   "cell_type": "markdown",
   "metadata": {},
   "source": [
    "Coming up with features is difficult, time-consuming, requires expert knowledge. \"Applied machine learning\" is basically feature engineering.    \n",
    "*- Andrew Ng, Machine Learning and AI via brain simulations -*\n",
    "<img align=\"left\" src=\"http://drive.google.com/uc?export=view&id=1DxffnM22lRGsrf1wI28QLgd6YG9yOa3n\" width=800 height=600>"
   ]
  },
  {
   "cell_type": "markdown",
   "metadata": {},
   "source": [
    "<font color=\"darkgreen\"><p>   \n",
    "#### Scikit-Learn Preprocessor Interface      \n",
    "① Import the preprocessor   \n",
    "② Instantiate the preprocessor   \n",
    "③ Fit the data to the preprocessor: .fit()   \n",
    "④ Generate the preprocessed data: .transform()   "
   ]
  },
  {
   "cell_type": "markdown",
   "metadata": {},
   "source": [
    "* [Handling Missing Values](#1.-Handling-Missing-Values)\n",
    "* [Handling Categorical Variables](#2.-Handling-Categorical-Variables)\n",
    "* [Feature Scaling](#3.-Feature-Scaling)\n",
    "* [Feature Selection](#4.-Feature-Selection)\n",
    "* [Feature Generation](#5.-Feature-Generation)"
   ]
  },
  {
   "cell_type": "code",
   "execution_count": 6,
   "metadata": {
    "colab": {
     "autoexec": {
      "startup": false,
      "wait_interval": 0
     }
    },
    "colab_type": "code",
    "id": "--DI-teF6Htl"
   },
   "outputs": [],
   "source": [
    "import pandas as pd\n",
    "import numpy as np\n",
    "import matplotlib.pyplot as plt\n",
    "%matplotlib inline\n",
    "\n",
    "pd.set_option(\"display.max_columns\", 30)"
   ]
  },
  {
   "cell_type": "markdown",
   "metadata": {},
   "source": [
    "**[Allstate Purchase Prediction Challenge](https://www.kaggle.com/c/allstate-purchase-prediction-challenge/data)**\n",
    "- 고객이 자동차 보험상품을 구매하기까지의 transaction 기록 \n",
    "- 각 customer ID 별로 quote history 포함\n",
    "- 각 customer ID 별 마지막 행이 구매 포인트 (record_type=1)"
   ]
  },
  {
   "cell_type": "markdown",
   "metadata": {},
   "source": [
    "*Variable Descriptions*\n",
    "- customer_ID\n",
    "- shopping_pt - Unique identifier for the shopping point of a given customer\n",
    "- record_type - 0=shopping point, 1=purchase point\n",
    "- day - Day of the week (0-6, 0=Monday)\n",
    "- time - Time of day (HH:MM)\n",
    "- state - State where shopping point occurred\n",
    "- location - Location ID where shopping point occurred\n",
    "- group_size - How many people will be covered under the policy (1, 2, 3 or 4)\n",
    "- homeowner - Whether the customer owns a home or not (0=no, 1=yes)\n",
    "- car_age - Age of the customer’s car\n",
    "- car_value - How valuable was the customer’s car when new\n",
    "- risk_factor - An ordinal assessment of how risky the customer is (1, 2, 3, 4)\n",
    "- age_oldest - Age of the oldest person in customer's group\n",
    "- age_youngest - Age of the youngest person in customer’s group\n",
    "- married_couple - Does the customer group contain a married couple (0=no, 1=yes)\n",
    "- C_previous - What the customer formerly had or currently has for product option C (0=nothing, 1, 2, 3,4)\n",
    "- duration_previous -  how long (in years) the customer was covered by their previous issuer\n",
    "- A,B,C,D,E,F,G - the coverage options\n",
    "- cost - cost of the quoted coverage options"
   ]
  },
  {
   "cell_type": "code",
   "execution_count": 7,
   "metadata": {
    "colab": {
     "autoexec": {
      "startup": false,
      "wait_interval": 0
     }
    },
    "colab_type": "code",
    "id": "--DI-teF6Htl"
   },
   "outputs": [
    {
     "data": {
      "text/html": [
       "<div>\n",
       "<style scoped>\n",
       "    .dataframe tbody tr th:only-of-type {\n",
       "        vertical-align: middle;\n",
       "    }\n",
       "\n",
       "    .dataframe tbody tr th {\n",
       "        vertical-align: top;\n",
       "    }\n",
       "\n",
       "    .dataframe thead th {\n",
       "        text-align: right;\n",
       "    }\n",
       "</style>\n",
       "<table border=\"1\" class=\"dataframe\">\n",
       "  <thead>\n",
       "    <tr style=\"text-align: right;\">\n",
       "      <th></th>\n",
       "      <th>customer_ID</th>\n",
       "      <th>shopping_pt</th>\n",
       "      <th>record_type</th>\n",
       "      <th>day</th>\n",
       "      <th>time</th>\n",
       "      <th>state</th>\n",
       "      <th>location</th>\n",
       "      <th>group_size</th>\n",
       "      <th>homeowner</th>\n",
       "      <th>car_age</th>\n",
       "      <th>car_value</th>\n",
       "      <th>risk_factor</th>\n",
       "      <th>age_oldest</th>\n",
       "      <th>age_youngest</th>\n",
       "      <th>married_couple</th>\n",
       "      <th>C_previous</th>\n",
       "      <th>duration_previous</th>\n",
       "      <th>A</th>\n",
       "      <th>B</th>\n",
       "      <th>C</th>\n",
       "      <th>D</th>\n",
       "      <th>E</th>\n",
       "      <th>F</th>\n",
       "      <th>G</th>\n",
       "      <th>cost</th>\n",
       "    </tr>\n",
       "  </thead>\n",
       "  <tbody>\n",
       "    <tr>\n",
       "      <th>0</th>\n",
       "      <td>10000000</td>\n",
       "      <td>1</td>\n",
       "      <td>0</td>\n",
       "      <td>0</td>\n",
       "      <td>08:35</td>\n",
       "      <td>IN</td>\n",
       "      <td>10001</td>\n",
       "      <td>2</td>\n",
       "      <td>0</td>\n",
       "      <td>2</td>\n",
       "      <td>g</td>\n",
       "      <td>3.0</td>\n",
       "      <td>46</td>\n",
       "      <td>42</td>\n",
       "      <td>1</td>\n",
       "      <td>1.0</td>\n",
       "      <td>2.0</td>\n",
       "      <td>1</td>\n",
       "      <td>0</td>\n",
       "      <td>2</td>\n",
       "      <td>2</td>\n",
       "      <td>1</td>\n",
       "      <td>2</td>\n",
       "      <td>2</td>\n",
       "      <td>633</td>\n",
       "    </tr>\n",
       "    <tr>\n",
       "      <th>1</th>\n",
       "      <td>10000000</td>\n",
       "      <td>2</td>\n",
       "      <td>0</td>\n",
       "      <td>0</td>\n",
       "      <td>08:38</td>\n",
       "      <td>IN</td>\n",
       "      <td>10001</td>\n",
       "      <td>2</td>\n",
       "      <td>0</td>\n",
       "      <td>2</td>\n",
       "      <td>g</td>\n",
       "      <td>3.0</td>\n",
       "      <td>46</td>\n",
       "      <td>42</td>\n",
       "      <td>1</td>\n",
       "      <td>1.0</td>\n",
       "      <td>2.0</td>\n",
       "      <td>1</td>\n",
       "      <td>0</td>\n",
       "      <td>2</td>\n",
       "      <td>2</td>\n",
       "      <td>1</td>\n",
       "      <td>2</td>\n",
       "      <td>1</td>\n",
       "      <td>630</td>\n",
       "    </tr>\n",
       "    <tr>\n",
       "      <th>2</th>\n",
       "      <td>10000000</td>\n",
       "      <td>3</td>\n",
       "      <td>0</td>\n",
       "      <td>0</td>\n",
       "      <td>08:38</td>\n",
       "      <td>IN</td>\n",
       "      <td>10001</td>\n",
       "      <td>2</td>\n",
       "      <td>0</td>\n",
       "      <td>2</td>\n",
       "      <td>g</td>\n",
       "      <td>3.0</td>\n",
       "      <td>46</td>\n",
       "      <td>42</td>\n",
       "      <td>1</td>\n",
       "      <td>1.0</td>\n",
       "      <td>2.0</td>\n",
       "      <td>1</td>\n",
       "      <td>0</td>\n",
       "      <td>2</td>\n",
       "      <td>2</td>\n",
       "      <td>1</td>\n",
       "      <td>2</td>\n",
       "      <td>1</td>\n",
       "      <td>630</td>\n",
       "    </tr>\n",
       "    <tr>\n",
       "      <th>3</th>\n",
       "      <td>10000000</td>\n",
       "      <td>4</td>\n",
       "      <td>0</td>\n",
       "      <td>0</td>\n",
       "      <td>08:39</td>\n",
       "      <td>IN</td>\n",
       "      <td>10001</td>\n",
       "      <td>2</td>\n",
       "      <td>0</td>\n",
       "      <td>2</td>\n",
       "      <td>g</td>\n",
       "      <td>3.0</td>\n",
       "      <td>46</td>\n",
       "      <td>42</td>\n",
       "      <td>1</td>\n",
       "      <td>1.0</td>\n",
       "      <td>2.0</td>\n",
       "      <td>1</td>\n",
       "      <td>0</td>\n",
       "      <td>2</td>\n",
       "      <td>2</td>\n",
       "      <td>1</td>\n",
       "      <td>2</td>\n",
       "      <td>1</td>\n",
       "      <td>630</td>\n",
       "    </tr>\n",
       "    <tr>\n",
       "      <th>4</th>\n",
       "      <td>10000000</td>\n",
       "      <td>5</td>\n",
       "      <td>0</td>\n",
       "      <td>0</td>\n",
       "      <td>11:55</td>\n",
       "      <td>IN</td>\n",
       "      <td>10001</td>\n",
       "      <td>2</td>\n",
       "      <td>0</td>\n",
       "      <td>2</td>\n",
       "      <td>g</td>\n",
       "      <td>3.0</td>\n",
       "      <td>46</td>\n",
       "      <td>42</td>\n",
       "      <td>1</td>\n",
       "      <td>1.0</td>\n",
       "      <td>2.0</td>\n",
       "      <td>1</td>\n",
       "      <td>0</td>\n",
       "      <td>2</td>\n",
       "      <td>2</td>\n",
       "      <td>1</td>\n",
       "      <td>2</td>\n",
       "      <td>1</td>\n",
       "      <td>630</td>\n",
       "    </tr>\n",
       "  </tbody>\n",
       "</table>\n",
       "</div>"
      ],
      "text/plain": [
       "   customer_ID  shopping_pt  record_type  day   time state  location  \\\n",
       "0     10000000            1            0    0  08:35    IN     10001   \n",
       "1     10000000            2            0    0  08:38    IN     10001   \n",
       "2     10000000            3            0    0  08:38    IN     10001   \n",
       "3     10000000            4            0    0  08:39    IN     10001   \n",
       "4     10000000            5            0    0  11:55    IN     10001   \n",
       "\n",
       "   group_size  homeowner  car_age car_value  risk_factor  age_oldest  \\\n",
       "0           2          0        2         g          3.0          46   \n",
       "1           2          0        2         g          3.0          46   \n",
       "2           2          0        2         g          3.0          46   \n",
       "3           2          0        2         g          3.0          46   \n",
       "4           2          0        2         g          3.0          46   \n",
       "\n",
       "   age_youngest  married_couple  C_previous  duration_previous  A  B  C  D  E  \\\n",
       "0            42               1         1.0                2.0  1  0  2  2  1   \n",
       "1            42               1         1.0                2.0  1  0  2  2  1   \n",
       "2            42               1         1.0                2.0  1  0  2  2  1   \n",
       "3            42               1         1.0                2.0  1  0  2  2  1   \n",
       "4            42               1         1.0                2.0  1  0  2  2  1   \n",
       "\n",
       "   F  G  cost  \n",
       "0  2  2   633  \n",
       "1  2  1   630  \n",
       "2  2  1   630  \n",
       "3  2  1   630  \n",
       "4  2  1   630  "
      ]
     },
     "execution_count": 7,
     "metadata": {},
     "output_type": "execute_result"
    }
   ],
   "source": [
    "all_data = pd.read_csv('Allstate_train.csv')\n",
    "all_data.head()"
   ]
  },
  {
   "cell_type": "code",
   "execution_count": 8,
   "metadata": {},
   "outputs": [
    {
     "data": {
      "text/html": [
       "<div>\n",
       "<style scoped>\n",
       "    .dataframe tbody tr th:only-of-type {\n",
       "        vertical-align: middle;\n",
       "    }\n",
       "\n",
       "    .dataframe tbody tr th {\n",
       "        vertical-align: top;\n",
       "    }\n",
       "\n",
       "    .dataframe thead th {\n",
       "        text-align: right;\n",
       "    }\n",
       "</style>\n",
       "<table border=\"1\" class=\"dataframe\">\n",
       "  <thead>\n",
       "    <tr style=\"text-align: right;\">\n",
       "      <th></th>\n",
       "      <th>customer_ID</th>\n",
       "      <th>shopping_pt</th>\n",
       "      <th>record_type</th>\n",
       "      <th>day</th>\n",
       "      <th>time</th>\n",
       "      <th>state</th>\n",
       "      <th>location</th>\n",
       "      <th>group_size</th>\n",
       "      <th>homeowner</th>\n",
       "      <th>car_age</th>\n",
       "      <th>car_value</th>\n",
       "      <th>risk_factor</th>\n",
       "      <th>age_oldest</th>\n",
       "      <th>age_youngest</th>\n",
       "      <th>married_couple</th>\n",
       "      <th>C_previous</th>\n",
       "      <th>duration_previous</th>\n",
       "      <th>A</th>\n",
       "      <th>B</th>\n",
       "      <th>C</th>\n",
       "      <th>D</th>\n",
       "      <th>E</th>\n",
       "      <th>F</th>\n",
       "      <th>G</th>\n",
       "      <th>cost</th>\n",
       "    </tr>\n",
       "  </thead>\n",
       "  <tbody>\n",
       "    <tr>\n",
       "      <th>665243</th>\n",
       "      <td>10152724</td>\n",
       "      <td>1</td>\n",
       "      <td>0</td>\n",
       "      <td>3</td>\n",
       "      <td>13:42</td>\n",
       "      <td>KY</td>\n",
       "      <td>10204</td>\n",
       "      <td>1</td>\n",
       "      <td>1</td>\n",
       "      <td>1</td>\n",
       "      <td>e</td>\n",
       "      <td>NaN</td>\n",
       "      <td>20</td>\n",
       "      <td>20</td>\n",
       "      <td>0</td>\n",
       "      <td>1.0</td>\n",
       "      <td>4.0</td>\n",
       "      <td>0</td>\n",
       "      <td>0</td>\n",
       "      <td>3</td>\n",
       "      <td>3</td>\n",
       "      <td>0</td>\n",
       "      <td>0</td>\n",
       "      <td>2</td>\n",
       "      <td>642</td>\n",
       "    </tr>\n",
       "    <tr>\n",
       "      <th>665244</th>\n",
       "      <td>10152724</td>\n",
       "      <td>2</td>\n",
       "      <td>0</td>\n",
       "      <td>3</td>\n",
       "      <td>13:43</td>\n",
       "      <td>KY</td>\n",
       "      <td>10204</td>\n",
       "      <td>1</td>\n",
       "      <td>1</td>\n",
       "      <td>1</td>\n",
       "      <td>e</td>\n",
       "      <td>NaN</td>\n",
       "      <td>20</td>\n",
       "      <td>20</td>\n",
       "      <td>0</td>\n",
       "      <td>1.0</td>\n",
       "      <td>4.0</td>\n",
       "      <td>1</td>\n",
       "      <td>0</td>\n",
       "      <td>2</td>\n",
       "      <td>3</td>\n",
       "      <td>0</td>\n",
       "      <td>2</td>\n",
       "      <td>2</td>\n",
       "      <td>677</td>\n",
       "    </tr>\n",
       "    <tr>\n",
       "      <th>665245</th>\n",
       "      <td>10152724</td>\n",
       "      <td>3</td>\n",
       "      <td>0</td>\n",
       "      <td>3</td>\n",
       "      <td>13:43</td>\n",
       "      <td>KY</td>\n",
       "      <td>10204</td>\n",
       "      <td>1</td>\n",
       "      <td>1</td>\n",
       "      <td>1</td>\n",
       "      <td>e</td>\n",
       "      <td>NaN</td>\n",
       "      <td>20</td>\n",
       "      <td>20</td>\n",
       "      <td>0</td>\n",
       "      <td>1.0</td>\n",
       "      <td>4.0</td>\n",
       "      <td>1</td>\n",
       "      <td>0</td>\n",
       "      <td>2</td>\n",
       "      <td>3</td>\n",
       "      <td>0</td>\n",
       "      <td>2</td>\n",
       "      <td>2</td>\n",
       "      <td>677</td>\n",
       "    </tr>\n",
       "    <tr>\n",
       "      <th>665246</th>\n",
       "      <td>10152724</td>\n",
       "      <td>4</td>\n",
       "      <td>0</td>\n",
       "      <td>3</td>\n",
       "      <td>13:44</td>\n",
       "      <td>KY</td>\n",
       "      <td>10204</td>\n",
       "      <td>1</td>\n",
       "      <td>1</td>\n",
       "      <td>1</td>\n",
       "      <td>e</td>\n",
       "      <td>NaN</td>\n",
       "      <td>20</td>\n",
       "      <td>20</td>\n",
       "      <td>0</td>\n",
       "      <td>1.0</td>\n",
       "      <td>4.0</td>\n",
       "      <td>1</td>\n",
       "      <td>0</td>\n",
       "      <td>2</td>\n",
       "      <td>3</td>\n",
       "      <td>0</td>\n",
       "      <td>2</td>\n",
       "      <td>2</td>\n",
       "      <td>677</td>\n",
       "    </tr>\n",
       "    <tr>\n",
       "      <th>665247</th>\n",
       "      <td>10152724</td>\n",
       "      <td>5</td>\n",
       "      <td>0</td>\n",
       "      <td>3</td>\n",
       "      <td>13:46</td>\n",
       "      <td>KY</td>\n",
       "      <td>10204</td>\n",
       "      <td>1</td>\n",
       "      <td>1</td>\n",
       "      <td>1</td>\n",
       "      <td>e</td>\n",
       "      <td>NaN</td>\n",
       "      <td>20</td>\n",
       "      <td>20</td>\n",
       "      <td>0</td>\n",
       "      <td>1.0</td>\n",
       "      <td>4.0</td>\n",
       "      <td>1</td>\n",
       "      <td>0</td>\n",
       "      <td>2</td>\n",
       "      <td>3</td>\n",
       "      <td>0</td>\n",
       "      <td>2</td>\n",
       "      <td>2</td>\n",
       "      <td>685</td>\n",
       "    </tr>\n",
       "    <tr>\n",
       "      <th>665248</th>\n",
       "      <td>10152724</td>\n",
       "      <td>6</td>\n",
       "      <td>1</td>\n",
       "      <td>1</td>\n",
       "      <td>15:14</td>\n",
       "      <td>KY</td>\n",
       "      <td>10204</td>\n",
       "      <td>1</td>\n",
       "      <td>1</td>\n",
       "      <td>1</td>\n",
       "      <td>d</td>\n",
       "      <td>NaN</td>\n",
       "      <td>20</td>\n",
       "      <td>20</td>\n",
       "      <td>0</td>\n",
       "      <td>4.0</td>\n",
       "      <td>4.0</td>\n",
       "      <td>1</td>\n",
       "      <td>0</td>\n",
       "      <td>3</td>\n",
       "      <td>3</td>\n",
       "      <td>0</td>\n",
       "      <td>2</td>\n",
       "      <td>2</td>\n",
       "      <td>681</td>\n",
       "    </tr>\n",
       "  </tbody>\n",
       "</table>\n",
       "</div>"
      ],
      "text/plain": [
       "        customer_ID  shopping_pt  record_type  day   time state  location  \\\n",
       "665243     10152724            1            0    3  13:42    KY     10204   \n",
       "665244     10152724            2            0    3  13:43    KY     10204   \n",
       "665245     10152724            3            0    3  13:43    KY     10204   \n",
       "665246     10152724            4            0    3  13:44    KY     10204   \n",
       "665247     10152724            5            0    3  13:46    KY     10204   \n",
       "665248     10152724            6            1    1  15:14    KY     10204   \n",
       "\n",
       "        group_size  homeowner  car_age car_value  risk_factor  age_oldest  \\\n",
       "665243           1          1        1         e          NaN          20   \n",
       "665244           1          1        1         e          NaN          20   \n",
       "665245           1          1        1         e          NaN          20   \n",
       "665246           1          1        1         e          NaN          20   \n",
       "665247           1          1        1         e          NaN          20   \n",
       "665248           1          1        1         d          NaN          20   \n",
       "\n",
       "        age_youngest  married_couple  C_previous  duration_previous  A  B  C  \\\n",
       "665243            20               0         1.0                4.0  0  0  3   \n",
       "665244            20               0         1.0                4.0  1  0  2   \n",
       "665245            20               0         1.0                4.0  1  0  2   \n",
       "665246            20               0         1.0                4.0  1  0  2   \n",
       "665247            20               0         1.0                4.0  1  0  2   \n",
       "665248            20               0         4.0                4.0  1  0  3   \n",
       "\n",
       "        D  E  F  G  cost  \n",
       "665243  3  0  0  2   642  \n",
       "665244  3  0  2  2   677  \n",
       "665245  3  0  2  2   677  \n",
       "665246  3  0  2  2   677  \n",
       "665247  3  0  2  2   685  \n",
       "665248  3  0  2  2   681  "
      ]
     },
     "execution_count": 8,
     "metadata": {},
     "output_type": "execute_result"
    }
   ],
   "source": [
    "all_data.query('customer_ID == 10152724')"
   ]
  },
  {
   "cell_type": "code",
   "execution_count": 9,
   "metadata": {
    "colab": {
     "autoexec": {
      "startup": false,
      "wait_interval": 0
     }
    },
    "colab_type": "code",
    "id": "LTvUrK1l6Hts"
   },
   "outputs": [
    {
     "data": {
      "text/html": [
       "<div>\n",
       "<style scoped>\n",
       "    .dataframe tbody tr th:only-of-type {\n",
       "        vertical-align: middle;\n",
       "    }\n",
       "\n",
       "    .dataframe tbody tr th {\n",
       "        vertical-align: top;\n",
       "    }\n",
       "\n",
       "    .dataframe thead th {\n",
       "        text-align: right;\n",
       "    }\n",
       "</style>\n",
       "<table border=\"1\" class=\"dataframe\">\n",
       "  <thead>\n",
       "    <tr style=\"text-align: right;\">\n",
       "      <th></th>\n",
       "      <th>group_size</th>\n",
       "      <th>car_age</th>\n",
       "      <th>age_oldest</th>\n",
       "      <th>age_youngest</th>\n",
       "      <th>duration_previous</th>\n",
       "      <th>cost</th>\n",
       "      <th>day</th>\n",
       "      <th>homeowner</th>\n",
       "      <th>car_value</th>\n",
       "      <th>risk_factor</th>\n",
       "      <th>married_couple</th>\n",
       "      <th>C_previous</th>\n",
       "      <th>state</th>\n",
       "      <th>shopping_pt</th>\n",
       "    </tr>\n",
       "  </thead>\n",
       "  <tbody>\n",
       "    <tr>\n",
       "      <th>8</th>\n",
       "      <td>2</td>\n",
       "      <td>2</td>\n",
       "      <td>46</td>\n",
       "      <td>42</td>\n",
       "      <td>2.0</td>\n",
       "      <td>634</td>\n",
       "      <td>0</td>\n",
       "      <td>0</td>\n",
       "      <td>g</td>\n",
       "      <td>3.0</td>\n",
       "      <td>1</td>\n",
       "      <td>1.0</td>\n",
       "      <td>IN</td>\n",
       "      <td>9</td>\n",
       "    </tr>\n",
       "    <tr>\n",
       "      <th>14</th>\n",
       "      <td>1</td>\n",
       "      <td>10</td>\n",
       "      <td>28</td>\n",
       "      <td>28</td>\n",
       "      <td>13.0</td>\n",
       "      <td>731</td>\n",
       "      <td>3</td>\n",
       "      <td>0</td>\n",
       "      <td>e</td>\n",
       "      <td>4.0</td>\n",
       "      <td>0</td>\n",
       "      <td>3.0</td>\n",
       "      <td>NY</td>\n",
       "      <td>6</td>\n",
       "    </tr>\n",
       "    <tr>\n",
       "      <th>22</th>\n",
       "      <td>1</td>\n",
       "      <td>11</td>\n",
       "      <td>43</td>\n",
       "      <td>43</td>\n",
       "      <td>4.0</td>\n",
       "      <td>602</td>\n",
       "      <td>4</td>\n",
       "      <td>0</td>\n",
       "      <td>c</td>\n",
       "      <td>NaN</td>\n",
       "      <td>0</td>\n",
       "      <td>2.0</td>\n",
       "      <td>PA</td>\n",
       "      <td>8</td>\n",
       "    </tr>\n",
       "    <tr>\n",
       "      <th>26</th>\n",
       "      <td>2</td>\n",
       "      <td>3</td>\n",
       "      <td>62</td>\n",
       "      <td>60</td>\n",
       "      <td>3.0</td>\n",
       "      <td>626</td>\n",
       "      <td>4</td>\n",
       "      <td>1</td>\n",
       "      <td>d</td>\n",
       "      <td>3.0</td>\n",
       "      <td>1</td>\n",
       "      <td>3.0</td>\n",
       "      <td>WV</td>\n",
       "      <td>4</td>\n",
       "    </tr>\n",
       "    <tr>\n",
       "      <th>32</th>\n",
       "      <td>1</td>\n",
       "      <td>5</td>\n",
       "      <td>32</td>\n",
       "      <td>28</td>\n",
       "      <td>2.0</td>\n",
       "      <td>614</td>\n",
       "      <td>1</td>\n",
       "      <td>0</td>\n",
       "      <td>d</td>\n",
       "      <td>3.0</td>\n",
       "      <td>1</td>\n",
       "      <td>1.0</td>\n",
       "      <td>MO</td>\n",
       "      <td>6</td>\n",
       "    </tr>\n",
       "  </tbody>\n",
       "</table>\n",
       "</div>"
      ],
      "text/plain": [
       "    group_size  car_age  age_oldest  age_youngest  duration_previous  cost  \\\n",
       "8            2        2          46            42                2.0   634   \n",
       "14           1       10          28            28               13.0   731   \n",
       "22           1       11          43            43                4.0   602   \n",
       "26           2        3          62            60                3.0   626   \n",
       "32           1        5          32            28                2.0   614   \n",
       "\n",
       "    day  homeowner car_value  risk_factor  married_couple  C_previous state  \\\n",
       "8     0          0         g          3.0               1         1.0    IN   \n",
       "14    3          0         e          4.0               0         3.0    NY   \n",
       "22    4          0         c          NaN               0         2.0    PA   \n",
       "26    4          1         d          3.0               1         3.0    WV   \n",
       "32    1          0         d          3.0               1         1.0    MO   \n",
       "\n",
       "    shopping_pt  \n",
       "8             9  \n",
       "14            6  \n",
       "22            8  \n",
       "26            4  \n",
       "32            6  "
      ]
     },
     "execution_count": 9,
     "metadata": {},
     "output_type": "execute_result"
    }
   ],
   "source": [
    "# 구매 포인트인 데이터 포인트만 처리\n",
    "data = all_data.query('record_type == 1').copy()\n",
    "\n",
    "# 분석의 편의를 위해 사용할 속성을 범주형과 연속형으로 구분\n",
    "con = ['group_size','car_age','age_oldest','age_youngest','duration_previous','cost']\n",
    "cat = ['day','homeowner','car_value','risk_factor','married_couple','C_previous','state','shopping_pt']\n",
    "data = data[con+cat]\n",
    "data.head()"
   ]
  },
  {
   "cell_type": "markdown",
   "metadata": {
    "colab_type": "text",
    "id": "a5l5uI_86Hty"
   },
   "source": [
    "## 1. Handling Missing Values"
   ]
  },
  {
   "cell_type": "markdown",
   "metadata": {
    "colab_type": "text",
    "id": "ntZwZjJF6Ht0"
   },
   "source": [
    "##### Check missing values"
   ]
  },
  {
   "cell_type": "code",
   "execution_count": 10,
   "metadata": {
    "colab": {
     "autoexec": {
      "startup": false,
      "wait_interval": 0
     }
    },
    "colab_type": "code",
    "id": "DA6XSglS6Ht1",
    "outputId": "45cf247b-75c4-42b7-e4e8-03339c727f48"
   },
   "outputs": [
    {
     "data": {
      "text/plain": [
       "group_size               0\n",
       "car_age                  0\n",
       "age_oldest               0\n",
       "age_youngest             0\n",
       "duration_previous      836\n",
       "cost                     0\n",
       "day                      0\n",
       "homeowner                0\n",
       "car_value              432\n",
       "risk_factor          34346\n",
       "married_couple           0\n",
       "C_previous             836\n",
       "state                 1019\n",
       "shopping_pt              0\n",
       "dtype: int64"
      ]
     },
     "execution_count": 10,
     "metadata": {},
     "output_type": "execute_result"
    }
   ],
   "source": [
    "data.isnull().sum()"
   ]
  },
  {
   "cell_type": "markdown",
   "metadata": {
    "colab_type": "text",
    "id": "o3uPhSNZ6HuA"
   },
   "source": [
    "### Drop"
   ]
  },
  {
   "cell_type": "code",
   "execution_count": 11,
   "metadata": {
    "colab": {
     "autoexec": {
      "startup": false,
      "wait_interval": 0
     }
    },
    "colab_type": "code",
    "id": "oq61Q2E36HuC",
    "outputId": "e59fc2a0-a6fb-4b6b-d396-9766632b4c9f"
   },
   "outputs": [
    {
     "data": {
      "text/plain": [
       "(97009, 14)"
      ]
     },
     "execution_count": 11,
     "metadata": {},
     "output_type": "execute_result"
    }
   ],
   "source": [
    "data.shape"
   ]
  },
  {
   "cell_type": "code",
   "execution_count": 12,
   "metadata": {
    "colab": {
     "autoexec": {
      "startup": false,
      "wait_interval": 0
     }
    },
    "colab_type": "code",
    "id": "oq61Q2E36HuC",
    "outputId": "e59fc2a0-a6fb-4b6b-d396-9766632b4c9f"
   },
   "outputs": [
    {
     "data": {
      "text/plain": [
       "(61338, 14)"
      ]
     },
     "execution_count": 12,
     "metadata": {},
     "output_type": "execute_result"
    }
   ],
   "source": [
    "data_drop = data.dropna(subset=['state','car_value','risk_factor','C_previous','duration_previous'])\n",
    "data_drop.shape"
   ]
  },
  {
   "cell_type": "code",
   "execution_count": 13,
   "metadata": {},
   "outputs": [],
   "source": [
    "#결측값이 하나라도 있는 feature를 자동으로 없애고 싶을 때 아래 코드 사용:\n",
    "#data.dropna(subset=data.isnull().sum()[data.isnull().sum().gt(0)].index.values)"
   ]
  },
  {
   "cell_type": "code",
   "execution_count": 14,
   "metadata": {
    "colab": {
     "autoexec": {
      "startup": false,
      "wait_interval": 0
     }
    },
    "colab_type": "code",
    "id": "jZQ8nO276HuR",
    "outputId": "6d9f0a79-c9eb-45a5-cb0d-6b62c3aff9da"
   },
   "outputs": [
    {
     "data": {
      "text/plain": [
       "group_size           0\n",
       "car_age              0\n",
       "age_oldest           0\n",
       "age_youngest         0\n",
       "duration_previous    0\n",
       "cost                 0\n",
       "day                  0\n",
       "homeowner            0\n",
       "car_value            0\n",
       "risk_factor          0\n",
       "married_couple       0\n",
       "C_previous           0\n",
       "state                0\n",
       "shopping_pt          0\n",
       "dtype: int64"
      ]
     },
     "execution_count": 14,
     "metadata": {},
     "output_type": "execute_result"
    }
   ],
   "source": [
    "data_drop.isnull().sum()"
   ]
  },
  {
   "cell_type": "markdown",
   "metadata": {
    "colab_type": "text",
    "id": "QZYe1ijJ6HuX"
   },
   "source": [
    "### Impute"
   ]
  },
  {
   "cell_type": "markdown",
   "metadata": {
    "colab_type": "text",
    "id": "O7aXg5Fb6HuZ"
   },
   "source": [
    "##### Continuous feature의 결측값 대체"
   ]
  },
  {
   "cell_type": "code",
   "execution_count": 15,
   "metadata": {},
   "outputs": [
    {
     "data": {
      "text/plain": [
       "group_size             0\n",
       "car_age                0\n",
       "age_oldest             0\n",
       "age_youngest           0\n",
       "duration_previous    836\n",
       "cost                   0\n",
       "dtype: int64"
      ]
     },
     "execution_count": 15,
     "metadata": {},
     "output_type": "execute_result"
    }
   ],
   "source": [
    "data[con].isnull().sum()"
   ]
  },
  {
   "cell_type": "code",
   "execution_count": 16,
   "metadata": {},
   "outputs": [
    {
     "data": {
      "text/plain": [
       "377      NaN\n",
       "450      NaN\n",
       "1044     NaN\n",
       "1828     NaN\n",
       "2152     NaN\n",
       "          ..\n",
       "661737   NaN\n",
       "662523   NaN\n",
       "662699   NaN\n",
       "662853   NaN\n",
       "665003   NaN\n",
       "Name: duration_previous, Length: 836, dtype: float64"
      ]
     },
     "execution_count": 16,
     "metadata": {},
     "output_type": "execute_result"
    }
   ],
   "source": [
    "data[data['duration_previous'].isna()]['duration_previous']"
   ]
  },
  {
   "cell_type": "markdown",
   "metadata": {},
   "source": [
    "Method-1: Univariate Imputation"
   ]
  },
  {
   "cell_type": "code",
   "execution_count": 17,
   "metadata": {
    "colab": {
     "autoexec": {
      "startup": false,
      "wait_interval": 0
     }
    },
    "colab_type": "code",
    "id": "2tvn_evS6Hui",
    "outputId": "b9ab6683-9bf2-4d14-ffb3-9b7378df4275"
   },
   "outputs": [
    {
     "data": {
      "text/plain": [
       "SimpleImputer(strategy='median')"
      ]
     },
     "execution_count": 17,
     "metadata": {},
     "output_type": "execute_result"
    }
   ],
   "source": [
    "from sklearn.impute import SimpleImputer \n",
    "\n",
    "imputer_con = SimpleImputer(strategy=\"median\")\n",
    "imputer_con.fit(data[con])"
   ]
  },
  {
   "cell_type": "markdown",
   "metadata": {
    "colab_type": "text",
    "id": "VBRVJ8lf6Hus"
   },
   "source": [
    "- strategy=\"mean\": 평균 대체\n",
    "- strategy=\"median\": 중위수 대체\n",
    "- strategy=\"most_frequent\":최빈값 대체"
   ]
  },
  {
   "cell_type": "code",
   "execution_count": 18,
   "metadata": {},
   "outputs": [
    {
     "data": {
      "text/plain": [
       "5.0"
      ]
     },
     "execution_count": 18,
     "metadata": {},
     "output_type": "execute_result"
    }
   ],
   "source": [
    "data['duration_previous'].median()"
   ]
  },
  {
   "cell_type": "code",
   "execution_count": 19,
   "metadata": {},
   "outputs": [],
   "source": [
    "data_imp = data.copy()\n",
    "data_imp[con] = imputer_con.transform(data[con])"
   ]
  },
  {
   "cell_type": "code",
   "execution_count": 20,
   "metadata": {
    "colab": {
     "autoexec": {
      "startup": false,
      "wait_interval": 0
     }
    },
    "colab_type": "code",
    "id": "llIuBZPL6Hu_"
   },
   "outputs": [
    {
     "data": {
      "text/plain": [
       "377       5.0\n",
       "450       5.0\n",
       "1044      5.0\n",
       "1828      5.0\n",
       "2152      5.0\n",
       "         ... \n",
       "661737    5.0\n",
       "662523    5.0\n",
       "662699    5.0\n",
       "662853    5.0\n",
       "665003    5.0\n",
       "Name: duration_previous, Length: 836, dtype: float64"
      ]
     },
     "execution_count": 20,
     "metadata": {},
     "output_type": "execute_result"
    }
   ],
   "source": [
    "# 결측값이 중위값으로 바뀐 것 확인 \n",
    "data_imp.loc[data[data['duration_previous'].isna()].index]['duration_previous']"
   ]
  },
  {
   "cell_type": "markdown",
   "metadata": {},
   "source": [
    "Method-2: Multivariate Imputation"
   ]
  },
  {
   "cell_type": "code",
   "execution_count": 21,
   "metadata": {},
   "outputs": [],
   "source": [
    "from sklearn.experimental import enable_iterative_imputer  # still experimental \n",
    "from sklearn.impute import IterativeImputer\n",
    "\n",
    "data_imp = data.copy()\n",
    "data_imp[con] = IterativeImputer(max_iter=10, random_state=0).fit_transform(data[con])"
   ]
  },
  {
   "cell_type": "code",
   "execution_count": 22,
   "metadata": {},
   "outputs": [
    {
     "data": {
      "text/plain": [
       "377       4.742801\n",
       "450       5.407067\n",
       "1044      7.685823\n",
       "1828      4.160533\n",
       "2152      4.628841\n",
       "            ...   \n",
       "661737    6.011405\n",
       "662523    4.300583\n",
       "662699    5.674572\n",
       "662853    7.360666\n",
       "665003    6.489347\n",
       "Name: duration_previous, Length: 836, dtype: float64"
      ]
     },
     "execution_count": 22,
     "metadata": {},
     "output_type": "execute_result"
    }
   ],
   "source": [
    "data_imp.loc[data[data['duration_previous'].isna()].index]['duration_previous']"
   ]
  },
  {
   "cell_type": "markdown",
   "metadata": {
    "colab_type": "text",
    "id": "JJ8Ek6516HvJ"
   },
   "source": [
    "##### Categorical feature 의 결측값 대체 -최빈값으로 대체"
   ]
  },
  {
   "cell_type": "code",
   "execution_count": 23,
   "metadata": {
    "colab": {
     "autoexec": {
      "startup": false,
      "wait_interval": 0
     }
    },
    "colab_type": "code",
    "id": "d6Hl87I26HvM",
    "outputId": "99c35826-1bdb-4115-9e55-c41492898fd4"
   },
   "outputs": [
    {
     "name": "stdout",
     "output_type": "stream",
     "text": [
      "<class 'pandas.core.frame.DataFrame'>\n",
      "Int64Index: 97009 entries, 8 to 665248\n",
      "Data columns (total 8 columns):\n",
      " #   Column          Non-Null Count  Dtype  \n",
      "---  ------          --------------  -----  \n",
      " 0   day             97009 non-null  int64  \n",
      " 1   homeowner       97009 non-null  int64  \n",
      " 2   car_value       96577 non-null  object \n",
      " 3   risk_factor     62663 non-null  float64\n",
      " 4   married_couple  97009 non-null  int64  \n",
      " 5   C_previous      96173 non-null  float64\n",
      " 6   state           95990 non-null  object \n",
      " 7   shopping_pt     97009 non-null  int64  \n",
      "dtypes: float64(2), int64(4), object(2)\n",
      "memory usage: 8.7+ MB\n"
     ]
    }
   ],
   "source": [
    "data_imp[cat].info()"
   ]
  },
  {
   "cell_type": "code",
   "execution_count": 24,
   "metadata": {},
   "outputs": [],
   "source": [
    "data_imp[cat] = SimpleImputer(strategy=\"most_frequent\").fit_transform(data_imp[cat])"
   ]
  },
  {
   "cell_type": "code",
   "execution_count": 25,
   "metadata": {},
   "outputs": [
    {
     "name": "stdout",
     "output_type": "stream",
     "text": [
      "<class 'pandas.core.frame.DataFrame'>\n",
      "Int64Index: 97009 entries, 8 to 665248\n",
      "Data columns (total 8 columns):\n",
      " #   Column          Non-Null Count  Dtype \n",
      "---  ------          --------------  ----- \n",
      " 0   day             97009 non-null  object\n",
      " 1   homeowner       97009 non-null  object\n",
      " 2   car_value       97009 non-null  object\n",
      " 3   risk_factor     97009 non-null  object\n",
      " 4   married_couple  97009 non-null  object\n",
      " 5   C_previous      97009 non-null  object\n",
      " 6   state           97009 non-null  object\n",
      " 7   shopping_pt     97009 non-null  object\n",
      "dtypes: object(8)\n",
      "memory usage: 8.7+ MB\n"
     ]
    }
   ],
   "source": [
    "data_imp[cat].info()"
   ]
  },
  {
   "cell_type": "code",
   "execution_count": 26,
   "metadata": {},
   "outputs": [
    {
     "data": {
      "text/html": [
       "<div>\n",
       "<style scoped>\n",
       "    .dataframe tbody tr th:only-of-type {\n",
       "        vertical-align: middle;\n",
       "    }\n",
       "\n",
       "    .dataframe tbody tr th {\n",
       "        vertical-align: top;\n",
       "    }\n",
       "\n",
       "    .dataframe thead th {\n",
       "        text-align: right;\n",
       "    }\n",
       "</style>\n",
       "<table border=\"1\" class=\"dataframe\">\n",
       "  <thead>\n",
       "    <tr style=\"text-align: right;\">\n",
       "      <th></th>\n",
       "      <th>group_size</th>\n",
       "      <th>car_age</th>\n",
       "      <th>age_oldest</th>\n",
       "      <th>age_youngest</th>\n",
       "      <th>duration_previous</th>\n",
       "      <th>cost</th>\n",
       "    </tr>\n",
       "  </thead>\n",
       "  <tbody>\n",
       "    <tr>\n",
       "      <th>8</th>\n",
       "      <td>2</td>\n",
       "      <td>2</td>\n",
       "      <td>46</td>\n",
       "      <td>42</td>\n",
       "      <td>2.0</td>\n",
       "      <td>634</td>\n",
       "    </tr>\n",
       "    <tr>\n",
       "      <th>14</th>\n",
       "      <td>1</td>\n",
       "      <td>10</td>\n",
       "      <td>28</td>\n",
       "      <td>28</td>\n",
       "      <td>13.0</td>\n",
       "      <td>731</td>\n",
       "    </tr>\n",
       "    <tr>\n",
       "      <th>22</th>\n",
       "      <td>1</td>\n",
       "      <td>11</td>\n",
       "      <td>43</td>\n",
       "      <td>43</td>\n",
       "      <td>4.0</td>\n",
       "      <td>602</td>\n",
       "    </tr>\n",
       "    <tr>\n",
       "      <th>26</th>\n",
       "      <td>2</td>\n",
       "      <td>3</td>\n",
       "      <td>62</td>\n",
       "      <td>60</td>\n",
       "      <td>3.0</td>\n",
       "      <td>626</td>\n",
       "    </tr>\n",
       "    <tr>\n",
       "      <th>32</th>\n",
       "      <td>1</td>\n",
       "      <td>5</td>\n",
       "      <td>32</td>\n",
       "      <td>28</td>\n",
       "      <td>2.0</td>\n",
       "      <td>614</td>\n",
       "    </tr>\n",
       "    <tr>\n",
       "      <th>...</th>\n",
       "      <td>...</td>\n",
       "      <td>...</td>\n",
       "      <td>...</td>\n",
       "      <td>...</td>\n",
       "      <td>...</td>\n",
       "      <td>...</td>\n",
       "    </tr>\n",
       "    <tr>\n",
       "      <th>665225</th>\n",
       "      <td>2</td>\n",
       "      <td>1</td>\n",
       "      <td>75</td>\n",
       "      <td>75</td>\n",
       "      <td>15.0</td>\n",
       "      <td>628</td>\n",
       "    </tr>\n",
       "    <tr>\n",
       "      <th>665233</th>\n",
       "      <td>1</td>\n",
       "      <td>13</td>\n",
       "      <td>33</td>\n",
       "      <td>33</td>\n",
       "      <td>8.0</td>\n",
       "      <td>681</td>\n",
       "    </tr>\n",
       "    <tr>\n",
       "      <th>665239</th>\n",
       "      <td>1</td>\n",
       "      <td>8</td>\n",
       "      <td>23</td>\n",
       "      <td>23</td>\n",
       "      <td>5.0</td>\n",
       "      <td>716</td>\n",
       "    </tr>\n",
       "    <tr>\n",
       "      <th>665242</th>\n",
       "      <td>1</td>\n",
       "      <td>0</td>\n",
       "      <td>39</td>\n",
       "      <td>39</td>\n",
       "      <td>7.0</td>\n",
       "      <td>651</td>\n",
       "    </tr>\n",
       "    <tr>\n",
       "      <th>665248</th>\n",
       "      <td>1</td>\n",
       "      <td>1</td>\n",
       "      <td>20</td>\n",
       "      <td>20</td>\n",
       "      <td>4.0</td>\n",
       "      <td>681</td>\n",
       "    </tr>\n",
       "  </tbody>\n",
       "</table>\n",
       "<p>97009 rows × 6 columns</p>\n",
       "</div>"
      ],
      "text/plain": [
       "        group_size  car_age  age_oldest  age_youngest  duration_previous  cost\n",
       "8                2        2          46            42                2.0   634\n",
       "14               1       10          28            28               13.0   731\n",
       "22               1       11          43            43                4.0   602\n",
       "26               2        3          62            60                3.0   626\n",
       "32               1        5          32            28                2.0   614\n",
       "...            ...      ...         ...           ...                ...   ...\n",
       "665225           2        1          75            75               15.0   628\n",
       "665233           1       13          33            33                8.0   681\n",
       "665239           1        8          23            23                5.0   716\n",
       "665242           1        0          39            39                7.0   651\n",
       "665248           1        1          20            20                4.0   681\n",
       "\n",
       "[97009 rows x 6 columns]"
      ]
     },
     "execution_count": 26,
     "metadata": {},
     "output_type": "execute_result"
    }
   ],
   "source": [
    "data[con]"
   ]
  },
  {
   "cell_type": "markdown",
   "metadata": {},
   "source": [
    "<font color='blue'><p>\n",
    "다른 결측값 처리 방법을 알고 싶으면 아래 자료를 참조:  \n",
    "- [6 Different Ways to Compensate for Missing Values In a Dataset](https://towardsdatascience.com/6-different-ways-to-compensate-for-missing-values-data-imputation-with-examples-6022d9ca0779)"
   ]
  },
  {
   "cell_type": "markdown",
   "metadata": {
    "colab_type": "text",
    "id": "DZsbeKtz6Hv2"
   },
   "source": [
    "## 2. Handling Categorical Variables"
   ]
  },
  {
   "cell_type": "code",
   "execution_count": 27,
   "metadata": {},
   "outputs": [
    {
     "data": {
      "text/html": [
       "<div>\n",
       "<style scoped>\n",
       "    .dataframe tbody tr th:only-of-type {\n",
       "        vertical-align: middle;\n",
       "    }\n",
       "\n",
       "    .dataframe tbody tr th {\n",
       "        vertical-align: top;\n",
       "    }\n",
       "\n",
       "    .dataframe thead th {\n",
       "        text-align: right;\n",
       "    }\n",
       "</style>\n",
       "<table border=\"1\" class=\"dataframe\">\n",
       "  <thead>\n",
       "    <tr style=\"text-align: right;\">\n",
       "      <th></th>\n",
       "      <th>day</th>\n",
       "      <th>homeowner</th>\n",
       "      <th>car_value</th>\n",
       "      <th>risk_factor</th>\n",
       "      <th>married_couple</th>\n",
       "      <th>C_previous</th>\n",
       "      <th>state</th>\n",
       "      <th>shopping_pt</th>\n",
       "    </tr>\n",
       "  </thead>\n",
       "  <tbody>\n",
       "    <tr>\n",
       "      <th>8</th>\n",
       "      <td>0</td>\n",
       "      <td>0</td>\n",
       "      <td>g</td>\n",
       "      <td>3.0</td>\n",
       "      <td>1</td>\n",
       "      <td>1.0</td>\n",
       "      <td>IN</td>\n",
       "      <td>9</td>\n",
       "    </tr>\n",
       "    <tr>\n",
       "      <th>14</th>\n",
       "      <td>3</td>\n",
       "      <td>0</td>\n",
       "      <td>e</td>\n",
       "      <td>4.0</td>\n",
       "      <td>0</td>\n",
       "      <td>3.0</td>\n",
       "      <td>NY</td>\n",
       "      <td>6</td>\n",
       "    </tr>\n",
       "    <tr>\n",
       "      <th>22</th>\n",
       "      <td>4</td>\n",
       "      <td>0</td>\n",
       "      <td>c</td>\n",
       "      <td>3.0</td>\n",
       "      <td>0</td>\n",
       "      <td>2.0</td>\n",
       "      <td>PA</td>\n",
       "      <td>8</td>\n",
       "    </tr>\n",
       "    <tr>\n",
       "      <th>26</th>\n",
       "      <td>4</td>\n",
       "      <td>1</td>\n",
       "      <td>d</td>\n",
       "      <td>3.0</td>\n",
       "      <td>1</td>\n",
       "      <td>3.0</td>\n",
       "      <td>WV</td>\n",
       "      <td>4</td>\n",
       "    </tr>\n",
       "    <tr>\n",
       "      <th>32</th>\n",
       "      <td>1</td>\n",
       "      <td>0</td>\n",
       "      <td>d</td>\n",
       "      <td>3.0</td>\n",
       "      <td>1</td>\n",
       "      <td>1.0</td>\n",
       "      <td>MO</td>\n",
       "      <td>6</td>\n",
       "    </tr>\n",
       "  </tbody>\n",
       "</table>\n",
       "</div>"
      ],
      "text/plain": [
       "   day homeowner car_value risk_factor married_couple C_previous state  \\\n",
       "8    0         0         g         3.0              1        1.0    IN   \n",
       "14   3         0         e         4.0              0        3.0    NY   \n",
       "22   4         0         c         3.0              0        2.0    PA   \n",
       "26   4         1         d         3.0              1        3.0    WV   \n",
       "32   1         0         d         3.0              1        1.0    MO   \n",
       "\n",
       "   shopping_pt  \n",
       "8            9  \n",
       "14           6  \n",
       "22           8  \n",
       "26           4  \n",
       "32           6  "
      ]
     },
     "execution_count": 27,
     "metadata": {},
     "output_type": "execute_result"
    }
   ],
   "source": [
    "data_imp[cat].head()"
   ]
  },
  {
   "cell_type": "markdown",
   "metadata": {
    "colab_type": "text",
    "id": "gXUiyWe96HwD"
   },
   "source": [
    "### One-Hot Encoding"
   ]
  },
  {
   "cell_type": "code",
   "execution_count": 28,
   "metadata": {
    "colab": {
     "autoexec": {
      "startup": false,
      "wait_interval": 0
     }
    },
    "colab_type": "code",
    "id": "sUvfMbMa6HwE"
   },
   "outputs": [
    {
     "data": {
      "text/plain": [
       "8         g\n",
       "14        e\n",
       "22        c\n",
       "26        d\n",
       "32        d\n",
       "         ..\n",
       "665225    e\n",
       "665233    g\n",
       "665239    e\n",
       "665242    g\n",
       "665248    d\n",
       "Name: car_value, Length: 97009, dtype: object"
      ]
     },
     "execution_count": 28,
     "metadata": {},
     "output_type": "execute_result"
    }
   ],
   "source": [
    "data_imp['car_value']"
   ]
  },
  {
   "cell_type": "code",
   "execution_count": 29,
   "metadata": {
    "colab": {
     "autoexec": {
      "startup": false,
      "wait_interval": 0
     }
    },
    "colab_type": "code",
    "id": "sUvfMbMa6HwE"
   },
   "outputs": [],
   "source": [
    "data_imp_ohe = data_imp.copy()\n",
    "data_imp_ohe = pd.get_dummies(data_imp, columns=['car_value'])"
   ]
  },
  {
   "cell_type": "code",
   "execution_count": 30,
   "metadata": {
    "colab": {
     "autoexec": {
      "startup": false,
      "wait_interval": 0
     }
    },
    "colab_type": "code",
    "id": "b5byLV5N6HwH",
    "outputId": "1a48eaf0-10ea-4a34-b765-a7a54828cf79"
   },
   "outputs": [
    {
     "name": "stdout",
     "output_type": "stream",
     "text": [
      "<class 'pandas.core.frame.DataFrame'>\n",
      "Int64Index: 97009 entries, 8 to 665248\n",
      "Data columns (total 22 columns):\n",
      " #   Column             Non-Null Count  Dtype  \n",
      "---  ------             --------------  -----  \n",
      " 0   group_size         97009 non-null  float64\n",
      " 1   car_age            97009 non-null  float64\n",
      " 2   age_oldest         97009 non-null  float64\n",
      " 3   age_youngest       97009 non-null  float64\n",
      " 4   duration_previous  97009 non-null  float64\n",
      " 5   cost               97009 non-null  float64\n",
      " 6   day                97009 non-null  object \n",
      " 7   homeowner          97009 non-null  object \n",
      " 8   risk_factor        97009 non-null  object \n",
      " 9   married_couple     97009 non-null  object \n",
      " 10  C_previous         97009 non-null  object \n",
      " 11  state              97009 non-null  object \n",
      " 12  shopping_pt        97009 non-null  object \n",
      " 13  car_value_a        97009 non-null  uint8  \n",
      " 14  car_value_b        97009 non-null  uint8  \n",
      " 15  car_value_c        97009 non-null  uint8  \n",
      " 16  car_value_d        97009 non-null  uint8  \n",
      " 17  car_value_e        97009 non-null  uint8  \n",
      " 18  car_value_f        97009 non-null  uint8  \n",
      " 19  car_value_g        97009 non-null  uint8  \n",
      " 20  car_value_h        97009 non-null  uint8  \n",
      " 21  car_value_i        97009 non-null  uint8  \n",
      "dtypes: float64(6), object(7), uint8(9)\n",
      "memory usage: 13.2+ MB\n"
     ]
    }
   ],
   "source": [
    "data_imp_ohe.info()"
   ]
  },
  {
   "cell_type": "code",
   "execution_count": 31,
   "metadata": {
    "colab": {
     "autoexec": {
      "startup": false,
      "wait_interval": 0
     }
    },
    "colab_type": "code",
    "id": "UVobaQB36HwL",
    "outputId": "492360cd-6b9e-4d14-c9ce-8748932d74e4"
   },
   "outputs": [
    {
     "data": {
      "text/html": [
       "<div>\n",
       "<style scoped>\n",
       "    .dataframe tbody tr th:only-of-type {\n",
       "        vertical-align: middle;\n",
       "    }\n",
       "\n",
       "    .dataframe tbody tr th {\n",
       "        vertical-align: top;\n",
       "    }\n",
       "\n",
       "    .dataframe thead th {\n",
       "        text-align: right;\n",
       "    }\n",
       "</style>\n",
       "<table border=\"1\" class=\"dataframe\">\n",
       "  <thead>\n",
       "    <tr style=\"text-align: right;\">\n",
       "      <th></th>\n",
       "      <th>car_age</th>\n",
       "      <th>car_value_a</th>\n",
       "      <th>car_value_b</th>\n",
       "      <th>car_value_c</th>\n",
       "      <th>car_value_d</th>\n",
       "      <th>car_value_e</th>\n",
       "      <th>car_value_f</th>\n",
       "      <th>car_value_g</th>\n",
       "      <th>car_value_h</th>\n",
       "      <th>car_value_i</th>\n",
       "    </tr>\n",
       "  </thead>\n",
       "  <tbody>\n",
       "    <tr>\n",
       "      <th>8</th>\n",
       "      <td>2.0</td>\n",
       "      <td>0</td>\n",
       "      <td>0</td>\n",
       "      <td>0</td>\n",
       "      <td>0</td>\n",
       "      <td>0</td>\n",
       "      <td>0</td>\n",
       "      <td>1</td>\n",
       "      <td>0</td>\n",
       "      <td>0</td>\n",
       "    </tr>\n",
       "    <tr>\n",
       "      <th>14</th>\n",
       "      <td>10.0</td>\n",
       "      <td>0</td>\n",
       "      <td>0</td>\n",
       "      <td>0</td>\n",
       "      <td>0</td>\n",
       "      <td>1</td>\n",
       "      <td>0</td>\n",
       "      <td>0</td>\n",
       "      <td>0</td>\n",
       "      <td>0</td>\n",
       "    </tr>\n",
       "    <tr>\n",
       "      <th>22</th>\n",
       "      <td>11.0</td>\n",
       "      <td>0</td>\n",
       "      <td>0</td>\n",
       "      <td>1</td>\n",
       "      <td>0</td>\n",
       "      <td>0</td>\n",
       "      <td>0</td>\n",
       "      <td>0</td>\n",
       "      <td>0</td>\n",
       "      <td>0</td>\n",
       "    </tr>\n",
       "    <tr>\n",
       "      <th>26</th>\n",
       "      <td>3.0</td>\n",
       "      <td>0</td>\n",
       "      <td>0</td>\n",
       "      <td>0</td>\n",
       "      <td>1</td>\n",
       "      <td>0</td>\n",
       "      <td>0</td>\n",
       "      <td>0</td>\n",
       "      <td>0</td>\n",
       "      <td>0</td>\n",
       "    </tr>\n",
       "    <tr>\n",
       "      <th>32</th>\n",
       "      <td>5.0</td>\n",
       "      <td>0</td>\n",
       "      <td>0</td>\n",
       "      <td>0</td>\n",
       "      <td>1</td>\n",
       "      <td>0</td>\n",
       "      <td>0</td>\n",
       "      <td>0</td>\n",
       "      <td>0</td>\n",
       "      <td>0</td>\n",
       "    </tr>\n",
       "  </tbody>\n",
       "</table>\n",
       "</div>"
      ],
      "text/plain": [
       "    car_age  car_value_a  car_value_b  car_value_c  car_value_d  car_value_e  \\\n",
       "8       2.0            0            0            0            0            0   \n",
       "14     10.0            0            0            0            0            1   \n",
       "22     11.0            0            0            1            0            0   \n",
       "26      3.0            0            0            0            1            0   \n",
       "32      5.0            0            0            0            1            0   \n",
       "\n",
       "    car_value_f  car_value_g  car_value_h  car_value_i  \n",
       "8             0            1            0            0  \n",
       "14            0            0            0            0  \n",
       "22            0            0            0            0  \n",
       "26            0            0            0            0  \n",
       "32            0            0            0            0  "
      ]
     },
     "execution_count": 31,
     "metadata": {},
     "output_type": "execute_result"
    }
   ],
   "source": [
    "data_imp_ohe.filter(like='car').head()"
   ]
  },
  {
   "cell_type": "markdown",
   "metadata": {
    "colab_type": "text",
    "id": "wsmxYY4s6HwN"
   },
   "source": [
    "### Label Encoding"
   ]
  },
  {
   "cell_type": "code",
   "execution_count": 32,
   "metadata": {},
   "outputs": [],
   "source": [
    "from sklearn.preprocessing import LabelEncoder\n",
    "\n",
    "data_imp_ohe['state'] = LabelEncoder().fit_transform(data_imp_ohe['state'])\n",
    "# data_imp_ohe['state'] = data_imp_ohe['state'].astype('category').cat.codes "
   ]
  },
  {
   "cell_type": "code",
   "execution_count": 33,
   "metadata": {},
   "outputs": [
    {
     "data": {
      "text/html": [
       "<div>\n",
       "<style scoped>\n",
       "    .dataframe tbody tr th:only-of-type {\n",
       "        vertical-align: middle;\n",
       "    }\n",
       "\n",
       "    .dataframe tbody tr th {\n",
       "        vertical-align: top;\n",
       "    }\n",
       "\n",
       "    .dataframe thead th {\n",
       "        text-align: right;\n",
       "    }\n",
       "</style>\n",
       "<table border=\"1\" class=\"dataframe\">\n",
       "  <thead>\n",
       "    <tr style=\"text-align: right;\">\n",
       "      <th></th>\n",
       "      <th>state</th>\n",
       "    </tr>\n",
       "  </thead>\n",
       "  <tbody>\n",
       "    <tr>\n",
       "      <th>8</th>\n",
       "      <td>10</td>\n",
       "    </tr>\n",
       "    <tr>\n",
       "      <th>14</th>\n",
       "      <td>23</td>\n",
       "    </tr>\n",
       "    <tr>\n",
       "      <th>22</th>\n",
       "      <td>27</td>\n",
       "    </tr>\n",
       "    <tr>\n",
       "      <th>26</th>\n",
       "      <td>34</td>\n",
       "    </tr>\n",
       "    <tr>\n",
       "      <th>32</th>\n",
       "      <td>15</td>\n",
       "    </tr>\n",
       "  </tbody>\n",
       "</table>\n",
       "</div>"
      ],
      "text/plain": [
       "    state\n",
       "8      10\n",
       "14     23\n",
       "22     27\n",
       "26     34\n",
       "32     15"
      ]
     },
     "execution_count": 33,
     "metadata": {},
     "output_type": "execute_result"
    }
   ],
   "source": [
    "data_imp_ohe.filter(like='state').head()"
   ]
  },
  {
   "cell_type": "markdown",
   "metadata": {},
   "source": [
    "<font color='blue'><p>\n",
    "이외 다양한 인코더를 범주형 속성에 적용할 수 있다. (아래 참조)  \n",
    "- [All about Categorical Variable Encoding](https://towardsdatascience.com/all-about-categorical-variable-encoding-305f3361fd02)\n",
    "- [Mean Encoding 설명](https://dailyheumsi.tistory.com/120)\n",
    "- [Category Encoders](https://github.com/scikit-learn-contrib/categorical-encoding)"
   ]
  },
  {
   "cell_type": "markdown",
   "metadata": {
    "colab_type": "text",
    "id": "nAyJs-Sq6HxA"
   },
   "source": [
    "## 3. Feature Scaling"
   ]
  },
  {
   "cell_type": "markdown",
   "metadata": {},
   "source": [
    "<font color='darkgreen'><p>\n",
    "### *The effect of preprocessing on supervised learning* #####\n",
    "<img align='left' src='http://drive.google.com/uc?export=view&id=1BLGzg0t4WqgBo8BjQMGTymW1cTisLTlU'>   "
   ]
  },
  {
   "cell_type": "markdown",
   "metadata": {},
   "source": [
    "- Neural network와 SVM 같은 알고리즘은 feature의 scale에 매우 민감하기 때문에 모델링 전에 scale을 조정하는 전처리 작업이 필요 \n",
    "- scikit-learn은 아래와 같은 다양한 scale 변환 방법을 제공\n",
    "<img align='left' src='http://drive.google.com/uc?export=view&id=1dtzf-czC-Yt_PVKgsl7jOMSchS9XT7Id' style=\"max-width: 70%; height: auto;\"/>"
   ]
  },
  {
   "cell_type": "code",
   "execution_count": 34,
   "metadata": {},
   "outputs": [],
   "source": [
    "from sklearn.datasets import load_breast_cancer\n",
    "from sklearn.model_selection import train_test_split\n",
    "\n",
    "cancer = load_breast_cancer()\n",
    "X_train, X_test, y_train, y_test = train_test_split(cancer.data, cancer.target, random_state=0) "
   ]
  },
  {
   "cell_type": "code",
   "execution_count": 35,
   "metadata": {},
   "outputs": [
    {
     "data": {
      "text/plain": [
       "0.9370629370629371"
      ]
     },
     "execution_count": 35,
     "metadata": {},
     "output_type": "execute_result"
    }
   ],
   "source": [
    "from sklearn.svm import SVC\n",
    "\n",
    "svm = SVC(random_state=0)\n",
    "svm.fit(X_train, y_train).score(X_test, y_test)"
   ]
  },
  {
   "cell_type": "markdown",
   "metadata": {
    "colab_type": "text",
    "id": "cZxv6Ehz6HxA"
   },
   "source": [
    "### Standardization"
   ]
  },
  {
   "cell_type": "code",
   "execution_count": 36,
   "metadata": {},
   "outputs": [
    {
     "data": {
      "text/plain": [
       "0.965034965034965"
      ]
     },
     "execution_count": 36,
     "metadata": {},
     "output_type": "execute_result"
    }
   ],
   "source": [
    "# preprocessing using zero mean and unit variance scaling\n",
    "from sklearn.preprocessing import StandardScaler\n",
    "\n",
    "scaler = StandardScaler()\n",
    "\n",
    "X_train_sc1 = scaler.fit_transform(X_train)\n",
    "\n",
    "X_test_sc1 = scaler.transform(X_test)\n",
    "svm.fit(X_train_sc1, y_train).score(X_test_sc1, y_test)"
   ]
  },
  {
   "cell_type": "markdown",
   "metadata": {
    "colab_type": "text",
    "id": "HzQJTlBt6HxS"
   },
   "source": [
    "### Min-max scaling"
   ]
  },
  {
   "cell_type": "code",
   "execution_count": 37,
   "metadata": {},
   "outputs": [
    {
     "data": {
      "text/plain": [
       "0.972027972027972"
      ]
     },
     "execution_count": 37,
     "metadata": {},
     "output_type": "execute_result"
    }
   ],
   "source": [
    "# preprocessing using 0-1 scaling\n",
    "from sklearn.preprocessing import MinMaxScaler\n",
    "\n",
    "scaler = MinMaxScaler()\n",
    "\n",
    "X_train_sc2 = scaler.fit(X_train).transform(X_train)\n",
    "\n",
    "# Scaling training and test data the same way\n",
    "X_test_sc2 = scaler.transform(X_test) \n",
    "\n",
    "svm.fit(X_train_sc2, y_train).score(X_test_sc2, y_test)"
   ]
  },
  {
   "cell_type": "markdown",
   "metadata": {},
   "source": [
    "### Power Transformation"
   ]
  },
  {
   "cell_type": "code",
   "execution_count": 38,
   "metadata": {},
   "outputs": [
    {
     "name": "stderr",
     "output_type": "stream",
     "text": [
      "/var/folders/jx/rdhgw4n94cvb3tl_p0k9_4br0000gn/T/ipykernel_70457/229307108.py:3: UserWarning: \n",
      "\n",
      "`distplot` is a deprecated function and will be removed in seaborn v0.14.0.\n",
      "\n",
      "Please adapt your code to use either `displot` (a figure-level function with\n",
      "similar flexibility) or `histplot` (an axes-level function for histograms).\n",
      "\n",
      "For a guide to updating your code to use the new functions, please see\n",
      "https://gist.github.com/mwaskom/de44147ed2974457ad6372750bbe5751\n",
      "\n",
      "  sns.distplot(pd.DataFrame(X_train[:,12]))\n"
     ]
    },
    {
     "data": {
      "image/png": "[encoded data removed]",
      "text/plain": [
       "<Figure size 640x480 with 1 Axes>"
      ]
     },
     "metadata": {},
     "output_type": "display_data"
    }
   ],
   "source": [
    "import seaborn as sns\n",
    "\n",
    "sns.distplot(pd.DataFrame(X_train[:,12]))\n",
    "plt.show()"
   ]
  },
  {
   "cell_type": "code",
   "execution_count": 39,
   "metadata": {},
   "outputs": [],
   "source": [
    "# making data more Gaussian-like\n",
    "from sklearn.preprocessing import PowerTransformer\n",
    "\n",
    "scaler = PowerTransformer(standardize=True)\n",
    "X_train_sc3 = scaler.fit(X_train).transform(X_train)"
   ]
  },
  {
   "cell_type": "code",
   "execution_count": 40,
   "metadata": {},
   "outputs": [
    {
     "name": "stderr",
     "output_type": "stream",
     "text": [
      "/var/folders/jx/rdhgw4n94cvb3tl_p0k9_4br0000gn/T/ipykernel_70457/1823358252.py:1: UserWarning: \n",
      "\n",
      "`distplot` is a deprecated function and will be removed in seaborn v0.14.0.\n",
      "\n",
      "Please adapt your code to use either `displot` (a figure-level function with\n",
      "similar flexibility) or `histplot` (an axes-level function for histograms).\n",
      "\n",
      "For a guide to updating your code to use the new functions, please see\n",
      "https://gist.github.com/mwaskom/de44147ed2974457ad6372750bbe5751\n",
      "\n",
      "  sns.distplot(pd.DataFrame(X_train_sc3[:,12]))\n"
     ]
    },
    {
     "data": {
      "image/png": "[encoded data removed]",
      "text/plain": [
       "<Figure size 640x480 with 1 Axes>"
      ]
     },
     "metadata": {},
     "output_type": "display_data"
    }
   ],
   "source": [
    "sns.distplot(pd.DataFrame(X_train_sc3[:,12]))\n",
    "plt.show()"
   ]
  },
  {
   "cell_type": "code",
   "execution_count": 41,
   "metadata": {},
   "outputs": [
    {
     "data": {
      "text/plain": [
       "0.986013986013986"
      ]
     },
     "execution_count": 41,
     "metadata": {},
     "output_type": "execute_result"
    }
   ],
   "source": [
    "X_test_sc3 = scaler.transform(X_test) \n",
    "svm.fit(X_train_sc3, y_train).score(X_test_sc3, y_test)"
   ]
  },
  {
   "cell_type": "markdown",
   "metadata": {},
   "source": [
    "<font color='blue'><p>\n",
    "Feature Scaling에 대해 더 많은 내용을 알고 싶으면 아래 자료를 참조:  \n",
    "- [All about Feature Scaling](https://towardsdatascience.com/all-about-feature-scaling-bcc0ad75cb35)"
   ]
  },
  {
   "cell_type": "markdown",
   "metadata": {},
   "source": [
    "## 4. Feature Selection ###"
   ]
  },
  {
   "cell_type": "markdown",
   "metadata": {},
   "source": [
    "### Model based feature selection #####"
   ]
  },
  {
   "cell_type": "code",
   "execution_count": 42,
   "metadata": {},
   "outputs": [],
   "source": [
    "from sklearn.feature_selection import SelectFromModel\n",
    "from sklearn.ensemble import RandomForestClassifier\n",
    "\n",
    "select1 = SelectFromModel(RandomForestClassifier(random_state=0), threshold=None)"
   ]
  },
  {
   "cell_type": "code",
   "execution_count": 43,
   "metadata": {},
   "outputs": [
    {
     "name": "stdout",
     "output_type": "stream",
     "text": [
      "X_train_sc3.shape: (426, 30), X_train_sc3_fs1.shape: (426, 10)\n"
     ]
    }
   ],
   "source": [
    "X_train_sc3_fs1 = select1.fit(X_train_sc3, y_train).transform(X_train_sc3)\n",
    "\n",
    "print(\"X_train_sc3.shape: {}, X_train_sc3_fs1.shape: {}\".format(X_train_sc3.shape, X_train_sc3_fs1.shape))"
   ]
  },
  {
   "cell_type": "code",
   "execution_count": 44,
   "metadata": {},
   "outputs": [
    {
     "data": {
      "image/png": "[encoded data removed]",
      "text/plain": [
       "<Figure size 1600x200 with 1 Axes>"
      ]
     },
     "metadata": {},
     "output_type": "display_data"
    }
   ],
   "source": [
    "mask = select1.get_support()\n",
    "plt.matshow(mask.reshape(1,-1), cmap=\"gray_r\")\n",
    "plt.show()"
   ]
  },
  {
   "cell_type": "code",
   "execution_count": 45,
   "metadata": {},
   "outputs": [
    {
     "data": {
      "text/plain": [
       "0.9370629370629371"
      ]
     },
     "execution_count": 45,
     "metadata": {},
     "output_type": "execute_result"
    }
   ],
   "source": [
    "X_test_sc3_fs1 = select1.transform(X_test_sc3)\n",
    "svm.fit(X_train_sc3_fs1, y_train).score(X_test_sc3_fs1, y_test)"
   ]
  },
  {
   "cell_type": "markdown",
   "metadata": {},
   "source": [
    "### Univariate feature selection"
   ]
  },
  {
   "cell_type": "code",
   "execution_count": 46,
   "metadata": {},
   "outputs": [
    {
     "data": {
      "text/plain": [
       "(426, 10)"
      ]
     },
     "execution_count": 46,
     "metadata": {},
     "output_type": "execute_result"
    }
   ],
   "source": [
    "from sklearn.feature_selection import SelectKBest\n",
    "\n",
    "select2 = SelectKBest(k=10)\n",
    "X_train_sc3_fs2 = select2.fit_transform(X_train_sc3, y_train)\n",
    "X_train_sc3_fs2.shape"
   ]
  },
  {
   "cell_type": "code",
   "execution_count": 47,
   "metadata": {},
   "outputs": [
    {
     "data": {
      "image/png": "[encoded data removed]",
      "text/plain": [
       "<Figure size 1600x200 with 1 Axes>"
      ]
     },
     "metadata": {},
     "output_type": "display_data"
    }
   ],
   "source": [
    "mask = select2.get_support()\n",
    "plt.matshow(mask.reshape(1,-1), cmap=\"gray_r\")\n",
    "plt.show()"
   ]
  },
  {
   "cell_type": "code",
   "execution_count": 48,
   "metadata": {},
   "outputs": [
    {
     "data": {
      "text/plain": [
       "0.951048951048951"
      ]
     },
     "execution_count": 48,
     "metadata": {},
     "output_type": "execute_result"
    }
   ],
   "source": [
    "X_test_sc3_fs2 = select2.transform(X_test_sc3)\n",
    "svm.fit(X_train_sc3_fs2, y_train).score(X_test_sc3_fs2, y_test)"
   ]
  },
  {
   "cell_type": "markdown",
   "metadata": {},
   "source": [
    "### Recursive feature elimination"
   ]
  },
  {
   "cell_type": "code",
   "execution_count": 49,
   "metadata": {},
   "outputs": [
    {
     "data": {
      "text/plain": [
       "(426, 10)"
      ]
     },
     "execution_count": 49,
     "metadata": {},
     "output_type": "execute_result"
    }
   ],
   "source": [
    "from sklearn.feature_selection import RFE\n",
    "\n",
    "select3 = RFE(estimator=RandomForestClassifier(random_state=0), n_features_to_select=10, step=1)\n",
    "X_train_sc3_fs3 = select3.fit_transform(X_train_sc3, y_train)\n",
    "X_train_sc3_fs3.shape"
   ]
  },
  {
   "cell_type": "code",
   "execution_count": 50,
   "metadata": {},
   "outputs": [
    {
     "data": {
      "text/plain": [
       "0.972027972027972"
      ]
     },
     "execution_count": 50,
     "metadata": {},
     "output_type": "execute_result"
    }
   ],
   "source": [
    "X_test_sc3_fs3 = select3.transform(X_test_sc3)\n",
    "svm.fit(X_train_sc3_fs3, y_train).score(X_test_sc3_fs3, y_test)"
   ]
  },
  {
   "cell_type": "markdown",
   "metadata": {},
   "source": [
    "## 5. Feature Generation ###\n",
    "- 그룹별 summary: Ex) state는 고객이 위치한 36개 주를 나타냄 => 주별로 평균 cost를 계산하여 새로운 feature 생성\n",
    "- 기존 feature 간의 결합: Ex) 1인당 견적을 계산\n",
    "- 개별 feature 의 함수적 변환: Ex) np.log, np.sqrt, np.square 등을 사용\n",
    "- 상호작용과 다항식 추가: 아래 참조"
   ]
  },
  {
   "cell_type": "markdown",
   "metadata": {},
   "source": [
    "### Automatic generating polynomial and interaction features\n",
    "입력값  x 를 다항식으로 변환한다.\n",
    "$$ x →[1,x,x^2,x^3,⋯] $$\n",
    "\n",
    "만약 열의 갯수가 두 개이고 2차 다항식으로 변환하는 경우에는 다음처럼 변환한다.\n",
    "$$ [x_1,x_2]→[1,x_1,x_2,x_1^2,x_1x_2,x_2^2] $$\n",
    "\n",
    "다음과 같은 파라미터를 가진다.\n",
    "- degree : 차수\n",
    "- interaction_only: interaction 항 생성 여부\n",
    "- include_bias : 상수항 생성 여부"
   ]
  },
  {
   "cell_type": "code",
   "execution_count": 51,
   "metadata": {},
   "outputs": [
    {
     "data": {
      "text/plain": [
       "array([[1, 2],\n",
       "       [3, 4],\n",
       "       [5, 6]])"
      ]
     },
     "execution_count": 51,
     "metadata": {},
     "output_type": "execute_result"
    }
   ],
   "source": [
    "from sklearn.preprocessing import PolynomialFeatures\n",
    "\n",
    "X = np.arange(1,7).reshape(3, 2); X"
   ]
  },
  {
   "cell_type": "code",
   "execution_count": 52,
   "metadata": {},
   "outputs": [
    {
     "data": {
      "text/plain": [
       "array([[  1.,   1.,   2.,   1.,   2.,   4.,   1.,   2.,   4.,   8.],\n",
       "       [  1.,   3.,   4.,   9.,  12.,  16.,  27.,  36.,  48.,  64.],\n",
       "       [  1.,   5.,   6.,  25.,  30.,  36., 125., 150., 180., 216.]])"
      ]
     },
     "execution_count": 52,
     "metadata": {},
     "output_type": "execute_result"
    }
   ],
   "source": [
    "poly = PolynomialFeatures(3)\n",
    "poly.fit_transform(X)"
   ]
  },
  {
   "cell_type": "code",
   "execution_count": 53,
   "metadata": {},
   "outputs": [
    {
     "name": "stderr",
     "output_type": "stream",
     "text": [
      "/Users/hansol/miniforge3/envs/tf/lib/python3.8/site-packages/sklearn/utils/deprecation.py:87: FutureWarning: Function get_feature_names is deprecated; get_feature_names is deprecated in 1.0 and will be removed in 1.2. Please use get_feature_names_out instead.\n",
      "  warnings.warn(msg, category=FutureWarning)\n"
     ]
    },
    {
     "data": {
      "text/plain": [
       "['1',\n",
       " 'x0',\n",
       " 'x1',\n",
       " 'x0^2',\n",
       " 'x0 x1',\n",
       " 'x1^2',\n",
       " 'x0^3',\n",
       " 'x0^2 x1',\n",
       " 'x0 x1^2',\n",
       " 'x1^3']"
      ]
     },
     "execution_count": 53,
     "metadata": {},
     "output_type": "execute_result"
    }
   ],
   "source": [
    "poly.get_feature_names()"
   ]
  },
  {
   "cell_type": "code",
   "execution_count": 54,
   "metadata": {},
   "outputs": [
    {
     "data": {
      "text/plain": [
       "array([[ 1.,  1.,  2.,  2.],\n",
       "       [ 1.,  3.,  4., 12.],\n",
       "       [ 1.,  5.,  6., 30.]])"
      ]
     },
     "execution_count": 54,
     "metadata": {},
     "output_type": "execute_result"
    }
   ],
   "source": [
    "poly = PolynomialFeatures(interaction_only=True)\n",
    "poly.fit_transform(X)"
   ]
  },
  {
   "cell_type": "code",
   "execution_count": 55,
   "metadata": {},
   "outputs": [
    {
     "name": "stdout",
     "output_type": "stream",
     "text": [
      "(426, 30)\n",
      "(426, 495) (143, 495)\n"
     ]
    },
    {
     "data": {
      "text/plain": [
       "0.9370629370629371"
      ]
     },
     "execution_count": 55,
     "metadata": {},
     "output_type": "execute_result"
    }
   ],
   "source": [
    "print(X_train_sc2.shape)\n",
    "\n",
    "poly = PolynomialFeatures(2, include_bias=False)\n",
    "X_train_sc3_poly = poly.fit_transform(X_train_sc3)\n",
    "X_test_sc3_poly = poly.transform(X_test_sc3)\n",
    "print(X_train_sc3_poly.shape, X_test_sc3_poly.shape)\n",
    "\n",
    "svm.fit(X_train_sc3_poly, y_train).score(X_test_sc3_poly, y_test)"
   ]
  },
  {
   "cell_type": "markdown",
   "metadata": {},
   "source": [
    "#### feature generation + feature selection"
   ]
  },
  {
   "cell_type": "code",
   "execution_count": 56,
   "metadata": {},
   "outputs": [
    {
     "name": "stdout",
     "output_type": "stream",
     "text": [
      "(426, 20)\n"
     ]
    },
    {
     "data": {
      "text/plain": [
       "0.993006993006993"
      ]
     },
     "execution_count": 56,
     "metadata": {},
     "output_type": "execute_result"
    }
   ],
   "source": [
    "select2 = SelectKBest(k=20)\n",
    "X_train_sc3_poly_fs2 = select2.fit(X_train_sc3_poly, y_train).transform(X_train_sc3_poly)\n",
    "X_test_sc3_poly_fs2 = select2.transform(X_test_sc3_poly)\n",
    "print(X_train_sc3_poly_fs2.shape)\n",
    "\n",
    "svm.fit(X_train_sc3_poly_fs2, y_train).score(X_test_sc3_poly_fs2, y_test)"
   ]
  },
  {
   "cell_type": "code",
   "execution_count": 57,
   "metadata": {},
   "outputs": [
    {
     "name": "stderr",
     "output_type": "stream",
     "text": [
      "/Users/hansol/miniforge3/envs/tf/lib/python3.8/site-packages/sklearn/utils/deprecation.py:87: FutureWarning: Function get_feature_names is deprecated; get_feature_names is deprecated in 1.0 and will be removed in 1.2. Please use get_feature_names_out instead.\n",
      "  warnings.warn(msg, category=FutureWarning)\n"
     ]
    },
    {
     "data": {
      "text/plain": [
       "array(['x0', 'x1', 'x2', 'x3', 'x5', 'x6', 'x7', 'x10', 'x12', 'x13',\n",
       "       'x17', 'x20', 'x21', 'x22', 'x23', 'x24', 'x25', 'x26', 'x27',\n",
       "       'x3 x10'], dtype='<U7')"
      ]
     },
     "execution_count": 57,
     "metadata": {},
     "output_type": "execute_result"
    }
   ],
   "source": [
    "mask = select2.get_support()\n",
    "np.array(poly.get_feature_names())[mask]"
   ]
  },
  {
   "cell_type": "markdown",
   "metadata": {},
   "source": [
    "## Etc."
   ]
  },
  {
   "cell_type": "markdown",
   "metadata": {},
   "source": [
    "<font color='blue'><p>\n",
    "#### Kaggle Competition에서 자주 사용되는 feature 생성방법(아래 pdf 참조)\n",
    "- https://drive.google.com/open?id=1HDZc1mDvtmpjg9YPpUN0koHeAiqTAHRw\n",
    "     \n",
    "<font color='blue'><p>\n",
    "#### 기타 [Discretization](http://scikit-learn.org/stable/modules/preprocessing.html#discretization)과 [Dimensionality reduction](http://scikit-learn.org/stable/modules/unsupervised_reduction.html) 등도 Feature Engineering에서 자주 사용되는 방법이다.   \n",
    "#### Automated Feature Engineering  \n",
    "- Feature Engineering의 자동화는 머신러닝 분야에서 급부상 하고 있는 연구주제\n",
    "- MIT는 Deep Feature Synthesis라는 알고리즘을 발표 (2015)\n",
    "    - 온라인 데이터 과학 대회에서 906개 참가팀 중 615개 팀을 이김으로써 그 효과를 입증 \n",
    "    - [Featuretools](https://www.featuretools.com/)라는 오픈 소스 라이브러리로 제공"
   ]
  },
  {
   "cell_type": "markdown",
   "metadata": {},
   "source": [
    "<font color=\"#CC3D3D\"><p>\n",
    "# End"
   ]
  }
 ],
 "metadata": {
  "colab": {
   "default_view": {},
   "name": "M4T2_Feature_Engineering_0921.ipynb",
   "provenance": [],
   "version": "0.3.2",
   "views": {}
  },
  "kernelspec": {
   "display_name": "Python 3 (ipykernel)",
   "language": "python",
   "name": "python3"
  },
  "language_info": {
   "codemirror_mode": {
    "name": "ipython",
    "version": 3
   },
   "file_extension": ".py",
   "mimetype": "text/x-python",
   "name": "python",
   "nbconvert_exporter": "python",
   "pygments_lexer": "ipython3",
   "version": "3.8.16"
  }
 },
 "nbformat": 4,
 "nbformat_minor": 4
}
