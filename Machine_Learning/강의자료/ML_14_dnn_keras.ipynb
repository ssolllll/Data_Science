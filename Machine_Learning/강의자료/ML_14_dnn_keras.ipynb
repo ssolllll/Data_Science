{
 "cells": [
  {
   "cell_type": "markdown",
   "metadata": {},
   "source": [
    "<font color='tomato'><font color=\"#CC3D3D\"><p>\n",
    "# How to Build Neural Networks using Keras\n",
    "https://www.tensorflow.org/tutorials?hl=ko    "
   ]
  },
  {
   "cell_type": "markdown",
   "metadata": {},
   "source": [
    "### Import modules"
   ]
  },
  {
   "cell_type": "code",
   "execution_count": 1,
   "metadata": {},
   "outputs": [
    {
     "name": "stdout",
     "output_type": "stream",
     "text": [
      "2.13.0-rc0\n"
     ]
    }
   ],
   "source": [
    "import pandas as pd\n",
    "import numpy as np\n",
    "import os\n",
    "import random\n",
    "import pickle\n",
    "from IPython.display import Image\n",
    "import seaborn as sns\n",
    "import matplotlib.pylab as plt\n",
    "from matplotlib import font_manager, rc\n",
    "%matplotlib inline\n",
    "\n",
    "import tensorflow as tf\n",
    "from tensorflow import keras\n",
    "print(tf.__version__)"
   ]
  },
  {
   "cell_type": "markdown",
   "metadata": {},
   "source": [
    "### Set random seeds to make your results reproducible"
   ]
  },
  {
   "cell_type": "code",
   "execution_count": 2,
   "metadata": {},
   "outputs": [
    {
     "name": "stdout",
     "output_type": "stream",
     "text": [
      "RANDOM SEEDS RESET\n"
     ]
    }
   ],
   "source": [
    "# 매번 모델링을 할 때마다 동일한 결과를 얻으려면 아래 코드를 실행해야 함.\n",
    "\n",
    "def reset_seeds(reset_graph_with_backend=None):\n",
    "    if reset_graph_with_backend is not None:\n",
    "        K = reset_graph_with_backend\n",
    "        K.clear_session()\n",
    "        tf.compat.v1.reset_default_graph()\n",
    "        print(\"KERAS AND TENSORFLOW GRAPHS RESET\")  # optional\n",
    "\n",
    "    np.random.seed(1)\n",
    "    random.seed(2)\n",
    "    tf.compat.v1.set_random_seed(3)\n",
    "    os.environ['CUDA_VISIBLE_DEVICES'] = ''  # for GPU\n",
    "    print(\"RANDOM SEEDS RESET\")  # optional\n",
    "   \n",
    "reset_seeds()"
   ]
  },
  {
   "cell_type": "markdown",
   "metadata": {},
   "source": [
    "### Step 1: Load and process the data"
   ]
  },
  {
   "cell_type": "markdown",
   "metadata": {},
   "source": [
    "##### Read data"
   ]
  },
  {
   "cell_type": "code",
   "execution_count": 3,
   "metadata": {},
   "outputs": [
    {
     "data": {
      "text/plain": [
       "((2450, 62), (1050, 62))"
      ]
     },
     "execution_count": 3,
     "metadata": {},
     "output_type": "execute_result"
    }
   ],
   "source": [
    "# 앞 단계(Feature Enginnering)에서 저장했던 훈련/평가/적용 데이터를 읽어온다.\n",
    "X_train, X_test, y_train, y_test, X_dep, ID_dep = pd.read_pickle('case3_train_test.pkl')\n",
    "\n",
    "# 모델링에 사용되는 최종 학습 및 평가 데이터 확인\n",
    "X_train.shape, X_test.shape"
   ]
  },
  {
   "cell_type": "markdown",
   "metadata": {},
   "source": [
    "##### Feature scaling"
   ]
  },
  {
   "cell_type": "code",
   "execution_count": 4,
   "metadata": {},
   "outputs": [],
   "source": [
    "#scaler = StandardScaler()\n",
    "#X_train = scaler.fit_transform(X_train)\n",
    "#X_test = scaler.transform(X_test)"
   ]
  },
  {
   "cell_type": "markdown",
   "metadata": {},
   "source": [
    "##### Split data into train & validation set "
   ]
  },
  {
   "cell_type": "code",
   "execution_count": 5,
   "metadata": {},
   "outputs": [],
   "source": [
    "# Train/Validation\n",
    "i = int(round(X_train.shape[0] * 0.8,0))\n",
    "X_valid, y_valid = X_train[i:], y_train[i:]\n",
    "X_train, y_train = X_train[:i], y_train[:i]"
   ]
  },
  {
   "cell_type": "markdown",
   "metadata": {},
   "source": [
    "### Step 2: Define the model architecture"
   ]
  },
  {
   "cell_type": "markdown",
   "metadata": {},
   "source": [
    "##### Stack layers from input to output"
   ]
  },
  {
   "cell_type": "markdown",
   "metadata": {},
   "source": [
    "|모듈|사용 예 및 종류|\n",
    "|---|:---:|\n",
    "|Initializer| Dense(16, kernel_initializer='he_normal')|\n",
    "|Regularizer| Dense(16, kernel_regularizer=l2(0.01))|\n",
    "|Activation|relu / elu / selu / softmax / tanh / sigmoid / linear|"
   ]
  },
  {
   "cell_type": "code",
   "execution_count": 6,
   "metadata": {},
   "outputs": [],
   "source": [
    "# Input => Dense + Dense + ... => output\n",
    "# Model(input, output)\n",
    "\n",
    "input = keras.Input(shape=(X_train.shape[1],))"
   ]
  },
  {
   "cell_type": "code",
   "execution_count": 7,
   "metadata": {},
   "outputs": [
    {
     "name": "stdout",
     "output_type": "stream",
     "text": [
      "Metal device set to: Apple M1 Pro\n"
     ]
    },
    {
     "name": "stderr",
     "output_type": "stream",
     "text": [
      "2023-05-23 00:04:10.659271: I tensorflow/core/common_runtime/pluggable_device/pluggable_device_factory.cc:303] Could not identify NUMA node of platform GPU ID 0, defaulting to 0. Your kernel may not have been built with NUMA support.\n",
      "2023-05-23 00:04:10.659478: I tensorflow/core/common_runtime/pluggable_device/pluggable_device_factory.cc:269] Created TensorFlow device (/job:localhost/replica:0/task:0/device:GPU:0 with 0 MB memory) -> physical PluggableDevice (device: 0, name: METAL, pci bus id: <undefined>)\n"
     ]
    }
   ],
   "source": [
    "x = keras.layers.Dense(16, activation='relu')(input)\n",
    "x = keras.layers.Dense(8, activation='relu')(x)\n",
    "output = keras.layers.Dense(1, activation='sigmoid')(x)\n",
    "model = keras.Model(input, output)"
   ]
  },
  {
   "cell_type": "markdown",
   "metadata": {},
   "source": [
    "*Keras Sequential API*\n",
    "```\n",
    "model = Sequential([\n",
    "  keras.layers.Dense(16, activation='relu', input_shape=(X_train.shape[1],)),\n",
    "  keras.layers.Dense(8),\n",
    "  keras.layers.Dense(1, activation='sigmoid')\n",
    "])\n",
    "```"
   ]
  },
  {
   "cell_type": "markdown",
   "metadata": {},
   "source": [
    "##### Summarize & visualize the model"
   ]
  },
  {
   "cell_type": "code",
   "execution_count": 8,
   "metadata": {},
   "outputs": [
    {
     "name": "stdout",
     "output_type": "stream",
     "text": [
      "Model: \"model\"\n",
      "_________________________________________________________________\n",
      " Layer (type)                Output Shape              Param #   \n",
      "=================================================================\n",
      " input_1 (InputLayer)        [(None, 62)]              0         \n",
      "                                                                 \n",
      " dense (Dense)               (None, 16)                1008      \n",
      "                                                                 \n",
      " dense_1 (Dense)             (None, 8)                 136       \n",
      "                                                                 \n",
      " dense_2 (Dense)             (None, 1)                 9         \n",
      "                                                                 \n",
      "=================================================================\n",
      "Total params: 1153 (4.50 KB)\n",
      "Trainable params: 1153 (4.50 KB)\n",
      "Non-trainable params: 0 (0.00 Byte)\n",
      "_________________________________________________________________\n"
     ]
    },
    {
     "data": {
      "image/png": "[encoded data removed]",
      "text/plain": [
       "<IPython.core.display.Image object>"
      ]
     },
     "execution_count": 8,
     "metadata": {},
     "output_type": "execute_result"
    }
   ],
   "source": [
    "model.summary()\n",
    "Image(keras.utils.model_to_dot(model,show_shapes=True,show_layer_names=False, dpi=100) \\\n",
    "      .create(prog='dot', format='png'))"
   ]
  },
  {
   "cell_type": "markdown",
   "metadata": {},
   "source": [
    "### Step 3: Choose the optimizer and the cost function\n",
    "<img align='left' src='http://drive.google.com/uc?export=view&id=1xybqHMvcDDfUYSN3FLQ6Y1708QkiZSJt' style=\"width: 70%\">"
   ]
  },
  {
   "cell_type": "markdown",
   "metadata": {},
   "source": [
    "*Optimizer의 예:*\n",
    "- keras.optimizers.SGD(lr=0.01, momentum=0.9)\n",
    "- keras.optimizers.RMSprop(lr=0.001, rho=0.9)\n",
    "- keras.optimizers.Adagrad(lr=0.01)\n",
    "- keras.optimizers.Adam(lr=0.001, beta_1=0.9, beta_2=0.999)"
   ]
  },
  {
   "cell_type": "code",
   "execution_count": 9,
   "metadata": {},
   "outputs": [],
   "source": [
    "# loss, optimizer, metrics 설정\n",
    "model.compile(loss='binary_crossentropy', optimizer='sgd', metrics=['acc', keras.metrics.AUC()])"
   ]
  },
  {
   "cell_type": "markdown",
   "metadata": {},
   "source": [
    "### Step 4: Train the model"
   ]
  },
  {
   "cell_type": "markdown",
   "metadata": {},
   "source": [
    "##### Set learning conditions & fit the model "
   ]
  },
  {
   "cell_type": "code",
   "execution_count": 11,
   "metadata": {
    "scrolled": true
   },
   "outputs": [
    {
     "name": "stdout",
     "output_type": "stream",
     "text": [
      "Epoch 1/50\n",
      "31/31 - 0s - loss: 0.5566 - acc: 0.7051 - auc: 0.7675 - val_loss: 0.5588 - val_acc: 0.6980 - val_auc: 0.7604 - 301ms/epoch - 10ms/step\n",
      "Epoch 2/50\n",
      "31/31 - 0s - loss: 0.5560 - acc: 0.7051 - auc: 0.7679 - val_loss: 0.5585 - val_acc: 0.6980 - val_auc: 0.7605 - 288ms/epoch - 9ms/step\n",
      "Epoch 3/50\n",
      "31/31 - 0s - loss: 0.5554 - acc: 0.7061 - auc: 0.7687 - val_loss: 0.5582 - val_acc: 0.7000 - val_auc: 0.7604 - 282ms/epoch - 9ms/step\n",
      "Epoch 4/50\n",
      "31/31 - 0s - loss: 0.5548 - acc: 0.7082 - auc: 0.7696 - val_loss: 0.5579 - val_acc: 0.6980 - val_auc: 0.7608 - 294ms/epoch - 9ms/step\n",
      "Epoch 5/50\n",
      "31/31 - 0s - loss: 0.5542 - acc: 0.7087 - auc: 0.7700 - val_loss: 0.5577 - val_acc: 0.7000 - val_auc: 0.7608 - 291ms/epoch - 9ms/step\n",
      "Epoch 6/50\n",
      "31/31 - 0s - loss: 0.5536 - acc: 0.7092 - auc: 0.7706 - val_loss: 0.5574 - val_acc: 0.6980 - val_auc: 0.7606 - 286ms/epoch - 9ms/step\n",
      "Epoch 7/50\n",
      "31/31 - 0s - loss: 0.5531 - acc: 0.7082 - auc: 0.7712 - val_loss: 0.5572 - val_acc: 0.7000 - val_auc: 0.7615 - 288ms/epoch - 9ms/step\n",
      "Epoch 8/50\n",
      "31/31 - 0s - loss: 0.5525 - acc: 0.7092 - auc: 0.7718 - val_loss: 0.5569 - val_acc: 0.6980 - val_auc: 0.7617 - 290ms/epoch - 9ms/step\n",
      "Epoch 9/50\n",
      "31/31 - 0s - loss: 0.5520 - acc: 0.7087 - auc: 0.7725 - val_loss: 0.5567 - val_acc: 0.7061 - val_auc: 0.7620 - 288ms/epoch - 9ms/step\n",
      "Epoch 10/50\n",
      "31/31 - 0s - loss: 0.5514 - acc: 0.7092 - auc: 0.7731 - val_loss: 0.5565 - val_acc: 0.7061 - val_auc: 0.7625 - 296ms/epoch - 10ms/step\n",
      "Epoch 11/50\n",
      "31/31 - 0s - loss: 0.5509 - acc: 0.7092 - auc: 0.7734 - val_loss: 0.5563 - val_acc: 0.7061 - val_auc: 0.7626 - 287ms/epoch - 9ms/step\n",
      "Epoch 12/50\n",
      "31/31 - 0s - loss: 0.5503 - acc: 0.7097 - auc: 0.7741 - val_loss: 0.5561 - val_acc: 0.7082 - val_auc: 0.7629 - 289ms/epoch - 9ms/step\n",
      "Epoch 13/50\n",
      "31/31 - 0s - loss: 0.5498 - acc: 0.7092 - auc: 0.7748 - val_loss: 0.5559 - val_acc: 0.7082 - val_auc: 0.7628 - 295ms/epoch - 10ms/step\n",
      "Epoch 14/50\n",
      "31/31 - 0s - loss: 0.5493 - acc: 0.7097 - auc: 0.7751 - val_loss: 0.5557 - val_acc: 0.7102 - val_auc: 0.7630 - 310ms/epoch - 10ms/step\n",
      "Epoch 15/50\n",
      "31/31 - 0s - loss: 0.5488 - acc: 0.7092 - auc: 0.7758 - val_loss: 0.5556 - val_acc: 0.7082 - val_auc: 0.7635 - 300ms/epoch - 10ms/step\n",
      "Epoch 16/50\n",
      "31/31 - 0s - loss: 0.5483 - acc: 0.7097 - auc: 0.7763 - val_loss: 0.5554 - val_acc: 0.7061 - val_auc: 0.7632 - 297ms/epoch - 10ms/step\n",
      "Epoch 17/50\n",
      "31/31 - 0s - loss: 0.5478 - acc: 0.7097 - auc: 0.7767 - val_loss: 0.5552 - val_acc: 0.7061 - val_auc: 0.7635 - 288ms/epoch - 9ms/step\n",
      "Epoch 18/50\n",
      "31/31 - 0s - loss: 0.5473 - acc: 0.7097 - auc: 0.7772 - val_loss: 0.5551 - val_acc: 0.7061 - val_auc: 0.7640 - 321ms/epoch - 10ms/step\n",
      "Epoch 19/50\n",
      "31/31 - 0s - loss: 0.5468 - acc: 0.7102 - auc: 0.7776 - val_loss: 0.5549 - val_acc: 0.7061 - val_auc: 0.7642 - 291ms/epoch - 9ms/step\n",
      "Epoch 20/50\n",
      "31/31 - 0s - loss: 0.5463 - acc: 0.7102 - auc: 0.7781 - val_loss: 0.5548 - val_acc: 0.7082 - val_auc: 0.7648 - 281ms/epoch - 9ms/step\n",
      "Epoch 21/50\n",
      "31/31 - 0s - loss: 0.5459 - acc: 0.7107 - auc: 0.7785 - val_loss: 0.5546 - val_acc: 0.7082 - val_auc: 0.7648 - 307ms/epoch - 10ms/step\n",
      "Epoch 22/50\n",
      "31/31 - 0s - loss: 0.5454 - acc: 0.7107 - auc: 0.7788 - val_loss: 0.5545 - val_acc: 0.7082 - val_auc: 0.7650 - 287ms/epoch - 9ms/step\n",
      "Epoch 23/50\n",
      "31/31 - 0s - loss: 0.5450 - acc: 0.7102 - auc: 0.7794 - val_loss: 0.5544 - val_acc: 0.7082 - val_auc: 0.7650 - 287ms/epoch - 9ms/step\n",
      "Epoch 24/50\n",
      "31/31 - 0s - loss: 0.5445 - acc: 0.7112 - auc: 0.7798 - val_loss: 0.5542 - val_acc: 0.7082 - val_auc: 0.7652 - 288ms/epoch - 9ms/step\n",
      "Epoch 25/50\n",
      "31/31 - 0s - loss: 0.5441 - acc: 0.7117 - auc: 0.7802 - val_loss: 0.5541 - val_acc: 0.7082 - val_auc: 0.7651 - 290ms/epoch - 9ms/step\n",
      "Epoch 26/50\n",
      "31/31 - 0s - loss: 0.5436 - acc: 0.7117 - auc: 0.7806 - val_loss: 0.5540 - val_acc: 0.7102 - val_auc: 0.7653 - 289ms/epoch - 9ms/step\n",
      "Epoch 27/50\n",
      "31/31 - 0s - loss: 0.5432 - acc: 0.7122 - auc: 0.7809 - val_loss: 0.5539 - val_acc: 0.7102 - val_auc: 0.7658 - 283ms/epoch - 9ms/step\n",
      "Epoch 28/50\n",
      "31/31 - 0s - loss: 0.5428 - acc: 0.7117 - auc: 0.7813 - val_loss: 0.5537 - val_acc: 0.7102 - val_auc: 0.7657 - 278ms/epoch - 9ms/step\n",
      "Epoch 29/50\n",
      "31/31 - 0s - loss: 0.5423 - acc: 0.7133 - auc: 0.7818 - val_loss: 0.5536 - val_acc: 0.7102 - val_auc: 0.7656 - 277ms/epoch - 9ms/step\n",
      "Epoch 30/50\n",
      "31/31 - 0s - loss: 0.5419 - acc: 0.7122 - auc: 0.7823 - val_loss: 0.5535 - val_acc: 0.7102 - val_auc: 0.7658 - 282ms/epoch - 9ms/step\n",
      "Epoch 31/50\n",
      "31/31 - 0s - loss: 0.5415 - acc: 0.7138 - auc: 0.7826 - val_loss: 0.5534 - val_acc: 0.7102 - val_auc: 0.7660 - 310ms/epoch - 10ms/step\n",
      "Epoch 32/50\n",
      "31/31 - 0s - loss: 0.5411 - acc: 0.7143 - auc: 0.7830 - val_loss: 0.5533 - val_acc: 0.7122 - val_auc: 0.7658 - 282ms/epoch - 9ms/step\n",
      "Epoch 33/50\n",
      "31/31 - 0s - loss: 0.5407 - acc: 0.7153 - auc: 0.7834 - val_loss: 0.5532 - val_acc: 0.7143 - val_auc: 0.7663 - 278ms/epoch - 9ms/step\n",
      "Epoch 34/50\n",
      "31/31 - 0s - loss: 0.5403 - acc: 0.7153 - auc: 0.7837 - val_loss: 0.5531 - val_acc: 0.7143 - val_auc: 0.7666 - 275ms/epoch - 9ms/step\n",
      "Epoch 35/50\n",
      "31/31 - 0s - loss: 0.5399 - acc: 0.7163 - auc: 0.7841 - val_loss: 0.5530 - val_acc: 0.7143 - val_auc: 0.7667 - 273ms/epoch - 9ms/step\n",
      "Epoch 36/50\n",
      "31/31 - 0s - loss: 0.5395 - acc: 0.7163 - auc: 0.7845 - val_loss: 0.5529 - val_acc: 0.7143 - val_auc: 0.7666 - 270ms/epoch - 9ms/step\n",
      "Epoch 37/50\n",
      "31/31 - 0s - loss: 0.5391 - acc: 0.7163 - auc: 0.7847 - val_loss: 0.5528 - val_acc: 0.7122 - val_auc: 0.7666 - 279ms/epoch - 9ms/step\n",
      "Epoch 38/50\n",
      "31/31 - 0s - loss: 0.5387 - acc: 0.7163 - auc: 0.7851 - val_loss: 0.5528 - val_acc: 0.7122 - val_auc: 0.7669 - 273ms/epoch - 9ms/step\n",
      "Epoch 39/50\n",
      "31/31 - 0s - loss: 0.5383 - acc: 0.7173 - auc: 0.7855 - val_loss: 0.5527 - val_acc: 0.7163 - val_auc: 0.7671 - 273ms/epoch - 9ms/step\n",
      "Epoch 40/50\n",
      "31/31 - 0s - loss: 0.5380 - acc: 0.7173 - auc: 0.7859 - val_loss: 0.5526 - val_acc: 0.7163 - val_auc: 0.7672 - 271ms/epoch - 9ms/step\n",
      "Epoch 41/50\n",
      "31/31 - 0s - loss: 0.5376 - acc: 0.7173 - auc: 0.7864 - val_loss: 0.5525 - val_acc: 0.7163 - val_auc: 0.7673 - 273ms/epoch - 9ms/step\n",
      "Epoch 42/50\n",
      "31/31 - 0s - loss: 0.5372 - acc: 0.7179 - auc: 0.7868 - val_loss: 0.5524 - val_acc: 0.7143 - val_auc: 0.7672 - 270ms/epoch - 9ms/step\n",
      "Epoch 43/50\n",
      "31/31 - 0s - loss: 0.5369 - acc: 0.7179 - auc: 0.7872 - val_loss: 0.5523 - val_acc: 0.7143 - val_auc: 0.7675 - 274ms/epoch - 9ms/step\n",
      "Epoch 44/50\n",
      "31/31 - 0s - loss: 0.5365 - acc: 0.7179 - auc: 0.7875 - val_loss: 0.5523 - val_acc: 0.7143 - val_auc: 0.7676 - 273ms/epoch - 9ms/step\n",
      "Epoch 45/50\n",
      "31/31 - 0s - loss: 0.5361 - acc: 0.7189 - auc: 0.7878 - val_loss: 0.5522 - val_acc: 0.7143 - val_auc: 0.7682 - 271ms/epoch - 9ms/step\n",
      "Epoch 46/50\n",
      "31/31 - 0s - loss: 0.5358 - acc: 0.7199 - auc: 0.7882 - val_loss: 0.5521 - val_acc: 0.7143 - val_auc: 0.7680 - 275ms/epoch - 9ms/step\n",
      "Epoch 47/50\n",
      "31/31 - 0s - loss: 0.5354 - acc: 0.7214 - auc: 0.7885 - val_loss: 0.5521 - val_acc: 0.7163 - val_auc: 0.7681 - 271ms/epoch - 9ms/step\n",
      "Epoch 48/50\n",
      "31/31 - 0s - loss: 0.5350 - acc: 0.7219 - auc: 0.7888 - val_loss: 0.5520 - val_acc: 0.7184 - val_auc: 0.7681 - 273ms/epoch - 9ms/step\n",
      "Epoch 49/50\n",
      "31/31 - 0s - loss: 0.5347 - acc: 0.7224 - auc: 0.7892 - val_loss: 0.5519 - val_acc: 0.7204 - val_auc: 0.7684 - 278ms/epoch - 9ms/step\n",
      "Epoch 50/50\n",
      "31/31 - 0s - loss: 0.5343 - acc: 0.7219 - auc: 0.7895 - val_loss: 0.5518 - val_acc: 0.7204 - val_auc: 0.7683 - 293ms/epoch - 9ms/step\n"
     ]
    }
   ],
   "source": [
    "# batch size, epoch, 조기종료조건 등 설정\n",
    "callbacks = [keras.callbacks.EarlyStopping(monitor='val_loss', patience=5),]\n",
    "# keras.callbacks.ModelCheckpoint(filepath='best_nn_model.h5', monitor='val_loss', save_best_only=True)]\n",
    "\n",
    "hist = model.fit(X_train, y_train, validation_data=(X_valid, y_valid), \n",
    "                 batch_size=64, epochs=50, callbacks=callbacks, shuffle=False, verbose=2)"
   ]
  },
  {
   "cell_type": "markdown",
   "metadata": {},
   "source": [
    "##### Visualize training history "
   ]
  },
  {
   "cell_type": "code",
   "execution_count": 12,
   "metadata": {},
   "outputs": [
    {
     "data": {
      "image/png": "[encoded data removed]",
      "text/plain": [
       "<Figure size 640x480 with 1 Axes>"
      ]
     },
     "metadata": {},
     "output_type": "display_data"
    },
    {
     "data": {
      "image/png": "[encoded data removed]",
      "text/plain": [
       "<Figure size 640x480 with 1 Axes>"
      ]
     },
     "metadata": {},
     "output_type": "display_data"
    }
   ],
   "source": [
    "# Loss\n",
    "plt.plot(hist.history[\"loss\"], label=\"train\")\n",
    "plt.plot(hist.history[\"val_loss\"], label=\"validation\")\n",
    "plt.legend()\n",
    "plt.xlabel('epoch')\n",
    "plt.title(\"Loss\")\n",
    "plt.show()\n",
    "\n",
    "# ROC-AUC\n",
    "plt.plot(hist.history[\"auc\"], label=\"train\")\n",
    "plt.plot(hist.history[\"val_auc\"], label=\"validation\")\n",
    "plt.legend()\n",
    "plt.xlabel('epoch')\n",
    "plt.title(\"ROC-AUC\")\n",
    "plt.show()"
   ]
  },
  {
   "cell_type": "markdown",
   "metadata": {},
   "source": [
    "### Step 5: Evaluate the model performance"
   ]
  },
  {
   "cell_type": "code",
   "execution_count": 13,
   "metadata": {},
   "outputs": [
    {
     "name": "stdout",
     "output_type": "stream",
     "text": [
      "33/33 [==============================] - 0s 9ms/step - loss: 0.5644 - acc: 0.7076 - auc: 0.7520\n"
     ]
    },
    {
     "data": {
      "text/plain": [
       "[0.5643634796142578, 0.7076190710067749, 0.7519523501396179]"
      ]
     },
     "execution_count": 13,
     "metadata": {},
     "output_type": "execute_result"
    }
   ],
   "source": [
    "# Loss, Accuracy & ROC-AUC\n",
    "model.evaluate(X_test, y_test)"
   ]
  },
  {
   "cell_type": "markdown",
   "metadata": {},
   "source": [
    "### Step 6: Predict unseen data"
   ]
  },
  {
   "cell_type": "code",
   "execution_count": 14,
   "metadata": {},
   "outputs": [
    {
     "name": "stdout",
     "output_type": "stream",
     "text": [
      "78/78 [==============================] - 0s 2ms/step\n"
     ]
    },
    {
     "name": "stderr",
     "output_type": "stream",
     "text": [
      "2023-05-23 00:09:44.161281: I tensorflow/core/grappler/optimizers/custom_graph_optimizer_registry.cc:114] Plugin optimizer for device_type GPU is enabled.\n"
     ]
    },
    {
     "data": {
      "text/plain": [
       "array([0.80318457, 0.27455544, 0.10419507, ..., 0.6845905 , 0.213498  ,\n",
       "       0.58319426], dtype=float32)"
      ]
     },
     "execution_count": 14,
     "metadata": {},
     "output_type": "execute_result"
    }
   ],
   "source": [
    "# Generates output predictions for the input samples\n",
    "model.predict(X_dep).flatten()"
   ]
  },
  {
   "cell_type": "code",
   "execution_count": 15,
   "metadata": {},
   "outputs": [
    {
     "name": "stdout",
     "output_type": "stream",
     "text": [
      "78/78 [==============================] - 0s 2ms/step\n"
     ]
    },
    {
     "data": {
      "text/plain": [
       "array([1, 0, 0, ..., 1, 0, 1])"
      ]
     },
     "execution_count": 15,
     "metadata": {},
     "output_type": "execute_result"
    }
   ],
   "source": [
    "# Get class labels\n",
    "np.where(model.predict(X_dep) > 0.5, 1, 0).flatten()"
   ]
  },
  {
   "cell_type": "code",
   "execution_count": 16,
   "metadata": {},
   "outputs": [
    {
     "name": "stdout",
     "output_type": "stream",
     "text": [
      "78/78 [==============================] - 0s 2ms/step\n",
      "'dnn_submission_05230009.csv' is ready to submit.\n"
     ]
    }
   ],
   "source": [
    "# Make submissions: (결과) 0.762053\n",
    "t = pd.Timestamp.now()\n",
    "fname = f\"dnn_submission_{t.month:02}{t.day:02}{t.hour:02}{t.minute:02}.csv\"\n",
    "pd.DataFrame({'cust_id': ID_dep, 'gender': model.predict(X_dep).flatten()}).to_csv(fname, index=False)\n",
    "print(f\"'{fname}' is ready to submit.\")"
   ]
  },
  {
   "cell_type": "markdown",
   "metadata": {},
   "source": [
    "###  Step 7: Save the model for future use"
   ]
  },
  {
   "cell_type": "code",
   "execution_count": 17,
   "metadata": {},
   "outputs": [],
   "source": [
    "# pickle 형식으로 저장\n",
    "# with open('nn_model.pkl', 'wb') as f:\n",
    "#    pickle.dump(model, f)\n",
    "\n",
    "# 추후 저장한 모형 불러올 때: \n",
    "# model = pd.read_pickle('nn_model.pkl')"
   ]
  },
  {
   "cell_type": "code",
   "execution_count": 18,
   "metadata": {},
   "outputs": [],
   "source": [
    "# h5 형식으로 저장\n",
    "# model.save('nn_model.h5')\n",
    "\n",
    "# 추후 저장한 모형 불러올 때: \n",
    "# model = load_model('nn_model.h5')"
   ]
  },
  {
   "cell_type": "markdown",
   "metadata": {},
   "source": [
    "<font color=\"#CC3D3D\"><p>\n",
    "# End"
   ]
  }
 ],
 "metadata": {
  "kernelspec": {
   "display_name": "Python 3 (ipykernel)",
   "language": "python",
   "name": "python3"
  },
  "language_info": {
   "codemirror_mode": {
    "name": "ipython",
    "version": 3
   },
   "file_extension": ".py",
   "mimetype": "text/x-python",
   "name": "python",
   "nbconvert_exporter": "python",
   "pygments_lexer": "ipython3",
   "version": "3.8.16"
  }
 },
 "nbformat": 4,
 "nbformat_minor": 4
}
