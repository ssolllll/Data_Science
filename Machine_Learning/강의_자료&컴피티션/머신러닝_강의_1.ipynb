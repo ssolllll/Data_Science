{
 "cells": [
  {
   "cell_type": "markdown",
   "metadata": {
    "_uuid": "93b41229599509f643f1c1df3b86b3f79b66666f"
   },
   "source": [
    "<font color='tomato'><font color=\"#CC3D3D\"><p>\n",
    "# AutoEncoder\n",
    "* Applying Autoencoder to reduce the number of features"
   ]
  },
  {
   "cell_type": "markdown",
   "metadata": {},
   "source": [
    "#### Imports"
   ]
  },
  {
   "cell_type": "code",
   "execution_count": 1,
   "metadata": {
    "_cell_guid": "79c7e3d0-c299-4dcb-8224-4455121ee9b0",
    "_uuid": "d629ff2d2480ee46fbb7e2d37f6b5fab8052498a",
    "scrolled": true
   },
   "outputs": [
    {
     "name": "stdout",
     "output_type": "stream",
     "text": [
      "2.1.2\n"
     ]
    },
    {
     "name": "stderr",
     "output_type": "stream",
     "text": [
      "Using TensorFlow backend.\n"
     ]
    }
   ],
   "source": [
    "import pandas as pd\n",
    "import numpy as np\n",
    "import os\n",
    "import random\n",
    "import pickle\n",
    "from IPython.display import Image\n",
    "import seaborn as sns\n",
    "import matplotlib.pylab as plt\n",
    "from matplotlib import font_manager, rc\n",
    "%matplotlib inline\n",
    "from sklearn.preprocessing import StandardScaler\n",
    "\n",
    "import tensorflow as tf\n",
    "from tensorflow import keras\n",
    "import keras.backend as K\n",
    "from tensorflow.keras import layers\n",
    "from tensorflow.keras import regularizers\n",
    "\n",
    "print(tf.__version__)"
   ]
  },
  {
   "cell_type": "markdown",
   "metadata": {},
   "source": [
    "#### Make DNN output reproducible"
   ]
  },
  {
   "cell_type": "code",
   "execution_count": 2,
   "metadata": {},
   "outputs": [
    {
     "name": "stdout",
     "output_type": "stream",
     "text": [
      "RANDOM SEEDS RESET\n"
     ]
    }
   ],
   "source": [
    "# 시드 고정\n",
    "\n",
    "def reset_seeds(reset_graph_with_backend=None):\n",
    "    if reset_graph_with_backend is not None:\n",
    "        K = reset_graph_with_backend\n",
    "        K.clear_session()\n",
    "        tf.compat.v1.reset_default_graph()\n",
    "        print(\"KERAS AND TENSORFLOW GRAPHS RESET\")  # optional\n",
    "\n",
    "    np.random.seed(415)\n",
    "    random.seed(415)\n",
    "    tf.compat.v1.set_random_seed(415)\n",
    "    os.environ['CUDA_VISIBLE_DEVICES'] = ''  # for GPU\n",
    "    print(\"RANDOM SEEDS RESET\")  # optional\n",
    "   \n",
    "reset_seeds()"
   ]
  },
  {
   "cell_type": "markdown",
   "metadata": {
    "_uuid": "dd7e3527fd56e5b5855c6846ca226f5f860f725b"
   },
   "source": [
    "### Read Data"
   ]
  },
  {
   "cell_type": "code",
   "execution_count": 3,
   "metadata": {
    "_uuid": "794123064b09797f51add356a676fb6a7aed015d",
    "scrolled": true
   },
   "outputs": [
    {
     "data": {
      "text/html": [
       "<div>\n",
       "<style scoped>\n",
       "    .dataframe tbody tr th:only-of-type {\n",
       "        vertical-align: middle;\n",
       "    }\n",
       "\n",
       "    .dataframe tbody tr th {\n",
       "        vertical-align: top;\n",
       "    }\n",
       "\n",
       "    .dataframe thead th {\n",
       "        text-align: right;\n",
       "    }\n",
       "</style>\n",
       "<table border=\"1\" class=\"dataframe\">\n",
       "  <thead>\n",
       "    <tr style=\"text-align: right;\">\n",
       "      <th></th>\n",
       "      <th>cust_id</th>\n",
       "      <th>tran_date</th>\n",
       "      <th>store_nm</th>\n",
       "      <th>goods_id</th>\n",
       "      <th>gds_grp_nm</th>\n",
       "      <th>gds_grp_mclas_nm</th>\n",
       "      <th>amount</th>\n",
       "    </tr>\n",
       "  </thead>\n",
       "  <tbody>\n",
       "    <tr>\n",
       "      <th>0</th>\n",
       "      <td>0</td>\n",
       "      <td>2007-01-19 00:00:00</td>\n",
       "      <td>강남점</td>\n",
       "      <td>127105</td>\n",
       "      <td>기초 화장품</td>\n",
       "      <td>화장품</td>\n",
       "      <td>850000</td>\n",
       "    </tr>\n",
       "    <tr>\n",
       "      <th>1</th>\n",
       "      <td>0</td>\n",
       "      <td>2007-03-30 00:00:00</td>\n",
       "      <td>강남점</td>\n",
       "      <td>342220</td>\n",
       "      <td>니  트</td>\n",
       "      <td>시티웨어</td>\n",
       "      <td>480000</td>\n",
       "    </tr>\n",
       "    <tr>\n",
       "      <th>2</th>\n",
       "      <td>0</td>\n",
       "      <td>2007-03-30 00:00:00</td>\n",
       "      <td>강남점</td>\n",
       "      <td>127105</td>\n",
       "      <td>기초 화장품</td>\n",
       "      <td>화장품</td>\n",
       "      <td>3000000</td>\n",
       "    </tr>\n",
       "    <tr>\n",
       "      <th>3</th>\n",
       "      <td>0</td>\n",
       "      <td>2007-03-30 00:00:00</td>\n",
       "      <td>강남점</td>\n",
       "      <td>342205</td>\n",
       "      <td>니  트</td>\n",
       "      <td>시티웨어</td>\n",
       "      <td>840000</td>\n",
       "    </tr>\n",
       "    <tr>\n",
       "      <th>4</th>\n",
       "      <td>0</td>\n",
       "      <td>2007-03-30 00:00:00</td>\n",
       "      <td>강남점</td>\n",
       "      <td>342220</td>\n",
       "      <td>상품군미지정</td>\n",
       "      <td>기타</td>\n",
       "      <td>20000</td>\n",
       "    </tr>\n",
       "  </tbody>\n",
       "</table>\n",
       "</div>"
      ],
      "text/plain": [
       "   cust_id            tran_date store_nm  goods_id gds_grp_nm  \\\n",
       "0        0  2007-01-19 00:00:00      강남점    127105     기초 화장품   \n",
       "1        0  2007-03-30 00:00:00      강남점    342220       니  트   \n",
       "2        0  2007-03-30 00:00:00      강남점    127105     기초 화장품   \n",
       "3        0  2007-03-30 00:00:00      강남점    342205       니  트   \n",
       "4        0  2007-03-30 00:00:00      강남점    342220     상품군미지정   \n",
       "\n",
       "  gds_grp_mclas_nm   amount  \n",
       "0              화장품   850000  \n",
       "1             시티웨어   480000  \n",
       "2              화장품  3000000  \n",
       "3             시티웨어   840000  \n",
       "4               기타    20000  "
      ]
     },
     "execution_count": 3,
     "metadata": {},
     "output_type": "execute_result"
    }
   ],
   "source": [
    "tr_train = pd.read_csv(os.path.abspath(\"../dat\")+'/train_transactions.csv', encoding='cp949')\n",
    "tr_test = pd.read_csv(os.path.abspath(\"../dat\")+'/test_transactions.csv', encoding='cp949')\n",
    "y_train = pd.read_csv(os.path.abspath(\"../dat\")+'/y_train.csv').gender\n",
    "IDtest = tr_test.cust_id.unique()\n",
    "\n",
    "tr_train.head()"
   ]
  },
  {
   "cell_type": "markdown",
   "metadata": {
    "_uuid": "8fdb273f73bbee0a8f11b33be46446b6825e9b6a"
   },
   "source": [
    "### Make BOW-based Features"
   ]
  },
  {
   "cell_type": "code",
   "execution_count": 4,
   "metadata": {
    "_uuid": "e258620d0d00d3a2924a9b041c4fd2bef5ab2ed9",
    "scrolled": true
   },
   "outputs": [
    {
     "data": {
      "text/plain": [
       "((3500, 4179), (2482, 4179))"
      ]
     },
     "execution_count": 4,
     "metadata": {},
     "output_type": "execute_result"
    }
   ],
   "source": [
    "features = ['goods_id', 'gds_grp_nm', 'gds_grp_mclas_nm']\n",
    "\n",
    "tr_all = pd.concat([tr_train, tr_test])\n",
    "train = []\n",
    "test = []\n",
    "\n",
    "for f in features:\n",
    "    for d,q in zip([train, test], ['cust_id not in @IDtest', 'cust_id in @IDtest']):\n",
    "        d.append(pd.pivot_table(tr_all, index='cust_id', columns=f, values='amount',\n",
    "                                aggfunc=lambda x: np.where(len(x) >=1, 1, 0), fill_value=0)                 \n",
    "                 .reset_index()\n",
    "                 .query(q)\n",
    "                 .drop(columns=['cust_id']).values)\n",
    " \n",
    "train, test = np.hstack(train),  np.hstack(test)\n",
    "\n",
    "train.shape, test.shape"
   ]
  },
  {
   "cell_type": "markdown",
   "metadata": {
    "_uuid": "e164a8c9f319c2d69804b54236e55b98fa9fdef5"
   },
   "source": [
    "### Reduce Dimensionality using Autoencoder"
   ]
  },
  {
   "cell_type": "code",
   "execution_count": 5,
   "metadata": {},
   "outputs": [],
   "source": [
    "he_avg_init = keras.initializers.VarianceScaling(scale=2., mode='fan_avg',\n",
    "distribution='uniform')"
   ]
  },
  {
   "cell_type": "code",
   "execution_count": 6,
   "metadata": {
    "_uuid": "9b9fb17eaecd326dea504e129f4cf43ea7c11cea",
    "scrolled": true
   },
   "outputs": [
    {
     "name": "stdout",
     "output_type": "stream",
     "text": [
      "Model: \"model\"\n",
      "_________________________________________________________________\n",
      "Layer (type)                 Output Shape              Param #   \n",
      "=================================================================\n",
      "input_1 (InputLayer)         [(None, 4179)]            0         \n",
      "_________________________________________________________________\n",
      "dropout (Dropout)            (None, 4179)              0         \n",
      "_________________________________________________________________\n",
      "dense (Dense)                (None, 512)               2140160   \n",
      "_________________________________________________________________\n",
      "dense_1 (Dense)              (None, 256)               131328    \n",
      "_________________________________________________________________\n",
      "dense_2 (Dense)              (None, 128)               32896     \n",
      "_________________________________________________________________\n",
      "dense_3 (Dense)              (None, 128)               16512     \n",
      "_________________________________________________________________\n",
      "dense_4 (Dense)              (None, 128)               16512     \n",
      "_________________________________________________________________\n",
      "dense_5 (Dense)              (None, 256)               33024     \n",
      "_________________________________________________________________\n",
      "dense_6 (Dense)              (None, 512)               131584    \n",
      "_________________________________________________________________\n",
      "dense_7 (Dense)              (None, 4179)              2143827   \n",
      "=================================================================\n",
      "Total params: 4,645,843\n",
      "Trainable params: 4,645,843\n",
      "Non-trainable params: 0\n",
      "_________________________________________________________________\n",
      "Train on 3500 samples, validate on 2482 samples\n",
      "Epoch 1/20\n",
      "3500/3500 [==============================] - 1s 384us/sample - loss: 0.0099 - val_loss: 0.0095\n",
      "Epoch 2/20\n",
      "3500/3500 [==============================] - 1s 248us/sample - loss: 0.0090 - val_loss: 0.0091\n",
      "Epoch 3/20\n",
      "3500/3500 [==============================] - 1s 245us/sample - loss: 0.0087 - val_loss: 0.0089\n",
      "Epoch 4/20\n",
      "3500/3500 [==============================] - 1s 247us/sample - loss: 0.0085 - val_loss: 0.0087\n",
      "Epoch 5/20\n",
      "3500/3500 [==============================] - 1s 248us/sample - loss: 0.0084 - val_loss: 0.0086\n",
      "Epoch 6/20\n",
      "3500/3500 [==============================] - 1s 245us/sample - loss: 0.0083 - val_loss: 0.0085\n",
      "Epoch 7/20\n",
      "3500/3500 [==============================] - 1s 246us/sample - loss: 0.0082 - val_loss: 0.0085\n",
      "Epoch 8/20\n",
      "3500/3500 [==============================] - 1s 252us/sample - loss: 0.0081 - val_loss: 0.0084\n",
      "Epoch 9/20\n",
      "3500/3500 [==============================] - 1s 246us/sample - loss: 0.0081 - val_loss: 0.0083\n",
      "Epoch 10/20\n",
      "3500/3500 [==============================] - 1s 243us/sample - loss: 0.0080 - val_loss: 0.0083\n",
      "Epoch 11/20\n",
      "3500/3500 [==============================] - 1s 247us/sample - loss: 0.0079 - val_loss: 0.0083\n",
      "Epoch 12/20\n",
      "3500/3500 [==============================] - 1s 244us/sample - loss: 0.0079 - val_loss: 0.0082\n",
      "Epoch 13/20\n",
      "3500/3500 [==============================] - 1s 247us/sample - loss: 0.0078 - val_loss: 0.0082\n",
      "Epoch 14/20\n",
      "3500/3500 [==============================] - 1s 245us/sample - loss: 0.0078 - val_loss: 0.0082\n",
      "Epoch 15/20\n",
      "3500/3500 [==============================] - 1s 255us/sample - loss: 0.0077 - val_loss: 0.0081\n",
      "Epoch 16/20\n",
      "3500/3500 [==============================] - 1s 253us/sample - loss: 0.0077 - val_loss: 0.0081\n",
      "Epoch 17/20\n",
      "3500/3500 [==============================] - 1s 247us/sample - loss: 0.0077 - val_loss: 0.0081\n",
      "Epoch 18/20\n",
      "3500/3500 [==============================] - 1s 247us/sample - loss: 0.0076 - val_loss: 0.0081\n",
      "Epoch 19/20\n",
      "3500/3500 [==============================] - 1s 259us/sample - loss: 0.0076 - val_loss: 0.0081\n",
      "Epoch 20/20\n",
      "3500/3500 [==============================] - 1s 258us/sample - loss: 0.0076 - val_loss: 0.0081\n"
     ]
    },
    {
     "data": {
      "image/png": "[encoded data removed]",
      "text/plain": [
       "<Figure size 432x288 with 1 Axes>"
      ]
     },
     "metadata": {
      "needs_background": "light"
     },
     "output_type": "display_data"
    }
   ],
   "source": [
    "# Define the number of features\n",
    "max_features = train.shape[1]\n",
    "\n",
    "# Define the encoder dimension\n",
    "encoding_dim = 128\n",
    "\n",
    "# Input Layer\n",
    "input_dim = keras.Input(shape = (max_features, ))\n",
    "\n",
    "# Encoder Layers\n",
    "noise = keras.layers.Dropout(0.5)(input_dim) # for Denoising\n",
    "encoded1 = keras.layers.Dense(512, activation = 'relu', kernel_initializer= he_avg_init)(noise)\n",
    "encoded2 = keras.layers.Dense(256, activation = 'relu', kernel_initializer= he_avg_init)(encoded1)\n",
    "encoded3 = keras.layers.Dense(128, activation = 'relu', kernel_initializer= he_avg_init)(encoded2)\n",
    "encoded4 = keras.layers.Dense(encoding_dim, activation = 'relu', kernel_initializer= he_avg_init)(encoded3)\n",
    "\n",
    "# Decoder Layers\n",
    "decoded1 = keras.layers.Dense(128, activation = 'elu')(encoded4)\n",
    "decoded2 = keras.layers.Dense(256, activation = 'elu')(decoded1)\n",
    "decoded3 = keras.layers.Dense(512, activation = 'elu')(decoded2)\n",
    "decoded4 = keras.layers.Dense(max_features, activation = 'linear')(decoded3)\n",
    "\n",
    "# Combine Encoder and Deocder layers\n",
    "autoencoder = keras.Model(inputs = input_dim, outputs = decoded4)\n",
    "autoencoder.summary()\n",
    "\n",
    "# Compile the model\n",
    "autoencoder.compile(optimizer=keras.optimizers.Adam(lr=0.001, decay=1e-8), loss = 'mse')\n",
    "\n",
    "# Train the model\n",
    "history = autoencoder.fit(train, train, epochs=20, batch_size=64, \n",
    "                          shuffle=True, validation_data=(test,test))\n",
    "\n",
    "plt.plot(history.history[\"loss\"], label=\"train loss\")\n",
    "plt.plot(history.history[\"val_loss\"], label=\"validation loss\")\n",
    "plt.legend()\n",
    "plt.title(\"Loss\")\n",
    "plt.show()"
   ]
  },
  {
   "cell_type": "code",
   "execution_count": 7,
   "metadata": {
    "_uuid": "6dd0e229a627e051f3141d4bb3c3d9970953dba0"
   },
   "outputs": [
    {
     "data": {
      "text/plain": [
       "((3500, 128), (2482, 128))"
      ]
     },
     "execution_count": 7,
     "metadata": {},
     "output_type": "execute_result"
    }
   ],
   "source": [
    "# Use a middle Bottleneck Layer to Reduce Dimension\n",
    "hidden_act = [encoded4]\n",
    "for ix, act in enumerate(hidden_act):\n",
    "    model = keras.Model(inputs=input_dim, outputs=act)\n",
    "    if ix == 0: \n",
    "        X_train = model.predict(train)\n",
    "        X_test = model.predict(test)\n",
    "    else:\n",
    "        X_train = np.hstack([X_train, model.predict(train)])\n",
    "        X_test = np.hstack([X_test, model.predict(test)])\n",
    "        \n",
    "X_train.shape, X_test.shape"
   ]
  },
  {
   "cell_type": "markdown",
   "metadata": {
    "_uuid": "756511749ed6b1dcd34e791c15f041d4e47f9df4"
   },
   "source": [
    "### Build Models"
   ]
  },
  {
   "cell_type": "code",
   "execution_count": 8,
   "metadata": {
    "_uuid": "5e470379b59e72b66cc024f62ba5ac514f7cf15b"
   },
   "outputs": [
    {
     "name": "stdout",
     "output_type": "stream",
     "text": [
      "Model: \"model_2\"\n",
      "_________________________________________________________________\n",
      "Layer (type)                 Output Shape              Param #   \n",
      "=================================================================\n",
      "input_2 (InputLayer)         [(None, 128)]             0         \n",
      "_________________________________________________________________\n",
      "dense_9 (Dense)              (None, 16)                2064      \n",
      "_________________________________________________________________\n",
      "dropout_2 (Dropout)          (None, 16)                0         \n",
      "_________________________________________________________________\n",
      "dense_10 (Dense)             (None, 8)                 136       \n",
      "_________________________________________________________________\n",
      "dropout_3 (Dropout)          (None, 8)                 0         \n",
      "_________________________________________________________________\n",
      "dense_11 (Dense)             (None, 1)                 9         \n",
      "=================================================================\n",
      "Total params: 2,209\n",
      "Trainable params: 2,209\n",
      "Non-trainable params: 0\n",
      "_________________________________________________________________\n"
     ]
    }
   ],
   "source": [
    "# Define the number of features\n",
    "max_features = X_train.shape[1]\n",
    "\n",
    "# Define the Model architecture\n",
    "input = keras.Input(shape = (max_features, ))\n",
    "x = keras.layers.Dense(32, activation='elu', kernel_initializer=\"he_normal\")(input)\n",
    "x = keras.layers.Dropout(0.5)(x)\n",
    "x = keras.layers.Dense(16, activation='elu', kernel_initializer=\"he_normal\")(input)\n",
    "x = keras.layers.Dropout(0.5)(x)\n",
    "x = keras.layers.Dense(8, activation='elu')(x)\n",
    "x = keras.layers.Dropout(0.5)(x)\n",
    "output = keras.layers.Dense(1, activation='sigmoid')(x)\n",
    "\n",
    "model = keras.Model(inputs=input, outputs=output)\n",
    "model.summary()\n",
    "#Image(keras.utils.model_to_dot(model,show_shapes=True,show_layer_names=False, dpi=100) \\\n",
    "#      .create(prog='dot', format='png'))"
   ]
  },
  {
   "cell_type": "code",
   "execution_count": 9,
   "metadata": {
    "_uuid": "5e470379b59e72b66cc024f62ba5ac514f7cf15b",
    "scrolled": true
   },
   "outputs": [
    {
     "name": "stdout",
     "output_type": "stream",
     "text": [
      "Train on 2800 samples, validate on 700 samples\n",
      "Epoch 1/200\n",
      "2800/2800 [==============================] - 0s 165us/sample - loss: 0.6650 - acc: 0.5879 - val_loss: 0.6363 - val_acc: 0.6257\n",
      "Epoch 2/200\n",
      "2800/2800 [==============================] - 0s 55us/sample - loss: 0.6509 - acc: 0.6132 - val_loss: 0.6230 - val_acc: 0.6557\n",
      "Epoch 3/200\n",
      "2800/2800 [==============================] - 0s 57us/sample - loss: 0.6257 - acc: 0.6504 - val_loss: 0.6100 - val_acc: 0.6743\n",
      "Epoch 4/200\n",
      "2800/2800 [==============================] - 0s 57us/sample - loss: 0.6227 - acc: 0.6554 - val_loss: 0.5986 - val_acc: 0.6857\n",
      "Epoch 5/200\n",
      "2800/2800 [==============================] - 0s 57us/sample - loss: 0.6140 - acc: 0.6675 - val_loss: 0.5889 - val_acc: 0.7071\n",
      "Epoch 6/200\n",
      "2800/2800 [==============================] - 0s 57us/sample - loss: 0.6044 - acc: 0.6771 - val_loss: 0.5815 - val_acc: 0.7029\n",
      "Epoch 7/200\n",
      "2800/2800 [==============================] - 0s 55us/sample - loss: 0.5993 - acc: 0.6889 - val_loss: 0.5743 - val_acc: 0.6957\n",
      "Epoch 8/200\n",
      "2800/2800 [==============================] - 0s 56us/sample - loss: 0.5868 - acc: 0.6886 - val_loss: 0.5714 - val_acc: 0.7043\n",
      "Epoch 9/200\n",
      "2800/2800 [==============================] - 0s 56us/sample - loss: 0.6003 - acc: 0.6921 - val_loss: 0.5663 - val_acc: 0.7057\n",
      "Epoch 10/200\n",
      "2800/2800 [==============================] - 0s 57us/sample - loss: 0.5895 - acc: 0.6907 - val_loss: 0.5648 - val_acc: 0.7057\n",
      "Epoch 11/200\n",
      "2800/2800 [==============================] - 0s 57us/sample - loss: 0.5877 - acc: 0.6979 - val_loss: 0.5628 - val_acc: 0.7071\n",
      "Epoch 12/200\n",
      "2800/2800 [==============================] - 0s 57us/sample - loss: 0.5900 - acc: 0.6989 - val_loss: 0.5621 - val_acc: 0.7071\n",
      "Epoch 13/200\n",
      "2800/2800 [==============================] - 0s 57us/sample - loss: 0.5861 - acc: 0.7000 - val_loss: 0.5616 - val_acc: 0.7086\n",
      "Epoch 14/200\n",
      "2800/2800 [==============================] - 0s 57us/sample - loss: 0.5860 - acc: 0.7096 - val_loss: 0.5614 - val_acc: 0.7029\n",
      "Epoch 15/200\n",
      "2800/2800 [==============================] - 0s 56us/sample - loss: 0.5806 - acc: 0.7139 - val_loss: 0.5617 - val_acc: 0.7043\n",
      "Epoch 16/200\n",
      "2800/2800 [==============================] - 0s 56us/sample - loss: 0.5771 - acc: 0.7057 - val_loss: 0.5599 - val_acc: 0.7057\n",
      "Epoch 17/200\n",
      "2800/2800 [==============================] - 0s 57us/sample - loss: 0.5835 - acc: 0.7025 - val_loss: 0.5603 - val_acc: 0.6986\n",
      "Epoch 18/200\n",
      "2800/2800 [==============================] - 0s 54us/sample - loss: 0.5830 - acc: 0.7007 - val_loss: 0.5607 - val_acc: 0.6971\n",
      "Epoch 19/200\n",
      "2800/2800 [==============================] - 0s 53us/sample - loss: 0.5798 - acc: 0.7061 - val_loss: 0.5615 - val_acc: 0.7043\n",
      "Epoch 20/200\n",
      "2800/2800 [==============================] - 0s 53us/sample - loss: 0.5780 - acc: 0.7043 - val_loss: 0.5595 - val_acc: 0.7057\n",
      "Epoch 21/200\n",
      "2800/2800 [==============================] - 0s 53us/sample - loss: 0.5773 - acc: 0.7043 - val_loss: 0.5621 - val_acc: 0.7043\n",
      "Epoch 22/200\n",
      "2800/2800 [==============================] - 0s 54us/sample - loss: 0.5806 - acc: 0.7029 - val_loss: 0.5615 - val_acc: 0.6971\n",
      "Epoch 23/200\n",
      "2800/2800 [==============================] - 0s 54us/sample - loss: 0.5732 - acc: 0.7064 - val_loss: 0.5594 - val_acc: 0.7043\n",
      "Epoch 24/200\n",
      "2800/2800 [==============================] - 0s 55us/sample - loss: 0.5773 - acc: 0.7068 - val_loss: 0.5596 - val_acc: 0.7043\n",
      "Epoch 25/200\n",
      "2800/2800 [==============================] - 0s 56us/sample - loss: 0.5814 - acc: 0.7057 - val_loss: 0.5600 - val_acc: 0.7014\n",
      "Epoch 26/200\n",
      "2800/2800 [==============================] - 0s 55us/sample - loss: 0.5784 - acc: 0.7079 - val_loss: 0.5601 - val_acc: 0.7057\n",
      "Epoch 27/200\n",
      "2800/2800 [==============================] - 0s 55us/sample - loss: 0.5731 - acc: 0.6975 - val_loss: 0.5624 - val_acc: 0.6986\n",
      "Epoch 28/200\n",
      "2800/2800 [==============================] - 0s 55us/sample - loss: 0.5732 - acc: 0.7021 - val_loss: 0.5641 - val_acc: 0.7000\n",
      "Epoch 29/200\n",
      "2800/2800 [==============================] - 0s 55us/sample - loss: 0.5775 - acc: 0.7018 - val_loss: 0.5619 - val_acc: 0.7000\n",
      "Epoch 30/200\n",
      "2800/2800 [==============================] - 0s 55us/sample - loss: 0.5805 - acc: 0.7032 - val_loss: 0.5606 - val_acc: 0.7029\n",
      "Epoch 31/200\n",
      "2800/2800 [==============================] - 0s 58us/sample - loss: 0.5733 - acc: 0.7057 - val_loss: 0.5608 - val_acc: 0.7071\n",
      "Epoch 32/200\n",
      "2800/2800 [==============================] - 0s 56us/sample - loss: 0.5735 - acc: 0.7139 - val_loss: 0.5604 - val_acc: 0.6986\n",
      "Epoch 33/200\n",
      "2800/2800 [==============================] - 0s 56us/sample - loss: 0.5750 - acc: 0.7054 - val_loss: 0.5596 - val_acc: 0.7029\n"
     ]
    }
   ],
   "source": [
    "# Train the Model\n",
    "model.compile(optimizer='adam', loss='binary_crossentropy', metrics=['acc'])\n",
    "history = model.fit(X_train, y_train, epochs=200, batch_size=64, \n",
    "                    validation_split=0.2, callbacks=[keras.callbacks.EarlyStopping(patience=10)])"
   ]
  },
  {
   "cell_type": "code",
   "execution_count": 10,
   "metadata": {
    "_uuid": "5e470379b59e72b66cc024f62ba5ac514f7cf15b"
   },
   "outputs": [
    {
     "data": {
      "image/png": "[encoded data removed]",
      "text/plain": [
       "<Figure size 432x288 with 1 Axes>"
      ]
     },
     "metadata": {
      "needs_background": "light"
     },
     "output_type": "display_data"
    }
   ],
   "source": [
    "plt.plot(history.history[\"loss\"], label=\"train loss\")\n",
    "plt.plot(history.history[\"val_loss\"], label=\"validation loss\")\n",
    "plt.legend()\n",
    "plt.title(\"Loss\")\n",
    "plt.show()"
   ]
  },
  {
   "cell_type": "markdown",
   "metadata": {
    "_uuid": "842573936f8fbc2fc01cbbd7ca485be6cb3601bb"
   },
   "source": [
    "### Make Submissions"
   ]
  },
  {
   "cell_type": "code",
   "execution_count": 13,
   "metadata": {
    "_uuid": "7b6db88f3e4dee0f7f2264916edda431ac7bb72b"
   },
   "outputs": [
    {
     "name": "stdout",
     "output_type": "stream",
     "text": [
      "'AE_submission_12151447.csv' is ready to submit.\n"
     ]
    }
   ],
   "source": [
    "pred = model.predict(X_test).flatten()\n",
    "t = pd.Timestamp.now()\n",
    "fname = f\"AE_submission_{t.month:02}{t.day:02}{t.hour:02}{t.minute:02}.csv\"\n",
    "submissions = pd.concat([pd.Series(IDtest, name=\"cust_id\"), pd.Series(pred, name=\"gender\")] ,axis=1)\n",
    "submissions.to_csv(fname, index=False)\n",
    "print(f\"'{fname}' is ready to submit.\")"
   ]
  },
  {
   "cell_type": "markdown",
   "metadata": {
    "_uuid": "db6a418af5947fb6d1546dc8949ac55663504f18"
   },
   "source": [
    "<font color='tomato'><font color=\"#CC3D3D\"><p>\n",
    "# End"
   ]
  }
 ],
 "metadata": {
  "kernelspec": {
   "display_name": "Python 3 (ipykernel)",
   "language": "python",
   "name": "python3"
  },
  "language_info": {
   "codemirror_mode": {
    "name": "ipython",
    "version": 3
   },
   "file_extension": ".py",
   "mimetype": "text/x-python",
   "name": "python",
   "nbconvert_exporter": "python",
   "pygments_lexer": "ipython3",
   "version": "3.9.13"
  }
 },
 "nbformat": 4,
 "nbformat_minor": 1
}
